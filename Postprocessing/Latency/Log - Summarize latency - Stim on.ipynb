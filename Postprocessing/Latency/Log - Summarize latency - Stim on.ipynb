{
 "cells": [
  {
   "cell_type": "code",
   "execution_count": 1,
   "id": "1cce64a4-6b13-4c38-82ce-d2fa067961b7",
   "metadata": {
    "execution": {
     "iopub.execute_input": "2024-04-28T19:20:35.768055Z",
     "iopub.status.busy": "2024-04-28T19:20:35.766942Z",
     "iopub.status.idle": "2024-04-28T19:20:36.627268Z",
     "shell.execute_reply": "2024-04-28T19:20:36.626642Z"
    },
    "papermill": {
     "duration": 0.872276,
     "end_time": "2024-04-28T19:20:36.628927",
     "exception": false,
     "start_time": "2024-04-28T19:20:35.756651",
     "status": "completed"
    },
    "tags": []
   },
   "outputs": [],
   "source": [
    "import sys\n",
    "from pathlib import Path\n",
    "\n",
    "import h5py as h5\n",
    "import numpy as np\n",
    "import pandas as pd\n",
    "import seaborn as sns\n",
    "\n",
    "sys.path.append('../../lib')\n",
    "from local_paths import analysis_dir"
   ]
  },
  {
   "cell_type": "markdown",
   "id": "32d08f53-226e-44d4-8fae-1b4fc6fd4395",
   "metadata": {
    "papermill": {
     "duration": 0.014105,
     "end_time": "2024-04-28T19:20:36.645656",
     "exception": false,
     "start_time": "2024-04-28T19:20:36.631551",
     "status": "completed"
    },
    "tags": []
   },
   "source": [
    "# Parameters"
   ]
  },
  {
   "cell_type": "code",
   "execution_count": 2,
   "id": "60677ccd-412b-4a2c-8a5d-8b8ff3d01ca3",
   "metadata": {
    "execution": {
     "iopub.execute_input": "2024-04-28T19:20:36.651300Z",
     "iopub.status.busy": "2024-04-28T19:20:36.650864Z",
     "iopub.status.idle": "2024-04-28T19:20:36.656133Z",
     "shell.execute_reply": "2024-04-28T19:20:36.654839Z"
    },
    "papermill": {
     "duration": 0.009735,
     "end_time": "2024-04-28T19:20:36.657569",
     "exception": false,
     "start_time": "2024-04-28T19:20:36.647834",
     "status": "completed"
    },
    "tags": [
     "parameters"
    ]
   },
   "outputs": [],
   "source": [
    "#============================================================================\n",
    "# analysis type and result path\n",
    "#============================================================================\n",
    "# - stim onset-aligned\n",
    "# analysis_name = 'stim_on'\n",
    "# results_subdir = 'fix0_self_consistency_boot200-t2hh'\n",
    "\n",
    "# - OR, fixation onset-aligned\n",
    "analysis_name = 'fix_on'\n",
    "results_subdir ='self_consistency_boot200-cp'\n",
    "\n",
    "output_sfx = ''\n",
    "\n",
    "#============================================================================\n",
    "# selection criteria\n",
    "#============================================================================\n",
    "boots_spread = 25\n",
    "min_clearance = 100\n",
    "min_boots_frac = 0.5\n",
    "\n",
    "# lower-clip stim-on latency at 0?  only relevant if analysis_name == stim_on\n",
    "clamp_stim_on = True"
   ]
  },
  {
   "cell_type": "code",
   "execution_count": 3,
   "id": "4854ee10",
   "metadata": {
    "execution": {
     "iopub.execute_input": "2024-04-28T19:20:36.663738Z",
     "iopub.status.busy": "2024-04-28T19:20:36.662982Z",
     "iopub.status.idle": "2024-04-28T19:20:36.668688Z",
     "shell.execute_reply": "2024-04-28T19:20:36.667591Z"
    },
    "papermill": {
     "duration": 0.01066,
     "end_time": "2024-04-28T19:20:36.670274",
     "exception": false,
     "start_time": "2024-04-28T19:20:36.659614",
     "status": "completed"
    },
    "tags": [
     "injected-parameters"
    ]
   },
   "outputs": [],
   "source": [
    "# Parameters\n",
    "analysis_name = \"stim_on\"\n",
    "results_subdir = \"fix0_self_consistency_boot200-t2hh\"\n"
   ]
  },
  {
   "cell_type": "markdown",
   "id": "194171b5-407a-4756-a724-edcd767b6c4b",
   "metadata": {
    "papermill": {
     "duration": 0.002779,
     "end_time": "2024-04-28T19:20:36.675328",
     "exception": false,
     "start_time": "2024-04-28T19:20:36.672549",
     "status": "completed"
    },
    "tags": []
   },
   "source": [
    "# Preamble"
   ]
  },
  {
   "cell_type": "code",
   "execution_count": 4,
   "id": "0f07cb20-6322-4ce7-8af6-e7850f555bb5",
   "metadata": {
    "execution": {
     "iopub.execute_input": "2024-04-28T19:20:36.683287Z",
     "iopub.status.busy": "2024-04-28T19:20:36.682685Z",
     "iopub.status.idle": "2024-04-28T19:20:36.691372Z",
     "shell.execute_reply": "2024-04-28T19:20:36.689765Z"
    },
    "papermill": {
     "duration": 0.014977,
     "end_time": "2024-04-28T19:20:36.693249",
     "exception": false,
     "start_time": "2024-04-28T19:20:36.678272",
     "status": "completed"
    },
    "tags": []
   },
   "outputs": [
    {
     "name": "stdout",
     "output_type": "stream",
     "text": [
      "results name tag: \n"
     ]
    }
   ],
   "source": [
    "results_dir = Path(analysis_dir+results_subdir).expanduser()\n",
    "assert results_dir.is_dir()\n",
    "\n",
    "if analysis_name == 'fix_on':\n",
    "    res_tag = results_dir.stem.replace('self_consistency_boot200-cp', '')\n",
    "else:\n",
    "    res_tag = results_dir.stem.replace('fix0_self_consistency_boot200-t2hh', '')\n",
    "if res_tag:\n",
    "    res_tag = '-' + res_tag\n",
    "print('results name tag:', res_tag)\n",
    "\n",
    "clamp_stim_on = clamp_stim_on and (analysis_name == 'stim_on')\n",
    "\n",
    "cols_to_save = ['Latency', 'Boots. stdev.', 'Clearance', 'T step', 'Boots. frac.']\n",
    "if analysis_name == 'fix_on':\n",
    "    cols_to_save += ['Peak 0 SC', 'Peak 0 time', 'Peak 1 SC', 'Peak 1 time']\n",
    "else:\n",
    "    cols_to_save += ['Peak SC', 'Peak time']"
   ]
  },
  {
   "cell_type": "markdown",
   "id": "a725b0f1-b77b-4723-9e3a-f69912e180d7",
   "metadata": {
    "papermill": {
     "duration": 0.003269,
     "end_time": "2024-04-28T19:20:36.699682",
     "exception": false,
     "start_time": "2024-04-28T19:20:36.696413",
     "status": "completed"
    },
    "tags": []
   },
   "source": [
    "# Load data"
   ]
  },
  {
   "cell_type": "code",
   "execution_count": 5,
   "id": "602ee17e-b77f-44d1-9c1d-65efeb0107fb",
   "metadata": {
    "execution": {
     "iopub.execute_input": "2024-04-28T19:20:36.708071Z",
     "iopub.status.busy": "2024-04-28T19:20:36.706990Z",
     "iopub.status.idle": "2024-04-28T19:20:41.354517Z",
     "shell.execute_reply": "2024-04-28T19:20:41.353919Z"
    },
    "papermill": {
     "duration": 4.653368,
     "end_time": "2024-04-28T19:20:41.356344",
     "exception": false,
     "start_time": "2024-04-28T19:20:36.702976",
     "status": "completed"
    },
    "tags": []
   },
   "outputs": [
    {
     "name": "stdout",
     "output_type": "stream",
     "text": [
      "(61808, 22)\n"
     ]
    }
   ],
   "source": [
    "df = []\n",
    "for fp in results_dir.glob('*.h5'):\n",
    "    with h5.File(fp, 'r') as f:\n",
    "        try:\n",
    "            if analysis_name == 'fix_on':\n",
    "                assert f['progress_report/crossing_point/all_done'][()]\n",
    "            else:\n",
    "                assert f['progress_report/time_to_half_height/all_done'][()]\n",
    "        except (KeyError, AssertionError):\n",
    "            continue\n",
    "\n",
    "    if analysis_name == 'fix_on':\n",
    "        df_ = pd.read_hdf(fp, 'crossing_point/latency_dataframe')\n",
    "    else:\n",
    "        try:\n",
    "            df_ = pd.read_hdf(fp, 'time_to_half_height/return_fixation/latency_dataframe')\n",
    "        except KeyError:\n",
    "            continue\n",
    "\n",
    "    df.append(df_)\n",
    "\n",
    "df = pd.concat(df).set_index(['Session', 'Level', 'Name'])\n",
    "assert not df.index.has_duplicates\n",
    "print(df.shape)"
   ]
  },
  {
   "cell_type": "markdown",
   "id": "ea96b35e-3835-4a21-853b-6a67e660e203",
   "metadata": {
    "papermill": {
     "duration": 0.003951,
     "end_time": "2024-04-28T19:20:41.365435",
     "exception": false,
     "start_time": "2024-04-28T19:20:41.361484",
     "status": "completed"
    },
    "tags": []
   },
   "source": [
    "# Select from all results"
   ]
  },
  {
   "cell_type": "code",
   "execution_count": 6,
   "id": "b2d48c03-0240-4c7e-8cdd-2476c6fae820",
   "metadata": {
    "execution": {
     "iopub.execute_input": "2024-04-28T19:20:41.372595Z",
     "iopub.status.busy": "2024-04-28T19:20:41.372234Z",
     "iopub.status.idle": "2024-04-28T19:20:41.381434Z",
     "shell.execute_reply": "2024-04-28T19:20:41.380265Z"
    },
    "papermill": {
     "duration": 0.016527,
     "end_time": "2024-04-28T19:20:41.384888",
     "exception": false,
     "start_time": "2024-04-28T19:20:41.368361",
     "status": "completed"
    },
    "tags": []
   },
   "outputs": [],
   "source": [
    "def select_latetency(\n",
    "        lat_df, analysis_name=analysis_name,\n",
    "        min_boots_frac=min_boots_frac, boots_spread=boots_spread,\n",
    "        min_clearance=min_clearance,\n",
    "        clamp_stim_on=clamp_stim_on):\n",
    "\n",
    "    df = lat_df.copy()\n",
    "    criteria = {}\n",
    "    criteria['Is valid'] = np.isfinite(lat_df['Latency'].values)\n",
    "\n",
    "    criteria['Clearance'] = lat_df['Clearance'].values >= min_clearance\n",
    "    if analysis_name == 'fix_on':\n",
    "        criteria['Peak time'] = (\n",
    "            (lat_df['Latency'].values >= lat_df['Peak 0 time'].values)\n",
    "            & (lat_df['Latency'].values <= lat_df['Peak 1 time'].values))\n",
    "    else:\n",
    "        criteria['Peak time'] = lat_df['Latency'].values <= lat_df['Peak time'].values\n",
    "\n",
    "    if clamp_stim_on:\n",
    "        criteria['Is positive'] = lat_df['Latency'].values > 0\n",
    "\n",
    "    criteria['Boots. frac.'] = lat_df['Boots. frac., train'].values >= min_boots_frac\n",
    "    criteria['Boots. spread'] = (\n",
    "        (np.abs(lat_df['Boots. bias, train'].values) < boots_spread)\n",
    "        & (lat_df['Boots. stdev., train'].values < boots_spread))\n",
    "    criteria['Boots. clearance'] = lat_df['Boots. mean clearance, train'].values >= min_clearance\n",
    "\n",
    "    for k, m in criteria.items():\n",
    "        print(f'criterion: {k:<20} passed: {m.mean()*100:.1f}% ({m.sum()} of {m.size})')\n",
    "    m = np.all(list(criteria.values()), axis=0)\n",
    "    print(f'criterion: {\"All\":<20} passed: {m.mean()*100:.1f}% ({m.sum()} of {m.size})')\n",
    "\n",
    "    return m"
   ]
  },
  {
   "cell_type": "code",
   "execution_count": 7,
   "id": "56cf4a5d-75fa-483e-8051-da1eb9a8eb54",
   "metadata": {
    "execution": {
     "iopub.execute_input": "2024-04-28T19:20:41.402168Z",
     "iopub.status.busy": "2024-04-28T19:20:41.401562Z",
     "iopub.status.idle": "2024-04-28T19:20:41.432738Z",
     "shell.execute_reply": "2024-04-28T19:20:41.431880Z"
    },
    "papermill": {
     "duration": 0.040221,
     "end_time": "2024-04-28T19:20:41.435597",
     "exception": false,
     "start_time": "2024-04-28T19:20:41.395376",
     "status": "completed"
    },
    "tags": []
   },
   "outputs": [
    {
     "name": "stdout",
     "output_type": "stream",
     "text": [
      "criterion: Is valid             passed: 92.1% (56896 of 61808)\n",
      "criterion: Clearance            passed: 42.7% (26396 of 61808)\n",
      "criterion: Peak time            passed: 76.0% (46988 of 61808)\n",
      "criterion: Is positive          passed: 60.1% (37152 of 61808)\n",
      "criterion: Boots. frac.         passed: 89.7% (55464 of 61808)\n",
      "criterion: Boots. spread        passed: 11.5% (7096 of 61808)\n",
      "criterion: Boots. clearance     passed: 58.9% (36397 of 61808)\n",
      "criterion: All                  passed: 5.7% (3541 of 61808)\n"
     ]
    }
   ],
   "source": [
    "lat_df = df.copy()\n",
    "lat_df['Selected'] = select_latetency(lat_df)"
   ]
  },
  {
   "cell_type": "code",
   "execution_count": 8,
   "id": "4b5badf9-d8d8-4d46-b27a-bfe13698b81b",
   "metadata": {
    "execution": {
     "iopub.execute_input": "2024-04-28T19:20:41.450049Z",
     "iopub.status.busy": "2024-04-28T19:20:41.449688Z",
     "iopub.status.idle": "2024-04-28T19:20:41.510497Z",
     "shell.execute_reply": "2024-04-28T19:20:41.509898Z"
    },
    "papermill": {
     "duration": 0.069896,
     "end_time": "2024-04-28T19:20:41.513431",
     "exception": false,
     "start_time": "2024-04-28T19:20:41.443535",
     "status": "completed"
    },
    "tags": []
   },
   "outputs": [],
   "source": [
    "lat_df.loc[lat_df['Selected'], cols_to_save].to_csv(\n",
    "    f'summary/{analysis_name}_latency{res_tag}{output_sfx}.csv.gz')"
   ]
  },
  {
   "cell_type": "markdown",
   "id": "8ab9d54d-53c2-4adf-a69f-00ede6d8a2d0",
   "metadata": {
    "papermill": {
     "duration": 0.006205,
     "end_time": "2024-04-28T19:20:41.528118",
     "exception": false,
     "start_time": "2024-04-28T19:20:41.521913",
     "status": "completed"
    },
    "tags": []
   },
   "source": [
    "# Summarize array-level results"
   ]
  },
  {
   "cell_type": "code",
   "execution_count": 9,
   "id": "f4cb5635-b94a-4c8e-b5b7-abb8a48ad7ed",
   "metadata": {
    "execution": {
     "iopub.execute_input": "2024-04-28T19:20:41.538632Z",
     "iopub.status.busy": "2024-04-28T19:20:41.538277Z",
     "iopub.status.idle": "2024-04-28T19:20:41.549645Z",
     "shell.execute_reply": "2024-04-28T19:20:41.548914Z"
    },
    "papermill": {
     "duration": 0.018548,
     "end_time": "2024-04-28T19:20:41.551448",
     "exception": false,
     "start_time": "2024-04-28T19:20:41.532900",
     "status": "completed"
    },
    "tags": []
   },
   "outputs": [],
   "source": [
    "arreg = pd.read_csv('../../db/bank_array_regions.csv').astype({'Array ID': str})\n",
    "arreg['Subject'] = [v[:2] for v in arreg['Session']]\n",
    "arreg = arreg.groupby(['Subject', 'Array ID']).first()"
   ]
  },
  {
   "cell_type": "code",
   "execution_count": 10,
   "id": "981c2341-1a19-4738-ac31-f0a21a52fb53",
   "metadata": {
    "execution": {
     "iopub.execute_input": "2024-04-28T19:20:41.561007Z",
     "iopub.status.busy": "2024-04-28T19:20:41.560642Z",
     "iopub.status.idle": "2024-04-28T19:20:41.589380Z",
     "shell.execute_reply": "2024-04-28T19:20:41.588723Z"
    },
    "papermill": {
     "duration": 0.036058,
     "end_time": "2024-04-28T19:20:41.592059",
     "exception": false,
     "start_time": "2024-04-28T19:20:41.556001",
     "status": "completed"
    },
    "tags": []
   },
   "outputs": [
    {
     "name": "stdout",
     "output_type": "stream",
     "text": [
      "criterion: Is valid             passed: 99.9% (880 of 881)\n",
      "criterion: Clearance            passed: 57.9% (510 of 881)\n",
      "criterion: Peak time            passed: 88.3% (778 of 881)\n",
      "criterion: Is positive          passed: 73.7% (649 of 881)\n",
      "criterion: Boots. frac.         passed: 97.4% (858 of 881)\n",
      "criterion: Boots. spread        passed: 30.3% (267 of 881)\n",
      "criterion: Boots. clearance     passed: 64.2% (566 of 881)\n",
      "criterion: All                  passed: 22.4% (197 of 881)\n"
     ]
    }
   ],
   "source": [
    "lat_df = df.reset_index()\n",
    "lat_df = lat_df[lat_df['Level']=='Array'].copy()\n",
    "lat_df['Selected'] = select_latetency(lat_df)"
   ]
  },
  {
   "cell_type": "code",
   "execution_count": 11,
   "id": "687a7ec8-02a5-4f90-995d-7155d82d54f2",
   "metadata": {
    "execution": {
     "iopub.execute_input": "2024-04-28T19:20:41.607683Z",
     "iopub.status.busy": "2024-04-28T19:20:41.607283Z",
     "iopub.status.idle": "2024-04-28T19:20:41.620985Z",
     "shell.execute_reply": "2024-04-28T19:20:41.619949Z"
    },
    "papermill": {
     "duration": 0.025577,
     "end_time": "2024-04-28T19:20:41.624849",
     "exception": false,
     "start_time": "2024-04-28T19:20:41.599272",
     "status": "completed"
    },
    "tags": []
   },
   "outputs": [],
   "source": [
    "adf = lat_df[lat_df['Selected']].copy()\n",
    "adf['Subject'] = [v[:2] for v in adf['Session']]\n",
    "adf['Region'] = arreg.loc[list(map(tuple, adf[['Subject', 'Name']].values))]['Region'].values"
   ]
  },
  {
   "cell_type": "code",
   "execution_count": 12,
   "id": "64c22943-3417-4e3e-a1f2-b1c62e82287b",
   "metadata": {
    "execution": {
     "iopub.execute_input": "2024-04-28T19:20:41.643129Z",
     "iopub.status.busy": "2024-04-28T19:20:41.642496Z",
     "iopub.status.idle": "2024-04-28T19:20:41.870547Z",
     "shell.execute_reply": "2024-04-28T19:20:41.869325Z"
    },
    "papermill": {
     "duration": 0.238844,
     "end_time": "2024-04-28T19:20:41.873625",
     "exception": false,
     "start_time": "2024-04-28T19:20:41.634781",
     "status": "completed"
    },
    "tags": []
   },
   "outputs": [
    {
     "name": "stdout",
     "output_type": "stream",
     "text": [
      "Array-level latencies, per session\n"
     ]
    },
    {
     "data": {
      "text/plain": [
       "<Axes: xlabel='Latency', ylabel='Density'>"
      ]
     },
     "execution_count": 12,
     "metadata": {},
     "output_type": "execute_result"
    },
    {
     "data": {
      "image/png": "[encoded data removed]",
      "text/plain": [
       "<Figure size 640x480 with 1 Axes>"
      ]
     },
     "metadata": {},
     "output_type": "display_data"
    }
   ],
   "source": [
    "print('Array-level latencies, per session')\n",
    "sns.histplot(data=adf, x='Latency', hue='Region', stat='density', element='poly', common_norm=False, fill=False)"
   ]
  },
  {
   "cell_type": "code",
   "execution_count": 13,
   "id": "896bf8b5-d559-48a4-b82f-3cf343422428",
   "metadata": {
    "execution": {
     "iopub.execute_input": "2024-04-28T19:20:41.891898Z",
     "iopub.status.busy": "2024-04-28T19:20:41.891267Z",
     "iopub.status.idle": "2024-04-28T19:20:42.102435Z",
     "shell.execute_reply": "2024-04-28T19:20:42.101809Z"
    },
    "papermill": {
     "duration": 0.22462,
     "end_time": "2024-04-28T19:20:42.107306",
     "exception": false,
     "start_time": "2024-04-28T19:20:41.882686",
     "status": "completed"
    },
    "tags": []
   },
   "outputs": [
    {
     "name": "stdout",
     "output_type": "stream",
     "text": [
      "Array-level latencies, per session\n",
      "After selecting for test boots frac\n"
     ]
    },
    {
     "data": {
      "image/png": "[encoded data removed]",
      "text/plain": [
       "<Figure size 640x480 with 1 Axes>"
      ]
     },
     "metadata": {},
     "output_type": "display_data"
    }
   ],
   "source": [
    "print('Array-level latencies, per session')\n",
    "print('After selecting for test boots frac')\n",
    "# note here and below, we select based on test boots frac because\n",
    "# 1) array-level results are never reported but used as default parameters\n",
    "# 2) as default parameters, the values should be reliable\n",
    "adf = adf[adf['Boots. stdev.'] < boots_spread]  # select once\n",
    "sns.histplot(data=adf, x='Latency', hue='Region', stat='density', element='poly', common_norm=False, fill=False);"
   ]
  },
  {
   "cell_type": "code",
   "execution_count": 14,
   "id": "0f54db29-b094-4781-9c05-9d0af246130f",
   "metadata": {
    "execution": {
     "iopub.execute_input": "2024-04-28T19:20:42.125761Z",
     "iopub.status.busy": "2024-04-28T19:20:42.125014Z",
     "iopub.status.idle": "2024-04-28T19:20:42.345611Z",
     "shell.execute_reply": "2024-04-28T19:20:42.345049Z"
    },
    "papermill": {
     "duration": 0.232785,
     "end_time": "2024-04-28T19:20:42.349869",
     "exception": false,
     "start_time": "2024-04-28T19:20:42.117084",
     "status": "completed"
    },
    "tags": []
   },
   "outputs": [
    {
     "name": "stdout",
     "output_type": "stream",
     "text": [
      "Array-level latencies, median across sessions\n"
     ]
    },
    {
     "data": {
      "text/html": [
       "<div>\n",
       "<style scoped>\n",
       "    .dataframe tbody tr th:only-of-type {\n",
       "        vertical-align: middle;\n",
       "    }\n",
       "\n",
       "    .dataframe tbody tr th {\n",
       "        vertical-align: top;\n",
       "    }\n",
       "\n",
       "    .dataframe thead th {\n",
       "        text-align: right;\n",
       "    }\n",
       "</style>\n",
       "<table border=\"1\" class=\"dataframe\">\n",
       "  <thead>\n",
       "    <tr style=\"text-align: right;\">\n",
       "      <th></th>\n",
       "      <th></th>\n",
       "      <th>Latency</th>\n",
       "      <th>Region</th>\n",
       "      <th>Selected</th>\n",
       "      <th>Boots. stdev.</th>\n",
       "    </tr>\n",
       "    <tr>\n",
       "      <th>Subject</th>\n",
       "      <th>Name</th>\n",
       "      <th></th>\n",
       "      <th></th>\n",
       "      <th></th>\n",
       "      <th></th>\n",
       "    </tr>\n",
       "  </thead>\n",
       "  <tbody>\n",
       "    <tr>\n",
       "      <th>An</th>\n",
       "      <th>1</th>\n",
       "      <td>40.777027</td>\n",
       "      <td>V1</td>\n",
       "      <td>1.0</td>\n",
       "      <td>2.829201</td>\n",
       "    </tr>\n",
       "    <tr>\n",
       "      <th>Bf</th>\n",
       "      <th>7</th>\n",
       "      <td>49.024391</td>\n",
       "      <td>V4</td>\n",
       "      <td>1.0</td>\n",
       "      <td>11.962906</td>\n",
       "    </tr>\n",
       "    <tr>\n",
       "      <th>Bo</th>\n",
       "      <th>3</th>\n",
       "      <td>85.643951</td>\n",
       "      <td>AIT</td>\n",
       "      <td>1.0</td>\n",
       "      <td>7.618403</td>\n",
       "    </tr>\n",
       "    <tr>\n",
       "      <th rowspan=\"3\" valign=\"top\">Fr</th>\n",
       "      <th>0</th>\n",
       "      <td>84.836067</td>\n",
       "      <td>CIT</td>\n",
       "      <td>1.0</td>\n",
       "      <td>5.733567</td>\n",
       "    </tr>\n",
       "    <tr>\n",
       "      <th>1</th>\n",
       "      <td>57.280407</td>\n",
       "      <td>CIT</td>\n",
       "      <td>1.0</td>\n",
       "      <td>7.333486</td>\n",
       "    </tr>\n",
       "    <tr>\n",
       "      <th>3</th>\n",
       "      <td>45.174843</td>\n",
       "      <td>V4</td>\n",
       "      <td>1.0</td>\n",
       "      <td>4.717983</td>\n",
       "    </tr>\n",
       "    <tr>\n",
       "      <th rowspan=\"3\" valign=\"top\">Lo</th>\n",
       "      <th>0</th>\n",
       "      <td>75.704193</td>\n",
       "      <td>CIT</td>\n",
       "      <td>1.0</td>\n",
       "      <td>7.568948</td>\n",
       "    </tr>\n",
       "    <tr>\n",
       "      <th>1</th>\n",
       "      <td>69.623894</td>\n",
       "      <td>CIT</td>\n",
       "      <td>1.0</td>\n",
       "      <td>4.245683</td>\n",
       "    </tr>\n",
       "    <tr>\n",
       "      <th>2</th>\n",
       "      <td>105.937500</td>\n",
       "      <td>CIT</td>\n",
       "      <td>1.0</td>\n",
       "      <td>4.825991</td>\n",
       "    </tr>\n",
       "    <tr>\n",
       "      <th rowspan=\"3\" valign=\"top\">Na</th>\n",
       "      <th>0</th>\n",
       "      <td>35.609756</td>\n",
       "      <td>V2</td>\n",
       "      <td>1.0</td>\n",
       "      <td>1.854954</td>\n",
       "    </tr>\n",
       "    <tr>\n",
       "      <th>1</th>\n",
       "      <td>63.704433</td>\n",
       "      <td>V4</td>\n",
       "      <td>1.0</td>\n",
       "      <td>2.251224</td>\n",
       "    </tr>\n",
       "    <tr>\n",
       "      <th>2</th>\n",
       "      <td>96.000000</td>\n",
       "      <td>AIT</td>\n",
       "      <td>1.0</td>\n",
       "      <td>4.788545</td>\n",
       "    </tr>\n",
       "    <tr>\n",
       "      <th>Oc</th>\n",
       "      <th>6</th>\n",
       "      <td>76.998276</td>\n",
       "      <td>AIT</td>\n",
       "      <td>1.0</td>\n",
       "      <td>4.187175</td>\n",
       "    </tr>\n",
       "    <tr>\n",
       "      <th rowspan=\"2\" valign=\"top\">Pa</th>\n",
       "      <th>1</th>\n",
       "      <td>77.222221</td>\n",
       "      <td>CIT</td>\n",
       "      <td>1.0</td>\n",
       "      <td>3.490224</td>\n",
       "    </tr>\n",
       "    <tr>\n",
       "      <th>2</th>\n",
       "      <td>60.719696</td>\n",
       "      <td>CIT</td>\n",
       "      <td>1.0</td>\n",
       "      <td>5.495264</td>\n",
       "    </tr>\n",
       "    <tr>\n",
       "      <th>Re</th>\n",
       "      <th>6</th>\n",
       "      <td>107.701866</td>\n",
       "      <td>AIT</td>\n",
       "      <td>1.0</td>\n",
       "      <td>7.037843</td>\n",
       "    </tr>\n",
       "    <tr>\n",
       "      <th rowspan=\"2\" valign=\"top\">Ve</th>\n",
       "      <th>2</th>\n",
       "      <td>184.625000</td>\n",
       "      <td>AIT</td>\n",
       "      <td>1.0</td>\n",
       "      <td>4.328618</td>\n",
       "    </tr>\n",
       "    <tr>\n",
       "      <th>3</th>\n",
       "      <td>117.094109</td>\n",
       "      <td>AIT</td>\n",
       "      <td>1.0</td>\n",
       "      <td>15.360119</td>\n",
       "    </tr>\n",
       "    <tr>\n",
       "      <th rowspan=\"2\" valign=\"top\">Ye</th>\n",
       "      <th>0</th>\n",
       "      <td>76.725349</td>\n",
       "      <td>CIT</td>\n",
       "      <td>1.0</td>\n",
       "      <td>8.482317</td>\n",
       "    </tr>\n",
       "    <tr>\n",
       "      <th>1</th>\n",
       "      <td>80.156250</td>\n",
       "      <td>CIT</td>\n",
       "      <td>1.0</td>\n",
       "      <td>4.622618</td>\n",
       "    </tr>\n",
       "  </tbody>\n",
       "</table>\n",
       "</div>"
      ],
      "text/plain": [
       "                 Latency Region  Selected  Boots. stdev.\n",
       "Subject Name                                            \n",
       "An      1      40.777027     V1       1.0       2.829201\n",
       "Bf      7      49.024391     V4       1.0      11.962906\n",
       "Bo      3      85.643951    AIT       1.0       7.618403\n",
       "Fr      0      84.836067    CIT       1.0       5.733567\n",
       "        1      57.280407    CIT       1.0       7.333486\n",
       "        3      45.174843     V4       1.0       4.717983\n",
       "Lo      0      75.704193    CIT       1.0       7.568948\n",
       "        1      69.623894    CIT       1.0       4.245683\n",
       "        2     105.937500    CIT       1.0       4.825991\n",
       "Na      0      35.609756     V2       1.0       1.854954\n",
       "        1      63.704433     V4       1.0       2.251224\n",
       "        2      96.000000    AIT       1.0       4.788545\n",
       "Oc      6      76.998276    AIT       1.0       4.187175\n",
       "Pa      1      77.222221    CIT       1.0       3.490224\n",
       "        2      60.719696    CIT       1.0       5.495264\n",
       "Re      6     107.701866    AIT       1.0       7.037843\n",
       "Ve      2     184.625000    AIT       1.0       4.328618\n",
       "        3     117.094109    AIT       1.0      15.360119\n",
       "Ye      0      76.725349    CIT       1.0       8.482317\n",
       "        1      80.156250    CIT       1.0       4.622618"
      ]
     },
     "execution_count": 14,
     "metadata": {},
     "output_type": "execute_result"
    },
    {
     "data": {
      "image/png": "[encoded data removed]",
      "text/plain": [
       "<Figure size 640x480 with 1 Axes>"
      ]
     },
     "metadata": {},
     "output_type": "display_data"
    }
   ],
   "source": [
    "print('Array-level latencies, median across sessions')\n",
    "df_ = adf.groupby(['Subject', 'Name']).agg({\n",
    "    'Latency': 'median', 'Region': 'first', 'Selected': 'mean', 'Boots. stdev.': 'median'})\n",
    "assert df_['Selected'].all()  # sanity check\n",
    "df_ = df_[df_['Boots. stdev.'] < boots_spread]\n",
    "sns.histplot(data=df_, x='Latency', hue='Region', stat='density', element='poly', common_norm=False, fill=False);\n",
    "df_"
   ]
  },
  {
   "cell_type": "code",
   "execution_count": 15,
   "id": "d054969a-c24c-4268-ad12-dae44cd22565",
   "metadata": {
    "execution": {
     "iopub.execute_input": "2024-04-28T19:20:42.374001Z",
     "iopub.status.busy": "2024-04-28T19:20:42.373470Z",
     "iopub.status.idle": "2024-04-28T19:20:42.391209Z",
     "shell.execute_reply": "2024-04-28T19:20:42.390022Z"
    },
    "papermill": {
     "duration": 0.030638,
     "end_time": "2024-04-28T19:20:42.393366",
     "exception": false,
     "start_time": "2024-04-28T19:20:42.362728",
     "status": "completed"
    },
    "tags": []
   },
   "outputs": [
    {
     "name": "stdout",
     "output_type": "stream",
     "text": [
      "Array-level latencies, median across arrays\n"
     ]
    },
    {
     "data": {
      "text/html": [
       "<div>\n",
       "<style scoped>\n",
       "    .dataframe tbody tr th:only-of-type {\n",
       "        vertical-align: middle;\n",
       "    }\n",
       "\n",
       "    .dataframe tbody tr th {\n",
       "        vertical-align: top;\n",
       "    }\n",
       "\n",
       "    .dataframe thead th {\n",
       "        text-align: right;\n",
       "    }\n",
       "</style>\n",
       "<table border=\"1\" class=\"dataframe\">\n",
       "  <thead>\n",
       "    <tr style=\"text-align: right;\">\n",
       "      <th></th>\n",
       "      <th>Latency</th>\n",
       "      <th>Selected</th>\n",
       "      <th>Boots. stdev.</th>\n",
       "    </tr>\n",
       "    <tr>\n",
       "      <th>Region</th>\n",
       "      <th></th>\n",
       "      <th></th>\n",
       "      <th></th>\n",
       "    </tr>\n",
       "  </thead>\n",
       "  <tbody>\n",
       "    <tr>\n",
       "      <th>AIT</th>\n",
       "      <td>101.850937</td>\n",
       "      <td>1.0</td>\n",
       "      <td>5.913194</td>\n",
       "    </tr>\n",
       "    <tr>\n",
       "      <th>CIT</th>\n",
       "      <td>76.725349</td>\n",
       "      <td>1.0</td>\n",
       "      <td>5.495264</td>\n",
       "    </tr>\n",
       "    <tr>\n",
       "      <th>V1</th>\n",
       "      <td>40.777027</td>\n",
       "      <td>1.0</td>\n",
       "      <td>2.829201</td>\n",
       "    </tr>\n",
       "    <tr>\n",
       "      <th>V2</th>\n",
       "      <td>35.609756</td>\n",
       "      <td>1.0</td>\n",
       "      <td>1.854954</td>\n",
       "    </tr>\n",
       "    <tr>\n",
       "      <th>V4</th>\n",
       "      <td>49.024391</td>\n",
       "      <td>1.0</td>\n",
       "      <td>4.717983</td>\n",
       "    </tr>\n",
       "  </tbody>\n",
       "</table>\n",
       "</div>"
      ],
      "text/plain": [
       "           Latency  Selected  Boots. stdev.\n",
       "Region                                     \n",
       "AIT     101.850937       1.0       5.913194\n",
       "CIT      76.725349       1.0       5.495264\n",
       "V1       40.777027       1.0       2.829201\n",
       "V2       35.609756       1.0       1.854954\n",
       "V4       49.024391       1.0       4.717983"
      ]
     },
     "execution_count": 15,
     "metadata": {},
     "output_type": "execute_result"
    }
   ],
   "source": [
    "print('Array-level latencies, median across arrays')\n",
    "df_.groupby('Region').median()"
   ]
  },
  {
   "cell_type": "code",
   "execution_count": 16,
   "id": "7fb92c62-86b1-4a76-b653-f9e146d9fdbc",
   "metadata": {
    "execution": {
     "iopub.execute_input": "2024-04-28T19:20:42.413669Z",
     "iopub.status.busy": "2024-04-28T19:20:42.413017Z",
     "iopub.status.idle": "2024-04-28T19:20:42.451278Z",
     "shell.execute_reply": "2024-04-28T19:20:42.450521Z"
    },
    "papermill": {
     "duration": 0.050494,
     "end_time": "2024-04-28T19:20:42.454605",
     "exception": false,
     "start_time": "2024-04-28T19:20:42.404111",
     "status": "completed"
    },
    "tags": []
   },
   "outputs": [
    {
     "data": {
      "text/html": [
       "<div>\n",
       "<style scoped>\n",
       "    .dataframe tbody tr th:only-of-type {\n",
       "        vertical-align: middle;\n",
       "    }\n",
       "\n",
       "    .dataframe tbody tr th {\n",
       "        vertical-align: top;\n",
       "    }\n",
       "\n",
       "    .dataframe thead th {\n",
       "        text-align: right;\n",
       "    }\n",
       "</style>\n",
       "<table border=\"1\" class=\"dataframe\">\n",
       "  <thead>\n",
       "    <tr style=\"text-align: right;\">\n",
       "      <th></th>\n",
       "      <th></th>\n",
       "      <th></th>\n",
       "      <th>Latency</th>\n",
       "      <th>Boots. stdev.</th>\n",
       "      <th>Clearance</th>\n",
       "      <th>T step</th>\n",
       "      <th>Boots. frac.</th>\n",
       "      <th>Peak SC</th>\n",
       "      <th>Peak time</th>\n",
       "      <th>Count</th>\n",
       "      <th>Region</th>\n",
       "    </tr>\n",
       "    <tr>\n",
       "      <th>Subject</th>\n",
       "      <th>Level</th>\n",
       "      <th>Name</th>\n",
       "      <th></th>\n",
       "      <th></th>\n",
       "      <th></th>\n",
       "      <th></th>\n",
       "      <th></th>\n",
       "      <th></th>\n",
       "      <th></th>\n",
       "      <th></th>\n",
       "      <th></th>\n",
       "    </tr>\n",
       "  </thead>\n",
       "  <tbody>\n",
       "    <tr>\n",
       "      <th>An</th>\n",
       "      <th>Array</th>\n",
       "      <th>1</th>\n",
       "      <td>40.777027</td>\n",
       "      <td>2.829201</td>\n",
       "      <td>171.941116</td>\n",
       "      <td>10.0</td>\n",
       "      <td>1.0</td>\n",
       "      <td>0.561523</td>\n",
       "      <td>80.0</td>\n",
       "      <td>9</td>\n",
       "      <td>V1</td>\n",
       "    </tr>\n",
       "    <tr>\n",
       "      <th>Bf</th>\n",
       "      <th>Array</th>\n",
       "      <th>7</th>\n",
       "      <td>49.024391</td>\n",
       "      <td>11.962906</td>\n",
       "      <td>249.024384</td>\n",
       "      <td>10.0</td>\n",
       "      <td>1.0</td>\n",
       "      <td>0.105469</td>\n",
       "      <td>70.0</td>\n",
       "      <td>1</td>\n",
       "      <td>V4</td>\n",
       "    </tr>\n",
       "    <tr>\n",
       "      <th>Bo</th>\n",
       "      <th>Array</th>\n",
       "      <th>3</th>\n",
       "      <td>85.643951</td>\n",
       "      <td>7.618403</td>\n",
       "      <td>269.534485</td>\n",
       "      <td>10.0</td>\n",
       "      <td>1.0</td>\n",
       "      <td>0.785156</td>\n",
       "      <td>145.0</td>\n",
       "      <td>10</td>\n",
       "      <td>AIT</td>\n",
       "    </tr>\n",
       "    <tr>\n",
       "      <th rowspan=\"3\" valign=\"top\">Fr</th>\n",
       "      <th rowspan=\"3\" valign=\"top\">Array</th>\n",
       "      <th>0</th>\n",
       "      <td>84.836067</td>\n",
       "      <td>5.733567</td>\n",
       "      <td>272.242981</td>\n",
       "      <td>10.0</td>\n",
       "      <td>1.0</td>\n",
       "      <td>0.611328</td>\n",
       "      <td>170.0</td>\n",
       "      <td>9</td>\n",
       "      <td>CIT</td>\n",
       "    </tr>\n",
       "    <tr>\n",
       "      <th>1</th>\n",
       "      <td>57.280407</td>\n",
       "      <td>7.333486</td>\n",
       "      <td>257.819763</td>\n",
       "      <td>10.0</td>\n",
       "      <td>1.0</td>\n",
       "      <td>0.643555</td>\n",
       "      <td>100.0</td>\n",
       "      <td>3</td>\n",
       "      <td>CIT</td>\n",
       "    </tr>\n",
       "    <tr>\n",
       "      <th>3</th>\n",
       "      <td>45.174843</td>\n",
       "      <td>4.717983</td>\n",
       "      <td>211.568298</td>\n",
       "      <td>10.0</td>\n",
       "      <td>1.0</td>\n",
       "      <td>0.636230</td>\n",
       "      <td>110.0</td>\n",
       "      <td>12</td>\n",
       "      <td>V4</td>\n",
       "    </tr>\n",
       "    <tr>\n",
       "      <th rowspan=\"3\" valign=\"top\">Lo</th>\n",
       "      <th rowspan=\"3\" valign=\"top\">Array</th>\n",
       "      <th>0</th>\n",
       "      <td>75.704193</td>\n",
       "      <td>7.568948</td>\n",
       "      <td>259.562958</td>\n",
       "      <td>10.0</td>\n",
       "      <td>1.0</td>\n",
       "      <td>0.634766</td>\n",
       "      <td>115.0</td>\n",
       "      <td>10</td>\n",
       "      <td>CIT</td>\n",
       "    </tr>\n",
       "    <tr>\n",
       "      <th>1</th>\n",
       "      <td>69.623894</td>\n",
       "      <td>4.245683</td>\n",
       "      <td>251.385254</td>\n",
       "      <td>10.0</td>\n",
       "      <td>1.0</td>\n",
       "      <td>0.693848</td>\n",
       "      <td>130.0</td>\n",
       "      <td>6</td>\n",
       "      <td>CIT</td>\n",
       "    </tr>\n",
       "    <tr>\n",
       "      <th>2</th>\n",
       "      <td>105.937500</td>\n",
       "      <td>4.825991</td>\n",
       "      <td>124.321938</td>\n",
       "      <td>10.0</td>\n",
       "      <td>1.0</td>\n",
       "      <td>0.551758</td>\n",
       "      <td>180.0</td>\n",
       "      <td>3</td>\n",
       "      <td>CIT</td>\n",
       "    </tr>\n",
       "    <tr>\n",
       "      <th rowspan=\"3\" valign=\"top\">Na</th>\n",
       "      <th rowspan=\"3\" valign=\"top\">Array</th>\n",
       "      <th>0</th>\n",
       "      <td>35.609756</td>\n",
       "      <td>1.854954</td>\n",
       "      <td>235.609756</td>\n",
       "      <td>10.0</td>\n",
       "      <td>1.0</td>\n",
       "      <td>0.580078</td>\n",
       "      <td>70.0</td>\n",
       "      <td>1</td>\n",
       "      <td>V2</td>\n",
       "    </tr>\n",
       "    <tr>\n",
       "      <th>1</th>\n",
       "      <td>63.704433</td>\n",
       "      <td>2.251224</td>\n",
       "      <td>224.259583</td>\n",
       "      <td>10.0</td>\n",
       "      <td>1.0</td>\n",
       "      <td>0.606934</td>\n",
       "      <td>100.0</td>\n",
       "      <td>16</td>\n",
       "      <td>V4</td>\n",
       "    </tr>\n",
       "    <tr>\n",
       "      <th>2</th>\n",
       "      <td>96.000000</td>\n",
       "      <td>4.788545</td>\n",
       "      <td>116.127663</td>\n",
       "      <td>10.0</td>\n",
       "      <td>1.0</td>\n",
       "      <td>0.388672</td>\n",
       "      <td>170.0</td>\n",
       "      <td>1</td>\n",
       "      <td>AIT</td>\n",
       "    </tr>\n",
       "    <tr>\n",
       "      <th>Oc</th>\n",
       "      <th>Array</th>\n",
       "      <th>6</th>\n",
       "      <td>76.998276</td>\n",
       "      <td>4.187175</td>\n",
       "      <td>220.447235</td>\n",
       "      <td>10.0</td>\n",
       "      <td>1.0</td>\n",
       "      <td>0.596191</td>\n",
       "      <td>110.0</td>\n",
       "      <td>2</td>\n",
       "      <td>AIT</td>\n",
       "    </tr>\n",
       "    <tr>\n",
       "      <th rowspan=\"2\" valign=\"top\">Pa</th>\n",
       "      <th rowspan=\"2\" valign=\"top\">Array</th>\n",
       "      <th>1</th>\n",
       "      <td>77.222221</td>\n",
       "      <td>3.490224</td>\n",
       "      <td>272.585236</td>\n",
       "      <td>10.0</td>\n",
       "      <td>1.0</td>\n",
       "      <td>0.623047</td>\n",
       "      <td>140.0</td>\n",
       "      <td>35</td>\n",
       "      <td>CIT</td>\n",
       "    </tr>\n",
       "    <tr>\n",
       "      <th>2</th>\n",
       "      <td>60.719696</td>\n",
       "      <td>5.495264</td>\n",
       "      <td>248.985504</td>\n",
       "      <td>10.0</td>\n",
       "      <td>1.0</td>\n",
       "      <td>0.608398</td>\n",
       "      <td>130.0</td>\n",
       "      <td>35</td>\n",
       "      <td>CIT</td>\n",
       "    </tr>\n",
       "    <tr>\n",
       "      <th>Re</th>\n",
       "      <th>Array</th>\n",
       "      <th>6</th>\n",
       "      <td>107.701866</td>\n",
       "      <td>7.037843</td>\n",
       "      <td>259.013611</td>\n",
       "      <td>10.0</td>\n",
       "      <td>1.0</td>\n",
       "      <td>0.784180</td>\n",
       "      <td>200.0</td>\n",
       "      <td>5</td>\n",
       "      <td>AIT</td>\n",
       "    </tr>\n",
       "    <tr>\n",
       "      <th rowspan=\"2\" valign=\"top\">Ve</th>\n",
       "      <th rowspan=\"2\" valign=\"top\">Array</th>\n",
       "      <th>2</th>\n",
       "      <td>184.625000</td>\n",
       "      <td>4.328618</td>\n",
       "      <td>185.375000</td>\n",
       "      <td>10.0</td>\n",
       "      <td>1.0</td>\n",
       "      <td>0.252930</td>\n",
       "      <td>270.0</td>\n",
       "      <td>1</td>\n",
       "      <td>AIT</td>\n",
       "    </tr>\n",
       "    <tr>\n",
       "      <th>3</th>\n",
       "      <td>117.094109</td>\n",
       "      <td>15.360119</td>\n",
       "      <td>252.905884</td>\n",
       "      <td>10.0</td>\n",
       "      <td>1.0</td>\n",
       "      <td>0.441406</td>\n",
       "      <td>185.0</td>\n",
       "      <td>2</td>\n",
       "      <td>AIT</td>\n",
       "    </tr>\n",
       "    <tr>\n",
       "      <th rowspan=\"2\" valign=\"top\">Ye</th>\n",
       "      <th rowspan=\"2\" valign=\"top\">Array</th>\n",
       "      <th>0</th>\n",
       "      <td>76.725349</td>\n",
       "      <td>8.482317</td>\n",
       "      <td>236.993240</td>\n",
       "      <td>10.0</td>\n",
       "      <td>1.0</td>\n",
       "      <td>0.428711</td>\n",
       "      <td>150.0</td>\n",
       "      <td>21</td>\n",
       "      <td>CIT</td>\n",
       "    </tr>\n",
       "    <tr>\n",
       "      <th>1</th>\n",
       "      <td>80.156250</td>\n",
       "      <td>4.622618</td>\n",
       "      <td>271.488098</td>\n",
       "      <td>10.0</td>\n",
       "      <td>1.0</td>\n",
       "      <td>0.502930</td>\n",
       "      <td>160.0</td>\n",
       "      <td>7</td>\n",
       "      <td>CIT</td>\n",
       "    </tr>\n",
       "  </tbody>\n",
       "</table>\n",
       "</div>"
      ],
      "text/plain": [
       "                       Latency  Boots. stdev.   Clearance  T step   \n",
       "Subject Level Name                                                  \n",
       "An      Array 1      40.777027       2.829201  171.941116    10.0  \\\n",
       "Bf      Array 7      49.024391      11.962906  249.024384    10.0   \n",
       "Bo      Array 3      85.643951       7.618403  269.534485    10.0   \n",
       "Fr      Array 0      84.836067       5.733567  272.242981    10.0   \n",
       "              1      57.280407       7.333486  257.819763    10.0   \n",
       "              3      45.174843       4.717983  211.568298    10.0   \n",
       "Lo      Array 0      75.704193       7.568948  259.562958    10.0   \n",
       "              1      69.623894       4.245683  251.385254    10.0   \n",
       "              2     105.937500       4.825991  124.321938    10.0   \n",
       "Na      Array 0      35.609756       1.854954  235.609756    10.0   \n",
       "              1      63.704433       2.251224  224.259583    10.0   \n",
       "              2      96.000000       4.788545  116.127663    10.0   \n",
       "Oc      Array 6      76.998276       4.187175  220.447235    10.0   \n",
       "Pa      Array 1      77.222221       3.490224  272.585236    10.0   \n",
       "              2      60.719696       5.495264  248.985504    10.0   \n",
       "Re      Array 6     107.701866       7.037843  259.013611    10.0   \n",
       "Ve      Array 2     184.625000       4.328618  185.375000    10.0   \n",
       "              3     117.094109      15.360119  252.905884    10.0   \n",
       "Ye      Array 0      76.725349       8.482317  236.993240    10.0   \n",
       "              1      80.156250       4.622618  271.488098    10.0   \n",
       "\n",
       "                    Boots. frac.   Peak SC  Peak time  Count Region  \n",
       "Subject Level Name                                                   \n",
       "An      Array 1              1.0  0.561523       80.0      9     V1  \n",
       "Bf      Array 7              1.0  0.105469       70.0      1     V4  \n",
       "Bo      Array 3              1.0  0.785156      145.0     10    AIT  \n",
       "Fr      Array 0              1.0  0.611328      170.0      9    CIT  \n",
       "              1              1.0  0.643555      100.0      3    CIT  \n",
       "              3              1.0  0.636230      110.0     12     V4  \n",
       "Lo      Array 0              1.0  0.634766      115.0     10    CIT  \n",
       "              1              1.0  0.693848      130.0      6    CIT  \n",
       "              2              1.0  0.551758      180.0      3    CIT  \n",
       "Na      Array 0              1.0  0.580078       70.0      1     V2  \n",
       "              1              1.0  0.606934      100.0     16     V4  \n",
       "              2              1.0  0.388672      170.0      1    AIT  \n",
       "Oc      Array 6              1.0  0.596191      110.0      2    AIT  \n",
       "Pa      Array 1              1.0  0.623047      140.0     35    CIT  \n",
       "              2              1.0  0.608398      130.0     35    CIT  \n",
       "Re      Array 6              1.0  0.784180      200.0      5    AIT  \n",
       "Ve      Array 2              1.0  0.252930      270.0      1    AIT  \n",
       "              3              1.0  0.441406      185.0      2    AIT  \n",
       "Ye      Array 0              1.0  0.428711      150.0     21    CIT  \n",
       "              1              1.0  0.502930      160.0      7    CIT  "
      ]
     },
     "execution_count": 16,
     "metadata": {},
     "output_type": "execute_result"
    }
   ],
   "source": [
    "# save array-level resuilts median across sessions\n",
    "gb = adf.groupby(['Subject', 'Name'])\n",
    "df_ = gb[cols_to_save].median()\n",
    "df_['Count'] = gb['Latency'].count()\n",
    "df_['Region'] = gb['Region'].first()\n",
    "df_['Level'] = 'Array'\n",
    "df_ = df_[df_['Boots. stdev.'] < boots_spread]  # select twice\n",
    "df_ = df_.reset_index().set_index(['Subject', 'Level', 'Name'])\n",
    "df_.to_csv(f'summary/{analysis_name}_latency{res_tag}{output_sfx}-array_level.csv.gz')\n",
    "df_"
   ]
  }
 ],
 "metadata": {
  "kernelspec": {
   "display_name": "Python 3 (ipykernel)",
   "language": "python",
   "name": "python3"
  },
  "language_info": {
   "codemirror_mode": {
    "name": "ipython",
    "version": 3
   },
   "file_extension": ".py",
   "mimetype": "text/x-python",
   "name": "python",
   "nbconvert_exporter": "python",
   "pygments_lexer": "ipython3",
   "version": "3.10.12"
  },
  "papermill": {
   "default_parameters": {},
   "duration": 8.309007,
   "end_time": "2024-04-28T19:20:42.893038",
   "environment_variables": {},
   "exception": null,
   "input_path": "Summarize latency.ipynb",
   "output_path": "Log - Summarize latency - Stim on.ipynb",
   "parameters": {
    "analysis_name": "stim_on",
    "results_subdir": "fix0_self_consistency_boot200-t2hh"
   },
   "start_time": "2024-04-28T19:20:34.584031",
   "version": "2.5.0"
  }
 },
 "nbformat": 4,
 "nbformat_minor": 5
}