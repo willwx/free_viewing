{
 "cells": [
  {
   "cell_type": "code",
   "execution_count": null,
   "id": "1cce64a4-6b13-4c38-82ce-d2fa067961b7",
   "metadata": {},
   "outputs": [],
   "source": [
    "import sys\n",
    "from pathlib import Path\n",
    "\n",
    "import h5py as h5\n",
    "import numpy as np\n",
    "import pandas as pd\n",
    "import seaborn as sns\n",
    "\n",
    "sys.path.append('../../lib')\n",
    "from local_paths import analysis_dir"
   ]
  },
  {
   "cell_type": "markdown",
   "id": "32d08f53-226e-44d4-8fae-1b4fc6fd4395",
   "metadata": {},
   "source": [
    "# Parameters"
   ]
  },
  {
   "cell_type": "code",
   "execution_count": null,
   "id": "60677ccd-412b-4a2c-8a5d-8b8ff3d01ca3",
   "metadata": {
    "tags": [
     "parameters"
    ]
   },
   "outputs": [],
   "source": [
    "#============================================================================\n",
    "# analysis type and result path\n",
    "#============================================================================\n",
    "# - stim onset-aligned\n",
    "# analysis_name = 'stim_on'\n",
    "# results_subdir = 'fix0_self_consistency_boot200-t2hh'\n",
    "\n",
    "# - OR, fixation onset-aligned\n",
    "analysis_name = 'fix_on'\n",
    "results_subdir ='self_consistency_boot200-cp'\n",
    "\n",
    "output_sfx = ''\n",
    "\n",
    "#============================================================================\n",
    "# selection criteria\n",
    "#============================================================================\n",
    "boots_spread = 25\n",
    "min_clearance = 100\n",
    "min_boots_frac = 0.5\n",
    "\n",
    "# lower-clip stim-on latency at 0?  only relevant if analysis_name == stim_on\n",
    "clamp_stim_on = True"
   ]
  },
  {
   "cell_type": "markdown",
   "id": "194171b5-407a-4756-a724-edcd767b6c4b",
   "metadata": {},
   "source": [
    "# Preamble"
   ]
  },
  {
   "cell_type": "code",
   "execution_count": null,
   "id": "0f07cb20-6322-4ce7-8af6-e7850f555bb5",
   "metadata": {},
   "outputs": [],
   "source": [
    "results_dir = Path(analysis_dir+results_subdir).expanduser()\n",
    "assert results_dir.is_dir()\n",
    "\n",
    "if analysis_name == 'fix_on':\n",
    "    res_tag = results_dir.stem.replace('self_consistency_boot200-cp', '')\n",
    "else:\n",
    "    res_tag = results_dir.stem.replace('fix0_self_consistency_boot200-t2hh', '')\n",
    "if res_tag:\n",
    "    res_tag = '-' + res_tag\n",
    "print('results name tag:', res_tag)\n",
    "\n",
    "clamp_stim_on = clamp_stim_on and (analysis_name == 'stim_on')\n",
    "\n",
    "cols_to_save = ['Latency', 'Boots. stdev.', 'Clearance', 'T step', 'Boots. frac.']\n",
    "if analysis_name == 'fix_on':\n",
    "    cols_to_save += ['Peak 0 SC', 'Peak 0 time', 'Peak 1 SC', 'Peak 1 time']\n",
    "else:\n",
    "    cols_to_save += ['Peak SC', 'Peak time']"
   ]
  },
  {
   "cell_type": "markdown",
   "id": "a725b0f1-b77b-4723-9e3a-f69912e180d7",
   "metadata": {},
   "source": [
    "# Load data"
   ]
  },
  {
   "cell_type": "code",
   "execution_count": null,
   "id": "602ee17e-b77f-44d1-9c1d-65efeb0107fb",
   "metadata": {},
   "outputs": [],
   "source": [
    "df = []\n",
    "for fp in results_dir.glob('*.h5'):\n",
    "    with h5.File(fp, 'r') as f:\n",
    "        try:\n",
    "            if analysis_name == 'fix_on':\n",
    "                assert f['progress_report/crossing_point/all_done'][()]\n",
    "            else:\n",
    "                assert f['progress_report/time_to_half_height/all_done'][()]\n",
    "        except (KeyError, AssertionError):\n",
    "            continue\n",
    "\n",
    "    if analysis_name == 'fix_on':\n",
    "        df_ = pd.read_hdf(fp, 'crossing_point/latency_dataframe')\n",
    "    else:\n",
    "        try:\n",
    "            df_ = pd.read_hdf(fp, 'time_to_half_height/return_fixation/latency_dataframe')\n",
    "        except KeyError:\n",
    "            continue\n",
    "\n",
    "    df.append(df_)\n",
    "\n",
    "df = pd.concat(df).set_index(['Session', 'Level', 'Name'])\n",
    "assert not df.index.has_duplicates\n",
    "print(df.shape)"
   ]
  },
  {
   "cell_type": "markdown",
   "id": "ea96b35e-3835-4a21-853b-6a67e660e203",
   "metadata": {},
   "source": [
    "# Select from all results"
   ]
  },
  {
   "cell_type": "code",
   "execution_count": null,
   "id": "b2d48c03-0240-4c7e-8cdd-2476c6fae820",
   "metadata": {},
   "outputs": [],
   "source": [
    "def select_latetency(\n",
    "        lat_df, analysis_name=analysis_name,\n",
    "        min_boots_frac=min_boots_frac, boots_spread=boots_spread,\n",
    "        min_clearance=min_clearance,\n",
    "        clamp_stim_on=clamp_stim_on):\n",
    "\n",
    "    df = lat_df.copy()\n",
    "    criteria = {}\n",
    "    criteria['Is valid'] = np.isfinite(lat_df['Latency'].values)\n",
    "\n",
    "    criteria['Clearance'] = lat_df['Clearance'].values >= min_clearance\n",
    "    if analysis_name == 'fix_on':\n",
    "        criteria['Peak time'] = (\n",
    "            (lat_df['Latency'].values >= lat_df['Peak 0 time'].values)\n",
    "            & (lat_df['Latency'].values <= lat_df['Peak 1 time'].values))\n",
    "    else:\n",
    "        criteria['Peak time'] = lat_df['Latency'].values <= lat_df['Peak time'].values\n",
    "\n",
    "    if clamp_stim_on:\n",
    "        criteria['Is positive'] = lat_df['Latency'].values > 0\n",
    "\n",
    "    criteria['Boots. frac.'] = lat_df['Boots. frac., train'].values >= min_boots_frac\n",
    "    criteria['Boots. spread'] = (\n",
    "        (np.abs(lat_df['Boots. bias, train'].values) < boots_spread)\n",
    "        & (lat_df['Boots. stdev., train'].values < boots_spread))\n",
    "    criteria['Boots. clearance'] = lat_df['Boots. mean clearance, train'].values >= min_clearance\n",
    "\n",
    "    for k, m in criteria.items():\n",
    "        print(f'criterion: {k:<20} passed: {m.mean()*100:.1f}% ({m.sum()} of {m.size})')\n",
    "    m = np.all(list(criteria.values()), axis=0)\n",
    "    print(f'criterion: {\"All\":<20} passed: {m.mean()*100:.1f}% ({m.sum()} of {m.size})')\n",
    "\n",
    "    return m"
   ]
  },
  {
   "cell_type": "code",
   "execution_count": null,
   "id": "56cf4a5d-75fa-483e-8051-da1eb9a8eb54",
   "metadata": {},
   "outputs": [],
   "source": [
    "lat_df = df.copy()\n",
    "lat_df['Selected'] = select_latetency(lat_df)"
   ]
  },
  {
   "cell_type": "code",
   "execution_count": null,
   "id": "4b5badf9-d8d8-4d46-b27a-bfe13698b81b",
   "metadata": {},
   "outputs": [],
   "source": [
    "lat_df.loc[lat_df['Selected'], cols_to_save].to_csv(\n",
    "    f'summary/{analysis_name}_latency{res_tag}{output_sfx}.csv.gz')"
   ]
  },
  {
   "cell_type": "markdown",
   "id": "8ab9d54d-53c2-4adf-a69f-00ede6d8a2d0",
   "metadata": {},
   "source": [
    "# Summarize array-level results"
   ]
  },
  {
   "cell_type": "code",
   "execution_count": null,
   "id": "f4cb5635-b94a-4c8e-b5b7-abb8a48ad7ed",
   "metadata": {},
   "outputs": [],
   "source": [
    "arreg = pd.read_csv('../../db/bank_array_regions.csv').astype({'Array ID': str})\n",
    "arreg['Subject'] = [v[:2] for v in arreg['Session']]\n",
    "arreg = arreg.groupby(['Subject', 'Array ID']).first()"
   ]
  },
  {
   "cell_type": "code",
   "execution_count": null,
   "id": "981c2341-1a19-4738-ac31-f0a21a52fb53",
   "metadata": {},
   "outputs": [],
   "source": [
    "lat_df = df.reset_index()\n",
    "lat_df = lat_df[lat_df['Level']=='Array'].copy()\n",
    "lat_df['Selected'] = select_latetency(lat_df)"
   ]
  },
  {
   "cell_type": "code",
   "execution_count": null,
   "id": "687a7ec8-02a5-4f90-995d-7155d82d54f2",
   "metadata": {},
   "outputs": [],
   "source": [
    "adf = lat_df[lat_df['Selected']].copy()\n",
    "adf['Subject'] = [v[:2] for v in adf['Session']]\n",
    "adf['Region'] = arreg.loc[list(map(tuple, adf[['Subject', 'Name']].values))]['Region'].values"
   ]
  },
  {
   "cell_type": "code",
   "execution_count": null,
   "id": "64c22943-3417-4e3e-a1f2-b1c62e82287b",
   "metadata": {},
   "outputs": [],
   "source": [
    "print('Array-level latencies, per session')\n",
    "sns.histplot(data=adf, x='Latency', hue='Region', stat='density', element='poly', common_norm=False, fill=False)"
   ]
  },
  {
   "cell_type": "code",
   "execution_count": null,
   "id": "896bf8b5-d559-48a4-b82f-3cf343422428",
   "metadata": {},
   "outputs": [],
   "source": [
    "print('Array-level latencies, per session')\n",
    "print('After selecting for test boots frac')\n",
    "# note here and below, we select based on test boots frac because\n",
    "# 1) array-level results are never reported but used as default parameters\n",
    "# 2) as default parameters, the values should be reliable\n",
    "adf = adf[adf['Boots. stdev.'] < boots_spread]  # select once\n",
    "sns.histplot(data=adf, x='Latency', hue='Region', stat='density', element='poly', common_norm=False, fill=False);"
   ]
  },
  {
   "cell_type": "code",
   "execution_count": null,
   "id": "0f54db29-b094-4781-9c05-9d0af246130f",
   "metadata": {},
   "outputs": [],
   "source": [
    "print('Array-level latencies, median across sessions')\n",
    "df_ = adf.groupby(['Subject', 'Name']).agg({\n",
    "    'Latency': 'median', 'Region': 'first', 'Selected': 'mean', 'Boots. stdev.': 'median'})\n",
    "assert df_['Selected'].all()  # sanity check\n",
    "df_ = df_[df_['Boots. stdev.'] < boots_spread]\n",
    "sns.histplot(data=df_, x='Latency', hue='Region', stat='density', element='poly', common_norm=False, fill=False);\n",
    "df_"
   ]
  },
  {
   "cell_type": "code",
   "execution_count": null,
   "id": "d054969a-c24c-4268-ad12-dae44cd22565",
   "metadata": {},
   "outputs": [],
   "source": [
    "print('Array-level latencies, median across arrays')\n",
    "df_.groupby('Region').median()"
   ]
  },
  {
   "cell_type": "code",
   "execution_count": null,
   "id": "7fb92c62-86b1-4a76-b653-f9e146d9fdbc",
   "metadata": {},
   "outputs": [],
   "source": [
    "# save array-level resuilts median across sessions\n",
    "gb = adf.groupby(['Subject', 'Name'])\n",
    "df_ = gb[cols_to_save].median()\n",
    "df_['Count'] = gb['Latency'].count()\n",
    "df_['Region'] = gb['Region'].first()\n",
    "df_['Level'] = 'Array'\n",
    "df_ = df_[df_['Boots. stdev.'] < boots_spread]  # select twice\n",
    "df_ = df_.reset_index().set_index(['Subject', 'Level', 'Name'])\n",
    "df_.to_csv(f'summary/{analysis_name}_latency{res_tag}{output_sfx}-array_level.csv.gz')\n",
    "df_"
   ]
  }
 ],
 "metadata": {
  "kernelspec": {
   "display_name": "Python 3 (ipykernel)",
   "language": "python",
   "name": "python3"
  },
  "language_info": {
   "codemirror_mode": {
    "name": "ipython",
    "version": 3
   },
   "file_extension": ".py",
   "mimetype": "text/x-python",
   "name": "python",
   "nbconvert_exporter": "python",
   "pygments_lexer": "ipython3",
   "version": "3.10.12"
  }
 },
 "nbformat": 4,
 "nbformat_minor": 5
}
