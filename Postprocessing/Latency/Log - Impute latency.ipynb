{
 "cells": [
  {
   "cell_type": "code",
   "execution_count": 1,
   "id": "b93ff90e-db91-4e5e-9363-ae820f13dfa7",
   "metadata": {
    "execution": {
     "iopub.execute_input": "2024-04-28T19:21:35.583571Z",
     "iopub.status.busy": "2024-04-28T19:21:35.582847Z",
     "iopub.status.idle": "2024-04-28T19:21:36.378184Z",
     "shell.execute_reply": "2024-04-28T19:21:36.377315Z"
    },
    "papermill": {
     "duration": 0.809092,
     "end_time": "2024-04-28T19:21:36.381298",
     "exception": false,
     "start_time": "2024-04-28T19:21:35.572206",
     "status": "completed"
    },
    "tags": []
   },
   "outputs": [],
   "source": [
    "from pathlib import Path\n",
    "\n",
    "import matplotlib.pyplot as plt\n",
    "import numpy as np\n",
    "import pandas as pd\n",
    "import seaborn as sns"
   ]
  },
  {
   "cell_type": "markdown",
   "id": "34f32ac7-75d1-4e3c-9649-6136087da5e5",
   "metadata": {
    "papermill": {
     "duration": 0.014032,
     "end_time": "2024-04-28T19:21:36.402882",
     "exception": false,
     "start_time": "2024-04-28T19:21:36.388850",
     "status": "completed"
    },
    "tags": []
   },
   "source": [
    "# Parameters"
   ]
  },
  {
   "cell_type": "code",
   "execution_count": 2,
   "id": "1fe14688-aede-4e57-a61d-eecac08fd033",
   "metadata": {
    "execution": {
     "iopub.execute_input": "2024-04-28T19:21:36.417529Z",
     "iopub.status.busy": "2024-04-28T19:21:36.416876Z",
     "iopub.status.idle": "2024-04-28T19:21:36.423770Z",
     "shell.execute_reply": "2024-04-28T19:21:36.422417Z"
    },
    "papermill": {
     "duration": 0.017811,
     "end_time": "2024-04-28T19:21:36.426292",
     "exception": false,
     "start_time": "2024-04-28T19:21:36.408481",
     "status": "completed"
    },
    "tags": [
     "parameters"
    ]
   },
   "outputs": [],
   "source": [
    "hier = False\n",
    "kind = 'fix_on'\n",
    "\n",
    "res = 5  # ms\n",
    "\n",
    "# loosely based on region-average stim on latency\n",
    "byregion_defaults = {\n",
    "    'V1': 40,\n",
    "    'V2': 40,\n",
    "    'V4': 50,\n",
    "    'PIT': 65,\n",
    "    'CIT': 80,\n",
    "    'AIT': 100}"
   ]
  },
  {
   "cell_type": "code",
   "execution_count": 3,
   "id": "78176282",
   "metadata": {
    "execution": {
     "iopub.execute_input": "2024-04-28T19:21:36.441381Z",
     "iopub.status.busy": "2024-04-28T19:21:36.440592Z",
     "iopub.status.idle": "2024-04-28T19:21:36.445839Z",
     "shell.execute_reply": "2024-04-28T19:21:36.444683Z"
    },
    "papermill": {
     "duration": 0.016544,
     "end_time": "2024-04-28T19:21:36.449192",
     "exception": false,
     "start_time": "2024-04-28T19:21:36.432648",
     "status": "completed"
    },
    "tags": [
     "injected-parameters"
    ]
   },
   "outputs": [],
   "source": [
    "# Parameters\n",
    "hier = False\n"
   ]
  },
  {
   "cell_type": "markdown",
   "id": "caeeaf65-cd26-43ef-b2f9-40f5719d80bf",
   "metadata": {
    "papermill": {
     "duration": 0.005007,
     "end_time": "2024-04-28T19:21:36.461274",
     "exception": false,
     "start_time": "2024-04-28T19:21:36.456267",
     "status": "completed"
    },
    "tags": []
   },
   "source": [
    "# Load catalogs"
   ]
  },
  {
   "cell_type": "code",
   "execution_count": 4,
   "id": "4bcffb08-ec8a-40f8-9f98-acb16e99ad5e",
   "metadata": {
    "execution": {
     "iopub.execute_input": "2024-04-28T19:21:36.471948Z",
     "iopub.status.busy": "2024-04-28T19:21:36.471087Z",
     "iopub.status.idle": "2024-04-28T19:21:36.512660Z",
     "shell.execute_reply": "2024-04-28T19:21:36.512028Z"
    },
    "papermill": {
     "duration": 0.049195,
     "end_time": "2024-04-28T19:21:36.515094",
     "exception": false,
     "start_time": "2024-04-28T19:21:36.465899",
     "status": "completed"
    },
    "tags": []
   },
   "outputs": [],
   "source": [
    "tag = 'hier_' if hier else ''\n",
    "unit_df = pd.read_csv(f'../../db/{tag}units.csv.gz')\n",
    "unit_df['Subject'] = [v[:2] for v in unit_df['Session']]"
   ]
  },
  {
   "cell_type": "code",
   "execution_count": 5,
   "id": "b8e1eb64-57d5-45fb-859b-c4bc999aba6b",
   "metadata": {
    "execution": {
     "iopub.execute_input": "2024-04-28T19:21:36.531439Z",
     "iopub.status.busy": "2024-04-28T19:21:36.530931Z",
     "iopub.status.idle": "2024-04-28T19:21:36.628936Z",
     "shell.execute_reply": "2024-04-28T19:21:36.628324Z"
    },
    "papermill": {
     "duration": 0.109665,
     "end_time": "2024-04-28T19:21:36.632008",
     "exception": false,
     "start_time": "2024-04-28T19:21:36.522343",
     "status": "completed"
    },
    "tags": []
   },
   "outputs": [],
   "source": [
    "ar_df = pd.read_csv('../../db/bank_array_regions.csv')\n",
    "ar_df['Subject'] = [v[:2] for v in ar_df['Session']]\n",
    "ar_df = ar_df.groupby(['Subject', 'Array ID']).first()\n",
    "unit_df['Region'] = ar_df.loc[pd.MultiIndex.from_frame(unit_df[['Subject', 'Array ID']]), 'Region'].values"
   ]
  },
  {
   "cell_type": "code",
   "execution_count": 6,
   "id": "3bfb4cfd-3fce-4150-8bd2-ec6b269e80e7",
   "metadata": {
    "execution": {
     "iopub.execute_input": "2024-04-28T19:21:36.646648Z",
     "iopub.status.busy": "2024-04-28T19:21:36.646145Z",
     "iopub.status.idle": "2024-04-28T19:21:36.685170Z",
     "shell.execute_reply": "2024-04-28T19:21:36.684174Z"
    },
    "papermill": {
     "duration": 0.049157,
     "end_time": "2024-04-28T19:21:36.688368",
     "exception": false,
     "start_time": "2024-04-28T19:21:36.639211",
     "status": "completed"
    },
    "tags": []
   },
   "outputs": [],
   "source": [
    "slatdf_path = f'summary/{kind}_latency.csv.gz'\n",
    "alatdf_path = slatdf_path.replace('_latency', '_latency-array_level')\n",
    "\n",
    "assert Path(slatdf_path).is_file()\n",
    "assert Path(alatdf_path).is_file()\n",
    "\n",
    "slat_df = pd.read_csv(slatdf_path)\n",
    "if hier:\n",
    "    slat_df['Name'] = [f'{v0}/{v1}' for v0, v1 in slat_df[['Level', 'Name']].values]\n",
    "\n",
    "alat_df = pd.read_csv(alatdf_path)"
   ]
  },
  {
   "cell_type": "markdown",
   "id": "bf12d872-bc32-413b-9eb9-3662c016ac11",
   "metadata": {
    "papermill": {
     "duration": 0.003722,
     "end_time": "2024-04-28T19:21:36.698101",
     "exception": false,
     "start_time": "2024-04-28T19:21:36.694379",
     "status": "completed"
    },
    "tags": []
   },
   "source": [
    "# Impute values"
   ]
  },
  {
   "cell_type": "markdown",
   "id": "82e2e039-9902-4038-a1fd-8d9e4f00e02b",
   "metadata": {
    "papermill": {
     "duration": 0.003583,
     "end_time": "2024-04-28T19:21:36.705628",
     "exception": false,
     "start_time": "2024-04-28T19:21:36.702045",
     "status": "completed"
    },
    "tags": []
   },
   "source": [
    "### Apply resolution for estimates"
   ]
  },
  {
   "cell_type": "code",
   "execution_count": 7,
   "id": "31e6efc2-fde2-477f-86f3-2ba95beba4b9",
   "metadata": {
    "execution": {
     "iopub.execute_input": "2024-04-28T19:21:36.713237Z",
     "iopub.status.busy": "2024-04-28T19:21:36.712918Z",
     "iopub.status.idle": "2024-04-28T19:21:36.717871Z",
     "shell.execute_reply": "2024-04-28T19:21:36.717340Z"
    },
    "papermill": {
     "duration": 0.009699,
     "end_time": "2024-04-28T19:21:36.719176",
     "exception": false,
     "start_time": "2024-04-28T19:21:36.709477",
     "status": "completed"
    },
    "tags": []
   },
   "outputs": [],
   "source": [
    "slat_df['Latency'] = (slat_df['Latency']/res).round().astype(int) * res\n",
    "alat_df['Latency'] = (alat_df['Latency']/res).round().astype(int) * res"
   ]
  },
  {
   "cell_type": "markdown",
   "id": "01612a05-b605-40fc-bf74-eff2b955954e",
   "metadata": {
    "papermill": {
     "duration": 0.002635,
     "end_time": "2024-04-28T19:21:36.724364",
     "exception": false,
     "start_time": "2024-04-28T19:21:36.721729",
     "status": "completed"
    },
    "tags": []
   },
   "source": [
    "### Per unit, then channel, then array, within session"
   ]
  },
  {
   "cell_type": "code",
   "execution_count": 8,
   "id": "2912e0fb-fa97-40a9-abd8-f5f362155766",
   "metadata": {
    "execution": {
     "iopub.execute_input": "2024-04-28T19:21:36.731040Z",
     "iopub.status.busy": "2024-04-28T19:21:36.730706Z",
     "iopub.status.idle": "2024-04-28T19:21:36.861755Z",
     "shell.execute_reply": "2024-04-28T19:21:36.860499Z"
    },
    "papermill": {
     "duration": 0.136354,
     "end_time": "2024-04-28T19:21:36.863458",
     "exception": false,
     "start_time": "2024-04-28T19:21:36.727104",
     "status": "completed"
    },
    "tags": []
   },
   "outputs": [
    {
     "name": "stdout",
     "output_type": "stream",
     "text": [
      "4.7% (n = 3164) of units have Unit-level latency estimates\n",
      "\t4.7% (n = 3164) have no previous estimates\n",
      "95.3% (n = 63581 of units still lack an estimate\n",
      "\n",
      "7.0% (n = 4652) of units have Channel-level latency estimates\n",
      "\t4.1% (n = 2722) have no previous estimates\n",
      "91.2% (n = 60859 of units still lack an estimate\n",
      "\n",
      "26.7% (n = 17831) of units have Array-level latency estimates\n",
      "\t20.0% (n = 13316) have no previous estimates\n",
      "71.2% (n = 47543 of units still lack an estimate\n",
      "\n"
     ]
    }
   ],
   "source": [
    "assert 'Level' in slat_df.columns\n",
    "unit_df[['Latency', 'Boots. stdev.']] = np.nan\n",
    "mn = np.isnan(unit_df['Latency'].values)\n",
    "\n",
    "for level in ('Unit', 'Channel', 'Array'):\n",
    "    m = slat_df['Level'] == level\n",
    "    assert m.any()\n",
    "    sllat_df = slat_df[m].groupby(['Session', 'Name']).agg({'Latency':'median','Boots. stdev.':np.nanmedian})\n",
    "    level_col = {'Unit': 'Name', 'Array': 'Array ID'}.get(level, level)\n",
    "    if hier:\n",
    "        unit_index = pd.MultiIndex.from_arrays([\n",
    "            unit_df['Session'],\n",
    "            [f'{level}/{n}' if level!='Unit' else n for n in unit_df[level_col]]])\n",
    "    else:\n",
    "        unit_index = pd.MultiIndex.from_frame(\n",
    "            unit_df[['Session', level_col]].astype(str))\n",
    "    unit_index.names = ['Session', 'Name']\n",
    "    vals = sllat_df[['Latency', 'Boots. stdev.']].reindex(unit_index).values\n",
    "\n",
    "    msl_= np.isfinite(vals[:,0])\n",
    "    msl = mn & msl_\n",
    "    print(f'{msl_.mean()*100:.1f}% (n = {msl_.sum()}) of units have {level}-level latency estimates')\n",
    "    print(f'\\t{msl.mean()*100:.1f}% (n = {msl.sum()}) have no previous estimates')\n",
    "    unit_df.loc[msl, ['Latency', 'Boots. stdev.']] = vals[msl]\n",
    "    unit_df.loc[msl, 'Source'] = level\n",
    "\n",
    "    mn = np.isnan(unit_df['Latency'].values)\n",
    "    print(f'{mn.mean()*100:.1f}% (n = {mn.sum()} of units still lack an estimate')\n",
    "    print()"
   ]
  },
  {
   "cell_type": "markdown",
   "id": "055d2147-adde-4be9-bae1-b4af2fb70cb2",
   "metadata": {
    "papermill": {
     "duration": 0.002295,
     "end_time": "2024-04-28T19:21:36.868302",
     "exception": false,
     "start_time": "2024-04-28T19:21:36.866007",
     "status": "completed"
    },
    "tags": []
   },
   "source": [
    "### Per array, across sessions"
   ]
  },
  {
   "cell_type": "code",
   "execution_count": 9,
   "id": "61b63d41-5467-44b3-ae46-b1faaf9ff76f",
   "metadata": {
    "execution": {
     "iopub.execute_input": "2024-04-28T19:21:36.873781Z",
     "iopub.status.busy": "2024-04-28T19:21:36.873596Z",
     "iopub.status.idle": "2024-04-28T19:21:36.896743Z",
     "shell.execute_reply": "2024-04-28T19:21:36.896148Z"
    },
    "papermill": {
     "duration": 0.029305,
     "end_time": "2024-04-28T19:21:36.899851",
     "exception": false,
     "start_time": "2024-04-28T19:21:36.870546",
     "status": "completed"
    },
    "tags": []
   },
   "outputs": [
    {
     "name": "stdout",
     "output_type": "stream",
     "text": [
      "80.1% (n = 53441 of units have array-level latency estimates\n",
      "\t51.4% (n = 34326) have no previous estimates\n",
      "19.8% (n = 13217 of units still lack an estimate\n"
     ]
    }
   ],
   "source": [
    "df_ = alat_df.set_index(['Subject', 'Name'])\n",
    "assert not df_.index.has_duplicates\n",
    "vals = df_[['Latency', 'Boots. stdev.']].reindex(pd.MultiIndex.from_frame(unit_df[['Subject', 'Array ID']])).values\n",
    "ma = np.isfinite(vals[:,0])\n",
    "m = ma & np.isnan(unit_df['Latency'].values)\n",
    "unit_df.loc[m, ['Latency', 'Boots. stdev.']] = vals[m]\n",
    "unit_df.loc[m, 'Source'] = 'Array, across sess'\n",
    "\n",
    "print(f'{ma.mean()*100:.1f}% (n = {ma.sum()} of units have array-level latency estimates')\n",
    "print(f'\\t{m.mean()*100:.1f}% (n = {m.sum()}) have no previous estimates')\n",
    "\n",
    "mn = np.isnan(unit_df['Latency'].values)\n",
    "print(f'{mn.mean()*100:.1f}% (n = {mn.sum()} of units still lack an estimate')"
   ]
  },
  {
   "cell_type": "markdown",
   "id": "fd4c09d5-d87d-40ff-86d5-e0c3bbeac6b1",
   "metadata": {
    "papermill": {
     "duration": 0.006505,
     "end_time": "2024-04-28T19:21:36.914208",
     "exception": false,
     "start_time": "2024-04-28T19:21:36.907703",
     "status": "completed"
    },
    "tags": []
   },
   "source": [
    "### Per region (fixed default)"
   ]
  },
  {
   "cell_type": "code",
   "execution_count": 10,
   "id": "2b0e1a71-2389-429c-af85-e7d8aa264442",
   "metadata": {
    "execution": {
     "iopub.execute_input": "2024-04-28T19:21:36.924323Z",
     "iopub.status.busy": "2024-04-28T19:21:36.923598Z",
     "iopub.status.idle": "2024-04-28T19:21:36.941856Z",
     "shell.execute_reply": "2024-04-28T19:21:36.940816Z"
    },
    "papermill": {
     "duration": 0.024838,
     "end_time": "2024-04-28T19:21:36.943913",
     "exception": false,
     "start_time": "2024-04-28T19:21:36.919075",
     "status": "completed"
    },
    "tags": []
   },
   "outputs": [
    {
     "name": "stdout",
     "output_type": "stream",
     "text": [
      "19.8% (n = 13217 of units used region-default estimates\n",
      "0.0% (n = 0 of units still lack an estimate\n"
     ]
    }
   ],
   "source": [
    "mx = np.isnan(unit_df['Latency'].values)\n",
    "unit_df.loc[mx, 'Latency'] = [byregion_defaults[v] for v in unit_df.loc[mx,'Region'].values]\n",
    "unit_df.loc[mx, 'Source'] = 'Region default'\n",
    "print(f'{mx.mean()*100:.1f}% (n = {mx.sum()} of units used region-default estimates')\n",
    "\n",
    "mn = np.isnan(unit_df['Latency'].values)\n",
    "print(f'{mn.mean()*100:.1f}% (n = {mn.sum()} of units still lack an estimate')\n",
    "assert not mn.any()"
   ]
  },
  {
   "cell_type": "markdown",
   "id": "1dd62698-c5e4-45c1-81fa-7b4ee4b2ab9b",
   "metadata": {
    "papermill": {
     "duration": 0.004266,
     "end_time": "2024-04-28T19:21:36.952596",
     "exception": false,
     "start_time": "2024-04-28T19:21:36.948330",
     "status": "completed"
    },
    "tags": []
   },
   "source": [
    "### Save results"
   ]
  },
  {
   "cell_type": "code",
   "execution_count": 11,
   "id": "8ee27c27-850f-4cc7-9bc3-aff78df825cd",
   "metadata": {
    "execution": {
     "iopub.execute_input": "2024-04-28T19:21:36.961172Z",
     "iopub.status.busy": "2024-04-28T19:21:36.960618Z",
     "iopub.status.idle": "2024-04-28T19:21:37.162597Z",
     "shell.execute_reply": "2024-04-28T19:21:37.162023Z"
    },
    "papermill": {
     "duration": 0.209875,
     "end_time": "2024-04-28T19:21:37.165811",
     "exception": false,
     "start_time": "2024-04-28T19:21:36.955936",
     "status": "completed"
    },
    "tags": []
   },
   "outputs": [],
   "source": [
    "assert np.isfinite(unit_df['Latency']).all()\n",
    "assert all(len(v) for v in unit_df['Source'])\n",
    "df = unit_df[['Session', 'Name', 'Latency', 'Boots. stdev.', 'Source']]\n",
    "df = df.astype({'Latency': int}).round({'Boots. stdev.': 1})\n",
    "df.to_csv(f'../../db/per_{tag}unit_latency-{kind}.csv.gz', index=False)"
   ]
  },
  {
   "cell_type": "code",
   "execution_count": 12,
   "id": "9ee1b5a6-a17a-484f-9a58-a63c8d7332a1",
   "metadata": {
    "execution": {
     "iopub.execute_input": "2024-04-28T19:21:37.181588Z",
     "iopub.status.busy": "2024-04-28T19:21:37.181254Z",
     "iopub.status.idle": "2024-04-28T19:21:37.206087Z",
     "shell.execute_reply": "2024-04-28T19:21:37.205467Z"
    },
    "papermill": {
     "duration": 0.034433,
     "end_time": "2024-04-28T19:21:37.209109",
     "exception": false,
     "start_time": "2024-04-28T19:21:37.174676",
     "status": "completed"
    },
    "tags": []
   },
   "outputs": [
    {
     "name": "stdout",
     "output_type": "stream",
     "text": [
      "Fraction of estimates from each source:\n"
     ]
    },
    {
     "data": {
      "text/html": [
       "<div>\n",
       "<style scoped>\n",
       "    .dataframe tbody tr th:only-of-type {\n",
       "        vertical-align: middle;\n",
       "    }\n",
       "\n",
       "    .dataframe tbody tr th {\n",
       "        vertical-align: top;\n",
       "    }\n",
       "\n",
       "    .dataframe thead th {\n",
       "        text-align: right;\n",
       "    }\n",
       "</style>\n",
       "<table border=\"1\" class=\"dataframe\">\n",
       "  <thead>\n",
       "    <tr style=\"text-align: right;\">\n",
       "      <th></th>\n",
       "      <th>Session</th>\n",
       "      <th>Name</th>\n",
       "      <th>Latency</th>\n",
       "      <th>Boots. stdev.</th>\n",
       "    </tr>\n",
       "    <tr>\n",
       "      <th>Source</th>\n",
       "      <th></th>\n",
       "      <th></th>\n",
       "      <th></th>\n",
       "      <th></th>\n",
       "    </tr>\n",
       "  </thead>\n",
       "  <tbody>\n",
       "    <tr>\n",
       "      <th>Array</th>\n",
       "      <td>20.0</td>\n",
       "      <td>20.0</td>\n",
       "      <td>20.0</td>\n",
       "      <td>20.0</td>\n",
       "    </tr>\n",
       "    <tr>\n",
       "      <th>Array, across sess</th>\n",
       "      <td>51.4</td>\n",
       "      <td>51.4</td>\n",
       "      <td>51.4</td>\n",
       "      <td>51.4</td>\n",
       "    </tr>\n",
       "    <tr>\n",
       "      <th>Channel</th>\n",
       "      <td>4.1</td>\n",
       "      <td>4.1</td>\n",
       "      <td>4.1</td>\n",
       "      <td>4.1</td>\n",
       "    </tr>\n",
       "    <tr>\n",
       "      <th>Region default</th>\n",
       "      <td>19.8</td>\n",
       "      <td>19.8</td>\n",
       "      <td>19.8</td>\n",
       "      <td>0.0</td>\n",
       "    </tr>\n",
       "    <tr>\n",
       "      <th>Unit</th>\n",
       "      <td>4.7</td>\n",
       "      <td>4.7</td>\n",
       "      <td>4.7</td>\n",
       "      <td>4.7</td>\n",
       "    </tr>\n",
       "  </tbody>\n",
       "</table>\n",
       "</div>"
      ],
      "text/plain": [
       "                    Session  Name  Latency  Boots. stdev.\n",
       "Source                                                   \n",
       "Array                  20.0  20.0     20.0           20.0\n",
       "Array, across sess     51.4  51.4     51.4           51.4\n",
       "Channel                 4.1   4.1      4.1            4.1\n",
       "Region default         19.8  19.8     19.8            0.0\n",
       "Unit                    4.7   4.7      4.7            4.7"
      ]
     },
     "execution_count": 12,
     "metadata": {},
     "output_type": "execute_result"
    }
   ],
   "source": [
    "print('Fraction of estimates from each source:')\n",
    "(df.groupby(['Source']).count() / len(df) * 100).round(1)"
   ]
  },
  {
   "cell_type": "markdown",
   "id": "4a9ecb45-44fc-4f62-85fc-9012680c0b05",
   "metadata": {
    "papermill": {
     "duration": 0.002537,
     "end_time": "2024-04-28T19:21:37.214622",
     "exception": false,
     "start_time": "2024-04-28T19:21:37.212085",
     "status": "completed"
    },
    "tags": []
   },
   "source": [
    "### Summary plots"
   ]
  },
  {
   "cell_type": "code",
   "execution_count": 13,
   "id": "d2262a10-0d81-48b3-82d9-f4f4684490ab",
   "metadata": {
    "execution": {
     "iopub.execute_input": "2024-04-28T19:21:37.221961Z",
     "iopub.status.busy": "2024-04-28T19:21:37.221144Z",
     "iopub.status.idle": "2024-04-28T19:21:37.498093Z",
     "shell.execute_reply": "2024-04-28T19:21:37.497134Z"
    },
    "papermill": {
     "duration": 0.284753,
     "end_time": "2024-04-28T19:21:37.501914",
     "exception": false,
     "start_time": "2024-04-28T19:21:37.217161",
     "status": "completed"
    },
    "tags": []
   },
   "outputs": [
    {
     "data": {
      "image/png": "[encoded data removed]",
      "text/plain": [
       "<Figure size 640x480 with 1 Axes>"
      ]
     },
     "metadata": {},
     "output_type": "display_data"
    }
   ],
   "source": [
    "if hier:\n",
    "    m = unit_df['Source'] != 'Region default'\n",
    "    for level in unit_df['Level'].unique():\n",
    "        plt.figure()\n",
    "        sns.histplot(\n",
    "            data=unit_df[m&(unit_df['Level']==level)],\n",
    "            x='Latency', hue='Region', stat='density',\n",
    "            common_norm=False, binwidth=25, element='poly')\n",
    "        plt.title(level)\n",
    "else:\n",
    "    sns.histplot(\n",
    "        data=unit_df[unit_df['Source']!='Region default'],\n",
    "        x='Latency', hue='Region', stat='density',\n",
    "        common_norm=False, binwidth=25, element='poly')"
   ]
  }
 ],
 "metadata": {
  "kernelspec": {
   "display_name": "Python 3 (ipykernel)",
   "language": "python",
   "name": "python3"
  },
  "language_info": {
   "codemirror_mode": {
    "name": "ipython",
    "version": 3
   },
   "file_extension": ".py",
   "mimetype": "text/x-python",
   "name": "python",
   "nbconvert_exporter": "python",
   "pygments_lexer": "ipython3",
   "version": "3.10.12"
  },
  "papermill": {
   "default_parameters": {},
   "duration": 3.605079,
   "end_time": "2024-04-28T19:21:37.933384",
   "environment_variables": {},
   "exception": null,
   "input_path": "Impute latency.ipynb",
   "output_path": "Log - Impute latency.ipynb",
   "parameters": {
    "hier": false
   },
   "start_time": "2024-04-28T19:21:34.328305",
   "version": "2.5.0"
  }
 },
 "nbformat": 4,
 "nbformat_minor": 5
}