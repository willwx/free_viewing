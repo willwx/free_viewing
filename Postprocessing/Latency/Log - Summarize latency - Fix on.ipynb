{
 "cells": [
  {
   "cell_type": "code",
   "execution_count": 1,
   "id": "1cce64a4-6b13-4c38-82ce-d2fa067961b7",
   "metadata": {
    "execution": {
     "iopub.execute_input": "2024-04-28T19:20:26.214279Z",
     "iopub.status.busy": "2024-04-28T19:20:26.213710Z",
     "iopub.status.idle": "2024-04-28T19:20:27.053280Z",
     "shell.execute_reply": "2024-04-28T19:20:27.052315Z"
    },
    "papermill": {
     "duration": 0.853531,
     "end_time": "2024-04-28T19:20:27.056519",
     "exception": false,
     "start_time": "2024-04-28T19:20:26.202988",
     "status": "completed"
    },
    "tags": []
   },
   "outputs": [],
   "source": [
    "import sys\n",
    "from pathlib import Path\n",
    "\n",
    "import h5py as h5\n",
    "import numpy as np\n",
    "import pandas as pd\n",
    "import seaborn as sns\n",
    "\n",
    "sys.path.append('../../lib')\n",
    "from local_paths import analysis_dir"
   ]
  },
  {
   "cell_type": "markdown",
   "id": "32d08f53-226e-44d4-8fae-1b4fc6fd4395",
   "metadata": {
    "papermill": {
     "duration": 0.005996,
     "end_time": "2024-04-28T19:20:27.069963",
     "exception": false,
     "start_time": "2024-04-28T19:20:27.063967",
     "status": "completed"
    },
    "tags": []
   },
   "source": [
    "# Parameters"
   ]
  },
  {
   "cell_type": "code",
   "execution_count": 2,
   "id": "60677ccd-412b-4a2c-8a5d-8b8ff3d01ca3",
   "metadata": {
    "execution": {
     "iopub.execute_input": "2024-04-28T19:20:27.081415Z",
     "iopub.status.busy": "2024-04-28T19:20:27.080623Z",
     "iopub.status.idle": "2024-04-28T19:20:27.088258Z",
     "shell.execute_reply": "2024-04-28T19:20:27.086971Z"
    },
    "papermill": {
     "duration": 0.01508,
     "end_time": "2024-04-28T19:20:27.090037",
     "exception": false,
     "start_time": "2024-04-28T19:20:27.074957",
     "status": "completed"
    },
    "tags": [
     "parameters"
    ]
   },
   "outputs": [],
   "source": [
    "#============================================================================\n",
    "# analysis type and result path\n",
    "#============================================================================\n",
    "# - stim onset-aligned\n",
    "# analysis_name = 'stim_on'\n",
    "# results_subdir = 'fix0_self_consistency_boot200-t2hh'\n",
    "\n",
    "# - OR, fixation onset-aligned\n",
    "analysis_name = 'fix_on'\n",
    "results_subdir ='self_consistency_boot200-cp'\n",
    "\n",
    "output_sfx = ''\n",
    "\n",
    "#============================================================================\n",
    "# selection criteria\n",
    "#============================================================================\n",
    "boots_spread = 25\n",
    "min_clearance = 100\n",
    "min_boots_frac = 0.5\n",
    "\n",
    "# lower-clip stim-on latency at 0?  only relevant if analysis_name == stim_on\n",
    "clamp_stim_on = True"
   ]
  },
  {
   "cell_type": "code",
   "execution_count": 3,
   "id": "1ab245e2",
   "metadata": {
    "execution": {
     "iopub.execute_input": "2024-04-28T19:20:27.099734Z",
     "iopub.status.busy": "2024-04-28T19:20:27.099150Z",
     "iopub.status.idle": "2024-04-28T19:20:27.104797Z",
     "shell.execute_reply": "2024-04-28T19:20:27.103628Z"
    },
    "papermill": {
     "duration": 0.013758,
     "end_time": "2024-04-28T19:20:27.107061",
     "exception": false,
     "start_time": "2024-04-28T19:20:27.093303",
     "status": "completed"
    },
    "tags": [
     "injected-parameters"
    ]
   },
   "outputs": [],
   "source": [
    "# Parameters\n",
    "analysis_name = \"fix_on\"\n",
    "results_subdir = \"self_consistency_boot200-cp\"\n"
   ]
  },
  {
   "cell_type": "markdown",
   "id": "194171b5-407a-4756-a724-edcd767b6c4b",
   "metadata": {
    "papermill": {
     "duration": 0.003982,
     "end_time": "2024-04-28T19:20:27.115732",
     "exception": false,
     "start_time": "2024-04-28T19:20:27.111750",
     "status": "completed"
    },
    "tags": []
   },
   "source": [
    "# Preamble"
   ]
  },
  {
   "cell_type": "code",
   "execution_count": 4,
   "id": "0f07cb20-6322-4ce7-8af6-e7850f555bb5",
   "metadata": {
    "execution": {
     "iopub.execute_input": "2024-04-28T19:20:27.124964Z",
     "iopub.status.busy": "2024-04-28T19:20:27.124396Z",
     "iopub.status.idle": "2024-04-28T19:20:27.135560Z",
     "shell.execute_reply": "2024-04-28T19:20:27.134258Z"
    },
    "papermill": {
     "duration": 0.018139,
     "end_time": "2024-04-28T19:20:27.137440",
     "exception": false,
     "start_time": "2024-04-28T19:20:27.119301",
     "status": "completed"
    },
    "tags": []
   },
   "outputs": [
    {
     "name": "stdout",
     "output_type": "stream",
     "text": [
      "results name tag: \n"
     ]
    }
   ],
   "source": [
    "results_dir = Path(analysis_dir+results_subdir).expanduser()\n",
    "assert results_dir.is_dir()\n",
    "\n",
    "if analysis_name == 'fix_on':\n",
    "    res_tag = results_dir.stem.replace('self_consistency_boot200-cp', '')\n",
    "else:\n",
    "    res_tag = results_dir.stem.replace('fix0_self_consistency_boot200-t2hh', '')\n",
    "if res_tag:\n",
    "    res_tag = '-' + res_tag\n",
    "print('results name tag:', res_tag)\n",
    "\n",
    "clamp_stim_on = clamp_stim_on and (analysis_name == 'stim_on')\n",
    "\n",
    "cols_to_save = ['Latency', 'Boots. stdev.', 'Clearance', 'T step', 'Boots. frac.']\n",
    "if analysis_name == 'fix_on':\n",
    "    cols_to_save += ['Peak 0 SC', 'Peak 0 time', 'Peak 1 SC', 'Peak 1 time']\n",
    "else:\n",
    "    cols_to_save += ['Peak SC', 'Peak time']"
   ]
  },
  {
   "cell_type": "markdown",
   "id": "a725b0f1-b77b-4723-9e3a-f69912e180d7",
   "metadata": {
    "papermill": {
     "duration": 0.003225,
     "end_time": "2024-04-28T19:20:27.144042",
     "exception": false,
     "start_time": "2024-04-28T19:20:27.140817",
     "status": "completed"
    },
    "tags": []
   },
   "source": [
    "# Load data"
   ]
  },
  {
   "cell_type": "code",
   "execution_count": 5,
   "id": "602ee17e-b77f-44d1-9c1d-65efeb0107fb",
   "metadata": {
    "execution": {
     "iopub.execute_input": "2024-04-28T19:20:27.152491Z",
     "iopub.status.busy": "2024-04-28T19:20:27.151891Z",
     "iopub.status.idle": "2024-04-28T19:20:32.474998Z",
     "shell.execute_reply": "2024-04-28T19:20:32.474399Z"
    },
    "papermill": {
     "duration": 5.332965,
     "end_time": "2024-04-28T19:20:32.480210",
     "exception": false,
     "start_time": "2024-04-28T19:20:27.147245",
     "status": "completed"
    },
    "tags": []
   },
   "outputs": [
    {
     "name": "stdout",
     "output_type": "stream",
     "text": [
      "(78034, 32)\n"
     ]
    }
   ],
   "source": [
    "df = []\n",
    "for fp in results_dir.glob('*.h5'):\n",
    "    with h5.File(fp, 'r') as f:\n",
    "        try:\n",
    "            if analysis_name == 'fix_on':\n",
    "                assert f['progress_report/crossing_point/all_done'][()]\n",
    "            else:\n",
    "                assert f['progress_report/time_to_half_height/all_done'][()]\n",
    "        except (KeyError, AssertionError):\n",
    "            continue\n",
    "\n",
    "    if analysis_name == 'fix_on':\n",
    "        df_ = pd.read_hdf(fp, 'crossing_point/latency_dataframe')\n",
    "    else:\n",
    "        try:\n",
    "            df_ = pd.read_hdf(fp, 'time_to_half_height/return_fixation/latency_dataframe')\n",
    "        except KeyError:\n",
    "            continue\n",
    "\n",
    "    df.append(df_)\n",
    "\n",
    "df = pd.concat(df).set_index(['Session', 'Level', 'Name'])\n",
    "assert not df.index.has_duplicates\n",
    "print(df.shape)"
   ]
  },
  {
   "cell_type": "markdown",
   "id": "ea96b35e-3835-4a21-853b-6a67e660e203",
   "metadata": {
    "papermill": {
     "duration": 0.014123,
     "end_time": "2024-04-28T19:20:32.497070",
     "exception": false,
     "start_time": "2024-04-28T19:20:32.482947",
     "status": "completed"
    },
    "tags": []
   },
   "source": [
    "# Select from all results"
   ]
  },
  {
   "cell_type": "code",
   "execution_count": 6,
   "id": "b2d48c03-0240-4c7e-8cdd-2476c6fae820",
   "metadata": {
    "execution": {
     "iopub.execute_input": "2024-04-28T19:20:32.507219Z",
     "iopub.status.busy": "2024-04-28T19:20:32.506522Z",
     "iopub.status.idle": "2024-04-28T19:20:32.526873Z",
     "shell.execute_reply": "2024-04-28T19:20:32.526003Z"
    },
    "papermill": {
     "duration": 0.029061,
     "end_time": "2024-04-28T19:20:32.529797",
     "exception": false,
     "start_time": "2024-04-28T19:20:32.500736",
     "status": "completed"
    },
    "tags": []
   },
   "outputs": [],
   "source": [
    "def select_latetency(\n",
    "        lat_df, analysis_name=analysis_name,\n",
    "        min_boots_frac=min_boots_frac, boots_spread=boots_spread,\n",
    "        min_clearance=min_clearance,\n",
    "        clamp_stim_on=clamp_stim_on):\n",
    "\n",
    "    df = lat_df.copy()\n",
    "    criteria = {}\n",
    "    criteria['Is valid'] = np.isfinite(lat_df['Latency'].values)\n",
    "\n",
    "    criteria['Clearance'] = lat_df['Clearance'].values >= min_clearance\n",
    "    if analysis_name == 'fix_on':\n",
    "        criteria['Peak time'] = (\n",
    "            (lat_df['Latency'].values >= lat_df['Peak 0 time'].values)\n",
    "            & (lat_df['Latency'].values <= lat_df['Peak 1 time'].values))\n",
    "    else:\n",
    "        criteria['Peak time'] = lat_df['Latency'].values <= lat_df['Peak time'].values\n",
    "\n",
    "    if clamp_stim_on:\n",
    "        criteria['Is positive'] = lat_df['Latency'].values > 0\n",
    "\n",
    "    criteria['Boots. frac.'] = lat_df['Boots. frac., train'].values >= min_boots_frac\n",
    "    criteria['Boots. spread'] = (\n",
    "        (np.abs(lat_df['Boots. bias, train'].values) < boots_spread)\n",
    "        & (lat_df['Boots. stdev., train'].values < boots_spread))\n",
    "    criteria['Boots. clearance'] = lat_df['Boots. mean clearance, train'].values >= min_clearance\n",
    "\n",
    "    for k, m in criteria.items():\n",
    "        print(f'criterion: {k:<20} passed: {m.mean()*100:.1f}% ({m.sum()} of {m.size})')\n",
    "    m = np.all(list(criteria.values()), axis=0)\n",
    "    print(f'criterion: {\"All\":<20} passed: {m.mean()*100:.1f}% ({m.sum()} of {m.size})')\n",
    "\n",
    "    return m"
   ]
  },
  {
   "cell_type": "code",
   "execution_count": 7,
   "id": "56cf4a5d-75fa-483e-8051-da1eb9a8eb54",
   "metadata": {
    "execution": {
     "iopub.execute_input": "2024-04-28T19:20:32.544297Z",
     "iopub.status.busy": "2024-04-28T19:20:32.543816Z",
     "iopub.status.idle": "2024-04-28T19:20:32.582571Z",
     "shell.execute_reply": "2024-04-28T19:20:32.581987Z"
    },
    "papermill": {
     "duration": 0.04823,
     "end_time": "2024-04-28T19:20:32.585854",
     "exception": false,
     "start_time": "2024-04-28T19:20:32.537624",
     "status": "completed"
    },
    "tags": []
   },
   "outputs": [
    {
     "name": "stdout",
     "output_type": "stream",
     "text": [
      "criterion: Is valid             passed: 98.1% (76562 of 78034)\n",
      "criterion: Clearance            passed: 26.5% (20663 of 78034)\n",
      "criterion: Peak time            passed: 48.2% (37592 of 78034)\n",
      "criterion: Boots. frac.         passed: 98.1% (76568 of 78034)\n",
      "criterion: Boots. spread        passed: 29.1% (22735 of 78034)\n",
      "criterion: Boots. clearance     passed: 17.4% (13592 of 78034)\n",
      "criterion: All                  passed: 6.7% (5266 of 78034)\n"
     ]
    }
   ],
   "source": [
    "lat_df = df.copy()\n",
    "lat_df['Selected'] = select_latetency(lat_df)"
   ]
  },
  {
   "cell_type": "code",
   "execution_count": 8,
   "id": "4b5badf9-d8d8-4d46-b27a-bfe13698b81b",
   "metadata": {
    "execution": {
     "iopub.execute_input": "2024-04-28T19:20:32.602783Z",
     "iopub.status.busy": "2024-04-28T19:20:32.602338Z",
     "iopub.status.idle": "2024-04-28T19:20:32.695355Z",
     "shell.execute_reply": "2024-04-28T19:20:32.694212Z"
    },
    "papermill": {
     "duration": 0.104183,
     "end_time": "2024-04-28T19:20:32.698762",
     "exception": false,
     "start_time": "2024-04-28T19:20:32.594579",
     "status": "completed"
    },
    "tags": []
   },
   "outputs": [],
   "source": [
    "lat_df.loc[lat_df['Selected'], cols_to_save].to_csv(\n",
    "    f'summary/{analysis_name}_latency{res_tag}{output_sfx}.csv.gz')"
   ]
  },
  {
   "cell_type": "markdown",
   "id": "8ab9d54d-53c2-4adf-a69f-00ede6d8a2d0",
   "metadata": {
    "papermill": {
     "duration": 0.006076,
     "end_time": "2024-04-28T19:20:32.712761",
     "exception": false,
     "start_time": "2024-04-28T19:20:32.706685",
     "status": "completed"
    },
    "tags": []
   },
   "source": [
    "# Summarize array-level results"
   ]
  },
  {
   "cell_type": "code",
   "execution_count": 9,
   "id": "f4cb5635-b94a-4c8e-b5b7-abb8a48ad7ed",
   "metadata": {
    "execution": {
     "iopub.execute_input": "2024-04-28T19:20:32.724543Z",
     "iopub.status.busy": "2024-04-28T19:20:32.723562Z",
     "iopub.status.idle": "2024-04-28T19:20:32.744453Z",
     "shell.execute_reply": "2024-04-28T19:20:32.743465Z"
    },
    "papermill": {
     "duration": 0.029163,
     "end_time": "2024-04-28T19:20:32.747026",
     "exception": false,
     "start_time": "2024-04-28T19:20:32.717863",
     "status": "completed"
    },
    "tags": []
   },
   "outputs": [],
   "source": [
    "arreg = pd.read_csv('../../db/bank_array_regions.csv').astype({'Array ID': str})\n",
    "arreg['Subject'] = [v[:2] for v in arreg['Session']]\n",
    "arreg = arreg.groupby(['Subject', 'Array ID']).first()"
   ]
  },
  {
   "cell_type": "code",
   "execution_count": 10,
   "id": "981c2341-1a19-4738-ac31-f0a21a52fb53",
   "metadata": {
    "execution": {
     "iopub.execute_input": "2024-04-28T19:20:32.763780Z",
     "iopub.status.busy": "2024-04-28T19:20:32.763013Z",
     "iopub.status.idle": "2024-04-28T19:20:32.802715Z",
     "shell.execute_reply": "2024-04-28T19:20:32.802131Z"
    },
    "papermill": {
     "duration": 0.051811,
     "end_time": "2024-04-28T19:20:32.805886",
     "exception": false,
     "start_time": "2024-04-28T19:20:32.754075",
     "status": "completed"
    },
    "tags": []
   },
   "outputs": [
    {
     "name": "stdout",
     "output_type": "stream",
     "text": [
      "criterion: Is valid             passed: 99.6% (1128 of 1132)\n",
      "criterion: Clearance            passed: 58.5% (662 of 1132)\n",
      "criterion: Peak time            passed: 70.6% (799 of 1132)\n",
      "criterion: Boots. frac.         passed: 99.8% (1130 of 1132)\n",
      "criterion: Boots. spread        passed: 34.0% (385 of 1132)\n",
      "criterion: Boots. clearance     passed: 59.8% (677 of 1132)\n",
      "criterion: All                  passed: 25.7% (291 of 1132)\n"
     ]
    }
   ],
   "source": [
    "lat_df = df.reset_index()\n",
    "lat_df = lat_df[lat_df['Level']=='Array'].copy()\n",
    "lat_df['Selected'] = select_latetency(lat_df)"
   ]
  },
  {
   "cell_type": "code",
   "execution_count": 11,
   "id": "687a7ec8-02a5-4f90-995d-7155d82d54f2",
   "metadata": {
    "execution": {
     "iopub.execute_input": "2024-04-28T19:20:32.820761Z",
     "iopub.status.busy": "2024-04-28T19:20:32.820514Z",
     "iopub.status.idle": "2024-04-28T19:20:32.832775Z",
     "shell.execute_reply": "2024-04-28T19:20:32.831883Z"
    },
    "papermill": {
     "duration": 0.022666,
     "end_time": "2024-04-28T19:20:32.836074",
     "exception": false,
     "start_time": "2024-04-28T19:20:32.813408",
     "status": "completed"
    },
    "tags": []
   },
   "outputs": [],
   "source": [
    "adf = lat_df[lat_df['Selected']].copy()\n",
    "adf['Subject'] = [v[:2] for v in adf['Session']]\n",
    "adf['Region'] = arreg.loc[list(map(tuple, adf[['Subject', 'Name']].values))]['Region'].values"
   ]
  },
  {
   "cell_type": "code",
   "execution_count": 12,
   "id": "64c22943-3417-4e3e-a1f2-b1c62e82287b",
   "metadata": {
    "execution": {
     "iopub.execute_input": "2024-04-28T19:20:32.857061Z",
     "iopub.status.busy": "2024-04-28T19:20:32.856384Z",
     "iopub.status.idle": "2024-04-28T19:20:33.093154Z",
     "shell.execute_reply": "2024-04-28T19:20:33.092350Z"
    },
    "papermill": {
     "duration": 0.250897,
     "end_time": "2024-04-28T19:20:33.097440",
     "exception": false,
     "start_time": "2024-04-28T19:20:32.846543",
     "status": "completed"
    },
    "tags": []
   },
   "outputs": [
    {
     "name": "stdout",
     "output_type": "stream",
     "text": [
      "Array-level latencies, per session\n"
     ]
    },
    {
     "data": {
      "text/plain": [
       "<Axes: xlabel='Latency', ylabel='Density'>"
      ]
     },
     "execution_count": 12,
     "metadata": {},
     "output_type": "execute_result"
    },
    {
     "data": {
      "image/png": "[encoded data removed]",
      "text/plain": [
       "<Figure size 640x480 with 1 Axes>"
      ]
     },
     "metadata": {},
     "output_type": "display_data"
    }
   ],
   "source": [
    "print('Array-level latencies, per session')\n",
    "sns.histplot(data=adf, x='Latency', hue='Region', stat='density', element='poly', common_norm=False, fill=False)"
   ]
  },
  {
   "cell_type": "code",
   "execution_count": 13,
   "id": "896bf8b5-d559-48a4-b82f-3cf343422428",
   "metadata": {
    "execution": {
     "iopub.execute_input": "2024-04-28T19:20:33.115244Z",
     "iopub.status.busy": "2024-04-28T19:20:33.114769Z",
     "iopub.status.idle": "2024-04-28T19:20:33.290056Z",
     "shell.execute_reply": "2024-04-28T19:20:33.289507Z"
    },
    "papermill": {
     "duration": 0.186229,
     "end_time": "2024-04-28T19:20:33.293168",
     "exception": false,
     "start_time": "2024-04-28T19:20:33.106939",
     "status": "completed"
    },
    "tags": []
   },
   "outputs": [
    {
     "name": "stdout",
     "output_type": "stream",
     "text": [
      "Array-level latencies, per session\n",
      "After selecting for test boots frac\n"
     ]
    },
    {
     "data": {
      "image/png": "[encoded data removed]",
      "text/plain": [
       "<Figure size 640x480 with 1 Axes>"
      ]
     },
     "metadata": {},
     "output_type": "display_data"
    }
   ],
   "source": [
    "print('Array-level latencies, per session')\n",
    "print('After selecting for test boots frac')\n",
    "# note here and below, we select based on test boots frac because\n",
    "# 1) array-level results are never reported but used as default parameters\n",
    "# 2) as default parameters, the values should be reliable\n",
    "adf = adf[adf['Boots. stdev.'] < boots_spread]  # select once\n",
    "sns.histplot(data=adf, x='Latency', hue='Region', stat='density', element='poly', common_norm=False, fill=False);"
   ]
  },
  {
   "cell_type": "code",
   "execution_count": 14,
   "id": "0f54db29-b094-4781-9c05-9d0af246130f",
   "metadata": {
    "execution": {
     "iopub.execute_input": "2024-04-28T19:20:33.303294Z",
     "iopub.status.busy": "2024-04-28T19:20:33.302681Z",
     "iopub.status.idle": "2024-04-28T19:20:33.532430Z",
     "shell.execute_reply": "2024-04-28T19:20:33.531677Z"
    },
    "papermill": {
     "duration": 0.240842,
     "end_time": "2024-04-28T19:20:33.538140",
     "exception": false,
     "start_time": "2024-04-28T19:20:33.297298",
     "status": "completed"
    },
    "tags": []
   },
   "outputs": [
    {
     "name": "stdout",
     "output_type": "stream",
     "text": [
      "Array-level latencies, median across sessions\n"
     ]
    },
    {
     "data": {
      "text/html": [
       "<div>\n",
       "<style scoped>\n",
       "    .dataframe tbody tr th:only-of-type {\n",
       "        vertical-align: middle;\n",
       "    }\n",
       "\n",
       "    .dataframe tbody tr th {\n",
       "        vertical-align: top;\n",
       "    }\n",
       "\n",
       "    .dataframe thead th {\n",
       "        text-align: right;\n",
       "    }\n",
       "</style>\n",
       "<table border=\"1\" class=\"dataframe\">\n",
       "  <thead>\n",
       "    <tr style=\"text-align: right;\">\n",
       "      <th></th>\n",
       "      <th></th>\n",
       "      <th>Latency</th>\n",
       "      <th>Region</th>\n",
       "      <th>Selected</th>\n",
       "      <th>Boots. stdev.</th>\n",
       "    </tr>\n",
       "    <tr>\n",
       "      <th>Subject</th>\n",
       "      <th>Name</th>\n",
       "      <th></th>\n",
       "      <th></th>\n",
       "      <th></th>\n",
       "      <th></th>\n",
       "    </tr>\n",
       "  </thead>\n",
       "  <tbody>\n",
       "    <tr>\n",
       "      <th>An</th>\n",
       "      <th>1</th>\n",
       "      <td>60.476189</td>\n",
       "      <td>V1</td>\n",
       "      <td>1.0</td>\n",
       "      <td>22.525831</td>\n",
       "    </tr>\n",
       "    <tr>\n",
       "      <th>Bo</th>\n",
       "      <th>3</th>\n",
       "      <td>66.152351</td>\n",
       "      <td>AIT</td>\n",
       "      <td>1.0</td>\n",
       "      <td>13.491161</td>\n",
       "    </tr>\n",
       "    <tr>\n",
       "      <th rowspan=\"3\" valign=\"top\">Fr</th>\n",
       "      <th>0</th>\n",
       "      <td>65.294121</td>\n",
       "      <td>CIT</td>\n",
       "      <td>1.0</td>\n",
       "      <td>17.228250</td>\n",
       "    </tr>\n",
       "    <tr>\n",
       "      <th>1</th>\n",
       "      <td>41.153847</td>\n",
       "      <td>CIT</td>\n",
       "      <td>1.0</td>\n",
       "      <td>12.877135</td>\n",
       "    </tr>\n",
       "    <tr>\n",
       "      <th>3</th>\n",
       "      <td>52.356323</td>\n",
       "      <td>V4</td>\n",
       "      <td>1.0</td>\n",
       "      <td>4.490707</td>\n",
       "    </tr>\n",
       "    <tr>\n",
       "      <th rowspan=\"3\" valign=\"top\">Lo</th>\n",
       "      <th>0</th>\n",
       "      <td>70.654945</td>\n",
       "      <td>CIT</td>\n",
       "      <td>1.0</td>\n",
       "      <td>14.083001</td>\n",
       "    </tr>\n",
       "    <tr>\n",
       "      <th>1</th>\n",
       "      <td>56.513935</td>\n",
       "      <td>CIT</td>\n",
       "      <td>1.0</td>\n",
       "      <td>14.242735</td>\n",
       "    </tr>\n",
       "    <tr>\n",
       "      <th>2</th>\n",
       "      <td>65.113632</td>\n",
       "      <td>CIT</td>\n",
       "      <td>1.0</td>\n",
       "      <td>11.099431</td>\n",
       "    </tr>\n",
       "    <tr>\n",
       "      <th rowspan=\"2\" valign=\"top\">Na</th>\n",
       "      <th>0</th>\n",
       "      <td>65.235291</td>\n",
       "      <td>V2</td>\n",
       "      <td>1.0</td>\n",
       "      <td>20.892794</td>\n",
       "    </tr>\n",
       "    <tr>\n",
       "      <th>1</th>\n",
       "      <td>95.330582</td>\n",
       "      <td>V4</td>\n",
       "      <td>1.0</td>\n",
       "      <td>10.050722</td>\n",
       "    </tr>\n",
       "    <tr>\n",
       "      <th>Oc</th>\n",
       "      <th>6</th>\n",
       "      <td>53.726028</td>\n",
       "      <td>AIT</td>\n",
       "      <td>1.0</td>\n",
       "      <td>13.577866</td>\n",
       "    </tr>\n",
       "    <tr>\n",
       "      <th>Ot</th>\n",
       "      <th>5</th>\n",
       "      <td>6.274900</td>\n",
       "      <td>CIT</td>\n",
       "      <td>1.0</td>\n",
       "      <td>12.135744</td>\n",
       "    </tr>\n",
       "    <tr>\n",
       "      <th rowspan=\"3\" valign=\"top\">Pa</th>\n",
       "      <th>0</th>\n",
       "      <td>10.033557</td>\n",
       "      <td>V1</td>\n",
       "      <td>1.0</td>\n",
       "      <td>11.336017</td>\n",
       "    </tr>\n",
       "    <tr>\n",
       "      <th>1</th>\n",
       "      <td>58.797470</td>\n",
       "      <td>CIT</td>\n",
       "      <td>1.0</td>\n",
       "      <td>3.889773</td>\n",
       "    </tr>\n",
       "    <tr>\n",
       "      <th>2</th>\n",
       "      <td>51.676136</td>\n",
       "      <td>CIT</td>\n",
       "      <td>1.0</td>\n",
       "      <td>8.148097</td>\n",
       "    </tr>\n",
       "    <tr>\n",
       "      <th>Re</th>\n",
       "      <th>6</th>\n",
       "      <td>118.304008</td>\n",
       "      <td>AIT</td>\n",
       "      <td>1.0</td>\n",
       "      <td>15.077251</td>\n",
       "    </tr>\n",
       "    <tr>\n",
       "      <th>Sw</th>\n",
       "      <th>1</th>\n",
       "      <td>-0.859166</td>\n",
       "      <td>CIT</td>\n",
       "      <td>1.0</td>\n",
       "      <td>20.626948</td>\n",
       "    </tr>\n",
       "    <tr>\n",
       "      <th rowspan=\"2\" valign=\"top\">Ve</th>\n",
       "      <th>2</th>\n",
       "      <td>122.000000</td>\n",
       "      <td>AIT</td>\n",
       "      <td>1.0</td>\n",
       "      <td>17.137336</td>\n",
       "    </tr>\n",
       "    <tr>\n",
       "      <th>3</th>\n",
       "      <td>157.000000</td>\n",
       "      <td>AIT</td>\n",
       "      <td>1.0</td>\n",
       "      <td>17.940790</td>\n",
       "    </tr>\n",
       "    <tr>\n",
       "      <th rowspan=\"2\" valign=\"top\">Ye</th>\n",
       "      <th>0</th>\n",
       "      <td>103.679016</td>\n",
       "      <td>CIT</td>\n",
       "      <td>1.0</td>\n",
       "      <td>8.342596</td>\n",
       "    </tr>\n",
       "    <tr>\n",
       "      <th>1</th>\n",
       "      <td>49.237289</td>\n",
       "      <td>CIT</td>\n",
       "      <td>1.0</td>\n",
       "      <td>5.059591</td>\n",
       "    </tr>\n",
       "  </tbody>\n",
       "</table>\n",
       "</div>"
      ],
      "text/plain": [
       "                 Latency Region  Selected  Boots. stdev.\n",
       "Subject Name                                            \n",
       "An      1      60.476189     V1       1.0      22.525831\n",
       "Bo      3      66.152351    AIT       1.0      13.491161\n",
       "Fr      0      65.294121    CIT       1.0      17.228250\n",
       "        1      41.153847    CIT       1.0      12.877135\n",
       "        3      52.356323     V4       1.0       4.490707\n",
       "Lo      0      70.654945    CIT       1.0      14.083001\n",
       "        1      56.513935    CIT       1.0      14.242735\n",
       "        2      65.113632    CIT       1.0      11.099431\n",
       "Na      0      65.235291     V2       1.0      20.892794\n",
       "        1      95.330582     V4       1.0      10.050722\n",
       "Oc      6      53.726028    AIT       1.0      13.577866\n",
       "Ot      5       6.274900    CIT       1.0      12.135744\n",
       "Pa      0      10.033557     V1       1.0      11.336017\n",
       "        1      58.797470    CIT       1.0       3.889773\n",
       "        2      51.676136    CIT       1.0       8.148097\n",
       "Re      6     118.304008    AIT       1.0      15.077251\n",
       "Sw      1      -0.859166    CIT       1.0      20.626948\n",
       "Ve      2     122.000000    AIT       1.0      17.137336\n",
       "        3     157.000000    AIT       1.0      17.940790\n",
       "Ye      0     103.679016    CIT       1.0       8.342596\n",
       "        1      49.237289    CIT       1.0       5.059591"
      ]
     },
     "execution_count": 14,
     "metadata": {},
     "output_type": "execute_result"
    },
    {
     "data": {
      "image/png": "[encoded data removed]",
      "text/plain": [
       "<Figure size 640x480 with 1 Axes>"
      ]
     },
     "metadata": {},
     "output_type": "display_data"
    }
   ],
   "source": [
    "print('Array-level latencies, median across sessions')\n",
    "df_ = adf.groupby(['Subject', 'Name']).agg({\n",
    "    'Latency': 'median', 'Region': 'first', 'Selected': 'mean', 'Boots. stdev.': 'median'})\n",
    "assert df_['Selected'].all()  # sanity check\n",
    "df_ = df_[df_['Boots. stdev.'] < boots_spread]\n",
    "sns.histplot(data=df_, x='Latency', hue='Region', stat='density', element='poly', common_norm=False, fill=False);\n",
    "df_"
   ]
  },
  {
   "cell_type": "code",
   "execution_count": 15,
   "id": "d054969a-c24c-4268-ad12-dae44cd22565",
   "metadata": {
    "execution": {
     "iopub.execute_input": "2024-04-28T19:20:33.563248Z",
     "iopub.status.busy": "2024-04-28T19:20:33.562812Z",
     "iopub.status.idle": "2024-04-28T19:20:33.575876Z",
     "shell.execute_reply": "2024-04-28T19:20:33.574771Z"
    },
    "papermill": {
     "duration": 0.025496,
     "end_time": "2024-04-28T19:20:33.577953",
     "exception": false,
     "start_time": "2024-04-28T19:20:33.552457",
     "status": "completed"
    },
    "tags": []
   },
   "outputs": [
    {
     "name": "stdout",
     "output_type": "stream",
     "text": [
      "Array-level latencies, median across arrays\n"
     ]
    },
    {
     "data": {
      "text/html": [
       "<div>\n",
       "<style scoped>\n",
       "    .dataframe tbody tr th:only-of-type {\n",
       "        vertical-align: middle;\n",
       "    }\n",
       "\n",
       "    .dataframe tbody tr th {\n",
       "        vertical-align: top;\n",
       "    }\n",
       "\n",
       "    .dataframe thead th {\n",
       "        text-align: right;\n",
       "    }\n",
       "</style>\n",
       "<table border=\"1\" class=\"dataframe\">\n",
       "  <thead>\n",
       "    <tr style=\"text-align: right;\">\n",
       "      <th></th>\n",
       "      <th>Latency</th>\n",
       "      <th>Selected</th>\n",
       "      <th>Boots. stdev.</th>\n",
       "    </tr>\n",
       "    <tr>\n",
       "      <th>Region</th>\n",
       "      <th></th>\n",
       "      <th></th>\n",
       "      <th></th>\n",
       "    </tr>\n",
       "  </thead>\n",
       "  <tbody>\n",
       "    <tr>\n",
       "      <th>AIT</th>\n",
       "      <td>118.304008</td>\n",
       "      <td>1.0</td>\n",
       "      <td>15.077251</td>\n",
       "    </tr>\n",
       "    <tr>\n",
       "      <th>CIT</th>\n",
       "      <td>56.513935</td>\n",
       "      <td>1.0</td>\n",
       "      <td>12.135744</td>\n",
       "    </tr>\n",
       "    <tr>\n",
       "      <th>V1</th>\n",
       "      <td>35.254871</td>\n",
       "      <td>1.0</td>\n",
       "      <td>16.930924</td>\n",
       "    </tr>\n",
       "    <tr>\n",
       "      <th>V2</th>\n",
       "      <td>65.235291</td>\n",
       "      <td>1.0</td>\n",
       "      <td>20.892794</td>\n",
       "    </tr>\n",
       "    <tr>\n",
       "      <th>V4</th>\n",
       "      <td>73.843452</td>\n",
       "      <td>1.0</td>\n",
       "      <td>7.270715</td>\n",
       "    </tr>\n",
       "  </tbody>\n",
       "</table>\n",
       "</div>"
      ],
      "text/plain": [
       "           Latency  Selected  Boots. stdev.\n",
       "Region                                     \n",
       "AIT     118.304008       1.0      15.077251\n",
       "CIT      56.513935       1.0      12.135744\n",
       "V1       35.254871       1.0      16.930924\n",
       "V2       65.235291       1.0      20.892794\n",
       "V4       73.843452       1.0       7.270715"
      ]
     },
     "execution_count": 15,
     "metadata": {},
     "output_type": "execute_result"
    }
   ],
   "source": [
    "print('Array-level latencies, median across arrays')\n",
    "df_.groupby('Region').median()"
   ]
  },
  {
   "cell_type": "code",
   "execution_count": 16,
   "id": "7fb92c62-86b1-4a76-b653-f9e146d9fdbc",
   "metadata": {
    "execution": {
     "iopub.execute_input": "2024-04-28T19:20:33.594781Z",
     "iopub.status.busy": "2024-04-28T19:20:33.594161Z",
     "iopub.status.idle": "2024-04-28T19:20:33.634927Z",
     "shell.execute_reply": "2024-04-28T19:20:33.634390Z"
    },
    "papermill": {
     "duration": 0.051088,
     "end_time": "2024-04-28T19:20:33.637517",
     "exception": false,
     "start_time": "2024-04-28T19:20:33.586429",
     "status": "completed"
    },
    "tags": []
   },
   "outputs": [
    {
     "data": {
      "text/html": [
       "<div>\n",
       "<style scoped>\n",
       "    .dataframe tbody tr th:only-of-type {\n",
       "        vertical-align: middle;\n",
       "    }\n",
       "\n",
       "    .dataframe tbody tr th {\n",
       "        vertical-align: top;\n",
       "    }\n",
       "\n",
       "    .dataframe thead th {\n",
       "        text-align: right;\n",
       "    }\n",
       "</style>\n",
       "<table border=\"1\" class=\"dataframe\">\n",
       "  <thead>\n",
       "    <tr style=\"text-align: right;\">\n",
       "      <th></th>\n",
       "      <th></th>\n",
       "      <th></th>\n",
       "      <th>Latency</th>\n",
       "      <th>Boots. stdev.</th>\n",
       "      <th>Clearance</th>\n",
       "      <th>T step</th>\n",
       "      <th>Boots. frac.</th>\n",
       "      <th>Peak 0 SC</th>\n",
       "      <th>Peak 0 time</th>\n",
       "      <th>Peak 1 SC</th>\n",
       "      <th>Peak 1 time</th>\n",
       "      <th>Count</th>\n",
       "      <th>Region</th>\n",
       "    </tr>\n",
       "    <tr>\n",
       "      <th>Subject</th>\n",
       "      <th>Level</th>\n",
       "      <th>Name</th>\n",
       "      <th></th>\n",
       "      <th></th>\n",
       "      <th></th>\n",
       "      <th></th>\n",
       "      <th></th>\n",
       "      <th></th>\n",
       "      <th></th>\n",
       "      <th></th>\n",
       "      <th></th>\n",
       "      <th></th>\n",
       "      <th></th>\n",
       "    </tr>\n",
       "  </thead>\n",
       "  <tbody>\n",
       "    <tr>\n",
       "      <th>An</th>\n",
       "      <th>Array</th>\n",
       "      <th>1</th>\n",
       "      <td>60.476189</td>\n",
       "      <td>22.525831</td>\n",
       "      <td>234.235962</td>\n",
       "      <td>10.0</td>\n",
       "      <td>1.0</td>\n",
       "      <td>0.200195</td>\n",
       "      <td>-45.0</td>\n",
       "      <td>0.144531</td>\n",
       "      <td>155.0</td>\n",
       "      <td>3</td>\n",
       "      <td>V1</td>\n",
       "    </tr>\n",
       "    <tr>\n",
       "      <th>Bo</th>\n",
       "      <th>Array</th>\n",
       "      <th>3</th>\n",
       "      <td>66.152351</td>\n",
       "      <td>13.491161</td>\n",
       "      <td>328.761780</td>\n",
       "      <td>10.0</td>\n",
       "      <td>1.0</td>\n",
       "      <td>0.383789</td>\n",
       "      <td>-70.0</td>\n",
       "      <td>0.526855</td>\n",
       "      <td>135.0</td>\n",
       "      <td>24</td>\n",
       "      <td>AIT</td>\n",
       "    </tr>\n",
       "    <tr>\n",
       "      <th rowspan=\"3\" valign=\"top\">Fr</th>\n",
       "      <th rowspan=\"3\" valign=\"top\">Array</th>\n",
       "      <th>0</th>\n",
       "      <td>65.294121</td>\n",
       "      <td>17.228250</td>\n",
       "      <td>281.115387</td>\n",
       "      <td>10.0</td>\n",
       "      <td>1.0</td>\n",
       "      <td>0.221680</td>\n",
       "      <td>-85.0</td>\n",
       "      <td>0.208008</td>\n",
       "      <td>165.0</td>\n",
       "      <td>11</td>\n",
       "      <td>CIT</td>\n",
       "    </tr>\n",
       "    <tr>\n",
       "      <th>1</th>\n",
       "      <td>41.153847</td>\n",
       "      <td>12.877135</td>\n",
       "      <td>390.598297</td>\n",
       "      <td>10.0</td>\n",
       "      <td>1.0</td>\n",
       "      <td>0.194336</td>\n",
       "      <td>-35.0</td>\n",
       "      <td>0.310547</td>\n",
       "      <td>155.0</td>\n",
       "      <td>1</td>\n",
       "      <td>CIT</td>\n",
       "    </tr>\n",
       "    <tr>\n",
       "      <th>3</th>\n",
       "      <td>52.356323</td>\n",
       "      <td>4.490707</td>\n",
       "      <td>307.692322</td>\n",
       "      <td>10.0</td>\n",
       "      <td>1.0</td>\n",
       "      <td>0.289062</td>\n",
       "      <td>-15.0</td>\n",
       "      <td>0.365234</td>\n",
       "      <td>105.0</td>\n",
       "      <td>17</td>\n",
       "      <td>V4</td>\n",
       "    </tr>\n",
       "    <tr>\n",
       "      <th rowspan=\"3\" valign=\"top\">Lo</th>\n",
       "      <th rowspan=\"3\" valign=\"top\">Array</th>\n",
       "      <th>0</th>\n",
       "      <td>70.654945</td>\n",
       "      <td>14.083001</td>\n",
       "      <td>284.088470</td>\n",
       "      <td>10.0</td>\n",
       "      <td>1.0</td>\n",
       "      <td>0.342773</td>\n",
       "      <td>-55.0</td>\n",
       "      <td>0.460449</td>\n",
       "      <td>125.0</td>\n",
       "      <td>14</td>\n",
       "      <td>CIT</td>\n",
       "    </tr>\n",
       "    <tr>\n",
       "      <th>1</th>\n",
       "      <td>56.513935</td>\n",
       "      <td>14.242735</td>\n",
       "      <td>277.022003</td>\n",
       "      <td>10.0</td>\n",
       "      <td>1.0</td>\n",
       "      <td>0.258789</td>\n",
       "      <td>-80.0</td>\n",
       "      <td>0.390625</td>\n",
       "      <td>115.0</td>\n",
       "      <td>20</td>\n",
       "      <td>CIT</td>\n",
       "    </tr>\n",
       "    <tr>\n",
       "      <th>2</th>\n",
       "      <td>65.113632</td>\n",
       "      <td>11.099431</td>\n",
       "      <td>279.518433</td>\n",
       "      <td>10.0</td>\n",
       "      <td>1.0</td>\n",
       "      <td>0.139648</td>\n",
       "      <td>-35.0</td>\n",
       "      <td>0.219238</td>\n",
       "      <td>145.0</td>\n",
       "      <td>4</td>\n",
       "      <td>CIT</td>\n",
       "    </tr>\n",
       "    <tr>\n",
       "      <th rowspan=\"2\" valign=\"top\">Na</th>\n",
       "      <th rowspan=\"2\" valign=\"top\">Array</th>\n",
       "      <th>0</th>\n",
       "      <td>65.235291</td>\n",
       "      <td>20.892794</td>\n",
       "      <td>219.163864</td>\n",
       "      <td>10.0</td>\n",
       "      <td>1.0</td>\n",
       "      <td>0.223633</td>\n",
       "      <td>-95.0</td>\n",
       "      <td>0.240234</td>\n",
       "      <td>135.0</td>\n",
       "      <td>3</td>\n",
       "      <td>V2</td>\n",
       "    </tr>\n",
       "    <tr>\n",
       "      <th>1</th>\n",
       "      <td>95.330582</td>\n",
       "      <td>10.050722</td>\n",
       "      <td>253.627457</td>\n",
       "      <td>10.0</td>\n",
       "      <td>1.0</td>\n",
       "      <td>0.400391</td>\n",
       "      <td>-25.0</td>\n",
       "      <td>0.268555</td>\n",
       "      <td>155.0</td>\n",
       "      <td>7</td>\n",
       "      <td>V4</td>\n",
       "    </tr>\n",
       "    <tr>\n",
       "      <th>Oc</th>\n",
       "      <th>Array</th>\n",
       "      <th>6</th>\n",
       "      <td>53.726028</td>\n",
       "      <td>13.577866</td>\n",
       "      <td>311.273987</td>\n",
       "      <td>10.0</td>\n",
       "      <td>1.0</td>\n",
       "      <td>0.258789</td>\n",
       "      <td>-35.0</td>\n",
       "      <td>0.439453</td>\n",
       "      <td>125.0</td>\n",
       "      <td>2</td>\n",
       "      <td>AIT</td>\n",
       "    </tr>\n",
       "    <tr>\n",
       "      <th>Ot</th>\n",
       "      <th>Array</th>\n",
       "      <th>5</th>\n",
       "      <td>6.274900</td>\n",
       "      <td>12.135744</td>\n",
       "      <td>175.573959</td>\n",
       "      <td>10.0</td>\n",
       "      <td>1.0</td>\n",
       "      <td>0.419922</td>\n",
       "      <td>-95.0</td>\n",
       "      <td>0.733398</td>\n",
       "      <td>165.0</td>\n",
       "      <td>1</td>\n",
       "      <td>CIT</td>\n",
       "    </tr>\n",
       "    <tr>\n",
       "      <th rowspan=\"3\" valign=\"top\">Pa</th>\n",
       "      <th rowspan=\"3\" valign=\"top\">Array</th>\n",
       "      <th>0</th>\n",
       "      <td>10.033557</td>\n",
       "      <td>11.336017</td>\n",
       "      <td>190.844452</td>\n",
       "      <td>10.0</td>\n",
       "      <td>1.0</td>\n",
       "      <td>0.290039</td>\n",
       "      <td>-85.0</td>\n",
       "      <td>0.249023</td>\n",
       "      <td>95.0</td>\n",
       "      <td>3</td>\n",
       "      <td>V1</td>\n",
       "    </tr>\n",
       "    <tr>\n",
       "      <th>1</th>\n",
       "      <td>58.797470</td>\n",
       "      <td>3.889773</td>\n",
       "      <td>301.104980</td>\n",
       "      <td>10.0</td>\n",
       "      <td>1.0</td>\n",
       "      <td>0.344727</td>\n",
       "      <td>-65.0</td>\n",
       "      <td>0.446289</td>\n",
       "      <td>115.0</td>\n",
       "      <td>87</td>\n",
       "      <td>CIT</td>\n",
       "    </tr>\n",
       "    <tr>\n",
       "      <th>2</th>\n",
       "      <td>51.676136</td>\n",
       "      <td>8.148097</td>\n",
       "      <td>307.069275</td>\n",
       "      <td>10.0</td>\n",
       "      <td>1.0</td>\n",
       "      <td>0.256836</td>\n",
       "      <td>-65.0</td>\n",
       "      <td>0.338867</td>\n",
       "      <td>115.0</td>\n",
       "      <td>40</td>\n",
       "      <td>CIT</td>\n",
       "    </tr>\n",
       "    <tr>\n",
       "      <th>Re</th>\n",
       "      <th>Array</th>\n",
       "      <th>6</th>\n",
       "      <td>118.304008</td>\n",
       "      <td>15.077251</td>\n",
       "      <td>243.115448</td>\n",
       "      <td>10.0</td>\n",
       "      <td>1.0</td>\n",
       "      <td>0.413574</td>\n",
       "      <td>-10.0</td>\n",
       "      <td>0.375488</td>\n",
       "      <td>215.0</td>\n",
       "      <td>10</td>\n",
       "      <td>AIT</td>\n",
       "    </tr>\n",
       "    <tr>\n",
       "      <th>Sw</th>\n",
       "      <th>Array</th>\n",
       "      <th>1</th>\n",
       "      <td>-0.859166</td>\n",
       "      <td>20.626948</td>\n",
       "      <td>251.769623</td>\n",
       "      <td>10.0</td>\n",
       "      <td>1.0</td>\n",
       "      <td>0.240723</td>\n",
       "      <td>-120.0</td>\n",
       "      <td>0.294922</td>\n",
       "      <td>125.0</td>\n",
       "      <td>2</td>\n",
       "      <td>CIT</td>\n",
       "    </tr>\n",
       "    <tr>\n",
       "      <th rowspan=\"2\" valign=\"top\">Ve</th>\n",
       "      <th rowspan=\"2\" valign=\"top\">Array</th>\n",
       "      <th>2</th>\n",
       "      <td>122.000000</td>\n",
       "      <td>17.137336</td>\n",
       "      <td>229.444443</td>\n",
       "      <td>10.0</td>\n",
       "      <td>1.0</td>\n",
       "      <td>0.317871</td>\n",
       "      <td>-75.0</td>\n",
       "      <td>0.166992</td>\n",
       "      <td>215.0</td>\n",
       "      <td>4</td>\n",
       "      <td>AIT</td>\n",
       "    </tr>\n",
       "    <tr>\n",
       "      <th>3</th>\n",
       "      <td>157.000000</td>\n",
       "      <td>17.940790</td>\n",
       "      <td>208.000000</td>\n",
       "      <td>10.0</td>\n",
       "      <td>1.0</td>\n",
       "      <td>0.175781</td>\n",
       "      <td>-55.0</td>\n",
       "      <td>0.167969</td>\n",
       "      <td>225.0</td>\n",
       "      <td>3</td>\n",
       "      <td>AIT</td>\n",
       "    </tr>\n",
       "    <tr>\n",
       "      <th rowspan=\"2\" valign=\"top\">Ye</th>\n",
       "      <th rowspan=\"2\" valign=\"top\">Array</th>\n",
       "      <th>0</th>\n",
       "      <td>103.679016</td>\n",
       "      <td>8.342596</td>\n",
       "      <td>318.614258</td>\n",
       "      <td>10.0</td>\n",
       "      <td>1.0</td>\n",
       "      <td>0.145508</td>\n",
       "      <td>-55.0</td>\n",
       "      <td>0.211426</td>\n",
       "      <td>155.0</td>\n",
       "      <td>16</td>\n",
       "      <td>CIT</td>\n",
       "    </tr>\n",
       "    <tr>\n",
       "      <th>1</th>\n",
       "      <td>49.237289</td>\n",
       "      <td>5.059591</td>\n",
       "      <td>315.762726</td>\n",
       "      <td>10.0</td>\n",
       "      <td>1.0</td>\n",
       "      <td>0.283203</td>\n",
       "      <td>-95.0</td>\n",
       "      <td>0.433594</td>\n",
       "      <td>135.0</td>\n",
       "      <td>3</td>\n",
       "      <td>CIT</td>\n",
       "    </tr>\n",
       "  </tbody>\n",
       "</table>\n",
       "</div>"
      ],
      "text/plain": [
       "                       Latency  Boots. stdev.   Clearance  T step   \n",
       "Subject Level Name                                                  \n",
       "An      Array 1      60.476189      22.525831  234.235962    10.0  \\\n",
       "Bo      Array 3      66.152351      13.491161  328.761780    10.0   \n",
       "Fr      Array 0      65.294121      17.228250  281.115387    10.0   \n",
       "              1      41.153847      12.877135  390.598297    10.0   \n",
       "              3      52.356323       4.490707  307.692322    10.0   \n",
       "Lo      Array 0      70.654945      14.083001  284.088470    10.0   \n",
       "              1      56.513935      14.242735  277.022003    10.0   \n",
       "              2      65.113632      11.099431  279.518433    10.0   \n",
       "Na      Array 0      65.235291      20.892794  219.163864    10.0   \n",
       "              1      95.330582      10.050722  253.627457    10.0   \n",
       "Oc      Array 6      53.726028      13.577866  311.273987    10.0   \n",
       "Ot      Array 5       6.274900      12.135744  175.573959    10.0   \n",
       "Pa      Array 0      10.033557      11.336017  190.844452    10.0   \n",
       "              1      58.797470       3.889773  301.104980    10.0   \n",
       "              2      51.676136       8.148097  307.069275    10.0   \n",
       "Re      Array 6     118.304008      15.077251  243.115448    10.0   \n",
       "Sw      Array 1      -0.859166      20.626948  251.769623    10.0   \n",
       "Ve      Array 2     122.000000      17.137336  229.444443    10.0   \n",
       "              3     157.000000      17.940790  208.000000    10.0   \n",
       "Ye      Array 0     103.679016       8.342596  318.614258    10.0   \n",
       "              1      49.237289       5.059591  315.762726    10.0   \n",
       "\n",
       "                    Boots. frac.  Peak 0 SC  Peak 0 time  Peak 1 SC   \n",
       "Subject Level Name                                                    \n",
       "An      Array 1              1.0   0.200195        -45.0   0.144531  \\\n",
       "Bo      Array 3              1.0   0.383789        -70.0   0.526855   \n",
       "Fr      Array 0              1.0   0.221680        -85.0   0.208008   \n",
       "              1              1.0   0.194336        -35.0   0.310547   \n",
       "              3              1.0   0.289062        -15.0   0.365234   \n",
       "Lo      Array 0              1.0   0.342773        -55.0   0.460449   \n",
       "              1              1.0   0.258789        -80.0   0.390625   \n",
       "              2              1.0   0.139648        -35.0   0.219238   \n",
       "Na      Array 0              1.0   0.223633        -95.0   0.240234   \n",
       "              1              1.0   0.400391        -25.0   0.268555   \n",
       "Oc      Array 6              1.0   0.258789        -35.0   0.439453   \n",
       "Ot      Array 5              1.0   0.419922        -95.0   0.733398   \n",
       "Pa      Array 0              1.0   0.290039        -85.0   0.249023   \n",
       "              1              1.0   0.344727        -65.0   0.446289   \n",
       "              2              1.0   0.256836        -65.0   0.338867   \n",
       "Re      Array 6              1.0   0.413574        -10.0   0.375488   \n",
       "Sw      Array 1              1.0   0.240723       -120.0   0.294922   \n",
       "Ve      Array 2              1.0   0.317871        -75.0   0.166992   \n",
       "              3              1.0   0.175781        -55.0   0.167969   \n",
       "Ye      Array 0              1.0   0.145508        -55.0   0.211426   \n",
       "              1              1.0   0.283203        -95.0   0.433594   \n",
       "\n",
       "                    Peak 1 time  Count Region  \n",
       "Subject Level Name                             \n",
       "An      Array 1           155.0      3     V1  \n",
       "Bo      Array 3           135.0     24    AIT  \n",
       "Fr      Array 0           165.0     11    CIT  \n",
       "              1           155.0      1    CIT  \n",
       "              3           105.0     17     V4  \n",
       "Lo      Array 0           125.0     14    CIT  \n",
       "              1           115.0     20    CIT  \n",
       "              2           145.0      4    CIT  \n",
       "Na      Array 0           135.0      3     V2  \n",
       "              1           155.0      7     V4  \n",
       "Oc      Array 6           125.0      2    AIT  \n",
       "Ot      Array 5           165.0      1    CIT  \n",
       "Pa      Array 0            95.0      3     V1  \n",
       "              1           115.0     87    CIT  \n",
       "              2           115.0     40    CIT  \n",
       "Re      Array 6           215.0     10    AIT  \n",
       "Sw      Array 1           125.0      2    CIT  \n",
       "Ve      Array 2           215.0      4    AIT  \n",
       "              3           225.0      3    AIT  \n",
       "Ye      Array 0           155.0     16    CIT  \n",
       "              1           135.0      3    CIT  "
      ]
     },
     "execution_count": 16,
     "metadata": {},
     "output_type": "execute_result"
    }
   ],
   "source": [
    "# save array-level resuilts median across sessions\n",
    "gb = adf.groupby(['Subject', 'Name'])\n",
    "df_ = gb[cols_to_save].median()\n",
    "df_['Count'] = gb['Latency'].count()\n",
    "df_['Region'] = gb['Region'].first()\n",
    "df_['Level'] = 'Array'\n",
    "df_ = df_[df_['Boots. stdev.'] < boots_spread]  # select twice\n",
    "df_ = df_.reset_index().set_index(['Subject', 'Level', 'Name'])\n",
    "df_.to_csv(f'summary/{analysis_name}_latency{res_tag}{output_sfx}-array_level.csv.gz')\n",
    "df_"
   ]
  }
 ],
 "metadata": {
  "kernelspec": {
   "display_name": "Python 3 (ipykernel)",
   "language": "python",
   "name": "python3"
  },
  "language_info": {
   "codemirror_mode": {
    "name": "ipython",
    "version": 3
   },
   "file_extension": ".py",
   "mimetype": "text/x-python",
   "name": "python",
   "nbconvert_exporter": "python",
   "pygments_lexer": "ipython3",
   "version": "3.10.12"
  },
  "papermill": {
   "default_parameters": {},
   "duration": 9.023342,
   "end_time": "2024-04-28T19:20:34.073902",
   "environment_variables": {},
   "exception": null,
   "input_path": "Summarize latency.ipynb",
   "output_path": "Log - Summarize latency - Fix on.ipynb",
   "parameters": {
    "analysis_name": "fix_on",
    "results_subdir": "self_consistency_boot200-cp"
   },
   "start_time": "2024-04-28T19:20:25.050560",
   "version": "2.5.0"
  }
 },
 "nbformat": 4,
 "nbformat_minor": 5
}