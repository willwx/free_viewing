{
 "cells": [
  {
   "cell_type": "code",
   "execution_count": 1,
   "id": "b93ff90e-db91-4e5e-9363-ae820f13dfa7",
   "metadata": {
    "execution": {
     "iopub.execute_input": "2024-04-28T19:24:39.211626Z",
     "iopub.status.busy": "2024-04-28T19:24:39.211070Z",
     "iopub.status.idle": "2024-04-28T19:24:40.047173Z",
     "shell.execute_reply": "2024-04-28T19:24:40.046443Z"
    },
    "papermill": {
     "duration": 0.849762,
     "end_time": "2024-04-28T19:24:40.050459",
     "exception": false,
     "start_time": "2024-04-28T19:24:39.200697",
     "status": "completed"
    },
    "tags": []
   },
   "outputs": [],
   "source": [
    "from pathlib import Path\n",
    "\n",
    "import matplotlib.pyplot as plt\n",
    "import numpy as np\n",
    "import pandas as pd\n",
    "import seaborn as sns"
   ]
  },
  {
   "cell_type": "markdown",
   "id": "8ed686c1-8e7a-49b8-96a2-b283d84c37eb",
   "metadata": {
    "papermill": {
     "duration": 0.014059,
     "end_time": "2024-04-28T19:24:40.072105",
     "exception": false,
     "start_time": "2024-04-28T19:24:40.058046",
     "status": "completed"
    },
    "tags": []
   },
   "source": [
    "# Parameters"
   ]
  },
  {
   "cell_type": "code",
   "execution_count": 2,
   "id": "1fe14688-aede-4e57-a61d-eecac08fd033",
   "metadata": {
    "execution": {
     "iopub.execute_input": "2024-04-28T19:24:40.085963Z",
     "iopub.status.busy": "2024-04-28T19:24:40.085420Z",
     "iopub.status.idle": "2024-04-28T19:24:40.090481Z",
     "shell.execute_reply": "2024-04-28T19:24:40.089605Z"
    },
    "papermill": {
     "duration": 0.013854,
     "end_time": "2024-04-28T19:24:40.092365",
     "exception": false,
     "start_time": "2024-04-28T19:24:40.078511",
     "status": "completed"
    },
    "tags": [
     "parameters"
    ]
   },
   "outputs": [],
   "source": [
    "hier = False\n",
    "\n",
    "res = 0.25  # dva\n",
    "\n",
    "defaults = {'x': 0, 'y': 0, 'r': 2}"
   ]
  },
  {
   "cell_type": "code",
   "execution_count": 3,
   "id": "5c2f6502",
   "metadata": {
    "execution": {
     "iopub.execute_input": "2024-04-28T19:24:40.102370Z",
     "iopub.status.busy": "2024-04-28T19:24:40.101793Z",
     "iopub.status.idle": "2024-04-28T19:24:40.107221Z",
     "shell.execute_reply": "2024-04-28T19:24:40.105962Z"
    },
    "papermill": {
     "duration": 0.012333,
     "end_time": "2024-04-28T19:24:40.108827",
     "exception": false,
     "start_time": "2024-04-28T19:24:40.096494",
     "status": "completed"
    },
    "tags": [
     "injected-parameters"
    ]
   },
   "outputs": [],
   "source": [
    "# Parameters\n",
    "hier = False\n"
   ]
  },
  {
   "cell_type": "markdown",
   "id": "caeeaf65-cd26-43ef-b2f9-40f5719d80bf",
   "metadata": {
    "papermill": {
     "duration": 0.003771,
     "end_time": "2024-04-28T19:24:40.115880",
     "exception": false,
     "start_time": "2024-04-28T19:24:40.112109",
     "status": "completed"
    },
    "tags": []
   },
   "source": [
    "# Load catalogs"
   ]
  },
  {
   "cell_type": "code",
   "execution_count": 4,
   "id": "4bcffb08-ec8a-40f8-9f98-acb16e99ad5e",
   "metadata": {
    "execution": {
     "iopub.execute_input": "2024-04-28T19:24:40.123379Z",
     "iopub.status.busy": "2024-04-28T19:24:40.123194Z",
     "iopub.status.idle": "2024-04-28T19:24:40.161845Z",
     "shell.execute_reply": "2024-04-28T19:24:40.160634Z"
    },
    "papermill": {
     "duration": 0.045338,
     "end_time": "2024-04-28T19:24:40.164957",
     "exception": false,
     "start_time": "2024-04-28T19:24:40.119619",
     "status": "completed"
    },
    "tags": []
   },
   "outputs": [],
   "source": [
    "tag = 'hier_' if hier else ''\n",
    "unit_df = pd.read_csv(f'../../db/{tag}units.csv.gz')\n",
    "unit_df['Subject'] = [v[:2] for v in unit_df['Session']]"
   ]
  },
  {
   "cell_type": "code",
   "execution_count": 5,
   "id": "b8e1eb64-57d5-45fb-859b-c4bc999aba6b",
   "metadata": {
    "execution": {
     "iopub.execute_input": "2024-04-28T19:24:40.179979Z",
     "iopub.status.busy": "2024-04-28T19:24:40.179642Z",
     "iopub.status.idle": "2024-04-28T19:24:40.282033Z",
     "shell.execute_reply": "2024-04-28T19:24:40.281425Z"
    },
    "papermill": {
     "duration": 0.112779,
     "end_time": "2024-04-28T19:24:40.285206",
     "exception": false,
     "start_time": "2024-04-28T19:24:40.172427",
     "status": "completed"
    },
    "tags": []
   },
   "outputs": [],
   "source": [
    "ar_df = pd.read_csv('../../db/bank_array_regions.csv')\n",
    "ar_df['Subject'] = [v[:2] for v in ar_df['Session']]\n",
    "ar_df = ar_df.groupby(['Subject', 'Array ID']).first()\n",
    "unit_df['Region'] = ar_df.loc[pd.MultiIndex.from_frame(unit_df[['Subject', 'Array ID']]), 'Region'].values"
   ]
  },
  {
   "cell_type": "code",
   "execution_count": 6,
   "id": "6bfe0f48-bb6f-4100-acd0-adf78748b3b5",
   "metadata": {
    "execution": {
     "iopub.execute_input": "2024-04-28T19:24:40.299117Z",
     "iopub.status.busy": "2024-04-28T19:24:40.298869Z",
     "iopub.status.idle": "2024-04-28T19:24:40.442159Z",
     "shell.execute_reply": "2024-04-28T19:24:40.441287Z"
    },
    "papermill": {
     "duration": 0.153103,
     "end_time": "2024-04-28T19:24:40.445434",
     "exception": false,
     "start_time": "2024-04-28T19:24:40.292331",
     "status": "completed"
    },
    "tags": []
   },
   "outputs": [],
   "source": [
    "slatdf_path = 'summary/rf_fit.csv.gz'\n",
    "alatdf_path = 'summary/rf_fit-array_level.csv.gz'\n",
    "\n",
    "assert Path(slatdf_path).is_file()\n",
    "assert Path(alatdf_path).is_file()\n",
    "\n",
    "slat_df = pd.read_csv(slatdf_path)\n",
    "if hier:\n",
    "    slat_df['Name'] = [f'{v0}/{v1}' for v0, v1 in slat_df[['Level', 'Name']].values]\n",
    "\n",
    "alat_df = pd.read_csv(alatdf_path)"
   ]
  },
  {
   "cell_type": "markdown",
   "id": "1e76bb64-884c-4918-aa0b-f7d6856867d7",
   "metadata": {
    "papermill": {
     "duration": 0.007016,
     "end_time": "2024-04-28T19:24:40.460003",
     "exception": false,
     "start_time": "2024-04-28T19:24:40.452987",
     "status": "completed"
    },
    "tags": []
   },
   "source": [
    "# Impute values"
   ]
  },
  {
   "cell_type": "markdown",
   "id": "1dea1377-30d4-4817-9881-e58b240697a0",
   "metadata": {
    "papermill": {
     "duration": 0.004533,
     "end_time": "2024-04-28T19:24:40.470870",
     "exception": false,
     "start_time": "2024-04-28T19:24:40.466337",
     "status": "completed"
    },
    "tags": []
   },
   "source": [
    "### Apply resolution for estimates"
   ]
  },
  {
   "cell_type": "code",
   "execution_count": 7,
   "id": "31e6efc2-fde2-477f-86f3-2ba95beba4b9",
   "metadata": {
    "execution": {
     "iopub.execute_input": "2024-04-28T19:24:40.480467Z",
     "iopub.status.busy": "2024-04-28T19:24:40.479555Z",
     "iopub.status.idle": "2024-04-28T19:24:40.493779Z",
     "shell.execute_reply": "2024-04-28T19:24:40.492620Z"
    },
    "papermill": {
     "duration": 0.020608,
     "end_time": "2024-04-28T19:24:40.495721",
     "exception": false,
     "start_time": "2024-04-28T19:24:40.475113",
     "status": "completed"
    },
    "tags": []
   },
   "outputs": [],
   "source": [
    "slat_df[['x', 'y', 'r']] = (slat_df[['x', 'y', 'r']]/res).round().astype(int) * res\n",
    "alat_df[['x', 'y', 'r']] = (alat_df[['x', 'y', 'r']]/res).round().astype(int) * res"
   ]
  },
  {
   "cell_type": "markdown",
   "id": "01612a05-b605-40fc-bf74-eff2b955954e",
   "metadata": {
    "papermill": {
     "duration": 0.003215,
     "end_time": "2024-04-28T19:24:40.502356",
     "exception": false,
     "start_time": "2024-04-28T19:24:40.499141",
     "status": "completed"
    },
    "tags": []
   },
   "source": [
    "### Per unit, then channel, then array, within session"
   ]
  },
  {
   "cell_type": "code",
   "execution_count": 8,
   "id": "2912e0fb-fa97-40a9-abd8-f5f362155766",
   "metadata": {
    "execution": {
     "iopub.execute_input": "2024-04-28T19:24:40.508815Z",
     "iopub.status.busy": "2024-04-28T19:24:40.508639Z",
     "iopub.status.idle": "2024-04-28T19:24:40.647360Z",
     "shell.execute_reply": "2024-04-28T19:24:40.646782Z"
    },
    "papermill": {
     "duration": 0.143791,
     "end_time": "2024-04-28T19:24:40.649218",
     "exception": false,
     "start_time": "2024-04-28T19:24:40.505427",
     "status": "completed"
    },
    "tags": []
   },
   "outputs": [
    {
     "name": "stdout",
     "output_type": "stream",
     "text": [
      "36.1% (n = 24062) of units have Unit-level estimates\n",
      "\t36.1% (n = 24062) have no previous estimates\n",
      "63.9% (n = 42683 of units still lack an estimate\n",
      "\n",
      "24.1% (n = 16106) of units have Channel-level estimates\n",
      "\t8.9% (n = 5911) have no previous estimates\n",
      "55.1% (n = 36772 of units still lack an estimate\n",
      "\n",
      "41.8% (n = 27897) of units have Array-level estimates\n",
      "\t21.4% (n = 14303) have no previous estimates\n",
      "33.7% (n = 22469 of units still lack an estimate\n",
      "\n"
     ]
    }
   ],
   "source": [
    "assert 'Level' in slat_df.columns\n",
    "unit_df[[['x', 'y', 'r']]] = np.nan\n",
    "mn = np.isnan(unit_df['x'].values)\n",
    "\n",
    "for level in ('Unit', 'Channel', 'Array'):\n",
    "    m = slat_df['Level'] == level\n",
    "    assert m.any()\n",
    "    sllat_df = slat_df[m].groupby(['Session', 'Name']).agg({k: np.nanmedian for k in 'xyr'})\n",
    "    level_col = {'Unit': 'Name', 'Array': 'Array ID'}.get(level, level)\n",
    "    if hier:\n",
    "        unit_index = pd.MultiIndex.from_arrays([\n",
    "            unit_df['Session'],\n",
    "            [f'{level}/{n}' if level!='Unit' else n for n in unit_df[level_col]]])\n",
    "    else:\n",
    "        unit_index = pd.MultiIndex.from_frame(\n",
    "            unit_df[['Session', level_col]].astype(str))\n",
    "    unit_index.names = ['Session', 'Name']\n",
    "    vals = sllat_df[['x', 'y', 'r']].reindex(unit_index).values\n",
    "\n",
    "    msl_= np.isfinite(vals[:,0])\n",
    "    msl = mn & msl_\n",
    "    print(f'{msl_.mean()*100:.1f}% (n = {msl_.sum()}) of units have {level}-level estimates')\n",
    "    print(f'\\t{msl.mean()*100:.1f}% (n = {msl.sum()}) have no previous estimates')\n",
    "    unit_df.loc[msl, ['x', 'y', 'r']] = vals[msl]\n",
    "    unit_df.loc[msl, 'Source'] = level\n",
    "\n",
    "    mn = np.isnan(unit_df['x'].values)\n",
    "    print(f'{mn.mean()*100:.1f}% (n = {mn.sum()} of units still lack an estimate')\n",
    "    print()"
   ]
  },
  {
   "cell_type": "markdown",
   "id": "055d2147-adde-4be9-bae1-b4af2fb70cb2",
   "metadata": {
    "papermill": {
     "duration": 0.002392,
     "end_time": "2024-04-28T19:24:40.654225",
     "exception": false,
     "start_time": "2024-04-28T19:24:40.651833",
     "status": "completed"
    },
    "tags": []
   },
   "source": [
    "### Per array, across sessions"
   ]
  },
  {
   "cell_type": "code",
   "execution_count": 9,
   "id": "61b63d41-5467-44b3-ae46-b1faaf9ff76f",
   "metadata": {
    "execution": {
     "iopub.execute_input": "2024-04-28T19:24:40.660826Z",
     "iopub.status.busy": "2024-04-28T19:24:40.660198Z",
     "iopub.status.idle": "2024-04-28T19:24:40.686654Z",
     "shell.execute_reply": "2024-04-28T19:24:40.686088Z"
    },
    "papermill": {
     "duration": 0.033103,
     "end_time": "2024-04-28T19:24:40.689559",
     "exception": false,
     "start_time": "2024-04-28T19:24:40.656456",
     "status": "completed"
    },
    "tags": []
   },
   "outputs": [
    {
     "name": "stdout",
     "output_type": "stream",
     "text": [
      "56.4% (n = 37632 of units have array-level estimates\n",
      "\t12.7% (n = 8475) have no previous estimates\n",
      "21.0% (n = 13994 of units still lack an estimate\n"
     ]
    }
   ],
   "source": [
    "df_ = alat_df.set_index(['Subject', 'Name'])\n",
    "assert not df_.index.has_duplicates\n",
    "vals = df_[['x', 'y', 'r']].reindex(pd.MultiIndex.from_frame(unit_df[['Subject', 'Array ID']])).values\n",
    "ma = np.isfinite(vals[:,0])\n",
    "m = ma & np.isnan(unit_df['x'].values)\n",
    "unit_df.loc[m, ['x', 'y', 'r']] = vals[m]\n",
    "unit_df.loc[m, 'Source'] = 'Array, across sess'\n",
    "\n",
    "print(f'{ma.mean()*100:.1f}% (n = {ma.sum()} of units have array-level estimates')\n",
    "print(f'\\t{m.mean()*100:.1f}% (n = {m.sum()}) have no previous estimates')\n",
    "\n",
    "mn = np.isnan(unit_df['x'].values)\n",
    "print(f'{mn.mean()*100:.1f}% (n = {mn.sum()} of units still lack an estimate')"
   ]
  },
  {
   "cell_type": "markdown",
   "id": "fd4c09d5-d87d-40ff-86d5-e0c3bbeac6b1",
   "metadata": {
    "papermill": {
     "duration": 0.004817,
     "end_time": "2024-04-28T19:24:40.701971",
     "exception": false,
     "start_time": "2024-04-28T19:24:40.697154",
     "status": "completed"
    },
    "tags": []
   },
   "source": [
    "### Fixed default"
   ]
  },
  {
   "cell_type": "code",
   "execution_count": 10,
   "id": "2b0e1a71-2389-429c-af85-e7d8aa264442",
   "metadata": {
    "execution": {
     "iopub.execute_input": "2024-04-28T19:24:40.711441Z",
     "iopub.status.busy": "2024-04-28T19:24:40.711151Z",
     "iopub.status.idle": "2024-04-28T19:24:40.721001Z",
     "shell.execute_reply": "2024-04-28T19:24:40.719867Z"
    },
    "papermill": {
     "duration": 0.016202,
     "end_time": "2024-04-28T19:24:40.722929",
     "exception": false,
     "start_time": "2024-04-28T19:24:40.706727",
     "status": "completed"
    },
    "tags": []
   },
   "outputs": [
    {
     "name": "stdout",
     "output_type": "stream",
     "text": [
      "21.0% (n = 13994 of units used default estimates\n",
      "0.0% (n = 0 of units still lack an estimate\n"
     ]
    }
   ],
   "source": [
    "mx = np.isnan(unit_df['x'].values)\n",
    "for k in 'xyr':\n",
    "    unit_df.loc[mx, k] = defaults[k]\n",
    "unit_df.loc[mx, 'Source'] = 'Default'\n",
    "print(f'{mx.mean()*100:.1f}% (n = {mx.sum()} of units used default estimates')\n",
    "\n",
    "mn = np.isnan(unit_df['x'].values)\n",
    "print(f'{mn.mean()*100:.1f}% (n = {mn.sum()} of units still lack an estimate')\n",
    "assert not mn.any()"
   ]
  },
  {
   "cell_type": "markdown",
   "id": "1dd62698-c5e4-45c1-81fa-7b4ee4b2ab9b",
   "metadata": {
    "papermill": {
     "duration": 0.006747,
     "end_time": "2024-04-28T19:24:40.734590",
     "exception": false,
     "start_time": "2024-04-28T19:24:40.727843",
     "status": "completed"
    },
    "tags": []
   },
   "source": [
    "### Save results"
   ]
  },
  {
   "cell_type": "code",
   "execution_count": 11,
   "id": "8ee27c27-850f-4cc7-9bc3-aff78df825cd",
   "metadata": {
    "execution": {
     "iopub.execute_input": "2024-04-28T19:24:40.745477Z",
     "iopub.status.busy": "2024-04-28T19:24:40.745107Z",
     "iopub.status.idle": "2024-04-28T19:24:41.161884Z",
     "shell.execute_reply": "2024-04-28T19:24:41.160578Z"
    },
    "papermill": {
     "duration": 0.425495,
     "end_time": "2024-04-28T19:24:41.165261",
     "exception": false,
     "start_time": "2024-04-28T19:24:40.739766",
     "status": "completed"
    },
    "tags": []
   },
   "outputs": [],
   "source": [
    "assert np.isfinite(unit_df['x']).all()\n",
    "assert all(len(v) for v in unit_df['Source'])\n",
    "df = unit_df[['Session', 'Name', 'x', 'y', 'r', 'Source']]\n",
    "df.to_csv(f'../../db/per_{tag}unit_rf.csv.gz', index=False)"
   ]
  },
  {
   "cell_type": "code",
   "execution_count": 12,
   "id": "9ee1b5a6-a17a-484f-9a58-a63c8d7332a1",
   "metadata": {
    "execution": {
     "iopub.execute_input": "2024-04-28T19:24:41.181435Z",
     "iopub.status.busy": "2024-04-28T19:24:41.180922Z",
     "iopub.status.idle": "2024-04-28T19:24:41.205179Z",
     "shell.execute_reply": "2024-04-28T19:24:41.204613Z"
    },
    "papermill": {
     "duration": 0.03327,
     "end_time": "2024-04-28T19:24:41.206723",
     "exception": false,
     "start_time": "2024-04-28T19:24:41.173453",
     "status": "completed"
    },
    "tags": []
   },
   "outputs": [
    {
     "name": "stdout",
     "output_type": "stream",
     "text": [
      "Fraction of estimates from each source:\n"
     ]
    },
    {
     "data": {
      "text/html": [
       "<div>\n",
       "<style scoped>\n",
       "    .dataframe tbody tr th:only-of-type {\n",
       "        vertical-align: middle;\n",
       "    }\n",
       "\n",
       "    .dataframe tbody tr th {\n",
       "        vertical-align: top;\n",
       "    }\n",
       "\n",
       "    .dataframe thead th {\n",
       "        text-align: right;\n",
       "    }\n",
       "</style>\n",
       "<table border=\"1\" class=\"dataframe\">\n",
       "  <thead>\n",
       "    <tr style=\"text-align: right;\">\n",
       "      <th></th>\n",
       "      <th>Session</th>\n",
       "      <th>Name</th>\n",
       "      <th>x</th>\n",
       "      <th>y</th>\n",
       "      <th>r</th>\n",
       "    </tr>\n",
       "    <tr>\n",
       "      <th>Source</th>\n",
       "      <th></th>\n",
       "      <th></th>\n",
       "      <th></th>\n",
       "      <th></th>\n",
       "      <th></th>\n",
       "    </tr>\n",
       "  </thead>\n",
       "  <tbody>\n",
       "    <tr>\n",
       "      <th>Array</th>\n",
       "      <td>21.4</td>\n",
       "      <td>21.4</td>\n",
       "      <td>21.4</td>\n",
       "      <td>21.4</td>\n",
       "      <td>21.4</td>\n",
       "    </tr>\n",
       "    <tr>\n",
       "      <th>Array, across sess</th>\n",
       "      <td>12.7</td>\n",
       "      <td>12.7</td>\n",
       "      <td>12.7</td>\n",
       "      <td>12.7</td>\n",
       "      <td>12.7</td>\n",
       "    </tr>\n",
       "    <tr>\n",
       "      <th>Channel</th>\n",
       "      <td>8.9</td>\n",
       "      <td>8.9</td>\n",
       "      <td>8.9</td>\n",
       "      <td>8.9</td>\n",
       "      <td>8.9</td>\n",
       "    </tr>\n",
       "    <tr>\n",
       "      <th>Default</th>\n",
       "      <td>21.0</td>\n",
       "      <td>21.0</td>\n",
       "      <td>21.0</td>\n",
       "      <td>21.0</td>\n",
       "      <td>21.0</td>\n",
       "    </tr>\n",
       "    <tr>\n",
       "      <th>Unit</th>\n",
       "      <td>36.1</td>\n",
       "      <td>36.1</td>\n",
       "      <td>36.1</td>\n",
       "      <td>36.1</td>\n",
       "      <td>36.1</td>\n",
       "    </tr>\n",
       "  </tbody>\n",
       "</table>\n",
       "</div>"
      ],
      "text/plain": [
       "                    Session  Name     x     y     r\n",
       "Source                                             \n",
       "Array                  21.4  21.4  21.4  21.4  21.4\n",
       "Array, across sess     12.7  12.7  12.7  12.7  12.7\n",
       "Channel                 8.9   8.9   8.9   8.9   8.9\n",
       "Default                21.0  21.0  21.0  21.0  21.0\n",
       "Unit                   36.1  36.1  36.1  36.1  36.1"
      ]
     },
     "execution_count": 12,
     "metadata": {},
     "output_type": "execute_result"
    }
   ],
   "source": [
    "print('Fraction of estimates from each source:')\n",
    "(df.groupby(['Source']).count() / len(df) * 100).round(1)"
   ]
  },
  {
   "cell_type": "markdown",
   "id": "4a9ecb45-44fc-4f62-85fc-9012680c0b05",
   "metadata": {
    "papermill": {
     "duration": 0.003585,
     "end_time": "2024-04-28T19:24:41.214896",
     "exception": false,
     "start_time": "2024-04-28T19:24:41.211311",
     "status": "completed"
    },
    "tags": []
   },
   "source": [
    "### Summary plots"
   ]
  },
  {
   "cell_type": "code",
   "execution_count": 13,
   "id": "d2262a10-0d81-48b3-82d9-f4f4684490ab",
   "metadata": {
    "execution": {
     "iopub.execute_input": "2024-04-28T19:24:41.223141Z",
     "iopub.status.busy": "2024-04-28T19:24:41.222670Z",
     "iopub.status.idle": "2024-04-28T19:24:41.874423Z",
     "shell.execute_reply": "2024-04-28T19:24:41.873034Z"
    },
    "papermill": {
     "duration": 0.658045,
     "end_time": "2024-04-28T19:24:41.876121",
     "exception": false,
     "start_time": "2024-04-28T19:24:41.218076",
     "status": "completed"
    },
    "tags": []
   },
   "outputs": [
    {
     "data": {
      "image/png": "[encoded data removed]",
      "text/plain": [
       "<Figure size 900x250 with 3 Axes>"
      ]
     },
     "metadata": {},
     "output_type": "display_data"
    }
   ],
   "source": [
    "if hier:\n",
    "    m = unit_df['Source'] != 'Default'\n",
    "    for level in unit_df['Level'].unique():\n",
    "        fig, axs = plt.subplots(1, 3, figsize=(9, 2.5))\n",
    "        for x, ax in zip('xyr', axs):\n",
    "            sns.histplot(\n",
    "                data=unit_df[m&(unit_df['Level']==level)],\n",
    "                x=x, hue='Region', stat='density',\n",
    "                common_norm=False, binwidth=res, element='poly',\n",
    "                fill=False, ax=ax)\n",
    "        axs[0].set_title(level)\n",
    "else:\n",
    "    fig, axs = plt.subplots(1, 3, figsize=(9, 2.5))\n",
    "    for x, ax in zip('xyr', axs):\n",
    "        sns.histplot(\n",
    "            data=unit_df[unit_df['Source']!='Default'],\n",
    "            x=x, hue='Region', stat='density',\n",
    "            common_norm=False, binwidth=res, element='poly',\n",
    "            fill=False, ax=ax)"
   ]
  }
 ],
 "metadata": {
  "kernelspec": {
   "display_name": "Python 3 (ipykernel)",
   "language": "python",
   "name": "python3"
  },
  "language_info": {
   "codemirror_mode": {
    "name": "ipython",
    "version": 3
   },
   "file_extension": ".py",
   "mimetype": "text/x-python",
   "name": "python",
   "nbconvert_exporter": "python",
   "pygments_lexer": "ipython3",
   "version": "3.10.12"
  },
  "papermill": {
   "default_parameters": {},
   "duration": 4.056445,
   "end_time": "2024-04-28T19:24:42.302536",
   "environment_variables": {},
   "exception": null,
   "input_path": "Impute RF fit.ipynb",
   "output_path": "Log - Impute RF fit.ipynb",
   "parameters": {
    "hier": false
   },
   "start_time": "2024-04-28T19:24:38.246091",
   "version": "2.5.0"
  }
 },
 "nbformat": 4,
 "nbformat_minor": 5
}