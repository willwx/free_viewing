{
 "cells": [
  {
   "cell_type": "code",
   "execution_count": null,
   "id": "b93ff90e-db91-4e5e-9363-ae820f13dfa7",
   "metadata": {},
   "outputs": [],
   "source": [
    "from pathlib import Path\n",
    "\n",
    "import matplotlib.pyplot as plt\n",
    "import numpy as np\n",
    "import pandas as pd\n",
    "import seaborn as sns"
   ]
  },
  {
   "cell_type": "markdown",
   "id": "8ed686c1-8e7a-49b8-96a2-b283d84c37eb",
   "metadata": {},
   "source": [
    "# Parameters"
   ]
  },
  {
   "cell_type": "code",
   "execution_count": null,
   "id": "1fe14688-aede-4e57-a61d-eecac08fd033",
   "metadata": {
    "tags": [
     "parameters"
    ]
   },
   "outputs": [],
   "source": [
    "hier = False\n",
    "\n",
    "res = 0.25  # dva\n",
    "\n",
    "defaults = {'x': 0, 'y': 0, 'r': 2}"
   ]
  },
  {
   "cell_type": "markdown",
   "id": "caeeaf65-cd26-43ef-b2f9-40f5719d80bf",
   "metadata": {},
   "source": [
    "# Load catalogs"
   ]
  },
  {
   "cell_type": "code",
   "execution_count": null,
   "id": "4bcffb08-ec8a-40f8-9f98-acb16e99ad5e",
   "metadata": {},
   "outputs": [],
   "source": [
    "tag = 'hier_' if hier else ''\n",
    "unit_df = pd.read_csv(f'../../db/{tag}units.csv.gz')\n",
    "unit_df['Subject'] = [v[:2] for v in unit_df['Session']]"
   ]
  },
  {
   "cell_type": "code",
   "execution_count": null,
   "id": "b8e1eb64-57d5-45fb-859b-c4bc999aba6b",
   "metadata": {},
   "outputs": [],
   "source": [
    "ar_df = pd.read_csv('../../db/bank_array_regions.csv')\n",
    "ar_df['Subject'] = [v[:2] for v in ar_df['Session']]\n",
    "ar_df = ar_df.groupby(['Subject', 'Array ID']).first()\n",
    "unit_df['Region'] = ar_df.loc[pd.MultiIndex.from_frame(unit_df[['Subject', 'Array ID']]), 'Region'].values"
   ]
  },
  {
   "cell_type": "code",
   "execution_count": null,
   "id": "6bfe0f48-bb6f-4100-acd0-adf78748b3b5",
   "metadata": {},
   "outputs": [],
   "source": [
    "slatdf_path = 'summary/rf_fit.csv.gz'\n",
    "alatdf_path = 'summary/rf_fit-array_level.csv.gz'\n",
    "\n",
    "assert Path(slatdf_path).is_file()\n",
    "assert Path(alatdf_path).is_file()\n",
    "\n",
    "slat_df = pd.read_csv(slatdf_path)\n",
    "if hier:\n",
    "    slat_df['Name'] = [f'{v0}/{v1}' for v0, v1 in slat_df[['Level', 'Name']].values]\n",
    "\n",
    "alat_df = pd.read_csv(alatdf_path)"
   ]
  },
  {
   "cell_type": "markdown",
   "id": "1e76bb64-884c-4918-aa0b-f7d6856867d7",
   "metadata": {},
   "source": [
    "# Impute values"
   ]
  },
  {
   "cell_type": "markdown",
   "id": "1dea1377-30d4-4817-9881-e58b240697a0",
   "metadata": {},
   "source": [
    "### Apply resolution for estimates"
   ]
  },
  {
   "cell_type": "code",
   "execution_count": null,
   "id": "31e6efc2-fde2-477f-86f3-2ba95beba4b9",
   "metadata": {},
   "outputs": [],
   "source": [
    "slat_df[['x', 'y', 'r']] = (slat_df[['x', 'y', 'r']]/res).round().astype(int) * res\n",
    "alat_df[['x', 'y', 'r']] = (alat_df[['x', 'y', 'r']]/res).round().astype(int) * res"
   ]
  },
  {
   "cell_type": "markdown",
   "id": "01612a05-b605-40fc-bf74-eff2b955954e",
   "metadata": {},
   "source": [
    "### Per unit, then channel, then array, within session"
   ]
  },
  {
   "cell_type": "code",
   "execution_count": null,
   "id": "2912e0fb-fa97-40a9-abd8-f5f362155766",
   "metadata": {},
   "outputs": [],
   "source": [
    "assert 'Level' in slat_df.columns\n",
    "unit_df[[['x', 'y', 'r']]] = np.nan\n",
    "mn = np.isnan(unit_df['x'].values)\n",
    "\n",
    "for level in ('Unit', 'Channel', 'Array'):\n",
    "    m = slat_df['Level'] == level\n",
    "    assert m.any()\n",
    "    sllat_df = slat_df[m].groupby(['Session', 'Name']).agg({k: np.nanmedian for k in 'xyr'})\n",
    "    level_col = {'Unit': 'Name', 'Array': 'Array ID'}.get(level, level)\n",
    "    if hier:\n",
    "        unit_index = pd.MultiIndex.from_arrays([\n",
    "            unit_df['Session'],\n",
    "            [f'{level}/{n}' if level!='Unit' else n for n in unit_df[level_col]]])\n",
    "    else:\n",
    "        unit_index = pd.MultiIndex.from_frame(\n",
    "            unit_df[['Session', level_col]].astype(str))\n",
    "    unit_index.names = ['Session', 'Name']\n",
    "    vals = sllat_df[['x', 'y', 'r']].reindex(unit_index).values\n",
    "\n",
    "    msl_= np.isfinite(vals[:,0])\n",
    "    msl = mn & msl_\n",
    "    print(f'{msl_.mean()*100:.1f}% (n = {msl_.sum()}) of units have {level}-level estimates')\n",
    "    print(f'\\t{msl.mean()*100:.1f}% (n = {msl.sum()}) have no previous estimates')\n",
    "    unit_df.loc[msl, ['x', 'y', 'r']] = vals[msl]\n",
    "    unit_df.loc[msl, 'Source'] = level\n",
    "\n",
    "    mn = np.isnan(unit_df['x'].values)\n",
    "    print(f'{mn.mean()*100:.1f}% (n = {mn.sum()} of units still lack an estimate')\n",
    "    print()"
   ]
  },
  {
   "cell_type": "markdown",
   "id": "055d2147-adde-4be9-bae1-b4af2fb70cb2",
   "metadata": {},
   "source": [
    "### Per array, across sessions"
   ]
  },
  {
   "cell_type": "code",
   "execution_count": null,
   "id": "61b63d41-5467-44b3-ae46-b1faaf9ff76f",
   "metadata": {},
   "outputs": [],
   "source": [
    "df_ = alat_df.set_index(['Subject', 'Name'])\n",
    "assert not df_.index.has_duplicates\n",
    "vals = df_[['x', 'y', 'r']].reindex(pd.MultiIndex.from_frame(unit_df[['Subject', 'Array ID']])).values\n",
    "ma = np.isfinite(vals[:,0])\n",
    "m = ma & np.isnan(unit_df['x'].values)\n",
    "unit_df.loc[m, ['x', 'y', 'r']] = vals[m]\n",
    "unit_df.loc[m, 'Source'] = 'Array, across sess'\n",
    "\n",
    "print(f'{ma.mean()*100:.1f}% (n = {ma.sum()} of units have array-level estimates')\n",
    "print(f'\\t{m.mean()*100:.1f}% (n = {m.sum()}) have no previous estimates')\n",
    "\n",
    "mn = np.isnan(unit_df['x'].values)\n",
    "print(f'{mn.mean()*100:.1f}% (n = {mn.sum()} of units still lack an estimate')"
   ]
  },
  {
   "cell_type": "markdown",
   "id": "fd4c09d5-d87d-40ff-86d5-e0c3bbeac6b1",
   "metadata": {},
   "source": [
    "### Fixed default"
   ]
  },
  {
   "cell_type": "code",
   "execution_count": null,
   "id": "2b0e1a71-2389-429c-af85-e7d8aa264442",
   "metadata": {},
   "outputs": [],
   "source": [
    "mx = np.isnan(unit_df['x'].values)\n",
    "for k in 'xyr':\n",
    "    unit_df.loc[mx, k] = defaults[k]\n",
    "unit_df.loc[mx, 'Source'] = 'Default'\n",
    "print(f'{mx.mean()*100:.1f}% (n = {mx.sum()} of units used default estimates')\n",
    "\n",
    "mn = np.isnan(unit_df['x'].values)\n",
    "print(f'{mn.mean()*100:.1f}% (n = {mn.sum()} of units still lack an estimate')\n",
    "assert not mn.any()"
   ]
  },
  {
   "cell_type": "markdown",
   "id": "1dd62698-c5e4-45c1-81fa-7b4ee4b2ab9b",
   "metadata": {},
   "source": [
    "### Save results"
   ]
  },
  {
   "cell_type": "code",
   "execution_count": null,
   "id": "8ee27c27-850f-4cc7-9bc3-aff78df825cd",
   "metadata": {},
   "outputs": [],
   "source": [
    "assert np.isfinite(unit_df['x']).all()\n",
    "assert all(len(v) for v in unit_df['Source'])\n",
    "df = unit_df[['Session', 'Name', 'x', 'y', 'r', 'Source']]\n",
    "df.to_csv(f'../../db/per_{tag}unit_rf.csv.gz', index=False)"
   ]
  },
  {
   "cell_type": "code",
   "execution_count": null,
   "id": "9ee1b5a6-a17a-484f-9a58-a63c8d7332a1",
   "metadata": {},
   "outputs": [],
   "source": [
    "print('Fraction of estimates from each source:')\n",
    "(df.groupby(['Source']).count() / len(df) * 100).round(1)"
   ]
  },
  {
   "cell_type": "markdown",
   "id": "4a9ecb45-44fc-4f62-85fc-9012680c0b05",
   "metadata": {},
   "source": [
    "### Summary plots"
   ]
  },
  {
   "cell_type": "code",
   "execution_count": null,
   "id": "d2262a10-0d81-48b3-82d9-f4f4684490ab",
   "metadata": {},
   "outputs": [],
   "source": [
    "if hier:\n",
    "    m = unit_df['Source'] != 'Default'\n",
    "    for level in unit_df['Level'].unique():\n",
    "        fig, axs = plt.subplots(1, 3, figsize=(9, 2.5))\n",
    "        for x, ax in zip('xyr', axs):\n",
    "            sns.histplot(\n",
    "                data=unit_df[m&(unit_df['Level']==level)],\n",
    "                x=x, hue='Region', stat='density',\n",
    "                common_norm=False, binwidth=res, element='poly',\n",
    "                fill=False, ax=ax)\n",
    "        axs[0].set_title(level)\n",
    "else:\n",
    "    fig, axs = plt.subplots(1, 3, figsize=(9, 2.5))\n",
    "    for x, ax in zip('xyr', axs):\n",
    "        sns.histplot(\n",
    "            data=unit_df[unit_df['Source']!='Default'],\n",
    "            x=x, hue='Region', stat='density',\n",
    "            common_norm=False, binwidth=res, element='poly',\n",
    "            fill=False, ax=ax)"
   ]
  }
 ],
 "metadata": {
  "kernelspec": {
   "display_name": "Python 3 (ipykernel)",
   "language": "python",
   "name": "python3"
  },
  "language_info": {
   "codemirror_mode": {
    "name": "ipython",
    "version": 3
   },
   "file_extension": ".py",
   "mimetype": "text/x-python",
   "name": "python",
   "nbconvert_exporter": "python",
   "pygments_lexer": "ipython3",
   "version": "3.10.12"
  }
 },
 "nbformat": 4,
 "nbformat_minor": 5
}
