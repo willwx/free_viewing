{
 "cells": [
  {
   "cell_type": "code",
   "execution_count": 1,
   "id": "18c00723-a503-4eed-98da-d6d5c4a7df03",
   "metadata": {
    "execution": {
     "iopub.execute_input": "2024-02-18T18:19:00.441697Z",
     "iopub.status.busy": "2024-02-18T18:19:00.441044Z",
     "iopub.status.idle": "2024-02-18T18:19:00.722691Z",
     "shell.execute_reply": "2024-02-18T18:19:00.722103Z"
    },
    "papermill": {
     "duration": 0.294378,
     "end_time": "2024-02-18T18:19:00.726022",
     "exception": false,
     "start_time": "2024-02-18T18:19:00.431644",
     "status": "completed"
    },
    "tags": []
   },
   "outputs": [],
   "source": [
    "import sys\n",
    "from pathlib import Path\n",
    "\n",
    "import h5py as h5\n",
    "import numpy as np\n",
    "import pandas as pd\n",
    "\n",
    "sys.path.append('../lib')\n",
    "from storage import get_storage_functions\n",
    "from local_paths import preproc_dir"
   ]
  },
  {
   "cell_type": "markdown",
   "id": "17729b73-3665-4f1e-8458-1f0fea2ab33c",
   "metadata": {
    "papermill": {
     "duration": 0.005004,
     "end_time": "2024-02-18T18:19:00.738339",
     "exception": false,
     "start_time": "2024-02-18T18:19:00.733335",
     "status": "completed"
    },
    "tags": []
   },
   "source": [
    "# Parameters"
   ]
  },
  {
   "cell_type": "code",
   "execution_count": 2,
   "id": "f5889c0a-88ef-429b-a2b5-cfd13280c100",
   "metadata": {
    "execution": {
     "iopub.execute_input": "2024-02-18T18:19:00.748493Z",
     "iopub.status.busy": "2024-02-18T18:19:00.747939Z",
     "iopub.status.idle": "2024-02-18T18:19:00.754295Z",
     "shell.execute_reply": "2024-02-18T18:19:00.753031Z"
    },
    "papermill": {
     "duration": 0.013909,
     "end_time": "2024-02-18T18:19:00.756743",
     "exception": false,
     "start_time": "2024-02-18T18:19:00.742834",
     "status": "completed"
    },
    "tags": [
     "parameters"
    ]
   },
   "outputs": [],
   "source": [
    "#============================================================================\n",
    "# session\n",
    "#============================================================================\n",
    "sess_name = 'sess_name'\n",
    "\n",
    "\n",
    "#============================================================================\n",
    "# main\n",
    "#============================================================================\n",
    "# fixation selection\n",
    "min_fix_dur  = 100   # ms\n",
    "within_image = True  # whther fixation must land within image bounds\n",
    "t_margin     = 500   # ms; make sure neural data covers fixation periods\n",
    "\n",
    "# saccade selection\n",
    "min_sacc_size =    4  # dva; only consider saccades at least this large\n",
    "# - make sure any other fixation(s) closer than `min_sep_win` from the saccade\n",
    "#   are also at least `min_sacc_size` apart across the saccade\n",
    "min_sep_win   =  100  # ms\n",
    "\n",
    "\n",
    "#============================================================================\n",
    "# paths\n",
    "#============================================================================\n",
    "# this script will write to preproc file\n",
    "proc_dir = preproc_dir\n",
    "overwrite = False  # overwrite any existing results; use with caution"
   ]
  },
  {
   "cell_type": "code",
   "execution_count": 3,
   "id": "3047bb5d",
   "metadata": {
    "execution": {
     "iopub.execute_input": "2024-02-18T18:19:00.767585Z",
     "iopub.status.busy": "2024-02-18T18:19:00.766912Z",
     "iopub.status.idle": "2024-02-18T18:19:00.772536Z",
     "shell.execute_reply": "2024-02-18T18:19:00.771389Z"
    },
    "papermill": {
     "duration": 0.013378,
     "end_time": "2024-02-18T18:19:00.774512",
     "exception": false,
     "start_time": "2024-02-18T18:19:00.761134",
     "status": "completed"
    },
    "tags": [
     "injected-parameters"
    ]
   },
   "outputs": [],
   "source": [
    "# Parameters\n",
    "sess_name = \"Pa210201\"\n"
   ]
  },
  {
   "cell_type": "markdown",
   "id": "1cd19601-6967-4489-b144-40f0c3f35761",
   "metadata": {
    "papermill": {
     "duration": 0.003636,
     "end_time": "2024-02-18T18:19:00.781736",
     "exception": false,
     "start_time": "2024-02-18T18:19:00.778100",
     "status": "completed"
    },
    "tags": []
   },
   "source": [
    "# Check parameters and whether already done"
   ]
  },
  {
   "cell_type": "code",
   "execution_count": 4,
   "id": "f4dc0b40-d2ed-4c77-bad2-ef6b5a166f3a",
   "metadata": {
    "execution": {
     "iopub.execute_input": "2024-02-18T18:19:00.789783Z",
     "iopub.status.busy": "2024-02-18T18:19:00.789265Z",
     "iopub.status.idle": "2024-02-18T18:19:00.797831Z",
     "shell.execute_reply": "2024-02-18T18:19:00.796517Z"
    },
    "papermill": {
     "duration": 0.01564,
     "end_time": "2024-02-18T18:19:00.800955",
     "exception": false,
     "start_time": "2024-02-18T18:19:00.785315",
     "status": "completed"
    },
    "tags": []
   },
   "outputs": [
    {
     "name": "stdout",
     "output_type": "stream",
     "text": [
      "Loading shared processing from ../test_data/Pa210201-proc.h5\n"
     ]
    }
   ],
   "source": [
    "proc_path = Path(proc_dir) / (sess_name + '-proc.h5')\n",
    "print('Loading shared processing from', proc_path)\n",
    "proc_path = proc_path.expanduser()\n",
    "assert proc_path.is_file()\n",
    "\n",
    "output_path = proc_path"
   ]
  },
  {
   "cell_type": "code",
   "execution_count": 5,
   "id": "ba89c110-d7af-415c-8ef3-80acf05661d8",
   "metadata": {
    "execution": {
     "iopub.execute_input": "2024-02-18T18:19:00.815728Z",
     "iopub.status.busy": "2024-02-18T18:19:00.815054Z",
     "iopub.status.idle": "2024-02-18T18:19:00.828027Z",
     "shell.execute_reply": "2024-02-18T18:19:00.826834Z"
    },
    "papermill": {
     "duration": 0.023317,
     "end_time": "2024-02-18T18:19:00.830937",
     "exception": false,
     "start_time": "2024-02-18T18:19:00.807620",
     "status": "completed"
    },
    "tags": []
   },
   "outputs": [],
   "source": [
    "if output_path.is_file():\n",
    "    if overwrite:\n",
    "        with h5.File(output_path, 'a') as f:\n",
    "            for g in ('fixation_selection', 'saccade_selection', 'progress_report/select_fix_sacc/all_done'):\n",
    "                if g in f:\n",
    "                    del f[g]\n",
    "    else:\n",
    "        with h5.File(output_path, 'r') as f:\n",
    "            try:\n",
    "                if f['progress_report/select_fix_sacc/all_done'][()].item():\n",
    "                    raise RuntimeError(f'{sess_name} has already been processed')\n",
    "            except KeyError:\n",
    "                pass"
   ]
  },
  {
   "cell_type": "code",
   "execution_count": 6,
   "id": "a7d88875-1c9c-4737-be9d-7439c5634055",
   "metadata": {
    "execution": {
     "iopub.execute_input": "2024-02-18T18:19:00.845374Z",
     "iopub.status.busy": "2024-02-18T18:19:00.844600Z",
     "iopub.status.idle": "2024-02-18T18:19:00.850895Z",
     "shell.execute_reply": "2024-02-18T18:19:00.849620Z"
    },
    "papermill": {
     "duration": 0.015399,
     "end_time": "2024-02-18T18:19:00.853040",
     "exception": false,
     "start_time": "2024-02-18T18:19:00.837641",
     "status": "completed"
    },
    "tags": []
   },
   "outputs": [],
   "source": [
    "save_results, add_attr_to_dset, check_equals_saved, link_dsets, copy_group = \\\n",
    "    get_storage_functions(output_path, overwrite=overwrite)"
   ]
  },
  {
   "cell_type": "code",
   "execution_count": 7,
   "id": "03ecf94a-6f1f-4ad6-8f35-3fa6a271629a",
   "metadata": {
    "execution": {
     "iopub.execute_input": "2024-02-18T18:19:00.864563Z",
     "iopub.status.busy": "2024-02-18T18:19:00.863569Z",
     "iopub.status.idle": "2024-02-18T18:19:00.935671Z",
     "shell.execute_reply": "2024-02-18T18:19:00.935054Z"
    },
    "papermill": {
     "duration": 0.080204,
     "end_time": "2024-02-18T18:19:00.937989",
     "exception": false,
     "start_time": "2024-02-18T18:19:00.857785",
     "status": "completed"
    },
    "tags": []
   },
   "outputs": [],
   "source": [
    "fix_df = pd.read_hdf(proc_path, 'fixation_dataframe', 'r')\n",
    "with h5.File(proc_path, 'r') as f:\n",
    "    duration = f['recording_duration'][()]\n",
    "    im_size_dva = f['stimulus/size_dva'][()]"
   ]
  },
  {
   "cell_type": "markdown",
   "id": "74485762-8d07-4dc2-83bc-3ce3ae9d00b4",
   "metadata": {
    "papermill": {
     "duration": 0.005974,
     "end_time": "2024-02-18T18:19:00.950319",
     "exception": false,
     "start_time": "2024-02-18T18:19:00.944345",
     "status": "completed"
    },
    "tags": []
   },
   "source": [
    "# Select fixations"
   ]
  },
  {
   "cell_type": "code",
   "execution_count": 8,
   "id": "03001ffa-088f-4ec3-9397-380dd2872c2c",
   "metadata": {
    "execution": {
     "iopub.execute_input": "2024-02-18T18:19:00.961032Z",
     "iopub.status.busy": "2024-02-18T18:19:00.960626Z",
     "iopub.status.idle": "2024-02-18T18:19:00.972082Z",
     "shell.execute_reply": "2024-02-18T18:19:00.971204Z"
    },
    "papermill": {
     "duration": 0.02048,
     "end_time": "2024-02-18T18:19:00.975401",
     "exception": false,
     "start_time": "2024-02-18T18:19:00.954921",
     "status": "completed"
    },
    "tags": []
   },
   "outputs": [
    {
     "name": "stdout",
     "output_type": "stream",
     "text": [
      "from 6927 fixations, selecting 6215 with duration >= 100 ms and within recording bounds\n",
      "from 6215 fixations, selecting 5979 that are fully within image bounds (size: [16. 16.])\n",
      "selected 5979 fixations\n"
     ]
    }
   ],
   "source": [
    "fix_sel_mask = (\n",
    "    (fix_df['Duration'] >= min_fix_dur)\n",
    "    & (fix_df['Time'] >= t_margin)\n",
    "    & (fix_df['End time'] <= (duration-t_margin))\n",
    ").values\n",
    "print(f'from {len(fix_df)} fixations, selecting {fix_sel_mask.sum()} '\n",
    "      f'with duration >= {min_fix_dur} ms and within recording bounds')\n",
    "\n",
    "# fixation must land within image bounds\n",
    "if within_image:\n",
    "    xys = fix_df[['Relative X', 'Relative Y']].values.astype(float)\n",
    "    d2b = np.array([\n",
    "        np.max([xys[:,j]-im_size_dva[j]/2, -im_size_dva[j]/2-xys[:,j]], axis=0)\n",
    "        for j in range(2)\n",
    "    ])  # shape (2, n_fix)\n",
    "    m = fix_sel_mask & np.all(d2b<0, axis=0)  # shape (n_fix,)\n",
    "    print(f'from {fix_sel_mask.sum()} fixations, selecting {m.sum()} '\n",
    "          f'that are fully within image bounds (size: {im_size_dva})')\n",
    "    fix_sel_mask = m\n",
    "\n",
    "fix_sel = np.nonzero(fix_sel_mask)[0]\n",
    "print(f'selected {len(fix_sel)} fixations')"
   ]
  },
  {
   "cell_type": "code",
   "execution_count": 9,
   "id": "977ee010-a050-49d6-91bc-50304a2235c8",
   "metadata": {
    "execution": {
     "iopub.execute_input": "2024-02-18T18:19:00.989823Z",
     "iopub.status.busy": "2024-02-18T18:19:00.989202Z",
     "iopub.status.idle": "2024-02-18T18:19:01.059847Z",
     "shell.execute_reply": "2024-02-18T18:19:01.059151Z"
    },
    "papermill": {
     "duration": 0.080808,
     "end_time": "2024-02-18T18:19:01.063003",
     "exception": false,
     "start_time": "2024-02-18T18:19:00.982195",
     "status": "completed"
    },
    "tags": []
   },
   "outputs": [],
   "source": [
    "save_results('fixation_selection/min_fix_dur', min_fix_dur, attrs=dict(unit='ms'))\n",
    "save_results('fixation_selection/within_image', within_image)\n",
    "save_results('fixation_selection/t_margin', t_margin, attrs=dict(unit='ms'))\n",
    "save_results('fixation_selection/fixation_indices', fix_sel)  # shape (nfix,) indexing into fix_df"
   ]
  },
  {
   "cell_type": "markdown",
   "id": "fabda188-8352-47b2-9ead-457225adfffc",
   "metadata": {
    "papermill": {
     "duration": 0.005676,
     "end_time": "2024-02-18T18:19:01.076164",
     "exception": false,
     "start_time": "2024-02-18T18:19:01.070488",
     "status": "completed"
    },
    "tags": []
   },
   "source": [
    "# Select saccades"
   ]
  },
  {
   "cell_type": "code",
   "execution_count": 10,
   "id": "dc060ad7-3a00-4bee-972d-77d6ef4e3ec7",
   "metadata": {
    "execution": {
     "iopub.execute_input": "2024-02-18T18:19:01.087121Z",
     "iopub.status.busy": "2024-02-18T18:19:01.086324Z",
     "iopub.status.idle": "2024-02-18T18:19:01.102575Z",
     "shell.execute_reply": "2024-02-18T18:19:01.101251Z"
    },
    "papermill": {
     "duration": 0.023559,
     "end_time": "2024-02-18T18:19:01.104839",
     "exception": false,
     "start_time": "2024-02-18T18:19:01.081280",
     "status": "completed"
    },
    "tags": []
   },
   "outputs": [
    {
     "name": "stdout",
     "output_type": "stream",
     "text": [
      "from 5979 fixations, selecting 4607 with a previous fixation\n",
      "from 4607 saccades, selecting 4037 with starting fixations that also match selection criteria\n",
      "selected 4037 saccades\n"
     ]
    }
   ],
   "source": [
    "# start with selected fixations\n",
    "fix2_sel = fix_sel.copy()\n",
    "\n",
    "# 1. have a previous fixation\n",
    "m = fix_df.iloc[fix2_sel]['Preceding fixation index'].values >= 0\n",
    "fix2_sel = fix2_sel[m]\n",
    "fix1_sel = fix_df.iloc[fix2_sel]['Preceding fixation index'].values.astype(fix2_sel.dtype)\n",
    "print(f'from {m.size} fixations, selecting {fix2_sel.size} with a previous fixation')\n",
    "\n",
    "# 2. previous fixation must also be selected\n",
    "m = pd.Series(fix1_sel).isin(fix_sel).values\n",
    "fix2_sel = fix2_sel[m]\n",
    "fix1_sel = fix1_sel[m]\n",
    "print(f'from {len(m)} saccades, selecting {len(fix2_sel)} '\n",
    "      f'with starting fixations that also match selection criteria')\n",
    "\n",
    "sacc_vecs_sel = (\n",
    "    fix_df.iloc[fix2_sel][['Relative X', 'Relative Y']].values\n",
    "    - fix_df.iloc[fix1_sel][['Relative X', 'Relative Y']].values)\n",
    "sacc_sizes = np.linalg.norm(sacc_vecs_sel, axis=-1)\n",
    "\n",
    "sacc_sel = np.array([fix1_sel, fix2_sel])\n",
    "print(f'selected {sacc_sel.shape[1]} saccades')"
   ]
  },
  {
   "cell_type": "markdown",
   "id": "c66e1949-6ffe-4be3-af00-5b7c6967b629",
   "metadata": {
    "papermill": {
     "duration": 0.004097,
     "end_time": "2024-02-18T18:19:01.113602",
     "exception": false,
     "start_time": "2024-02-18T18:19:01.109505",
     "status": "completed"
    },
    "tags": []
   },
   "source": [
    "### Further select large saccades"
   ]
  },
  {
   "cell_type": "code",
   "execution_count": 11,
   "id": "79d513e9-7d5f-474d-b87d-3d586c94cc9b",
   "metadata": {
    "execution": {
     "iopub.execute_input": "2024-02-18T18:19:01.124002Z",
     "iopub.status.busy": "2024-02-18T18:19:01.123040Z",
     "iopub.status.idle": "2024-02-18T18:19:02.254410Z",
     "shell.execute_reply": "2024-02-18T18:19:02.252986Z"
    },
    "papermill": {
     "duration": 1.139742,
     "end_time": "2024-02-18T18:19:02.257632",
     "exception": false,
     "start_time": "2024-02-18T18:19:01.117890",
     "status": "completed"
    },
    "tags": []
   },
   "outputs": [
    {
     "name": "stdout",
     "output_type": "stream",
     "text": [
      "from 4037 saccades, selecting 2399 >= 4 dva\n"
     ]
    },
    {
     "name": "stdout",
     "output_type": "stream",
     "text": [
      "from 2399 saccades, selecting 2399 whose pre-/post-fixations (within 100 ms of saccade) are also at least 4 dva apart\n"
     ]
    }
   ],
   "source": [
    "# 3. saccade size must be large\n",
    "m = sacc_sizes >= min_sacc_size\n",
    "sel = np.nonzero(m)[0]\n",
    "print(f'from {len(m)} saccades, selecting {len(sel)} >= {min_sacc_size} dva')\n",
    "\n",
    "# 4. nearby fixations must also be at least `min_sacc_size` apart across the saccade\n",
    "#    this check is redundant if min_sep_win <= min_fix_dur, but check just in case\n",
    "min_seps = sacc_sizes[m].copy()\n",
    "for i, ((itr, ifix), row) in enumerate(fix_df.iloc[fix2_sel[sel]].iterrows()):\n",
    "    t0 = fix_df.iloc[fix1_sel[sel[i]]]['End time']  # saccade start time\n",
    "    t1 = row['Time']  # saccade stop time\n",
    "    tr_fixs = fix_df.loc[(itr, slice(None))]\n",
    "\n",
    "    m0 = tr_fixs.index < ifix - 1\n",
    "    if not m0.any(): continue\n",
    "    m0[m0] = tr_fixs.loc[m0, 'End time'].values > (t0 - min_sep_win)\n",
    "    if not m0.any(): continue\n",
    "\n",
    "    m1 = tr_fixs.index > ifix\n",
    "    if not m1.any(): continue\n",
    "    m1[m1] = tr_fixs.loc[m1, 'Time'] <= (t1 + min_sep_win)\n",
    "    if not m1.any(): continue\n",
    "\n",
    "    pwd = np.linalg.norm(\n",
    "        tr_fixs.loc[m0, ['Relative X', 'Relative Y']].values[:,None,:]\n",
    "        - tr_fixs.loc[m1, ['Relative X', 'Relative Y']].values[None,:,:],\n",
    "        axis=-1)\n",
    "    min_seps[i] = pwd.min()\n",
    "\n",
    "submask = m.copy()\n",
    "submask[submask] = m = min_seps >= min_sacc_size\n",
    "print(f'from {len(sel)} saccades, selecting {submask.sum()} whose pre-/post-fixations '\n",
    "      f'(within {min_sep_win} ms of saccade) are also at least {min_sacc_size} dva apart')"
   ]
  },
  {
   "cell_type": "code",
   "execution_count": 12,
   "id": "f458dca8-be10-462c-8b19-26eddbd2ebdc",
   "metadata": {
    "execution": {
     "iopub.execute_input": "2024-02-18T18:19:02.282529Z",
     "iopub.status.busy": "2024-02-18T18:19:02.282041Z",
     "iopub.status.idle": "2024-02-18T18:19:02.359785Z",
     "shell.execute_reply": "2024-02-18T18:19:02.358386Z"
    },
    "papermill": {
     "duration": 0.097681,
     "end_time": "2024-02-18T18:19:02.363298",
     "exception": false,
     "start_time": "2024-02-18T18:19:02.265617",
     "status": "completed"
    },
    "tags": []
   },
   "outputs": [],
   "source": [
    "link_dsets('saccade_selection/fixation_selection', 'fixation_selection')\n",
    "save_results('saccade_selection/fixation_indices', sacc_sel)  # shape (2, nsacc) indexing into fix_df\n",
    "save_results('saccade_selection/saccade_sizes', sacc_sizes, attrs=dict(unit='dva'))  # shape (nsacc,)\n",
    "\n",
    "save_results('saccade_selection/large/min_sacc_size', min_sacc_size, attrs=dict(unit='dva'))\n",
    "save_results('saccade_selection/large/min_sep_win', min_sep_win, attrs=dict(unit='ms'))\n",
    "save_results('saccade_selection/large/saccade_subset', submask)  # shape (nsacc,) binary selection into sacc_sel\n",
    "save_results('saccade_selection/large/saccade_sizes', sacc_sizes[submask], attrs=dict(unit='dva'))  # shape (nsacc_lg,)\n",
    "save_results('saccade_selection/large/min_seperations', min_seps[m], attrs=dict(unit='dva'))  # shape (nsacc_lg,)"
   ]
  },
  {
   "cell_type": "markdown",
   "id": "92707de3-b60c-40aa-9358-856a3e04ddfe",
   "metadata": {
    "papermill": {
     "duration": 0.005784,
     "end_time": "2024-02-18T18:19:02.377167",
     "exception": false,
     "start_time": "2024-02-18T18:19:02.371383",
     "status": "completed"
    },
    "tags": []
   },
   "source": [
    "# Wrap up"
   ]
  },
  {
   "cell_type": "code",
   "execution_count": 13,
   "id": "48d486b4-4917-4ac1-838b-2a644c06ce58",
   "metadata": {
    "execution": {
     "iopub.execute_input": "2024-02-18T18:19:02.392723Z",
     "iopub.status.busy": "2024-02-18T18:19:02.392065Z",
     "iopub.status.idle": "2024-02-18T18:19:02.399647Z",
     "shell.execute_reply": "2024-02-18T18:19:02.398527Z"
    },
    "papermill": {
     "duration": 0.019221,
     "end_time": "2024-02-18T18:19:02.402149",
     "exception": false,
     "start_time": "2024-02-18T18:19:02.382928",
     "status": "completed"
    },
    "tags": []
   },
   "outputs": [],
   "source": [
    "save_results('progress_report/select_fix_sacc/all_done', True)"
   ]
  },
  {
   "cell_type": "code",
   "execution_count": 14,
   "id": "fe37c086-5c32-47a9-814c-f8c3a2a093af",
   "metadata": {
    "execution": {
     "iopub.execute_input": "2024-02-18T18:19:02.419082Z",
     "iopub.status.busy": "2024-02-18T18:19:02.418221Z",
     "iopub.status.idle": "2024-02-18T18:19:02.461744Z",
     "shell.execute_reply": "2024-02-18T18:19:02.460355Z"
    },
    "papermill": {
     "duration": 0.05468,
     "end_time": "2024-02-18T18:19:02.464998",
     "exception": false,
     "start_time": "2024-02-18T18:19:02.410318",
     "status": "completed"
    },
    "tags": []
   },
   "outputs": [
    {
     "name": "stdout",
     "output_type": "stream",
     "text": [
      "Python implementation: CPython\n",
      "Python version       : 3.10.12\n",
      "IPython version      : 8.12.0\n",
      "\n",
      "Compiler    : GCC 11.4.0\n",
      "OS          : Linux\n",
      "Release     : 5.15.0-92-generic\n",
      "Machine     : x86_64\n",
      "Processor   : x86_64\n",
      "CPU cores   : 20\n",
      "Architecture: 64bit\n",
      "\n",
      "Git hash: b0bb10f45dee065cc3af96fe224326b883d27431\n",
      "\n",
      "Git repo: https://github.com/willwx/free_viewing_staging.git\n",
      "\n",
      "Git branch: master\n",
      "\n",
      "h5py  : 3.8.0\n",
      "numpy : 1.24.3\n",
      "sys   : 3.10.12 (main, Nov 20 2023, 15:14:05) [GCC 11.4.0]\n",
      "pandas: 2.0.1\n",
      "\n"
     ]
    }
   ],
   "source": [
    "%load_ext watermark\n",
    "%watermark -vm --iversions -rbg"
   ]
  }
 ],
 "metadata": {
  "kernelspec": {
   "display_name": "Python 3 (ipykernel)",
   "language": "python",
   "name": "python3"
  },
  "language_info": {
   "codemirror_mode": {
    "name": "ipython",
    "version": 3
   },
   "file_extension": ".py",
   "mimetype": "text/x-python",
   "name": "python",
   "nbconvert_exporter": "python",
   "pygments_lexer": "ipython3",
   "version": "3.10.12"
  },
  "papermill": {
   "default_parameters": {},
   "duration": 3.313872,
   "end_time": "2024-02-18T18:19:02.795470",
   "environment_variables": {},
   "exception": null,
   "input_path": "script_0c_select_fix_sacc.ipynb",
   "output_path": "../test_results/log_0c_select_fix_sacc-Pa210201.ipynb",
   "parameters": {
    "sess_name": "Pa210201"
   },
   "start_time": "2024-02-18T18:18:59.481598",
   "version": "2.5.0"
  }
 },
 "nbformat": 4,
 "nbformat_minor": 5
}