{
 "cells": [
  {
   "cell_type": "code",
   "execution_count": 1,
   "id": "f5a72016-6038-47bd-8059-e36d8631fed6",
   "metadata": {
    "execution": {
     "iopub.execute_input": "2024-02-18T18:19:04.242504Z",
     "iopub.status.busy": "2024-02-18T18:19:04.241530Z",
     "iopub.status.idle": "2024-02-18T18:19:04.562692Z",
     "shell.execute_reply": "2024-02-18T18:19:04.562241Z"
    },
    "papermill": {
     "duration": 0.334494,
     "end_time": "2024-02-18T18:19:04.565788",
     "exception": false,
     "start_time": "2024-02-18T18:19:04.231294",
     "status": "completed"
    },
    "tags": []
   },
   "outputs": [],
   "source": [
    "import sys\n",
    "from pathlib import Path\n",
    "\n",
    "import h5py as h5\n",
    "import numpy as np\n",
    "import pandas as pd\n",
    "\n",
    "sys.path.append('../lib')\n",
    "from storage import get_storage_functions\n",
    "from local_paths import preproc_dir, analysis_dir"
   ]
  },
  {
   "cell_type": "markdown",
   "id": "41b49208-1f53-45af-b49a-2f24618bf89c",
   "metadata": {
    "papermill": {
     "duration": 0.004998,
     "end_time": "2024-02-18T18:19:04.578765",
     "exception": false,
     "start_time": "2024-02-18T18:19:04.573767",
     "status": "completed"
    },
    "tags": []
   },
   "source": [
    "# Set parameters"
   ]
  },
  {
   "cell_type": "code",
   "execution_count": 2,
   "id": "6208c81a-7d05-42af-8b38-6b0a6db8bd75",
   "metadata": {
    "execution": {
     "iopub.execute_input": "2024-02-18T18:19:04.588702Z",
     "iopub.status.busy": "2024-02-18T18:19:04.588296Z",
     "iopub.status.idle": "2024-02-18T18:19:04.593760Z",
     "shell.execute_reply": "2024-02-18T18:19:04.592699Z"
    },
    "papermill": {
     "duration": 0.013448,
     "end_time": "2024-02-18T18:19:04.597163",
     "exception": false,
     "start_time": "2024-02-18T18:19:04.583715",
     "status": "completed"
    },
    "tags": [
     "parameters"
    ]
   },
   "outputs": [],
   "source": [
    "#============================================================================\n",
    "# session\n",
    "#============================================================================\n",
    "sess_name = 'sess_name'\n",
    "\n",
    "\n",
    "#============================================================================\n",
    "# response windows\n",
    "#============================================================================\n",
    "t_pre  = 500\n",
    "t_post = 500\n",
    "t_win  = 200\n",
    "t_step =  50\n",
    "\n",
    "\n",
    "#============================================================================\n",
    "# temporal resolution\n",
    "#============================================================================\n",
    "# for summarizing trial duration and iti\n",
    "dur_res = 100\n",
    "iti_res =  50\n",
    "min_dur = 200  # exclude these before finding most-common (mode) trial dur\n",
    "\n",
    "\n",
    "#============================================================================\n",
    "# paths\n",
    "#============================================================================\n",
    "proc_dir = preproc_dir\n",
    "\n",
    "output_dir = analysis_dir + 'trial_level_psth'"
   ]
  },
  {
   "cell_type": "code",
   "execution_count": 3,
   "id": "368c47f3",
   "metadata": {
    "execution": {
     "iopub.execute_input": "2024-02-18T18:19:04.611789Z",
     "iopub.status.busy": "2024-02-18T18:19:04.611288Z",
     "iopub.status.idle": "2024-02-18T18:19:04.616859Z",
     "shell.execute_reply": "2024-02-18T18:19:04.615749Z"
    },
    "papermill": {
     "duration": 0.014875,
     "end_time": "2024-02-18T18:19:04.619291",
     "exception": false,
     "start_time": "2024-02-18T18:19:04.604416",
     "status": "completed"
    },
    "tags": [
     "injected-parameters"
    ]
   },
   "outputs": [],
   "source": [
    "# Parameters\n",
    "sess_name = \"Pa210201\"\n",
    "output_dir = \"../test_results\"\n"
   ]
  },
  {
   "cell_type": "markdown",
   "id": "57254560-a1f7-4df6-b384-1a01efc2aaca",
   "metadata": {
    "papermill": {
     "duration": 0.003968,
     "end_time": "2024-02-18T18:19:04.627908",
     "exception": false,
     "start_time": "2024-02-18T18:19:04.623940",
     "status": "completed"
    },
    "tags": []
   },
   "source": [
    "# Check prereqs and params"
   ]
  },
  {
   "cell_type": "code",
   "execution_count": 4,
   "id": "a779bf63-3446-4291-85b2-68018aeadda4",
   "metadata": {
    "execution": {
     "iopub.execute_input": "2024-02-18T18:19:04.638770Z",
     "iopub.status.busy": "2024-02-18T18:19:04.637763Z",
     "iopub.status.idle": "2024-02-18T18:19:04.651740Z",
     "shell.execute_reply": "2024-02-18T18:19:04.650412Z"
    },
    "papermill": {
     "duration": 0.021606,
     "end_time": "2024-02-18T18:19:04.653757",
     "exception": false,
     "start_time": "2024-02-18T18:19:04.632151",
     "status": "completed"
    },
    "tags": []
   },
   "outputs": [
    {
     "name": "stdout",
     "output_type": "stream",
     "text": [
      "Loading session from ../test_data/Pa210201-main.nwb\n",
      "Loading shared processing from ../test_data/Pa210201-proc.h5\n",
      "Loading rasters from ../test_data/Pa210201-rasters.nwb\n",
      "Saving results to ../test_results/Pa210201.h5\n"
     ]
    }
   ],
   "source": [
    "preproc_main_path = Path(proc_dir) / (sess_name + '-main.nwb')\n",
    "print('Loading session from', preproc_main_path)\n",
    "preproc_main_path = preproc_main_path.expanduser()\n",
    "assert preproc_main_path.is_file()\n",
    "\n",
    "proc_path = Path(proc_dir) / (sess_name + '-proc.h5')\n",
    "print('Loading shared processing from', proc_path)\n",
    "proc_path = proc_path.expanduser()\n",
    "assert proc_path.is_file()\n",
    "\n",
    "rasters_path = Path(proc_dir) / (sess_name + '-rasters.nwb')\n",
    "print('Loading rasters from', rasters_path)\n",
    "rasters_path = rasters_path.expanduser()\n",
    "assert rasters_path.is_file()\n",
    "\n",
    "output_dir = Path(output_dir)\n",
    "assert output_dir.expanduser().is_dir()\n",
    "output_path = output_dir / (sess_name + '.h5')\n",
    "print('Saving results to', output_path)\n",
    "output_path = output_path.expanduser()"
   ]
  },
  {
   "cell_type": "code",
   "execution_count": 5,
   "id": "683e5f44-24d6-41d4-b182-431a136f242e",
   "metadata": {
    "execution": {
     "iopub.execute_input": "2024-02-18T18:19:04.666296Z",
     "iopub.status.busy": "2024-02-18T18:19:04.665657Z",
     "iopub.status.idle": "2024-02-18T18:19:04.674983Z",
     "shell.execute_reply": "2024-02-18T18:19:04.673836Z"
    },
    "papermill": {
     "duration": 0.018228,
     "end_time": "2024-02-18T18:19:04.677377",
     "exception": false,
     "start_time": "2024-02-18T18:19:04.659149",
     "status": "completed"
    },
    "tags": []
   },
   "outputs": [],
   "source": [
    "with h5.File(proc_path, 'r') as f:\n",
    "    unit_names = f['unit_selection/simple'][()].astype(str)"
   ]
  },
  {
   "cell_type": "code",
   "execution_count": 6,
   "id": "be467d62-5fd3-4bd2-b0a2-654def2f8381",
   "metadata": {
    "execution": {
     "iopub.execute_input": "2024-02-18T18:19:04.690473Z",
     "iopub.status.busy": "2024-02-18T18:19:04.689939Z",
     "iopub.status.idle": "2024-02-18T18:19:04.697867Z",
     "shell.execute_reply": "2024-02-18T18:19:04.696541Z"
    },
    "papermill": {
     "duration": 0.017755,
     "end_time": "2024-02-18T18:19:04.700197",
     "exception": false,
     "start_time": "2024-02-18T18:19:04.682442",
     "status": "completed"
    },
    "tags": []
   },
   "outputs": [],
   "source": [
    "analysis_name = 'trial_level_psth'\n",
    "\n",
    "if output_path.is_file():\n",
    "    with h5.File(output_path, 'r') as f:\n",
    "        try:\n",
    "            if f[f'progress_report/{analysis_name}/all_done'][()].item():\n",
    "                raise RuntimeError(f'{sess_name} has already been processed')\n",
    "        except KeyError:\n",
    "            pass"
   ]
  },
  {
   "cell_type": "markdown",
   "id": "003f7ee4-3c41-4a74-915b-795e84d657c7",
   "metadata": {
    "papermill": {
     "duration": 0.004597,
     "end_time": "2024-02-18T18:19:04.710338",
     "exception": false,
     "start_time": "2024-02-18T18:19:04.705741",
     "status": "completed"
    },
    "tags": []
   },
   "source": [
    "# Save config"
   ]
  },
  {
   "cell_type": "code",
   "execution_count": 7,
   "id": "c891ecb0-c33b-46ba-8516-dc4dd0785ea3",
   "metadata": {
    "execution": {
     "iopub.execute_input": "2024-02-18T18:19:04.725404Z",
     "iopub.status.busy": "2024-02-18T18:19:04.724738Z",
     "iopub.status.idle": "2024-02-18T18:19:04.730756Z",
     "shell.execute_reply": "2024-02-18T18:19:04.729568Z"
    },
    "papermill": {
     "duration": 0.018453,
     "end_time": "2024-02-18T18:19:04.733431",
     "exception": false,
     "start_time": "2024-02-18T18:19:04.714978",
     "status": "completed"
    },
    "tags": []
   },
   "outputs": [],
   "source": [
    "save_results, add_attr_to_dset, check_equals_saved, link_dsets, copy_group = \\\n",
    "    get_storage_functions(output_path)"
   ]
  },
  {
   "cell_type": "code",
   "execution_count": 8,
   "id": "c9348ce1-fe2e-491d-a0a8-17ee4be1c82c",
   "metadata": {
    "execution": {
     "iopub.execute_input": "2024-02-18T18:19:04.750366Z",
     "iopub.status.busy": "2024-02-18T18:19:04.749449Z",
     "iopub.status.idle": "2024-02-18T18:19:04.764213Z",
     "shell.execute_reply": "2024-02-18T18:19:04.763031Z"
    },
    "papermill": {
     "duration": 0.02684,
     "end_time": "2024-02-18T18:19:04.767765",
     "exception": false,
     "start_time": "2024-02-18T18:19:04.740925",
     "status": "completed"
    },
    "tags": []
   },
   "outputs": [],
   "source": [
    "group = analysis_name + '/config/time_windows/'\n",
    "save_results(group+'t_pre', t_pre)\n",
    "save_results(group+'t_post', t_post)\n",
    "save_results(group+'t_win', t_win)\n",
    "save_results(group+'t_step', t_step)\n",
    "add_attr_to_dset(group, attrs=dict(unit='ms'))"
   ]
  },
  {
   "cell_type": "markdown",
   "id": "f6556806-6924-4fe3-91c7-b1affd635aeb",
   "metadata": {
    "papermill": {
     "duration": 0.005477,
     "end_time": "2024-02-18T18:19:04.781396",
     "exception": false,
     "start_time": "2024-02-18T18:19:04.775919",
     "status": "completed"
    },
    "tags": []
   },
   "source": [
    "# Select trials and fixations"
   ]
  },
  {
   "cell_type": "code",
   "execution_count": 9,
   "id": "36246fda-f59f-481f-b870-a910ebd781c1",
   "metadata": {
    "execution": {
     "iopub.execute_input": "2024-02-18T18:19:04.792708Z",
     "iopub.status.busy": "2024-02-18T18:19:04.792119Z",
     "iopub.status.idle": "2024-02-18T18:19:04.808238Z",
     "shell.execute_reply": "2024-02-18T18:19:04.807287Z"
    },
    "papermill": {
     "duration": 0.024242,
     "end_time": "2024-02-18T18:19:04.810987",
     "exception": false,
     "start_time": "2024-02-18T18:19:04.786745",
     "status": "completed"
    },
    "tags": []
   },
   "outputs": [
    {
     "name": "stdout",
     "output_type": "stream",
     "text": [
      "Mode trial duration:\t 1500 ms\n",
      "Mode ITI:\t\t 800.0 ms\n",
      "Selected 1605 complete trials\n"
     ]
    }
   ],
   "source": [
    "with h5.File(preproc_main_path, 'r') as f:\n",
    "    pres_iim = f['stimulus/presentation/presentations/data'][()]\n",
    "    pres_tid = f['intervals/presentations/trial_id'][()]\n",
    "    pres_t0s = f['intervals/presentations/start_time'][()]\n",
    "    pres_t1s = f['intervals/presentations/stop_time'][()]\n",
    "\n",
    "durs = (pres_t1s - pres_t0s) * 1e3\n",
    "durs = np.round(durs / dur_res) * dur_res\n",
    "dur = pd.Series(durs[durs > min_dur]).mode().values.mean().item()\n",
    "dur = round(dur / dur_res) * dur_res\n",
    "print('Mode trial duration:\\t', dur, 'ms')\n",
    "\n",
    "itis = (pres_t0s[1:] - pres_t1s[:-1]) * 1e3\n",
    "itis = np.round(itis / iti_res) * iti_res\n",
    "iti = pd.Series(itis).mode().values.mean().item()\n",
    "iti = np.round(iti / iti_res) * iti_res\n",
    "print('Mode ITI:\\t\\t', iti, 'ms')  # for the record only\n",
    "\n",
    "# these are trial ID's\n",
    "itr_sel = pres_tid[np.nonzero(durs == dur)[0]]\n",
    "print('Selected', len(itr_sel), 'complete trials')\n",
    "\n",
    "# these are trial indices, relative to pres_*\n",
    "tr_sel = pd.DataFrame(data={'Trial': pres_tid, 'Index': np.arange(pres_tid.size)})\\\n",
    "    .set_index('Trial').loc[itr_sel, 'Index'].values"
   ]
  },
  {
   "cell_type": "code",
   "execution_count": 10,
   "id": "8af4b688-a89f-43bb-bb24-19fd87af79ca",
   "metadata": {
    "execution": {
     "iopub.execute_input": "2024-02-18T18:19:04.827312Z",
     "iopub.status.busy": "2024-02-18T18:19:04.826814Z",
     "iopub.status.idle": "2024-02-18T18:19:04.835814Z",
     "shell.execute_reply": "2024-02-18T18:19:04.834959Z"
    },
    "papermill": {
     "duration": 0.019528,
     "end_time": "2024-02-18T18:19:04.838128",
     "exception": false,
     "start_time": "2024-02-18T18:19:04.818600",
     "status": "completed"
    },
    "tags": []
   },
   "outputs": [],
   "source": [
    "save_results(analysis_name+'/mode_dur', dur)\n",
    "save_results(analysis_name+'/mode_iti', iti)\n",
    "save_results(analysis_name+'/trial_selection', itr_sel)"
   ]
  },
  {
   "cell_type": "markdown",
   "id": "aa57e67f-b3e6-4daf-b419-767e448d490c",
   "metadata": {
    "papermill": {
     "duration": 0.005156,
     "end_time": "2024-02-18T18:19:04.849397",
     "exception": false,
     "start_time": "2024-02-18T18:19:04.844241",
     "status": "completed"
    },
    "tags": []
   },
   "source": [
    "# Get image onset-aligned responses"
   ]
  },
  {
   "cell_type": "code",
   "execution_count": 11,
   "id": "3c2ef07e-b6a1-4cae-8576-79f5d1a7b961",
   "metadata": {
    "execution": {
     "iopub.execute_input": "2024-02-18T18:19:04.865041Z",
     "iopub.status.busy": "2024-02-18T18:19:04.864402Z",
     "iopub.status.idle": "2024-02-18T18:19:12.940774Z",
     "shell.execute_reply": "2024-02-18T18:19:12.940240Z"
    },
    "papermill": {
     "duration": 8.088607,
     "end_time": "2024-02-18T18:19:12.944620",
     "exception": false,
     "start_time": "2024-02-18T18:19:04.856013",
     "status": "completed"
    },
    "tags": []
   },
   "outputs": [
    {
     "data": {
      "text/plain": [
       "((6234150, 92), dtype('uint8'))"
      ]
     },
     "execution_count": 11,
     "metadata": {},
     "output_type": "execute_result"
    }
   ],
   "source": [
    "with h5.File(rasters_path, 'r') as f:\n",
    "    all_unit_names = list(f['processing/ecephys/unit_names/unit_name'][()].astype(str))\n",
    "    sel_ = np.array([all_unit_names.index(n) for n in unit_names])\n",
    "    rasters = f['processing/ecephys/rasters/data'][()][:,sel_]\n",
    "rasters.shape, rasters.dtype"
   ]
  },
  {
   "cell_type": "code",
   "execution_count": 12,
   "id": "7f3d4a83-330c-4daf-ae66-20fce2e3881c",
   "metadata": {
    "execution": {
     "iopub.execute_input": "2024-02-18T18:19:12.968782Z",
     "iopub.status.busy": "2024-02-18T18:19:12.968483Z",
     "iopub.status.idle": "2024-02-18T18:19:14.722461Z",
     "shell.execute_reply": "2024-02-18T18:19:14.721827Z"
    },
    "papermill": {
     "duration": 1.772313,
     "end_time": "2024-02-18T18:19:14.725470",
     "exception": false,
     "start_time": "2024-02-18T18:19:12.953157",
     "status": "completed"
    },
    "tags": []
   },
   "outputs": [],
   "source": [
    "ts = np.arange(-t_pre, dur+t_post, t_step)\n",
    "hwin = t_win//2\n",
    "\n",
    "resps = np.empty((itr_sel.size, ts.size, unit_names.size), dtype=np.float32)\n",
    "\n",
    "for i, t0 in enumerate(pres_t0s[tr_sel]*1e3):\n",
    "    for j, t in enumerate(np.round(t0 - hwin + ts).astype(int)):\n",
    "        resps[i,j] = rasters[t:t+t_win,:].mean(0)"
   ]
  },
  {
   "cell_type": "code",
   "execution_count": 13,
   "id": "a4780b2d-2355-41b7-8239-7645209bc598",
   "metadata": {
    "execution": {
     "iopub.execute_input": "2024-02-18T18:19:14.745444Z",
     "iopub.status.busy": "2024-02-18T18:19:14.744796Z",
     "iopub.status.idle": "2024-02-18T18:19:14.759397Z",
     "shell.execute_reply": "2024-02-18T18:19:14.757908Z"
    },
    "papermill": {
     "duration": 0.034401,
     "end_time": "2024-02-18T18:19:14.762607",
     "exception": false,
     "start_time": "2024-02-18T18:19:14.728206",
     "status": "completed"
    },
    "tags": []
   },
   "outputs": [],
   "source": [
    "save_results(analysis_name+'/mean_responses', resps.mean(0)*1e3, attrs=dict(\n",
    "    dims=np.array(['time', 'unit'], dtype=bytes),\n",
    "    time=ts, unit=unit_names.astype(bytes), n_trial=len(resps)))"
   ]
  },
  {
   "cell_type": "markdown",
   "id": "f156ef6b-f355-473a-ac03-d5eab8c9e26d",
   "metadata": {
    "papermill": {
     "duration": 0.007567,
     "end_time": "2024-02-18T18:19:14.778618",
     "exception": false,
     "start_time": "2024-02-18T18:19:14.771051",
     "status": "completed"
    },
    "tags": []
   },
   "source": [
    "# Wrap up"
   ]
  },
  {
   "cell_type": "code",
   "execution_count": 14,
   "id": "13ac6764-f5b2-43e9-be6f-02a2b6efe988",
   "metadata": {
    "execution": {
     "iopub.execute_input": "2024-02-18T18:19:14.791179Z",
     "iopub.status.busy": "2024-02-18T18:19:14.789974Z",
     "iopub.status.idle": "2024-02-18T18:19:14.796424Z",
     "shell.execute_reply": "2024-02-18T18:19:14.795541Z"
    },
    "papermill": {
     "duration": 0.014153,
     "end_time": "2024-02-18T18:19:14.797898",
     "exception": false,
     "start_time": "2024-02-18T18:19:14.783745",
     "status": "completed"
    },
    "tags": []
   },
   "outputs": [],
   "source": [
    "save_results(f'progress_report/{analysis_name}/all_done', True)"
   ]
  },
  {
   "cell_type": "code",
   "execution_count": 15,
   "id": "11e713f4-968e-4cb7-9747-006fd884a5dc",
   "metadata": {
    "execution": {
     "iopub.execute_input": "2024-02-18T18:19:14.806809Z",
     "iopub.status.busy": "2024-02-18T18:19:14.806427Z",
     "iopub.status.idle": "2024-02-18T18:19:14.861359Z",
     "shell.execute_reply": "2024-02-18T18:19:14.859749Z"
    },
    "papermill": {
     "duration": 0.06332,
     "end_time": "2024-02-18T18:19:14.864640",
     "exception": false,
     "start_time": "2024-02-18T18:19:14.801320",
     "status": "completed"
    },
    "tags": []
   },
   "outputs": [
    {
     "name": "stdout",
     "output_type": "stream",
     "text": [
      "Last updated: 2024-02-18T13:19:14.826442-05:00\n",
      "\n",
      "Python implementation: CPython\n",
      "Python version       : 3.10.12\n",
      "IPython version      : 8.12.0\n",
      "\n",
      "Compiler    : GCC 11.4.0\n",
      "OS          : Linux\n",
      "Release     : 5.15.0-92-generic\n",
      "Machine     : x86_64\n",
      "Processor   : x86_64\n",
      "CPU cores   : 20\n",
      "Architecture: 64bit\n",
      "\n",
      "Python implementation: CPython\n",
      "Python version       : 3.10.12\n",
      "IPython version      : 8.12.0\n",
      "\n",
      "Compiler    : GCC 11.4.0\n",
      "OS          : Linux\n",
      "Release     : 5.15.0-92-generic\n",
      "Machine     : x86_64\n",
      "Processor   : x86_64\n",
      "CPU cores   : 20\n",
      "Architecture: 64bit\n",
      "\n",
      "Git hash: b0bb10f45dee065cc3af96fe224326b883d27431\n",
      "\n",
      "Git repo: https://github.com/willwx/free_viewing_staging.git\n",
      "\n",
      "Git branch: master\n",
      "\n",
      "pandas: 2.0.1\n",
      "sys   : 3.10.12 (main, Nov 20 2023, 15:14:05) [GCC 11.4.0]\n",
      "h5py  : 3.8.0\n",
      "numpy : 1.24.3\n",
      "\n"
     ]
    }
   ],
   "source": [
    "%load_ext watermark\n",
    "%watermark\n",
    "%watermark -vm --iversions -rbg"
   ]
  },
  {
   "cell_type": "markdown",
   "id": "7a2fe54b-00ba-4f17-9fae-50aefd489d43",
   "metadata": {
    "papermill": {
     "duration": 0.007491,
     "end_time": "2024-02-18T18:19:14.881024",
     "exception": false,
     "start_time": "2024-02-18T18:19:14.873533",
     "status": "completed"
    },
    "tags": []
   },
   "source": [
    "# Plots"
   ]
  },
  {
   "cell_type": "code",
   "execution_count": 16,
   "id": "4d1e7adf-0da2-45e4-a60e-2bd3eefbb613",
   "metadata": {
    "execution": {
     "iopub.execute_input": "2024-02-18T18:19:14.893673Z",
     "iopub.status.busy": "2024-02-18T18:19:14.892931Z",
     "iopub.status.idle": "2024-02-18T18:19:15.159080Z",
     "shell.execute_reply": "2024-02-18T18:19:15.158469Z"
    },
    "papermill": {
     "duration": 0.275233,
     "end_time": "2024-02-18T18:19:15.161684",
     "exception": false,
     "start_time": "2024-02-18T18:19:14.886451",
     "status": "completed"
    },
    "tags": []
   },
   "outputs": [],
   "source": [
    "import matplotlib.pyplot as plt"
   ]
  },
  {
   "cell_type": "code",
   "execution_count": 17,
   "id": "2b143f12-e21d-44cf-810f-afa250c3dd84",
   "metadata": {
    "execution": {
     "iopub.execute_input": "2024-02-18T18:19:15.168832Z",
     "iopub.status.busy": "2024-02-18T18:19:15.168466Z",
     "iopub.status.idle": "2024-02-18T18:19:15.303012Z",
     "shell.execute_reply": "2024-02-18T18:19:15.302446Z"
    },
    "papermill": {
     "duration": 0.141375,
     "end_time": "2024-02-18T18:19:15.305943",
     "exception": false,
     "start_time": "2024-02-18T18:19:15.164568",
     "status": "completed"
    },
    "tags": []
   },
   "outputs": [
    {
     "data": {
      "image/png": "[encoded data removed]",
      "text/plain": [
       "<Figure size 640x480 with 1 Axes>"
      ]
     },
     "metadata": {},
     "output_type": "display_data"
    }
   ],
   "source": [
    "plt.plot(ts, resps.mean((0,-1)) * 1e3)\n",
    "\n",
    "yl = plt.gca().get_ylim()\n",
    "plt.fill_betweenx(yl, 0, dur, ec='none', fc='whitesmoke', zorder=-1)\n",
    "plt.fill_betweenx(yl, dur, dur+iti, ec='none', fc=(1, .9, .9), zorder=-1)\n",
    "plt.fill_betweenx(yl, -iti, 0, ec='none', fc=(1, .9, .9), zorder=-1)\n",
    "\n",
    "plt.xlabel('Time rel. image onset, ms')\n",
    "plt.ylabel('Grand mean firing rate, spikes/s');"
   ]
  }
 ],
 "metadata": {
  "kernelspec": {
   "display_name": "Python 3 (ipykernel)",
   "language": "python",
   "name": "python3"
  },
  "language_info": {
   "codemirror_mode": {
    "name": "ipython",
    "version": 3
   },
   "file_extension": ".py",
   "mimetype": "text/x-python",
   "name": "python",
   "nbconvert_exporter": "python",
   "pygments_lexer": "ipython3",
   "version": "3.10.12"
  },
  "papermill": {
   "default_parameters": {},
   "duration": 12.331319,
   "end_time": "2024-02-18T18:19:15.627947",
   "environment_variables": {},
   "exception": null,
   "input_path": "script_3b_trial_level_psth.ipynb",
   "output_path": "../test_results/log_3b_trial_level_psth-Pa210201.ipynb",
   "parameters": {
    "output_dir": "../test_results",
    "sess_name": "Pa210201"
   },
   "start_time": "2024-02-18T18:19:03.296628",
   "version": "2.5.0"
  }
 },
 "nbformat": 4,
 "nbformat_minor": 5
}