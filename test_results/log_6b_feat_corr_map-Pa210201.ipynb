{
 "cells": [
  {
   "cell_type": "code",
   "execution_count": 1,
   "id": "b25abf9b",
   "metadata": {
    "execution": {
     "iopub.execute_input": "2024-02-19T15:14:09.990505Z",
     "iopub.status.busy": "2024-02-19T15:14:09.989287Z",
     "iopub.status.idle": "2024-02-19T15:14:10.696638Z",
     "shell.execute_reply": "2024-02-19T15:14:10.696095Z"
    },
    "papermill": {
     "duration": 0.728293,
     "end_time": "2024-02-19T15:14:10.699755",
     "exception": false,
     "start_time": "2024-02-19T15:14:09.971462",
     "status": "completed"
    },
    "tags": []
   },
   "outputs": [],
   "source": [
    "import itertools\n",
    "import sys\n",
    "from pathlib import Path\n",
    "\n",
    "import h5py as h5\n",
    "import numpy as np\n",
    "import pandas as pd\n",
    "import xarray as xr\n",
    "from tqdm import tqdm\n",
    "\n",
    "sys.path.append('../lib')\n",
    "from local_paths import preproc_dir, analysis_dir, database_dir, cache_dir\n",
    "from storage import get_storage_functions, quantize\n",
    "from im_patches import get_patches_from_grid\n",
    "from cross_val_pred import standardize, cv_split_by_image, cv_ridge_predict, pearsonr"
   ]
  },
  {
   "cell_type": "markdown",
   "id": "6e178890",
   "metadata": {
    "papermill": {
     "duration": 0.009158,
     "end_time": "2024-02-19T15:14:10.723853",
     "exception": false,
     "start_time": "2024-02-19T15:14:10.714695",
     "status": "completed"
    },
    "tags": []
   },
   "source": [
    "# Parameters"
   ]
  },
  {
   "cell_type": "code",
   "execution_count": 2,
   "id": "5b7eb639",
   "metadata": {
    "execution": {
     "iopub.execute_input": "2024-02-19T15:14:10.737999Z",
     "iopub.status.busy": "2024-02-19T15:14:10.737384Z",
     "iopub.status.idle": "2024-02-19T15:14:10.747663Z",
     "shell.execute_reply": "2024-02-19T15:14:10.746477Z"
    },
    "papermill": {
     "duration": 0.019134,
     "end_time": "2024-02-19T15:14:10.749441",
     "exception": false,
     "start_time": "2024-02-19T15:14:10.730307",
     "status": "completed"
    },
    "tags": [
     "parameters"
    ]
   },
   "outputs": [],
   "source": [
    "#============================================================================\n",
    "# session\n",
    "#============================================================================\n",
    "sess_name = 'sess_name'\n",
    "\n",
    "\n",
    "#============================================================================\n",
    "# coefs for weighting stimulus features\n",
    "#============================================================================\n",
    "# the values to calculate are analogous to the coefficient of multiple correlations,\n",
    "# with the key differences that the linear model here is\n",
    "# 1. cross-validated\n",
    "# 2. regularized via ridge regression (as implemented)\n",
    "# 3. regularized via weight sharing, for all RF locations other than\n",
    "#    that (if any) used to fit the model\n",
    "\n",
    "# how to fit coefs\n",
    "# - *peak* of model performance map (prerequisite)\n",
    "#   this will also inherit CV splits to keep them uncontaminated\n",
    "# - *full_image* regardless of fixation position\n",
    "# - *fovea* regardless of fixation position\n",
    "fit_coefs_at = 'peak'\n",
    "\n",
    "# required only if fit_coefs_at == 'peak'\n",
    "rfmap_analysis = 'model_perf_map'\n",
    "rfmap_dset = 'corr_per_split'  # must have the same splits as here\n",
    "\n",
    "\n",
    "#============================================================================\n",
    "# spatiotemporal resolution of RF\n",
    "#============================================================================\n",
    "# temporal\n",
    "t_aln  = 'sacc_on'  # 'sacc_on' or 'fix_on'\n",
    "# response windows\n",
    "# - one (long) window, if > 0\n",
    "t_win  =   0\n",
    "# - OTHERWISE, sliding window\n",
    "t_pre  = 375\n",
    "t_post = 375  # inclusive, but window must fit fully in range\n",
    "t_step =  25\n",
    "\n",
    "# spatial\n",
    "xy_min  = -7  # dva\n",
    "xy_max  =  7\n",
    "xy_step =  1  # only meaningful if at least patch step size in cached reprs;\n",
    "              # note that patch size is set in cached reprs\n",
    "\n",
    "\n",
    "#============================================================================\n",
    "# fixation/saccade selection\n",
    "#============================================================================\n",
    "# fixation criteria\n",
    "ifix_sel        =    1    # 0: zeroth-fix only; 1: non-zeroth-fix only; otherwise: both\n",
    "select_saccades = True    # must be False if ifix_sel is None or 0\n",
    "\n",
    "\n",
    "#============================================================================\n",
    "# modelling\n",
    "#============================================================================\n",
    "# ridge regularization\n",
    "ridge_alpha = 100000\n",
    "\n",
    "# cross-validation\n",
    "n_splits    =      5\n",
    "group_kfold =   True\n",
    "\n",
    "\n",
    "#============================================================================\n",
    "# paths\n",
    "#============================================================================\n",
    "proc_dir = preproc_dir\n",
    "\n",
    "sdf_dir = preproc_dir\n",
    "sdf_suffix = '-mwa_1' if t_win > 0 else '-mwa_50'  # default to no smoothing if using a response window\n",
    "\n",
    "feat_dir = cache_dir + 'feats/vit_large_patch16_384/blocks.13.attn.qkv'\n",
    "feat_suffix = '_as_2x2_in_0.50_steps'\n",
    "\n",
    "unit_sel_path = None\n",
    "latency_path = database_dir + 'per_unit_latency-fix_on.csv.gz'  # only used # if t_win > 0\n",
    "\n",
    "rfmap_dir = analysis_dir + rfmap_analysis  # required only if fit_coefs_at is set to 'peak'\n",
    "\n",
    "output_dir = analysis_dir + 'feat_corr_map'"
   ]
  },
  {
   "cell_type": "code",
   "execution_count": 3,
   "id": "5c571ee8",
   "metadata": {
    "execution": {
     "iopub.execute_input": "2024-02-19T15:14:10.763309Z",
     "iopub.status.busy": "2024-02-19T15:14:10.762646Z",
     "iopub.status.idle": "2024-02-19T15:14:10.768387Z",
     "shell.execute_reply": "2024-02-19T15:14:10.767574Z"
    },
    "papermill": {
     "duration": 0.015722,
     "end_time": "2024-02-19T15:14:10.771209",
     "exception": false,
     "start_time": "2024-02-19T15:14:10.755487",
     "status": "completed"
    },
    "tags": [
     "injected-parameters"
    ]
   },
   "outputs": [],
   "source": [
    "# Parameters\n",
    "sess_name = \"Pa210201\"\n",
    "unit_sel_path = \"../db/unit_sel/visually_selective.csv.gz\"\n",
    "output_dir = \"../test_results\"\n",
    "rfmap_dir = \"../test_results\"\n"
   ]
  },
  {
   "cell_type": "markdown",
   "id": "39d50fa8",
   "metadata": {
    "papermill": {
     "duration": 0.010199,
     "end_time": "2024-02-19T15:14:10.792781",
     "exception": false,
     "start_time": "2024-02-19T15:14:10.782582",
     "status": "completed"
    },
    "tags": []
   },
   "source": [
    "# Check prereqs and params"
   ]
  },
  {
   "cell_type": "code",
   "execution_count": 4,
   "id": "c32b93c5",
   "metadata": {
    "execution": {
     "iopub.execute_input": "2024-02-19T15:14:10.809171Z",
     "iopub.status.busy": "2024-02-19T15:14:10.808516Z",
     "iopub.status.idle": "2024-02-19T15:14:10.853003Z",
     "shell.execute_reply": "2024-02-19T15:14:10.851733Z"
    },
    "papermill": {
     "duration": 0.05531,
     "end_time": "2024-02-19T15:14:10.855742",
     "exception": false,
     "start_time": "2024-02-19T15:14:10.800432",
     "status": "completed"
    },
    "tags": []
   },
   "outputs": [
    {
     "name": "stdout",
     "output_type": "stream",
     "text": [
      "Loading shared processing from ../test_data/Pa210201-proc.h5\n",
      "Loading spike density function from ../test_data/Pa210201-sdf-mwa_50.h5\n",
      "Loading cached model features from ~/Data/free_viewing/Cache/feats/vit_large_patch16_384/blocks.13.attn.qkv/16.0x16.0_as_2x2_in_0.50_steps.h5\n",
      "Loading unit selection from ../db/unit_sel/visually_selective.csv.gz\n",
      "Loading maps (to determine loc for coef fit) from ../test_results/Pa210201.h5\n",
      "Saving results to ../test_results/Pa210201.h5\n"
     ]
    }
   ],
   "source": [
    "proc_path = Path(proc_dir) / (sess_name + '-proc.h5')\n",
    "print('Loading shared processing from', proc_path)\n",
    "proc_path = proc_path.expanduser()\n",
    "assert proc_path.is_file()\n",
    "\n",
    "sdf_path = Path(sdf_dir) / (sess_name + f'-sdf{sdf_suffix}.h5')\n",
    "print('Loading spike density function from', sdf_path)\n",
    "sdf_path = sdf_path.expanduser()\n",
    "assert sdf_path.is_file()\n",
    "\n",
    "with h5.File(proc_path, 'r') as f:\n",
    "    im_w, im_h = im_size = f['stimulus/size_dva'][()]\n",
    "feats_path = Path(feat_dir) / f'{im_w:.1f}x{im_h:.1f}{feat_suffix}.h5'\n",
    "print('Loading cached model features from', feats_path)\n",
    "feats_path = feats_path.expanduser()\n",
    "assert feats_path.is_file()\n",
    "\n",
    "if t_win > 0:\n",
    "    print('Using per-unit latency from', latency_path)\n",
    "    latency_path = Path(latency_path).expanduser()\n",
    "    assert latency_path.is_file()\n",
    "\n",
    "if unit_sel_path is not None:\n",
    "    print('Loading unit selection from', unit_sel_path)\n",
    "    unit_sel_path = Path(unit_sel_path).expanduser()\n",
    "    assert unit_sel_path.is_file()\n",
    "    unit_names = pd.read_csv(unit_sel_path).set_index('Session').loc[[sess_name]]['Unit'].values\n",
    "else:\n",
    "    unit_names = None\n",
    "\n",
    "if fit_coefs_at == 'peak':\n",
    "    rfmap_path = Path(rfmap_dir) / (sess_name + '.h5')\n",
    "    print('Loading maps (to determine loc for coef fit) from', rfmap_path)\n",
    "    rfmap_path = rfmap_path.expanduser()\n",
    "    assert rfmap_path.is_file()\n",
    "\n",
    "output_dir = Path(output_dir)\n",
    "assert output_dir.expanduser().is_dir()\n",
    "output_path = output_dir / (sess_name + '.h5')\n",
    "print('Saving results to', output_path)\n",
    "output_path = output_path.expanduser()"
   ]
  },
  {
   "cell_type": "code",
   "execution_count": 5,
   "id": "d1e2112e",
   "metadata": {
    "execution": {
     "iopub.execute_input": "2024-02-19T15:14:10.875904Z",
     "iopub.status.busy": "2024-02-19T15:14:10.874521Z",
     "iopub.status.idle": "2024-02-19T15:14:10.881294Z",
     "shell.execute_reply": "2024-02-19T15:14:10.879953Z"
    },
    "papermill": {
     "duration": 0.018425,
     "end_time": "2024-02-19T15:14:10.884528",
     "exception": false,
     "start_time": "2024-02-19T15:14:10.866103",
     "status": "completed"
    },
    "tags": []
   },
   "outputs": [],
   "source": [
    "assert fit_coefs_at in ('peak', 'full_image', 'fovea')"
   ]
  },
  {
   "cell_type": "code",
   "execution_count": 6,
   "id": "46172af5",
   "metadata": {
    "execution": {
     "iopub.execute_input": "2024-02-19T15:14:10.900657Z",
     "iopub.status.busy": "2024-02-19T15:14:10.900147Z",
     "iopub.status.idle": "2024-02-19T15:14:10.906758Z",
     "shell.execute_reply": "2024-02-19T15:14:10.906203Z"
    },
    "papermill": {
     "duration": 0.014919,
     "end_time": "2024-02-19T15:14:10.908471",
     "exception": false,
     "start_time": "2024-02-19T15:14:10.893552",
     "status": "completed"
    },
    "tags": []
   },
   "outputs": [],
   "source": [
    "analysis_name = 'feat_corr_map'\n",
    "\n",
    "if output_path.is_file():\n",
    "    with h5.File(output_path, 'r') as f:\n",
    "        try:\n",
    "            if f[f'progress_report/{analysis_name}/all_done'][()].item():\n",
    "                raise RuntimeError(f'{sess_name} has already been processed')\n",
    "        except KeyError:\n",
    "            pass"
   ]
  },
  {
   "cell_type": "code",
   "execution_count": 7,
   "id": "50f4cdd9",
   "metadata": {
    "execution": {
     "iopub.execute_input": "2024-02-19T15:14:10.923869Z",
     "iopub.status.busy": "2024-02-19T15:14:10.923450Z",
     "iopub.status.idle": "2024-02-19T15:14:10.998848Z",
     "shell.execute_reply": "2024-02-19T15:14:10.998251Z"
    },
    "papermill": {
     "duration": 0.084336,
     "end_time": "2024-02-19T15:14:11.000869",
     "exception": false,
     "start_time": "2024-02-19T15:14:10.916533",
     "status": "completed"
    },
    "tags": []
   },
   "outputs": [],
   "source": [
    "fix_df = pd.read_hdf(proc_path, 'fixation_dataframe', 'r')\n",
    "with h5.File(proc_path, 'r') as f:\n",
    "    stim_folder_ = f['stimulus/folder'][()].decode()\n",
    "\n",
    "imids = fix_df.groupby(['Image subdir', 'Image filename']).first().index\n",
    "md5s = [Path(fn).stem for _, fn in imids]\n",
    "md5_catalog = pd.DataFrame(index=imids, data=md5s, columns=['MD5'])"
   ]
  },
  {
   "cell_type": "markdown",
   "id": "2db5e2e0",
   "metadata": {
    "papermill": {
     "duration": 0.005596,
     "end_time": "2024-02-19T15:14:11.013357",
     "exception": false,
     "start_time": "2024-02-19T15:14:11.007761",
     "status": "completed"
    },
    "tags": []
   },
   "source": [
    "# Prepare parameters; save config"
   ]
  },
  {
   "cell_type": "code",
   "execution_count": 8,
   "id": "2a39aec3",
   "metadata": {
    "execution": {
     "iopub.execute_input": "2024-02-19T15:14:11.024688Z",
     "iopub.status.busy": "2024-02-19T15:14:11.024347Z",
     "iopub.status.idle": "2024-02-19T15:14:11.029496Z",
     "shell.execute_reply": "2024-02-19T15:14:11.028751Z"
    },
    "papermill": {
     "duration": 0.013966,
     "end_time": "2024-02-19T15:14:11.032923",
     "exception": false,
     "start_time": "2024-02-19T15:14:11.018957",
     "status": "completed"
    },
    "tags": []
   },
   "outputs": [
    {
     "name": "stdout",
     "output_type": "stream",
     "text": [
      "random_seed: 775418045\n"
     ]
    }
   ],
   "source": [
    "with h5.File(proc_path, 'r') as f:\n",
    "    random_seed = f['config/default_random_seed'][()]\n",
    "print('random_seed:', random_seed)"
   ]
  },
  {
   "cell_type": "code",
   "execution_count": 9,
   "id": "ae6b5716",
   "metadata": {
    "execution": {
     "iopub.execute_input": "2024-02-19T15:14:11.055425Z",
     "iopub.status.busy": "2024-02-19T15:14:11.054792Z",
     "iopub.status.idle": "2024-02-19T15:14:11.065139Z",
     "shell.execute_reply": "2024-02-19T15:14:11.064086Z"
    },
    "papermill": {
     "duration": 0.021794,
     "end_time": "2024-02-19T15:14:11.066996",
     "exception": false,
     "start_time": "2024-02-19T15:14:11.045202",
     "status": "completed"
    },
    "tags": []
   },
   "outputs": [],
   "source": [
    "with h5.File(proc_path, 'r') as f:\n",
    "    if select_saccades:\n",
    "        assert ifix_sel == 1, 'if selecting saccades, must only include non-zeroth fixations'\n",
    "        fix1_sel, fix2_sel = f['saccade_selection/fixation_indices'][()]\n",
    "    else:\n",
    "        assert t_aln == 'fix_on'\n",
    "        fix2_sel = f['fixation_selection/fixation_indices'][()]\n",
    "        if ifix_sel in (0, 1):\n",
    "            m = 0 == fix_df.index.get_level_values(fix_df.index.names.index('Fixation'))[fix2_sel]\n",
    "            if ifix_sel == 1:\n",
    "                m = ~m\n",
    "            fix2_sel = fix2_sel[m]"
   ]
  },
  {
   "cell_type": "code",
   "execution_count": 10,
   "id": "c430fb7d",
   "metadata": {
    "execution": {
     "iopub.execute_input": "2024-02-19T15:14:11.084560Z",
     "iopub.status.busy": "2024-02-19T15:14:11.084046Z",
     "iopub.status.idle": "2024-02-19T15:14:11.093173Z",
     "shell.execute_reply": "2024-02-19T15:14:11.092475Z"
    },
    "papermill": {
     "duration": 0.019203,
     "end_time": "2024-02-19T15:14:11.094831",
     "exception": false,
     "start_time": "2024-02-19T15:14:11.075628",
     "status": "completed"
    },
    "tags": []
   },
   "outputs": [
    {
     "name": "stdout",
     "output_type": "stream",
     "text": [
      "Response windows (31): [-375. -350. -325. -300. -275. -250. -225. -200. -175. -150. -125. -100.\n",
      "  -75.  -50.  -25.    0.   25.   50.   75.  100.  125.  150.  175.  200.\n",
      "  225.  250.  275.  300.  325.  350.  375.]\n",
      "RF locations (15): [-7. -6. -5. -4. -3. -2. -1.  0.  1.  2.  3.  4.  5.  6.  7.]\n"
     ]
    }
   ],
   "source": [
    "assert t_aln in ('sacc_on', 'fix_on')\n",
    "if t_win > 0:\n",
    "    ts = np.array([t_win/2])  # placeholder; actual window varies with latency per unit\n",
    "else:\n",
    "    ts = np.arange(-t_pre, t_post+.1, t_step)\n",
    "print(f'Response windows ({len(ts)}): {ts}')\n",
    "\n",
    "rf_locs = np.arange(xy_min, xy_max+xy_step/10, xy_step)\n",
    "print(f'RF locations ({len(rf_locs)}): {rf_locs}')\n",
    "tb = (rf_locs[0]-xy_step/2, rf_locs[-1]+xy_step/2)\n",
    "rf_extent = tb + tb"
   ]
  },
  {
   "cell_type": "code",
   "execution_count": 11,
   "id": "f7ba0861",
   "metadata": {
    "execution": {
     "iopub.execute_input": "2024-02-19T15:14:11.111528Z",
     "iopub.status.busy": "2024-02-19T15:14:11.111026Z",
     "iopub.status.idle": "2024-02-19T15:14:11.117207Z",
     "shell.execute_reply": "2024-02-19T15:14:11.115886Z"
    },
    "papermill": {
     "duration": 0.017779,
     "end_time": "2024-02-19T15:14:11.120093",
     "exception": false,
     "start_time": "2024-02-19T15:14:11.102314",
     "status": "completed"
    },
    "tags": []
   },
   "outputs": [],
   "source": [
    "save_results, add_attr_to_dset, check_equals_saved, link_dsets, copy_group = \\\n",
    "    get_storage_functions(output_path)"
   ]
  },
  {
   "cell_type": "code",
   "execution_count": 12,
   "id": "d99795dd",
   "metadata": {
    "execution": {
     "iopub.execute_input": "2024-02-19T15:14:11.144600Z",
     "iopub.status.busy": "2024-02-19T15:14:11.144095Z",
     "iopub.status.idle": "2024-02-19T15:14:11.181424Z",
     "shell.execute_reply": "2024-02-19T15:14:11.180752Z"
    },
    "papermill": {
     "duration": 0.050493,
     "end_time": "2024-02-19T15:14:11.184484",
     "exception": false,
     "start_time": "2024-02-19T15:14:11.133991",
     "status": "completed"
    },
    "tags": []
   },
   "outputs": [],
   "source": [
    "group = analysis_name + '/'\n",
    "save_results(group+'ts', ts, attrs=dict(unit='ms'))\n",
    "save_results(group+'rf_locs', rf_locs, attrs=dict(unit='dva'))\n",
    "save_results(group+'sdf_suffix', sdf_suffix)\n",
    "\n",
    "group = analysis_name + '/config/'\n",
    "save_results(group+'random_seed', random_seed)\n",
    "save_results(group+'fit_coefs_at', fit_coefs_at)\n",
    "save_results(group+'rfmap_analysis', rfmap_analysis)\n",
    "save_results(group+'rfmap_dset', rfmap_dset)\n",
    "\n",
    "group = analysis_name + '/config/time_windows/'\n",
    "save_results(group+'t_aln', t_aln)\n",
    "save_results(group+'t_win', t_win)\n",
    "save_results(group+'t_pre', t_pre)\n",
    "save_results(group+'t_post', t_post)\n",
    "save_results(group+'t_step', t_step)\n",
    "add_attr_to_dset(group, attrs=dict(unit='ms'))\n",
    "\n",
    "group = analysis_name + '/config/retinotopic_locations/'\n",
    "save_results(group+'xy_min', xy_min)\n",
    "save_results(group+'xy_max', xy_max)\n",
    "save_results(group+'xy_step', xy_step)\n",
    "add_attr_to_dset(group, attrs=dict(unit='dva'))\n",
    "\n",
    "group = analysis_name + '/config/fixation_selection/'\n",
    "save_results(group+'ifix_sel', ifix_sel)\n",
    "save_results(group+'select_saccades', select_saccades)\n",
    "\n",
    "group = analysis_name + '/config/modelling/'\n",
    "save_results(group+'n_splits', n_splits)\n",
    "save_results(group+'ridge_alpha', ridge_alpha)\n",
    "save_results(group+'group_kfold', group_kfold)"
   ]
  },
  {
   "cell_type": "markdown",
   "id": "e6283fcd",
   "metadata": {
    "papermill": {
     "duration": 0.009868,
     "end_time": "2024-02-19T15:14:11.209667",
     "exception": false,
     "start_time": "2024-02-19T15:14:11.199799",
     "status": "completed"
    },
    "tags": []
   },
   "source": [
    "# For saccades, construct two types of control points\n",
    "- Control 1: the 3rd vertex of two equilateral triangles anchored by fix 1 & 2 (previous and current), i.e., the L4/5 Langange points. One of the points is chosen:\n",
    "  - If both points are within image bounds, choose randomly\n",
    "  - If one and only one point is within image bounds, choose that\n",
    "  - If both points are outside image bounds, choose the one closest to the image.\n",
    "- Control 2: the midpoint between the previous and current fixation, i.e., the L1 point."
   ]
  },
  {
   "cell_type": "code",
   "execution_count": 13,
   "id": "b247e139",
   "metadata": {
    "execution": {
     "iopub.execute_input": "2024-02-19T15:14:11.227448Z",
     "iopub.status.busy": "2024-02-19T15:14:11.226804Z",
     "iopub.status.idle": "2024-02-19T15:14:11.238477Z",
     "shell.execute_reply": "2024-02-19T15:14:11.237315Z"
    },
    "papermill": {
     "duration": 0.025384,
     "end_time": "2024-02-19T15:14:11.241816",
     "exception": false,
     "start_time": "2024-02-19T15:14:11.216432",
     "status": "completed"
    },
    "tags": []
   },
   "outputs": [],
   "source": [
    "xys_fix2 = fix_df.iloc[fix2_sel][['Relative X', 'Relative Y']].values.astype(float)\n",
    "if select_saccades:\n",
    "    xys_fix1 = fix_df.iloc[fix1_sel][['Relative X', 'Relative Y']].values.astype(float)"
   ]
  },
  {
   "cell_type": "code",
   "execution_count": 14,
   "id": "d17afaeb",
   "metadata": {
    "execution": {
     "iopub.execute_input": "2024-02-19T15:14:11.267177Z",
     "iopub.status.busy": "2024-02-19T15:14:11.266574Z",
     "iopub.status.idle": "2024-02-19T15:14:11.303312Z",
     "shell.execute_reply": "2024-02-19T15:14:11.302036Z"
    },
    "papermill": {
     "duration": 0.049716,
     "end_time": "2024-02-19T15:14:11.305656",
     "exception": false,
     "start_time": "2024-02-19T15:14:11.255940",
     "status": "completed"
    },
    "tags": []
   },
   "outputs": [
    {
     "name": "stdout",
     "output_type": "stream",
     "text": [
      "Fixation 1:       \t 0.0% out of image boundary\n",
      "\tmean min dist to bound: 3.8 +/- 1.7 dva\n",
      "Fixation 2:       \t 0.0% out of image boundary\n",
      "\tmean min dist to bound: 3.8 +/- 1.7 dva\n",
      "Control 1 (equidist):\t 0.8% out of image boundary; d = 0.7 +/- 0.7\n",
      "\tmean min dist to bound: 3.7 +/- 1.9 dva\n",
      "Control 2 (midpoint):\t 0.0% out of image boundary\n",
      "\tmean min dist to bound: 4.5 +/- 1.5 dva\n"
     ]
    }
   ],
   "source": [
    "if not select_saccades:\n",
    "    n_cond = 1\n",
    "\n",
    "else:\n",
    "    n_cond = 4\n",
    "    rg = np.random.default_rng(random_seed)\n",
    "\n",
    "    # control point type 2: midpoint between fixs 1, 2\n",
    "    xys_control2 = (xys_fix1 + xys_fix2) / 2\n",
    "\n",
    "    # control point type 1\n",
    "    # - get 3rd vertex of the equilateral triangle\n",
    "    #   by rotating the saccade vector +/-60 degs\n",
    "    vs = xys_fix2 - xys_fix1\n",
    "    rmats = [\n",
    "        np.array([[np.cos(a), -np.sin(a)], [np.sin(a), np.cos(a)]])\n",
    "        for a in (np.pi/3, -np.pi/3)\n",
    "    ]\n",
    "    xys_l45 = xys_fix1 + np.array([(m @ vs.T).T for m in rmats])  # shape (n_fix, 2)\n",
    "\n",
    "    # - check whether/how far points are out of image bounds\n",
    "    d2b = np.array([\n",
    "        [\n",
    "            np.max([xys[:,j]-im_size[j]/2, -im_size[j]/2-xys[:,j]], axis=0)\n",
    "            for j in range(2)\n",
    "        ]\n",
    "        for xys in xys_l45\n",
    "    ])  # shape (2, 2, n_fix)\n",
    "    oob = np.any(d2b >= 0, axis=1)  # shape (2, n_fix)\n",
    "\n",
    "    # - choose one of the two candidate control points according to 1 of 3 conditions\n",
    "    m0 = np.all(oob, axis=0)\n",
    "    m2 = np.all(~oob, axis=0)\n",
    "    m1 = ~(m0 | m2)\n",
    "    xys_control1 = np.empty_like(xys_fix1)\n",
    "    if np.any(m0):\n",
    "        xys_control1[m0] = [xys_l45[np.argmin(d2b[...,i].max(1)), i] for i in np.nonzero(m0)[0]]\n",
    "    if np.any(m1):\n",
    "        xys_control1[m1] = [xys_l45[np.argmin(oob[:,i]), i] for i in np.nonzero(m1)[0]]\n",
    "    if np.any(m2):\n",
    "        rand_par = (rg.random(size=m2.sum()) < 0.5).astype(int)\n",
    "        xys_control1[m2] = [xys_l45[p, i] for p, i in zip(rand_par, np.nonzero(m2)[0])]\n",
    "\n",
    "    # - quality control\n",
    "    for i, xys in enumerate((xys_fix1, xys_fix2, xys_control1, xys_control2)):\n",
    "        if i < 2:\n",
    "            # sanity check: control point must be equidistant to both fixations\n",
    "            assert np.allclose(np.linalg.norm(xys_control1 - xys, axis=1), np.linalg.norm(vs, axis=1))\n",
    "\n",
    "        d2b_ = np.array([\n",
    "            np.max([xys[:,j]-im_size[j]/2, -im_size[j]/2-xys[:,j]], axis=0)\n",
    "            for j in range(2)\n",
    "        ])\n",
    "        m = np.any(d2b_ >= 0, 0)\n",
    "        d2b__ = d2b_[:,m].max(0)\n",
    "        cond = ('Fixation 1', 'Fixation 2', 'Control 1 (equidist)', 'Control 2 (midpoint)')[i]\n",
    "        print(f'{cond +\":\":<18}\\t{m.mean()*100:4.1f}% out of image boundary', end='')\n",
    "        if np.any(m):\n",
    "            print(f'; d = {d2b__.mean():.1f} +/- {d2b__.std():.1f}')\n",
    "        else:\n",
    "            print()\n",
    "        d2b__ = -(d2b_.max(0))\n",
    "        print(f'\\tmean min dist to bound: {d2b__.mean():.1f} +/- {d2b__.std():.1f} dva')"
   ]
  },
  {
   "cell_type": "code",
   "execution_count": 15,
   "id": "890d4c83",
   "metadata": {
    "execution": {
     "iopub.execute_input": "2024-02-19T15:14:11.324851Z",
     "iopub.status.busy": "2024-02-19T15:14:11.324155Z",
     "iopub.status.idle": "2024-02-19T15:14:11.331218Z",
     "shell.execute_reply": "2024-02-19T15:14:11.329904Z"
    },
    "papermill": {
     "duration": 0.018291,
     "end_time": "2024-02-19T15:14:11.333073",
     "exception": false,
     "start_time": "2024-02-19T15:14:11.314782",
     "status": "completed"
    },
    "tags": []
   },
   "outputs": [],
   "source": [
    "ref_frames = np.array(('fix1', 'fix2', 'equidistant', 'midpoint')[:n_cond])\n",
    "if select_saccades:\n",
    "    xy_degs_conds = (xys_fix1, xys_fix2, xys_control1, xys_control2)\n",
    "else:\n",
    "    xy_degs_conds = (xys_fix2,)\n",
    "    ref_frames = ref_frames[:1]"
   ]
  },
  {
   "cell_type": "code",
   "execution_count": 16,
   "id": "2158567e",
   "metadata": {
    "execution": {
     "iopub.execute_input": "2024-02-19T15:14:11.357239Z",
     "iopub.status.busy": "2024-02-19T15:14:11.356991Z",
     "iopub.status.idle": "2024-02-19T15:14:11.395774Z",
     "shell.execute_reply": "2024-02-19T15:14:11.395157Z"
    },
    "papermill": {
     "duration": 0.057429,
     "end_time": "2024-02-19T15:14:11.398942",
     "exception": false,
     "start_time": "2024-02-19T15:14:11.341513",
     "status": "completed"
    },
    "tags": []
   },
   "outputs": [],
   "source": [
    "group = analysis_name + '/fix_sel'\n",
    "if select_saccades:\n",
    "    save_results(\n",
    "        group, np.array([fix1_sel, fix2_sel]),\n",
    "        attrs=dict(dims=np.array(['fix_1_or_2', 'index'], dtype=np.bytes_)))\n",
    "else:\n",
    "    save_results(\n",
    "        group, fix2_sel,\n",
    "        attrs=dict(dims=np.array(['index'], dtype=np.bytes_)))\n",
    "\n",
    "if select_saccades:\n",
    "    group = analysis_name + '/control_points/'\n",
    "    attrs = dict(dims=np.array(['index', 'xy'], dtype=np.bytes_), unit='dva', comment='Relative to image center')\n",
    "    save_results(group+'equidistant', xys_control1, attrs=attrs)\n",
    "    save_results(group+'midpoint', xys_control2, attrs=attrs)"
   ]
  },
  {
   "cell_type": "markdown",
   "id": "0802f029",
   "metadata": {
    "papermill": {
     "duration": 0.009302,
     "end_time": "2024-02-19T15:14:11.423921",
     "exception": false,
     "start_time": "2024-02-19T15:14:11.414619",
     "status": "completed"
    },
    "tags": []
   },
   "source": [
    "# Get aligned responses"
   ]
  },
  {
   "cell_type": "code",
   "execution_count": 17,
   "id": "ea33b45c",
   "metadata": {
    "execution": {
     "iopub.execute_input": "2024-02-19T15:14:11.438164Z",
     "iopub.status.busy": "2024-02-19T15:14:11.437535Z",
     "iopub.status.idle": "2024-02-19T15:14:21.680577Z",
     "shell.execute_reply": "2024-02-19T15:14:21.679364Z"
    },
    "papermill": {
     "duration": 10.253022,
     "end_time": "2024-02-19T15:14:21.683749",
     "exception": false,
     "start_time": "2024-02-19T15:14:11.430727",
     "status": "completed"
    },
    "tags": []
   },
   "outputs": [],
   "source": [
    "with h5.File(sdf_path, 'r') as f:\n",
    "    dset = f['sdf']\n",
    "    all_unit_names = dset.attrs['unit_names'].astype(str)\n",
    "    if unit_names is None:\n",
    "        unit_names = all_unit_names\n",
    "        unit_sel = slice(None)\n",
    "        if 'unit_names' in f:\n",
    "            copy_group(f, 'unit_names', analysis_name+'/unit_names')\n",
    "    else:\n",
    "        all_unit_names = list(all_unit_names)\n",
    "        unit_sel = np.array([v in unit_names for v in all_unit_names])\n",
    "\n",
    "    sdf = dset[()][:,unit_sel]\n",
    "\n",
    "n_neur = sdf.shape[1]"
   ]
  },
  {
   "cell_type": "code",
   "execution_count": 18,
   "id": "c63c4aba",
   "metadata": {
    "execution": {
     "iopub.execute_input": "2024-02-19T15:14:21.709817Z",
     "iopub.status.busy": "2024-02-19T15:14:21.709421Z",
     "iopub.status.idle": "2024-02-19T15:14:21.716007Z",
     "shell.execute_reply": "2024-02-19T15:14:21.715365Z"
    },
    "papermill": {
     "duration": 0.018937,
     "end_time": "2024-02-19T15:14:21.717837",
     "exception": false,
     "start_time": "2024-02-19T15:14:21.698900",
     "status": "completed"
    },
    "tags": []
   },
   "outputs": [],
   "source": [
    "if t_win > 0:\n",
    "    lat_df = pd.read_csv(latency_path).set_index('Session').loc[[sess_name]].set_index('Name')\n",
    "    m = pd.Series(unit_names).isin(lat_df.index)\n",
    "    assert m.all(), f'missing latency values for {(~m).sum()} of {m.size} units'\n",
    "    assert not lat_df.index.has_duplicates\n",
    "    lat_df = lat_df.loc[unit_names].reset_index()\n",
    "    assert len(lat_df) == len(unit_names)\n",
    "    lat_df['Index'] = np.arange(len(lat_df))\n",
    "    lat_df['Latency'] = np.clip(lat_df['Latency'], 40, None)\n",
    "    print('Num units using RF fit from each source:')\n",
    "    print('\\t' + '\\n\\t'.join(str(lat_df.groupby('Source').count()['Latency']).split('\\n')[:-1]))\n",
    "    lat_df.to_hdf(output_path, analysis_name+'/latency_per_unit', mode='a', format='table', complevel=9, complib='zlib')"
   ]
  },
  {
   "cell_type": "code",
   "execution_count": 19,
   "id": "4a24ab67",
   "metadata": {
    "execution": {
     "iopub.execute_input": "2024-02-19T15:14:21.736044Z",
     "iopub.status.busy": "2024-02-19T15:14:21.735599Z",
     "iopub.status.idle": "2024-02-19T15:14:21.836236Z",
     "shell.execute_reply": "2024-02-19T15:14:21.835624Z"
    },
    "papermill": {
     "duration": 0.110796,
     "end_time": "2024-02-19T15:14:21.838055",
     "exception": false,
     "start_time": "2024-02-19T15:14:21.727259",
     "status": "completed"
    },
    "tags": []
   },
   "outputs": [],
   "source": [
    "if t_aln == 'sacc_on':\n",
    "    t0s = fix_df.iloc[fix1_sel][['Time', 'Duration']].values.sum(1)\n",
    "else:\n",
    "    t0s = fix_df.iloc[fix2_sel]['Time'].values\n",
    "\n",
    "resps = np.empty_like(sdf, shape=(fix2_sel.size, ts.size, n_neur))\n",
    "\n",
    "if t_win > 0:\n",
    "    t_win_ = np.array([0, t_win])\n",
    "    lat_groups = [(dt, df_['Index'].values) for dt, df_ in lat_df.groupby('Latency')]\n",
    "    for i, t in enumerate(t0s):\n",
    "        for dt, usel in lat_groups:\n",
    "            s = slice(*np.round(t+dt+t_win_).astype(int))\n",
    "            resps[i,0,usel] = sdf[s,usel].mean(0)\n",
    "else:\n",
    "    for i, t in enumerate(t0s):\n",
    "        ts_ = np.round(t+ts).astype(int)\n",
    "        resps[i] = sdf[ts_,:]\n",
    "\n",
    "del sdf"
   ]
  },
  {
   "cell_type": "code",
   "execution_count": 20,
   "id": "50f1146b",
   "metadata": {
    "execution": {
     "iopub.execute_input": "2024-02-19T15:14:21.849512Z",
     "iopub.status.busy": "2024-02-19T15:14:21.849306Z",
     "iopub.status.idle": "2024-02-19T15:14:21.883498Z",
     "shell.execute_reply": "2024-02-19T15:14:21.882178Z"
    },
    "papermill": {
     "duration": 0.043174,
     "end_time": "2024-02-19T15:14:21.886555",
     "exception": false,
     "start_time": "2024-02-19T15:14:21.843381",
     "status": "completed"
    },
    "tags": []
   },
   "outputs": [
    {
     "data": {
      "text/plain": [
       "((4037, 31, 52), dtype('float32'))"
      ]
     },
     "execution_count": 20,
     "metadata": {},
     "output_type": "execute_result"
    }
   ],
   "source": [
    "Y = standardize(resps)\n",
    "Y.shape, Y.dtype"
   ]
  },
  {
   "cell_type": "code",
   "execution_count": 21,
   "id": "8e94a37f",
   "metadata": {
    "execution": {
     "iopub.execute_input": "2024-02-19T15:14:21.913719Z",
     "iopub.status.busy": "2024-02-19T15:14:21.912980Z",
     "iopub.status.idle": "2024-02-19T15:14:21.927819Z",
     "shell.execute_reply": "2024-02-19T15:14:21.926665Z"
    },
    "papermill": {
     "duration": 0.027747,
     "end_time": "2024-02-19T15:14:21.929605",
     "exception": false,
     "start_time": "2024-02-19T15:14:21.901858",
     "status": "completed"
    },
    "tags": []
   },
   "outputs": [],
   "source": [
    "save_results(analysis_name+'/unit_names', unit_names.astype(bytes))\n",
    "save_results(analysis_name+'/mean_responses', resps.mean(0), attrs=dict(\n",
    "    dims=np.array(['time', 'unit'], dtype=bytes),\n",
    "    n_fix=resps.shape[0]))"
   ]
  },
  {
   "cell_type": "markdown",
   "id": "52ae25e3",
   "metadata": {
    "papermill": {
     "duration": 0.005048,
     "end_time": "2024-02-19T15:14:21.940187",
     "exception": false,
     "start_time": "2024-02-19T15:14:21.935139",
     "status": "completed"
    },
    "tags": []
   },
   "source": [
    "# Define splits (group k-fold)"
   ]
  },
  {
   "cell_type": "code",
   "execution_count": 22,
   "id": "780d897f",
   "metadata": {
    "execution": {
     "iopub.execute_input": "2024-02-19T15:14:21.952668Z",
     "iopub.status.busy": "2024-02-19T15:14:21.952024Z",
     "iopub.status.idle": "2024-02-19T15:14:21.974097Z",
     "shell.execute_reply": "2024-02-19T15:14:21.973089Z"
    },
    "papermill": {
     "duration": 0.030192,
     "end_time": "2024-02-19T15:14:21.975607",
     "exception": false,
     "start_time": "2024-02-19T15:14:21.945415",
     "status": "completed"
    },
    "tags": []
   },
   "outputs": [
    {
     "name": "stdout",
     "output_type": "stream",
     "text": [
      "For group k-fold, loading catalog of similar images\n",
      "accounting for 0 pairs of similar images\n",
      "num training and testing points per split:\n",
      "split 0\t\ttrain:  3229 test: 808\n",
      "split 1\t\ttrain:  3229 test: 808\n",
      "split 2\t\ttrain:  3230 test: 807\n",
      "split 3\t\ttrain:  3230 test: 807\n",
      "split 4\t\ttrain:  3230 test: 807\n"
     ]
    }
   ],
   "source": [
    "imfns = fix_df.iloc[fix2_sel]['Image filename']\n",
    "\n",
    "splits, train_mask = cv_split_by_image(\n",
    "    imfns, n_splits,\n",
    "    group_kfold=group_kfold, random_seed=random_seed)"
   ]
  },
  {
   "cell_type": "code",
   "execution_count": 23,
   "id": "1fc4cad4",
   "metadata": {
    "execution": {
     "iopub.execute_input": "2024-02-19T15:14:21.993103Z",
     "iopub.status.busy": "2024-02-19T15:14:21.992842Z",
     "iopub.status.idle": "2024-02-19T15:14:22.004905Z",
     "shell.execute_reply": "2024-02-19T15:14:22.004242Z"
    },
    "papermill": {
     "duration": 0.022345,
     "end_time": "2024-02-19T15:14:22.006387",
     "exception": false,
     "start_time": "2024-02-19T15:14:21.984042",
     "status": "completed"
    },
    "tags": []
   },
   "outputs": [],
   "source": [
    "save_results(analysis_name+'/fix_is_train', train_mask, attrs=dict(\n",
    "    dims=np.array(['split', 'fixation'], dtype=np.bytes_),\n",
    "    random_seed=random_seed,\n",
    "    group_kfold=group_kfold))"
   ]
  },
  {
   "cell_type": "markdown",
   "id": "61f7b1e3",
   "metadata": {
    "papermill": {
     "duration": 0.007158,
     "end_time": "2024-02-19T15:14:22.021158",
     "exception": false,
     "start_time": "2024-02-19T15:14:22.014000",
     "status": "completed"
    },
    "tags": []
   },
   "source": [
    "# Load pre-computed model reprs"
   ]
  },
  {
   "cell_type": "code",
   "execution_count": 24,
   "id": "d09166d4",
   "metadata": {
    "execution": {
     "iopub.execute_input": "2024-02-19T15:14:22.033584Z",
     "iopub.status.busy": "2024-02-19T15:14:22.033358Z",
     "iopub.status.idle": "2024-02-19T15:15:11.193143Z",
     "shell.execute_reply": "2024-02-19T15:15:11.192597Z"
    },
    "papermill": {
     "duration": 49.169583,
     "end_time": "2024-02-19T15:15:11.196209",
     "exception": false,
     "start_time": "2024-02-19T15:14:22.026626",
     "status": "completed"
    },
    "tags": []
   },
   "outputs": [
    {
     "name": "stdout",
     "output_type": "stream",
     "text": [
      "Features shape: (3072,)\n",
      "Patch-grid features shape: (793, 35, 35, 3072)\n"
     ]
    }
   ],
   "source": [
    "with h5.File(feats_path, 'r') as f:\n",
    "    patch_locs_x = f['config/patch_grid/x_locs'][()]\n",
    "    patch_locs_y = f['config/patch_grid/y_locs'][()]\n",
    "    patch_step = float(f['config/patch_grid/step'][()])\n",
    "\n",
    "    bg_feats = f['feats/bg'][()]\n",
    "\n",
    "    all_md5s = f['md5'][()].astype(str)\n",
    "    all_md5s = pd.Series(index=all_md5s, data=np.arange(len(all_md5s)), name='Index in file')\n",
    "    idc = all_md5s.loc[md5_catalog['MD5'].values]\n",
    "    md5_catalog['Index'] = np.arange(len(md5_catalog))\n",
    "\n",
    "    patch_grid_feats = np.empty(shape=(idc.size,patch_locs_x.size,patch_locs_y.size)+bg_feats.shape, dtype=bg_feats.dtype)\n",
    "    if fit_coefs_at == 'image':\n",
    "        full_image_feats = np.empty(shape=(idc.size,)+bg_feats.shape, dtype=bg_feats.dtype)\n",
    "    else:\n",
    "        full_image_feats = None\n",
    "    for ii, i in enumerate(idc.values):\n",
    "        patch_grid_feats[ii] = f['feats/patch_grid'][i]  # shape (n_patches_x, n_patches_y,) + feats_shape\n",
    "        if full_image_feats is not None:\n",
    "            full_image_feats[ii] = f['feats/full_image'][i]\n",
    "\n",
    "    copy_group(f, 'config', analysis_name+'/config/feats')\n",
    "\n",
    "feats_shape = bg_feats.shape\n",
    "print('Features shape:', feats_shape)\n",
    "print('Patch-grid features shape:', patch_grid_feats.shape)\n",
    "if full_image_feats is not None:\n",
    "    print(f'Full-image features shape: {full_image_feats.shape}')\n",
    "\n",
    "iims = np.array([\n",
    "    md5_catalog.loc[(row['Image subdir'], row['Image filename']), 'Index']\n",
    "    for i, (_, row) in enumerate(fix_df.iloc[fix2_sel].iterrows())])\n",
    "patch_bins_x = np.concatenate([\n",
    "    patch_locs_x-patch_step/2, [patch_locs_x[-1]+patch_step/2]])\n",
    "patch_bins_y = np.concatenate([\n",
    "    patch_locs_y-patch_step/2, [patch_locs_y[-1]+patch_step/2]])"
   ]
  },
  {
   "cell_type": "code",
   "execution_count": 25,
   "id": "b99d1cff",
   "metadata": {
    "execution": {
     "iopub.execute_input": "2024-02-19T15:15:11.210056Z",
     "iopub.status.busy": "2024-02-19T15:15:11.209397Z",
     "iopub.status.idle": "2024-02-19T15:15:11.215728Z",
     "shell.execute_reply": "2024-02-19T15:15:11.214459Z"
    },
    "papermill": {
     "duration": 0.014876,
     "end_time": "2024-02-19T15:15:11.217307",
     "exception": false,
     "start_time": "2024-02-19T15:15:11.202431",
     "status": "completed"
    },
    "tags": []
   },
   "outputs": [],
   "source": [
    "def recon_stim(*args, **kwargs):\n",
    "    return get_patches_from_grid(\n",
    "        *args, patch_bins_x=patch_bins_x, patch_bins_y=patch_bins_y, **kwargs)"
   ]
  },
  {
   "cell_type": "markdown",
   "id": "e7c5b33b",
   "metadata": {
    "papermill": {
     "duration": 0.007148,
     "end_time": "2024-02-19T15:15:11.230490",
     "exception": false,
     "start_time": "2024-02-19T15:15:11.223342",
     "status": "completed"
    },
    "tags": []
   },
   "source": [
    "# Load preliminary rf map if fitting coefs at peak"
   ]
  },
  {
   "cell_type": "code",
   "execution_count": 26,
   "id": "9c0ae95a",
   "metadata": {
    "execution": {
     "iopub.execute_input": "2024-02-19T15:15:11.242741Z",
     "iopub.status.busy": "2024-02-19T15:15:11.242507Z",
     "iopub.status.idle": "2024-02-19T15:15:11.603529Z",
     "shell.execute_reply": "2024-02-19T15:15:11.602964Z"
    },
    "papermill": {
     "duration": 0.369755,
     "end_time": "2024-02-19T15:15:11.605562",
     "exception": false,
     "start_time": "2024-02-19T15:15:11.235807",
     "status": "completed"
    },
    "tags": []
   },
   "outputs": [],
   "source": [
    "# if fitting at peak, load coefs\n",
    "if fit_coefs_at == 'peak':\n",
    "    rf_ds = xr.load_dataset(\n",
    "        rfmap_path, group=rfmap_analysis+'/data',\n",
    "        engine='h5netcdf')\n",
    "    # As of xarray 2023.4.2, load_dataset(.) without specifying the engine \n",
    "    # does not close file properly as claimed in the docs.\n",
    "    # Such behavior prevents later opening the same file (if using) to write.\n",
    "    # Thankfully, using the h5netcdf engine seems to avoid the bug.\n",
    "\n",
    "    if rf_ds.dims['ref_frame'] == len(ref_frames):\n",
    "        assert not len(set(ref_frames) - set(rf_ds.coords['ref_frame'].values))\n",
    "        indices = list(rf_ds.coords['ref_frame'].values)\n",
    "        idc_ref = [indices.index(v) for v in ref_frames]\n",
    "    else:\n",
    "        assert rf_ds.dims['ref_frame'] == 1\n",
    "        idc_ref = slice(None)\n",
    "\n",
    "    if rf_ds.dims['time'] == 1:\n",
    "        idc_t = slice(None)\n",
    "    else:\n",
    "        assert rf_ds.dims['time'] == len(ts)\n",
    "        assert not len(set(ts) - set(rf_ds.coords['time'].values))\n",
    "        indices = list(rf_ds.coords['time'].values)\n",
    "        idc_t = [indices.index(v) for v in ts]\n",
    "\n",
    "    assert rf_ds.dims['split'] == n_splits\n",
    "\n",
    "    assert (not len(set(unit_names) - set(rf_ds.coords['unit'].values))\n",
    "            or not len({'Unit/' + n for n in unit_names} - set(rf_ds.coords['unit'].values)))\n",
    "    indices = list(rf_ds.coords['unit'].values)\n",
    "    idc_u = np.empty(len(unit_names), dtype=np.uint)\n",
    "    for i, n in enumerate(unit_names):\n",
    "        # both will fail if n is not found in the unit names in rf_ds\n",
    "        try:\n",
    "            idc_u[i] = indices.index(n)\n",
    "        except ValueError:\n",
    "            idc_u[i] = indices.index('Unit/'+n)\n",
    "\n",
    "    rfs = rf_ds[rfmap_dset].transpose('ref_frame', 'time', 'split', 'unit', 'rf_x', 'rf_y').values\n",
    "    rfs = rfs[idc_ref][:,idc_t][:,:,:,idc_u]\n",
    "    rfs = np.broadcast_to(rfs, (ref_frames.size, ts.size, n_splits, unit_names.size) + rfs.shape[-2:])\n",
    "    rf_x = rf_ds.coords['rf_x'].values\n",
    "    rf_y = rf_ds.coords['rf_y'].values\n",
    "\n",
    "else:\n",
    "    rfs = None"
   ]
  },
  {
   "cell_type": "markdown",
   "id": "eb01e3fe",
   "metadata": {
    "papermill": {
     "duration": 0.014087,
     "end_time": "2024-02-19T15:15:11.629072",
     "exception": false,
     "start_time": "2024-02-19T15:15:11.614985",
     "status": "completed"
    },
    "tags": []
   },
   "source": [
    "# Main"
   ]
  },
  {
   "cell_type": "code",
   "execution_count": 27,
   "id": "431cdc64",
   "metadata": {
    "execution": {
     "iopub.execute_input": "2024-02-19T15:15:11.644083Z",
     "iopub.status.busy": "2024-02-19T15:15:11.643727Z",
     "iopub.status.idle": "2024-02-19T15:15:11.650174Z",
     "shell.execute_reply": "2024-02-19T15:15:11.649614Z"
    },
    "papermill": {
     "duration": 0.017731,
     "end_time": "2024-02-19T15:15:11.652718",
     "exception": false,
     "start_time": "2024-02-19T15:15:11.634987",
     "status": "completed"
    },
    "tags": []
   },
   "outputs": [],
   "source": [
    "def eval_cv_corr(X, Y, splits):\n",
    "    assert X.ndim == 3  # (n_split, n_fix, n_unit)\n",
    "    assert Y.ndim == 2  # (n_fix, n_unit)\n",
    "\n",
    "    n_split = len(splits)\n",
    "    n_unit = Y.shape[1]\n",
    "\n",
    "    corr_pers = np.full((n_split, n_unit), np.nan)\n",
    "    corr = np.full(n_unit, np.nan)\n",
    "\n",
    "    for iu in range(n_unit):\n",
    "        cv_X_ = np.empty_like(X[0,:,0])  # shape (n_fix,)\n",
    "\n",
    "        for isp, (i0, i1) in enumerate(splits):\n",
    "            cv_X_[i1] = X_ = X[isp,i1,iu]\n",
    "            if np.any(~np.isfinite(X_)):\n",
    "                continue\n",
    "            corr_pers[isp,iu] = pearsonr(X_, Y_[i1,iu])\n",
    "\n",
    "        if np.all(np.isfinite(cv_X_)):\n",
    "            corr[iu] = pearsonr(cv_X_, Y_[:,iu])\n",
    "\n",
    "    return corr, corr_pers"
   ]
  },
  {
   "cell_type": "code",
   "execution_count": 28,
   "id": "73c4247c",
   "metadata": {
    "execution": {
     "iopub.execute_input": "2024-02-19T15:15:11.679236Z",
     "iopub.status.busy": "2024-02-19T15:15:11.678964Z",
     "iopub.status.idle": "2024-02-19T15:15:11.689529Z",
     "shell.execute_reply": "2024-02-19T15:15:11.688818Z"
    },
    "papermill": {
     "duration": 0.024125,
     "end_time": "2024-02-19T15:15:11.692443",
     "exception": false,
     "start_time": "2024-02-19T15:15:11.668318",
     "status": "completed"
    },
    "tags": []
   },
   "outputs": [],
   "source": [
    "n_win = len(ts)\n",
    "n_split = n_splits\n",
    "n_loc = len(rf_locs)\n",
    "n_unit = len(unit_names)\n",
    "\n",
    "coef_locs = np.full((n_cond, n_win, n_split, n_unit, 2), np.nan, dtype=np.float32)\n",
    "cv_corrs = np.full((n_cond, n_win, n_loc, n_loc, n_unit), np.nan, dtype=np.float32)\n",
    "cv_corrs_per_split = np.full((n_cond, n_win, n_split, n_loc, n_loc, n_unit), np.nan, dtype=np.float32)"
   ]
  },
  {
   "cell_type": "code",
   "execution_count": 29,
   "id": "05587da0",
   "metadata": {
    "execution": {
     "iopub.execute_input": "2024-02-19T15:15:11.707313Z",
     "iopub.status.busy": "2024-02-19T15:15:11.706364Z",
     "iopub.status.idle": "2024-02-20T01:31:31.835503Z",
     "shell.execute_reply": "2024-02-20T01:31:31.834305Z"
    },
    "papermill": {
     "duration": 36980.138187,
     "end_time": "2024-02-20T01:31:31.837047",
     "exception": false,
     "start_time": "2024-02-19T15:15:11.698860",
     "status": "completed"
    },
    "tags": []
   },
   "outputs": [
    {
     "name": "stderr",
     "output_type": "stream",
     "text": [
      "\r",
      "100%|███████████████████████████████████████████████████████████████████████████████████████████████████████████████████████████████████████████████████████████████████████████████████████████████████████████████████████████████████████████████████████████████████████████████| 27900/27900 [10:16:20<00:00,  1.33s/it]"
     ]
    },
    {
     "name": "stderr",
     "output_type": "stream",
     "text": [
      "\n"
     ]
    }
   ],
   "source": [
    "coefs = None\n",
    "coefs_ic = -1\n",
    "coefs_ic_iw = (-1, -1)\n",
    "\n",
    "for (ic, xy_degs), (iw, _), (iy, dy), (ix, dx) in tqdm(\n",
    "        itertools.product(enumerate(xy_degs_conds), enumerate(ts), enumerate(rf_locs), enumerate(rf_locs)),\n",
    "        total=n_cond*n_win*n_loc**2):\n",
    "    Y_ = Y[:,iw]  # shape (n_fix, n_unit)\n",
    "\n",
    "\n",
    "    # ================================\n",
    "    # Fit coefs (i.e., feature weights)\n",
    "    # ================================\n",
    "    # this step is slow; refresh only only if needed\n",
    "    # coefs shape: (n_split, n_unit, n_feat)\n",
    "    new_coefs = True\n",
    "\n",
    "    if fit_coefs_at == 'peak' and coefs_ic_iw != (ic, iw):\n",
    "        coefs = np.empty((n_split, n_unit, bg_feats.size), dtype=np.float32)\n",
    "        incl = np.isfinite(rfs[ic,iw]).any((-1,-2))\n",
    "        incl_idc = np.nonzero(incl.ravel())[0]\n",
    "        coefs[~incl] = np.nan\n",
    "        rfs_ = rfs[ic,iw,incl]  # shape (nsp x nu, nx, ny)\n",
    "        ixys = np.nanargmax(rfs_.reshape(len(rfs_),-1), axis=-1)  # find peak dxy per neuron\n",
    "\n",
    "        s = pd.Series(ixys)\n",
    "        for ixy, idc in s.groupby(s):  # recon stim per offset\n",
    "            idc = incl_idc[idc.index.values]\n",
    "            isps, ius = np.unravel_index(idc, (n_split, n_unit))\n",
    "\n",
    "            ix_, iy_ = np.unravel_index(ixy, (rf_x.size, rf_y.size))\n",
    "            dxy = rf_x[ix_], rf_y[iy_]\n",
    "            X = standardize(recon_stim(iims, xy_degs+dxy, patch_grid_feats, bg_feats))\n",
    "            coef_locs[ic,iw,isps,ius] = dxy\n",
    "\n",
    "            # fit coef per split; vectorize over units as much as possible\n",
    "            s2 = pd.Series(isps)\n",
    "            for isp, ius2 in s2.groupby(s2):\n",
    "                ius2 = ius[ius2.index.values]\n",
    "                coefs[isp,ius2] = cv_ridge_predict(\n",
    "                    X, Y_[:,ius2], [splits[isp]], ridge_alpha,\n",
    "                    return_pred=False, return_coefs=True)\n",
    "        coefs_ic_iw = (ic, iw)\n",
    "\n",
    "    elif fit_coefs_at == 'fovea' and coefs_ic != ic:\n",
    "        X = reconstruct_stimuli(iims, patch_feats, bg_feats, xy_degs)\n",
    "        coef_locs[ic,iw] = 0\n",
    "        coefs = cross_val_predict(\n",
    "            X, Y_, splits, ridge_alpha,\n",
    "            return_pred=False, return_coefs=True)\n",
    "        coefs_ic = ic\n",
    "\n",
    "    elif fit_coefs_at == 'full_image' and coefs is None:\n",
    "        X = reconstruct_stimuli(iims, full_image_feats, bg_feats, None)\n",
    "        coefs = cross_val_predict(\n",
    "            X, Y_, splits, ridge_alpha,\n",
    "            return_pred=False, return_coefs=True)\n",
    "\n",
    "    else:\n",
    "        new_coefs = False\n",
    "\n",
    "    if new_coefs:\n",
    "        coefs_g = np.linalg.norm(coefs, axis=-1, keepdims=True)\n",
    "        coefs_g[coefs_g==0] = 1\n",
    "        coefs /= coefs_g\n",
    "\n",
    "\n",
    "    # ================================\n",
    "    # Reverse correlation\n",
    "    # ================================\n",
    "    X = standardize(recon_stim(iims, xy_degs+[dx,dy], patch_grid_feats, bg_feats))\n",
    "    X = np.einsum('xf,suf->sxu', X, coefs)  # shape (n_split, n_fix, n_unit)\n",
    "\n",
    "    corr, corr_pers = eval_cv_corr(X, Y_, splits)\n",
    "\n",
    "    cv_corrs[ic,iw,iy,ix,:] = corr\n",
    "    cv_corrs_per_split[ic,iw,:,iy,ix,:] = corr_pers"
   ]
  },
  {
   "cell_type": "code",
   "execution_count": 30,
   "id": "64461cf3",
   "metadata": {
    "execution": {
     "iopub.execute_input": "2024-02-20T01:31:33.885801Z",
     "iopub.status.busy": "2024-02-20T01:31:33.884809Z",
     "iopub.status.idle": "2024-02-20T01:32:05.542044Z",
     "shell.execute_reply": "2024-02-20T01:32:05.541467Z"
    },
    "papermill": {
     "duration": 32.706724,
     "end_time": "2024-02-20T01:32:05.545159",
     "exception": false,
     "start_time": "2024-02-20T01:31:32.838435",
     "status": "completed"
    },
    "tags": []
   },
   "outputs": [],
   "source": [
    "dims = np.array(('ref_frame', 'time', 'split', 'rf_y', 'rf_x', 'unit', 'axis'))\n",
    "coords = dict((\n",
    "    ('ref_frame', ref_frames),\n",
    "    ('time', ts),\n",
    "    ('split', np.arange(n_split)),\n",
    "    ('rf_y', rf_locs),\n",
    "    ('rf_x', rf_locs),\n",
    "    ('unit', unit_names),\n",
    "    ('axis', np.array(list('xy')))))\n",
    "attrs = dict(\n",
    "    ifix_sel=ifix_sel,\n",
    "    n_fix=fix2_sel.size,\n",
    "    group_kfold=int(group_kfold),\n",
    "    feat_shape=feats_shape,\n",
    "    ridge_alpha=ridge_alpha,\n",
    "    t_aln=t_aln)\n",
    "\n",
    "q = lambda x: quantize(x, 3)\n",
    "data_vars = {\n",
    "    'corr': (dims[[0,1,3,4,5]], q(cv_corrs)),\n",
    "    'corr_per_split': (dims[:-1], q(cv_corrs_per_split)),\n",
    "    'coef_loc': (dims[[0,1,2,5,-1]], coef_locs)}\n",
    "dataset = xr.Dataset(data_vars, coords=coords, attrs=attrs)\n",
    "\n",
    "compr = dict(zlib=True, complevel=9)\n",
    "encoding = {\n",
    "    k: dict(chunksizes=v.shape, **compr)\n",
    "    for k, v in dataset.data_vars.items()}\n",
    "dataset.to_netcdf(\n",
    "    output_path, group=analysis_name+'/data',\n",
    "    mode='a', engine='h5netcdf', encoding=encoding)"
   ]
  },
  {
   "cell_type": "markdown",
   "id": "f2cbecba",
   "metadata": {
    "papermill": {
     "duration": 0.896943,
     "end_time": "2024-02-20T01:32:07.378933",
     "exception": false,
     "start_time": "2024-02-20T01:32:06.481990",
     "status": "completed"
    },
    "tags": []
   },
   "source": [
    "# Wrap up"
   ]
  },
  {
   "cell_type": "code",
   "execution_count": 31,
   "id": "0b9fbc7b",
   "metadata": {
    "execution": {
     "iopub.execute_input": "2024-02-20T01:32:09.280877Z",
     "iopub.status.busy": "2024-02-20T01:32:09.280183Z",
     "iopub.status.idle": "2024-02-20T01:32:09.287813Z",
     "shell.execute_reply": "2024-02-20T01:32:09.286503Z"
    },
    "papermill": {
     "duration": 0.903272,
     "end_time": "2024-02-20T01:32:09.289342",
     "exception": false,
     "start_time": "2024-02-20T01:32:08.386070",
     "status": "completed"
    },
    "tags": []
   },
   "outputs": [],
   "source": [
    "save_results(f'progress_report/{analysis_name}/all_done', True)"
   ]
  },
  {
   "cell_type": "code",
   "execution_count": 32,
   "id": "1d99f26d",
   "metadata": {
    "execution": {
     "iopub.execute_input": "2024-02-20T01:32:11.324018Z",
     "iopub.status.busy": "2024-02-20T01:32:11.323378Z",
     "iopub.status.idle": "2024-02-20T01:32:11.368816Z",
     "shell.execute_reply": "2024-02-20T01:32:11.367520Z"
    },
    "papermill": {
     "duration": 1.066516,
     "end_time": "2024-02-20T01:32:11.371803",
     "exception": false,
     "start_time": "2024-02-20T01:32:10.305287",
     "status": "completed"
    },
    "tags": []
   },
   "outputs": [
    {
     "name": "stdout",
     "output_type": "stream",
     "text": [
      "Last updated: 2024-02-19T20:32:11.336482-05:00\n",
      "\n",
      "Python implementation: CPython\n",
      "Python version       : 3.10.12\n",
      "IPython version      : 8.12.0\n",
      "\n",
      "Compiler    : GCC 11.4.0\n",
      "OS          : Linux\n",
      "Release     : 5.15.0-92-generic\n",
      "Machine     : x86_64\n",
      "Processor   : x86_64\n",
      "CPU cores   : 20\n",
      "Architecture: 64bit\n",
      "\n",
      "Python implementation: CPython\n",
      "Python version       : 3.10.12\n",
      "IPython version      : 8.12.0\n",
      "\n",
      "Compiler    : GCC 11.4.0\n",
      "OS          : Linux\n",
      "Release     : 5.15.0-92-generic\n",
      "Machine     : x86_64\n",
      "Processor   : x86_64\n",
      "CPU cores   : 20\n",
      "Architecture: 64bit\n",
      "\n",
      "Git hash: b0bb10f45dee065cc3af96fe224326b883d27431\n",
      "\n",
      "Git repo: https://github.com/willwx/free_viewing_staging.git\n",
      "\n",
      "Git branch: master\n",
      "\n",
      "pandas: 2.0.1\n",
      "sys   : 3.10.12 (main, Nov 20 2023, 15:14:05) [GCC 11.4.0]\n",
      "numpy : 1.24.3\n",
      "xarray: 2023.4.2\n",
      "h5py  : 3.8.0\n",
      "\n"
     ]
    }
   ],
   "source": [
    "%load_ext watermark\n",
    "%watermark\n",
    "%watermark -vm --iversions -rbg"
   ]
  },
  {
   "cell_type": "markdown",
   "id": "8596cece",
   "metadata": {
    "papermill": {
     "duration": 0.894022,
     "end_time": "2024-02-20T01:32:13.178559",
     "exception": false,
     "start_time": "2024-02-20T01:32:12.284537",
     "status": "completed"
    },
    "tags": []
   },
   "source": [
    "# Basic visualization of results"
   ]
  },
  {
   "cell_type": "code",
   "execution_count": 33,
   "id": "b4bcd3bd",
   "metadata": {
    "execution": {
     "iopub.execute_input": "2024-02-20T01:32:15.084241Z",
     "iopub.status.busy": "2024-02-20T01:32:15.083341Z",
     "iopub.status.idle": "2024-02-20T01:32:15.429349Z",
     "shell.execute_reply": "2024-02-20T01:32:15.428563Z"
    },
    "papermill": {
     "duration": 1.24011,
     "end_time": "2024-02-20T01:32:15.430991",
     "exception": false,
     "start_time": "2024-02-20T01:32:14.190881",
     "status": "completed"
    },
    "tags": []
   },
   "outputs": [],
   "source": [
    "import matplotlib.pyplot as plt\n",
    "import seaborn as sns"
   ]
  },
  {
   "cell_type": "code",
   "execution_count": 34,
   "id": "609397be",
   "metadata": {
    "execution": {
     "iopub.execute_input": "2024-02-20T01:32:17.454350Z",
     "iopub.status.busy": "2024-02-20T01:32:17.453815Z",
     "iopub.status.idle": "2024-02-20T01:32:17.577589Z",
     "shell.execute_reply": "2024-02-20T01:32:17.577018Z"
    },
    "papermill": {
     "duration": 1.155824,
     "end_time": "2024-02-20T01:32:17.581068",
     "exception": false,
     "start_time": "2024-02-20T01:32:16.425244",
     "status": "completed"
    },
    "tags": []
   },
   "outputs": [
    {
     "data": {
      "image/png": "[encoded data removed]",
      "text/plain": [
       "<Figure size 640x480 with 1 Axes>"
      ]
     },
     "metadata": {},
     "output_type": "display_data"
    }
   ],
   "source": [
    "if fit_coefs_at == 'peak':\n",
    "    vals = coef_locs.reshape(-1, coef_locs.shape[-1])\n",
    "    vals = vals[np.isfinite(vals).all(1)]\n",
    "    plt.hist2d(*vals.T, bins=len(rf_locs))\n",
    "    plt.gca().set_aspect('equal')"
   ]
  },
  {
   "cell_type": "code",
   "execution_count": 35,
   "id": "2d97af49",
   "metadata": {
    "execution": {
     "iopub.execute_input": "2024-02-20T01:32:19.372345Z",
     "iopub.status.busy": "2024-02-20T01:32:19.371697Z",
     "iopub.status.idle": "2024-02-20T01:32:25.309358Z",
     "shell.execute_reply": "2024-02-20T01:32:25.308696Z"
    },
    "papermill": {
     "duration": 6.837526,
     "end_time": "2024-02-20T01:32:25.310890",
     "exception": false,
     "start_time": "2024-02-20T01:32:18.473364",
     "status": "completed"
    },
    "tags": []
   },
   "outputs": [
    {
     "data": {
      "image/png": "[encoded data removed]",
      "text/plain": [
       "<Figure size 640x480 with 1 Axes>"
      ]
     },
     "metadata": {},
     "output_type": "display_data"
    }
   ],
   "source": [
    "df = {'Condition': [], 'X': [], 'Y': []}\n",
    "for i, xys in enumerate(xy_degs_conds):\n",
    "    if select_saccades:\n",
    "        cond = ('Fixation 1', 'Fixation 2', 'Equidistant control', 'Midpoint control')[i]\n",
    "    else:\n",
    "        cond = 'Default'\n",
    "    df['Condition'].append(np.full(len(xys), cond))\n",
    "    df['X'].append(xys[:,0])\n",
    "    df['Y'].append(xys[:,1])\n",
    "for k in df.keys():\n",
    "    df[k] = np.concatenate(df[k])\n",
    "df = pd.DataFrame(df)\n",
    "ax = sns.kdeplot(data=df, x='X', y='Y', hue='Condition', levels=3)\n",
    "ax.set_title('Distribution of selected fixations')\n",
    "ax.set_xlabel('X, dva')\n",
    "ax.set_ylabel('Y, dva')\n",
    "ax.set_aspect('equal')"
   ]
  },
  {
   "cell_type": "code",
   "execution_count": 36,
   "id": "52b9542d",
   "metadata": {
    "execution": {
     "iopub.execute_input": "2024-02-20T01:32:27.181684Z",
     "iopub.status.busy": "2024-02-20T01:32:27.180570Z",
     "iopub.status.idle": "2024-02-20T01:32:27.321962Z",
     "shell.execute_reply": "2024-02-20T01:32:27.321410Z"
    },
    "papermill": {
     "duration": 1.035688,
     "end_time": "2024-02-20T01:32:27.323662",
     "exception": false,
     "start_time": "2024-02-20T01:32:26.287974",
     "status": "completed"
    },
    "tags": []
   },
   "outputs": [
    {
     "data": {
      "image/png": "[encoded data removed]",
      "text/plain": [
       "<Figure size 640x480 with 1 Axes>"
      ]
     },
     "metadata": {},
     "output_type": "display_data"
    }
   ],
   "source": [
    "if select_saccades:\n",
    "    sacc_vecs = (\n",
    "        fix_df.iloc[fix2_sel][['Relative X', 'Relative Y']].values\n",
    "        - fix_df.iloc[fix1_sel][['Relative X', 'Relative Y']].values)\n",
    "    plt.hist2d(x=sacc_vecs[:,0], y=sacc_vecs[:,1], cmap='gist_gray_r')\n",
    "    plt.xlabel('X, dva')\n",
    "    plt.ylabel('Y, dva')\n",
    "    plt.title('Distribution of selected saccade vectors')\n",
    "    plt.gca().set_aspect('equal')"
   ]
  },
  {
   "cell_type": "code",
   "execution_count": 37,
   "id": "3c5b3766",
   "metadata": {
    "execution": {
     "iopub.execute_input": "2024-02-20T01:32:29.345670Z",
     "iopub.status.busy": "2024-02-20T01:32:29.344846Z",
     "iopub.status.idle": "2024-02-20T01:32:29.567755Z",
     "shell.execute_reply": "2024-02-20T01:32:29.566643Z"
    },
    "papermill": {
     "duration": 1.250443,
     "end_time": "2024-02-20T01:32:29.569286",
     "exception": false,
     "start_time": "2024-02-20T01:32:28.318843",
     "status": "completed"
    },
    "tags": []
   },
   "outputs": [
    {
     "data": {
      "image/png": "[encoded data removed]",
      "text/plain": [
       "<Figure size 640x480 with 1 Axes>"
      ]
     },
     "metadata": {},
     "output_type": "display_data"
    }
   ],
   "source": [
    "plt.plot(ts, resps.mean((0,2)), '.-')\n",
    "plt.xlabel(f'Time aligned to {t_aln}, ms')\n",
    "plt.ylabel('Grand mean FR, spks/s');"
   ]
  },
  {
   "cell_type": "code",
   "execution_count": 38,
   "id": "bf359881",
   "metadata": {
    "execution": {
     "iopub.execute_input": "2024-02-20T01:32:31.423502Z",
     "iopub.status.busy": "2024-02-20T01:32:31.422850Z",
     "iopub.status.idle": "2024-02-20T01:32:31.666686Z",
     "shell.execute_reply": "2024-02-20T01:32:31.666256Z"
    },
    "papermill": {
     "duration": 1.154067,
     "end_time": "2024-02-20T01:32:31.669826",
     "exception": false,
     "start_time": "2024-02-20T01:32:30.515759",
     "status": "completed"
    },
    "tags": []
   },
   "outputs": [
    {
     "data": {
      "image/png": "[encoded data removed]",
      "text/plain": [
       "<Figure size 640x480 with 2 Axes>"
      ]
     },
     "metadata": {},
     "output_type": "display_data"
    }
   ],
   "source": [
    "vr = abs(np.nanpercentile(np.nanmean(cv_corrs,-1), 99.5))\n",
    "\n",
    "i = np.argmin(np.abs(ts - 200))\n",
    "map_ = np.ma.masked_invalid(cv_corrs[0,i,:,:,:]).mean(-1).filled(np.nan)\n",
    "cm = plt.imshow(map_, cmap='RdGy', origin='lower', extent=rf_extent, vmin=-vr, vmax=vr)\n",
    "cb = plt.colorbar(cm)\n",
    "cb.ax.set_ylabel('Model-based rev. corr., r')\n",
    "plt.xlabel('X, dva')\n",
    "plt.ylabel('Y, dva')\n",
    "if select_saccades:\n",
    "    plt.title(f'Fix 1-aligned model performance, {ts[i]} ms')\n",
    "else:\n",
    "    plt.title(f'Fixation-aligned model performance, {ts[i]} ms')"
   ]
  },
  {
   "cell_type": "code",
   "execution_count": 39,
   "id": "e8bc81f6",
   "metadata": {
    "execution": {
     "iopub.execute_input": "2024-02-20T01:32:33.565742Z",
     "iopub.status.busy": "2024-02-20T01:32:33.565066Z",
     "iopub.status.idle": "2024-02-20T01:32:33.789588Z",
     "shell.execute_reply": "2024-02-20T01:32:33.788339Z"
    },
    "papermill": {
     "duration": 1.119622,
     "end_time": "2024-02-20T01:32:33.792655",
     "exception": false,
     "start_time": "2024-02-20T01:32:32.673033",
     "status": "completed"
    },
    "tags": []
   },
   "outputs": [
    {
     "data": {
      "image/png": "[encoded data removed]",
      "text/plain": [
       "<Figure size 640x480 with 2 Axes>"
      ]
     },
     "metadata": {},
     "output_type": "display_data"
    }
   ],
   "source": [
    "if select_saccades:\n",
    "    i = np.argmin(np.abs(ts - 200))\n",
    "    map_ = np.ma.masked_invalid(cv_corrs[1,i,:,:,:]).mean(-1).filled(np.nan)\n",
    "    cm = plt.imshow(map_, cmap='RdGy', origin='lower', extent=rf_extent, vmin=-vr, vmax=vr)\n",
    "    cb = plt.colorbar(cm)\n",
    "    cb.ax.set_ylabel('Model-based rev. corr., r')\n",
    "    plt.xlabel('X, dva')\n",
    "    plt.ylabel('Y, dva')\n",
    "    plt.title(f'Fix 2-aligned model performance, {ts[i]} ms');"
   ]
  },
  {
   "cell_type": "code",
   "execution_count": 40,
   "id": "957a194e",
   "metadata": {
    "execution": {
     "iopub.execute_input": "2024-02-20T01:32:35.841317Z",
     "iopub.status.busy": "2024-02-20T01:32:35.840643Z",
     "iopub.status.idle": "2024-02-20T01:32:36.090647Z",
     "shell.execute_reply": "2024-02-20T01:32:36.090166Z"
    },
    "papermill": {
     "duration": 1.2771,
     "end_time": "2024-02-20T01:32:36.094533",
     "exception": false,
     "start_time": "2024-02-20T01:32:34.817433",
     "status": "completed"
    },
    "tags": []
   },
   "outputs": [
    {
     "data": {
      "image/png": "[encoded data removed]",
      "text/plain": [
       "<Figure size 640x480 with 2 Axes>"
      ]
     },
     "metadata": {},
     "output_type": "display_data"
    }
   ],
   "source": [
    "if select_saccades:\n",
    "    i = np.argmin(np.abs(ts))\n",
    "    map_ = np.ma.masked_invalid(cv_corrs[1,i,:,:,:]).mean(-1).filled(np.nan)\n",
    "    cm = plt.imshow(map_, cmap='RdGy', origin='lower', extent=rf_extent, vmin=-vr, vmax=vr)\n",
    "    cb = plt.colorbar(cm)\n",
    "    cb.ax.set_ylabel('Model-based rev. corr., r')\n",
    "    plt.xlabel('X, dva')\n",
    "    plt.ylabel('Y, dva')\n",
    "    plt.title(f'Fix 2-aligned model performance, {ts[i]} ms');"
   ]
  },
  {
   "cell_type": "code",
   "execution_count": 41,
   "id": "13a5079a",
   "metadata": {
    "execution": {
     "iopub.execute_input": "2024-02-20T01:32:37.931887Z",
     "iopub.status.busy": "2024-02-20T01:32:37.931650Z",
     "iopub.status.idle": "2024-02-20T01:32:38.027681Z",
     "shell.execute_reply": "2024-02-20T01:32:38.027138Z"
    },
    "papermill": {
     "duration": 1.000226,
     "end_time": "2024-02-20T01:32:38.030357",
     "exception": false,
     "start_time": "2024-02-20T01:32:37.030131",
     "status": "completed"
    },
    "tags": []
   },
   "outputs": [
    {
     "data": {
      "image/png": "[encoded data removed]",
      "text/plain": [
       "<Figure size 2000x258.065 with 1 Axes>"
      ]
     },
     "metadata": {},
     "output_type": "display_data"
    }
   ],
   "source": [
    "h = 3 * cv_corrs.shape[0]\n",
    "w = min(h / cv_corrs.shape[0] * cv_corrs.shape[1], 20)\n",
    "h = min(h, w / cv_corrs.shape[1] * cv_corrs.shape[0])\n",
    "plt.figure(figsize=(w,h))\n",
    "a = np.ma.masked_invalid(cv_corrs).mean(-1)\n",
    "a = a.filled(np.nan)\n",
    "a = a[:,:,::-1,:]  # flip y such that the first rows now correspond to larger y\n",
    "a = np.hstack(np.hstack(a))\n",
    "plt.imshow(a, cmap='RdGy', vmin=-vr, vmax=vr);\n",
    "ax = plt.gca()\n",
    "ax.set_xticks([])\n",
    "ax.set_yticks([])\n",
    "[v.set_visible(False) for v in ax.spines.values()]\n",
    "plt.xlabel('Response window')\n",
    "plt.ylabel('Condition')\n",
    "plt.title('Mean 3D map per condition');"
   ]
  }
 ],
 "metadata": {
  "kernelspec": {
   "display_name": "Python 3 (ipykernel)",
   "language": "python",
   "name": "python3"
  },
  "language_info": {
   "codemirror_mode": {
    "name": "ipython",
    "version": 3
   },
   "file_extension": ".py",
   "mimetype": "text/x-python",
   "name": "python",
   "nbconvert_exporter": "python",
   "pygments_lexer": "ipython3",
   "version": "3.10.12"
  },
  "papermill": {
   "default_parameters": {},
   "duration": 37110.634162,
   "end_time": "2024-02-20T01:32:39.669072",
   "environment_variables": {},
   "exception": null,
   "input_path": "script_6b_feat_corr_map.ipynb",
   "output_path": "../test_results/log_6b_feat_corr_map-Pa210201.ipynb",
   "parameters": {
    "output_dir": "../test_results",
    "rfmap_dir": "../test_results",
    "sess_name": "Pa210201",
    "unit_sel_path": "../db/unit_sel/visually_selective.csv.gz"
   },
   "start_time": "2024-02-19T15:14:09.034910",
   "version": "2.5.0"
  }
 },
 "nbformat": 4,
 "nbformat_minor": 5
}