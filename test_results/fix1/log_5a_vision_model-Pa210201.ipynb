{
 "cells": [
  {
   "cell_type": "code",
   "execution_count": 1,
   "id": "23a51b90-ca3a-4ea9-adf8-eb0ae0f27651",
   "metadata": {
    "execution": {
     "iopub.execute_input": "2024-02-18T19:24:12.220107Z",
     "iopub.status.busy": "2024-02-18T19:24:12.219527Z",
     "iopub.status.idle": "2024-02-18T19:24:12.908912Z",
     "shell.execute_reply": "2024-02-18T19:24:12.908293Z"
    },
    "papermill": {
     "duration": 0.706929,
     "end_time": "2024-02-18T19:24:12.910977",
     "exception": false,
     "start_time": "2024-02-18T19:24:12.204048",
     "status": "completed"
    },
    "tags": []
   },
   "outputs": [],
   "source": [
    "import sys\n",
    "from pathlib import Path\n",
    "\n",
    "import h5py as h5\n",
    "import numpy as np\n",
    "import pandas as pd\n",
    "import xarray as xr\n",
    "from tqdm import tqdm\n",
    "\n",
    "sys.path.append('../lib')\n",
    "from local_paths import preproc_dir, analysis_dir, database_dir, cache_dir\n",
    "from storage import get_storage_functions, quantize\n",
    "from im_patches import get_patches_from_grid\n",
    "from cross_val_pred import standardize, cv_split_by_image, cv_ridge_predict_eval"
   ]
  },
  {
   "cell_type": "markdown",
   "id": "ae9e8f6a-bb30-472d-b5d8-8fe43f2d0fb1",
   "metadata": {
    "papermill": {
     "duration": 0.014291,
     "end_time": "2024-02-18T19:24:12.932503",
     "exception": false,
     "start_time": "2024-02-18T19:24:12.918212",
     "status": "completed"
    },
    "tags": []
   },
   "source": [
    "# Parameters"
   ]
  },
  {
   "cell_type": "code",
   "execution_count": 2,
   "id": "d0a9d6d3-43f1-4876-9f0e-dde9ca02a188",
   "metadata": {
    "execution": {
     "iopub.execute_input": "2024-02-18T19:24:12.948358Z",
     "iopub.status.busy": "2024-02-18T19:24:12.947474Z",
     "iopub.status.idle": "2024-02-18T19:24:12.952834Z",
     "shell.execute_reply": "2024-02-18T19:24:12.952255Z"
    },
    "papermill": {
     "duration": 0.016124,
     "end_time": "2024-02-18T19:24:12.954198",
     "exception": false,
     "start_time": "2024-02-18T19:24:12.938074",
     "status": "completed"
    },
    "tags": [
     "parameters"
    ]
   },
   "outputs": [],
   "source": [
    "#============================================================================\n",
    "# session\n",
    "#============================================================================\n",
    "sess_name = 'sess_name'\n",
    "\n",
    "\n",
    "#============================================================================\n",
    "# response windows\n",
    "#============================================================================\n",
    "# response windows\n",
    "# - one (long) window, if > 0\n",
    "t_win  =   0\n",
    "# - OTHERWISE, sliding window\n",
    "t_pre  = 200\n",
    "t_post = 375  # inclusive, but window must fit fully in range\n",
    "t_step =  10\n",
    "\n",
    "\n",
    "#============================================================================\n",
    "# fixation/saccade selection\n",
    "#============================================================================\n",
    "# fixation criteria\n",
    "ifix_sel = 2  # 0: zeroth-fix only; 1: non-zeroth-fix only; otherwise: both\n",
    "\n",
    "\n",
    "#============================================================================\n",
    "# modelling\n",
    "#============================================================================\n",
    "# ridge regularization\n",
    "ridge_alpha = 100000\n",
    "\n",
    "# cross-validation\n",
    "n_splits    =      5\n",
    "group_kfold =   True\n",
    "\n",
    "\n",
    "#============================================================================\n",
    "# paths\n",
    "#============================================================================\n",
    "proc_dir = preproc_dir\n",
    "\n",
    "# if t_win > 0:\n",
    "latency_path = database_dir + 'per_unit_latency-fix_on.csv.gz'\n",
    "# else:\n",
    "sdf_dir = preproc_dir\n",
    "sdf_suffix = '-mwa_1' if t_win > 0 else '-mwa_50'  # default to no smoothing if using a response window\n",
    "\n",
    "rf_fit_path = database_dir + 'per_unit_rf.csv.gz'\n",
    "\n",
    "feat_dir = cache_dir + 'feats/vit_large_patch16_384/blocks.13.attn.qkv'\n",
    "feat_suffix = '_as_4x4_in_1.00_steps'\n",
    "\n",
    "unit_sel_path = database_dir + 'unit_sel/visually_selective.csv.gz'\n",
    "\n",
    "output_dir = analysis_dir + 'vision_model'"
   ]
  },
  {
   "cell_type": "code",
   "execution_count": 3,
   "id": "327fa359",
   "metadata": {
    "execution": {
     "iopub.execute_input": "2024-02-18T19:24:12.963516Z",
     "iopub.status.busy": "2024-02-18T19:24:12.963240Z",
     "iopub.status.idle": "2024-02-18T19:24:12.967166Z",
     "shell.execute_reply": "2024-02-18T19:24:12.966196Z"
    },
    "papermill": {
     "duration": 0.010252,
     "end_time": "2024-02-18T19:24:12.968981",
     "exception": false,
     "start_time": "2024-02-18T19:24:12.958729",
     "status": "completed"
    },
    "tags": [
     "injected-parameters"
    ]
   },
   "outputs": [],
   "source": [
    "# Parameters\n",
    "sess_name = \"Pa210201\"\n",
    "t_win = 200\n",
    "sdf_suffix = \"-mwa_1\"\n",
    "ifix_sel = 1\n",
    "output_dir = \"../test_results/fix1\"\n"
   ]
  },
  {
   "cell_type": "markdown",
   "id": "27a94e96-ecbd-4ec5-9089-398ee9a53ba5",
   "metadata": {
    "papermill": {
     "duration": 0.00499,
     "end_time": "2024-02-18T19:24:12.979496",
     "exception": false,
     "start_time": "2024-02-18T19:24:12.974506",
     "status": "completed"
    },
    "tags": []
   },
   "source": [
    "# Check prereqs and params"
   ]
  },
  {
   "cell_type": "code",
   "execution_count": 4,
   "id": "b8bc1986-32d5-4f1b-8ed0-9c578b70eb19",
   "metadata": {
    "execution": {
     "iopub.execute_input": "2024-02-18T19:24:12.990257Z",
     "iopub.status.busy": "2024-02-18T19:24:12.989533Z",
     "iopub.status.idle": "2024-02-18T19:24:13.036847Z",
     "shell.execute_reply": "2024-02-18T19:24:13.035877Z"
    },
    "papermill": {
     "duration": 0.056054,
     "end_time": "2024-02-18T19:24:13.039726",
     "exception": false,
     "start_time": "2024-02-18T19:24:12.983672",
     "status": "completed"
    },
    "tags": []
   },
   "outputs": [
    {
     "name": "stdout",
     "output_type": "stream",
     "text": [
      "Loading shared processing from ../test_data/Pa210201-proc.h5\n",
      "Loading spike density function from ../test_data/Pa210201-sdf-mwa_1.h5\n",
      "Loading cached model features from ~/Data/FreeViewing/Cache/feats/vit_large_patch16_384/blocks.13.attn.qkv/16.0x16.0_as_4x4_in_1.00_steps.h5\n",
      "Using per-unit latency from ../db/per_unit_latency-fix_on.csv.gz\n",
      "Loading Gaussian-fitted RF maps density function from ../db/per_unit_rf.csv.gz\n",
      "Loading unit selection from ../db/unit_sel/visually_selective.csv.gz\n",
      "Saving results to ../test_results/fix1/Pa210201.h5\n"
     ]
    }
   ],
   "source": [
    "proc_path = Path(proc_dir) / (sess_name + '-proc.h5')\n",
    "print('Loading shared processing from', proc_path)\n",
    "proc_path = proc_path.expanduser()\n",
    "assert proc_path.is_file()\n",
    "\n",
    "sdf_path = Path(sdf_dir) / (sess_name + f'-sdf{sdf_suffix}.h5')\n",
    "print('Loading spike density function from', sdf_path)\n",
    "sdf_path = sdf_path.expanduser()\n",
    "assert sdf_path.is_file()\n",
    "\n",
    "with h5.File(proc_path, 'r') as f:\n",
    "    im_w, im_h = im_size = f['stimulus/size_dva'][()]\n",
    "feats_path = Path(feat_dir) / f'{im_w:.1f}x{im_h:.1f}{feat_suffix}.h5'\n",
    "print('Loading cached model features from', feats_path)\n",
    "feats_path = feats_path.expanduser()\n",
    "assert feats_path.is_file()\n",
    "\n",
    "if t_win > 0:\n",
    "    print('Using per-unit latency from', latency_path)\n",
    "    latency_path = Path(latency_path).expanduser()\n",
    "    assert latency_path.is_file()\n",
    "\n",
    "rf_fit_path = Path(rf_fit_path)\n",
    "print('Loading Gaussian-fitted RF maps density function from', rf_fit_path)\n",
    "rf_fit_path = rf_fit_path.expanduser()\n",
    "assert rf_fit_path.is_file()\n",
    "\n",
    "if unit_sel_path is not None:\n",
    "    print('Loading unit selection from', unit_sel_path)\n",
    "    unit_sel_path = Path(unit_sel_path).expanduser()\n",
    "    assert unit_sel_path.is_file()\n",
    "    unit_names = pd.read_csv(unit_sel_path).set_index('Session').loc[[sess_name]]['Unit'].values\n",
    "else:\n",
    "    unit_names = None\n",
    "\n",
    "output_dir = Path(output_dir)\n",
    "assert output_dir.expanduser().is_dir()\n",
    "output_path = output_dir / (sess_name + '.h5')\n",
    "print('Saving results to', output_path)\n",
    "output_path = output_path.expanduser()"
   ]
  },
  {
   "cell_type": "code",
   "execution_count": 5,
   "id": "a900ce7f-95f1-4be0-a658-d3f5280298c2",
   "metadata": {
    "execution": {
     "iopub.execute_input": "2024-02-18T19:24:13.060441Z",
     "iopub.status.busy": "2024-02-18T19:24:13.059510Z",
     "iopub.status.idle": "2024-02-18T19:24:13.067085Z",
     "shell.execute_reply": "2024-02-18T19:24:13.066419Z"
    },
    "papermill": {
     "duration": 0.017869,
     "end_time": "2024-02-18T19:24:13.068515",
     "exception": false,
     "start_time": "2024-02-18T19:24:13.050646",
     "status": "completed"
    },
    "tags": []
   },
   "outputs": [],
   "source": [
    "analysis_name = 'vision_model'\n",
    "\n",
    "if output_path.is_file():\n",
    "    with h5.File(output_path, 'r') as f:\n",
    "        try:\n",
    "            if f[f'progress_report/{analysis_name}/all_done'][()].item():\n",
    "                raise RuntimeError(f'{sess_name} has already been processed')\n",
    "        except KeyError:\n",
    "            pass"
   ]
  },
  {
   "cell_type": "code",
   "execution_count": 6,
   "id": "6824ab8f-bb12-4157-ad7e-76cd2bc49e67",
   "metadata": {
    "execution": {
     "iopub.execute_input": "2024-02-18T19:24:13.083382Z",
     "iopub.status.busy": "2024-02-18T19:24:13.082739Z",
     "iopub.status.idle": "2024-02-18T19:24:13.155944Z",
     "shell.execute_reply": "2024-02-18T19:24:13.155320Z"
    },
    "papermill": {
     "duration": 0.083869,
     "end_time": "2024-02-18T19:24:13.159123",
     "exception": false,
     "start_time": "2024-02-18T19:24:13.075254",
     "status": "completed"
    },
    "tags": []
   },
   "outputs": [],
   "source": [
    "fix_df = pd.read_hdf(proc_path, 'fixation_dataframe', 'r')\n",
    "with h5.File(proc_path, 'r') as f:\n",
    "    stim_folder_ = f['stimulus/folder'][()].decode()\n",
    "\n",
    "# Gather MD5s for images in this session.\n",
    "# The image MD5 is the index to access cached features at `feats_path`.\n",
    "# (All images in this project have unique MD5s.)\n",
    "imids = fix_df.groupby(['Image subdir', 'Image filename']).first().index\n",
    "md5s = [Path(fn).stem for _, fn in imids]  # uploaded images are already named by their MD5\n",
    "md5_catalog = pd.DataFrame(index=imids, data=md5s, columns=['MD5'])"
   ]
  },
  {
   "cell_type": "markdown",
   "id": "40663771-7f34-40c5-9100-e4077c2bcf3b",
   "metadata": {
    "papermill": {
     "duration": 0.010738,
     "end_time": "2024-02-18T19:24:13.182318",
     "exception": false,
     "start_time": "2024-02-18T19:24:13.171580",
     "status": "completed"
    },
    "tags": []
   },
   "source": [
    "# Prepare parameters; save config"
   ]
  },
  {
   "cell_type": "code",
   "execution_count": 7,
   "id": "8b9b6d9d-17ce-43e9-9663-c6bd07c550f5",
   "metadata": {
    "execution": {
     "iopub.execute_input": "2024-02-18T19:24:13.198629Z",
     "iopub.status.busy": "2024-02-18T19:24:13.197505Z",
     "iopub.status.idle": "2024-02-18T19:24:13.210310Z",
     "shell.execute_reply": "2024-02-18T19:24:13.209099Z"
    },
    "papermill": {
     "duration": 0.022348,
     "end_time": "2024-02-18T19:24:13.213202",
     "exception": false,
     "start_time": "2024-02-18T19:24:13.190854",
     "status": "completed"
    },
    "tags": []
   },
   "outputs": [
    {
     "name": "stdout",
     "output_type": "stream",
     "text": [
      "random_seed: 775418045\n"
     ]
    }
   ],
   "source": [
    "with h5.File(proc_path, 'r') as f:\n",
    "    random_seed = f['config/default_random_seed'][()]\n",
    "\n",
    "    fix_sel = f['fixation_selection/fixation_indices'][()]\n",
    "    if ifix_sel in (0, 1):\n",
    "        m = 0 == fix_df.index.get_level_values(fix_df.index.names.index('Fixation'))[fix_sel]\n",
    "        if ifix_sel == 1:\n",
    "            m = ~m\n",
    "        fix_sel = fix_sel[m]\n",
    "\n",
    "print('random_seed:', random_seed)"
   ]
  },
  {
   "cell_type": "code",
   "execution_count": 8,
   "id": "086cc6c5-70f4-402d-ad17-4c61908befad",
   "metadata": {
    "execution": {
     "iopub.execute_input": "2024-02-18T19:24:13.229925Z",
     "iopub.status.busy": "2024-02-18T19:24:13.229423Z",
     "iopub.status.idle": "2024-02-18T19:24:13.236352Z",
     "shell.execute_reply": "2024-02-18T19:24:13.234933Z"
    },
    "papermill": {
     "duration": 0.015156,
     "end_time": "2024-02-18T19:24:13.238132",
     "exception": false,
     "start_time": "2024-02-18T19:24:13.222976",
     "status": "completed"
    },
    "tags": []
   },
   "outputs": [],
   "source": [
    "save_results, add_attr_to_dset, check_equals_saved, link_dsets, copy_group = \\\n",
    "    get_storage_functions(output_path)"
   ]
  },
  {
   "cell_type": "code",
   "execution_count": 9,
   "id": "f70683bd-b3e7-408f-8344-6aa03075031e",
   "metadata": {
    "execution": {
     "iopub.execute_input": "2024-02-18T19:24:13.252263Z",
     "iopub.status.busy": "2024-02-18T19:24:13.251762Z",
     "iopub.status.idle": "2024-02-18T19:24:13.303107Z",
     "shell.execute_reply": "2024-02-18T19:24:13.302210Z"
    },
    "papermill": {
     "duration": 0.062423,
     "end_time": "2024-02-18T19:24:13.306060",
     "exception": false,
     "start_time": "2024-02-18T19:24:13.243637",
     "status": "completed"
    },
    "tags": []
   },
   "outputs": [],
   "source": [
    "group = analysis_name + '/'\n",
    "save_results(group+'sdf_suffix', sdf_suffix)\n",
    "save_results(group+'fixation_selection', fix_sel)\n",
    "\n",
    "group = analysis_name + '/config/'\n",
    "save_results(group+'random_seed', random_seed)\n",
    "save_results(group+'ifix_sel', ifix_sel)\n",
    "\n",
    "group = analysis_name + '/config/time_windows/'\n",
    "save_results(group+'t_win', t_win)\n",
    "save_results(group+'t_pre', t_pre)\n",
    "save_results(group+'t_post', t_post)\n",
    "save_results(group+'t_step', t_step)\n",
    "add_attr_to_dset(group, attrs=dict(unit='ms'))\n",
    "\n",
    "group = analysis_name + '/config/modelling/'\n",
    "save_results(group+'n_splits', n_splits)\n",
    "save_results(group+'ridge_alpha', ridge_alpha)\n",
    "save_results(group+'group_kfold', group_kfold)"
   ]
  },
  {
   "cell_type": "markdown",
   "id": "65b95eee-7c5b-4a19-8cc9-5984f284b255",
   "metadata": {
    "papermill": {
     "duration": 0.007478,
     "end_time": "2024-02-18T19:24:13.320418",
     "exception": false,
     "start_time": "2024-02-18T19:24:13.312940",
     "status": "completed"
    },
    "tags": []
   },
   "source": [
    "# Define RFs"
   ]
  },
  {
   "cell_type": "code",
   "execution_count": 10,
   "id": "9088e3c8-53a5-4f57-a28a-b7874469092b",
   "metadata": {
    "execution": {
     "iopub.execute_input": "2024-02-18T19:24:13.332187Z",
     "iopub.status.busy": "2024-02-18T19:24:13.331713Z",
     "iopub.status.idle": "2024-02-18T19:24:13.337590Z",
     "shell.execute_reply": "2024-02-18T19:24:13.336572Z"
    },
    "papermill": {
     "duration": 0.013535,
     "end_time": "2024-02-18T19:24:13.339032",
     "exception": false,
     "start_time": "2024-02-18T19:24:13.325497",
     "status": "completed"
    },
    "tags": []
   },
   "outputs": [],
   "source": [
    "with h5.File(sdf_path, 'r') as f:\n",
    "    unit_names = f['sdf'].attrs['unit_names'].astype(str)\n",
    "    if 'unit_names' in f:\n",
    "        copy_group(f, 'unit_names', analysis_name+'/unit_names')\n",
    "\n",
    "unit_names0 = unit_names.copy()"
   ]
  },
  {
   "cell_type": "code",
   "execution_count": 11,
   "id": "a7fc3287-033f-4bf6-b33b-2fbddd3f5b0d",
   "metadata": {
    "execution": {
     "iopub.execute_input": "2024-02-18T19:24:13.348306Z",
     "iopub.status.busy": "2024-02-18T19:24:13.347752Z",
     "iopub.status.idle": "2024-02-18T19:24:13.430709Z",
     "shell.execute_reply": "2024-02-18T19:24:13.429454Z"
    },
    "papermill": {
     "duration": 0.089798,
     "end_time": "2024-02-18T19:24:13.432411",
     "exception": false,
     "start_time": "2024-02-18T19:24:13.342613",
     "status": "completed"
    },
    "tags": []
   },
   "outputs": [
    {
     "name": "stdout",
     "output_type": "stream",
     "text": [
      "92 of 92 (100.0%) units have fitted RFs\n",
      "Num units using RF fit from each source:\n",
      "\tSource\n",
      "\tChannel    13\n",
      "\tDefault    39\n",
      "\tUnit       40\n"
     ]
    }
   ],
   "source": [
    "unit_rf_df = pd.read_csv(rf_fit_path).set_index('Session')\n",
    "assert sess_name in unit_rf_df.index, 'No unit has good RF fits'\n",
    "\n",
    "unit_rf_df = unit_rf_df.loc[[sess_name]].set_index('Name')\n",
    "assert not unit_rf_df.index.has_duplicates\n",
    "unit_names = unit_rf_df.index.intersection(unit_names).values\n",
    "print(f'{len(unit_names)} of {len(unit_names0)} ({(len(unit_names)/len(unit_names0))*100:.1f}%) units have fitted RFs')\n",
    "\n",
    "unit_rf_df = unit_rf_df.loc[unit_names].reset_index()\n",
    "assert len(unit_rf_df) == len(unit_names)\n",
    "print('Num units using RF fit from each source:')\n",
    "print('\\t' + '\\n\\t'.join(str(unit_rf_df.groupby('Source').count()['x']).split('\\n')[:-1]))"
   ]
  },
  {
   "cell_type": "code",
   "execution_count": 12,
   "id": "fd3d3749-9018-4dd8-a99b-e228b4508bf8",
   "metadata": {
    "execution": {
     "iopub.execute_input": "2024-02-18T19:24:13.442150Z",
     "iopub.status.busy": "2024-02-18T19:24:13.441541Z",
     "iopub.status.idle": "2024-02-18T19:24:13.472848Z",
     "shell.execute_reply": "2024-02-18T19:24:13.471972Z"
    },
    "papermill": {
     "duration": 0.03963,
     "end_time": "2024-02-18T19:24:13.476014",
     "exception": false,
     "start_time": "2024-02-18T19:24:13.436384",
     "status": "completed"
    },
    "tags": []
   },
   "outputs": [],
   "source": [
    "save_results(analysis_name+'/unit_names', unit_names.astype(bytes))\n",
    "unit_rf_df.to_hdf(output_path, analysis_name+'/rf_per_unit', mode='a', format='table', complevel=9, complib='zlib')\n",
    "unit_rf_df['Index'] = np.arange(len(unit_rf_df))"
   ]
  },
  {
   "cell_type": "markdown",
   "id": "e7ae303b-de97-4a99-aab4-5aa22e8ac745",
   "metadata": {
    "papermill": {
     "duration": 0.008035,
     "end_time": "2024-02-18T19:24:13.495087",
     "exception": false,
     "start_time": "2024-02-18T19:24:13.487052",
     "status": "completed"
    },
    "tags": []
   },
   "source": [
    "# Get aligned responses"
   ]
  },
  {
   "cell_type": "code",
   "execution_count": 13,
   "id": "86ff7dc2-933e-4baf-a353-1bd0b420daa3",
   "metadata": {
    "execution": {
     "iopub.execute_input": "2024-02-18T19:24:13.507717Z",
     "iopub.status.busy": "2024-02-18T19:24:13.507065Z",
     "iopub.status.idle": "2024-02-18T19:24:26.276522Z",
     "shell.execute_reply": "2024-02-18T19:24:26.275448Z"
    },
    "papermill": {
     "duration": 12.779055,
     "end_time": "2024-02-18T19:24:26.279670",
     "exception": false,
     "start_time": "2024-02-18T19:24:13.500615",
     "status": "completed"
    },
    "tags": []
   },
   "outputs": [],
   "source": [
    "with h5.File(sdf_path, 'r') as f:\n",
    "    dset = f['sdf']\n",
    "    all_unit_names = dset.attrs['unit_names'].astype(str)\n",
    "    if unit_names is None:\n",
    "        unit_names = all_unit_names\n",
    "        unit_sel = slice(None)\n",
    "        if 'unit_names' in f:\n",
    "            copy_group(f, 'unit_names', analysis_name+'/unit_names')\n",
    "    else:\n",
    "        all_unit_names = list(all_unit_names)\n",
    "        unit_sel = np.array([v in unit_names for v in all_unit_names])\n",
    "\n",
    "    sdf = dset[()][:,unit_sel]\n",
    "\n",
    "n_neur = sdf.shape[1]"
   ]
  },
  {
   "cell_type": "code",
   "execution_count": 14,
   "id": "3ebd486b-f463-4f82-b359-37489ec4be76",
   "metadata": {
    "execution": {
     "iopub.execute_input": "2024-02-18T19:24:26.308813Z",
     "iopub.status.busy": "2024-02-18T19:24:26.308306Z",
     "iopub.status.idle": "2024-02-18T19:24:26.382924Z",
     "shell.execute_reply": "2024-02-18T19:24:26.382320Z"
    },
    "papermill": {
     "duration": 0.093718,
     "end_time": "2024-02-18T19:24:26.385790",
     "exception": false,
     "start_time": "2024-02-18T19:24:26.292072",
     "status": "completed"
    },
    "tags": []
   },
   "outputs": [
    {
     "name": "stdout",
     "output_type": "stream",
     "text": [
      "Num units using RF fit from each source:\n",
      "\tSource\n",
      "\tArray                 29\n",
      "\tArray, across sess    40\n",
      "\tChannel               11\n",
      "\tUnit                  12\n"
     ]
    }
   ],
   "source": [
    "if t_win > 0:\n",
    "    lat_df = pd.read_csv(latency_path).set_index('Session').loc[[sess_name]].set_index('Name')\n",
    "    m = pd.Series(unit_names).isin(lat_df.index)\n",
    "    assert m.all(), f'missing latency value for {(~m).sum()} of {m.size} units'\n",
    "    assert not lat_df.index.has_duplicates\n",
    "    lat_df = lat_df.loc[unit_names].reset_index()\n",
    "    assert len(lat_df) == len(unit_names)\n",
    "    lat_df['Index'] = np.arange(len(lat_df))\n",
    "    lat_df['Latency'] = np.clip(lat_df['Latency'], 40, None)\n",
    "    print('Num units using RF fit from each source:')\n",
    "    print('\\t' + '\\n\\t'.join(str(lat_df.groupby('Source').count()['Latency']).split('\\n')[:-1]))\n",
    "    lat_df.to_hdf(output_path, analysis_name+'/latency_per_unit', mode='a', format='table', complevel=9, complib='zlib')"
   ]
  },
  {
   "cell_type": "code",
   "execution_count": 15,
   "id": "3f8549a2-be05-4d9b-be5a-7a044a529ccf",
   "metadata": {
    "execution": {
     "iopub.execute_input": "2024-02-18T19:24:26.407109Z",
     "iopub.status.busy": "2024-02-18T19:24:26.406661Z",
     "iopub.status.idle": "2024-02-18T19:24:27.204066Z",
     "shell.execute_reply": "2024-02-18T19:24:27.203432Z"
    },
    "papermill": {
     "duration": 0.808772,
     "end_time": "2024-02-18T19:24:27.205633",
     "exception": false,
     "start_time": "2024-02-18T19:24:26.396861",
     "status": "completed"
    },
    "tags": []
   },
   "outputs": [],
   "source": [
    "t0s = fix_df.iloc[fix_sel]['Time'].values\n",
    "if t_win > 0:\n",
    "    ts = np.array([t_win/2])  # placeholder; actual window varies with latency per unit\n",
    "else:\n",
    "    ts = np.arange(-t_pre, t_post+.1, t_step)\n",
    "resps = np.empty_like(sdf, shape=(fix_sel.size, ts.size, n_neur))\n",
    "\n",
    "if t_win > 0:\n",
    "    t_win_ = np.array([0, t_win])\n",
    "    lat_groups = [(dt, df_['Index'].values) for dt, df_ in lat_df.groupby('Latency')]\n",
    "    for i, t in enumerate(t0s):\n",
    "        for dt, usel in lat_groups:\n",
    "            s = slice(*np.round(t+dt+t_win_).astype(int))\n",
    "            resps[i,0,usel] = sdf[s,usel].mean(0)\n",
    "else:\n",
    "    for i, t in enumerate(t0s):\n",
    "        ts_ = np.round(t+ts).astype(int)\n",
    "        resps[i] = sdf[ts_,:]\n",
    "\n",
    "del sdf"
   ]
  },
  {
   "cell_type": "code",
   "execution_count": 16,
   "id": "9386ace3-4f24-4269-a3df-a59e44179189",
   "metadata": {
    "execution": {
     "iopub.execute_input": "2024-02-18T19:24:27.227491Z",
     "iopub.status.busy": "2024-02-18T19:24:27.227107Z",
     "iopub.status.idle": "2024-02-18T19:24:27.242640Z",
     "shell.execute_reply": "2024-02-18T19:24:27.241442Z"
    },
    "papermill": {
     "duration": 0.034084,
     "end_time": "2024-02-18T19:24:27.245154",
     "exception": false,
     "start_time": "2024-02-18T19:24:27.211070",
     "status": "completed"
    },
    "tags": []
   },
   "outputs": [
    {
     "data": {
      "text/plain": [
       "((4700, 1, 92), dtype('float32'))"
      ]
     },
     "execution_count": 16,
     "metadata": {},
     "output_type": "execute_result"
    }
   ],
   "source": [
    "Y = standardize(resps)\n",
    "Y.shape, Y.dtype"
   ]
  },
  {
   "cell_type": "code",
   "execution_count": 17,
   "id": "65a82c4d-9bd7-4dc8-b437-c1800a35b82c",
   "metadata": {
    "execution": {
     "iopub.execute_input": "2024-02-18T19:24:27.263869Z",
     "iopub.status.busy": "2024-02-18T19:24:27.263355Z",
     "iopub.status.idle": "2024-02-18T19:24:27.271220Z",
     "shell.execute_reply": "2024-02-18T19:24:27.270607Z"
    },
    "papermill": {
     "duration": 0.020081,
     "end_time": "2024-02-18T19:24:27.274289",
     "exception": false,
     "start_time": "2024-02-18T19:24:27.254208",
     "status": "completed"
    },
    "tags": []
   },
   "outputs": [],
   "source": [
    "save_results(analysis_name+'/unit_names', unit_names.astype(bytes))\n",
    "save_results(analysis_name+'/mean_responses', resps.mean(0), attrs=dict(\n",
    "    dims=np.array(['time', 'unit'], dtype=bytes),\n",
    "    n_fix=resps.shape[0]))"
   ]
  },
  {
   "cell_type": "markdown",
   "id": "94d0cfa1-39b9-4e7a-92f4-2eb7844dbc48",
   "metadata": {
    "papermill": {
     "duration": 0.009343,
     "end_time": "2024-02-18T19:24:27.296585",
     "exception": false,
     "start_time": "2024-02-18T19:24:27.287242",
     "status": "completed"
    },
    "tags": []
   },
   "source": [
    "# Define splits (group k-fold)"
   ]
  },
  {
   "cell_type": "code",
   "execution_count": 18,
   "id": "41d9bf3f-5fa5-4054-9d7a-230f8dc2bd23",
   "metadata": {
    "execution": {
     "iopub.execute_input": "2024-02-18T19:24:27.310092Z",
     "iopub.status.busy": "2024-02-18T19:24:27.309802Z",
     "iopub.status.idle": "2024-02-18T19:24:27.321435Z",
     "shell.execute_reply": "2024-02-18T19:24:27.320759Z"
    },
    "papermill": {
     "duration": 0.020772,
     "end_time": "2024-02-18T19:24:27.324209",
     "exception": false,
     "start_time": "2024-02-18T19:24:27.303437",
     "status": "completed"
    },
    "tags": []
   },
   "outputs": [
    {
     "name": "stdout",
     "output_type": "stream",
     "text": [
      "For group k-fold, loading catalog of similar images\n",
      "accounting for 0 pairs of similar images\n",
      "num training and testing points per split:\n",
      "split 0\t\ttrain:  3760 test: 940\n",
      "split 1\t\ttrain:  3760 test: 940\n",
      "split 2\t\ttrain:  3760 test: 940\n",
      "split 3\t\ttrain:  3760 test: 940\n",
      "split 4\t\ttrain:  3760 test: 940\n"
     ]
    }
   ],
   "source": [
    "imfns = fix_df.iloc[fix_sel]['Image filename']\n",
    "\n",
    "splits, train_mask = cv_split_by_image(\n",
    "    imfns, n_splits,\n",
    "    group_kfold=group_kfold, random_seed=random_seed)"
   ]
  },
  {
   "cell_type": "code",
   "execution_count": 19,
   "id": "cd8b8372-8dd1-4968-87f5-e4a33fd6c11d",
   "metadata": {
    "execution": {
     "iopub.execute_input": "2024-02-18T19:24:27.344834Z",
     "iopub.status.busy": "2024-02-18T19:24:27.344399Z",
     "iopub.status.idle": "2024-02-18T19:24:27.358623Z",
     "shell.execute_reply": "2024-02-18T19:24:27.357652Z"
    },
    "papermill": {
     "duration": 0.027016,
     "end_time": "2024-02-18T19:24:27.362436",
     "exception": false,
     "start_time": "2024-02-18T19:24:27.335420",
     "status": "completed"
    },
    "tags": []
   },
   "outputs": [],
   "source": [
    "save_results(analysis_name+'/fix_is_train', train_mask, attrs=dict(\n",
    "    dims=np.array(['split', 'fixation'], dtype=np.bytes_),\n",
    "    random_seed=random_seed,\n",
    "    group_kfold=group_kfold))"
   ]
  },
  {
   "cell_type": "markdown",
   "id": "1ee5b741-342c-4e43-833c-b3b9d6e0104f",
   "metadata": {
    "papermill": {
     "duration": 0.010845,
     "end_time": "2024-02-18T19:24:27.387347",
     "exception": false,
     "start_time": "2024-02-18T19:24:27.376502",
     "status": "completed"
    },
    "tags": []
   },
   "source": [
    "# Load pre-computed model reprs"
   ]
  },
  {
   "cell_type": "code",
   "execution_count": 20,
   "id": "e5944bbe-7b80-4abf-927e-05d5fe904a0d",
   "metadata": {
    "execution": {
     "iopub.execute_input": "2024-02-18T19:24:27.402266Z",
     "iopub.status.busy": "2024-02-18T19:24:27.401758Z",
     "iopub.status.idle": "2024-02-18T19:24:42.744053Z",
     "shell.execute_reply": "2024-02-18T19:24:42.743458Z"
    },
    "papermill": {
     "duration": 15.352589,
     "end_time": "2024-02-18T19:24:42.747328",
     "exception": false,
     "start_time": "2024-02-18T19:24:27.394739",
     "status": "completed"
    },
    "tags": []
   },
   "outputs": [
    {
     "name": "stdout",
     "output_type": "stream",
     "text": [
      "Features shape: (3072,)\n",
      "Patch-grid features shape: (793, 19, 19, 3072)\n"
     ]
    }
   ],
   "source": [
    "with h5.File(feats_path, 'r') as f:\n",
    "    patch_locs_x = f['config/patch_grid/x_locs'][()]\n",
    "    patch_locs_y = f['config/patch_grid/y_locs'][()]\n",
    "    patch_step = float(f['config/patch_grid/step'][()])\n",
    "\n",
    "    bg_feats = f['feats/bg'][()]\n",
    "\n",
    "    all_md5s = f['md5'][()].astype(str)\n",
    "    all_md5s = pd.Series(index=all_md5s, data=np.arange(len(all_md5s)), name='Index in file')\n",
    "    idc = all_md5s.loc[md5_catalog['MD5'].values]\n",
    "    md5_catalog['Index'] = np.arange(len(md5_catalog))\n",
    "\n",
    "    patch_grid_feats = np.empty(shape=(idc.size,patch_locs_x.size,patch_locs_y.size)+bg_feats.shape, dtype=bg_feats.dtype)\n",
    "    for ii, i in enumerate(idc.values):\n",
    "        patch_grid_feats[ii] = f['feats/patch_grid'][i]  # shape (n_patches_x, n_patches_y,) + feats_shape\n",
    "\n",
    "    copy_group(f, 'config', analysis_name+'/config/feats')\n",
    "\n",
    "feats_shape = bg_feats.shape\n",
    "print('Features shape:', feats_shape)\n",
    "print('Patch-grid features shape:', patch_grid_feats.shape)\n",
    "\n",
    "iims = np.array([\n",
    "    md5_catalog.loc[(row['Image subdir'], row['Image filename']), 'Index']\n",
    "    for i, (_, row) in enumerate(fix_df.iloc[fix_sel].iterrows())])\n",
    "patch_bins_x = np.concatenate([\n",
    "    patch_locs_x-patch_step/2, [patch_locs_x[-1]+patch_step/2]])\n",
    "patch_bins_y = np.concatenate([\n",
    "    patch_locs_y-patch_step/2, [patch_locs_y[-1]+patch_step/2]])"
   ]
  },
  {
   "cell_type": "code",
   "execution_count": 21,
   "id": "a0e407ac-337a-4f52-9cbc-b881564d7c3c",
   "metadata": {
    "execution": {
     "iopub.execute_input": "2024-02-18T19:24:42.775894Z",
     "iopub.status.busy": "2024-02-18T19:24:42.775121Z",
     "iopub.status.idle": "2024-02-18T19:24:42.780892Z",
     "shell.execute_reply": "2024-02-18T19:24:42.780289Z"
    },
    "papermill": {
     "duration": 0.023231,
     "end_time": "2024-02-18T19:24:42.782273",
     "exception": false,
     "start_time": "2024-02-18T19:24:42.759042",
     "status": "completed"
    },
    "tags": []
   },
   "outputs": [],
   "source": [
    "def recon_stim(*args, **kwargs):\n",
    "    return get_patches_from_grid(\n",
    "        *args, patch_bins_x=patch_bins_x, patch_bins_y=patch_bins_y, **kwargs)"
   ]
  },
  {
   "cell_type": "markdown",
   "id": "7b188432-563a-4a53-a09d-16a6916d33db",
   "metadata": {
    "papermill": {
     "duration": 0.005631,
     "end_time": "2024-02-18T19:24:42.794054",
     "exception": false,
     "start_time": "2024-02-18T19:24:42.788423",
     "status": "completed"
    },
    "tags": []
   },
   "source": [
    "# Main"
   ]
  },
  {
   "cell_type": "code",
   "execution_count": 22,
   "id": "d7f8bbe2-4a1b-4ef8-8440-c10eaa1b79f2",
   "metadata": {
    "execution": {
     "iopub.execute_input": "2024-02-18T19:24:42.804988Z",
     "iopub.status.busy": "2024-02-18T19:24:42.804490Z",
     "iopub.status.idle": "2024-02-18T19:24:42.809702Z",
     "shell.execute_reply": "2024-02-18T19:24:42.808641Z"
    },
    "papermill": {
     "duration": 0.012288,
     "end_time": "2024-02-18T19:24:42.811463",
     "exception": false,
     "start_time": "2024-02-18T19:24:42.799175",
     "status": "completed"
    },
    "tags": []
   },
   "outputs": [],
   "source": [
    "n_win = len(ts)\n",
    "n_split = n_splits\n",
    "n_unit = len(unit_names)\n",
    "\n",
    "cv_corrs = np.full((n_win, n_unit), np.nan, dtype=np.float32)\n",
    "cv_corrs_per_split = np.full((n_win, n_split, n_unit), np.nan, dtype=np.float32)"
   ]
  },
  {
   "cell_type": "code",
   "execution_count": 23,
   "id": "60226376-199c-4636-8047-9e530f461087",
   "metadata": {
    "execution": {
     "iopub.execute_input": "2024-02-18T19:24:42.824814Z",
     "iopub.status.busy": "2024-02-18T19:24:42.824169Z",
     "iopub.status.idle": "2024-02-18T19:25:45.508364Z",
     "shell.execute_reply": "2024-02-18T19:25:45.507470Z"
    },
    "papermill": {
     "duration": 62.693576,
     "end_time": "2024-02-18T19:25:45.510917",
     "exception": false,
     "start_time": "2024-02-18T19:24:42.817341",
     "status": "completed"
    },
    "tags": []
   },
   "outputs": [
    {
     "name": "stderr",
     "output_type": "stream",
     "text": [
      "\r",
      "100%|███████████████████████████████████████████████████████████████████████████████████████████████| 30/30 [01:02<00:00,  2.09s/it]"
     ]
    },
    {
     "name": "stderr",
     "output_type": "stream",
     "text": [
      "\n"
     ]
    }
   ],
   "source": [
    "xys_fix = fix_df.iloc[fix_sel][['Relative X', 'Relative Y']].values.astype(float)\n",
    "\n",
    "for igroup, ((rf_x, rf_y), df_) in enumerate(tqdm(unit_rf_df.groupby(['x', 'y']))):\n",
    "    usel = df_['Index'].values\n",
    "    X = standardize(recon_stim(iims, xys_fix+[rf_x,rf_y], patch_grid_feats, bg_feats))\n",
    "    corr, _, corr_pers, _ = cv_ridge_predict_eval(X, Y[...,usel], splits, ridge_alpha)\n",
    "    cv_corrs[:,usel] = corr\n",
    "    cv_corrs_per_split[:,:,usel] = corr_pers"
   ]
  },
  {
   "cell_type": "code",
   "execution_count": 24,
   "id": "13dd3ba9-6bf8-493c-8f38-00c163cc6c3e",
   "metadata": {
    "execution": {
     "iopub.execute_input": "2024-02-18T19:25:45.545460Z",
     "iopub.status.busy": "2024-02-18T19:25:45.544907Z",
     "iopub.status.idle": "2024-02-18T19:25:45.583512Z",
     "shell.execute_reply": "2024-02-18T19:25:45.582930Z"
    },
    "papermill": {
     "duration": 0.058279,
     "end_time": "2024-02-18T19:25:45.585709",
     "exception": false,
     "start_time": "2024-02-18T19:25:45.527430",
     "status": "completed"
    },
    "tags": []
   },
   "outputs": [],
   "source": [
    "dims = np.array(('time', 'split', 'unit'))\n",
    "coords = dict((\n",
    "    ('time', ts),\n",
    "    ('unit', unit_names)))\n",
    "attrs = dict(\n",
    "    ifix_sel=ifix_sel,\n",
    "    n_fix=fix_sel.size,\n",
    "    group_kfold=int(group_kfold),\n",
    "    feat_shape=feats_shape,\n",
    "    ridge_alpha=ridge_alpha,\n",
    "    t_aln='fix_on')\n",
    "\n",
    "q = lambda x: quantize(x, 3)\n",
    "data_vars = {\n",
    "    'corr': (dims[[0,2]], q(cv_corrs)),\n",
    "    'corr_per_split': (dims, q(cv_corrs_per_split))}\n",
    "dataset = xr.Dataset(data_vars, coords=coords, attrs=attrs)\n",
    "\n",
    "compr = dict(zlib=True, complevel=9)\n",
    "encoding = {\n",
    "    k: dict(chunksizes=v.shape, **compr)\n",
    "    for k, v in dataset.data_vars.items()}\n",
    "dataset.to_netcdf(\n",
    "    output_path, group=analysis_name+'/data',\n",
    "    mode='a', engine='h5netcdf', encoding=encoding)"
   ]
  },
  {
   "cell_type": "markdown",
   "id": "a602f8e8-f9b3-476a-9ddd-6faaa263b251",
   "metadata": {
    "papermill": {
     "duration": 0.008879,
     "end_time": "2024-02-18T19:25:45.608048",
     "exception": false,
     "start_time": "2024-02-18T19:25:45.599169",
     "status": "completed"
    },
    "tags": []
   },
   "source": [
    "# Finally"
   ]
  },
  {
   "cell_type": "code",
   "execution_count": 25,
   "id": "db83cdda-7a8d-4797-9f21-d649b264ff6c",
   "metadata": {
    "execution": {
     "iopub.execute_input": "2024-02-18T19:25:45.621357Z",
     "iopub.status.busy": "2024-02-18T19:25:45.621098Z",
     "iopub.status.idle": "2024-02-18T19:25:45.627481Z",
     "shell.execute_reply": "2024-02-18T19:25:45.626415Z"
    },
    "papermill": {
     "duration": 0.016056,
     "end_time": "2024-02-18T19:25:45.630527",
     "exception": false,
     "start_time": "2024-02-18T19:25:45.614471",
     "status": "completed"
    },
    "tags": []
   },
   "outputs": [],
   "source": [
    "save_results(f'progress_report/{analysis_name}/all_done', True)"
   ]
  },
  {
   "cell_type": "code",
   "execution_count": 26,
   "id": "9d31e09d-e580-4234-a95b-cdb1ebf28e1d",
   "metadata": {
    "execution": {
     "iopub.execute_input": "2024-02-18T19:25:45.655571Z",
     "iopub.status.busy": "2024-02-18T19:25:45.654462Z",
     "iopub.status.idle": "2024-02-18T19:25:45.699613Z",
     "shell.execute_reply": "2024-02-18T19:25:45.698616Z"
    },
    "papermill": {
     "duration": 0.058299,
     "end_time": "2024-02-18T19:25:45.702660",
     "exception": false,
     "start_time": "2024-02-18T19:25:45.644361",
     "status": "completed"
    },
    "tags": []
   },
   "outputs": [
    {
     "name": "stdout",
     "output_type": "stream",
     "text": [
      "Last updated: 2024-02-18T14:25:45.664403-05:00\n",
      "\n",
      "Python implementation: CPython\n",
      "Python version       : 3.10.12\n",
      "IPython version      : 8.12.0\n",
      "\n",
      "Compiler    : GCC 11.4.0\n",
      "OS          : Linux\n",
      "Release     : 5.15.0-92-generic\n",
      "Machine     : x86_64\n",
      "Processor   : x86_64\n",
      "CPU cores   : 20\n",
      "Architecture: 64bit\n",
      "\n",
      "Python implementation: CPython\n",
      "Python version       : 3.10.12\n",
      "IPython version      : 8.12.0\n",
      "\n",
      "Compiler    : GCC 11.4.0\n",
      "OS          : Linux\n",
      "Release     : 5.15.0-92-generic\n",
      "Machine     : x86_64\n",
      "Processor   : x86_64\n",
      "CPU cores   : 20\n",
      "Architecture: 64bit\n",
      "\n",
      "Git hash: b0bb10f45dee065cc3af96fe224326b883d27431\n",
      "\n",
      "Git repo: https://github.com/willwx/free_viewing_staging.git\n",
      "\n",
      "Git branch: master\n",
      "\n",
      "h5py  : 3.8.0\n",
      "pandas: 2.0.1\n",
      "xarray: 2023.4.2\n",
      "numpy : 1.24.3\n",
      "sys   : 3.10.12 (main, Nov 20 2023, 15:14:05) [GCC 11.4.0]\n",
      "\n"
     ]
    }
   ],
   "source": [
    "%load_ext watermark\n",
    "%watermark\n",
    "%watermark -vm --iversions -rbg"
   ]
  },
  {
   "cell_type": "markdown",
   "id": "e0cf607d-c810-43b0-982b-f34fd546abdf",
   "metadata": {
    "papermill": {
     "duration": 0.01023,
     "end_time": "2024-02-18T19:25:45.729236",
     "exception": false,
     "start_time": "2024-02-18T19:25:45.719006",
     "status": "completed"
    },
    "tags": []
   },
   "source": [
    "# Basic visualization of results"
   ]
  },
  {
   "cell_type": "code",
   "execution_count": 27,
   "id": "a97760f4-1bb8-427a-91d8-049a8fb1c4b9",
   "metadata": {
    "execution": {
     "iopub.execute_input": "2024-02-18T19:25:45.745047Z",
     "iopub.status.busy": "2024-02-18T19:25:45.744020Z",
     "iopub.status.idle": "2024-02-18T19:25:46.070583Z",
     "shell.execute_reply": "2024-02-18T19:25:46.069602Z"
    },
    "papermill": {
     "duration": 0.3369,
     "end_time": "2024-02-18T19:25:46.073517",
     "exception": false,
     "start_time": "2024-02-18T19:25:45.736617",
     "status": "completed"
    },
    "tags": []
   },
   "outputs": [],
   "source": [
    "import matplotlib.pyplot as plt"
   ]
  },
  {
   "cell_type": "code",
   "execution_count": 28,
   "id": "57331d16-45f1-463b-986f-e0f8cb9e017a",
   "metadata": {
    "execution": {
     "iopub.execute_input": "2024-02-18T19:25:46.087641Z",
     "iopub.status.busy": "2024-02-18T19:25:46.086708Z",
     "iopub.status.idle": "2024-02-18T19:25:46.235515Z",
     "shell.execute_reply": "2024-02-18T19:25:46.234972Z"
    },
    "papermill": {
     "duration": 0.157384,
     "end_time": "2024-02-18T19:25:46.236808",
     "exception": false,
     "start_time": "2024-02-18T19:25:46.079424",
     "status": "completed"
    },
    "tags": []
   },
   "outputs": [
    {
     "data": {
      "image/png": "[encoded data removed]",
      "text/plain": [
       "<Figure size 640x480 with 1 Axes>"
      ]
     },
     "metadata": {},
     "output_type": "display_data"
    }
   ],
   "source": [
    "plt.plot(ts, resps.mean((0,2)), '.-')\n",
    "plt.xlabel(f'Time rel. fix. on, ms')\n",
    "plt.ylabel('Grand mean FR, spks/s');"
   ]
  },
  {
   "cell_type": "code",
   "execution_count": 29,
   "id": "62528bdc-6ae7-48d2-8ba1-6dc5fd086238",
   "metadata": {
    "execution": {
     "iopub.execute_input": "2024-02-18T19:25:46.252155Z",
     "iopub.status.busy": "2024-02-18T19:25:46.251774Z",
     "iopub.status.idle": "2024-02-18T19:25:46.378070Z",
     "shell.execute_reply": "2024-02-18T19:25:46.376843Z"
    },
    "papermill": {
     "duration": 0.135687,
     "end_time": "2024-02-18T19:25:46.380198",
     "exception": false,
     "start_time": "2024-02-18T19:25:46.244511",
     "status": "completed"
    },
    "tags": []
   },
   "outputs": [
    {
     "data": {
      "image/png": "[encoded data removed]",
      "text/plain": [
       "<Figure size 640x480 with 1 Axes>"
      ]
     },
     "metadata": {},
     "output_type": "display_data"
    }
   ],
   "source": [
    "plt.plot(ts, np.nanmean(cv_corrs, axis=-1), '.-', c='k', lw=2, markersize=10)\n",
    "plt.plot(ts, np.nanmean(cv_corrs_per_split, axis=-1), '.-', c='gray', lw=0.5, markersize=5)\n",
    "plt.xlabel(f'Time rel. fix. on, ms')\n",
    "plt.ylabel('Model fit, Pearson\\'s r');"
   ]
  }
 ],
 "metadata": {
  "kernelspec": {
   "display_name": "Python 3 (ipykernel)",
   "language": "python",
   "name": "python3"
  },
  "language_info": {
   "codemirror_mode": {
    "name": "ipython",
    "version": 3
   },
   "file_extension": ".py",
   "mimetype": "text/x-python",
   "name": "python",
   "nbconvert_exporter": "python",
   "pygments_lexer": "ipython3",
   "version": "3.10.12"
  },
  "papermill": {
   "default_parameters": {},
   "duration": 95.839749,
   "end_time": "2024-02-18T19:25:46.912344",
   "environment_variables": {},
   "exception": null,
   "input_path": "script_5a_vision_model.ipynb",
   "output_path": "../test_results/fix1/log_5a_vision_model-Pa210201.ipynb",
   "parameters": {
    "ifix_sel": 1,
    "output_dir": "../test_results/fix1",
    "sdf_suffix": "-mwa_1",
    "sess_name": "Pa210201",
    "t_win": 200
   },
   "start_time": "2024-02-18T19:24:11.072595",
   "version": "2.5.0"
  }
 },
 "nbformat": 4,
 "nbformat_minor": 5
}