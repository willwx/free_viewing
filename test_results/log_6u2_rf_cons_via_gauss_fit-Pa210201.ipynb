{
 "cells": [
  {
   "cell_type": "code",
   "execution_count": 1,
   "id": "f4865065-50f4-475c-9f0c-40e66ba68ef3",
   "metadata": {
    "execution": {
     "iopub.execute_input": "2024-02-20T01:37:18.167379Z",
     "iopub.status.busy": "2024-02-20T01:37:18.166698Z",
     "iopub.status.idle": "2024-02-20T01:37:18.521609Z",
     "shell.execute_reply": "2024-02-20T01:37:18.520978Z"
    },
    "papermill": {
     "duration": 0.369435,
     "end_time": "2024-02-20T01:37:18.524493",
     "exception": false,
     "start_time": "2024-02-20T01:37:18.155058",
     "status": "completed"
    },
    "tags": []
   },
   "outputs": [],
   "source": [
    "import itertools\n",
    "import sys\n",
    "from pathlib import Path\n",
    "\n",
    "import h5py as h5\n",
    "import numpy as np\n",
    "import xarray as xr\n",
    "from tqdm import tqdm\n",
    "\n",
    "sys.path.append('../lib')\n",
    "from local_paths import analysis_dir\n",
    "from storage import get_storage_functions"
   ]
  },
  {
   "cell_type": "markdown",
   "id": "751b3ebb-e020-4455-b7af-0af85eb67e2d",
   "metadata": {
    "papermill": {
     "duration": 0.014199,
     "end_time": "2024-02-20T01:37:18.548014",
     "exception": false,
     "start_time": "2024-02-20T01:37:18.533815",
     "status": "completed"
    },
    "tags": []
   },
   "source": [
    "# Set parameters"
   ]
  },
  {
   "cell_type": "code",
   "execution_count": 2,
   "id": "c53ace00-254a-4d61-a24e-28d075a707c6",
   "metadata": {
    "execution": {
     "iopub.execute_input": "2024-02-20T01:37:18.567930Z",
     "iopub.status.busy": "2024-02-20T01:37:18.566711Z",
     "iopub.status.idle": "2024-02-20T01:37:18.571736Z",
     "shell.execute_reply": "2024-02-20T01:37:18.571191Z"
    },
    "papermill": {
     "duration": 0.017613,
     "end_time": "2024-02-20T01:37:18.573855",
     "exception": false,
     "start_time": "2024-02-20T01:37:18.556242",
     "status": "completed"
    },
    "tags": [
     "parameters"
    ]
   },
   "outputs": [],
   "source": [
    "#============================================================================\n",
    "# session\n",
    "#============================================================================\n",
    "sess_name = 'sess_name'\n",
    "\n",
    "\n",
    "#============================================================================\n",
    "# input fields\n",
    "#============================================================================\n",
    "rfmap_analysis = 'feat_corr_map'  # 'model_perf_map' or 'feat_corr_map'\n",
    "rfmap_dset     = 'corr'\n",
    "est_kind       = 'opt'            # for rf fit, 'opt' or 'mle'\n",
    "\n",
    "\n",
    "#============================================================================\n",
    "# preprocessing\n",
    "#============================================================================\n",
    "z_thres          = 1     # if not None, clip all values below this z-score\n",
    "square_transform = True  # square map values (positive values) before fitting\n",
    "\n",
    "\n",
    "#============================================================================\n",
    "# cross-validation\n",
    "#============================================================================\n",
    "# whether to use across-split maps vs. per-split ones\n",
    "across_splits = False\n",
    "\n",
    "# exclude_diag = True:\n",
    "#   only makes sense if across_splits = True\n",
    "#   RF maps underlying gaussian fits are the same as those for testing\n",
    "#   will only compare different splits (off-diagonal pairs, 2 * n-choose-2)\n",
    "# exclude_diag = False:\n",
    "#   either maps underlying gaussian fits are different from those for testing\n",
    "#   (e.g., zeroth fix vs. non-zeroth fix), or to evaluate fit goodness\n",
    "#   will compare all split pairs (n-squared)\n",
    "exclude_diag = True\n",
    "\n",
    "\n",
    "#============================================================================\n",
    "# paths\n",
    "#============================================================================\n",
    "rfmap_dir  = None\n",
    "rffit_dir  = None\n",
    "output_dir = None"
   ]
  },
  {
   "cell_type": "code",
   "execution_count": 3,
   "id": "9e776580",
   "metadata": {
    "execution": {
     "iopub.execute_input": "2024-02-20T01:37:18.581390Z",
     "iopub.status.busy": "2024-02-20T01:37:18.580782Z",
     "iopub.status.idle": "2024-02-20T01:37:18.586883Z",
     "shell.execute_reply": "2024-02-20T01:37:18.585771Z"
    },
    "papermill": {
     "duration": 0.012471,
     "end_time": "2024-02-20T01:37:18.589059",
     "exception": false,
     "start_time": "2024-02-20T01:37:18.576588",
     "status": "completed"
    },
    "tags": [
     "injected-parameters"
    ]
   },
   "outputs": [],
   "source": [
    "# Parameters\n",
    "sess_name = \"Pa210201\"\n",
    "rfmap_analysis = \"feat_corr_map\"\n",
    "rfmap_dir = \"../test_results\"\n",
    "rffit_dir = \"../test_results\"\n",
    "output_dir = \"../test_results\"\n"
   ]
  },
  {
   "cell_type": "markdown",
   "id": "69b4246b-d30c-4c0c-87ab-1526fca1ee34",
   "metadata": {
    "papermill": {
     "duration": 0.004208,
     "end_time": "2024-02-20T01:37:18.598890",
     "exception": false,
     "start_time": "2024-02-20T01:37:18.594682",
     "status": "completed"
    },
    "tags": []
   },
   "source": [
    "# Check prereqs and params"
   ]
  },
  {
   "cell_type": "code",
   "execution_count": 4,
   "id": "66ee851e-03ba-4b46-ae3e-d9c23cfd86d0",
   "metadata": {
    "execution": {
     "iopub.execute_input": "2024-02-20T01:37:18.608731Z",
     "iopub.status.busy": "2024-02-20T01:37:18.607881Z",
     "iopub.status.idle": "2024-02-20T01:37:18.619521Z",
     "shell.execute_reply": "2024-02-20T01:37:18.618523Z"
    },
    "papermill": {
     "duration": 0.018632,
     "end_time": "2024-02-20T01:37:18.621283",
     "exception": false,
     "start_time": "2024-02-20T01:37:18.602651",
     "status": "completed"
    },
    "tags": []
   },
   "outputs": [
    {
     "name": "stdout",
     "output_type": "stream",
     "text": [
      "Loading RF maps from ../test_results/Pa210201.h5\n",
      "Loading RF Gaussian fit from ../test_results/Pa210201.h5\n",
      "Saving results to ../test_results/Pa210201.h5\n"
     ]
    }
   ],
   "source": [
    "if rfmap_dir is None:\n",
    "    rfmap_dir  = analysis_dir + rfmap_analysis\n",
    "if rffit_dir is None:\n",
    "    rffit_dir = rfmap_dir + '-rf_fit'\n",
    "if output_dir is None:\n",
    "    output_dir = rfmap_dir + '-rf_cons'\n",
    "\n",
    "rfmap_path = Path(rfmap_dir) / (sess_name + '.h5')\n",
    "print('Loading RF maps from', rfmap_path)\n",
    "rfmap_path = rfmap_path.expanduser()\n",
    "assert rfmap_path.is_file()\n",
    "\n",
    "rffit_path = Path(rffit_dir) / (sess_name + '.h5')\n",
    "print('Loading RF Gaussian fit from', rffit_path)\n",
    "rffit_path = rffit_path.expanduser()\n",
    "assert rffit_path.is_file()\n",
    "\n",
    "output_dir = Path(output_dir)\n",
    "output_path = output_dir / (sess_name + '.h5')\n",
    "print('Saving results to', output_path)\n",
    "output_path = output_path.expanduser()\n",
    "assert output_path.parent.is_dir()"
   ]
  },
  {
   "cell_type": "code",
   "execution_count": 5,
   "id": "c52b629d-3f0d-4084-95ce-62d6c55c8139",
   "metadata": {
    "execution": {
     "iopub.execute_input": "2024-02-20T01:37:18.631042Z",
     "iopub.status.busy": "2024-02-20T01:37:18.630419Z",
     "iopub.status.idle": "2024-02-20T01:37:18.639761Z",
     "shell.execute_reply": "2024-02-20T01:37:18.638760Z"
    },
    "papermill": {
     "duration": 0.017685,
     "end_time": "2024-02-20T01:37:18.642726",
     "exception": false,
     "start_time": "2024-02-20T01:37:18.625041",
     "status": "completed"
    },
    "tags": []
   },
   "outputs": [],
   "source": [
    "with h5.File(rfmap_path, 'r') as f:\n",
    "    assert f[f'progress_report/{rfmap_analysis}/all_done'][()].item()\n",
    "\n",
    "with h5.File(rffit_path, 'r') as f:\n",
    "    assert f[f'progress_report/rf_fit/all_done'][()].item()"
   ]
  },
  {
   "cell_type": "code",
   "execution_count": 6,
   "id": "73266fe0-70b3-46d7-9a06-5d8b93747e8a",
   "metadata": {
    "execution": {
     "iopub.execute_input": "2024-02-20T01:37:18.660279Z",
     "iopub.status.busy": "2024-02-20T01:37:18.659612Z",
     "iopub.status.idle": "2024-02-20T01:37:18.668357Z",
     "shell.execute_reply": "2024-02-20T01:37:18.667219Z"
    },
    "papermill": {
     "duration": 0.019749,
     "end_time": "2024-02-20T01:37:18.670913",
     "exception": false,
     "start_time": "2024-02-20T01:37:18.651164",
     "status": "completed"
    },
    "tags": []
   },
   "outputs": [],
   "source": [
    "analysis_name = 'rf_cons'\n",
    "\n",
    "if output_path.is_file():\n",
    "    with h5.File(output_path, 'r') as f:\n",
    "        try:\n",
    "            if f[f'progress_report/{analysis_name}/all_done'][()].item():\n",
    "                raise RuntimeError(f'{sess_name} has already been processed')\n",
    "        except KeyError:\n",
    "            pass"
   ]
  },
  {
   "cell_type": "code",
   "execution_count": 7,
   "id": "72161c58-8462-4617-8f0b-211de560620f",
   "metadata": {
    "execution": {
     "iopub.execute_input": "2024-02-20T01:37:18.686176Z",
     "iopub.status.busy": "2024-02-20T01:37:18.684994Z",
     "iopub.status.idle": "2024-02-20T01:37:18.691381Z",
     "shell.execute_reply": "2024-02-20T01:37:18.690261Z"
    },
    "papermill": {
     "duration": 0.016578,
     "end_time": "2024-02-20T01:37:18.694089",
     "exception": false,
     "start_time": "2024-02-20T01:37:18.677511",
     "status": "completed"
    },
    "tags": []
   },
   "outputs": [],
   "source": [
    "save_results, add_attr_to_dset, check_equals_saved, link_dsets, copy_group = \\\n",
    "    get_storage_functions(output_path)"
   ]
  },
  {
   "cell_type": "code",
   "execution_count": 8,
   "id": "cfc06c90-f93f-488f-9274-1ea1edc83cba",
   "metadata": {
    "execution": {
     "iopub.execute_input": "2024-02-20T01:37:18.713272Z",
     "iopub.status.busy": "2024-02-20T01:37:18.712002Z",
     "iopub.status.idle": "2024-02-20T01:37:18.715800Z",
     "shell.execute_reply": "2024-02-20T01:37:18.715248Z"
    },
    "papermill": {
     "duration": 0.014581,
     "end_time": "2024-02-20T01:37:18.717529",
     "exception": false,
     "start_time": "2024-02-20T01:37:18.702948",
     "status": "completed"
    },
    "tags": []
   },
   "outputs": [],
   "source": [
    "if exclude_diag:\n",
    "    assert not across_splits, 'cannot exclude diagonal when using across-split maps'"
   ]
  },
  {
   "cell_type": "code",
   "execution_count": 9,
   "id": "9d08773a-9f2b-451f-ad83-080dcda8ef72",
   "metadata": {
    "execution": {
     "iopub.execute_input": "2024-02-20T01:37:18.729897Z",
     "iopub.status.busy": "2024-02-20T01:37:18.729594Z",
     "iopub.status.idle": "2024-02-20T01:37:18.745546Z",
     "shell.execute_reply": "2024-02-20T01:37:18.744657Z"
    },
    "papermill": {
     "duration": 0.025486,
     "end_time": "2024-02-20T01:37:18.748623",
     "exception": false,
     "start_time": "2024-02-20T01:37:18.723137",
     "status": "completed"
    },
    "tags": []
   },
   "outputs": [],
   "source": [
    "group = analysis_name + '/config/'\n",
    "\n",
    "save_results(group+'rfmap_analysis', rfmap_analysis)\n",
    "save_results(group+'rfmap_dset', rfmap_dset)\n",
    "save_results(group+'z_thres', np.nan if z_thres is None else z_thres)\n",
    "save_results(group+'square_transform', square_transform)\n",
    "save_results(group+'exclude_diag', exclude_diag)\n",
    "save_results(group+'across_splits', across_splits)\n",
    "\n",
    "with h5.File(rfmap_path, 'r') as f:\n",
    "    loc = rfmap_analysis + '/unit_names'\n",
    "    unit_names = f[loc][()].astype(str)\n",
    "    if rfmap_path != output_path:  # else is using same file for I/O\n",
    "        copy_group(f, loc, analysis_name+'/unit_names')"
   ]
  },
  {
   "cell_type": "markdown",
   "id": "2a895f08-d630-4d77-b38b-19144f2c7ba6",
   "metadata": {
    "papermill": {
     "duration": 0.008343,
     "end_time": "2024-02-20T01:37:18.765622",
     "exception": false,
     "start_time": "2024-02-20T01:37:18.757279",
     "status": "completed"
    },
    "tags": []
   },
   "source": [
    "# Load and preprocess RF maps"
   ]
  },
  {
   "cell_type": "code",
   "execution_count": 10,
   "id": "574733ab-0393-4580-b98d-92427a81df1d",
   "metadata": {
    "execution": {
     "iopub.execute_input": "2024-02-20T01:37:18.779973Z",
     "iopub.status.busy": "2024-02-20T01:37:18.779456Z",
     "iopub.status.idle": "2024-02-20T01:37:19.007298Z",
     "shell.execute_reply": "2024-02-20T01:37:19.006837Z"
    },
    "papermill": {
     "duration": 0.237574,
     "end_time": "2024-02-20T01:37:19.009753",
     "exception": false,
     "start_time": "2024-02-20T01:37:18.772179",
     "status": "completed"
    },
    "tags": []
   },
   "outputs": [],
   "source": [
    "rf_ds = xr.load_dataset(rfmap_path, group=f'{rfmap_analysis}/data', engine='h5netcdf')\n",
    "rf_xlocs = rf_ds['rf_x'].values\n",
    "rf_ylocs = rf_ds['rf_y'].values\n",
    "\n",
    "if across_splits:\n",
    "    rf_ds = rf_ds[rfmap_dset]\n",
    "    assert 'split' not in rf_ds.coords\n",
    "    rf_ds = rf_ds.expand_dims(dim=dict(split=[-1]))\n",
    "else:\n",
    "    rf_ds = rf_ds[rfmap_dset+'_per_split']\n",
    "    assert 'split' in rf_ds.coords\n",
    "\n",
    "# temporarily reshape values for analysis\n",
    "dims_ = ('unit', 'rf_x', 'rf_y')\n",
    "temp_dims = ('split', *(d for d in rf_ds.dims if d not in dims_+('split',)), *dims_)\n",
    "rfs = rf_ds.transpose(*temp_dims).rename('rfs')"
   ]
  },
  {
   "cell_type": "code",
   "execution_count": 11,
   "id": "d05b62b4-35e9-4047-98b7-2749b27b04da",
   "metadata": {
    "execution": {
     "iopub.execute_input": "2024-02-20T01:37:19.016954Z",
     "iopub.status.busy": "2024-02-20T01:37:19.016759Z",
     "iopub.status.idle": "2024-02-20T01:37:19.331925Z",
     "shell.execute_reply": "2024-02-20T01:37:19.331262Z"
    },
    "papermill": {
     "duration": 0.322093,
     "end_time": "2024-02-20T01:37:19.335080",
     "exception": false,
     "start_time": "2024-02-20T01:37:19.012987",
     "status": "completed"
    },
    "tags": []
   },
   "outputs": [],
   "source": [
    "rfs_ = rfs.values\n",
    "rfs_orig = rfs_.copy()  # for plotting only\n",
    "\n",
    "# process only positive points\n",
    "m = rfs_ > 0\n",
    "npos = m.sum((-1,-2))\n",
    "\n",
    "# optionally apply square transform\n",
    "if square_transform:\n",
    "    rfs_[~m] = 0\n",
    "    rfs_[m] = np.square(rfs_[m])\n",
    "\n",
    "if z_thres is not None:\n",
    "    vals = np.moveaxis(rfs_, -3, 0)\n",
    "    vals = vals.reshape(len(vals), -1)\n",
    "    m = np.median(vals, -1)\n",
    "    s = np.median(np.abs(vals - m[:,None]), -1)\n",
    "    m_ = (rfs_ - m[:,None,None]) < z_thres * s[:,None,None]\n",
    "    rfs_[m_] = 0\n",
    "\n",
    "rfs.values[:] = rfs_"
   ]
  },
  {
   "cell_type": "markdown",
   "id": "3cada494-0998-4ceb-9fdb-18cf40d32a46",
   "metadata": {
    "papermill": {
     "duration": 0.014562,
     "end_time": "2024-02-20T01:37:19.358955",
     "exception": false,
     "start_time": "2024-02-20T01:37:19.344393",
     "status": "completed"
    },
    "tags": []
   },
   "source": [
    "# Load Gaussian fits"
   ]
  },
  {
   "cell_type": "code",
   "execution_count": 12,
   "id": "b3127fab-4bec-4a4a-9d0c-1c3e9c2a0997",
   "metadata": {
    "execution": {
     "iopub.execute_input": "2024-02-20T01:37:19.373581Z",
     "iopub.status.busy": "2024-02-20T01:37:19.373135Z",
     "iopub.status.idle": "2024-02-20T01:37:19.422746Z",
     "shell.execute_reply": "2024-02-20T01:37:19.422066Z"
    },
    "papermill": {
     "duration": 0.060949,
     "end_time": "2024-02-20T01:37:19.426039",
     "exception": false,
     "start_time": "2024-02-20T01:37:19.365090",
     "status": "completed"
    },
    "tags": []
   },
   "outputs": [],
   "source": [
    "# Gaussian fits do not have to be from the same maps as the compared ones\n",
    "# e,g., one could compare between:\n",
    "# 1. Gaussian fit of 0th fixation RFs\n",
    "# 2. Saccade-aligned RFs\n",
    "group = 'rf_fit/' + est_kind + ('/per_split', '/across_splits')[across_splits]\n",
    "fits = xr.load_dataset(rffit_path, group=group, engine='h5netcdf')['data'].rename('rf_fits')"
   ]
  },
  {
   "cell_type": "code",
   "execution_count": 13,
   "id": "30dfe72b-01e4-4b10-8525-4de7597af128",
   "metadata": {
    "execution": {
     "iopub.execute_input": "2024-02-20T01:37:19.443943Z",
     "iopub.status.busy": "2024-02-20T01:37:19.443395Z",
     "iopub.status.idle": "2024-02-20T01:37:19.452530Z",
     "shell.execute_reply": "2024-02-20T01:37:19.451679Z"
    },
    "papermill": {
     "duration": 0.018935,
     "end_time": "2024-02-20T01:37:19.454700",
     "exception": false,
     "start_time": "2024-02-20T01:37:19.435765",
     "status": "completed"
    },
    "tags": []
   },
   "outputs": [],
   "source": [
    "s = set(fits.dims) - set(rfs.dims) - {'feature'}\n",
    "assert not s, f'extras dimensions in RF fits vs. Rfs: {s}'\n",
    "\n",
    "for d in fits.dims:\n",
    "    if d == 'feature': continue\n",
    "    assert np.array_equal(np.unique(fits.coords[d]), np.unique(rfs.coords[d])), \\\n",
    "        f'dimension \"{d}\" does not match between RF fits and RFs'"
   ]
  },
  {
   "cell_type": "markdown",
   "id": "00b28132-488f-477d-91c5-dd8955032b9a",
   "metadata": {
    "papermill": {
     "duration": 0.008705,
     "end_time": "2024-02-20T01:37:19.471597",
     "exception": false,
     "start_time": "2024-02-20T01:37:19.462892",
     "status": "completed"
    },
    "tags": []
   },
   "source": [
    "# Main"
   ]
  },
  {
   "cell_type": "code",
   "execution_count": 14,
   "id": "2f1168ec-9387-4919-b0e5-cab067fcce0a",
   "metadata": {
    "execution": {
     "iopub.execute_input": "2024-02-20T01:37:19.487786Z",
     "iopub.status.busy": "2024-02-20T01:37:19.487136Z",
     "iopub.status.idle": "2024-02-20T01:37:19.495174Z",
     "shell.execute_reply": "2024-02-20T01:37:19.493995Z"
    },
    "papermill": {
     "duration": 0.017821,
     "end_time": "2024-02-20T01:37:19.497275",
     "exception": false,
     "start_time": "2024-02-20T01:37:19.479454",
     "status": "completed"
    },
    "tags": []
   },
   "outputs": [],
   "source": [
    "nx = rf_xlocs.size\n",
    "ny = rf_ylocs.size\n",
    "xys_ = np.array(np.meshgrid(rf_xlocs, rf_ylocs)).reshape(2,-1).T  # shape (n=nx*ny, 2)\n",
    "\n",
    "def get_gauss2d(mux, muy, xvar_inv, yvar_inv, t):\n",
    "    e1x = np.cos(t)\n",
    "    e1y = np.sin(t)\n",
    "    U = np.array([[e1x, -e1y], [e1y, e1x]])\n",
    "    Lam_inv = np.diag([xvar_inv, yvar_inv])\n",
    "    Sig_inv = U @ Lam_inv @ U.T\n",
    "    mu = np.array([[mux, muy]])\n",
    "    def gauss2d(xys):\n",
    "        # xys: shape (n, 2)\n",
    "        dxys = (xys - mu)\n",
    "        return np.exp(-0.5 * dxys[:,None,:] @ Sig_inv @ dxys[:,:,None]).ravel()\n",
    "    return gauss2d"
   ]
  },
  {
   "cell_type": "code",
   "execution_count": 15,
   "id": "a75c8639-5910-4265-8f15-69c83eb5c8fe",
   "metadata": {
    "execution": {
     "iopub.execute_input": "2024-02-20T01:37:19.509419Z",
     "iopub.status.busy": "2024-02-20T01:37:19.508716Z",
     "iopub.status.idle": "2024-02-20T01:37:19.516468Z",
     "shell.execute_reply": "2024-02-20T01:37:19.515361Z"
    },
    "papermill": {
     "duration": 0.015748,
     "end_time": "2024-02-20T01:37:19.518217",
     "exception": false,
     "start_time": "2024-02-20T01:37:19.502469",
     "status": "completed"
    },
    "tags": []
   },
   "outputs": [],
   "source": [
    "def pearsonr(a, b):\n",
    "    try:\n",
    "        if (not a.size) or np.isclose(a.var(), 0) or np.isclose(b.var(), 0):\n",
    "            return np.nan\n",
    "        return np.clip(np.corrcoef(a, b)[0, 1], -1, 1)\n",
    "    except:\n",
    "        return np.nan"
   ]
  },
  {
   "cell_type": "code",
   "execution_count": 16,
   "id": "17147d21-0084-4c27-9b66-e1cdbf972266",
   "metadata": {
    "execution": {
     "iopub.execute_input": "2024-02-20T01:37:19.529067Z",
     "iopub.status.busy": "2024-02-20T01:37:19.528449Z",
     "iopub.status.idle": "2024-02-20T01:43:03.262647Z",
     "shell.execute_reply": "2024-02-20T01:43:03.261868Z"
    },
    "papermill": {
     "duration": 343.743801,
     "end_time": "2024-02-20T01:43:03.266448",
     "exception": false,
     "start_time": "2024-02-20T01:37:19.522647",
     "status": "completed"
    },
    "tags": []
   },
   "outputs": [
    {
     "name": "stderr",
     "output_type": "stream",
     "text": [
      "\r",
      "100%|██████████████████████████████████████▊| 6417/6448 [05:42<00:01, 19.35it/s]"
     ]
    },
    {
     "name": "stderr",
     "output_type": "stream",
     "text": [
      "\r",
      "100%|██████████████████████████████████████▊| 6419/6448 [05:42<00:01, 18.53it/s]"
     ]
    },
    {
     "name": "stderr",
     "output_type": "stream",
     "text": [
      "\r",
      "100%|██████████████████████████████████████▊| 6421/6448 [05:42<00:01, 18.68it/s]"
     ]
    },
    {
     "name": "stderr",
     "output_type": "stream",
     "text": [
      "\r",
      "100%|██████████████████████████████████████▊| 6423/6448 [05:42<00:01, 18.77it/s]"
     ]
    },
    {
     "name": "stderr",
     "output_type": "stream",
     "text": [
      "\r",
      "100%|██████████████████████████████████████▊| 6425/6448 [05:42<00:01, 18.86it/s]"
     ]
    },
    {
     "name": "stderr",
     "output_type": "stream",
     "text": [
      "\r",
      "100%|██████████████████████████████████████▊| 6427/6448 [05:42<00:01, 18.95it/s]"
     ]
    },
    {
     "name": "stderr",
     "output_type": "stream",
     "text": [
      "\r",
      "100%|██████████████████████████████████████▉| 6429/6448 [05:42<00:01, 18.98it/s]"
     ]
    },
    {
     "name": "stderr",
     "output_type": "stream",
     "text": [
      "\r",
      "100%|██████████████████████████████████████▉| 6431/6448 [05:42<00:00, 17.72it/s]"
     ]
    },
    {
     "name": "stderr",
     "output_type": "stream",
     "text": [
      "\r",
      "100%|██████████████████████████████████████▉| 6433/6448 [05:42<00:00, 18.06it/s]"
     ]
    },
    {
     "name": "stderr",
     "output_type": "stream",
     "text": [
      "\r",
      "100%|██████████████████████████████████████▉| 6435/6448 [05:43<00:00, 16.88it/s]"
     ]
    },
    {
     "name": "stderr",
     "output_type": "stream",
     "text": [
      "\r",
      "100%|██████████████████████████████████████▉| 6437/6448 [05:43<00:00, 17.47it/s]"
     ]
    },
    {
     "name": "stderr",
     "output_type": "stream",
     "text": [
      "\r",
      "100%|██████████████████████████████████████▉| 6439/6448 [05:43<00:00, 17.93it/s]"
     ]
    },
    {
     "name": "stderr",
     "output_type": "stream",
     "text": [
      "\r",
      "100%|██████████████████████████████████████▉| 6441/6448 [05:43<00:00, 17.41it/s]"
     ]
    },
    {
     "name": "stderr",
     "output_type": "stream",
     "text": [
      "\r",
      "100%|██████████████████████████████████████▉| 6444/6448 [05:43<00:00, 18.71it/s]"
     ]
    },
    {
     "name": "stderr",
     "output_type": "stream",
     "text": [
      "\r",
      "100%|██████████████████████████████████████▉| 6446/6448 [05:43<00:00, 18.73it/s]"
     ]
    },
    {
     "name": "stderr",
     "output_type": "stream",
     "text": [
      "\r",
      "100%|███████████████████████████████████████| 6448/6448 [05:43<00:00, 18.84it/s]"
     ]
    },
    {
     "name": "stderr",
     "output_type": "stream",
     "text": [
      "\r",
      "100%|███████████████████████████████████████| 6448/6448 [05:43<00:00, 18.76it/s]"
     ]
    },
    {
     "name": "stderr",
     "output_type": "stream",
     "text": [
      "\n"
     ]
    }
   ],
   "source": [
    "ncomb = rfs['split'].size * (fits['split'].size - int(exclude_diag))\n",
    "combs = tuple(\n",
    "    (i, j)\n",
    "    for j in range(rfs['split'].size)\n",
    "    for i in range(fits['split'].size)\n",
    "    if i != j or not exclude_diag)\n",
    "assert len(combs) == ncomb\n",
    "\n",
    "assert temp_dims[0] == 'split' and temp_dims[-2:] == ('rf_x', 'rf_y')  # sanity check\n",
    "cond_dims = temp_dims[1:-2]\n",
    "cond_shape = tuple(rfs[d].size for d in cond_dims)\n",
    "ncond = np.prod(cond_shape)\n",
    "cond_iter = itertools.product(*(range(rfs[d].size) for d in cond_dims))\n",
    "corr = np.full((ncomb, ncond), np.nan, dtype=np.float32)\n",
    "wavg = np.full_like(corr, np.nan)\n",
    "\n",
    "icond_dims_in_fit = tuple((i, d) for i,d in enumerate(temp_dims[1:-2]) if d in fits.dims)\n",
    "\n",
    "for icond, cond in enumerate(tqdm(cond_iter, total=ncond)):\n",
    "    isp_fit0 = -1\n",
    "    for icomb, (isp_fit, isp_rf) in enumerate(combs):\n",
    "        if isp_fit != isp_fit0:\n",
    "            isp_fit0 = isp_fit\n",
    "            idx = {d: cond[i] for i, d in icond_dims_in_fit}\n",
    "            idx['split'] = isp_fit\n",
    "            feats = fits[idx]\n",
    "            mu = feats.sel(feature=['x','y']).values\n",
    "            ell = feats.sel(feature=['a','b','ang_rad'])\n",
    "            if np.isfinite(mu).all() and np.isfinite(ell).all() and (ell[:2] > 0).all():\n",
    "                xstd, ystd, t = ell\n",
    "                xvar_inv = 1/np.square(xstd)\n",
    "                yvar_inv = 1/np.square(ystd)\n",
    "                fit_ = get_gauss2d(*mu, xvar_inv, yvar_inv, t)(xys_).reshape(ny, nx)\n",
    "            else:\n",
    "                continue\n",
    "\n",
    "        idx = {d: i for d, i in zip(cond_dims, cond)}\n",
    "        idx['split'] = isp_rf\n",
    "        rf_ = rfs[idx].transpose('rf_y', 'rf_x').values\n",
    "        corr[icomb, icond] = pearsonr(rf_.ravel(), fit_.ravel())\n",
    "        wavg[icomb, icond] = (rf_.ravel() * fit_.ravel()).sum() / fit_.sum()\n",
    "\n",
    "corr = corr.reshape(ncomb, *cond_shape)\n",
    "wavg = wavg.reshape(ncomb, *cond_shape)"
   ]
  },
  {
   "cell_type": "code",
   "execution_count": 17,
   "id": "8e687d8e-7f4a-45b3-bd48-c491e57f152d",
   "metadata": {
    "execution": {
     "iopub.execute_input": "2024-02-20T01:43:03.455499Z",
     "iopub.status.busy": "2024-02-20T01:43:03.454475Z",
     "iopub.status.idle": "2024-02-20T01:43:03.625524Z",
     "shell.execute_reply": "2024-02-20T01:43:03.624634Z"
    },
    "papermill": {
     "duration": 0.262208,
     "end_time": "2024-02-20T01:43:03.627068",
     "exception": false,
     "start_time": "2024-02-20T01:43:03.364860",
     "status": "completed"
    },
    "tags": []
   },
   "outputs": [],
   "source": [
    "dims = ('cv_pair',) + cond_dims\n",
    "coords = {d: rfs.coords[d].values for d in cond_dims}\n",
    "coords['cv_pair'] = [','.join(map(str,v)) for v in combs]  # xr plays poorly with 2d info in 1 dim\n",
    "data_vars = {\n",
    "    'corr': (dims, corr),\n",
    "    'wavg': (dims, wavg)}\n",
    "ds = xr.Dataset(data_vars, coords=coords)\n",
    "\n",
    "compr = dict(zlib=True, complevel=9)\n",
    "encoding = {\n",
    "    k: dict(chunksizes=v.shape, **compr)\n",
    "    for k, v in ds.data_vars.items()}\n",
    "ds.to_netcdf(\n",
    "    output_path, group=analysis_name+'/data',\n",
    "    mode='a', engine='h5netcdf', encoding=encoding)"
   ]
  },
  {
   "cell_type": "markdown",
   "id": "2872c802-7b77-4a4c-bb5d-15eb4a9df5c8",
   "metadata": {
    "papermill": {
     "duration": 0.090083,
     "end_time": "2024-02-20T01:43:03.808190",
     "exception": false,
     "start_time": "2024-02-20T01:43:03.718107",
     "status": "completed"
    },
    "tags": []
   },
   "source": [
    "# Wrap up"
   ]
  },
  {
   "cell_type": "code",
   "execution_count": 18,
   "id": "272e5bc8-66ee-440d-8d7b-bfd26079993d",
   "metadata": {
    "execution": {
     "iopub.execute_input": "2024-02-20T01:43:03.990833Z",
     "iopub.status.busy": "2024-02-20T01:43:03.990189Z",
     "iopub.status.idle": "2024-02-20T01:43:03.997071Z",
     "shell.execute_reply": "2024-02-20T01:43:03.996263Z"
    },
    "papermill": {
     "duration": 0.099371,
     "end_time": "2024-02-20T01:43:03.998372",
     "exception": false,
     "start_time": "2024-02-20T01:43:03.899001",
     "status": "completed"
    },
    "tags": []
   },
   "outputs": [],
   "source": [
    "save_results(f'progress_report/{analysis_name}/all_done', True, overwrite=True)"
   ]
  },
  {
   "cell_type": "code",
   "execution_count": 19,
   "id": "d5d0fa48-52cb-406e-af5e-834e5967b3f1",
   "metadata": {
    "execution": {
     "iopub.execute_input": "2024-02-20T01:43:04.213095Z",
     "iopub.status.busy": "2024-02-20T01:43:04.212869Z",
     "iopub.status.idle": "2024-02-20T01:43:04.243610Z",
     "shell.execute_reply": "2024-02-20T01:43:04.242264Z"
    },
    "papermill": {
     "duration": 0.156807,
     "end_time": "2024-02-20T01:43:04.246238",
     "exception": false,
     "start_time": "2024-02-20T01:43:04.089431",
     "status": "completed"
    },
    "tags": []
   },
   "outputs": [
    {
     "name": "stdout",
     "output_type": "stream",
     "text": [
      "Last updated: 2024-02-19T20:43:04.218532-05:00\n",
      "\n",
      "Python implementation: CPython\n",
      "Python version       : 3.10.12\n",
      "IPython version      : 8.12.0\n",
      "\n",
      "Compiler    : GCC 11.4.0\n",
      "OS          : Linux\n",
      "Release     : 5.15.0-92-generic\n",
      "Machine     : x86_64\n",
      "Processor   : x86_64\n",
      "CPU cores   : 20\n",
      "Architecture: 64bit\n",
      "\n",
      "Python implementation: CPython\n",
      "Python version       : 3.10.12\n",
      "IPython version      : 8.12.0\n",
      "\n",
      "Compiler    : GCC 11.4.0\n",
      "OS          : Linux\n",
      "Release     : 5.15.0-92-generic\n",
      "Machine     : x86_64\n",
      "Processor   : x86_64\n",
      "CPU cores   : 20\n",
      "Architecture: 64bit\n",
      "\n",
      "Git hash: b0bb10f45dee065cc3af96fe224326b883d27431\n",
      "\n",
      "Git repo: https://github.com/willwx/free_viewing_staging.git\n",
      "\n",
      "Git branch: master\n",
      "\n",
      "numpy : 1.24.3\n",
      "xarray: 2023.4.2\n",
      "h5py  : 3.8.0\n",
      "sys   : 3.10.12 (main, Nov 20 2023, 15:14:05) [GCC 11.4.0]\n",
      "\n"
     ]
    }
   ],
   "source": [
    "%load_ext watermark\n",
    "%watermark\n",
    "%watermark -vm --iversions -rbg"
   ]
  },
  {
   "cell_type": "markdown",
   "id": "440c90a4-67fc-4b58-aaf5-f2b0d528d167",
   "metadata": {
    "papermill": {
     "duration": 0.087826,
     "end_time": "2024-02-20T01:43:04.435357",
     "exception": false,
     "start_time": "2024-02-20T01:43:04.347531",
     "status": "completed"
    },
    "tags": []
   },
   "source": [
    "# Basic visualization of results"
   ]
  },
  {
   "cell_type": "code",
   "execution_count": 20,
   "id": "f405878e-b092-4f9b-aa22-b99e90164bf3",
   "metadata": {
    "execution": {
     "iopub.execute_input": "2024-02-20T01:43:04.612332Z",
     "iopub.status.busy": "2024-02-20T01:43:04.611880Z",
     "iopub.status.idle": "2024-02-20T01:43:04.879950Z",
     "shell.execute_reply": "2024-02-20T01:43:04.879079Z"
    },
    "papermill": {
     "duration": 0.360557,
     "end_time": "2024-02-20T01:43:04.883245",
     "exception": false,
     "start_time": "2024-02-20T01:43:04.522688",
     "status": "completed"
    },
    "tags": []
   },
   "outputs": [],
   "source": [
    "import matplotlib.pyplot as plt"
   ]
  },
  {
   "cell_type": "code",
   "execution_count": 21,
   "id": "abd4811b-f85d-4b64-8036-ef80fe4abbe1",
   "metadata": {
    "execution": {
     "iopub.execute_input": "2024-02-20T01:43:05.080522Z",
     "iopub.status.busy": "2024-02-20T01:43:05.079594Z",
     "iopub.status.idle": "2024-02-20T01:43:05.485536Z",
     "shell.execute_reply": "2024-02-20T01:43:05.484762Z"
    },
    "papermill": {
     "duration": 0.499724,
     "end_time": "2024-02-20T01:43:05.489853",
     "exception": false,
     "start_time": "2024-02-20T01:43:04.990129",
     "status": "completed"
    },
    "tags": []
   },
   "outputs": [
    {
     "data": {
      "image/png": "[encoded data removed]",
      "text/plain": [
       "<Figure size 640x480 with 1 Axes>"
      ]
     },
     "metadata": {},
     "output_type": "display_data"
    },
    {
     "data": {
      "image/png": "[encoded data removed]",
      "text/plain": [
       "<Figure size 640x480 with 1 Axes>"
      ]
     },
     "metadata": {},
     "output_type": "display_data"
    }
   ],
   "source": [
    "for cons_type, cons in zip(('corr', 'wavg'), (corr, wavg)):\n",
    "    plt.figure()\n",
    "\n",
    "    cons = xr.DataArray(cons, coords={k:rfs.coords[k] for k in cond_dims}, dims=('comb',)+cond_dims)\n",
    "    cons.values[~np.isfinite(cons)] = np.nan\n",
    "    m = cons.mean(['comb','unit'])\n",
    "    dims_ = tuple(d for d in m.dims if d != 'time')\n",
    "    cond_iter = itertools.product(*(range(m[d].size) for d in dims_))\n",
    "\n",
    "    ls = []\n",
    "    vs = []\n",
    "    for cond in cond_iter:\n",
    "        l = ', '.join(f'{d}: {m.coords[d][i].item()}' for i, d in zip(cond, dims_))\n",
    "        m_ = m[{d: i for i, d in zip(cond, dims_)}]\n",
    "        if 'time' in cons.dims:\n",
    "            plt.plot(m['time'], m_, label=l)\n",
    "        else:\n",
    "            ls.append(l)\n",
    "            vs.append(m_)\n",
    "\n",
    "    if 'time' in cons.dims:\n",
    "        plt.legend()\n",
    "        plt.xlabel('Time, ms')\n",
    "    else:\n",
    "        n = len(vs)\n",
    "        plt.scatter(range(n), vs)\n",
    "        plt.xticks(range(n), ls, rotation=90)\n",
    "\n",
    "    plt.title(f'Cons. type: {cons_type}')\n",
    "    plt.ylabel('RF corr. to Gaussian fit, Pearson\\'s r')"
   ]
  }
 ],
 "metadata": {
  "kernelspec": {
   "display_name": "Python 3 (ipykernel)",
   "language": "python",
   "name": "python3"
  },
  "language_info": {
   "codemirror_mode": {
    "name": "ipython",
    "version": 3
   },
   "file_extension": ".py",
   "mimetype": "text/x-python",
   "name": "python",
   "nbconvert_exporter": "python",
   "pygments_lexer": "ipython3",
   "version": "3.10.12"
  },
  "papermill": {
   "default_parameters": {},
   "duration": 348.834835,
   "end_time": "2024-02-20T01:43:06.010713",
   "environment_variables": {},
   "exception": null,
   "input_path": "script_6u2_rf_cons_via_gauss_fit.ipynb",
   "output_path": "../test_results/log_6u2_rf_cons_via_gauss_fit-Pa210201.ipynb",
   "parameters": {
    "output_dir": "../test_results",
    "rffit_dir": "../test_results",
    "rfmap_analysis": "feat_corr_map",
    "rfmap_dir": "../test_results",
    "sess_name": "Pa210201"
   },
   "start_time": "2024-02-20T01:37:17.175878",
   "version": "2.5.0"
  }
 },
 "nbformat": 4,
 "nbformat_minor": 5
}