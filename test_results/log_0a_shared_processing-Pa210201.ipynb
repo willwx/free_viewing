{
 "cells": [
  {
   "cell_type": "code",
   "execution_count": 1,
   "id": "a3a3b49b-69c8-4eda-81e2-1682530f1acf",
   "metadata": {
    "execution": {
     "iopub.execute_input": "2024-02-18T18:17:57.626270Z",
     "iopub.status.busy": "2024-02-18T18:17:57.625719Z",
     "iopub.status.idle": "2024-02-18T18:17:57.891939Z",
     "shell.execute_reply": "2024-02-18T18:17:57.891277Z"
    },
    "papermill": {
     "duration": 0.282242,
     "end_time": "2024-02-18T18:17:57.893999",
     "exception": false,
     "start_time": "2024-02-18T18:17:57.611757",
     "status": "completed"
    },
    "tags": []
   },
   "outputs": [],
   "source": [
    "import sys\n",
    "from hashlib import sha512\n",
    "from pathlib import Path\n",
    "\n",
    "import h5py as h5\n",
    "import numpy as np\n",
    "import pandas as pd\n",
    "\n",
    "sys.path.append('../lib')\n",
    "from storage import get_storage_functions\n",
    "from local_paths import preproc_dir, eye_latency_calib_paths"
   ]
  },
  {
   "cell_type": "code",
   "execution_count": 2,
   "id": "fe57f59c-1904-4bcc-82eb-d4750f2bacba",
   "metadata": {
    "execution": {
     "iopub.execute_input": "2024-02-18T18:17:57.902300Z",
     "iopub.status.busy": "2024-02-18T18:17:57.902018Z",
     "iopub.status.idle": "2024-02-18T18:17:57.906264Z",
     "shell.execute_reply": "2024-02-18T18:17:57.905256Z"
    },
    "papermill": {
     "duration": 0.009923,
     "end_time": "2024-02-18T18:17:57.907634",
     "exception": false,
     "start_time": "2024-02-18T18:17:57.897711",
     "status": "completed"
    },
    "tags": [
     "parameters"
    ]
   },
   "outputs": [],
   "source": [
    "#============================================================================\n",
    "# session\n",
    "#============================================================================\n",
    "sess_name = 'sess_name'\n",
    "\n",
    "#============================================================================\n",
    "# main\n",
    "#============================================================================\n",
    "fr_change_frac_thres = .5\n",
    "\n",
    "#============================================================================\n",
    "# paths\n",
    "#============================================================================\n",
    "proc_dir = preproc_dir\n",
    "output_dir = preproc_dir\n",
    "overwrite = False  # overwrite any existing results; use with caution"
   ]
  },
  {
   "cell_type": "code",
   "execution_count": 3,
   "id": "c2cb8795",
   "metadata": {
    "execution": {
     "iopub.execute_input": "2024-02-18T18:17:57.917271Z",
     "iopub.status.busy": "2024-02-18T18:17:57.916173Z",
     "iopub.status.idle": "2024-02-18T18:17:57.921073Z",
     "shell.execute_reply": "2024-02-18T18:17:57.920136Z"
    },
    "papermill": {
     "duration": 0.012739,
     "end_time": "2024-02-18T18:17:57.924067",
     "exception": false,
     "start_time": "2024-02-18T18:17:57.911328",
     "status": "completed"
    },
    "tags": [
     "injected-parameters"
    ]
   },
   "outputs": [],
   "source": [
    "# Parameters\n",
    "sess_name = \"Pa210201\"\n"
   ]
  },
  {
   "cell_type": "markdown",
   "id": "351f2f38-6923-4868-ae55-8bc03725610c",
   "metadata": {
    "papermill": {
     "duration": 0.008138,
     "end_time": "2024-02-18T18:17:57.944159",
     "exception": false,
     "start_time": "2024-02-18T18:17:57.936021",
     "status": "completed"
    },
    "tags": []
   },
   "source": [
    "# Check parameters and whether already done"
   ]
  },
  {
   "cell_type": "code",
   "execution_count": 4,
   "id": "043b4ab5-77d5-43b1-9e85-e44dae16e05d",
   "metadata": {
    "execution": {
     "iopub.execute_input": "2024-02-18T18:17:57.959813Z",
     "iopub.status.busy": "2024-02-18T18:17:57.959148Z",
     "iopub.status.idle": "2024-02-18T18:17:57.974165Z",
     "shell.execute_reply": "2024-02-18T18:17:57.972993Z"
    },
    "papermill": {
     "duration": 0.02683,
     "end_time": "2024-02-18T18:17:57.977201",
     "exception": false,
     "start_time": "2024-02-18T18:17:57.950371",
     "status": "completed"
    },
    "tags": []
   },
   "outputs": [
    {
     "name": "stdout",
     "output_type": "stream",
     "text": [
      "Loading session from ../test_data/Pa210201-main.nwb\n",
      "Loading rasters from ../test_data/Pa210201-rasters.nwb\n",
      "Using eye tracker latency calibration in:\n",
      "\t../db/sess_rig_info.csv\n",
      "\t../db/rig_eye_latency.csv\n",
      "Saving results to ../test_data/Pa210201-proc.h5\n"
     ]
    }
   ],
   "source": [
    "preproc_main_path = Path(proc_dir) / (sess_name + '-main.nwb')\n",
    "rasters_path = Path(proc_dir) / (sess_name + '-rasters.nwb')\n",
    "print('Loading session from', preproc_main_path)\n",
    "print('Loading rasters from', rasters_path)\n",
    "preproc_main_path = preproc_main_path.expanduser()\n",
    "rasters_path = rasters_path.expanduser()\n",
    "assert preproc_main_path.is_file()\n",
    "assert rasters_path.is_file()\n",
    "\n",
    "print('Using eye tracker latency calibration in:\\n\\t'+'\\n\\t'.join(map(str,eye_latency_calib_paths)))\n",
    "eye_latency_calib_paths = tuple(Path(v).expanduser() for v in eye_latency_calib_paths)\n",
    "assert all(v.is_file() for v in eye_latency_calib_paths)\n",
    "\n",
    "output_dir = Path(output_dir)\n",
    "assert output_dir.expanduser().is_dir()\n",
    "output_path = output_dir / (sess_name + '-proc.h5')\n",
    "print('Saving results to', output_path)\n",
    "output_path = output_path.expanduser()"
   ]
  },
  {
   "cell_type": "code",
   "execution_count": 5,
   "id": "4cb64951-a33c-41d8-b242-d5c75bd58a90",
   "metadata": {
    "execution": {
     "iopub.execute_input": "2024-02-18T18:17:58.002655Z",
     "iopub.status.busy": "2024-02-18T18:17:58.001979Z",
     "iopub.status.idle": "2024-02-18T18:17:58.009496Z",
     "shell.execute_reply": "2024-02-18T18:17:58.008345Z"
    },
    "papermill": {
     "duration": 0.023021,
     "end_time": "2024-02-18T18:17:58.012481",
     "exception": false,
     "start_time": "2024-02-18T18:17:57.989460",
     "status": "completed"
    },
    "tags": []
   },
   "outputs": [],
   "source": [
    "if not overwrite and output_path.is_file():\n",
    "    with h5.File(output_path, 'r') as f:\n",
    "        try:\n",
    "            if f['progress_report/shared_processing/all_done'][()].item():\n",
    "                raise RuntimeError(f'{sess_name} has already been processed')\n",
    "        except KeyError:\n",
    "            pass"
   ]
  },
  {
   "cell_type": "code",
   "execution_count": 6,
   "id": "a779bf63-3446-4291-85b2-68018aeadda4",
   "metadata": {
    "execution": {
     "iopub.execute_input": "2024-02-18T18:17:58.031786Z",
     "iopub.status.busy": "2024-02-18T18:17:58.031264Z",
     "iopub.status.idle": "2024-02-18T18:17:58.037521Z",
     "shell.execute_reply": "2024-02-18T18:17:58.036321Z"
    },
    "papermill": {
     "duration": 0.017443,
     "end_time": "2024-02-18T18:17:58.039750",
     "exception": false,
     "start_time": "2024-02-18T18:17:58.022307",
     "status": "completed"
    },
    "tags": []
   },
   "outputs": [],
   "source": [
    "save_results, add_attr_to_dset, check_equals_saved, link_dsets, copy_group = \\\n",
    "    get_storage_functions(output_path, overwrite=overwrite)"
   ]
  },
  {
   "cell_type": "markdown",
   "id": "02444a3c-a584-426f-bc34-6d2ecb4fe0ad",
   "metadata": {
    "papermill": {
     "duration": 0.005386,
     "end_time": "2024-02-18T18:17:58.052176",
     "exception": false,
     "start_time": "2024-02-18T18:17:58.046790",
     "status": "completed"
    },
    "tags": []
   },
   "source": [
    "# Main"
   ]
  },
  {
   "cell_type": "markdown",
   "id": "8cf79bb6-1e67-458d-9f41-d6a722a6d594",
   "metadata": {
    "papermill": {
     "duration": 0.003893,
     "end_time": "2024-02-18T18:17:58.060733",
     "exception": false,
     "start_time": "2024-02-18T18:17:58.056840",
     "status": "completed"
    },
    "tags": []
   },
   "source": [
    "### Save a default random seed (per-session, deterministic)"
   ]
  },
  {
   "cell_type": "code",
   "execution_count": 7,
   "id": "aa5d34eb-5444-4de2-a2cb-82d46b30d0de",
   "metadata": {
    "execution": {
     "iopub.execute_input": "2024-02-18T18:17:58.069818Z",
     "iopub.status.busy": "2024-02-18T18:17:58.069160Z",
     "iopub.status.idle": "2024-02-18T18:17:58.078862Z",
     "shell.execute_reply": "2024-02-18T18:17:58.078327Z"
    },
    "papermill": {
     "duration": 0.01734,
     "end_time": "2024-02-18T18:17:58.081534",
     "exception": false,
     "start_time": "2024-02-18T18:17:58.064194",
     "status": "completed"
    },
    "tags": []
   },
   "outputs": [
    {
     "name": "stdout",
     "output_type": "stream",
     "text": [
      "random_seed: 775418045\n"
     ]
    }
   ],
   "source": [
    "random_seed = int(sha512(bytes(sess_name, 'utf-8')).hexdigest()[-8:], 16)\n",
    "print('random_seed:', random_seed)\n",
    "save_results('config/default_random_seed', random_seed)"
   ]
  },
  {
   "cell_type": "markdown",
   "id": "8f9c7460-b4d1-47db-be07-c98fd64dc3c1",
   "metadata": {
    "papermill": {
     "duration": 0.005068,
     "end_time": "2024-02-18T18:17:58.096158",
     "exception": false,
     "start_time": "2024-02-18T18:17:58.091090",
     "status": "completed"
    },
    "tags": []
   },
   "source": [
    "### Save image size"
   ]
  },
  {
   "cell_type": "code",
   "execution_count": 8,
   "id": "ac1a4d47-0b13-49a7-bf15-42ae676252ef",
   "metadata": {
    "execution": {
     "iopub.execute_input": "2024-02-18T18:17:58.106385Z",
     "iopub.status.busy": "2024-02-18T18:17:58.105747Z",
     "iopub.status.idle": "2024-02-18T18:17:58.120838Z",
     "shell.execute_reply": "2024-02-18T18:17:58.119582Z"
    },
    "papermill": {
     "duration": 0.021738,
     "end_time": "2024-02-18T18:17:58.122448",
     "exception": false,
     "start_time": "2024-02-18T18:17:58.100710",
     "status": "completed"
    },
    "tags": []
   },
   "outputs": [
    {
     "name": "stdout",
     "output_type": "stream",
     "text": [
      "stimuli: [635, 635] pixels at [39.71, 39.71] pix per degree; 150 unique location(s)\n",
      "image size (pixels): [635 635]\n",
      "image size (dva): [16. 16.]\n"
     ]
    }
   ],
   "source": [
    "with h5.File(preproc_main_path, 'r') as f:\n",
    "    im_size_px = f['stimulus/templates/stimuli/dimension'][()]\n",
    "    stim_desc = f['general/stimulus'][()].decode()\n",
    "\n",
    "print('stimuli:', stim_desc)\n",
    "ppd = stim_desc.split('pix per degree')[0].split('[')[-1].strip('] ').split(',')\n",
    "ppd = np.array(list(map(float, ppd)))\n",
    "im_size_dva = np.round(im_size_px / ppd, 1)\n",
    "\n",
    "print('image size (pixels):', im_size_px)\n",
    "print('image size (dva):', im_size_dva)"
   ]
  },
  {
   "cell_type": "code",
   "execution_count": 9,
   "id": "44a87fd8-df56-49bc-9228-f0371b0dc565",
   "metadata": {
    "execution": {
     "iopub.execute_input": "2024-02-18T18:17:58.134987Z",
     "iopub.status.busy": "2024-02-18T18:17:58.133995Z",
     "iopub.status.idle": "2024-02-18T18:17:58.144740Z",
     "shell.execute_reply": "2024-02-18T18:17:58.143206Z"
    },
    "papermill": {
     "duration": 0.018216,
     "end_time": "2024-02-18T18:17:58.146097",
     "exception": false,
     "start_time": "2024-02-18T18:17:58.127881",
     "status": "completed"
    },
    "tags": []
   },
   "outputs": [],
   "source": [
    "save_results('stimulus/size_px', im_size_px)\n",
    "save_results('stimulus/size_dva', im_size_dva)\n",
    "save_results('stimulus/pixels_per_degree', ppd)"
   ]
  },
  {
   "cell_type": "markdown",
   "id": "8b0d3184-b407-4aa0-ab26-f572474a9fa3",
   "metadata": {
    "papermill": {
     "duration": 0.003565,
     "end_time": "2024-02-18T18:17:58.153365",
     "exception": false,
     "start_time": "2024-02-18T18:17:58.149800",
     "status": "completed"
    },
    "tags": []
   },
   "source": [
    "### Save stimulus folder(s): root and any subdirs"
   ]
  },
  {
   "cell_type": "code",
   "execution_count": 10,
   "id": "4044022c-1ef6-4b42-8f91-abbe3e292363",
   "metadata": {
    "execution": {
     "iopub.execute_input": "2024-02-18T18:17:58.162484Z",
     "iopub.status.busy": "2024-02-18T18:17:58.161431Z",
     "iopub.status.idle": "2024-02-18T18:17:58.179184Z",
     "shell.execute_reply": "2024-02-18T18:17:58.178101Z"
    },
    "papermill": {
     "duration": 0.025676,
     "end_time": "2024-02-18T18:17:58.182538",
     "exception": false,
     "start_time": "2024-02-18T18:17:58.156862",
     "status": "completed"
    },
    "tags": []
   },
   "outputs": [],
   "source": [
    "with h5.File(preproc_main_path, 'r') as f:\n",
    "    uim_paths = f['stimulus/templates/stimuli/external_file'][()].astype(str)\n",
    "\n",
    "# find longest shared root dir\n",
    "if any('\\\\' in v for v in uim_paths):  # Windows paths\n",
    "    uim_subds = np.char.split(uim_paths, '\\\\')\n",
    "else:\n",
    "    uim_subds = np.char.split(uim_paths, '/')\n",
    "for i in range(min(map(len, uim_subds))):\n",
    "    if len(set(v[i] for v in uim_subds)) > 1:\n",
    "        i -= 1\n",
    "        break\n",
    "\n",
    "im_root = '/'.join(uim_subds[0][:i+1])\n",
    "uim_fns = np.array([v[-1] for v in uim_subds])\n",
    "uim_subds = np.array(['/'.join(v[i+1:-1]) for v in uim_subds])"
   ]
  },
  {
   "cell_type": "code",
   "execution_count": 11,
   "id": "bd348959-fc83-4732-8d09-472fd3fc2925",
   "metadata": {
    "execution": {
     "iopub.execute_input": "2024-02-18T18:17:58.203995Z",
     "iopub.status.busy": "2024-02-18T18:17:58.203300Z",
     "iopub.status.idle": "2024-02-18T18:17:58.212342Z",
     "shell.execute_reply": "2024-02-18T18:17:58.211763Z"
    },
    "papermill": {
     "duration": 0.021017,
     "end_time": "2024-02-18T18:17:58.214235",
     "exception": false,
     "start_time": "2024-02-18T18:17:58.193218",
     "status": "completed"
    },
    "tags": []
   },
   "outputs": [],
   "source": [
    "save_results('stimulus/folder', im_root)\n",
    "save_results('stimulus/subdirectories', np.array(sorted(set(uim_subds))).astype(bytes))"
   ]
  },
  {
   "cell_type": "markdown",
   "id": "b74ea256-ab4e-48f4-9f4a-0c886fe7c5c6",
   "metadata": {
    "papermill": {
     "duration": 0.005959,
     "end_time": "2024-02-18T18:17:58.227542",
     "exception": false,
     "start_time": "2024-02-18T18:17:58.221583",
     "status": "completed"
    },
    "tags": []
   },
   "source": [
    "### Get (rig-specific, measured) eye latency"
   ]
  },
  {
   "cell_type": "code",
   "execution_count": 12,
   "id": "68280e0e-9305-4128-b4c7-57a87110e1e3",
   "metadata": {
    "execution": {
     "iopub.execute_input": "2024-02-18T18:17:58.239161Z",
     "iopub.status.busy": "2024-02-18T18:17:58.238363Z",
     "iopub.status.idle": "2024-02-18T18:17:58.250728Z",
     "shell.execute_reply": "2024-02-18T18:17:58.250216Z"
    },
    "papermill": {
     "duration": 0.018774,
     "end_time": "2024-02-18T18:17:58.251982",
     "exception": false,
     "start_time": "2024-02-18T18:17:58.233208",
     "status": "completed"
    },
    "tags": []
   },
   "outputs": [
    {
     "name": "stdout",
     "output_type": "stream",
     "text": [
      "Correcting eye tracking timing by 5 ms (rig 2, tracker: EyeLink)\n"
     ]
    }
   ],
   "source": [
    "tracker, rig = pd.read_csv(eye_latency_calib_paths[0], converters={'Eye tracker': str})\\\n",
    "    .set_index('Name').loc[sess_name][['Eye tracker', 'Rig']]\n",
    "tracker = tracker.split(' ')[-1]\n",
    "tracker_latency = pd.read_csv(eye_latency_calib_paths[1], converters={'Tracker': str})\\\n",
    "    .set_index(['Rig', 'Tracker']).loc[(rig, tracker)]['Latency']\n",
    "tracker_latency_rule = f'rig {rig}, tracker: {tracker}'\n",
    "print(f'Correcting eye tracking timing by {tracker_latency} ms ({tracker_latency_rule})')"
   ]
  },
  {
   "cell_type": "code",
   "execution_count": 13,
   "id": "f5270121-9a55-495d-92a0-91d28b23ad4a",
   "metadata": {
    "execution": {
     "iopub.execute_input": "2024-02-18T18:17:58.263122Z",
     "iopub.status.busy": "2024-02-18T18:17:58.262881Z",
     "iopub.status.idle": "2024-02-18T18:17:58.268757Z",
     "shell.execute_reply": "2024-02-18T18:17:58.268192Z"
    },
    "papermill": {
     "duration": 0.013183,
     "end_time": "2024-02-18T18:17:58.270294",
     "exception": false,
     "start_time": "2024-02-18T18:17:58.257111",
     "status": "completed"
    },
    "tags": []
   },
   "outputs": [],
   "source": [
    "save_results('config/eye_tracking_latency', tracker_latency, attrs=dict(unit='ms'))\n",
    "save_results('config/eye_tracking_latency_rule', tracker_latency_rule)"
   ]
  },
  {
   "cell_type": "markdown",
   "id": "262d5b1a-dc83-4668-935d-90b945b6f1d5",
   "metadata": {
    "papermill": {
     "duration": 0.003938,
     "end_time": "2024-02-18T18:17:58.285135",
     "exception": false,
     "start_time": "2024-02-18T18:17:58.281197",
     "status": "completed"
    },
    "tags": []
   },
   "source": [
    "### Save formatted fixations"
   ]
  },
  {
   "cell_type": "code",
   "execution_count": 14,
   "id": "b2f06faa-6715-402d-87fc-2b4b6e75ff96",
   "metadata": {
    "execution": {
     "iopub.execute_input": "2024-02-18T18:17:58.295300Z",
     "iopub.status.busy": "2024-02-18T18:17:58.294693Z",
     "iopub.status.idle": "2024-02-18T18:17:58.308621Z",
     "shell.execute_reply": "2024-02-18T18:17:58.307264Z"
    },
    "papermill": {
     "duration": 0.021367,
     "end_time": "2024-02-18T18:17:58.310628",
     "exception": false,
     "start_time": "2024-02-18T18:17:58.289261",
     "status": "completed"
    },
    "tags": []
   },
   "outputs": [],
   "source": [
    "fix_df = {'Time': 'start_time', 'End time': 'stop_time', 'Trial': 'trial_id', 'Screen X': 'x', 'Screen Y': 'y'}\n",
    "with h5.File(preproc_main_path, 'r') as f:\n",
    "    try:\n",
    "        group = f['processing/behavior/fixations']\n",
    "    except KeyError:  # compat\n",
    "        group = f['processing/fixation_detection/fixations']\n",
    "    for k, v in fix_df.items():\n",
    "        fix_df[k] = group[v][()]\n",
    "        if k == 'Trial':\n",
    "            fix_df[k] = fix_df[k].astype(int)  # pytables does not like uint64 as an index\n",
    "\n",
    "fix_df = pd.DataFrame(fix_df)"
   ]
  },
  {
   "cell_type": "markdown",
   "id": "befef2b6-a8d7-4471-b3b1-e34b461c31d2",
   "metadata": {
    "papermill": {
     "duration": 0.006709,
     "end_time": "2024-02-18T18:17:58.325009",
     "exception": false,
     "start_time": "2024-02-18T18:17:58.318300",
     "status": "completed"
    },
    "tags": []
   },
   "source": [
    "Compensate for tracker latency before further formatting"
   ]
  },
  {
   "cell_type": "code",
   "execution_count": 15,
   "id": "6deed8f0-e0d6-483d-a8ca-29b8be8bd784",
   "metadata": {
    "execution": {
     "iopub.execute_input": "2024-02-18T18:17:58.337263Z",
     "iopub.status.busy": "2024-02-18T18:17:58.336600Z",
     "iopub.status.idle": "2024-02-18T18:17:58.344758Z",
     "shell.execute_reply": "2024-02-18T18:17:58.343594Z"
    },
    "papermill": {
     "duration": 0.017084,
     "end_time": "2024-02-18T18:17:58.347727",
     "exception": false,
     "start_time": "2024-02-18T18:17:58.330643",
     "status": "completed"
    },
    "tags": []
   },
   "outputs": [],
   "source": [
    "fix_df['Time'] -= tracker_latency/1e3\n",
    "fix_df['End time'] -= tracker_latency/1e3"
   ]
  },
  {
   "cell_type": "markdown",
   "id": "7fde5c68-a485-4c81-b9db-286a6ae8c9f1",
   "metadata": {
    "papermill": {
     "duration": 0.008317,
     "end_time": "2024-02-18T18:17:58.369899",
     "exception": false,
     "start_time": "2024-02-18T18:17:58.361582",
     "status": "completed"
    },
    "tags": []
   },
   "source": [
    "Cross-reference fixations to stimulus presentations"
   ]
  },
  {
   "cell_type": "code",
   "execution_count": 16,
   "id": "a550d9d4-8499-496e-9028-13b82fc6812c",
   "metadata": {
    "execution": {
     "iopub.execute_input": "2024-02-18T18:17:58.383951Z",
     "iopub.status.busy": "2024-02-18T18:17:58.383306Z",
     "iopub.status.idle": "2024-02-18T18:17:58.395898Z",
     "shell.execute_reply": "2024-02-18T18:17:58.394567Z"
    },
    "papermill": {
     "duration": 0.021376,
     "end_time": "2024-02-18T18:17:58.397719",
     "exception": false,
     "start_time": "2024-02-18T18:17:58.376343",
     "status": "completed"
    },
    "tags": []
   },
   "outputs": [],
   "source": [
    "with h5.File(preproc_main_path, 'r') as f:\n",
    "    pres_iim = f['stimulus/presentation/presentations/data'][()]\n",
    "    pres_tid = f['intervals/presentations/trial_id'][()]\n",
    "    pres_t0s = f['intervals/presentations/start_time'][()]\n",
    "    pres_t1s = f['intervals/presentations/stop_time'][()]\n",
    "    pres_pos = f['intervals/presentations/position'][()]\n",
    "\n",
    "im_fns = uim_fns[pres_iim]\n",
    "im_subdirs = uim_subds[pres_iim]\n",
    "pres_df = pd.DataFrame({\n",
    "    'Trial': pres_tid,\n",
    "    'Start time': pres_t0s,\n",
    "    'End time': pres_t1s,\n",
    "    'X': pres_pos[:,0],\n",
    "    'Y': pres_pos[:,1],\n",
    "    'Image filename': im_fns,\n",
    "    'Image subdir': im_subdirs,\n",
    "}).set_index('Trial')"
   ]
  },
  {
   "cell_type": "code",
   "execution_count": 17,
   "id": "3a0649d1-e7fa-4e35-a37b-8319ea5ab5f5",
   "metadata": {
    "execution": {
     "iopub.execute_input": "2024-02-18T18:17:58.411614Z",
     "iopub.status.busy": "2024-02-18T18:17:58.410639Z",
     "iopub.status.idle": "2024-02-18T18:17:59.010866Z",
     "shell.execute_reply": "2024-02-18T18:17:59.010311Z"
    },
    "papermill": {
     "duration": 0.612413,
     "end_time": "2024-02-18T18:17:59.015335",
     "exception": false,
     "start_time": "2024-02-18T18:17:58.402922",
     "status": "completed"
    },
    "tags": []
   },
   "outputs": [
    {
     "name": "stdout",
     "output_type": "stream",
     "text": [
      "(6927, 9)\n"
     ]
    },
    {
     "data": {
      "text/html": [
       "<div>\n",
       "<style scoped>\n",
       "    .dataframe tbody tr th:only-of-type {\n",
       "        vertical-align: middle;\n",
       "    }\n",
       "\n",
       "    .dataframe tbody tr th {\n",
       "        vertical-align: top;\n",
       "    }\n",
       "\n",
       "    .dataframe thead th {\n",
       "        text-align: right;\n",
       "    }\n",
       "</style>\n",
       "<table border=\"1\" class=\"dataframe\">\n",
       "  <thead>\n",
       "    <tr style=\"text-align: right;\">\n",
       "      <th></th>\n",
       "      <th></th>\n",
       "      <th>Time</th>\n",
       "      <th>End time</th>\n",
       "      <th>Relative X</th>\n",
       "      <th>Relative Y</th>\n",
       "      <th>Image filename</th>\n",
       "      <th>Image subdir</th>\n",
       "      <th>Duration</th>\n",
       "      <th>Trial time</th>\n",
       "      <th>Preceding fixation index</th>\n",
       "    </tr>\n",
       "    <tr>\n",
       "      <th>Trial</th>\n",
       "      <th>Fixation</th>\n",
       "      <th></th>\n",
       "      <th></th>\n",
       "      <th></th>\n",
       "      <th></th>\n",
       "      <th></th>\n",
       "      <th></th>\n",
       "      <th></th>\n",
       "      <th></th>\n",
       "      <th></th>\n",
       "    </tr>\n",
       "  </thead>\n",
       "  <tbody>\n",
       "    <tr>\n",
       "      <th rowspan=\"5\" valign=\"top\">1</th>\n",
       "      <th>0</th>\n",
       "      <td>1576.000</td>\n",
       "      <td>1702.225</td>\n",
       "      <td>-1.433481</td>\n",
       "      <td>6.472321</td>\n",
       "      <td>7cadf8b2db81d6c8d411af1ee7de842a.jpg</td>\n",
       "      <td></td>\n",
       "      <td>126.225</td>\n",
       "      <td>0.000</td>\n",
       "      <td>-1</td>\n",
       "    </tr>\n",
       "    <tr>\n",
       "      <th>1</th>\n",
       "      <td>1741.225</td>\n",
       "      <td>1868.225</td>\n",
       "      <td>4.569738</td>\n",
       "      <td>1.968158</td>\n",
       "      <td>7cadf8b2db81d6c8d411af1ee7de842a.jpg</td>\n",
       "      <td></td>\n",
       "      <td>127.000</td>\n",
       "      <td>165.225</td>\n",
       "      <td>0</td>\n",
       "    </tr>\n",
       "    <tr>\n",
       "      <th>2</th>\n",
       "      <td>1889.225</td>\n",
       "      <td>2224.225</td>\n",
       "      <td>4.253864</td>\n",
       "      <td>-0.526914</td>\n",
       "      <td>7cadf8b2db81d6c8d411af1ee7de842a.jpg</td>\n",
       "      <td></td>\n",
       "      <td>335.000</td>\n",
       "      <td>313.225</td>\n",
       "      <td>1</td>\n",
       "    </tr>\n",
       "    <tr>\n",
       "      <th>3</th>\n",
       "      <td>2250.225</td>\n",
       "      <td>2781.225</td>\n",
       "      <td>6.457235</td>\n",
       "      <td>2.498425</td>\n",
       "      <td>7cadf8b2db81d6c8d411af1ee7de842a.jpg</td>\n",
       "      <td></td>\n",
       "      <td>531.000</td>\n",
       "      <td>674.225</td>\n",
       "      <td>2</td>\n",
       "    </tr>\n",
       "    <tr>\n",
       "      <th>4</th>\n",
       "      <td>2819.225</td>\n",
       "      <td>3072.225</td>\n",
       "      <td>-0.096668</td>\n",
       "      <td>5.759803</td>\n",
       "      <td>7cadf8b2db81d6c8d411af1ee7de842a.jpg</td>\n",
       "      <td></td>\n",
       "      <td>253.000</td>\n",
       "      <td>1243.225</td>\n",
       "      <td>3</td>\n",
       "    </tr>\n",
       "  </tbody>\n",
       "</table>\n",
       "</div>"
      ],
      "text/plain": [
       "                    Time  End time  Relative X  Relative Y   \n",
       "Trial Fixation                                               \n",
       "1     0         1576.000  1702.225   -1.433481    6.472321  \\\n",
       "      1         1741.225  1868.225    4.569738    1.968158   \n",
       "      2         1889.225  2224.225    4.253864   -0.526914   \n",
       "      3         2250.225  2781.225    6.457235    2.498425   \n",
       "      4         2819.225  3072.225   -0.096668    5.759803   \n",
       "\n",
       "                                      Image filename Image subdir  Duration   \n",
       "Trial Fixation                                                                \n",
       "1     0         7cadf8b2db81d6c8d411af1ee7de842a.jpg                126.225  \\\n",
       "      1         7cadf8b2db81d6c8d411af1ee7de842a.jpg                127.000   \n",
       "      2         7cadf8b2db81d6c8d411af1ee7de842a.jpg                335.000   \n",
       "      3         7cadf8b2db81d6c8d411af1ee7de842a.jpg                531.000   \n",
       "      4         7cadf8b2db81d6c8d411af1ee7de842a.jpg                253.000   \n",
       "\n",
       "                Trial time  Preceding fixation index  \n",
       "Trial Fixation                                        \n",
       "1     0              0.000                        -1  \n",
       "      1            165.225                         0  \n",
       "      2            313.225                         1  \n",
       "      3            674.225                         2  \n",
       "      4           1243.225                         3  "
      ]
     },
     "execution_count": 17,
     "metadata": {},
     "output_type": "execute_result"
    }
   ],
   "source": [
    "# not all fixations were during image presentation; select those that overlap in part with pres time\n",
    "fix_df = fix_df[fix_df['Trial'].isin(pres_tid)]\n",
    "pres_df_ = pres_df.loc[fix_df['Trial']]\n",
    "in_pres = (\n",
    "    ((fix_df['End time'].values - pres_df_['Start time'].values) > 0)\n",
    "    & ((fix_df['Time'].values - pres_df_['End time'].values) <= 0)\n",
    ")\n",
    "fix_df = fix_df[in_pres]\n",
    "pres_df_ = pres_df.loc[fix_df['Trial']]\n",
    "\n",
    "# find and clip fixations across stim onset to onset time\n",
    "is_zeroth = fix_df['Time'].values <= pres_df_['Start time'].values\n",
    "fix_df.loc[is_zeroth, 'Time'] = pres_df_.loc[is_zeroth, 'Start time'].values\n",
    "\n",
    "# cast presentation-specific info to fixations\n",
    "fix_df[['Relative X', 'Relative Y']] = fix_df[['Screen X', 'Screen Y']] - pres_df_[['X', 'Y']].values\n",
    "fix_df[['Image filename', 'Image subdir']] = pres_df_[['Image filename', 'Image subdir']].values\n",
    "\n",
    "# add order of fixation in each trial\n",
    "fix_df['Fixation'] = pd.concat([\n",
    "    pd.Series(data=np.argsort(g['Time'])+1, index=g.index)\n",
    "    for _, g in fix_df.groupby('Trial')\n",
    "])\n",
    "# order starts with 0 only for trials containing a \"zeroth fixation\"; 1 otherwise\n",
    "m = fix_df['Trial'].isin(fix_df[is_zeroth]['Trial'])\n",
    "fix_df.loc[m, 'Fixation'] -= 1\n",
    "\n",
    "# add duration, time-since-stim-on; convert time s -> ms\n",
    "fix_df['Duration'] = fix_df['End time'] - fix_df['Time']\n",
    "fix_df['Trial time'] = fix_df['Time'] - pres_df_['Start time'].values\n",
    "assert (fix_df['Trial time'][fix_df['Fixation'] == 0] == 0).all()  # sanity checks\n",
    "assert (fix_df['Trial time'][fix_df['Fixation'] != 0] > 0).all()\n",
    "fix_df['Trial time'] = np.clip(fix_df['Trial time'], 0, None)\n",
    "fix_df[['Time', 'Trial time', 'End time', 'Duration']] *= 1e3\n",
    "\n",
    "# drop irrelevant columns; set index\n",
    "fix_df = fix_df.drop(columns=['Screen X', 'Screen Y'])\n",
    "fix_df = fix_df.set_index(['Trial', 'Fixation'])\n",
    "\n",
    "# add ref to prev fixation\n",
    "ipre = np.full(len(fix_df), -1, dtype=int)\n",
    "for i, (itr, ifix) in enumerate(fix_df.index):\n",
    "    try:\n",
    "        ipre[i] = fix_df.index.get_loc((itr, ifix-1))\n",
    "    except KeyError:\n",
    "        pass\n",
    "fix_df['Preceding fixation index'] = ipre\n",
    "\n",
    "print(fix_df.shape)\n",
    "fix_df.head()"
   ]
  },
  {
   "cell_type": "code",
   "execution_count": 18,
   "id": "827f8ff9-77ae-4a46-8857-5b603594c42e",
   "metadata": {
    "execution": {
     "iopub.execute_input": "2024-02-18T18:17:59.033815Z",
     "iopub.status.busy": "2024-02-18T18:17:59.033192Z",
     "iopub.status.idle": "2024-02-18T18:17:59.171805Z",
     "shell.execute_reply": "2024-02-18T18:17:59.171198Z"
    },
    "papermill": {
     "duration": 0.148956,
     "end_time": "2024-02-18T18:17:59.174963",
     "exception": false,
     "start_time": "2024-02-18T18:17:59.026007",
     "status": "completed"
    },
    "tags": []
   },
   "outputs": [],
   "source": [
    "fix_df.to_hdf(output_path, 'fixation_dataframe', mode='a', format='table', complevel=9, complib='zlib')"
   ]
  },
  {
   "cell_type": "markdown",
   "id": "f996be98-1c8d-4e95-9a80-9a0d17ac4dd9",
   "metadata": {
    "papermill": {
     "duration": 0.010312,
     "end_time": "2024-02-18T18:17:59.199142",
     "exception": false,
     "start_time": "2024-02-18T18:17:59.188830",
     "status": "completed"
    },
    "tags": []
   },
   "source": [
    "### Select neurons\n",
    "\n",
    "Using minimal criteria to only exclude clearly technical problems:\n",
    "1. FR in 2nd half of data must not be 0 (if so, it is most likely the unit was lost)\n",
    "2. FR in 2nd half of data must not be > 150% or < 50% of overall FR (if so, it is most likely the unit was not stable)\n",
    "\n",
    "Criteria more meaningful for downstream analysis (e.g., visual responsiveness) can be applied downstream."
   ]
  },
  {
   "cell_type": "code",
   "execution_count": 19,
   "id": "01375fa0-8711-45d8-9010-d09289cc5f8e",
   "metadata": {
    "execution": {
     "iopub.execute_input": "2024-02-18T18:17:59.214695Z",
     "iopub.status.busy": "2024-02-18T18:17:59.214018Z",
     "iopub.status.idle": "2024-02-18T18:18:04.530575Z",
     "shell.execute_reply": "2024-02-18T18:18:04.529970Z"
    },
    "papermill": {
     "duration": 5.326908,
     "end_time": "2024-02-18T18:18:04.533443",
     "exception": false,
     "start_time": "2024-02-18T18:17:59.206535",
     "status": "completed"
    },
    "tags": []
   },
   "outputs": [
    {
     "name": "stdout",
     "output_type": "stream",
     "text": [
      "total 92 units:\n",
      "excluding 0 (0.0%) unit(s) without spikes in second half of recording\n",
      "excluding 0 (0.0%) unstable unit(s)\n",
      "excluding 0 (0.0%) total unit(s)\n",
      "keeping 92 units:\n",
      "\t['1' '2' '3' '4' '4a' '4b' '4c' '4d' '5' '6' '6a' '6b' '7' '8' '9' '10'\n",
      "\t '10a' '10b' '11' '12' '13' '14' '15' '15a' '15b' '16' '16a' '16b' '17'\n",
      "\t '18' '19' '20' '21' '22' '23' '23a' '23b' '24' '25' '26' '27' '27a' '27b'\n",
      "\t '27c' '28' '29' '30' '31' '32' '33' '33a' '33b' '34' '35' '36' '37' '38'\n",
      "\t '39' '40' '41' '42' '42a' '42b' '43' '44' '45' '46' '47' '48' '48a' '48b'\n",
      "\t '49' '50' '51' '52' '53' '54' '54a' '54b' '55' '55a' '55b' '55c' '56'\n",
      "\t '57' '58' '59' '60' '61' '62' '63' '64']\n"
     ]
    }
   ],
   "source": [
    "with h5.File(rasters_path, 'r') as f:\n",
    "    unit_names = f['processing/ecephys/unit_names/unit_name'][()].astype(str)\n",
    "    rasters = f['processing/ecephys/rasters/data'][()]\n",
    "duration = len(rasters)\n",
    "all_unit_names = unit_names.copy()\n",
    "\n",
    "l = rasters.shape[0]\n",
    "fr = rasters.mean(0)*1e3\n",
    "fr1 = rasters[l//2:].mean(0)*1e3\n",
    "\n",
    "dfr = fr1 / fr - 1\n",
    "\n",
    "m0 = fr1 == 0\n",
    "m1 = np.abs(dfr) > fr_change_frac_thres\n",
    "m = m1|m0\n",
    "\n",
    "print('total', m.size, 'units:')\n",
    "print(f'excluding {m0.sum()} ({m0.mean()*100:.1f}%) unit(s) without spikes in second half of recording')\n",
    "print(f'excluding {m1.sum()} ({m1.mean()*100:.1f}%) unstable unit(s)')\n",
    "print(f'excluding {m.sum()} ({m.mean()*100:.1f}%) total unit(s)')\n",
    "unit_names = unit_names[~m]\n",
    "print('keeping', (~m).sum(), 'units:')\n",
    "print('\\t' + '\\n\\t'.join(str(unit_names).split('\\n')))"
   ]
  },
  {
   "cell_type": "code",
   "execution_count": 20,
   "id": "042f3388-a402-427d-8d02-83ddbcf7419f",
   "metadata": {
    "execution": {
     "iopub.execute_input": "2024-02-18T18:18:04.555288Z",
     "iopub.status.busy": "2024-02-18T18:18:04.554131Z",
     "iopub.status.idle": "2024-02-18T18:18:04.567539Z",
     "shell.execute_reply": "2024-02-18T18:18:04.566314Z"
    },
    "papermill": {
     "duration": 0.033005,
     "end_time": "2024-02-18T18:18:04.570680",
     "exception": false,
     "start_time": "2024-02-18T18:18:04.537675",
     "status": "completed"
    },
    "tags": []
   },
   "outputs": [],
   "source": [
    "save_results('recording_duration', duration, attrs=dict(unit='ms'))\n",
    "save_results('config/unit_selection/fr_change_frac_thres', fr_change_frac_thres)\n",
    "save_results('unit_selection/all', all_unit_names.astype(bytes))\n",
    "save_results('unit_selection/simple', unit_names.astype(bytes))"
   ]
  },
  {
   "cell_type": "markdown",
   "id": "3e1b8f29-c8b2-44c1-b621-c03df29304fc",
   "metadata": {
    "papermill": {
     "duration": 0.008877,
     "end_time": "2024-02-18T18:18:04.593616",
     "exception": false,
     "start_time": "2024-02-18T18:18:04.584739",
     "status": "completed"
    },
    "tags": []
   },
   "source": [
    "### Calculate response stats\n",
    "I.e., response mean and stdev, during stimulus and inter-stimulus periods respectively"
   ]
  },
  {
   "cell_type": "code",
   "execution_count": 21,
   "id": "93c150b9-bba0-4bc9-8a85-1a8a67944db8",
   "metadata": {
    "execution": {
     "iopub.execute_input": "2024-02-18T18:18:04.607242Z",
     "iopub.status.busy": "2024-02-18T18:18:04.606272Z",
     "iopub.status.idle": "2024-02-18T18:18:07.534604Z",
     "shell.execute_reply": "2024-02-18T18:18:07.533419Z"
    },
    "papermill": {
     "duration": 2.938668,
     "end_time": "2024-02-18T18:18:07.538039",
     "exception": false,
     "start_time": "2024-02-18T18:18:04.599371",
     "status": "completed"
    },
    "tags": []
   },
   "outputs": [],
   "source": [
    "is_stim = np.zeros(len(rasters), dtype=bool)\n",
    "for t0, t1 in np.round(np.array([pres_t0s, pres_t1s]).T).astype(int):\n",
    "    is_stim[t0:t1] = True\n",
    "byper_mean_std = np.empty((2, 2, rasters.shape[1]))\n",
    "for iper in range(2):\n",
    "    m = is_stim if iper else ~is_stim\n",
    "    vals = rasters[m]\n",
    "    byper_mean_std[iper, 0] = vals.mean(0) * 1e3\n",
    "    byper_mean_std[iper, 1] = vals.std(0) * 1e3"
   ]
  },
  {
   "cell_type": "code",
   "execution_count": 22,
   "id": "10471a0f-4c0d-4729-b65e-279b8ab4fcef",
   "metadata": {
    "execution": {
     "iopub.execute_input": "2024-02-18T18:18:07.567953Z",
     "iopub.status.busy": "2024-02-18T18:18:07.567505Z",
     "iopub.status.idle": "2024-02-18T18:18:07.590281Z",
     "shell.execute_reply": "2024-02-18T18:18:07.589374Z"
    },
    "papermill": {
     "duration": 0.042222,
     "end_time": "2024-02-18T18:18:07.593438",
     "exception": false,
     "start_time": "2024-02-18T18:18:07.551216",
     "status": "completed"
    },
    "tags": []
   },
   "outputs": [],
   "source": [
    "save_results(\n",
    "    'response_stats/stim_spont_mean_std',\n",
    "    byper_mean_std,\n",
    "    attrs=dict(\n",
    "        dims=np.array(['period', 'statistic', 'unit'], dtype=bytes),\n",
    "        period=np.array(['inter-stimulus', 'stimulus'], dtype=bytes),\n",
    "        statistic=np.array(['mean', 'stdev'], dtype=bytes),\n",
    "        unit=all_unit_names.astype(bytes),\n",
    "        num_ms=np.array([(~is_stim).sum(), is_stim.sum()]),\n",
    "        unit_='spikes/s',\n",
    "    )\n",
    ")"
   ]
  },
  {
   "cell_type": "markdown",
   "id": "ca012873-d3b3-4c3c-a9c7-87813a28fed7",
   "metadata": {
    "papermill": {
     "duration": 0.009009,
     "end_time": "2024-02-18T18:18:07.617054",
     "exception": false,
     "start_time": "2024-02-18T18:18:07.608045",
     "status": "completed"
    },
    "tags": []
   },
   "source": [
    "# Wrap up"
   ]
  },
  {
   "cell_type": "code",
   "execution_count": 23,
   "id": "1bf40eea-339a-45be-9dd9-13ac8741ad4b",
   "metadata": {
    "execution": {
     "iopub.execute_input": "2024-02-18T18:18:07.630786Z",
     "iopub.status.busy": "2024-02-18T18:18:07.629925Z",
     "iopub.status.idle": "2024-02-18T18:18:07.636349Z",
     "shell.execute_reply": "2024-02-18T18:18:07.635685Z"
    },
    "papermill": {
     "duration": 0.01453,
     "end_time": "2024-02-18T18:18:07.637755",
     "exception": false,
     "start_time": "2024-02-18T18:18:07.623225",
     "status": "completed"
    },
    "tags": []
   },
   "outputs": [],
   "source": [
    "save_results('progress_report/shared_processing/all_done', True)"
   ]
  },
  {
   "cell_type": "code",
   "execution_count": 24,
   "id": "ebcc6a9e-8226-438e-9337-d46eae7ce37c",
   "metadata": {
    "execution": {
     "iopub.execute_input": "2024-02-18T18:18:07.649728Z",
     "iopub.status.busy": "2024-02-18T18:18:07.649496Z",
     "iopub.status.idle": "2024-02-18T18:18:07.691833Z",
     "shell.execute_reply": "2024-02-18T18:18:07.690514Z"
    },
    "papermill": {
     "duration": 0.051359,
     "end_time": "2024-02-18T18:18:07.694712",
     "exception": false,
     "start_time": "2024-02-18T18:18:07.643353",
     "status": "completed"
    },
    "tags": []
   },
   "outputs": [
    {
     "name": "stdout",
     "output_type": "stream",
     "text": [
      "Python implementation: CPython\n",
      "Python version       : 3.10.12\n",
      "IPython version      : 8.12.0\n",
      "\n",
      "Compiler    : GCC 11.4.0\n",
      "OS          : Linux\n",
      "Release     : 5.15.0-92-generic\n",
      "Machine     : x86_64\n",
      "Processor   : x86_64\n",
      "CPU cores   : 20\n",
      "Architecture: 64bit\n",
      "\n",
      "Git hash: b0bb10f45dee065cc3af96fe224326b883d27431\n",
      "\n",
      "Git repo: https://github.com/willwx/free_viewing_staging.git\n",
      "\n",
      "Git branch: master\n",
      "\n",
      "sys   : 3.10.12 (main, Nov 20 2023, 15:14:05) [GCC 11.4.0]\n",
      "pandas: 2.0.1\n",
      "numpy : 1.24.3\n",
      "h5py  : 3.8.0\n",
      "\n"
     ]
    }
   ],
   "source": [
    "%load_ext watermark\n",
    "%watermark -vm --iversions -rbg"
   ]
  },
  {
   "cell_type": "markdown",
   "id": "30084ed1-8247-49cb-ad27-3a4fcc88509e",
   "metadata": {
    "papermill": {
     "duration": 0.008047,
     "end_time": "2024-02-18T18:18:07.714021",
     "exception": false,
     "start_time": "2024-02-18T18:18:07.705974",
     "status": "completed"
    },
    "tags": []
   },
   "source": [
    "# Quick plots"
   ]
  },
  {
   "cell_type": "code",
   "execution_count": 25,
   "id": "785ff434-a5bc-4878-be65-b5034d945c02",
   "metadata": {
    "execution": {
     "iopub.execute_input": "2024-02-18T18:18:07.726951Z",
     "iopub.status.busy": "2024-02-18T18:18:07.726275Z",
     "iopub.status.idle": "2024-02-18T18:18:07.966892Z",
     "shell.execute_reply": "2024-02-18T18:18:07.965953Z"
    },
    "papermill": {
     "duration": 0.250503,
     "end_time": "2024-02-18T18:18:07.970249",
     "exception": false,
     "start_time": "2024-02-18T18:18:07.719746",
     "status": "completed"
    },
    "tags": []
   },
   "outputs": [],
   "source": [
    "import matplotlib.pyplot as plt"
   ]
  },
  {
   "cell_type": "code",
   "execution_count": 26,
   "id": "c7f14aa5-6517-4060-a512-0aa007fd3212",
   "metadata": {
    "execution": {
     "iopub.execute_input": "2024-02-18T18:18:07.994231Z",
     "iopub.status.busy": "2024-02-18T18:18:07.993261Z",
     "iopub.status.idle": "2024-02-18T18:18:08.327544Z",
     "shell.execute_reply": "2024-02-18T18:18:08.326975Z"
    },
    "papermill": {
     "duration": 0.348645,
     "end_time": "2024-02-18T18:18:08.331417",
     "exception": false,
     "start_time": "2024-02-18T18:18:07.982772",
     "status": "completed"
    },
    "tags": []
   },
   "outputs": [
    {
     "data": {
      "image/png": "[encoded data removed]",
      "text/plain": [
       "<Figure size 800x300 with 2 Axes>"
      ]
     },
     "metadata": {},
     "output_type": "display_data"
    }
   ],
   "source": [
    "fig, axs = plt.subplots(1, 2, figsize=(8,3))\n",
    "\n",
    "for i, ax in enumerate(axs):\n",
    "    vals = byper_mean_std[:,i]\n",
    "\n",
    "    ax.scatter(*vals, s=10)\n",
    "    u, l = vals.min(), vals.max()\n",
    "    ax.set_aspect('equal')\n",
    "    ax.plot([u,l], [u,l], lw=1, ls='--', zorder=-1, color='gray')\n",
    "    if i == 0:\n",
    "        ax.set_title('Mean')\n",
    "    else:\n",
    "        ax.set_title('Stdev.')\n",
    "    ax.set_xlabel('Inter-stimulus period')\n",
    "    ax.set_ylabel('Stimulus period')"
   ]
  }
 ],
 "metadata": {
  "kernelspec": {
   "display_name": "Python 3 (ipykernel)",
   "language": "python",
   "name": "python3"
  },
  "language_info": {
   "codemirror_mode": {
    "name": "ipython",
    "version": 3
   },
   "file_extension": ".py",
   "mimetype": "text/x-python",
   "name": "python",
   "nbconvert_exporter": "python",
   "pygments_lexer": "ipython3",
   "version": "3.10.12"
  },
  "papermill": {
   "default_parameters": {},
   "duration": 12.106077,
   "end_time": "2024-02-18T18:18:08.766174",
   "environment_variables": {},
   "exception": null,
   "input_path": "script_0a_shared_processing.ipynb",
   "output_path": "../test_results/log_0a_shared_processing-Pa210201.ipynb",
   "parameters": {
    "sess_name": "Pa210201"
   },
   "start_time": "2024-02-18T18:17:56.660097",
   "version": "2.5.0"
  }
 },
 "nbformat": 4,
 "nbformat_minor": 5
}