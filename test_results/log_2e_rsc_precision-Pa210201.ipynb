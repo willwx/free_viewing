{
 "cells": [
  {
   "cell_type": "code",
   "execution_count": 1,
   "id": "dee8967d-d61e-45a9-a66c-1cb061efba34",
   "metadata": {
    "execution": {
     "iopub.execute_input": "2024-02-18T19:19:56.640092Z",
     "iopub.status.busy": "2024-02-18T19:19:56.639557Z",
     "iopub.status.idle": "2024-02-18T19:19:57.263303Z",
     "shell.execute_reply": "2024-02-18T19:19:57.262766Z"
    },
    "papermill": {
     "duration": 0.637955,
     "end_time": "2024-02-18T19:19:57.264838",
     "exception": false,
     "start_time": "2024-02-18T19:19:56.626883",
     "status": "completed"
    },
    "tags": []
   },
   "outputs": [],
   "source": [
    "import sys\n",
    "from pathlib import Path\n",
    "\n",
    "import h5py as h5\n",
    "import numpy as np\n",
    "import pandas as pd\n",
    "import xarray as xr\n",
    "\n",
    "sys.path.append('../lib')\n",
    "from storage import get_storage_functions, quantize\n",
    "from local_paths import preproc_dir, analysis_dir, database_dir\n",
    "from self_consistency import find_return_fixations, pairwise_self_consistency"
   ]
  },
  {
   "cell_type": "markdown",
   "id": "324a6ab8-2254-4096-861d-950ec7dbe326",
   "metadata": {
    "papermill": {
     "duration": 0.011613,
     "end_time": "2024-02-18T19:19:57.279575",
     "exception": false,
     "start_time": "2024-02-18T19:19:57.267962",
     "status": "completed"
    },
    "tags": []
   },
   "source": [
    "# Set parameters"
   ]
  },
  {
   "cell_type": "code",
   "execution_count": 2,
   "id": "13d49c84-3790-4c27-95f8-1c6c13585d9b",
   "metadata": {
    "execution": {
     "iopub.execute_input": "2024-02-18T19:19:57.286780Z",
     "iopub.status.busy": "2024-02-18T19:19:57.286250Z",
     "iopub.status.idle": "2024-02-18T19:19:57.292469Z",
     "shell.execute_reply": "2024-02-18T19:19:57.291956Z"
    },
    "papermill": {
     "duration": 0.01173,
     "end_time": "2024-02-18T19:19:57.294108",
     "exception": false,
     "start_time": "2024-02-18T19:19:57.282378",
     "status": "completed"
    },
    "tags": [
     "parameters"
    ]
   },
   "outputs": [],
   "source": [
    "#============================================================================\n",
    "# session\n",
    "#============================================================================\n",
    "sess_name = 'sess_name'\n",
    "\n",
    "\n",
    "#============================================================================\n",
    "# response windows\n",
    "#============================================================================\n",
    "t_win = 200\n",
    "\n",
    "\n",
    "#============================================================================\n",
    "# return fixation selection\n",
    "#============================================================================\n",
    "return_thres_opts = (1/16, 1/8, 1/4, 1/2, 1, 2, 4, 8, 16)\n",
    "exclude_same_trial = True\n",
    "\n",
    "# \"decorrelate\" return fixations:\n",
    "#   sub-select only return pairs where the non-return fixations\n",
    "#   (e.g., \"prev\" for \"curr return\") are this far apart\n",
    "min_sep      =   4  # dva; only consider saccades at least this large\n",
    "min_sep_win  = 100\n",
    "\n",
    "\n",
    "#============================================================================\n",
    "# paths\n",
    "#============================================================================\n",
    "proc_dir = preproc_dir\n",
    "output_dir = analysis_dir + 'rsc_precision'\n",
    "\n",
    "latency_path = database_dir + 'per_unit_latency-fix_on.csv.gz'"
   ]
  },
  {
   "cell_type": "code",
   "execution_count": 3,
   "id": "ee5feabf",
   "metadata": {
    "execution": {
     "iopub.execute_input": "2024-02-18T19:19:57.300731Z",
     "iopub.status.busy": "2024-02-18T19:19:57.300554Z",
     "iopub.status.idle": "2024-02-18T19:19:57.304110Z",
     "shell.execute_reply": "2024-02-18T19:19:57.303401Z"
    },
    "papermill": {
     "duration": 0.008329,
     "end_time": "2024-02-18T19:19:57.305270",
     "exception": false,
     "start_time": "2024-02-18T19:19:57.296941",
     "status": "completed"
    },
    "tags": [
     "injected-parameters"
    ]
   },
   "outputs": [],
   "source": [
    "# Parameters\n",
    "sess_name = \"Pa210201\"\n",
    "output_dir = \"../test_results\"\n"
   ]
  },
  {
   "cell_type": "markdown",
   "id": "1fee6e67-4c83-4a27-8122-52971dcca58b",
   "metadata": {
    "papermill": {
     "duration": 0.002804,
     "end_time": "2024-02-18T19:19:57.310849",
     "exception": false,
     "start_time": "2024-02-18T19:19:57.308045",
     "status": "completed"
    },
    "tags": []
   },
   "source": [
    "# Check prereqs and params"
   ]
  },
  {
   "cell_type": "code",
   "execution_count": 4,
   "id": "f7ed4397-6992-49f9-ae8d-b1b3348cbbe8",
   "metadata": {
    "execution": {
     "iopub.execute_input": "2024-02-18T19:19:57.317599Z",
     "iopub.status.busy": "2024-02-18T19:19:57.317209Z",
     "iopub.status.idle": "2024-02-18T19:19:57.324361Z",
     "shell.execute_reply": "2024-02-18T19:19:57.323587Z"
    },
    "papermill": {
     "duration": 0.014824,
     "end_time": "2024-02-18T19:19:57.328454",
     "exception": false,
     "start_time": "2024-02-18T19:19:57.313630",
     "status": "completed"
    },
    "tags": []
   },
   "outputs": [
    {
     "name": "stdout",
     "output_type": "stream",
     "text": [
      "Loading shared processing from ../test_data/Pa210201-proc.h5\n",
      "Loading rasters from ../test_data/Pa210201-rasters.nwb\n",
      "Using per-unit latency from ../db/per_unit_latency-fix_on.csv.gz\n",
      "Saving results to ../test_results/Pa210201.h5\n"
     ]
    }
   ],
   "source": [
    "proc_path = Path(proc_dir) / (sess_name + '-proc.h5')\n",
    "print('Loading shared processing from', proc_path)\n",
    "proc_path = proc_path.expanduser()\n",
    "assert proc_path.is_file()\n",
    "\n",
    "rasters_path = Path(proc_dir) / (sess_name + '-rasters.nwb')\n",
    "print('Loading rasters from', rasters_path)\n",
    "rasters_path = rasters_path.expanduser()\n",
    "assert rasters_path.is_file()\n",
    "\n",
    "print('Using per-unit latency from', latency_path)\n",
    "latency_path = Path(latency_path).expanduser()\n",
    "assert latency_path.is_file()\n",
    "\n",
    "output_dir = Path(output_dir)\n",
    "assert output_dir.expanduser().is_dir()\n",
    "output_path = output_dir / (sess_name + '.h5')\n",
    "print('Saving results to', output_path)\n",
    "output_path = output_path.expanduser()"
   ]
  },
  {
   "cell_type": "code",
   "execution_count": 5,
   "id": "fc501691-4e8d-40e3-8d7a-9d39a5187fdb",
   "metadata": {
    "execution": {
     "iopub.execute_input": "2024-02-18T19:19:57.347253Z",
     "iopub.status.busy": "2024-02-18T19:19:57.346749Z",
     "iopub.status.idle": "2024-02-18T19:19:57.354858Z",
     "shell.execute_reply": "2024-02-18T19:19:57.354137Z"
    },
    "papermill": {
     "duration": 0.017956,
     "end_time": "2024-02-18T19:19:57.356787",
     "exception": false,
     "start_time": "2024-02-18T19:19:57.338831",
     "status": "completed"
    },
    "tags": []
   },
   "outputs": [],
   "source": [
    "analysis_name = 'rsc_precision'\n",
    "\n",
    "if output_path.is_file():\n",
    "    with h5.File(output_path, 'r') as f:\n",
    "        try:\n",
    "            if f[f'progress_report/{analysis_name}/all_done'][()].item():\n",
    "                raise RuntimeError(f'{sess_name} has already been processed')\n",
    "        except KeyError:\n",
    "            pass"
   ]
  },
  {
   "cell_type": "markdown",
   "id": "16ebcbec-d4e7-408c-ac5d-d710117c24b6",
   "metadata": {
    "papermill": {
     "duration": 0.006893,
     "end_time": "2024-02-18T19:19:57.370072",
     "exception": false,
     "start_time": "2024-02-18T19:19:57.363179",
     "status": "completed"
    },
    "tags": []
   },
   "source": [
    "# Save config"
   ]
  },
  {
   "cell_type": "code",
   "execution_count": 6,
   "id": "2fd7a35a-cdb9-477d-9ede-6261a242e1da",
   "metadata": {
    "execution": {
     "iopub.execute_input": "2024-02-18T19:19:57.389807Z",
     "iopub.status.busy": "2024-02-18T19:19:57.389153Z",
     "iopub.status.idle": "2024-02-18T19:19:57.459390Z",
     "shell.execute_reply": "2024-02-18T19:19:57.458791Z"
    },
    "papermill": {
     "duration": 0.083083,
     "end_time": "2024-02-18T19:19:57.460649",
     "exception": false,
     "start_time": "2024-02-18T19:19:57.377566",
     "status": "completed"
    },
    "tags": []
   },
   "outputs": [
    {
     "name": "stdout",
     "output_type": "stream",
     "text": [
      "random_seed: 775418045\n"
     ]
    }
   ],
   "source": [
    "with h5.File(proc_path, 'r') as f:\n",
    "    random_seed = f['config/default_random_seed'][()]\n",
    "    sacc_sel = f['saccade_selection/fixation_indices'][()]\n",
    "    unit_names = f['unit_selection/simple'][()].astype(str)\n",
    "fix_df = pd.read_hdf(proc_path, 'fixation_dataframe', 'r')\n",
    "\n",
    "print('random_seed:', random_seed)"
   ]
  },
  {
   "cell_type": "code",
   "execution_count": 7,
   "id": "7b1fec9f-dafe-4a78-b57d-dd407ccfe202",
   "metadata": {
    "execution": {
     "iopub.execute_input": "2024-02-18T19:19:57.468208Z",
     "iopub.status.busy": "2024-02-18T19:19:57.468006Z",
     "iopub.status.idle": "2024-02-18T19:19:57.471188Z",
     "shell.execute_reply": "2024-02-18T19:19:57.470644Z"
    },
    "papermill": {
     "duration": 0.010376,
     "end_time": "2024-02-18T19:19:57.474344",
     "exception": false,
     "start_time": "2024-02-18T19:19:57.463968",
     "status": "completed"
    },
    "tags": []
   },
   "outputs": [],
   "source": [
    "save_results, add_attr_to_dset, check_equals_saved, link_dsets, copy_group = \\\n",
    "    get_storage_functions(output_path)"
   ]
  },
  {
   "cell_type": "code",
   "execution_count": 8,
   "id": "5a00871c-e19c-4e6c-bbc4-a7bec3c1dd1d",
   "metadata": {
    "execution": {
     "iopub.execute_input": "2024-02-18T19:19:57.490280Z",
     "iopub.status.busy": "2024-02-18T19:19:57.489995Z",
     "iopub.status.idle": "2024-02-18T19:19:57.549554Z",
     "shell.execute_reply": "2024-02-18T19:19:57.532652Z"
    },
    "papermill": {
     "duration": 0.070674,
     "end_time": "2024-02-18T19:19:57.553300",
     "exception": false,
     "start_time": "2024-02-18T19:19:57.482626",
     "status": "completed"
    },
    "tags": []
   },
   "outputs": [],
   "source": [
    "group = analysis_name + '/config/'\n",
    "save_results(group+'random_seed', random_seed)\n",
    "save_results(f'{group}/return_thres_options', np.array(return_thres_opts), attrs=dict(unit='dva'))\n",
    "save_results(f'{group}/exclude_same_trial', exclude_same_trial)\n",
    "\n",
    "group = analysis_name + '/config/time_windows/'\n",
    "save_results(group+'t_win', t_win)\n",
    "add_attr_to_dset(group, attrs=dict(unit='ms'))\n",
    "\n",
    "group = analysis_name + '/config/return_criterion/'\n",
    "save_results(f'{group}/return_thres_options', np.array(return_thres_opts), attrs=dict(unit='dva'))\n",
    "save_results(group+'min_sep', min_sep, attrs=dict(unit='dva'))\n",
    "save_results(group+'min_sep_win', min_sep_win, attrs=dict(unit='ms'))\n",
    "\n",
    "save_results(analysis_name+'/saccade_selection', sacc_sel)"
   ]
  },
  {
   "cell_type": "markdown",
   "id": "c5c29c11-21b5-4677-a066-75f19ec221c6",
   "metadata": {
    "papermill": {
     "duration": 0.00679,
     "end_time": "2024-02-18T19:19:57.569589",
     "exception": false,
     "start_time": "2024-02-18T19:19:57.562799",
     "status": "completed"
    },
    "tags": []
   },
   "source": [
    "# Find return pairs"
   ]
  },
  {
   "cell_type": "code",
   "execution_count": 9,
   "id": "705ab737-8e14-47ea-9fba-415c92b634b1",
   "metadata": {
    "execution": {
     "iopub.execute_input": "2024-02-18T19:19:57.580790Z",
     "iopub.status.busy": "2024-02-18T19:19:57.580575Z",
     "iopub.status.idle": "2024-02-18T19:19:57.588005Z",
     "shell.execute_reply": "2024-02-18T19:19:57.587456Z"
    },
    "papermill": {
     "duration": 0.016551,
     "end_time": "2024-02-18T19:19:57.591284",
     "exception": false,
     "start_time": "2024-02-18T19:19:57.574733",
     "status": "completed"
    },
    "tags": []
   },
   "outputs": [],
   "source": [
    "def decorrelate_return_pairs(return_pairs, cond='current', min_sep=min_sep, min_sep_win=min_sep_win, fix_df=fix_df):\n",
    "    decorr_win = 'current' if cond == 'previous' else 'previous'\n",
    "\n",
    "    iind_tr = fix_df.index.names.index('Trial')\n",
    "    iind_fix = fix_df.index.names.index('Fixation')\n",
    "\n",
    "    min_seps = np.full(len(return_pairs), np.inf)\n",
    "\n",
    "    for i, (i0_, i1_) in enumerate(return_pairs):\n",
    "        i0, i1 = sacc_sel[1,[i0_,i1_]]\n",
    "        itr0, itr1 = fix_df.index.get_level_values(iind_tr)[[i0,i1]]\n",
    "        tr0_fixs = fix_df.loc[(itr0, slice(None))]\n",
    "        tr1_fixs = fix_df.loc[(itr1, slice(None))]\n",
    "\n",
    "        # find any relevant fixations within min_sep window\n",
    "        if decorr_win == 'current':\n",
    "            ifix0, ifix1 = fix_df.index.get_level_values(iind_fix)[[i0,i1]]\n",
    "            t0, t1 = fix_df.iloc[[i0,i1]]['Time'].values\n",
    "\n",
    "            m0 = tr0_fixs.index >= ifix0\n",
    "            if not m0.any(): continue\n",
    "            m0[m0] = tr0_fixs.loc[m0, 'Time'] <= (t0 + min_sep_win)\n",
    "            if not m0.any(): continue\n",
    "\n",
    "            m1 = tr1_fixs.index >= ifix1\n",
    "            if not m1.any(): continue\n",
    "            m1[m1] = tr1_fixs.loc[m1, 'Time'] <= (t1 + min_sep_win)\n",
    "            if not m1.any(): continue\n",
    "\n",
    "        else:\n",
    "            i0, i1 = sacc_sel[0,[i0_,i1_]]\n",
    "            ifix0, ifix1 = fix_df.index.get_level_values(iind_fix)[[i0,i1]]\n",
    "            t0, t1 = fix_df.iloc[[i0,i1]]['End time'].values\n",
    "\n",
    "            m0 = tr0_fixs.index <= ifix0\n",
    "            if not m0.any(): continue\n",
    "            m0[m0] = tr0_fixs.loc[m0, 'End time'].values > (t0 - min_sep_win)\n",
    "            if not m0.any(): continue\n",
    "\n",
    "            m1 = tr1_fixs.index <= ifix1\n",
    "            if not m1.any(): continue\n",
    "            m1[m1] = tr1_fixs.loc[m1, 'End time'].values > (t1 - min_sep_win)\n",
    "            if not m1.any(): continue\n",
    "\n",
    "        pwd = np.linalg.norm(\n",
    "            tr0_fixs.loc[m0, ['Relative X', 'Relative Y']].values[:,None,:]\n",
    "            - tr1_fixs.loc[m1, ['Relative X', 'Relative Y']].values[None,:,:],\n",
    "            axis=-1)\n",
    "        min_seps[i] = pwd.min()\n",
    "\n",
    "    return return_pairs[min_seps >= min_sep]"
   ]
  },
  {
   "cell_type": "code",
   "execution_count": 10,
   "id": "85af4559-ca65-49fa-970e-adddd42401aa",
   "metadata": {
    "execution": {
     "iopub.execute_input": "2024-02-18T19:19:57.609793Z",
     "iopub.status.busy": "2024-02-18T19:19:57.609428Z",
     "iopub.status.idle": "2024-02-18T19:20:22.955900Z",
     "shell.execute_reply": "2024-02-18T19:20:22.955320Z"
    },
    "papermill": {
     "duration": 25.356482,
     "end_time": "2024-02-18T19:20:22.957948",
     "exception": false,
     "start_time": "2024-02-18T19:19:57.601466",
     "status": "completed"
    },
    "tags": []
   },
   "outputs": [
    {
     "name": "stdout",
     "output_type": "stream",
     "text": [
      "return_thres: 2^4.0;\treturn pairs: (13847, 2);\t"
     ]
    },
    {
     "name": "stdout",
     "output_type": "stream",
     "text": [
      "decorrelated: (8787, 2);\texcluded same-trial: (4843, 2)\n"
     ]
    }
   ],
   "source": [
    "df_ = fix_df.iloc[sacc_sel[1]]\n",
    "imids = np.array([f'{v0}/{v1}' for v0, v1 in df_[['Image subdir', 'Image filename']].values])\n",
    "posns = df_[['Relative X', 'Relative Y']].values\n",
    "\n",
    "\n",
    "# first, find returns at the highst threshold; this is the superset of return pairs at all thresholds\n",
    "return_thres = np.max(return_thres_opts)\n",
    "return_pairs = find_return_fixations(imids, posns, thres_deg=return_thres)\n",
    "print(f'return_thres: 2^{np.log2(return_thres):.1f}', end=';\\t')\n",
    "print('return pairs:', return_pairs.shape, end=';\\t')\n",
    "\n",
    "if min_sep > 0:\n",
    "    return_pairs = decorrelate_return_pairs(return_pairs)\n",
    "    print(f'decorrelated:', return_pairs.shape, end=';\\t')\n",
    "\n",
    "if exclude_same_trial:\n",
    "    fix_itrs = fix_df.index.get_level_values(fix_df.index.names.index('Trial')).values[sacc_sel[1]]\n",
    "    m = fix_itrs[return_pairs[:,0]] != fix_itrs[return_pairs[:,1]]\n",
    "    return_pairs = return_pairs[m]\n",
    "    print('excluded same-trial:', return_pairs.shape, end='')\n",
    "\n",
    "print()\n",
    "all_return_pairs = return_pairs\n",
    "pwd = np.linalg.norm(posns[return_pairs[:,0]] - posns[return_pairs[:,1]], axis=1)\n",
    "\n",
    "\n",
    "# next, subselect pairs per threshold\n",
    "bycond_return_pairs = {}\n",
    "bycond_pairs_subsel = {}\n",
    "for return_thres in return_thres_opts:\n",
    "    m = pwd <= return_thres\n",
    "    k = str(return_thres)\n",
    "    bycond_return_pairs[k] = return_pairs[m]\n",
    "    bycond_pairs_subsel[k] = m"
   ]
  },
  {
   "cell_type": "code",
   "execution_count": 11,
   "id": "cac2a8e5-5329-41df-8e9d-d7d7dbde0e6c",
   "metadata": {
    "execution": {
     "iopub.execute_input": "2024-02-18T19:20:22.978471Z",
     "iopub.status.busy": "2024-02-18T19:20:22.977945Z",
     "iopub.status.idle": "2024-02-18T19:20:23.028500Z",
     "shell.execute_reply": "2024-02-18T19:20:23.027903Z"
    },
    "papermill": {
     "duration": 0.069148,
     "end_time": "2024-02-18T19:20:23.030570",
     "exception": false,
     "start_time": "2024-02-18T19:20:22.961422",
     "status": "completed"
    },
    "tags": []
   },
   "outputs": [],
   "source": [
    "save_results(analysis_name+'/all_return_pairs', all_return_pairs)\n",
    "\n",
    "group = analysis_name + '/return_pairs_subset/'\n",
    "for cond, subsel in bycond_pairs_subsel.items():\n",
    "    save_results(group+cond, subsel)"
   ]
  },
  {
   "cell_type": "markdown",
   "id": "a7af17c0-7522-4240-95fa-2c66b681e974",
   "metadata": {
    "papermill": {
     "duration": 0.006051,
     "end_time": "2024-02-18T19:20:23.042925",
     "exception": false,
     "start_time": "2024-02-18T19:20:23.036874",
     "status": "completed"
    },
    "tags": []
   },
   "source": [
    "# Get fixation onset-aligned responses uaing latency per unit"
   ]
  },
  {
   "cell_type": "code",
   "execution_count": 12,
   "id": "eb1fe8bf-847e-406b-871f-26e83c80a7fb",
   "metadata": {
    "execution": {
     "iopub.execute_input": "2024-02-18T19:20:23.054397Z",
     "iopub.status.busy": "2024-02-18T19:20:23.053007Z",
     "iopub.status.idle": "2024-02-18T19:20:30.864651Z",
     "shell.execute_reply": "2024-02-18T19:20:30.863526Z"
    },
    "papermill": {
     "duration": 7.819904,
     "end_time": "2024-02-18T19:20:30.867790",
     "exception": false,
     "start_time": "2024-02-18T19:20:23.047886",
     "status": "completed"
    },
    "tags": []
   },
   "outputs": [],
   "source": [
    "with h5.File(rasters_path, 'r') as f:\n",
    "    all_unit_names = f['processing/ecephys/unit_names/unit_name'][()].astype(str)\n",
    "    all_unit_names = list(all_unit_names)\n",
    "    sel_ = np.array([all_unit_names.index(n) for n in unit_names])\n",
    "    rasters = f['processing/ecephys/rasters/data'][()][:,sel_]"
   ]
  },
  {
   "cell_type": "code",
   "execution_count": 13,
   "id": "f1ef1945-fb0f-4cbe-b53a-8d4ec6834c94",
   "metadata": {
    "execution": {
     "iopub.execute_input": "2024-02-18T19:20:30.895537Z",
     "iopub.status.busy": "2024-02-18T19:20:30.895013Z",
     "iopub.status.idle": "2024-02-18T19:20:30.978602Z",
     "shell.execute_reply": "2024-02-18T19:20:30.977481Z"
    },
    "papermill": {
     "duration": 0.101306,
     "end_time": "2024-02-18T19:20:30.980072",
     "exception": false,
     "start_time": "2024-02-18T19:20:30.878766",
     "status": "completed"
    },
    "tags": []
   },
   "outputs": [
    {
     "name": "stdout",
     "output_type": "stream",
     "text": [
      "Num units using RF fit from each source:\n",
      "\tSource\n",
      "\tArray                 29\n",
      "\tArray, across sess    40\n",
      "\tChannel               11\n",
      "\tUnit                  12\n"
     ]
    }
   ],
   "source": [
    "lat_df = pd.read_csv(latency_path).set_index('Session').loc[[sess_name]].set_index('Name')\n",
    "m = pd.Series(unit_names).isin(lat_df.index)\n",
    "assert m.all(), f'missing latency value for {(~m).sum()} of {m.size} units'\n",
    "assert not lat_df.index.has_duplicates\n",
    "\n",
    "lat_df = lat_df.loc[unit_names].reset_index()\n",
    "assert len(lat_df) == len(unit_names)\n",
    "lat_df['Index'] = np.arange(len(lat_df))\n",
    "lat_df['Latency'] = np.clip(lat_df['Latency'], 40, None)\n",
    "print('Num units using RF fit from each source:')\n",
    "print('\\t' + '\\n\\t'.join(str(lat_df.groupby('Source').count()['Latency']).split('\\n')[:-1]))"
   ]
  },
  {
   "cell_type": "code",
   "execution_count": 14,
   "id": "221b2c98-9ebd-487b-9b04-8b6932554661",
   "metadata": {
    "execution": {
     "iopub.execute_input": "2024-02-18T19:20:30.990028Z",
     "iopub.status.busy": "2024-02-18T19:20:30.989393Z",
     "iopub.status.idle": "2024-02-18T19:20:31.695642Z",
     "shell.execute_reply": "2024-02-18T19:20:31.694252Z"
    },
    "papermill": {
     "duration": 0.713777,
     "end_time": "2024-02-18T19:20:31.697246",
     "exception": false,
     "start_time": "2024-02-18T19:20:30.983469",
     "status": "completed"
    },
    "tags": []
   },
   "outputs": [
    {
     "data": {
      "text/plain": [
       "((4037, 92), dtype('float32'))"
      ]
     },
     "execution_count": 14,
     "metadata": {},
     "output_type": "execute_result"
    }
   ],
   "source": [
    "resps = np.empty((sacc_sel.shape[1], rasters.shape[1]), dtype=np.float32)\n",
    "t_win_ = np.array([0, t_win])\n",
    "lat_groups = [(dt, df_['Index'].values) for dt, df_ in lat_df.groupby('Latency')]\n",
    "for i, t in enumerate(fix_df.iloc[sacc_sel[1]]['Time'].values):\n",
    "    for dt, usel in lat_groups:\n",
    "        s = slice(*np.round(t+dt+t_win_).astype(int))\n",
    "        resps[i,usel] = rasters[s,usel].mean(0)\n",
    "\n",
    "resps.shape, resps.dtype"
   ]
  },
  {
   "cell_type": "code",
   "execution_count": 15,
   "id": "f615492a-e8ad-4732-9166-0cbb4f7e3bc8",
   "metadata": {
    "execution": {
     "iopub.execute_input": "2024-02-18T19:20:31.718072Z",
     "iopub.status.busy": "2024-02-18T19:20:31.717037Z",
     "iopub.status.idle": "2024-02-18T19:20:31.747764Z",
     "shell.execute_reply": "2024-02-18T19:20:31.746638Z"
    },
    "papermill": {
     "duration": 0.049484,
     "end_time": "2024-02-18T19:20:31.750327",
     "exception": false,
     "start_time": "2024-02-18T19:20:31.700843",
     "status": "completed"
    },
    "tags": []
   },
   "outputs": [],
   "source": [
    "lat_df.to_hdf(output_path, analysis_name+'/latency_per_unit', mode='a', format='table', complevel=9, complib='zlib')"
   ]
  },
  {
   "cell_type": "markdown",
   "id": "5e000f69-4a4f-41f6-97bf-1962a39f7931",
   "metadata": {
    "papermill": {
     "duration": 0.005039,
     "end_time": "2024-02-18T19:20:31.761297",
     "exception": false,
     "start_time": "2024-02-18T19:20:31.756258",
     "status": "completed"
    },
    "tags": []
   },
   "source": [
    "# Calculate return self-consistency (one-point)"
   ]
  },
  {
   "cell_type": "code",
   "execution_count": 16,
   "id": "6d70cc74-cc6d-4c9d-a7ff-ed149fb41fca",
   "metadata": {
    "execution": {
     "iopub.execute_input": "2024-02-18T19:20:31.771784Z",
     "iopub.status.busy": "2024-02-18T19:20:31.770973Z",
     "iopub.status.idle": "2024-02-18T19:20:43.613805Z",
     "shell.execute_reply": "2024-02-18T19:20:43.613112Z"
    },
    "papermill": {
     "duration": 11.850768,
     "end_time": "2024-02-18T19:20:43.616194",
     "exception": false,
     "start_time": "2024-02-18T19:20:31.765426",
     "status": "completed"
    },
    "tags": []
   },
   "outputs": [],
   "source": [
    "coords = (('unit', unit_names),)\n",
    "\n",
    "bycond_rsc_ds = {}\n",
    "for cond, pairs in bycond_return_pairs.items():\n",
    "    pairs = bycond_return_pairs[cond]\n",
    "    if len(pairs) > 1:\n",
    "        ds = pairwise_self_consistency(\n",
    "            pairs=pairs, resps=resps,\n",
    "            n_bootstraps=0, n_permutations=0,\n",
    "            random_seed=random_seed,\n",
    "            coords=coords)\n",
    "        ds = ds.assign(dict(n_pairs=len(pairs)))\n",
    "        bycond_rsc_ds[cond] = ds"
   ]
  },
  {
   "cell_type": "code",
   "execution_count": 17,
   "id": "6a1b6610-e3c2-4ba6-a309-568297b63011",
   "metadata": {
    "execution": {
     "iopub.execute_input": "2024-02-18T19:20:43.630053Z",
     "iopub.status.busy": "2024-02-18T19:20:43.629632Z",
     "iopub.status.idle": "2024-02-18T19:20:43.643556Z",
     "shell.execute_reply": "2024-02-18T19:20:43.643012Z"
    },
    "papermill": {
     "duration": 0.02192,
     "end_time": "2024-02-18T19:20:43.645009",
     "exception": false,
     "start_time": "2024-02-18T19:20:43.623089",
     "status": "completed"
    },
    "tags": []
   },
   "outputs": [],
   "source": [
    "# concat datasets along new dimension\n",
    "ks = np.array(list(bycond_rsc_ds.keys()))\n",
    "if len(ks):\n",
    "    idc = np.array(list(map(float, ks)))\n",
    "    so = np.argsort(idc)\n",
    "    idc = idc[so]\n",
    "    ks = ks[so]\n",
    "    dim = pd.Index(data=idc, name='return_thres')\n",
    "    dataset = xr.concat([bycond_rsc_ds[k] for k in ks], dim, coords='all')\n",
    "    dataset.attrs = {}\n",
    "else:\n",
    "    dataset = None"
   ]
  },
  {
   "cell_type": "code",
   "execution_count": 18,
   "id": "d65a935c-c099-42e7-aa4b-f8c338d8206b",
   "metadata": {
    "execution": {
     "iopub.execute_input": "2024-02-18T19:20:43.659462Z",
     "iopub.status.busy": "2024-02-18T19:20:43.658635Z",
     "iopub.status.idle": "2024-02-18T19:20:43.756109Z",
     "shell.execute_reply": "2024-02-18T19:20:43.755490Z"
    },
    "papermill": {
     "duration": 0.108708,
     "end_time": "2024-02-18T19:20:43.759198",
     "exception": false,
     "start_time": "2024-02-18T19:20:43.650490",
     "status": "completed"
    },
    "tags": []
   },
   "outputs": [],
   "source": [
    "loc = analysis_name + '/data'\n",
    "\n",
    "if dataset is not None:\n",
    "    q = lambda x: quantize(x, 3)\n",
    "    compr = dict(zlib=True, complevel=9)\n",
    "    k = 'sample'\n",
    "    dataset = dataset.assign({k: q(dataset.data_vars[k])})\n",
    "    encoding = {\n",
    "        k: dict(chunksizes=v.shape, **compr)\n",
    "        for k, v in dataset.data_vars.items()\n",
    "        if v.size}\n",
    "    dataset.to_netcdf(\n",
    "        output_path, group=loc, mode='a',\n",
    "        engine='h5netcdf', encoding=encoding)\n",
    "else:\n",
    "    save_results(loc, h5.Empty('f'))"
   ]
  },
  {
   "cell_type": "markdown",
   "id": "7fa9be60-8143-4c25-9acb-375b5d5ee10e",
   "metadata": {
    "papermill": {
     "duration": 0.007763,
     "end_time": "2024-02-18T19:20:43.778123",
     "exception": false,
     "start_time": "2024-02-18T19:20:43.770360",
     "status": "completed"
    },
    "tags": []
   },
   "source": [
    "# Wrap up"
   ]
  },
  {
   "cell_type": "code",
   "execution_count": 19,
   "id": "e641e878-8432-42a6-957b-21e1a410b3fd",
   "metadata": {
    "execution": {
     "iopub.execute_input": "2024-02-18T19:20:43.790374Z",
     "iopub.status.busy": "2024-02-18T19:20:43.789961Z",
     "iopub.status.idle": "2024-02-18T19:20:43.796497Z",
     "shell.execute_reply": "2024-02-18T19:20:43.795509Z"
    },
    "papermill": {
     "duration": 0.01595,
     "end_time": "2024-02-18T19:20:43.799438",
     "exception": false,
     "start_time": "2024-02-18T19:20:43.783488",
     "status": "completed"
    },
    "tags": []
   },
   "outputs": [],
   "source": [
    "save_results(f'progress_report/{analysis_name}/all_done', True)"
   ]
  },
  {
   "cell_type": "code",
   "execution_count": 20,
   "id": "7b3f87da-04c7-42e9-ac72-63c277b5282a",
   "metadata": {
    "execution": {
     "iopub.execute_input": "2024-02-18T19:20:43.819437Z",
     "iopub.status.busy": "2024-02-18T19:20:43.819112Z",
     "iopub.status.idle": "2024-02-18T19:20:43.853339Z",
     "shell.execute_reply": "2024-02-18T19:20:43.852067Z"
    },
    "papermill": {
     "duration": 0.045986,
     "end_time": "2024-02-18T19:20:43.856210",
     "exception": false,
     "start_time": "2024-02-18T19:20:43.810224",
     "status": "completed"
    },
    "tags": []
   },
   "outputs": [
    {
     "name": "stdout",
     "output_type": "stream",
     "text": [
      "Last updated: 2024-02-18T14:20:43.826901-05:00\n",
      "\n",
      "Python implementation: CPython\n",
      "Python version       : 3.10.12\n",
      "IPython version      : 8.12.0\n",
      "\n",
      "Compiler    : GCC 11.4.0\n",
      "OS          : Linux\n",
      "Release     : 5.15.0-92-generic\n",
      "Machine     : x86_64\n",
      "Processor   : x86_64\n",
      "CPU cores   : 20\n",
      "Architecture: 64bit\n",
      "\n",
      "Python implementation: CPython\n",
      "Python version       : 3.10.12\n",
      "IPython version      : 8.12.0\n",
      "\n",
      "Compiler    : GCC 11.4.0\n",
      "OS          : Linux\n",
      "Release     : 5.15.0-92-generic\n",
      "Machine     : x86_64\n",
      "Processor   : x86_64\n",
      "CPU cores   : 20\n",
      "Architecture: 64bit\n",
      "\n",
      "Git hash: b0bb10f45dee065cc3af96fe224326b883d27431\n",
      "\n",
      "Git repo: https://github.com/willwx/free_viewing_staging.git\n",
      "\n",
      "Git branch: master\n",
      "\n",
      "sys   : 3.10.12 (main, Nov 20 2023, 15:14:05) [GCC 11.4.0]\n",
      "pandas: 2.0.1\n",
      "xarray: 2023.4.2\n",
      "numpy : 1.24.3\n",
      "h5py  : 3.8.0\n",
      "\n"
     ]
    }
   ],
   "source": [
    "%load_ext watermark\n",
    "%watermark\n",
    "%watermark -vm --iversions -rbg"
   ]
  },
  {
   "cell_type": "markdown",
   "id": "59467d70-20d4-406f-be54-ad42421467fc",
   "metadata": {
    "papermill": {
     "duration": 0.00853,
     "end_time": "2024-02-18T19:20:43.876427",
     "exception": false,
     "start_time": "2024-02-18T19:20:43.867897",
     "status": "completed"
    },
    "tags": []
   },
   "source": [
    "# Plots"
   ]
  },
  {
   "cell_type": "code",
   "execution_count": 21,
   "id": "acb46fb0-4641-412c-8bc6-cfabd2d5e987",
   "metadata": {
    "execution": {
     "iopub.execute_input": "2024-02-18T19:20:43.890847Z",
     "iopub.status.busy": "2024-02-18T19:20:43.889655Z",
     "iopub.status.idle": "2024-02-18T19:20:44.182112Z",
     "shell.execute_reply": "2024-02-18T19:20:44.181467Z"
    },
    "papermill": {
     "duration": 0.30055,
     "end_time": "2024-02-18T19:20:44.183633",
     "exception": false,
     "start_time": "2024-02-18T19:20:43.883083",
     "status": "completed"
    },
    "tags": []
   },
   "outputs": [],
   "source": [
    "import matplotlib.pyplot as plt"
   ]
  },
  {
   "cell_type": "code",
   "execution_count": 22,
   "id": "e8ce9e59-0ae9-4e24-b484-6102814d6829",
   "metadata": {
    "execution": {
     "iopub.execute_input": "2024-02-18T19:20:44.192384Z",
     "iopub.status.busy": "2024-02-18T19:20:44.191995Z",
     "iopub.status.idle": "2024-02-18T19:20:44.496426Z",
     "shell.execute_reply": "2024-02-18T19:20:44.495858Z"
    },
    "papermill": {
     "duration": 0.313242,
     "end_time": "2024-02-18T19:20:44.500547",
     "exception": false,
     "start_time": "2024-02-18T19:20:44.187305",
     "status": "completed"
    },
    "tags": []
   },
   "outputs": [
    {
     "data": {
      "image/png": "[encoded data removed]",
      "text/plain": [
       "<Figure size 640x480 with 1 Axes>"
      ]
     },
     "metadata": {},
     "output_type": "display_data"
    }
   ],
   "source": [
    "if dataset is not None:\n",
    "    vs = dataset['sample'].values\n",
    "    m = np.nanmedian(vs, axis=1)\n",
    "    s = np.nanmedian(np.abs(vs - m[:,None]))\n",
    "    x = dataset['return_thres'].values\n",
    "    plt.plot(x, m, '.-')\n",
    "    plt.fill_between(x, m-s, m+s, alpha=0.2);\n",
    "    plt.xscale('log', base=2)\n",
    "    plt.xlabel('Return fixation threshold, dva')\n",
    "    plt.ylabel('Self-consistency, Pearson\\'s r')"
   ]
  },
  {
   "cell_type": "code",
   "execution_count": 23,
   "id": "c05e8b80-7788-4b21-8a3d-e958dc1c3fe6",
   "metadata": {
    "execution": {
     "iopub.execute_input": "2024-02-18T19:20:44.520373Z",
     "iopub.status.busy": "2024-02-18T19:20:44.519995Z",
     "iopub.status.idle": "2024-02-18T19:20:44.762794Z",
     "shell.execute_reply": "2024-02-18T19:20:44.762336Z"
    },
    "papermill": {
     "duration": 0.255474,
     "end_time": "2024-02-18T19:20:44.766814",
     "exception": false,
     "start_time": "2024-02-18T19:20:44.511340",
     "status": "completed"
    },
    "tags": []
   },
   "outputs": [
    {
     "data": {
      "image/png": "[encoded data removed]",
      "text/plain": [
       "<Figure size 640x480 with 1 Axes>"
      ]
     },
     "metadata": {},
     "output_type": "display_data"
    }
   ],
   "source": [
    "if dataset is not None:\n",
    "    m = dataset['n_pairs'].values\n",
    "    x = dataset['return_thres'].values\n",
    "    plt.plot(x, m, '.-')\n",
    "    plt.xscale('log', base=2)\n",
    "    plt.yscale('log')\n",
    "    plt.xlabel('Return fixation threshold, dva')\n",
    "    plt.ylabel('Num. return pairs')"
   ]
  }
 ],
 "metadata": {
  "kernelspec": {
   "display_name": "Python 3 (ipykernel)",
   "language": "python",
   "name": "python3"
  },
  "language_info": {
   "codemirror_mode": {
    "name": "ipython",
    "version": 3
   },
   "file_extension": ".py",
   "mimetype": "text/x-python",
   "name": "python",
   "nbconvert_exporter": "python",
   "pygments_lexer": "ipython3",
   "version": "3.10.12"
  },
  "papermill": {
   "default_parameters": {},
   "duration": 49.914597,
   "end_time": "2024-02-18T19:20:45.604483",
   "environment_variables": {},
   "exception": null,
   "input_path": "script_2e_rsc_precision.ipynb",
   "output_path": "../test_results/log_2e_rsc_precision-Pa210201.ipynb",
   "parameters": {
    "output_dir": "../test_results",
    "sess_name": "Pa210201"
   },
   "start_time": "2024-02-18T19:19:55.689886",
   "version": "2.5.0"
  }
 },
 "nbformat": 4,
 "nbformat_minor": 5
}