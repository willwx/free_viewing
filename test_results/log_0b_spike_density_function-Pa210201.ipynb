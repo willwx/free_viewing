{
 "cells": [
  {
   "cell_type": "code",
   "execution_count": 1,
   "id": "a3a3b49b-69c8-4eda-81e2-1682530f1acf",
   "metadata": {
    "execution": {
     "iopub.execute_input": "2024-02-18T19:22:52.411064Z",
     "iopub.status.busy": "2024-02-18T19:22:52.410410Z",
     "iopub.status.idle": "2024-02-18T19:22:52.652920Z",
     "shell.execute_reply": "2024-02-18T19:22:52.652420Z"
    },
    "papermill": {
     "duration": 0.252623,
     "end_time": "2024-02-18T19:22:52.654625",
     "exception": false,
     "start_time": "2024-02-18T19:22:52.402002",
     "status": "completed"
    },
    "tags": []
   },
   "outputs": [],
   "source": [
    "import sys\n",
    "import time\n",
    "from pathlib import Path\n",
    "\n",
    "import h5py as h5\n",
    "import numpy as np\n",
    "from scipy.ndimage import uniform_filter1d\n",
    "\n",
    "sys.path.append('../lib')\n",
    "from storage import get_storage_functions\n",
    "from local_paths import preproc_dir"
   ]
  },
  {
   "cell_type": "code",
   "execution_count": 2,
   "id": "fe57f59c-1904-4bcc-82eb-d4750f2bacba",
   "metadata": {
    "execution": {
     "iopub.execute_input": "2024-02-18T19:22:52.662905Z",
     "iopub.status.busy": "2024-02-18T19:22:52.662157Z",
     "iopub.status.idle": "2024-02-18T19:22:52.667425Z",
     "shell.execute_reply": "2024-02-18T19:22:52.666570Z"
    },
    "papermill": {
     "duration": 0.0114,
     "end_time": "2024-02-18T19:22:52.669557",
     "exception": false,
     "start_time": "2024-02-18T19:22:52.658157",
     "status": "completed"
    },
    "tags": [
     "parameters"
    ]
   },
   "outputs": [],
   "source": [
    "#============================================================================\n",
    "# session\n",
    "#============================================================================\n",
    "sess_name = 'sess_name'\n",
    "\n",
    "#============================================================================\n",
    "# main\n",
    "#============================================================================\n",
    "sdf_method = 'mwa'  # moving window average\n",
    "sdf_window = 50     # ms\n",
    "\n",
    "#============================================================================\n",
    "# paths\n",
    "#============================================================================\n",
    "proc_dir   = preproc_dir\n",
    "output_dir = preproc_dir"
   ]
  },
  {
   "cell_type": "code",
   "execution_count": 3,
   "id": "276767fb",
   "metadata": {
    "execution": {
     "iopub.execute_input": "2024-02-18T19:22:52.675987Z",
     "iopub.status.busy": "2024-02-18T19:22:52.675218Z",
     "iopub.status.idle": "2024-02-18T19:22:52.679680Z",
     "shell.execute_reply": "2024-02-18T19:22:52.678875Z"
    },
    "papermill": {
     "duration": 0.009449,
     "end_time": "2024-02-18T19:22:52.681178",
     "exception": false,
     "start_time": "2024-02-18T19:22:52.671729",
     "status": "completed"
    },
    "tags": [
     "injected-parameters"
    ]
   },
   "outputs": [],
   "source": [
    "# Parameters\n",
    "sess_name = \"Pa210201\"\n",
    "sdf_window = 1\n"
   ]
  },
  {
   "cell_type": "markdown",
   "id": "351f2f38-6923-4868-ae55-8bc03725610c",
   "metadata": {
    "papermill": {
     "duration": 0.002132,
     "end_time": "2024-02-18T19:22:52.685395",
     "exception": false,
     "start_time": "2024-02-18T19:22:52.683263",
     "status": "completed"
    },
    "tags": []
   },
   "source": [
    "# Check parameters and whether already done"
   ]
  },
  {
   "cell_type": "code",
   "execution_count": 4,
   "id": "043b4ab5-77d5-43b1-9e85-e44dae16e05d",
   "metadata": {
    "execution": {
     "iopub.execute_input": "2024-02-18T19:22:52.691945Z",
     "iopub.status.busy": "2024-02-18T19:22:52.691458Z",
     "iopub.status.idle": "2024-02-18T19:22:52.701231Z",
     "shell.execute_reply": "2024-02-18T19:22:52.700415Z"
    },
    "papermill": {
     "duration": 0.016858,
     "end_time": "2024-02-18T19:22:52.704389",
     "exception": false,
     "start_time": "2024-02-18T19:22:52.687531",
     "status": "completed"
    },
    "tags": []
   },
   "outputs": [
    {
     "name": "stdout",
     "output_type": "stream",
     "text": [
      "Loading rasters from ../test_data/Pa210201-rasters.nwb\n",
      "Loading shared processing from ../test_data/Pa210201-proc.h5\n",
      "Saving results to ../test_data/Pa210201-sdf-mwa_1.h5\n"
     ]
    }
   ],
   "source": [
    "rasters_path = Path(proc_dir) / (sess_name + '-rasters.nwb')\n",
    "print('Loading rasters from', rasters_path)\n",
    "rasters_path = rasters_path.expanduser()\n",
    "assert rasters_path.is_file()\n",
    "\n",
    "proc_path = Path(proc_dir) / (sess_name + '-proc.h5')\n",
    "print('Loading shared processing from', proc_path)\n",
    "proc_path = proc_path.expanduser()\n",
    "assert proc_path.is_file()\n",
    "\n",
    "assert sdf_method == 'mwa'  # only using mwa, but can implement others like gaussian filtering\n",
    "\n",
    "output_dir = Path(output_dir)\n",
    "assert output_dir.expanduser().is_dir()\n",
    "output_path = output_dir / (sess_name + f'-sdf-{sdf_method}_{sdf_window}.h5')\n",
    "print('Saving results to', output_path)\n",
    "output_path = output_path.expanduser()"
   ]
  },
  {
   "cell_type": "code",
   "execution_count": 5,
   "id": "4cb64951-a33c-41d8-b242-d5c75bd58a90",
   "metadata": {
    "execution": {
     "iopub.execute_input": "2024-02-18T19:22:52.714190Z",
     "iopub.status.busy": "2024-02-18T19:22:52.713855Z",
     "iopub.status.idle": "2024-02-18T19:22:52.720217Z",
     "shell.execute_reply": "2024-02-18T19:22:52.719182Z"
    },
    "papermill": {
     "duration": 0.01416,
     "end_time": "2024-02-18T19:22:52.723084",
     "exception": false,
     "start_time": "2024-02-18T19:22:52.708924",
     "status": "completed"
    },
    "tags": []
   },
   "outputs": [],
   "source": [
    "if output_path.is_file():\n",
    "    with h5.File(output_path, 'r') as f:\n",
    "        try:\n",
    "            if f['progress_report/sdf/all_done'][()].item():\n",
    "                raise RuntimeError(f'{sess_name} has already been processed')\n",
    "        except KeyError:\n",
    "            pass"
   ]
  },
  {
   "cell_type": "code",
   "execution_count": 6,
   "id": "a779bf63-3446-4291-85b2-68018aeadda4",
   "metadata": {
    "execution": {
     "iopub.execute_input": "2024-02-18T19:22:52.735345Z",
     "iopub.status.busy": "2024-02-18T19:22:52.734857Z",
     "iopub.status.idle": "2024-02-18T19:22:52.740939Z",
     "shell.execute_reply": "2024-02-18T19:22:52.739651Z"
    },
    "papermill": {
     "duration": 0.015508,
     "end_time": "2024-02-18T19:22:52.743488",
     "exception": false,
     "start_time": "2024-02-18T19:22:52.727980",
     "status": "completed"
    },
    "tags": []
   },
   "outputs": [],
   "source": [
    "save_results, add_attr_to_dset, check_equals_saved, link_dsets, copy_group = \\\n",
    "    get_storage_functions(output_path)"
   ]
  },
  {
   "cell_type": "code",
   "execution_count": 7,
   "id": "32d75c24-76ed-4d1c-9cff-603836f9d0c8",
   "metadata": {
    "execution": {
     "iopub.execute_input": "2024-02-18T19:22:52.754226Z",
     "iopub.status.busy": "2024-02-18T19:22:52.753713Z",
     "iopub.status.idle": "2024-02-18T19:22:52.763571Z",
     "shell.execute_reply": "2024-02-18T19:22:52.762679Z"
    },
    "papermill": {
     "duration": 0.018707,
     "end_time": "2024-02-18T19:22:52.766530",
     "exception": false,
     "start_time": "2024-02-18T19:22:52.747823",
     "status": "completed"
    },
    "tags": []
   },
   "outputs": [],
   "source": [
    "save_results('config/sdf/method', sdf_method)\n",
    "save_results('config/sdf/window', sdf_window, attrs=dict(unit='ms'))"
   ]
  },
  {
   "cell_type": "markdown",
   "id": "02444a3c-a584-426f-bc34-6d2ecb4fe0ad",
   "metadata": {
    "papermill": {
     "duration": 0.005163,
     "end_time": "2024-02-18T19:22:52.777970",
     "exception": false,
     "start_time": "2024-02-18T19:22:52.772807",
     "status": "completed"
    },
    "tags": []
   },
   "source": [
    "# Main"
   ]
  },
  {
   "cell_type": "code",
   "execution_count": 8,
   "id": "01375fa0-8711-45d8-9010-d09289cc5f8e",
   "metadata": {
    "execution": {
     "iopub.execute_input": "2024-02-18T19:22:52.787621Z",
     "iopub.status.busy": "2024-02-18T19:22:52.786912Z",
     "iopub.status.idle": "2024-02-18T19:23:00.554138Z",
     "shell.execute_reply": "2024-02-18T19:23:00.553157Z"
    },
    "papermill": {
     "duration": 7.775636,
     "end_time": "2024-02-18T19:23:00.557315",
     "exception": false,
     "start_time": "2024-02-18T19:22:52.781679",
     "status": "completed"
    },
    "tags": []
   },
   "outputs": [],
   "source": [
    "with h5.File(rasters_path, 'r') as f:\n",
    "    all_unit_names = f['processing/ecephys/unit_names/unit_name'][()].astype(str)\n",
    "with h5.File(proc_path, 'r') as f:\n",
    "    unit_names = f['unit_selection/simple'][()].astype(str)\n",
    "unexpected_units = set(unit_names) - set(all_unit_names)\n",
    "assert not len(unexpected_units), f'got {len(unexpected_units)} units in shared processing file absent from rasters data'\n",
    "unit_sel = np.array([v in unit_names for v in all_unit_names])\n",
    "unit_sel = np.nonzero(unit_sel)[0]\n",
    "\n",
    "with h5.File(rasters_path, 'r') as f:\n",
    "    rasters = f['processing/ecephys/rasters/data'][()]\n",
    "rasters = rasters[:,unit_sel]"
   ]
  },
  {
   "cell_type": "code",
   "execution_count": 9,
   "id": "30ff3dfd-6a70-4a45-a260-cf3ab9c52866",
   "metadata": {
    "execution": {
     "iopub.execute_input": "2024-02-18T19:23:00.579486Z",
     "iopub.status.busy": "2024-02-18T19:23:00.579083Z",
     "iopub.status.idle": "2024-02-18T19:23:01.127387Z",
     "shell.execute_reply": "2024-02-18T19:23:01.126824Z"
    },
    "papermill": {
     "duration": 0.566469,
     "end_time": "2024-02-18T19:23:01.129851",
     "exception": false,
     "start_time": "2024-02-18T19:23:00.563382",
     "status": "completed"
    },
    "tags": []
   },
   "outputs": [
    {
     "name": "stdout",
     "output_type": "stream",
     "text": [
      "spike density function: (6234150, 92) float32\n"
     ]
    }
   ],
   "source": [
    "sdf = rasters.astype(np.float32) * 1e3\n",
    "if sdf_window == 1:\n",
    "    pass\n",
    "else:\n",
    "    print(f'calculating sdf with a {sdf_window} ms moving average window...', end=' ')\n",
    "    t0 = time.time()\n",
    "    sdf = uniform_filter1d(sdf, sdf_window, axis=0)\n",
    "    print(f'done ({time.time()-t0:.1f} s)')\n",
    "    print()\n",
    "\n",
    "print('spike density function:', sdf.shape, sdf.dtype)"
   ]
  },
  {
   "cell_type": "code",
   "execution_count": 10,
   "id": "042f3388-a402-427d-8d02-83ddbcf7419f",
   "metadata": {
    "execution": {
     "iopub.execute_input": "2024-02-18T19:23:01.147588Z",
     "iopub.status.busy": "2024-02-18T19:23:01.147347Z",
     "iopub.status.idle": "2024-02-18T19:23:25.612229Z",
     "shell.execute_reply": "2024-02-18T19:23:25.611622Z"
    },
    "papermill": {
     "duration": 24.482163,
     "end_time": "2024-02-18T19:23:25.614058",
     "exception": false,
     "start_time": "2024-02-18T19:23:01.131895",
     "status": "completed"
    },
    "tags": []
   },
   "outputs": [],
   "source": [
    "save_results('sdf', sdf, attrs=dict(\n",
    "    unit_names=unit_names.astype(bytes),\n",
    "    unit='spikes/s',\n",
    "    smoothing_method=sdf_method,\n",
    "    smoothing_window=sdf_window))"
   ]
  },
  {
   "cell_type": "markdown",
   "id": "ca012873-d3b3-4c3c-a9c7-87813a28fed7",
   "metadata": {
    "papermill": {
     "duration": 0.008984,
     "end_time": "2024-02-18T19:23:25.625193",
     "exception": false,
     "start_time": "2024-02-18T19:23:25.616209",
     "status": "completed"
    },
    "tags": []
   },
   "source": [
    "# Wrap up"
   ]
  },
  {
   "cell_type": "code",
   "execution_count": 11,
   "id": "1bf40eea-339a-45be-9dd9-13ac8741ad4b",
   "metadata": {
    "execution": {
     "iopub.execute_input": "2024-02-18T19:23:25.632604Z",
     "iopub.status.busy": "2024-02-18T19:23:25.632237Z",
     "iopub.status.idle": "2024-02-18T19:23:25.636814Z",
     "shell.execute_reply": "2024-02-18T19:23:25.636062Z"
    },
    "papermill": {
     "duration": 0.013097,
     "end_time": "2024-02-18T19:23:25.642142",
     "exception": false,
     "start_time": "2024-02-18T19:23:25.629045",
     "status": "completed"
    },
    "tags": []
   },
   "outputs": [],
   "source": [
    "save_results(f'progress_report/sdf/all_done', True)"
   ]
  },
  {
   "cell_type": "code",
   "execution_count": 12,
   "id": "ebcc6a9e-8226-438e-9337-d46eae7ce37c",
   "metadata": {
    "execution": {
     "iopub.execute_input": "2024-02-18T19:23:25.662609Z",
     "iopub.status.busy": "2024-02-18T19:23:25.661159Z",
     "iopub.status.idle": "2024-02-18T19:23:25.695898Z",
     "shell.execute_reply": "2024-02-18T19:23:25.695134Z"
    },
    "papermill": {
     "duration": 0.04465,
     "end_time": "2024-02-18T19:23:25.698097",
     "exception": false,
     "start_time": "2024-02-18T19:23:25.653447",
     "status": "completed"
    },
    "tags": []
   },
   "outputs": [
    {
     "name": "stdout",
     "output_type": "stream",
     "text": [
      "Python implementation: CPython\n",
      "Python version       : 3.10.12\n",
      "IPython version      : 8.12.0\n",
      "\n",
      "Compiler    : GCC 11.4.0\n",
      "OS          : Linux\n",
      "Release     : 5.15.0-92-generic\n",
      "Machine     : x86_64\n",
      "Processor   : x86_64\n",
      "CPU cores   : 20\n",
      "Architecture: 64bit\n",
      "\n",
      "Git hash: b0bb10f45dee065cc3af96fe224326b883d27431\n",
      "\n",
      "Git repo: https://github.com/willwx/free_viewing_staging.git\n",
      "\n",
      "Git branch: master\n",
      "\n",
      "sys  : 3.10.12 (main, Nov 20 2023, 15:14:05) [GCC 11.4.0]\n",
      "numpy: 1.24.3\n",
      "h5py : 3.8.0\n",
      "\n"
     ]
    }
   ],
   "source": [
    "%load_ext watermark\n",
    "%watermark -vm --iversions -rbg"
   ]
  }
 ],
 "metadata": {
  "kernelspec": {
   "display_name": "Python 3 (ipykernel)",
   "language": "python",
   "name": "python3"
  },
  "language_info": {
   "codemirror_mode": {
    "name": "ipython",
    "version": 3
   },
   "file_extension": ".py",
   "mimetype": "text/x-python",
   "name": "python",
   "nbconvert_exporter": "python",
   "pygments_lexer": "ipython3",
   "version": "3.10.12"
  },
  "papermill": {
   "default_parameters": {},
   "duration": 34.627335,
   "end_time": "2024-02-18T19:23:25.919018",
   "environment_variables": {},
   "exception": null,
   "input_path": "script_0b_spike_density_function.ipynb",
   "output_path": "../test_results/log_0b_spike_density_function-Pa210201.ipynb",
   "parameters": {
    "sdf_window": 1,
    "sess_name": "Pa210201"
   },
   "start_time": "2024-02-18T19:22:51.291683",
   "version": "2.5.0"
  }
 },
 "nbformat": 4,
 "nbformat_minor": 5
}