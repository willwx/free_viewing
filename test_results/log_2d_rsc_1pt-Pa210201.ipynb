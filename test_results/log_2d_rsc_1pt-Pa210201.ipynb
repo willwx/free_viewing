{
 "cells": [
  {
   "cell_type": "code",
   "execution_count": 1,
   "id": "b160df3e-1967-4335-8846-a4762f65b244",
   "metadata": {
    "execution": {
     "iopub.execute_input": "2024-02-18T19:13:14.390818Z",
     "iopub.status.busy": "2024-02-18T19:13:14.390293Z",
     "iopub.status.idle": "2024-02-18T19:13:14.996559Z",
     "shell.execute_reply": "2024-02-18T19:13:14.996064Z"
    },
    "papermill": {
     "duration": 0.620428,
     "end_time": "2024-02-18T19:13:14.998008",
     "exception": false,
     "start_time": "2024-02-18T19:13:14.377580",
     "status": "completed"
    },
    "tags": []
   },
   "outputs": [],
   "source": [
    "import sys\n",
    "from pathlib import Path\n",
    "\n",
    "import h5py as h5\n",
    "import numpy as np\n",
    "import pandas as pd\n",
    "\n",
    "sys.path.append('../lib')\n",
    "from storage import get_storage_functions, quantize\n",
    "from local_paths import preproc_dir, analysis_dir, database_dir\n",
    "from self_consistency import \\\n",
    "    find_return_fixations, pairwise_self_consistency, \\\n",
    "    pairwise_self_consistency_perm_test"
   ]
  },
  {
   "cell_type": "markdown",
   "id": "3e140cdf-f8bb-473d-8735-5184a9a4728c",
   "metadata": {
    "papermill": {
     "duration": 0.0141,
     "end_time": "2024-02-18T19:13:15.015352",
     "exception": false,
     "start_time": "2024-02-18T19:13:15.001252",
     "status": "completed"
    },
    "tags": []
   },
   "source": [
    "# Set parameters"
   ]
  },
  {
   "cell_type": "code",
   "execution_count": 2,
   "id": "6665fa7b-eb3d-4e06-97ce-d977627e2599",
   "metadata": {
    "execution": {
     "iopub.execute_input": "2024-02-18T19:13:15.024380Z",
     "iopub.status.busy": "2024-02-18T19:13:15.023936Z",
     "iopub.status.idle": "2024-02-18T19:13:15.031003Z",
     "shell.execute_reply": "2024-02-18T19:13:15.029021Z"
    },
    "papermill": {
     "duration": 0.013742,
     "end_time": "2024-02-18T19:13:15.032739",
     "exception": false,
     "start_time": "2024-02-18T19:13:15.018997",
     "status": "completed"
    },
    "tags": [
     "parameters"
    ]
   },
   "outputs": [],
   "source": [
    "#============================================================================\n",
    "# session\n",
    "#============================================================================\n",
    "sess_name = 'sess_name'\n",
    "\n",
    "\n",
    "#============================================================================\n",
    "# response windows\n",
    "#============================================================================\n",
    "t_win = 200\n",
    "\n",
    "\n",
    "#============================================================================\n",
    "# fixation/saccade selection\n",
    "#============================================================================\n",
    "# fixation criteria\n",
    "ifix_sel = 2  # 0 = zeroth-fix only; 1 = non-zeroth-fix only; otherwise = both\n",
    "\n",
    "\n",
    "#============================================================================\n",
    "# return fixation selection\n",
    "#============================================================================\n",
    "return_thres = 1  # for defining \"return fixation\"; can set to typical radius of rf\n",
    "\n",
    "\n",
    "#============================================================================\n",
    "# statistical tests\n",
    "#============================================================================\n",
    "stat_tests      = (('current', 'same_image', 'greater'),)\n",
    "n_perm          = 10000\n",
    "save_perm_diffs = False  # whether to save permuted delta effect sizes\n",
    "\n",
    "\n",
    "#============================================================================\n",
    "# paths\n",
    "#============================================================================\n",
    "proc_dir = preproc_dir\n",
    "latency_path = database_dir + 'per_unit_latency-fix_on.csv.gz'\n",
    "output_dir = analysis_dir + 'rsc_1pt'"
   ]
  },
  {
   "cell_type": "code",
   "execution_count": 3,
   "id": "a1e4b34e",
   "metadata": {
    "execution": {
     "iopub.execute_input": "2024-02-18T19:13:15.042414Z",
     "iopub.status.busy": "2024-02-18T19:13:15.041932Z",
     "iopub.status.idle": "2024-02-18T19:13:15.047647Z",
     "shell.execute_reply": "2024-02-18T19:13:15.046406Z"
    },
    "papermill": {
     "duration": 0.014233,
     "end_time": "2024-02-18T19:13:15.050746",
     "exception": false,
     "start_time": "2024-02-18T19:13:15.036513",
     "status": "completed"
    },
    "tags": [
     "injected-parameters"
    ]
   },
   "outputs": [],
   "source": [
    "# Parameters\n",
    "sess_name = \"Pa210201\"\n",
    "output_dir = \"../test_results\"\n"
   ]
  },
  {
   "cell_type": "markdown",
   "id": "bde34193-e22c-4a85-a259-6b9aa595e8da",
   "metadata": {
    "papermill": {
     "duration": 0.008732,
     "end_time": "2024-02-18T19:13:15.069597",
     "exception": false,
     "start_time": "2024-02-18T19:13:15.060865",
     "status": "completed"
    },
    "tags": []
   },
   "source": [
    "# Check prereqs and params"
   ]
  },
  {
   "cell_type": "code",
   "execution_count": 4,
   "id": "f7ed4397-6992-49f9-ae8d-b1b3348cbbe8",
   "metadata": {
    "execution": {
     "iopub.execute_input": "2024-02-18T19:13:15.082866Z",
     "iopub.status.busy": "2024-02-18T19:13:15.082353Z",
     "iopub.status.idle": "2024-02-18T19:13:15.094244Z",
     "shell.execute_reply": "2024-02-18T19:13:15.093049Z"
    },
    "papermill": {
     "duration": 0.021444,
     "end_time": "2024-02-18T19:13:15.097467",
     "exception": false,
     "start_time": "2024-02-18T19:13:15.076023",
     "status": "completed"
    },
    "tags": []
   },
   "outputs": [
    {
     "name": "stdout",
     "output_type": "stream",
     "text": [
      "Loading shared processing from ../test_data/Pa210201-proc.h5\n",
      "Loading rasters from ../test_data/Pa210201-rasters.nwb\n",
      "Using per-unit latency from ../db/per_unit_latency-fix_on.csv.gz\n",
      "Saving results to ../test_results/Pa210201.h5\n"
     ]
    }
   ],
   "source": [
    "proc_path = Path(proc_dir) / (sess_name + '-proc.h5')\n",
    "print('Loading shared processing from', proc_path)\n",
    "proc_path = proc_path.expanduser()\n",
    "assert proc_path.is_file()\n",
    "\n",
    "rasters_path = Path(proc_dir) / (sess_name + '-rasters.nwb')\n",
    "print('Loading rasters from', rasters_path)\n",
    "rasters_path = rasters_path.expanduser()\n",
    "assert rasters_path.is_file()\n",
    "\n",
    "print('Using per-unit latency from', latency_path)\n",
    "latency_path = Path(latency_path).expanduser()\n",
    "assert latency_path.is_file()\n",
    "\n",
    "output_dir = Path(output_dir)\n",
    "assert output_dir.expanduser().is_dir()\n",
    "output_path = output_dir / (sess_name + '.h5')\n",
    "print('Saving results to', output_path)\n",
    "output_path = output_path.expanduser()"
   ]
  },
  {
   "cell_type": "code",
   "execution_count": 5,
   "id": "fc501691-4e8d-40e3-8d7a-9d39a5187fdb",
   "metadata": {
    "execution": {
     "iopub.execute_input": "2024-02-18T19:13:15.116440Z",
     "iopub.status.busy": "2024-02-18T19:13:15.115757Z",
     "iopub.status.idle": "2024-02-18T19:13:15.125261Z",
     "shell.execute_reply": "2024-02-18T19:13:15.124091Z"
    },
    "papermill": {
     "duration": 0.019488,
     "end_time": "2024-02-18T19:13:15.127277",
     "exception": false,
     "start_time": "2024-02-18T19:13:15.107789",
     "status": "completed"
    },
    "tags": []
   },
   "outputs": [],
   "source": [
    "analysis_name = 'rsc_1pt'\n",
    "\n",
    "if output_path.is_file():\n",
    "    with h5.File(output_path, 'r') as f:\n",
    "        try:\n",
    "            if f[f'progress_report/{analysis_name}/all_done'][()].item():\n",
    "                raise RuntimeError(f'{sess_name} has already been processed')\n",
    "        except KeyError:\n",
    "            pass"
   ]
  },
  {
   "cell_type": "markdown",
   "id": "1f2126ea-53e6-4237-9300-6de70e517bb1",
   "metadata": {
    "papermill": {
     "duration": 0.005862,
     "end_time": "2024-02-18T19:13:15.140180",
     "exception": false,
     "start_time": "2024-02-18T19:13:15.134318",
     "status": "completed"
    },
    "tags": []
   },
   "source": [
    "# Save config"
   ]
  },
  {
   "cell_type": "code",
   "execution_count": 6,
   "id": "2fd7a35a-cdb9-477d-9ede-6261a242e1da",
   "metadata": {
    "execution": {
     "iopub.execute_input": "2024-02-18T19:13:15.152346Z",
     "iopub.status.busy": "2024-02-18T19:13:15.151597Z",
     "iopub.status.idle": "2024-02-18T19:13:15.228167Z",
     "shell.execute_reply": "2024-02-18T19:13:15.226795Z"
    },
    "papermill": {
     "duration": 0.086484,
     "end_time": "2024-02-18T19:13:15.231402",
     "exception": false,
     "start_time": "2024-02-18T19:13:15.144918",
     "status": "completed"
    },
    "tags": []
   },
   "outputs": [
    {
     "name": "stdout",
     "output_type": "stream",
     "text": [
      "random_seed: 775418045\n"
     ]
    }
   ],
   "source": [
    "fix_df = pd.read_hdf(proc_path, 'fixation_dataframe', 'r')\n",
    "\n",
    "with h5.File(proc_path, 'r') as f:\n",
    "    random_seed = f['config/default_random_seed'][()]\n",
    "    unit_names = f['unit_selection/simple'][()].astype(str)\n",
    "    fix_sel = f['fixation_selection/fixation_indices'][()]\n",
    "    if ifix_sel in (0, 1):\n",
    "        m = 0 == fix_df.index.get_level_values(fix_df.index.names.index('Fixation'))[fix_sel]\n",
    "        if ifix_sel == 1:\n",
    "            m = ~m\n",
    "        fix_sel = fix_sel[m]\n",
    "\n",
    "print('random_seed:', random_seed)"
   ]
  },
  {
   "cell_type": "code",
   "execution_count": 7,
   "id": "a2ed9cde-c754-445e-baf4-fd966a8fc9e1",
   "metadata": {
    "execution": {
     "iopub.execute_input": "2024-02-18T19:13:15.250876Z",
     "iopub.status.busy": "2024-02-18T19:13:15.250363Z",
     "iopub.status.idle": "2024-02-18T19:13:15.255954Z",
     "shell.execute_reply": "2024-02-18T19:13:15.254966Z"
    },
    "papermill": {
     "duration": 0.017524,
     "end_time": "2024-02-18T19:13:15.258698",
     "exception": false,
     "start_time": "2024-02-18T19:13:15.241174",
     "status": "completed"
    },
    "tags": []
   },
   "outputs": [],
   "source": [
    "save_results, add_attr_to_dset, check_equals_saved, link_dsets, copy_group = \\\n",
    "    get_storage_functions(output_path)"
   ]
  },
  {
   "cell_type": "code",
   "execution_count": 8,
   "id": "21793eb7-9502-48e4-b45d-1cc62f52c5a9",
   "metadata": {
    "execution": {
     "iopub.execute_input": "2024-02-18T19:13:15.277967Z",
     "iopub.status.busy": "2024-02-18T19:13:15.277292Z",
     "iopub.status.idle": "2024-02-18T19:13:15.332947Z",
     "shell.execute_reply": "2024-02-18T19:13:15.332391Z"
    },
    "papermill": {
     "duration": 0.067107,
     "end_time": "2024-02-18T19:13:15.335936",
     "exception": false,
     "start_time": "2024-02-18T19:13:15.268829",
     "status": "completed"
    },
    "tags": []
   },
   "outputs": [],
   "source": [
    "group = analysis_name + '/config/'\n",
    "save_results(group+'random_seed', random_seed)\n",
    "save_results(group+'ifix_sel', ifix_sel)\n",
    "\n",
    "group = analysis_name + '/config/time_windows/'\n",
    "save_results(group+'t_win', t_win)\n",
    "add_attr_to_dset(group, attrs=dict(unit='ms'))\n",
    "\n",
    "group = analysis_name + '/config/return_criterion/'\n",
    "save_results(group+'return_thres', return_thres, attrs=dict(unit='dva'))\n",
    "\n",
    "group = analysis_name + '/config/statistics/'\n",
    "save_results(group+'tests', str(stat_tests))\n",
    "save_results(group+'test_kind', 'permutation')\n",
    "save_results(group+'n_perm', n_perm)\n",
    "\n",
    "save_results(analysis_name+'/fixation_selection', fix_sel)\n",
    "save_results(analysis_name+'/unit_names', unit_names.astype(bytes))"
   ]
  },
  {
   "cell_type": "markdown",
   "id": "fe74219c-d973-4613-b00c-fae225830b34",
   "metadata": {
    "papermill": {
     "duration": 0.007802,
     "end_time": "2024-02-18T19:13:15.354329",
     "exception": false,
     "start_time": "2024-02-18T19:13:15.346527",
     "status": "completed"
    },
    "tags": []
   },
   "source": [
    "# Find return pairs"
   ]
  },
  {
   "cell_type": "code",
   "execution_count": 9,
   "id": "d844c114-3a76-434f-9978-b4f400443ac3",
   "metadata": {
    "execution": {
     "iopub.execute_input": "2024-02-18T19:13:15.367432Z",
     "iopub.status.busy": "2024-02-18T19:13:15.366897Z",
     "iopub.status.idle": "2024-02-18T19:13:15.474260Z",
     "shell.execute_reply": "2024-02-18T19:13:15.473673Z"
    },
    "papermill": {
     "duration": 0.116778,
     "end_time": "2024-02-18T19:13:15.477630",
     "exception": false,
     "start_time": "2024-02-18T19:13:15.360852",
     "status": "completed"
    },
    "tags": []
   },
   "outputs": [
    {
     "name": "stdout",
     "output_type": "stream",
     "text": [
      "\"current\" return pairs shape: (2325, 2)\n",
      "\"same_image\" return pairs shape: (27492, 2)\n"
     ]
    }
   ],
   "source": [
    "df_ = fix_df.iloc[fix_sel]\n",
    "imids = np.array([f'{v0}/{v1}' for v0, v1 in df_[['Image subdir', 'Image filename']].values])\n",
    "posns = df_[['Relative X', 'Relative Y']].values\n",
    "\n",
    "curr_return_pairs = find_return_fixations(imids, posns, thres_deg=return_thres)\n",
    "same_image_return_pairs = find_return_fixations(imids, np.zeros_like(posns), thres_deg=return_thres)\n",
    "print('\"current\" return pairs shape:', curr_return_pairs.shape)\n",
    "print('\"same_image\" return pairs shape:', same_image_return_pairs.shape)\n",
    "\n",
    "bycond_return_pairs = dict(\n",
    "    current=curr_return_pairs,\n",
    "    same_image=same_image_return_pairs)"
   ]
  },
  {
   "cell_type": "code",
   "execution_count": 10,
   "id": "cac2a8e5-5329-41df-8e9d-d7d7dbde0e6c",
   "metadata": {
    "execution": {
     "iopub.execute_input": "2024-02-18T19:13:15.498302Z",
     "iopub.status.busy": "2024-02-18T19:13:15.497903Z",
     "iopub.status.idle": "2024-02-18T19:13:15.579371Z",
     "shell.execute_reply": "2024-02-18T19:13:15.578896Z"
    },
    "papermill": {
     "duration": 0.092753,
     "end_time": "2024-02-18T19:13:15.581790",
     "exception": false,
     "start_time": "2024-02-18T19:13:15.489037",
     "status": "completed"
    },
    "tags": []
   },
   "outputs": [],
   "source": [
    "group = analysis_name + '/return_pairs/'\n",
    "for cond, pairs in bycond_return_pairs.items():\n",
    "    if not pairs.size:\n",
    "        pairs = h5.Empty('i')\n",
    "    save_results(group+cond, pairs)"
   ]
  },
  {
   "cell_type": "markdown",
   "id": "ed53f001-d2f0-47f7-a5b3-59af43131e1c",
   "metadata": {
    "papermill": {
     "duration": 0.003092,
     "end_time": "2024-02-18T19:13:15.588001",
     "exception": false,
     "start_time": "2024-02-18T19:13:15.584909",
     "status": "completed"
    },
    "tags": []
   },
   "source": [
    "# Get fixation onset-aligned responses uaing latency per unit"
   ]
  },
  {
   "cell_type": "code",
   "execution_count": 11,
   "id": "eff229b1-3adc-460b-ae7b-c21fa0c8da8e",
   "metadata": {
    "execution": {
     "iopub.execute_input": "2024-02-18T19:13:15.595944Z",
     "iopub.status.busy": "2024-02-18T19:13:15.595525Z",
     "iopub.status.idle": "2024-02-18T19:13:23.426372Z",
     "shell.execute_reply": "2024-02-18T19:13:23.425430Z"
    },
    "papermill": {
     "duration": 7.838161,
     "end_time": "2024-02-18T19:13:23.429365",
     "exception": false,
     "start_time": "2024-02-18T19:13:15.591204",
     "status": "completed"
    },
    "tags": []
   },
   "outputs": [],
   "source": [
    "with h5.File(rasters_path, 'r') as f:\n",
    "    all_unit_names = f['processing/ecephys/unit_names/unit_name'][()].astype(str)\n",
    "    all_unit_names = list(all_unit_names)\n",
    "    sel_ = np.array([all_unit_names.index(n) for n in unit_names])\n",
    "    rasters = f['processing/ecephys/rasters/data'][()][:,sel_]"
   ]
  },
  {
   "cell_type": "code",
   "execution_count": 12,
   "id": "840c9651-eb18-463b-b2fd-617de7bd8446",
   "metadata": {
    "execution": {
     "iopub.execute_input": "2024-02-18T19:13:23.448477Z",
     "iopub.status.busy": "2024-02-18T19:13:23.448220Z",
     "iopub.status.idle": "2024-02-18T19:13:23.502347Z",
     "shell.execute_reply": "2024-02-18T19:13:23.501668Z"
    },
    "papermill": {
     "duration": 0.065242,
     "end_time": "2024-02-18T19:13:23.505262",
     "exception": false,
     "start_time": "2024-02-18T19:13:23.440020",
     "status": "completed"
    },
    "tags": []
   },
   "outputs": [
    {
     "name": "stdout",
     "output_type": "stream",
     "text": [
      "Num units using RF fit from each source:\n",
      "\tSource\n",
      "\tArray                 29\n",
      "\tArray, across sess    40\n",
      "\tChannel               11\n",
      "\tUnit                  12\n"
     ]
    }
   ],
   "source": [
    "lat_df = pd.read_csv(latency_path).set_index('Session').loc[[sess_name]].set_index('Name')\n",
    "m = pd.Series(unit_names).isin(lat_df.index)\n",
    "assert m.all(), f'missing latency value for {(~m).sum()} of {m.size} units'\n",
    "assert not lat_df.index.has_duplicates\n",
    "\n",
    "lat_df = lat_df.loc[unit_names].reset_index()\n",
    "assert len(lat_df) == len(unit_names)\n",
    "lat_df['Index'] = np.arange(len(lat_df))\n",
    "lat_df['Latency'] = np.clip(lat_df['Latency'], 40, None)\n",
    "print('Num units using RF fit from each source:')\n",
    "print('\\t' + '\\n\\t'.join(str(lat_df.groupby('Source').count()['Latency']).split('\\n')[:-1]))"
   ]
  },
  {
   "cell_type": "code",
   "execution_count": 13,
   "id": "731f7eb8-90d9-4a60-a556-da3bbbc31c92",
   "metadata": {
    "execution": {
     "iopub.execute_input": "2024-02-18T19:13:23.524372Z",
     "iopub.status.busy": "2024-02-18T19:13:23.523960Z",
     "iopub.status.idle": "2024-02-18T19:13:24.593004Z",
     "shell.execute_reply": "2024-02-18T19:13:24.592465Z"
    },
    "papermill": {
     "duration": 1.081793,
     "end_time": "2024-02-18T19:13:24.596749",
     "exception": false,
     "start_time": "2024-02-18T19:13:23.514956",
     "status": "completed"
    },
    "tags": []
   },
   "outputs": [
    {
     "data": {
      "text/plain": [
       "((5979, 92), dtype('float32'))"
      ]
     },
     "execution_count": 13,
     "metadata": {},
     "output_type": "execute_result"
    }
   ],
   "source": [
    "resps = np.empty((fix_sel.size, rasters.shape[1]), dtype=np.float32)\n",
    "t_win_ = np.array([0, t_win])\n",
    "lat_groups = [(dt, df_['Index'].values) for dt, df_ in lat_df.groupby('Latency')]\n",
    "for i, t in enumerate(fix_df.iloc[fix_sel]['Time'].values):\n",
    "    for dt, usel in lat_groups:\n",
    "        s = slice(*np.round(t+dt+t_win_).astype(int))\n",
    "        resps[i,usel] = rasters[s,usel].mean(0)\n",
    "del rasters\n",
    "resps.shape, resps.dtype"
   ]
  },
  {
   "cell_type": "code",
   "execution_count": 14,
   "id": "fe775535-0d85-47cb-a4dd-012957b91aa4",
   "metadata": {
    "execution": {
     "iopub.execute_input": "2024-02-18T19:13:24.623621Z",
     "iopub.status.busy": "2024-02-18T19:13:24.623025Z",
     "iopub.status.idle": "2024-02-18T19:13:24.645478Z",
     "shell.execute_reply": "2024-02-18T19:13:24.644260Z"
    },
    "papermill": {
     "duration": 0.041209,
     "end_time": "2024-02-18T19:13:24.648518",
     "exception": false,
     "start_time": "2024-02-18T19:13:24.607309",
     "status": "completed"
    },
    "tags": []
   },
   "outputs": [],
   "source": [
    "lat_df.to_hdf(output_path, analysis_name+'/latency_per_unit', mode='a', format='table', complevel=9, complib='zlib')"
   ]
  },
  {
   "cell_type": "markdown",
   "id": "de256eeb-efe7-4c84-bc34-264f3398492c",
   "metadata": {
    "papermill": {
     "duration": 0.008271,
     "end_time": "2024-02-18T19:13:24.667930",
     "exception": false,
     "start_time": "2024-02-18T19:13:24.659659",
     "status": "completed"
    },
    "tags": []
   },
   "source": [
    "# One-condition permutation test"
   ]
  },
  {
   "cell_type": "code",
   "execution_count": 15,
   "id": "b8abf977-2db0-4a90-bfa5-8ee1d5d6e650",
   "metadata": {
    "execution": {
     "iopub.execute_input": "2024-02-18T19:13:24.681225Z",
     "iopub.status.busy": "2024-02-18T19:13:24.680669Z",
     "iopub.status.idle": "2024-02-18T19:13:51.985590Z",
     "shell.execute_reply": "2024-02-18T19:13:51.984603Z"
    },
    "papermill": {
     "duration": 27.313647,
     "end_time": "2024-02-18T19:13:51.987992",
     "exception": false,
     "start_time": "2024-02-18T19:13:24.674345",
     "status": "completed"
    },
    "tags": []
   },
   "outputs": [],
   "source": [
    "coords = (('unit', unit_names),)\n",
    "attrs = dict(\n",
    "    return_thres=return_thres,\n",
    "    random_seed=random_seed,\n",
    "    unit='Pearson\\'s r')\n",
    "\n",
    "bycond_rsc_ds = {}\n",
    "cond = 'current'\n",
    "pairs = bycond_return_pairs[cond]\n",
    "if len(pairs) > 1:\n",
    "    attrs['n_pairs'] = len(pairs)\n",
    "    ds = pairwise_self_consistency(\n",
    "        pairs=pairs, resps=resps,\n",
    "        n_bootstraps=0, n_permutations=n_perm,\n",
    "        random_seed=random_seed,\n",
    "        coords=coords, attrs=attrs)\n",
    "else:\n",
    "    ds = None\n",
    "bycond_rsc_ds[cond] = ds"
   ]
  },
  {
   "cell_type": "code",
   "execution_count": 16,
   "id": "d65a935c-c099-42e7-aa4b-f8c338d8206b",
   "metadata": {
    "execution": {
     "iopub.execute_input": "2024-02-18T19:13:52.009246Z",
     "iopub.status.busy": "2024-02-18T19:13:52.008818Z",
     "iopub.status.idle": "2024-02-18T19:13:52.092873Z",
     "shell.execute_reply": "2024-02-18T19:13:52.092223Z"
    },
    "papermill": {
     "duration": 0.102918,
     "end_time": "2024-02-18T19:13:52.095967",
     "exception": false,
     "start_time": "2024-02-18T19:13:51.993049",
     "status": "completed"
    },
    "tags": []
   },
   "outputs": [],
   "source": [
    "group = analysis_name + '/'\n",
    "q = lambda x: quantize(x, 3)\n",
    "compr = dict(zlib=True, complevel=9)\n",
    "for cond, dataset in bycond_rsc_ds.items():\n",
    "    loc = group + cond\n",
    "    if dataset is not None:\n",
    "        if not save_perm_diffs:\n",
    "            dataset = dataset.drop_vars('permutations')\n",
    "        k = 'sample'\n",
    "        dataset = dataset.assign({k: q(dataset.data_vars[k])})\n",
    "        encoding = {\n",
    "            k: dict(chunksizes=v.shape, **compr)\n",
    "            for k, v in dataset.data_vars.items()\n",
    "            if v.size}\n",
    "        dataset.to_netcdf(\n",
    "            output_path, group=loc, mode='a',\n",
    "            engine='h5netcdf', encoding=encoding)\n",
    "    else:\n",
    "        save_results(loc, h5.Empty('f'))"
   ]
  },
  {
   "cell_type": "markdown",
   "id": "4224f492-76a9-411e-903f-390a5a3c1747",
   "metadata": {
    "papermill": {
     "duration": 0.004003,
     "end_time": "2024-02-18T19:13:52.104830",
     "exception": false,
     "start_time": "2024-02-18T19:13:52.100827",
     "status": "completed"
    },
    "tags": []
   },
   "source": [
    "# Two-condition permutation test"
   ]
  },
  {
   "cell_type": "code",
   "execution_count": 17,
   "id": "0849522c-2dd1-4fe1-b8ec-d11cbf4dbad9",
   "metadata": {
    "execution": {
     "iopub.execute_input": "2024-02-18T19:13:52.114470Z",
     "iopub.status.busy": "2024-02-18T19:13:52.113843Z",
     "iopub.status.idle": "2024-02-18T19:15:30.855865Z",
     "shell.execute_reply": "2024-02-18T19:15:30.855164Z"
    },
    "papermill": {
     "duration": 98.752032,
     "end_time": "2024-02-18T19:15:30.860820",
     "exception": false,
     "start_time": "2024-02-18T19:13:52.108788",
     "status": "completed"
    },
    "tags": []
   },
   "outputs": [
    {
     "name": "stdout",
     "output_type": "stream",
     "text": [
      "test: ('current', 'same_image') \talternative: greater\n",
      "calculating self consistency permutation distribution w.r.t. pairing conditions\n",
      "10000 permutations\n",
      "\tusing 20000 (2325+17675) pairs of 29817 (2325+27492)\n"
     ]
    },
    {
     "name": "stdout",
     "output_type": "stream",
     "text": [
      "done (98.7 s)\n"
     ]
    }
   ],
   "source": [
    "test_results = {}\n",
    "\n",
    "coords = (('unit', unit_names),)\n",
    "attrs = dict(random_seed=random_seed)\n",
    "\n",
    "for test in stat_tests:\n",
    "    c0, c1 = test[:2]\n",
    "    if len(test) > 2:\n",
    "        alt = test[2]\n",
    "    else:\n",
    "        alt = 'two-sided'\n",
    "    print('test:', (c0, c1), '\\talternative:', alt)\n",
    "\n",
    "    try:\n",
    "        ds = pairwise_self_consistency_perm_test(\n",
    "            resps=resps,\n",
    "            pairs0=bycond_return_pairs[c0],\n",
    "            pairs1=bycond_return_pairs[c1],\n",
    "            alternatives=alt,\n",
    "            n_permutations=n_perm,\n",
    "            random_seed=random_seed,\n",
    "            coords=coords,\n",
    "            attrs=attrs,\n",
    "            verbose=True)\n",
    "    except ValueError as e:\n",
    "        if 'Less than 2 pairs' in str(e):\n",
    "            continue\n",
    "        raise\n",
    "\n",
    "    test_results[(c0,c1)] = ds"
   ]
  },
  {
   "cell_type": "code",
   "execution_count": 18,
   "id": "87cd141f-4168-47e4-a587-8175325bf406",
   "metadata": {
    "execution": {
     "iopub.execute_input": "2024-02-18T19:15:30.881050Z",
     "iopub.status.busy": "2024-02-18T19:15:30.880719Z",
     "iopub.status.idle": "2024-02-18T19:15:30.968343Z",
     "shell.execute_reply": "2024-02-18T19:15:30.967724Z"
    },
    "papermill": {
     "duration": 0.096115,
     "end_time": "2024-02-18T19:15:30.970353",
     "exception": false,
     "start_time": "2024-02-18T19:15:30.874238",
     "status": "completed"
    },
    "tags": []
   },
   "outputs": [],
   "source": [
    "group = analysis_name + '/permutation_test/'\n",
    "compr = dict(zlib=True, complevel=9)\n",
    "for (c0, c1), dataset in test_results.items():\n",
    "    if not save_perm_diffs:\n",
    "        dataset = dataset.drop_vars('permuted_diffs')\n",
    "    encoding = {\n",
    "        k: dict(chunksizes=v.shape, **compr)\n",
    "        for k, v in dataset.data_vars.items()\n",
    "        if v.size}\n",
    "    dataset.to_netcdf(\n",
    "        output_path, group=group+f'{c0}_v_{c1}',\n",
    "        mode='a', engine='h5netcdf', encoding=encoding)"
   ]
  },
  {
   "cell_type": "markdown",
   "id": "385f7a0a-6781-4348-9e26-694a111d40bc",
   "metadata": {
    "papermill": {
     "duration": 0.006961,
     "end_time": "2024-02-18T19:15:30.984113",
     "exception": false,
     "start_time": "2024-02-18T19:15:30.977152",
     "status": "completed"
    },
    "tags": []
   },
   "source": [
    "# Wrap up"
   ]
  },
  {
   "cell_type": "code",
   "execution_count": 19,
   "id": "8e50b16a-744e-4328-9cbc-5813d8baed9e",
   "metadata": {
    "execution": {
     "iopub.execute_input": "2024-02-18T19:15:30.994704Z",
     "iopub.status.busy": "2024-02-18T19:15:30.994364Z",
     "iopub.status.idle": "2024-02-18T19:15:30.998715Z",
     "shell.execute_reply": "2024-02-18T19:15:30.998168Z"
    },
    "papermill": {
     "duration": 0.010961,
     "end_time": "2024-02-18T19:15:30.999904",
     "exception": false,
     "start_time": "2024-02-18T19:15:30.988943",
     "status": "completed"
    },
    "tags": []
   },
   "outputs": [],
   "source": [
    "save_results(f'progress_report/{analysis_name}/all_done', True)"
   ]
  },
  {
   "cell_type": "code",
   "execution_count": 20,
   "id": "553e15c0-cf86-4e73-860d-b55bafb4bd47",
   "metadata": {
    "execution": {
     "iopub.execute_input": "2024-02-18T19:15:31.007880Z",
     "iopub.status.busy": "2024-02-18T19:15:31.007677Z",
     "iopub.status.idle": "2024-02-18T19:15:31.042247Z",
     "shell.execute_reply": "2024-02-18T19:15:31.041169Z"
    },
    "papermill": {
     "duration": 0.041839,
     "end_time": "2024-02-18T19:15:31.045180",
     "exception": false,
     "start_time": "2024-02-18T19:15:31.003341",
     "status": "completed"
    },
    "tags": []
   },
   "outputs": [
    {
     "name": "stdout",
     "output_type": "stream",
     "text": [
      "Last updated: 2024-02-18T14:15:31.013940-05:00\n",
      "\n",
      "Python implementation: CPython\n",
      "Python version       : 3.10.12\n",
      "IPython version      : 8.12.0\n",
      "\n",
      "Compiler    : GCC 11.4.0\n",
      "OS          : Linux\n",
      "Release     : 5.15.0-92-generic\n",
      "Machine     : x86_64\n",
      "Processor   : x86_64\n",
      "CPU cores   : 20\n",
      "Architecture: 64bit\n",
      "\n",
      "Python implementation: CPython\n",
      "Python version       : 3.10.12\n",
      "IPython version      : 8.12.0\n",
      "\n",
      "Compiler    : GCC 11.4.0\n",
      "OS          : Linux\n",
      "Release     : 5.15.0-92-generic\n",
      "Machine     : x86_64\n",
      "Processor   : x86_64\n",
      "CPU cores   : 20\n",
      "Architecture: 64bit\n",
      "\n",
      "Git hash: b0bb10f45dee065cc3af96fe224326b883d27431\n",
      "\n",
      "Git repo: https://github.com/willwx/free_viewing_staging.git\n",
      "\n",
      "Git branch: master\n",
      "\n",
      "h5py  : 3.8.0\n",
      "pandas: 2.0.1\n",
      "numpy : 1.24.3\n",
      "sys   : 3.10.12 (main, Nov 20 2023, 15:14:05) [GCC 11.4.0]\n",
      "\n"
     ]
    }
   ],
   "source": [
    "%load_ext watermark\n",
    "%watermark\n",
    "%watermark -vm --iversions -rbg"
   ]
  },
  {
   "cell_type": "markdown",
   "id": "4d8dd1d7-a313-46d4-b61d-00d5ede066af",
   "metadata": {
    "papermill": {
     "duration": 0.01116,
     "end_time": "2024-02-18T19:15:31.068499",
     "exception": false,
     "start_time": "2024-02-18T19:15:31.057339",
     "status": "completed"
    },
    "tags": []
   },
   "source": [
    "# Plots"
   ]
  },
  {
   "cell_type": "code",
   "execution_count": 21,
   "id": "d4edad97-3dfe-4d04-a342-cae13c230afb",
   "metadata": {
    "execution": {
     "iopub.execute_input": "2024-02-18T19:15:31.083648Z",
     "iopub.status.busy": "2024-02-18T19:15:31.082986Z",
     "iopub.status.idle": "2024-02-18T19:15:31.319290Z",
     "shell.execute_reply": "2024-02-18T19:15:31.318666Z"
    },
    "papermill": {
     "duration": 0.245449,
     "end_time": "2024-02-18T19:15:31.321762",
     "exception": false,
     "start_time": "2024-02-18T19:15:31.076313",
     "status": "completed"
    },
    "tags": []
   },
   "outputs": [],
   "source": [
    "import matplotlib.pyplot as plt\n",
    "\n",
    "f = lambda x: x if isinstance(x, str) else ', '.join(map(str, x))\n",
    "p_thres = .01"
   ]
  },
  {
   "cell_type": "code",
   "execution_count": 22,
   "id": "a955458b-3de7-4df1-a510-374e62acca6d",
   "metadata": {
    "execution": {
     "iopub.execute_input": "2024-02-18T19:15:31.331005Z",
     "iopub.status.busy": "2024-02-18T19:15:31.330512Z",
     "iopub.status.idle": "2024-02-18T19:15:31.504592Z",
     "shell.execute_reply": "2024-02-18T19:15:31.504039Z"
    },
    "papermill": {
     "duration": 0.180843,
     "end_time": "2024-02-18T19:15:31.506483",
     "exception": false,
     "start_time": "2024-02-18T19:15:31.325640",
     "status": "completed"
    },
    "tags": []
   },
   "outputs": [
    {
     "data": {
      "image/png": "[encoded data removed]",
      "text/plain": [
       "<Figure size 640x480 with 1 Axes>"
      ]
     },
     "metadata": {},
     "output_type": "display_data"
    }
   ],
   "source": [
    "if n_perm > 0:\n",
    "    cond = 'current'\n",
    "    dataset = bycond_rsc_ds[cond]\n",
    "    plt.figure()\n",
    "    x = dataset['p-value'].values.ravel()\n",
    "    sig = x < p_thres\n",
    "    plt.hist([np.log10(x[~sig]), np.log10(x[sig])], stacked=True, label=['Insig.','Sig.'])\n",
    "    plt.xlabel('P-value (log10)')\n",
    "    plt.ylabel('Num. neurons')\n",
    "    plt.legend()\n",
    "else:\n",
    "    sig = np.zeros(unit_names.size, dtype=bool)"
   ]
  },
  {
   "cell_type": "code",
   "execution_count": 23,
   "id": "ff1d1a9a-0bf7-472a-96d4-9b7e8946273c",
   "metadata": {
    "execution": {
     "iopub.execute_input": "2024-02-18T19:15:31.517114Z",
     "iopub.status.busy": "2024-02-18T19:15:31.516425Z",
     "iopub.status.idle": "2024-02-18T19:15:31.802517Z",
     "shell.execute_reply": "2024-02-18T19:15:31.801317Z"
    },
    "papermill": {
     "duration": 0.293397,
     "end_time": "2024-02-18T19:15:31.804152",
     "exception": false,
     "start_time": "2024-02-18T19:15:31.510755",
     "status": "completed"
    },
    "tags": []
   },
   "outputs": [
    {
     "data": {
      "image/png": "[encoded data removed]",
      "text/plain": [
       "<Figure size 640x480 with 1 Axes>"
      ]
     },
     "metadata": {},
     "output_type": "display_data"
    }
   ],
   "source": [
    "for test, results in test_results.items():\n",
    "    plt.figure()\n",
    "    vals = np.array([results['cond0'], results['cond1']])\n",
    "    if n_perm > 0:\n",
    "        sig_ = results['p-value'].values.ravel() < p_thres\n",
    "    else:\n",
    "        sig_ = np.zeros(unit_names.size, dtype=bool)\n",
    "    for i in range(2):\n",
    "        for j in range(2):\n",
    "            m = (sig^bool(i))&(sig_^bool(j))\n",
    "            if not m.any(): continue\n",
    "            c = ('tab:orange', 'tab:blue')[i]\n",
    "            if j:\n",
    "                kwargs = dict(ec=c, fc='none', marker='s')\n",
    "            else:\n",
    "                kwargs = dict(fc=c, ec='none', marker='o')\n",
    "            if i:\n",
    "                kwargs['label'] = 'Insig. RSC'\n",
    "            else:\n",
    "                kwargs['label'] = ('Sig', 'Insig.')[j] + ' '+ ' > '.join(test[:2])\n",
    "            plt.scatter(*vals[:,m], **kwargs)\n",
    "    b = np.ma.masked_invalid(vals)\n",
    "    b = [b.min(1).max(0), b.max(1).min(0)]\n",
    "    plt.plot(b, b, color='gray', ls='--')\n",
    "    plt.xlabel(test[0].capitalize())\n",
    "    plt.ylabel(test[1].capitalize())\n",
    "    plt.text(0, 1.025, f'Self-consistency, Pearson\\'s r\\nWindow size: {t_win} ms',\n",
    "              ha='left', va='bottom', transform=plt.gca().transAxes)\n",
    "    plt.gca().set_aspect('equal')\n",
    "    plt.legend(loc='upper left', bbox_to_anchor=(1,1.05))"
   ]
  }
 ],
 "metadata": {
  "kernelspec": {
   "display_name": "Python 3 (ipykernel)",
   "language": "python",
   "name": "python3"
  },
  "language_info": {
   "codemirror_mode": {
    "name": "ipython",
    "version": 3
   },
   "file_extension": ".py",
   "mimetype": "text/x-python",
   "name": "python",
   "nbconvert_exporter": "python",
   "pygments_lexer": "ipython3",
   "version": "3.10.12"
  },
  "papermill": {
   "default_parameters": {},
   "duration": 139.086699,
   "end_time": "2024-02-18T19:15:32.531162",
   "environment_variables": {},
   "exception": null,
   "input_path": "script_2d_rsc_1pt.ipynb",
   "output_path": "../test_results/log_2d_rsc_1pt-Pa210201.ipynb",
   "parameters": {
    "output_dir": "../test_results",
    "sess_name": "Pa210201"
   },
   "start_time": "2024-02-18T19:13:13.444463",
   "version": "2.5.0"
  }
 },
 "nbformat": 4,
 "nbformat_minor": 5
}