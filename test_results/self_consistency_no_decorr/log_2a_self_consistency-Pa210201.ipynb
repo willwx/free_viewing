{
 "cells": [
  {
   "cell_type": "code",
   "execution_count": 1,
   "id": "c190cce5-9e51-4577-856d-31611e79acd6",
   "metadata": {
    "execution": {
     "iopub.execute_input": "2024-02-18T19:19:38.147619Z",
     "iopub.status.busy": "2024-02-18T19:19:38.146889Z",
     "iopub.status.idle": "2024-02-18T19:19:38.742290Z",
     "shell.execute_reply": "2024-02-18T19:19:38.741745Z"
    },
    "papermill": {
     "duration": 0.610703,
     "end_time": "2024-02-18T19:19:38.743676",
     "exception": false,
     "start_time": "2024-02-18T19:19:38.132973",
     "status": "completed"
    },
    "tags": []
   },
   "outputs": [],
   "source": [
    "import sys\n",
    "from pathlib import Path\n",
    "\n",
    "import h5py as h5\n",
    "import numpy as np\n",
    "import pandas as pd\n",
    "from tqdm import tqdm\n",
    "\n",
    "sys.path.append('../lib')\n",
    "from storage import get_storage_functions, quantize\n",
    "from local_paths import preproc_dir, analysis_dir\n",
    "from self_consistency import \\\n",
    "    find_return_fixations, pairwise_self_consistency, \\\n",
    "    pairwise_self_consistency_perm_test"
   ]
  },
  {
   "cell_type": "markdown",
   "id": "bcf0248c-ad1d-43d2-8620-18005f04756b",
   "metadata": {
    "papermill": {
     "duration": 0.01432,
     "end_time": "2024-02-18T19:19:38.761351",
     "exception": false,
     "start_time": "2024-02-18T19:19:38.747031",
     "status": "completed"
    },
    "tags": []
   },
   "source": [
    "# Set parameters"
   ]
  },
  {
   "cell_type": "code",
   "execution_count": 2,
   "id": "13d49c84-3790-4c27-95f8-1c6c13585d9b",
   "metadata": {
    "execution": {
     "iopub.execute_input": "2024-02-18T19:19:38.771867Z",
     "iopub.status.busy": "2024-02-18T19:19:38.771175Z",
     "iopub.status.idle": "2024-02-18T19:19:38.779926Z",
     "shell.execute_reply": "2024-02-18T19:19:38.779041Z"
    },
    "papermill": {
     "duration": 0.015729,
     "end_time": "2024-02-18T19:19:38.781459",
     "exception": false,
     "start_time": "2024-02-18T19:19:38.765730",
     "status": "completed"
    },
    "tags": [
     "parameters"
    ]
   },
   "outputs": [],
   "source": [
    "#============================================================================\n",
    "# session\n",
    "#============================================================================\n",
    "sess_name = 'sess_name'\n",
    "\n",
    "\n",
    "#============================================================================\n",
    "# response windows\n",
    "#============================================================================\n",
    "t_pre  = 375\n",
    "t_post = 375\n",
    "t_step =  10\n",
    "\n",
    "\n",
    "#============================================================================\n",
    "# return fixation selection\n",
    "#============================================================================\n",
    "return_thres =   1  # for defining \"return fixation\"; can set to typical radius of rf\n",
    "\n",
    "# \"decorrelate\" return fixations:\n",
    "#   sub-select only return pairs where the non-return fixations\n",
    "#   (e.g., \"prev\" for \"curr return\") are this far apart\n",
    "min_sep      =   4  # dva; only consider saccades at least this large\n",
    "min_sep_win  = 100\n",
    "\n",
    "\n",
    "#============================================================================\n",
    "# rsc options\n",
    "#============================================================================\n",
    "n_boots = 200\n",
    "\n",
    "\n",
    "#============================================================================\n",
    "# statistical tests\n",
    "#============================================================================\n",
    "stat_tests = (\n",
    "    ('previous', 'current', 'greater'),\n",
    "    ('previous', 'current', 'less'))\n",
    "n_perm = 10000\n",
    "save_perm_diffs = False  # whether to save permuted delta effect sizes\n",
    "\n",
    "\n",
    "#============================================================================\n",
    "# paths\n",
    "#============================================================================\n",
    "proc_dir = preproc_dir\n",
    "sdf_dir = preproc_dir\n",
    "sdf_suffix = '-mwa_50'\n",
    "\n",
    "output_dir = analysis_dir + 'self_consistency'"
   ]
  },
  {
   "cell_type": "code",
   "execution_count": 3,
   "id": "cc4dd3fd",
   "metadata": {
    "execution": {
     "iopub.execute_input": "2024-02-18T19:19:38.791532Z",
     "iopub.status.busy": "2024-02-18T19:19:38.791156Z",
     "iopub.status.idle": "2024-02-18T19:19:38.795433Z",
     "shell.execute_reply": "2024-02-18T19:19:38.794870Z"
    },
    "papermill": {
     "duration": 0.01235,
     "end_time": "2024-02-18T19:19:38.798118",
     "exception": false,
     "start_time": "2024-02-18T19:19:38.785768",
     "status": "completed"
    },
    "tags": [
     "injected-parameters"
    ]
   },
   "outputs": [],
   "source": [
    "# Parameters\n",
    "sess_name = \"Pa210201\"\n",
    "min_sep = 0\n",
    "n_boots = 0\n",
    "n_perm = 0\n",
    "output_dir = \"../test_results/self_consistency_no_decorr\"\n"
   ]
  },
  {
   "cell_type": "markdown",
   "id": "07e824d1-6964-404f-83aa-3d87ed2ea3fd",
   "metadata": {
    "papermill": {
     "duration": 0.007619,
     "end_time": "2024-02-18T19:19:38.815761",
     "exception": false,
     "start_time": "2024-02-18T19:19:38.808142",
     "status": "completed"
    },
    "tags": []
   },
   "source": [
    "# Check prereqs and params"
   ]
  },
  {
   "cell_type": "code",
   "execution_count": 4,
   "id": "a779bf63-3446-4291-85b2-68018aeadda4",
   "metadata": {
    "execution": {
     "iopub.execute_input": "2024-02-18T19:19:38.827794Z",
     "iopub.status.busy": "2024-02-18T19:19:38.827272Z",
     "iopub.status.idle": "2024-02-18T19:19:38.836796Z",
     "shell.execute_reply": "2024-02-18T19:19:38.835996Z"
    },
    "papermill": {
     "duration": 0.016645,
     "end_time": "2024-02-18T19:19:38.838466",
     "exception": false,
     "start_time": "2024-02-18T19:19:38.821821",
     "status": "completed"
    },
    "tags": []
   },
   "outputs": [
    {
     "name": "stdout",
     "output_type": "stream",
     "text": [
      "Loading shared processing from ../test_data/Pa210201-proc.h5\n",
      "Loading spike density function from ../test_data/Pa210201-sdf-mwa_50.h5\n",
      "Saving results to ../test_results/self_consistency_no_decorr/Pa210201.h5\n"
     ]
    }
   ],
   "source": [
    "proc_path = Path(proc_dir) / (sess_name + '-proc.h5')\n",
    "print('Loading shared processing from', proc_path)\n",
    "proc_path = proc_path.expanduser()\n",
    "assert proc_path.is_file()\n",
    "\n",
    "sdf_path = Path(sdf_dir) / (sess_name + f'-sdf{sdf_suffix}.h5')\n",
    "print('Loading spike density function from', sdf_path)\n",
    "sdf_path = sdf_path.expanduser()\n",
    "assert sdf_path.is_file()\n",
    "\n",
    "output_dir = Path(output_dir)\n",
    "assert output_dir.expanduser().is_dir()\n",
    "output_path = output_dir / (sess_name + '.h5')\n",
    "print('Saving results to', output_path)\n",
    "output_path = output_path.expanduser()"
   ]
  },
  {
   "cell_type": "code",
   "execution_count": 5,
   "id": "be467d62-5fd3-4bd2-b0a2-654def2f8381",
   "metadata": {
    "execution": {
     "iopub.execute_input": "2024-02-18T19:19:38.850900Z",
     "iopub.status.busy": "2024-02-18T19:19:38.850277Z",
     "iopub.status.idle": "2024-02-18T19:19:38.858443Z",
     "shell.execute_reply": "2024-02-18T19:19:38.857228Z"
    },
    "papermill": {
     "duration": 0.016934,
     "end_time": "2024-02-18T19:19:38.860431",
     "exception": false,
     "start_time": "2024-02-18T19:19:38.843497",
     "status": "completed"
    },
    "tags": []
   },
   "outputs": [],
   "source": [
    "analysis_name = 'self_consistency'\n",
    "\n",
    "if output_path.is_file():\n",
    "    with h5.File(output_path, 'r') as f:\n",
    "        try:\n",
    "            if f[f'progress_report/{analysis_name}/all_done'][()].item():\n",
    "                raise RuntimeError(f'{sess_name} has already been processed')\n",
    "        except KeyError:\n",
    "            pass"
   ]
  },
  {
   "cell_type": "code",
   "execution_count": 6,
   "id": "f365bfc9-020e-4557-8e4c-c366d66f7d83",
   "metadata": {
    "execution": {
     "iopub.execute_input": "2024-02-18T19:19:38.870293Z",
     "iopub.status.busy": "2024-02-18T19:19:38.869648Z",
     "iopub.status.idle": "2024-02-18T19:19:38.881195Z",
     "shell.execute_reply": "2024-02-18T19:19:38.879991Z"
    },
    "papermill": {
     "duration": 0.019651,
     "end_time": "2024-02-18T19:19:38.884276",
     "exception": false,
     "start_time": "2024-02-18T19:19:38.864625",
     "status": "completed"
    },
    "tags": []
   },
   "outputs": [],
   "source": [
    "do_tests = len(stat_tests) and n_perm\n",
    "\n",
    "if do_tests:\n",
    "    stat_tests_ = []\n",
    "    stat_tests_ordered = []\n",
    "    for test in stat_tests:\n",
    "        c0, c1 = test[:2]\n",
    "        alt = test[2] if len(test) > 2 else 'two-sided'\n",
    "        assert alt in ('less', 'greater', 'two-sided')\n",
    "        stat_tests_.append((c0, c1, alt))\n",
    "        if c0 > c1:\n",
    "            c0, c1 = c1, c0\n",
    "            if alt != 'two-sided':\n",
    "                alt = dict(less='greater', greater='less')[alt]\n",
    "        stat_tests_ordered.append((c0, c1, alt))\n",
    "\n",
    "    stat_tests = tuple(stat_tests_)\n",
    "    stat_tests_ordered = pd.DataFrame(stat_tests_ordered, columns=['Condition 1', 'Condition 2', 'Alternative'])\n",
    "    stat_tests_ordered = stat_tests_ordered.reset_index().set_index(['Condition 1', 'Condition 2'])\n",
    "\n",
    "    print(stat_tests)\n",
    "    stat_tests_ordered\n",
    "\n",
    "else:\n",
    "    stat_tests = stat_tests_ordered = None"
   ]
  },
  {
   "cell_type": "markdown",
   "id": "02c3e806-4e71-4faf-aa81-b0684d245635",
   "metadata": {
    "papermill": {
     "duration": 0.009848,
     "end_time": "2024-02-18T19:19:38.904291",
     "exception": false,
     "start_time": "2024-02-18T19:19:38.894443",
     "status": "completed"
    },
    "tags": []
   },
   "source": [
    "# Save config"
   ]
  },
  {
   "cell_type": "code",
   "execution_count": 7,
   "id": "2d127cb4-2cab-47d4-900a-f6c54f0e64e5",
   "metadata": {
    "execution": {
     "iopub.execute_input": "2024-02-18T19:19:38.920581Z",
     "iopub.status.busy": "2024-02-18T19:19:38.919926Z",
     "iopub.status.idle": "2024-02-18T19:19:39.003041Z",
     "shell.execute_reply": "2024-02-18T19:19:39.002094Z"
    },
    "papermill": {
     "duration": 0.091708,
     "end_time": "2024-02-18T19:19:39.004498",
     "exception": false,
     "start_time": "2024-02-18T19:19:38.912790",
     "status": "completed"
    },
    "tags": []
   },
   "outputs": [
    {
     "name": "stdout",
     "output_type": "stream",
     "text": [
      "random_seed: 775418045\n"
     ]
    }
   ],
   "source": [
    "with h5.File(proc_path, 'r') as f:\n",
    "    random_seed = f['config/default_random_seed'][()]\n",
    "    sacc_sel = f['saccade_selection/fixation_indices'][()]\n",
    "fix_df = pd.read_hdf(proc_path, 'fixation_dataframe', 'r')\n",
    "\n",
    "print('random_seed:', random_seed)"
   ]
  },
  {
   "cell_type": "code",
   "execution_count": 8,
   "id": "8fefe126-a643-49d0-9595-b3b640ffb64a",
   "metadata": {
    "execution": {
     "iopub.execute_input": "2024-02-18T19:19:39.013159Z",
     "iopub.status.busy": "2024-02-18T19:19:39.012506Z",
     "iopub.status.idle": "2024-02-18T19:19:39.016391Z",
     "shell.execute_reply": "2024-02-18T19:19:39.015801Z"
    },
    "papermill": {
     "duration": 0.009568,
     "end_time": "2024-02-18T19:19:39.017440",
     "exception": false,
     "start_time": "2024-02-18T19:19:39.007872",
     "status": "completed"
    },
    "tags": []
   },
   "outputs": [],
   "source": [
    "save_results, add_attr_to_dset, check_equals_saved, link_dsets, copy_group = \\\n",
    "    get_storage_functions(output_path)"
   ]
  },
  {
   "cell_type": "code",
   "execution_count": 9,
   "id": "d7e1030c-ec90-4217-9d5a-c157e1ad7946",
   "metadata": {
    "execution": {
     "iopub.execute_input": "2024-02-18T19:19:39.025527Z",
     "iopub.status.busy": "2024-02-18T19:19:39.025131Z",
     "iopub.status.idle": "2024-02-18T19:19:39.073374Z",
     "shell.execute_reply": "2024-02-18T19:19:39.072552Z"
    },
    "papermill": {
     "duration": 0.055701,
     "end_time": "2024-02-18T19:19:39.076568",
     "exception": false,
     "start_time": "2024-02-18T19:19:39.020867",
     "status": "completed"
    },
    "tags": []
   },
   "outputs": [],
   "source": [
    "group = analysis_name + '/config/'\n",
    "save_results(group+'random_seed', random_seed)\n",
    "save_results(group+'sdf_suffix', sdf_suffix)\n",
    "\n",
    "group = analysis_name + '/config/time_windows/'\n",
    "save_results(group+'t_pre', t_pre)\n",
    "save_results(group+'t_post', t_post)\n",
    "save_results(group+'t_step', t_step)\n",
    "add_attr_to_dset(group, attrs=dict(unit='ms'))\n",
    "\n",
    "group = analysis_name + '/config/return_criterion/'\n",
    "save_results(group+'return_thres', return_thres, attrs=dict(unit='dva'))\n",
    "save_results(group+'min_sep', min_sep, attrs=dict(unit='dva'))\n",
    "save_results(group+'min_sep_win', min_sep_win, attrs=dict(unit='ms'))\n",
    "\n",
    "group = analysis_name + '/config/statistics/'\n",
    "save_results(group+'tests', str(stat_tests))\n",
    "save_results(group+'test_kind', 'permutation')\n",
    "save_results(group+'n_perm', n_perm)\n",
    "\n",
    "save_results(analysis_name+'/saccade_selection', sacc_sel)"
   ]
  },
  {
   "cell_type": "markdown",
   "id": "db9732ce-68ac-4cef-be25-b0c0b5d49f88",
   "metadata": {
    "papermill": {
     "duration": 0.007064,
     "end_time": "2024-02-18T19:19:39.093487",
     "exception": false,
     "start_time": "2024-02-18T19:19:39.086423",
     "status": "completed"
    },
    "tags": []
   },
   "source": [
    "# Find return pairs"
   ]
  },
  {
   "cell_type": "code",
   "execution_count": 10,
   "id": "d754f273-e25e-43b8-b02d-86abe185d145",
   "metadata": {
    "execution": {
     "iopub.execute_input": "2024-02-18T19:19:39.106997Z",
     "iopub.status.busy": "2024-02-18T19:19:39.106350Z",
     "iopub.status.idle": "2024-02-18T19:19:39.172050Z",
     "shell.execute_reply": "2024-02-18T19:19:39.171527Z"
    },
    "papermill": {
     "duration": 0.074681,
     "end_time": "2024-02-18T19:19:39.173963",
     "exception": false,
     "start_time": "2024-02-18T19:19:39.099282",
     "status": "completed"
    },
    "tags": []
   },
   "outputs": [
    {
     "name": "stdout",
     "output_type": "stream",
     "text": [
      "\"current\" return pairs shape: (1449, 2)\n",
      "\"previous\" return pairs shape: (1011, 2)\n"
     ]
    }
   ],
   "source": [
    "df_ = fix_df.iloc[sacc_sel[1]]\n",
    "imids = np.array([f'{v0}/{v1}' for v0, v1 in df_[['Image subdir', 'Image filename']].values])\n",
    "pos0 = fix_df.iloc[sacc_sel[0]][['Relative X', 'Relative Y']].values\n",
    "pos1 = df_[['Relative X', 'Relative Y']].values\n",
    "\n",
    "curr_return_pairs = find_return_fixations(imids, pos1, thres_deg=return_thres)\n",
    "prev_return_pairs = find_return_fixations(imids, pos0, thres_deg=return_thres)\n",
    "print('\"current\" return pairs shape:', curr_return_pairs.shape)\n",
    "print('\"previous\" return pairs shape:', prev_return_pairs.shape)\n",
    "\n",
    "bycond_return_pairs = dict(\n",
    "    current=curr_return_pairs,\n",
    "    previous=prev_return_pairs)"
   ]
  },
  {
   "cell_type": "code",
   "execution_count": 11,
   "id": "705ab737-8e14-47ea-9fba-415c92b634b1",
   "metadata": {
    "execution": {
     "iopub.execute_input": "2024-02-18T19:19:39.183800Z",
     "iopub.status.busy": "2024-02-18T19:19:39.182777Z",
     "iopub.status.idle": "2024-02-18T19:19:39.198886Z",
     "shell.execute_reply": "2024-02-18T19:19:39.197638Z"
    },
    "papermill": {
     "duration": 0.024193,
     "end_time": "2024-02-18T19:19:39.201940",
     "exception": false,
     "start_time": "2024-02-18T19:19:39.177747",
     "status": "completed"
    },
    "tags": []
   },
   "outputs": [],
   "source": [
    "if min_sep > 0:\n",
    "    iind_tr = fix_df.index.names.index('Trial')\n",
    "    iind_fix = fix_df.index.names.index('Fixation')\n",
    "\n",
    "    for cond, return_pairs in bycond_return_pairs.items():\n",
    "        decorr_win = 'current' if cond == 'previous' else 'previous'\n",
    "        min_seps = np.full(len(return_pairs), np.inf)\n",
    "\n",
    "        for i, (i0_, i1_) in enumerate(tqdm(return_pairs)):\n",
    "            i0, i1 = sacc_sel[1,[i0_,i1_]]\n",
    "            itr0, itr1 = fix_df.index.get_level_values(iind_tr)[[i0,i1]]\n",
    "            tr0_fixs = fix_df.loc[(itr0, slice(None))]\n",
    "            tr1_fixs = fix_df.loc[(itr1, slice(None))]\n",
    "\n",
    "            # find any relevant fixations within min_sep window\n",
    "            if decorr_win == 'current':\n",
    "                ifix0, ifix1 = fix_df.index.get_level_values(iind_fix)[[i0,i1]]\n",
    "                t0, t1 = fix_df.iloc[[i0,i1]]['Time'].values\n",
    "\n",
    "                m0 = tr0_fixs.index >= ifix0\n",
    "                if not m0.any(): continue\n",
    "                m0[m0] = tr0_fixs.loc[m0, 'Time'] <= (t0 + min_sep_win)\n",
    "                if not m0.any(): continue\n",
    "\n",
    "                m1 = tr1_fixs.index >= ifix1\n",
    "                if not m1.any(): continue\n",
    "                m1[m1] = tr1_fixs.loc[m1, 'Time'] <= (t1 + min_sep_win)\n",
    "                if not m1.any(): continue\n",
    "\n",
    "            else:\n",
    "                i0, i1 = sacc_sel[0,[i0_,i1_]]\n",
    "                ifix0, ifix1 = fix_df.index.get_level_values(iind_fix)[[i0,i1]]\n",
    "                t0, t1 = fix_df.iloc[[i0,i1]]['End time'].values\n",
    "\n",
    "                m0 = tr0_fixs.index <= ifix0\n",
    "                if not m0.any(): continue\n",
    "                m0[m0] = tr0_fixs.loc[m0, 'End time'].values > (t0 - min_sep_win)\n",
    "                if not m0.any(): continue\n",
    "\n",
    "                m1 = tr1_fixs.index <= ifix1\n",
    "                if not m1.any(): continue\n",
    "                m1[m1] = tr1_fixs.loc[m1, 'End time'].values > (t1 - min_sep_win)\n",
    "                if not m1.any(): continue\n",
    "\n",
    "            pwd = np.linalg.norm(\n",
    "                tr0_fixs.loc[m0, ['Relative X', 'Relative Y']].values[:,None,:]\n",
    "                - tr1_fixs.loc[m1, ['Relative X', 'Relative Y']].values[None,:,:],\n",
    "                axis=-1)\n",
    "            min_seps[i] = pwd.min()\n",
    "\n",
    "        bycond_return_pairs[cond] = return_pairs[min_seps >= min_sep]\n",
    "\n",
    "    for k, v in bycond_return_pairs.items():\n",
    "        print(f'decorrelated \"{k}\" return pairs shape:', v.shape)"
   ]
  },
  {
   "cell_type": "code",
   "execution_count": 12,
   "id": "cac2a8e5-5329-41df-8e9d-d7d7dbde0e6c",
   "metadata": {
    "execution": {
     "iopub.execute_input": "2024-02-18T19:19:39.222159Z",
     "iopub.status.busy": "2024-02-18T19:19:39.221740Z",
     "iopub.status.idle": "2024-02-18T19:19:39.247686Z",
     "shell.execute_reply": "2024-02-18T19:19:39.246839Z"
    },
    "papermill": {
     "duration": 0.038053,
     "end_time": "2024-02-18T19:19:39.250163",
     "exception": false,
     "start_time": "2024-02-18T19:19:39.212110",
     "status": "completed"
    },
    "tags": []
   },
   "outputs": [],
   "source": [
    "group = analysis_name + '/return_pairs/'\n",
    "for cond, pairs in bycond_return_pairs.items():\n",
    "    if not pairs.size:\n",
    "        pairs = h5.Empty('i')\n",
    "    save_results(group+cond, pairs)"
   ]
  },
  {
   "cell_type": "markdown",
   "id": "6a58a1f7-e4af-42ce-99d9-df5a4b835f26",
   "metadata": {
    "papermill": {
     "duration": 0.007539,
     "end_time": "2024-02-18T19:19:39.266276",
     "exception": false,
     "start_time": "2024-02-18T19:19:39.258737",
     "status": "completed"
    },
    "tags": []
   },
   "source": [
    "# Get fixation onset-aligned responses"
   ]
  },
  {
   "cell_type": "code",
   "execution_count": 13,
   "id": "436138cb-0844-4db3-bf35-3fe5dc55ec0f",
   "metadata": {
    "execution": {
     "iopub.execute_input": "2024-02-18T19:19:39.279150Z",
     "iopub.status.busy": "2024-02-18T19:19:39.278298Z",
     "iopub.status.idle": "2024-02-18T19:19:46.007684Z",
     "shell.execute_reply": "2024-02-18T19:19:46.007134Z"
    },
    "papermill": {
     "duration": 6.738454,
     "end_time": "2024-02-18T19:19:46.009993",
     "exception": false,
     "start_time": "2024-02-18T19:19:39.271539",
     "status": "completed"
    },
    "tags": []
   },
   "outputs": [
    {
     "data": {
      "text/plain": [
       "((92,), dtype('<U3'), (6234150, 92), dtype('float32'))"
      ]
     },
     "execution_count": 13,
     "metadata": {},
     "output_type": "execute_result"
    }
   ],
   "source": [
    "with h5.File(sdf_path, 'r') as f:\n",
    "    dset = f['sdf']\n",
    "    unit_names = dset.attrs['unit_names'].astype(str)\n",
    "    sdf = dset[()]\n",
    "    if 'unit_names' in f:\n",
    "        copy_group(f, 'unit_names', analysis_name+'/unit_names')\n",
    "\n",
    "n_neur = sdf.shape[1]\n",
    "unit_names.shape, unit_names.dtype, sdf.shape, sdf.dtype"
   ]
  },
  {
   "cell_type": "code",
   "execution_count": 14,
   "id": "56352f3a-2b45-4874-a342-a900d2614294",
   "metadata": {
    "execution": {
     "iopub.execute_input": "2024-02-18T19:19:46.019149Z",
     "iopub.status.busy": "2024-02-18T19:19:46.018635Z",
     "iopub.status.idle": "2024-02-18T19:19:46.102518Z",
     "shell.execute_reply": "2024-02-18T19:19:46.101871Z"
    },
    "papermill": {
     "duration": 0.090478,
     "end_time": "2024-02-18T19:19:46.104032",
     "exception": false,
     "start_time": "2024-02-18T19:19:46.013554",
     "status": "completed"
    },
    "tags": []
   },
   "outputs": [
    {
     "data": {
      "text/plain": [
       "((4037, 75, 92), dtype('float32'))"
      ]
     },
     "execution_count": 14,
     "metadata": {},
     "output_type": "execute_result"
    }
   ],
   "source": [
    "ts = np.arange(-t_pre, t_post, t_step)\n",
    "\n",
    "resps = np.empty_like(sdf, shape=(sacc_sel.shape[1], ts.size, sdf.shape[-1]))\n",
    "for i, t in enumerate(fix_df.iloc[sacc_sel[1]]['Time'].values):\n",
    "    ts_ = np.round(t+ts).astype(int)\n",
    "    resps[i] = sdf[ts_,:]\n",
    "\n",
    "resps.shape, resps.dtype"
   ]
  },
  {
   "cell_type": "markdown",
   "id": "0ad90c1e-2687-4c34-8020-ffbb5c760853",
   "metadata": {
    "papermill": {
     "duration": 0.003747,
     "end_time": "2024-02-18T19:19:46.111987",
     "exception": false,
     "start_time": "2024-02-18T19:19:46.108240",
     "status": "completed"
    },
    "tags": []
   },
   "source": [
    "# Calculate self-consistency"
   ]
  },
  {
   "cell_type": "code",
   "execution_count": 15,
   "id": "b8abf977-2db0-4a90-bfa5-8ee1d5d6e650",
   "metadata": {
    "execution": {
     "iopub.execute_input": "2024-02-18T19:19:46.120446Z",
     "iopub.status.busy": "2024-02-18T19:19:46.120064Z",
     "iopub.status.idle": "2024-02-18T19:19:53.609249Z",
     "shell.execute_reply": "2024-02-18T19:19:53.608661Z"
    },
    "papermill": {
     "duration": 7.495138,
     "end_time": "2024-02-18T19:19:53.610764",
     "exception": false,
     "start_time": "2024-02-18T19:19:46.115626",
     "status": "completed"
    },
    "tags": []
   },
   "outputs": [],
   "source": [
    "coords = (('time', ts), ('unit', unit_names))\n",
    "attrs = dict(\n",
    "    return_thres=return_thres,\n",
    "    min_sep=min_sep,\n",
    "    min_sep_win=min_sep_win,\n",
    "    random_seed=random_seed,\n",
    "    unit=\"Pearson's r\")\n",
    "\n",
    "bycond_rsc_ds = {}\n",
    "for cond, pairs in bycond_return_pairs.items():\n",
    "    if len(pairs) > 1:\n",
    "        attrs['n_pairs'] = len(pairs)\n",
    "        ds = pairwise_self_consistency(\n",
    "            pairs=pairs, resps=resps,\n",
    "            n_bootstraps=n_boots, n_permutations=0,\n",
    "            random_seed=random_seed,\n",
    "            coords=coords, attrs=attrs)\n",
    "    else:\n",
    "        ds = None\n",
    "    bycond_rsc_ds[cond] = ds"
   ]
  },
  {
   "cell_type": "code",
   "execution_count": 16,
   "id": "d65a935c-c099-42e7-aa4b-f8c338d8206b",
   "metadata": {
    "execution": {
     "iopub.execute_input": "2024-02-18T19:19:53.631421Z",
     "iopub.status.busy": "2024-02-18T19:19:53.631172Z",
     "iopub.status.idle": "2024-02-18T19:19:53.740034Z",
     "shell.execute_reply": "2024-02-18T19:19:53.739342Z"
    },
    "papermill": {
     "duration": 0.127623,
     "end_time": "2024-02-18T19:19:53.743050",
     "exception": false,
     "start_time": "2024-02-18T19:19:53.615427",
     "status": "completed"
    },
    "tags": []
   },
   "outputs": [],
   "source": [
    "group = analysis_name + '/'\n",
    "q = lambda x: quantize(x, 3)\n",
    "compr = dict(zlib=True, complevel=9)\n",
    "for cond, dataset in bycond_rsc_ds.items():\n",
    "    loc = group + cond\n",
    "    if dataset is not None:\n",
    "        dataset = dataset.assign({\n",
    "            k: q(v)\n",
    "            for k, v in dataset.data_vars.items()})\n",
    "        encoding = {\n",
    "            k: dict(chunksizes=v.shape, **compr)\n",
    "            for k, v in dataset.data_vars.items()\n",
    "            if v.size}\n",
    "        dataset.to_netcdf(\n",
    "            output_path, group=loc, mode='a',\n",
    "            engine='h5netcdf', encoding=encoding)\n",
    "    else:\n",
    "        save_results(loc, h5.Empty('f'))"
   ]
  },
  {
   "cell_type": "markdown",
   "id": "51d4d912-b7bd-4473-83c6-c265ccf5e80b",
   "metadata": {
    "papermill": {
     "duration": 0.010035,
     "end_time": "2024-02-18T19:19:53.765291",
     "exception": false,
     "start_time": "2024-02-18T19:19:53.755256",
     "status": "completed"
    },
    "tags": []
   },
   "source": [
    "# Permutation test"
   ]
  },
  {
   "cell_type": "code",
   "execution_count": 17,
   "id": "0849522c-2dd1-4fe1-b8ec-d11cbf4dbad9",
   "metadata": {
    "execution": {
     "iopub.execute_input": "2024-02-18T19:19:53.786441Z",
     "iopub.status.busy": "2024-02-18T19:19:53.786099Z",
     "iopub.status.idle": "2024-02-18T19:19:53.792529Z",
     "shell.execute_reply": "2024-02-18T19:19:53.791201Z"
    },
    "papermill": {
     "duration": 0.016789,
     "end_time": "2024-02-18T19:19:53.794303",
     "exception": false,
     "start_time": "2024-02-18T19:19:53.777514",
     "status": "completed"
    },
    "tags": []
   },
   "outputs": [],
   "source": [
    "test_results = {}\n",
    "\n",
    "if do_tests:\n",
    "    coords = (('time', ts), ('unit', unit_names))\n",
    "    attrs = dict(random_seed=random_seed)\n",
    "\n",
    "    for (c0, c1), rows in stat_tests_ordered.groupby(['Condition 1', 'Condition 2'], axis=0):\n",
    "        alts = rows['Alternative'].values\n",
    "        print('test:', (c0, c1), '\\talternatives:', alts)\n",
    "\n",
    "        try:\n",
    "            ds = pairwise_self_consistency_perm_test(\n",
    "                resps=resps,\n",
    "                pairs0=bycond_return_pairs[c0],\n",
    "                pairs1=bycond_return_pairs[c1],\n",
    "                alternatives=alts,\n",
    "                n_permutations=n_perm,\n",
    "                random_seed=random_seed,\n",
    "                coords=coords,\n",
    "                attrs=attrs,\n",
    "                verbose=True)\n",
    "        except ValueError as e:\n",
    "            if 'Less than 2 pairs' in str(e):\n",
    "                continue\n",
    "            raise\n",
    "\n",
    "        test_results[(c0,c1)] = ds\n",
    "        print()"
   ]
  },
  {
   "cell_type": "code",
   "execution_count": 18,
   "id": "87cd141f-4168-47e4-a587-8175325bf406",
   "metadata": {
    "execution": {
     "iopub.execute_input": "2024-02-18T19:19:53.806851Z",
     "iopub.status.busy": "2024-02-18T19:19:53.806373Z",
     "iopub.status.idle": "2024-02-18T19:19:53.812673Z",
     "shell.execute_reply": "2024-02-18T19:19:53.811737Z"
    },
    "papermill": {
     "duration": 0.015943,
     "end_time": "2024-02-18T19:19:53.815500",
     "exception": false,
     "start_time": "2024-02-18T19:19:53.799557",
     "status": "completed"
    },
    "tags": []
   },
   "outputs": [],
   "source": [
    "group = analysis_name + '/permutation_test/'\n",
    "compr = dict(zlib=True, complevel=9)\n",
    "for (c0, c1), dataset in test_results.items():\n",
    "    if not save_perm_diffs:\n",
    "        dataset = dataset.drop_vars('permuted_diffs')\n",
    "    encoding = {\n",
    "        k: dict(chunksizes=v.shape, **compr)\n",
    "        for k, v in dataset.data_vars.items()\n",
    "        if v.size}\n",
    "    dataset.to_netcdf(\n",
    "        output_path, group=group+f'{c0}_v_{c1}',\n",
    "        mode='a', engine='h5netcdf', encoding=encoding)"
   ]
  },
  {
   "cell_type": "markdown",
   "id": "4aec2596-63f4-4186-b7d0-5f91c2868498",
   "metadata": {
    "papermill": {
     "duration": 0.011467,
     "end_time": "2024-02-18T19:19:53.838440",
     "exception": false,
     "start_time": "2024-02-18T19:19:53.826973",
     "status": "completed"
    },
    "tags": []
   },
   "source": [
    "# Wrap up"
   ]
  },
  {
   "cell_type": "code",
   "execution_count": 19,
   "id": "8e50b16a-744e-4328-9cbc-5813d8baed9e",
   "metadata": {
    "execution": {
     "iopub.execute_input": "2024-02-18T19:19:53.854095Z",
     "iopub.status.busy": "2024-02-18T19:19:53.853447Z",
     "iopub.status.idle": "2024-02-18T19:19:53.860432Z",
     "shell.execute_reply": "2024-02-18T19:19:53.859474Z"
    },
    "papermill": {
     "duration": 0.017084,
     "end_time": "2024-02-18T19:19:53.863215",
     "exception": false,
     "start_time": "2024-02-18T19:19:53.846131",
     "status": "completed"
    },
    "tags": []
   },
   "outputs": [],
   "source": [
    "save_results(f'progress_report/{analysis_name}/all_done', True)"
   ]
  },
  {
   "cell_type": "code",
   "execution_count": 20,
   "id": "553e15c0-cf86-4e73-860d-b55bafb4bd47",
   "metadata": {
    "execution": {
     "iopub.execute_input": "2024-02-18T19:19:53.883800Z",
     "iopub.status.busy": "2024-02-18T19:19:53.883296Z",
     "iopub.status.idle": "2024-02-18T19:19:53.928983Z",
     "shell.execute_reply": "2024-02-18T19:19:53.927641Z"
    },
    "papermill": {
     "duration": 0.057942,
     "end_time": "2024-02-18T19:19:53.932112",
     "exception": false,
     "start_time": "2024-02-18T19:19:53.874170",
     "status": "completed"
    },
    "tags": []
   },
   "outputs": [
    {
     "name": "stdout",
     "output_type": "stream",
     "text": [
      "Last updated: 2024-02-18T14:19:53.897137-05:00\n",
      "\n",
      "Python implementation: CPython\n",
      "Python version       : 3.10.12\n",
      "IPython version      : 8.12.0\n",
      "\n",
      "Compiler    : GCC 11.4.0\n",
      "OS          : Linux\n",
      "Release     : 5.15.0-92-generic\n",
      "Machine     : x86_64\n",
      "Processor   : x86_64\n",
      "CPU cores   : 20\n",
      "Architecture: 64bit\n",
      "\n",
      "Python implementation: CPython\n",
      "Python version       : 3.10.12\n",
      "IPython version      : 8.12.0\n",
      "\n",
      "Compiler    : GCC 11.4.0\n",
      "OS          : Linux\n",
      "Release     : 5.15.0-92-generic\n",
      "Machine     : x86_64\n",
      "Processor   : x86_64\n",
      "CPU cores   : 20\n",
      "Architecture: 64bit\n",
      "\n",
      "Git hash: b0bb10f45dee065cc3af96fe224326b883d27431\n",
      "\n",
      "Git repo: https://github.com/willwx/free_viewing_staging.git\n",
      "\n",
      "Git branch: master\n",
      "\n",
      "h5py  : 3.8.0\n",
      "sys   : 3.10.12 (main, Nov 20 2023, 15:14:05) [GCC 11.4.0]\n",
      "pandas: 2.0.1\n",
      "numpy : 1.24.3\n",
      "\n"
     ]
    }
   ],
   "source": [
    "%load_ext watermark\n",
    "%watermark\n",
    "%watermark -vm --iversions -rbg"
   ]
  },
  {
   "cell_type": "markdown",
   "id": "f6c0cb07-0804-4655-94b3-c81bee86f49f",
   "metadata": {
    "papermill": {
     "duration": 0.008106,
     "end_time": "2024-02-18T19:19:53.951460",
     "exception": false,
     "start_time": "2024-02-18T19:19:53.943354",
     "status": "completed"
    },
    "tags": []
   },
   "source": [
    "# Plots"
   ]
  },
  {
   "cell_type": "code",
   "execution_count": 21,
   "id": "d4edad97-3dfe-4d04-a342-cae13c230afb",
   "metadata": {
    "execution": {
     "iopub.execute_input": "2024-02-18T19:19:53.963832Z",
     "iopub.status.busy": "2024-02-18T19:19:53.963429Z",
     "iopub.status.idle": "2024-02-18T19:19:54.194557Z",
     "shell.execute_reply": "2024-02-18T19:19:54.194047Z"
    },
    "papermill": {
     "duration": 0.238341,
     "end_time": "2024-02-18T19:19:54.196032",
     "exception": false,
     "start_time": "2024-02-18T19:19:53.957691",
     "status": "completed"
    },
    "tags": []
   },
   "outputs": [],
   "source": [
    "import matplotlib.pyplot as plt"
   ]
  },
  {
   "cell_type": "code",
   "execution_count": 22,
   "id": "ff1d1a9a-0bf7-472a-96d4-9b7e8946273c",
   "metadata": {
    "execution": {
     "iopub.execute_input": "2024-02-18T19:19:54.204949Z",
     "iopub.status.busy": "2024-02-18T19:19:54.204609Z",
     "iopub.status.idle": "2024-02-18T19:19:54.387332Z",
     "shell.execute_reply": "2024-02-18T19:19:54.385963Z"
    },
    "papermill": {
     "duration": 0.191156,
     "end_time": "2024-02-18T19:19:54.391177",
     "exception": false,
     "start_time": "2024-02-18T19:19:54.200021",
     "status": "completed"
    },
    "tags": []
   },
   "outputs": [
    {
     "data": {
      "image/png": "[encoded data removed]",
      "text/plain": [
       "<Figure size 640x480 with 1 Axes>"
      ]
     },
     "metadata": {},
     "output_type": "display_data"
    }
   ],
   "source": [
    "if any(v is not None for v in bycond_rsc_ds.values()):\n",
    "    for k, color in (\n",
    "            ('previous', 'tab:green'),\n",
    "            ('current', 'tab:purple')):\n",
    "        value = bycond_rsc_ds[k]\n",
    "        if value is None: continue\n",
    "        val = value['sample'].values\n",
    "        m = np.nanmean(val, -1)\n",
    "        s = np.nanmedian(val, -1)\n",
    "        l, = plt.plot(ts, m, label=k.capitalize(), color=color)\n",
    "        plt.fill_between(ts, m-s, m+s, ec='none', fc=l.get_color(), alpha=0.2)\n",
    "    plt.xlabel('Time to fixation onset, ms')\n",
    "    plt.ylabel('Self-consistency, Pearson\\'s r')\n",
    "    plt.legend(title='Return fixation type', loc='upper left', bbox_to_anchor=(1,1))"
   ]
  },
  {
   "cell_type": "code",
   "execution_count": 23,
   "id": "68e6fbe4-a239-4d2a-b607-8ab9830d2fe5",
   "metadata": {
    "execution": {
     "iopub.execute_input": "2024-02-18T19:19:54.414080Z",
     "iopub.status.busy": "2024-02-18T19:19:54.413430Z",
     "iopub.status.idle": "2024-02-18T19:19:54.427099Z",
     "shell.execute_reply": "2024-02-18T19:19:54.426085Z"
    },
    "papermill": {
     "duration": 0.025262,
     "end_time": "2024-02-18T19:19:54.428580",
     "exception": false,
     "start_time": "2024-02-18T19:19:54.403318",
     "status": "completed"
    },
    "tags": []
   },
   "outputs": [],
   "source": [
    "for test, results in test_results.items():\n",
    "    alts = results.coords['alternative'].values\n",
    "    n = len(alts)\n",
    "    fig, axs = plt.subplots(1, n, figsize=(4*n,3), squeeze=False, sharex=True)\n",
    "    plt.subplots_adjust(wspace=0.5)\n",
    "    f = lambda x: x if isinstance(x, str) else ', '.join(map(str, x))\n",
    "    pvals_ = results['p-value'].values\n",
    "    for i, ax in enumerate(axs.ravel()):\n",
    "        vs = pvals_[i]\n",
    "        ax.plot(ts, vs, c='k', lw=0.5);\n",
    "        ax.set_yscale('log')\n",
    "        ax.hlines(1e-2, ts.min(), ts.max(), ls='--', lw=0.5, color='r')\n",
    "        ax.text(.05, 1.05, f'alternative: {alts[i]}',\n",
    "                ha='left', va='bottom', transform=ax.transAxes)\n",
    "    ax = axs[0,0]\n",
    "    ax.text(.05, 1.1, 'test: '+', '.join(map(f, test)),\n",
    "            ha='left', va='bottom', transform=ax.transAxes)\n",
    "    axs[-1,0].set_xlabel('Time rel. fix. on, ms')\n",
    "    axs[0,0].set_ylabel('P-value');"
   ]
  },
  {
   "cell_type": "code",
   "execution_count": 24,
   "id": "af237394-373d-4356-93d2-abc2cb3890c4",
   "metadata": {
    "execution": {
     "iopub.execute_input": "2024-02-18T19:19:54.440776Z",
     "iopub.status.busy": "2024-02-18T19:19:54.439593Z",
     "iopub.status.idle": "2024-02-18T19:19:54.449472Z",
     "shell.execute_reply": "2024-02-18T19:19:54.448865Z"
    },
    "papermill": {
     "duration": 0.017125,
     "end_time": "2024-02-18T19:19:54.450547",
     "exception": false,
     "start_time": "2024-02-18T19:19:54.433422",
     "status": "completed"
    },
    "tags": []
   },
   "outputs": [],
   "source": [
    "for test, results in test_results.items():\n",
    "    alts = results.coords['alternative'].values\n",
    "    n = len(alts)\n",
    "    fig, axs = plt.subplots(1, n, figsize=(4*n,3), squeeze=False, sharex=True)\n",
    "    plt.subplots_adjust(wspace=0.5)\n",
    "    f = lambda x: x if isinstance(x, str) else ', '.join(map(str, x))\n",
    "    pvals_ = results['p-value'].values\n",
    "    for i, ax in enumerate(axs.ravel()):\n",
    "            vs = pvals_[i]\n",
    "            ax.plot(ts, np.nanmedian(vs, axis=-1))\n",
    "            ax.set_yscale('log')\n",
    "            ax.hlines(1e-2, ts.min(), ts.max(), ls='--', lw=0.5, color='r')\n",
    "            ax.text(.05, 1.025, f'alternative: {alts[i]}',\n",
    "                    ha='left', va='bottom', transform=ax.transAxes)\n",
    "    ax = axs[0,0]\n",
    "    ax.text(.05, 1.1, 'test: '+', '.join(map(f, test)),\n",
    "            ha='left', va='bottom', transform=ax.transAxes)\n",
    "    axs[-1,0].set_xlabel('Time rel. fix. on, ms')\n",
    "    axs[0,0].set_ylabel('P-value');"
   ]
  }
 ],
 "metadata": {
  "kernelspec": {
   "display_name": "Python 3 (ipykernel)",
   "language": "python",
   "name": "python3"
  },
  "language_info": {
   "codemirror_mode": {
    "name": "ipython",
    "version": 3
   },
   "file_extension": ".py",
   "mimetype": "text/x-python",
   "name": "python",
   "nbconvert_exporter": "python",
   "pygments_lexer": "ipython3",
   "version": "3.10.12"
  },
  "papermill": {
   "default_parameters": {},
   "duration": 17.987965,
   "end_time": "2024-02-18T19:19:55.178186",
   "environment_variables": {},
   "exception": null,
   "input_path": "script_2a_self_consistency.ipynb",
   "output_path": "../test_results/self_consistency_no_decorr/log_2a_self_consistency-Pa210201.ipynb",
   "parameters": {
    "min_sep": 0,
    "n_boots": 0,
    "n_perm": 0,
    "output_dir": "../test_results/self_consistency_no_decorr",
    "sess_name": "Pa210201"
   },
   "start_time": "2024-02-18T19:19:37.190221",
   "version": "2.5.0"
  }
 },
 "nbformat": 4,
 "nbformat_minor": 5
}