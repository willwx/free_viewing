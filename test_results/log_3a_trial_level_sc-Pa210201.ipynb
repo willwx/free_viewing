{
 "cells": [
  {
   "cell_type": "code",
   "execution_count": 1,
   "id": "f5a72016-6038-47bd-8059-e36d8631fed6",
   "metadata": {
    "execution": {
     "iopub.execute_input": "2024-02-18T19:20:47.038624Z",
     "iopub.status.busy": "2024-02-18T19:20:47.038084Z",
     "iopub.status.idle": "2024-02-18T19:20:47.628890Z",
     "shell.execute_reply": "2024-02-18T19:20:47.628406Z"
    },
    "papermill": {
     "duration": 0.604993,
     "end_time": "2024-02-18T19:20:47.630321",
     "exception": false,
     "start_time": "2024-02-18T19:20:47.025328",
     "status": "completed"
    },
    "tags": []
   },
   "outputs": [],
   "source": [
    "import sys\n",
    "from pathlib import Path\n",
    "\n",
    "import h5py as h5\n",
    "import numpy as np\n",
    "import pandas as pd\n",
    "import xarray as xr\n",
    "from tqdm import tqdm\n",
    "\n",
    "sys.path.append('../lib')\n",
    "from storage import get_storage_functions\n",
    "from local_paths import preproc_dir, analysis_dir\n",
    "from self_consistency import find_return_fixations, pairwise_self_consistency"
   ]
  },
  {
   "cell_type": "markdown",
   "id": "41b49208-1f53-45af-b49a-2f24618bf89c",
   "metadata": {
    "papermill": {
     "duration": 0.002977,
     "end_time": "2024-02-18T19:20:47.636540",
     "exception": false,
     "start_time": "2024-02-18T19:20:47.633563",
     "status": "completed"
    },
    "tags": []
   },
   "source": [
    "# Set parameters"
   ]
  },
  {
   "cell_type": "code",
   "execution_count": 2,
   "id": "6208c81a-7d05-42af-8b38-6b0a6db8bd75",
   "metadata": {
    "execution": {
     "iopub.execute_input": "2024-02-18T19:20:47.644225Z",
     "iopub.status.busy": "2024-02-18T19:20:47.643768Z",
     "iopub.status.idle": "2024-02-18T19:20:47.649477Z",
     "shell.execute_reply": "2024-02-18T19:20:47.648854Z"
    },
    "papermill": {
     "duration": 0.011401,
     "end_time": "2024-02-18T19:20:47.650841",
     "exception": false,
     "start_time": "2024-02-18T19:20:47.639440",
     "status": "completed"
    },
    "tags": [
     "parameters"
    ]
   },
   "outputs": [],
   "source": [
    "#============================================================================\n",
    "# session\n",
    "#============================================================================\n",
    "sess_name = 'sess_name'\n",
    "\n",
    "\n",
    "#============================================================================\n",
    "# response windows\n",
    "#============================================================================\n",
    "t_pre  = 100\n",
    "t_post = 100\n",
    "t_win  = 200\n",
    "t_step =  50\n",
    "\n",
    "\n",
    "#============================================================================\n",
    "# return fixation selection\n",
    "#============================================================================\n",
    "return_thres  = 1  # dva\n",
    "distant_thres = 8\n",
    "\n",
    "\n",
    "#============================================================================\n",
    "# temporal resolution\n",
    "#============================================================================\n",
    "# for summarizing trial duration and iti\n",
    "dur_res = 100\n",
    "iti_res =  50\n",
    "min_dur = 200  # exclude these before finding most-common (mode) trial dur\n",
    "\n",
    "\n",
    "#============================================================================\n",
    "# paths\n",
    "#============================================================================\n",
    "proc_dir = preproc_dir\n",
    "\n",
    "output_dir = analysis_dir + 'trial_level_sc'"
   ]
  },
  {
   "cell_type": "code",
   "execution_count": 3,
   "id": "46ddc8b4",
   "metadata": {
    "execution": {
     "iopub.execute_input": "2024-02-18T19:20:47.660284Z",
     "iopub.status.busy": "2024-02-18T19:20:47.659900Z",
     "iopub.status.idle": "2024-02-18T19:20:47.663785Z",
     "shell.execute_reply": "2024-02-18T19:20:47.662908Z"
    },
    "papermill": {
     "duration": 0.010477,
     "end_time": "2024-02-18T19:20:47.665360",
     "exception": false,
     "start_time": "2024-02-18T19:20:47.654883",
     "status": "completed"
    },
    "tags": [
     "injected-parameters"
    ]
   },
   "outputs": [],
   "source": [
    "# Parameters\n",
    "sess_name = \"Pa210201\"\n",
    "output_dir = \"../test_results\"\n"
   ]
  },
  {
   "cell_type": "markdown",
   "id": "57254560-a1f7-4df6-b384-1a01efc2aaca",
   "metadata": {
    "papermill": {
     "duration": 0.003687,
     "end_time": "2024-02-18T19:20:47.672482",
     "exception": false,
     "start_time": "2024-02-18T19:20:47.668795",
     "status": "completed"
    },
    "tags": []
   },
   "source": [
    "# Check prereqs and params"
   ]
  },
  {
   "cell_type": "code",
   "execution_count": 4,
   "id": "a779bf63-3446-4291-85b2-68018aeadda4",
   "metadata": {
    "execution": {
     "iopub.execute_input": "2024-02-18T19:20:47.680603Z",
     "iopub.status.busy": "2024-02-18T19:20:47.679689Z",
     "iopub.status.idle": "2024-02-18T19:20:47.692511Z",
     "shell.execute_reply": "2024-02-18T19:20:47.691210Z"
    },
    "papermill": {
     "duration": 0.018846,
     "end_time": "2024-02-18T19:20:47.694274",
     "exception": false,
     "start_time": "2024-02-18T19:20:47.675428",
     "status": "completed"
    },
    "tags": []
   },
   "outputs": [
    {
     "name": "stdout",
     "output_type": "stream",
     "text": [
      "Loading session from ../test_data/Pa210201-main.nwb\n",
      "Loading shared processing from ../test_data/Pa210201-proc.h5\n",
      "Loading rasters from ../test_data/Pa210201-rasters.nwb\n",
      "Saving results to ../test_results/Pa210201.h5\n"
     ]
    }
   ],
   "source": [
    "preproc_main_path = Path(proc_dir) / (sess_name + '-main.nwb')\n",
    "print('Loading session from', preproc_main_path)\n",
    "preproc_main_path = preproc_main_path.expanduser()\n",
    "assert preproc_main_path.is_file()\n",
    "\n",
    "proc_path = Path(proc_dir) / (sess_name + '-proc.h5')\n",
    "print('Loading shared processing from', proc_path)\n",
    "proc_path = proc_path.expanduser()\n",
    "assert proc_path.is_file()\n",
    "\n",
    "rasters_path = Path(proc_dir) / (sess_name + '-rasters.nwb')\n",
    "print('Loading rasters from', rasters_path)\n",
    "rasters_path = rasters_path.expanduser()\n",
    "assert rasters_path.is_file()\n",
    "\n",
    "output_dir = Path(output_dir)\n",
    "assert output_dir.expanduser().is_dir()\n",
    "output_path = output_dir / (sess_name + '.h5')\n",
    "print('Saving results to', output_path)\n",
    "output_path = output_path.expanduser()"
   ]
  },
  {
   "cell_type": "code",
   "execution_count": 5,
   "id": "683e5f44-24d6-41d4-b182-431a136f242e",
   "metadata": {
    "execution": {
     "iopub.execute_input": "2024-02-18T19:20:47.704795Z",
     "iopub.status.busy": "2024-02-18T19:20:47.704177Z",
     "iopub.status.idle": "2024-02-18T19:20:47.771315Z",
     "shell.execute_reply": "2024-02-18T19:20:47.770139Z"
    },
    "papermill": {
     "duration": 0.074437,
     "end_time": "2024-02-18T19:20:47.772908",
     "exception": false,
     "start_time": "2024-02-18T19:20:47.698471",
     "status": "completed"
    },
    "tags": []
   },
   "outputs": [
    {
     "name": "stdout",
     "output_type": "stream",
     "text": [
      "random_seed: 775418045\n"
     ]
    }
   ],
   "source": [
    "with h5.File(proc_path, 'r') as f:\n",
    "    random_seed = f['config/default_random_seed'][()]\n",
    "    unit_names = f['unit_selection/simple'][()].astype(str)\n",
    "    fix_sel = f['fixation_selection/fixation_indices'][()]\n",
    "fix_df = pd.read_hdf(proc_path, 'fixation_dataframe', 'r')\n",
    "\n",
    "print('random_seed:', random_seed)"
   ]
  },
  {
   "cell_type": "code",
   "execution_count": 6,
   "id": "be467d62-5fd3-4bd2-b0a2-654def2f8381",
   "metadata": {
    "execution": {
     "iopub.execute_input": "2024-02-18T19:20:47.781023Z",
     "iopub.status.busy": "2024-02-18T19:20:47.780748Z",
     "iopub.status.idle": "2024-02-18T19:20:47.786880Z",
     "shell.execute_reply": "2024-02-18T19:20:47.785897Z"
    },
    "papermill": {
     "duration": 0.011893,
     "end_time": "2024-02-18T19:20:47.788333",
     "exception": false,
     "start_time": "2024-02-18T19:20:47.776440",
     "status": "completed"
    },
    "tags": []
   },
   "outputs": [],
   "source": [
    "analysis_name = 'trial_level_sc'\n",
    "\n",
    "if output_path.is_file():\n",
    "    with h5.File(output_path, 'r') as f:\n",
    "        try:\n",
    "            if f[f'progress_report/{analysis_name}/all_done'][()].item():\n",
    "                raise RuntimeError(f'{sess_name} has already been processed')\n",
    "        except KeyError:\n",
    "            pass"
   ]
  },
  {
   "cell_type": "markdown",
   "id": "003f7ee4-3c41-4a74-915b-795e84d657c7",
   "metadata": {
    "papermill": {
     "duration": 0.003135,
     "end_time": "2024-02-18T19:20:47.794628",
     "exception": false,
     "start_time": "2024-02-18T19:20:47.791493",
     "status": "completed"
    },
    "tags": []
   },
   "source": [
    "# Save config"
   ]
  },
  {
   "cell_type": "code",
   "execution_count": 7,
   "id": "c891ecb0-c33b-46ba-8516-dc4dd0785ea3",
   "metadata": {
    "execution": {
     "iopub.execute_input": "2024-02-18T19:20:47.802693Z",
     "iopub.status.busy": "2024-02-18T19:20:47.802111Z",
     "iopub.status.idle": "2024-02-18T19:20:47.807861Z",
     "shell.execute_reply": "2024-02-18T19:20:47.806739Z"
    },
    "papermill": {
     "duration": 0.011679,
     "end_time": "2024-02-18T19:20:47.809322",
     "exception": false,
     "start_time": "2024-02-18T19:20:47.797643",
     "status": "completed"
    },
    "tags": []
   },
   "outputs": [],
   "source": [
    "save_results, add_attr_to_dset, check_equals_saved, link_dsets, copy_group = \\\n",
    "    get_storage_functions(output_path)"
   ]
  },
  {
   "cell_type": "code",
   "execution_count": 8,
   "id": "c9348ce1-fe2e-491d-a0a8-17ee4be1c82c",
   "metadata": {
    "execution": {
     "iopub.execute_input": "2024-02-18T19:20:47.816460Z",
     "iopub.status.busy": "2024-02-18T19:20:47.816277Z",
     "iopub.status.idle": "2024-02-18T19:20:47.827717Z",
     "shell.execute_reply": "2024-02-18T19:20:47.827176Z"
    },
    "papermill": {
     "duration": 0.017765,
     "end_time": "2024-02-18T19:20:47.830108",
     "exception": false,
     "start_time": "2024-02-18T19:20:47.812343",
     "status": "completed"
    },
    "tags": []
   },
   "outputs": [],
   "source": [
    "group = analysis_name + '/config/'\n",
    "save_results(group+'random_seed', random_seed)\n",
    "\n",
    "group = analysis_name + '/config/timing_resolution/'\n",
    "save_results(group+'dur_res', dur_res)\n",
    "save_results(group+'iti_res', iti_res)\n",
    "save_results(group+'min_dur', min_dur)\n",
    "\n",
    "group = analysis_name + '/config/time_windows/'\n",
    "save_results(group+'t_pre', t_pre)\n",
    "save_results(group+'t_post', t_post)\n",
    "save_results(group+'t_win', t_win)\n",
    "save_results(group+'t_step', t_step)\n",
    "add_attr_to_dset(group, attrs=dict(unit='ms'))\n",
    "\n",
    "group = analysis_name + '/config/return_criterion/'\n",
    "save_results(group+'return_thres', return_thres)\n",
    "save_results(group+'distant_thres', distant_thres)\n",
    "add_attr_to_dset(group, attrs=dict(unit='dva'))"
   ]
  },
  {
   "cell_type": "markdown",
   "id": "f6556806-6924-4fe3-91c7-b1affd635aeb",
   "metadata": {
    "papermill": {
     "duration": 0.007623,
     "end_time": "2024-02-18T19:20:47.846088",
     "exception": false,
     "start_time": "2024-02-18T19:20:47.838465",
     "status": "completed"
    },
    "tags": []
   },
   "source": [
    "# Select trials and fixations"
   ]
  },
  {
   "cell_type": "code",
   "execution_count": 9,
   "id": "36246fda-f59f-481f-b870-a910ebd781c1",
   "metadata": {
    "execution": {
     "iopub.execute_input": "2024-02-18T19:20:47.858627Z",
     "iopub.status.busy": "2024-02-18T19:20:47.857599Z",
     "iopub.status.idle": "2024-02-18T19:20:47.881430Z",
     "shell.execute_reply": "2024-02-18T19:20:47.880386Z"
    },
    "papermill": {
     "duration": 0.031933,
     "end_time": "2024-02-18T19:20:47.883695",
     "exception": false,
     "start_time": "2024-02-18T19:20:47.851762",
     "status": "completed"
    },
    "tags": []
   },
   "outputs": [
    {
     "name": "stdout",
     "output_type": "stream",
     "text": [
      "Mode trial duration:\t 1500 ms\n",
      "Mode ITI:\t\t 800.0 ms\n",
      "Selected 1528 complete trials\n",
      "Selected 5705 of 5979 (95.4%) fixations to be within those trials\n"
     ]
    }
   ],
   "source": [
    "with h5.File(preproc_main_path, 'r') as f:\n",
    "    pres_iim = f['stimulus/presentation/presentations/data'][()]\n",
    "    pres_tid = f['intervals/presentations/trial_id'][()]\n",
    "    pres_t0s = f['intervals/presentations/start_time'][()]\n",
    "    pres_t1s = f['intervals/presentations/stop_time'][()]\n",
    "\n",
    "durs = (pres_t1s - pres_t0s) * 1e3\n",
    "durs = np.round(durs / dur_res) * dur_res\n",
    "dur = pd.Series(durs[durs > min_dur]).mode().values.mean().item()\n",
    "dur = round(dur / dur_res) * dur_res\n",
    "print('Mode trial duration:\\t', dur, 'ms')\n",
    "\n",
    "itis = (pres_t0s[1:] - pres_t1s[:-1]) * 1e3\n",
    "itis = np.round(itis / iti_res) * iti_res\n",
    "iti = pd.Series(itis).mode().values.mean().item()\n",
    "iti = np.round(iti / iti_res) * iti_res\n",
    "print('Mode ITI:\\t\\t', iti, 'ms')  # for the record only\n",
    "\n",
    "fix_itrs = fix_df.iloc[fix_sel].index.get_level_values(fix_df.index.names.index('Trial')).values\n",
    "\n",
    "# these are trial ID's\n",
    "itr_sel = pres_tid[np.nonzero(durs == dur)[0]]\n",
    "itr_sel = np.sort(list(set(itr_sel) & set(fix_itrs)))\n",
    "print('Selected', len(itr_sel), 'complete trials')\n",
    "\n",
    "# these are trial indices, relative to pres_*\n",
    "tr_sel = pd.DataFrame(data={'Trial': pres_tid, 'Index': np.arange(pres_tid.size)})\\\n",
    "    .set_index('Trial').loc[itr_sel, 'Index'].values\n",
    "\n",
    "m = pd.Series(fix_itrs).isin(itr_sel).values\n",
    "print(f'Selected {m.sum()} of {m.size} ({m.mean()*100:.1f}%) fixations to be within those trials')\n",
    "fix_sel = fix_sel[m]\n",
    "fix_itrs = fix_itrs[m]\n",
    "\n",
    "# get fixation trial index relative to selected trials\n",
    "fix_ritrs = pd.DataFrame(data={'Trial': itr_sel, 'Index': np.arange(itr_sel.size)})\\\n",
    "    .set_index('Trial').loc[fix_itrs, 'Index'].values"
   ]
  },
  {
   "cell_type": "code",
   "execution_count": 10,
   "id": "8af4b688-a89f-43bb-bb24-19fd87af79ca",
   "metadata": {
    "execution": {
     "iopub.execute_input": "2024-02-18T19:20:47.900684Z",
     "iopub.status.busy": "2024-02-18T19:20:47.899861Z",
     "iopub.status.idle": "2024-02-18T19:20:47.963399Z",
     "shell.execute_reply": "2024-02-18T19:20:47.962760Z"
    },
    "papermill": {
     "duration": 0.072376,
     "end_time": "2024-02-18T19:20:47.964885",
     "exception": false,
     "start_time": "2024-02-18T19:20:47.892509",
     "status": "completed"
    },
    "tags": []
   },
   "outputs": [],
   "source": [
    "save_results(analysis_name+'/mode_dur', dur)\n",
    "save_results(analysis_name+'/mode_iti', iti)\n",
    "save_results(analysis_name+'/trial_selection', itr_sel)\n",
    "save_results(analysis_name+'/fixation_selection', fix_sel)"
   ]
  },
  {
   "cell_type": "markdown",
   "id": "3d556201-5e44-4783-bb75-86ded13752d9",
   "metadata": {
    "papermill": {
     "duration": 0.003175,
     "end_time": "2024-02-18T19:20:47.971423",
     "exception": false,
     "start_time": "2024-02-18T19:20:47.968248",
     "status": "completed"
    },
    "tags": []
   },
   "source": [
    "# Find return and distant fixation pairs"
   ]
  },
  {
   "cell_type": "code",
   "execution_count": 11,
   "id": "074652ea-7efc-4b72-a8ac-1c86449fa99b",
   "metadata": {
    "execution": {
     "iopub.execute_input": "2024-02-18T19:20:47.979389Z",
     "iopub.status.busy": "2024-02-18T19:20:47.978947Z",
     "iopub.status.idle": "2024-02-18T19:20:48.091347Z",
     "shell.execute_reply": "2024-02-18T19:20:48.090792Z"
    },
    "papermill": {
     "duration": 0.1189,
     "end_time": "2024-02-18T19:20:48.093645",
     "exception": false,
     "start_time": "2024-02-18T19:20:47.974745",
     "status": "completed"
    },
    "tags": []
   },
   "outputs": [
    {
     "name": "stdout",
     "output_type": "stream",
     "text": [
      "Num. return fixation pairs: 2141\n",
      "Num. distant fixation pairs: 5499\n"
     ]
    },
    {
     "name": "stdout",
     "output_type": "stream",
     "text": [
      "Num. same-image trial pairs: 946\n"
     ]
    }
   ],
   "source": [
    "fix_posns = fix_df.iloc[fix_sel][['Relative X', 'Relative Y']].values\n",
    "fix_imids = fix_df.iloc[fix_sel]['Image filename'].values\n",
    "\n",
    "return_pairs = find_return_fixations(fix_imids, fix_posns, thres_deg=return_thres)\n",
    "print('Num. return fixation pairs:', len(return_pairs))\n",
    "\n",
    "distant_pairs = find_return_fixations(fix_imids, fix_posns, thres_deg=distant_thres, distant=True)\n",
    "print('Num. distant fixation pairs:', len(distant_pairs))\n",
    "\n",
    "tr_imids = pres_iim[tr_sel]\n",
    "same_im_tr_pairs = find_return_fixations(tr_imids, np.zeros((len(tr_sel),2)), thres_deg=return_thres)\n",
    "print('Num. same-image trial pairs:', len(same_im_tr_pairs))"
   ]
  },
  {
   "cell_type": "markdown",
   "id": "aa57e67f-b3e6-4daf-b419-767e448d490c",
   "metadata": {
    "papermill": {
     "duration": 0.007785,
     "end_time": "2024-02-18T19:20:48.111751",
     "exception": false,
     "start_time": "2024-02-18T19:20:48.103966",
     "status": "completed"
    },
    "tags": []
   },
   "source": [
    "# Get image onset-aligned responses"
   ]
  },
  {
   "cell_type": "code",
   "execution_count": 12,
   "id": "3c2ef07e-b6a1-4cae-8576-79f5d1a7b961",
   "metadata": {
    "execution": {
     "iopub.execute_input": "2024-02-18T19:20:48.124061Z",
     "iopub.status.busy": "2024-02-18T19:20:48.123846Z",
     "iopub.status.idle": "2024-02-18T19:20:55.875959Z",
     "shell.execute_reply": "2024-02-18T19:20:55.875412Z"
    },
    "papermill": {
     "duration": 7.759922,
     "end_time": "2024-02-18T19:20:55.878109",
     "exception": false,
     "start_time": "2024-02-18T19:20:48.118187",
     "status": "completed"
    },
    "tags": []
   },
   "outputs": [
    {
     "data": {
      "text/plain": [
       "((6234150, 92), dtype('uint8'))"
      ]
     },
     "execution_count": 12,
     "metadata": {},
     "output_type": "execute_result"
    }
   ],
   "source": [
    "with h5.File(rasters_path, 'r') as f:\n",
    "    all_unit_names = list(f['processing/ecephys/unit_names/unit_name'][()].astype(str))\n",
    "    sel_ = np.array([all_unit_names.index(n) for n in unit_names])\n",
    "    rasters = f['processing/ecephys/rasters/data'][()][:,sel_]\n",
    "rasters.shape, rasters.dtype"
   ]
  },
  {
   "cell_type": "code",
   "execution_count": 13,
   "id": "7f3d4a83-330c-4daf-ae66-20fce2e3881c",
   "metadata": {
    "execution": {
     "iopub.execute_input": "2024-02-18T19:20:55.897393Z",
     "iopub.status.busy": "2024-02-18T19:20:55.897194Z",
     "iopub.status.idle": "2024-02-18T19:20:57.134936Z",
     "shell.execute_reply": "2024-02-18T19:20:57.133954Z"
    },
    "papermill": {
     "duration": 1.256921,
     "end_time": "2024-02-18T19:20:57.138330",
     "exception": false,
     "start_time": "2024-02-18T19:20:55.881409",
     "status": "completed"
    },
    "tags": []
   },
   "outputs": [],
   "source": [
    "ts = np.arange(-t_pre, dur+t_post, t_step)\n",
    "hwin = t_win//2\n",
    "\n",
    "resps = np.empty((itr_sel.size, ts.size, unit_names.size), dtype=np.float32)\n",
    "\n",
    "for i, t0 in enumerate(pres_t0s[tr_sel]*1e3):\n",
    "    for j, t in enumerate(t0 - hwin + ts):\n",
    "        t = int(round(t))\n",
    "        resps[i,j] = rasters[t:t+t_win,:].mean(0)"
   ]
  },
  {
   "cell_type": "code",
   "execution_count": 14,
   "id": "a4780b2d-2355-41b7-8239-7645209bc598",
   "metadata": {
    "execution": {
     "iopub.execute_input": "2024-02-18T19:20:57.166709Z",
     "iopub.status.busy": "2024-02-18T19:20:57.166207Z",
     "iopub.status.idle": "2024-02-18T19:20:57.178687Z",
     "shell.execute_reply": "2024-02-18T19:20:57.177395Z"
    },
    "papermill": {
     "duration": 0.032625,
     "end_time": "2024-02-18T19:20:57.182150",
     "exception": false,
     "start_time": "2024-02-18T19:20:57.149525",
     "status": "completed"
    },
    "tags": []
   },
   "outputs": [],
   "source": [
    "save_results(analysis_name+'/mean_responses', resps.mean(0)*1e3, attrs=dict(\n",
    "    dims=np.array(['time', 'unit'], dtype=bytes),\n",
    "    time=ts, unit=unit_names.astype(bytes), n_trial=len(resps)))"
   ]
  },
  {
   "cell_type": "markdown",
   "id": "f9144de2-ec29-438b-b432-84523f8141b5",
   "metadata": {
    "papermill": {
     "duration": 0.006683,
     "end_time": "2024-02-18T19:20:57.198595",
     "exception": false,
     "start_time": "2024-02-18T19:20:57.191912",
     "status": "completed"
    },
    "tags": []
   },
   "source": [
    "# Main"
   ]
  },
  {
   "cell_type": "code",
   "execution_count": 15,
   "id": "c1cc3a54-f37e-445b-aede-e8ce6e055309",
   "metadata": {
    "execution": {
     "iopub.execute_input": "2024-02-18T19:20:57.210114Z",
     "iopub.status.busy": "2024-02-18T19:20:57.209714Z",
     "iopub.status.idle": "2024-02-18T19:21:09.100889Z",
     "shell.execute_reply": "2024-02-18T19:21:09.100405Z"
    },
    "papermill": {
     "duration": 11.897813,
     "end_time": "2024-02-18T19:21:09.101921",
     "exception": false,
     "start_time": "2024-02-18T19:20:57.204108",
     "status": "completed"
    },
    "tags": []
   },
   "outputs": [
    {
     "name": "stderr",
     "output_type": "stream",
     "text": [
      "\r",
      "return: 100%|███████████████████████████████████████████████████████████████████████████████████████| 34/34 [00:07<00:00,  4.67it/s]"
     ]
    },
    {
     "name": "stderr",
     "output_type": "stream",
     "text": [
      "\n"
     ]
    },
    {
     "name": "stderr",
     "output_type": "stream",
     "text": [
      "\r",
      "distant: 100%|██████████████████████████████████████████████████████████████████████████████████████| 34/34 [00:04<00:00,  7.40it/s]"
     ]
    },
    {
     "name": "stderr",
     "output_type": "stream",
     "text": [
      "\n"
     ]
    }
   ],
   "source": [
    "bycond_pairs = {\n",
    "    'return': return_pairs,\n",
    "    'distant': distant_pairs}\n",
    "bycond_results = {\n",
    "    cond: {\n",
    "        'n_pairs': np.zeros(ts.size, dtype=int),\n",
    "        'sc': np.full(resps.shape[1:], np.nan, dtype=np.float32)}\n",
    "    for cond in bycond_pairs}\n",
    "\n",
    "fix_t0s = fix_df.iloc[fix_sel]['Trial time'].values\n",
    "fix_t1s = fix_t0s + fix_df.iloc[fix_sel]['Duration'].values\n",
    "\n",
    "for cond, pairs in bycond_pairs.items():\n",
    "    pairs_df = pd.DataFrame(pairs)\n",
    "\n",
    "    for it, t in enumerate(tqdm(ts, desc=cond)):\n",
    "        # find fixations within this time range in the trial\n",
    "        bounds = (t - hwin, t - hwin + t_win)\n",
    "        sel = np.nonzero((fix_t0s < bounds[1]) & (fix_t1s >= bounds[0]))[0]\n",
    "\n",
    "        # find pairs among these fixations\n",
    "        pairs_ = pairs[pairs_df.isin(sel).values.all(1)]\n",
    "\n",
    "        # convert fixation pairs to (unique) trial pairs\n",
    "        pairs_ = fix_ritrs[pairs_]\n",
    "\n",
    "        # only keep across-trial pairs\n",
    "        pairs_ = pairs_[pairs_[:,0]!=pairs_[:,1]]\n",
    "\n",
    "        # only keep unique pairs\n",
    "        pairs_ = np.unique(pairs_, axis=0)\n",
    "\n",
    "        bycond_results[cond]['n_pairs'][it] = n = len(pairs_)\n",
    "        if n < 2:\n",
    "            continue\n",
    "\n",
    "        ds = pairwise_self_consistency(\n",
    "            pairs=pairs_, resps=resps[:,it,:],\n",
    "            n_bootstraps=0, n_permutations=0,\n",
    "            random_seed=random_seed)\n",
    "        bycond_results[cond]['sc'][it] = ds['sample'].values"
   ]
  },
  {
   "cell_type": "code",
   "execution_count": 16,
   "id": "cd563341-2f40-409c-9f59-c42ab93e0bb7",
   "metadata": {
    "execution": {
     "iopub.execute_input": "2024-02-18T19:21:09.123314Z",
     "iopub.status.busy": "2024-02-18T19:21:09.123014Z",
     "iopub.status.idle": "2024-02-18T19:21:09.172439Z",
     "shell.execute_reply": "2024-02-18T19:21:09.171729Z"
    },
    "papermill": {
     "duration": 0.066938,
     "end_time": "2024-02-18T19:21:09.174024",
     "exception": false,
     "start_time": "2024-02-18T19:21:09.107086",
     "status": "completed"
    },
    "tags": []
   },
   "outputs": [],
   "source": [
    "if len(same_im_tr_pairs) > 1:\n",
    "    ds = pairwise_self_consistency(\n",
    "        pairs=same_im_tr_pairs, resps=resps,\n",
    "        n_bootstraps=0, n_permutations=0,\n",
    "        random_seed=random_seed)\n",
    "    same_im_sc = ds['sample'].values\n",
    "    bycond_results['same_im'] = {\n",
    "        'n_pairs': len(same_im_tr_pairs),\n",
    "        'sc': same_im_sc}\n",
    "else:\n",
    "    same_im_sc = None"
   ]
  },
  {
   "cell_type": "code",
   "execution_count": 17,
   "id": "4e0bd789-efdb-4d6c-94ed-eddcb7d0b9a0",
   "metadata": {
    "execution": {
     "iopub.execute_input": "2024-02-18T19:21:09.184924Z",
     "iopub.status.busy": "2024-02-18T19:21:09.184668Z",
     "iopub.status.idle": "2024-02-18T19:21:09.265337Z",
     "shell.execute_reply": "2024-02-18T19:21:09.264600Z"
    },
    "papermill": {
     "duration": 0.089463,
     "end_time": "2024-02-18T19:21:09.268380",
     "exception": false,
     "start_time": "2024-02-18T19:21:09.178917",
     "status": "completed"
    },
    "tags": []
   },
   "outputs": [],
   "source": [
    "dims = np.array(('time', 'unit'))\n",
    "coords = dict((\n",
    "    ('time', ts),\n",
    "    ('unit', unit_names)))\n",
    "\n",
    "data_vars = {}\n",
    "if same_im_sc is not None:\n",
    "    data_vars['same_im'] = dims, same_im_sc\n",
    "    data_vars['same_im_npairs'] = tuple(), len(same_im_tr_pairs)\n",
    "for cond, res in bycond_results.items():\n",
    "    if cond == 'same_im': continue\n",
    "    data_vars[cond] = dims, res['sc']\n",
    "    data_vars[cond+'_n_pairs'] = dims[[0]], res['n_pairs']\n",
    "\n",
    "dataset = xr.Dataset(data_vars, coords=coords)\n",
    "\n",
    "compr = dict(zlib=True, complevel=9)\n",
    "encoding = {\n",
    "    k: dict(chunksizes=v.shape, **compr)\n",
    "    for k, v in dataset.data_vars.items()}\n",
    "dataset.to_netcdf(\n",
    "    output_path, group=analysis_name+'/self_consistency',\n",
    "    mode='a', engine='h5netcdf', encoding=encoding)"
   ]
  },
  {
   "cell_type": "markdown",
   "id": "f156ef6b-f355-473a-ac03-d5eab8c9e26d",
   "metadata": {
    "papermill": {
     "duration": 0.008572,
     "end_time": "2024-02-18T19:21:09.289527",
     "exception": false,
     "start_time": "2024-02-18T19:21:09.280955",
     "status": "completed"
    },
    "tags": []
   },
   "source": [
    "# Wrap up"
   ]
  },
  {
   "cell_type": "code",
   "execution_count": 18,
   "id": "13ac6764-f5b2-43e9-be6f-02a2b6efe988",
   "metadata": {
    "execution": {
     "iopub.execute_input": "2024-02-18T19:21:09.303429Z",
     "iopub.status.busy": "2024-02-18T19:21:09.303004Z",
     "iopub.status.idle": "2024-02-18T19:21:09.312657Z",
     "shell.execute_reply": "2024-02-18T19:21:09.311911Z"
    },
    "papermill": {
     "duration": 0.017707,
     "end_time": "2024-02-18T19:21:09.313946",
     "exception": false,
     "start_time": "2024-02-18T19:21:09.296239",
     "status": "completed"
    },
    "tags": []
   },
   "outputs": [],
   "source": [
    "save_results(f'progress_report/{analysis_name}/all_done', True)"
   ]
  },
  {
   "cell_type": "code",
   "execution_count": 19,
   "id": "11e713f4-968e-4cb7-9747-006fd884a5dc",
   "metadata": {
    "execution": {
     "iopub.execute_input": "2024-02-18T19:21:09.325365Z",
     "iopub.status.busy": "2024-02-18T19:21:09.325110Z",
     "iopub.status.idle": "2024-02-18T19:21:09.361397Z",
     "shell.execute_reply": "2024-02-18T19:21:09.360112Z"
    },
    "papermill": {
     "duration": 0.044771,
     "end_time": "2024-02-18T19:21:09.363799",
     "exception": false,
     "start_time": "2024-02-18T19:21:09.319028",
     "status": "completed"
    },
    "tags": []
   },
   "outputs": [
    {
     "name": "stdout",
     "output_type": "stream",
     "text": [
      "Last updated: 2024-02-18T14:21:09.332118-05:00\n",
      "\n",
      "Python implementation: CPython\n",
      "Python version       : 3.10.12\n",
      "IPython version      : 8.12.0\n",
      "\n",
      "Compiler    : GCC 11.4.0\n",
      "OS          : Linux\n",
      "Release     : 5.15.0-92-generic\n",
      "Machine     : x86_64\n",
      "Processor   : x86_64\n",
      "CPU cores   : 20\n",
      "Architecture: 64bit\n",
      "\n",
      "Python implementation: CPython\n",
      "Python version       : 3.10.12\n",
      "IPython version      : 8.12.0\n",
      "\n",
      "Compiler    : GCC 11.4.0\n",
      "OS          : Linux\n",
      "Release     : 5.15.0-92-generic\n",
      "Machine     : x86_64\n",
      "Processor   : x86_64\n",
      "CPU cores   : 20\n",
      "Architecture: 64bit\n",
      "\n",
      "Git hash: b0bb10f45dee065cc3af96fe224326b883d27431\n",
      "\n",
      "Git repo: https://github.com/willwx/free_viewing_staging.git\n",
      "\n",
      "Git branch: master\n",
      "\n",
      "numpy : 1.24.3\n",
      "xarray: 2023.4.2\n",
      "pandas: 2.0.1\n",
      "h5py  : 3.8.0\n",
      "sys   : 3.10.12 (main, Nov 20 2023, 15:14:05) [GCC 11.4.0]\n",
      "\n"
     ]
    }
   ],
   "source": [
    "%load_ext watermark\n",
    "%watermark\n",
    "%watermark -vm --iversions -rbg"
   ]
  },
  {
   "cell_type": "markdown",
   "id": "7a2fe54b-00ba-4f17-9fae-50aefd489d43",
   "metadata": {
    "papermill": {
     "duration": 0.008123,
     "end_time": "2024-02-18T19:21:09.385292",
     "exception": false,
     "start_time": "2024-02-18T19:21:09.377169",
     "status": "completed"
    },
    "tags": []
   },
   "source": [
    "# Plots"
   ]
  },
  {
   "cell_type": "code",
   "execution_count": 20,
   "id": "4d1e7adf-0da2-45e4-a60e-2bd3eefbb613",
   "metadata": {
    "execution": {
     "iopub.execute_input": "2024-02-18T19:21:09.399800Z",
     "iopub.status.busy": "2024-02-18T19:21:09.398152Z",
     "iopub.status.idle": "2024-02-18T19:21:09.642525Z",
     "shell.execute_reply": "2024-02-18T19:21:09.641887Z"
    },
    "papermill": {
     "duration": 0.254986,
     "end_time": "2024-02-18T19:21:09.645922",
     "exception": false,
     "start_time": "2024-02-18T19:21:09.390936",
     "status": "completed"
    },
    "tags": []
   },
   "outputs": [],
   "source": [
    "import matplotlib.pyplot as plt"
   ]
  },
  {
   "cell_type": "code",
   "execution_count": 21,
   "id": "2b143f12-e21d-44cf-810f-afa250c3dd84",
   "metadata": {
    "execution": {
     "iopub.execute_input": "2024-02-18T19:21:09.670021Z",
     "iopub.status.busy": "2024-02-18T19:21:09.669229Z",
     "iopub.status.idle": "2024-02-18T19:21:09.819472Z",
     "shell.execute_reply": "2024-02-18T19:21:09.818560Z"
    },
    "papermill": {
     "duration": 0.161884,
     "end_time": "2024-02-18T19:21:09.820890",
     "exception": false,
     "start_time": "2024-02-18T19:21:09.659006",
     "status": "completed"
    },
    "tags": []
   },
   "outputs": [
    {
     "data": {
      "image/png": "[encoded data removed]",
      "text/plain": [
       "<Figure size 640x480 with 1 Axes>"
      ]
     },
     "metadata": {},
     "output_type": "display_data"
    }
   ],
   "source": [
    "plt.plot(ts, resps.mean((0,-1)) * 1e3)\n",
    "\n",
    "yl = plt.gca().get_ylim()\n",
    "plt.fill_betweenx(yl, 0, dur, ec='none', fc='whitesmoke', zorder=-1)\n",
    "plt.fill_betweenx(yl, dur, dur+iti, ec='none', fc=(1, .9, .9), zorder=-1)\n",
    "plt.fill_betweenx(yl, -iti, 0, ec='none', fc=(1, .9, .9), zorder=-1)\n",
    "\n",
    "plt.xlabel('Time rel. image onset, ms')\n",
    "plt.ylabel('Grand mean firing rate, spikes/s');"
   ]
  },
  {
   "cell_type": "code",
   "execution_count": 22,
   "id": "3c21371e-a692-4c98-b558-58a38268760f",
   "metadata": {
    "execution": {
     "iopub.execute_input": "2024-02-18T19:21:09.831526Z",
     "iopub.status.busy": "2024-02-18T19:21:09.831040Z",
     "iopub.status.idle": "2024-02-18T19:21:10.013088Z",
     "shell.execute_reply": "2024-02-18T19:21:10.012546Z"
    },
    "papermill": {
     "duration": 0.191883,
     "end_time": "2024-02-18T19:21:10.017147",
     "exception": false,
     "start_time": "2024-02-18T19:21:09.825264",
     "status": "completed"
    },
    "tags": []
   },
   "outputs": [
    {
     "data": {
      "image/png": "[encoded data removed]",
      "text/plain": [
       "<Figure size 640x480 with 1 Axes>"
      ]
     },
     "metadata": {},
     "output_type": "display_data"
    }
   ],
   "source": [
    "for cond, results in bycond_results.items():\n",
    "    v = results['n_pairs']\n",
    "    if hasattr(v, '__len__') and len(v) > 1:\n",
    "        plt.plot(ts, v, label=cond.capitalize())\n",
    "    else:\n",
    "        plt.hlines(v, ts[0], ts[-1], label=cond.capitalize())\n",
    "plt.legend(loc='upper left', bbox_to_anchor=(1,1), title='Pairing rule')\n",
    "plt.xlabel('Time rel. image onset, ms')\n",
    "plt.ylabel('Number of fixation pairs');"
   ]
  },
  {
   "cell_type": "code",
   "execution_count": 23,
   "id": "b0a5b3ce-8c67-43f2-b6eb-0c5c17503891",
   "metadata": {
    "execution": {
     "iopub.execute_input": "2024-02-18T19:21:10.045348Z",
     "iopub.status.busy": "2024-02-18T19:21:10.044688Z",
     "iopub.status.idle": "2024-02-18T19:21:10.228654Z",
     "shell.execute_reply": "2024-02-18T19:21:10.228049Z"
    },
    "papermill": {
     "duration": 0.199298,
     "end_time": "2024-02-18T19:21:10.232675",
     "exception": false,
     "start_time": "2024-02-18T19:21:10.033377",
     "status": "completed"
    },
    "tags": []
   },
   "outputs": [
    {
     "data": {
      "image/png": "[encoded data removed]",
      "text/plain": [
       "<Figure size 640x480 with 1 Axes>"
      ]
     },
     "metadata": {},
     "output_type": "display_data"
    }
   ],
   "source": [
    "for cond, results in bycond_results.items():\n",
    "    plt.plot(ts, np.ma.masked_invalid(results['sc']).mean(-1), label=cond.capitalize())\n",
    "plt.legend(loc='upper left', bbox_to_anchor=(1,1), title='Pairing rule')\n",
    "plt.xlabel('Time rel. image onset, ms')\n",
    "plt.ylabel('Self-consistency, Pearson\\'s r');"
   ]
  }
 ],
 "metadata": {
  "kernelspec": {
   "display_name": "Python 3 (ipykernel)",
   "language": "python",
   "name": "python3"
  },
  "language_info": {
   "codemirror_mode": {
    "name": "ipython",
    "version": 3
   },
   "file_extension": ".py",
   "mimetype": "text/x-python",
   "name": "python",
   "nbconvert_exporter": "python",
   "pygments_lexer": "ipython3",
   "version": "3.10.12"
  },
  "papermill": {
   "default_parameters": {},
   "duration": 24.884178,
   "end_time": "2024-02-18T19:21:10.969866",
   "environment_variables": {},
   "exception": null,
   "input_path": "script_3a_trial_level_sc.ipynb",
   "output_path": "../test_results/log_3a_trial_level_sc-Pa210201.ipynb",
   "parameters": {
    "output_dir": "../test_results",
    "sess_name": "Pa210201"
   },
   "start_time": "2024-02-18T19:20:46.085688",
   "version": "2.5.0"
  }
 },
 "nbformat": 4,
 "nbformat_minor": 5
}