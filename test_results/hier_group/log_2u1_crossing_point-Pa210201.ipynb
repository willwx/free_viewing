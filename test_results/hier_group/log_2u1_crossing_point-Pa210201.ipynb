{
 "cells": [
  {
   "cell_type": "code",
   "execution_count": 1,
   "id": "c59898f1-e75d-42a9-8996-a4339d5f5c6d",
   "metadata": {
    "execution": {
     "iopub.execute_input": "2024-02-20T03:03:01.761736Z",
     "iopub.status.busy": "2024-02-20T03:03:01.761228Z",
     "iopub.status.idle": "2024-02-20T03:03:02.266641Z",
     "shell.execute_reply": "2024-02-20T03:03:02.266046Z"
    },
    "papermill": {
     "duration": 0.520037,
     "end_time": "2024-02-20T03:03:02.269832",
     "exception": false,
     "start_time": "2024-02-20T03:03:01.749795",
     "status": "completed"
    },
    "tags": []
   },
   "outputs": [],
   "source": [
    "import sys\n",
    "from pathlib import Path\n",
    "\n",
    "import h5py as h5\n",
    "import numpy as np\n",
    "import pandas as pd\n",
    "import xarray as xr\n",
    "from tqdm import tqdm\n",
    "\n",
    "sys.path.append('../lib')\n",
    "from local_paths import analysis_dir, annot_path\n",
    "from storage import get_storage_functions\n",
    "from hier_group import unpack_hier_names, annot_names, hier_lookup\n",
    "import crossing_point"
   ]
  },
  {
   "cell_type": "markdown",
   "id": "f9ee39f1-8a78-44d2-a718-f1834450ebc5",
   "metadata": {
    "papermill": {
     "duration": 0.014221,
     "end_time": "2024-02-20T03:03:02.292709",
     "exception": false,
     "start_time": "2024-02-20T03:03:02.278488",
     "status": "completed"
    },
    "tags": []
   },
   "source": [
    "# Set parameters"
   ]
  },
  {
   "cell_type": "code",
   "execution_count": 2,
   "id": "19f5243e-a7db-451e-90c2-f5608a9fc83b",
   "metadata": {
    "execution": {
     "iopub.execute_input": "2024-02-20T03:03:02.308180Z",
     "iopub.status.busy": "2024-02-20T03:03:02.307064Z",
     "iopub.status.idle": "2024-02-20T03:03:02.313123Z",
     "shell.execute_reply": "2024-02-20T03:03:02.312604Z"
    },
    "papermill": {
     "duration": 0.01592,
     "end_time": "2024-02-20T03:03:02.314697",
     "exception": false,
     "start_time": "2024-02-20T03:03:02.298777",
     "status": "completed"
    },
    "tags": [
     "parameters"
    ]
   },
   "outputs": [],
   "source": [
    "#============================================================================\n",
    "# session\n",
    "#============================================================================\n",
    "sess_name = 'sess_name'\n",
    "\n",
    "#============================================================================\n",
    "# config\n",
    "#============================================================================\n",
    "rising_cond = 'self_consistency/current'\n",
    "falling_cond = 'self_consistency/previous'\n",
    "clearance_thres = 100\n",
    "\n",
    "#============================================================================\n",
    "# paths\n",
    "#============================================================================\n",
    "rsc_dir = analysis_dir + 'self_consistency'\n",
    "output_dir = rsc_dir + '-cp'"
   ]
  },
  {
   "cell_type": "code",
   "execution_count": 3,
   "id": "83e0abff",
   "metadata": {
    "execution": {
     "iopub.execute_input": "2024-02-20T03:03:02.325173Z",
     "iopub.status.busy": "2024-02-20T03:03:02.324995Z",
     "iopub.status.idle": "2024-02-20T03:03:02.328244Z",
     "shell.execute_reply": "2024-02-20T03:03:02.327673Z"
    },
    "papermill": {
     "duration": 0.010272,
     "end_time": "2024-02-20T03:03:02.329695",
     "exception": false,
     "start_time": "2024-02-20T03:03:02.319423",
     "status": "completed"
    },
    "tags": [
     "injected-parameters"
    ]
   },
   "outputs": [],
   "source": [
    "# Parameters\n",
    "sess_name = \"Pa210201\"\n",
    "rsc_dir = \"../test_results/hier_group\"\n",
    "output_dir = \"../test_results/hier_group\"\n"
   ]
  },
  {
   "cell_type": "markdown",
   "id": "55e6ac86-dc81-4db2-a2a9-77656e53d52b",
   "metadata": {
    "papermill": {
     "duration": 0.003071,
     "end_time": "2024-02-20T03:03:02.335958",
     "exception": false,
     "start_time": "2024-02-20T03:03:02.332887",
     "status": "completed"
    },
    "tags": []
   },
   "source": [
    "# Check prereqs and params"
   ]
  },
  {
   "cell_type": "code",
   "execution_count": 4,
   "id": "3c700cb3-ae5b-4a23-baaa-70eeee9e8726",
   "metadata": {
    "execution": {
     "iopub.execute_input": "2024-02-20T03:03:02.342642Z",
     "iopub.status.busy": "2024-02-20T03:03:02.342433Z",
     "iopub.status.idle": "2024-02-20T03:03:02.348347Z",
     "shell.execute_reply": "2024-02-20T03:03:02.347453Z"
    },
    "papermill": {
     "duration": 0.013124,
     "end_time": "2024-02-20T03:03:02.351949",
     "exception": false,
     "start_time": "2024-02-20T03:03:02.338825",
     "status": "completed"
    },
    "tags": []
   },
   "outputs": [
    {
     "name": "stdout",
     "output_type": "stream",
     "text": [
      "Loading return-fixation self-consistency results from ../test_results/hier_group/Pa210201.h5\n",
      "Using recording location annotations at ../db/bank_array_regions.csv\n",
      "Saving results to ../test_results/hier_group/Pa210201.h5\n"
     ]
    }
   ],
   "source": [
    "rsc_path = Path(rsc_dir) / (sess_name + '.h5')\n",
    "print('Loading return-fixation self-consistency results from', rsc_path)\n",
    "rsc_path = rsc_path.expanduser()\n",
    "assert rsc_path.is_file()\n",
    "\n",
    "print('Using recording location annotations at', annot_path)\n",
    "annot_path = Path(annot_path).expanduser()\n",
    "assert annot_path.is_file()\n",
    "\n",
    "output_dir = Path(output_dir)\n",
    "assert output_dir.expanduser().is_dir()\n",
    "output_path = output_dir / (sess_name + '.h5')\n",
    "print('Saving results to', output_path)\n",
    "output_path = output_path.expanduser()"
   ]
  },
  {
   "cell_type": "code",
   "execution_count": 5,
   "id": "90613d2f-e9cb-4823-a7a2-5641960dd636",
   "metadata": {
    "execution": {
     "iopub.execute_input": "2024-02-20T03:03:02.366903Z",
     "iopub.status.busy": "2024-02-20T03:03:02.366278Z",
     "iopub.status.idle": "2024-02-20T03:03:02.374969Z",
     "shell.execute_reply": "2024-02-20T03:03:02.374075Z"
    },
    "papermill": {
     "duration": 0.018653,
     "end_time": "2024-02-20T03:03:02.377522",
     "exception": false,
     "start_time": "2024-02-20T03:03:02.358869",
     "status": "completed"
    },
    "tags": []
   },
   "outputs": [],
   "source": [
    "analysis_name = 'crossing_point'\n",
    "\n",
    "if output_path.is_file():\n",
    "    with h5.File(output_path, 'r') as f:\n",
    "        try:\n",
    "            if f[f'progress_report/{analysis_name}/all_done'][()].item():\n",
    "                raise RuntimeError(f'{sess_name} has already been processed')\n",
    "        except KeyError:\n",
    "            pass"
   ]
  },
  {
   "cell_type": "code",
   "execution_count": 6,
   "id": "3e6d9e29-f2c5-46bb-abec-41d6b05876a0",
   "metadata": {
    "execution": {
     "iopub.execute_input": "2024-02-20T03:03:02.386421Z",
     "iopub.status.busy": "2024-02-20T03:03:02.385922Z",
     "iopub.status.idle": "2024-02-20T03:03:02.390946Z",
     "shell.execute_reply": "2024-02-20T03:03:02.390057Z"
    },
    "papermill": {
     "duration": 0.012538,
     "end_time": "2024-02-20T03:03:02.393759",
     "exception": false,
     "start_time": "2024-02-20T03:03:02.381221",
     "status": "completed"
    },
    "tags": []
   },
   "outputs": [],
   "source": [
    "save_results, add_attr_to_dset, check_equals_saved, link_dsets, copy_group = \\\n",
    "    get_storage_functions(output_path)"
   ]
  },
  {
   "cell_type": "code",
   "execution_count": 7,
   "id": "aa9c6feb-7e5a-40be-9da5-bb6526f36722",
   "metadata": {
    "execution": {
     "iopub.execute_input": "2024-02-20T03:03:02.408024Z",
     "iopub.status.busy": "2024-02-20T03:03:02.407103Z",
     "iopub.status.idle": "2024-02-20T03:03:02.422373Z",
     "shell.execute_reply": "2024-02-20T03:03:02.421331Z"
    },
    "papermill": {
     "duration": 0.024013,
     "end_time": "2024-02-20T03:03:02.425346",
     "exception": false,
     "start_time": "2024-02-20T03:03:02.401333",
     "status": "completed"
    },
    "tags": []
   },
   "outputs": [],
   "source": [
    "group = analysis_name + '/config/'\n",
    "save_results(group+'rising_cond', rising_cond)\n",
    "save_results(group+'falling_cond', falling_cond)\n",
    "save_results(group+'clearance_thres', clearance_thres, attrs=dict(unit='ms'))"
   ]
  },
  {
   "cell_type": "markdown",
   "id": "8bce15a1-3eca-46d5-a482-c82470823ce1",
   "metadata": {
    "papermill": {
     "duration": 0.006506,
     "end_time": "2024-02-20T03:03:02.440647",
     "exception": false,
     "start_time": "2024-02-20T03:03:02.434141",
     "status": "completed"
    },
    "tags": []
   },
   "source": [
    "# Tally units and levels"
   ]
  },
  {
   "cell_type": "code",
   "execution_count": 8,
   "id": "bbde0027-76bd-413d-8e92-a1824024f2f7",
   "metadata": {
    "execution": {
     "iopub.execute_input": "2024-02-20T03:03:02.452764Z",
     "iopub.status.busy": "2024-02-20T03:03:02.451793Z",
     "iopub.status.idle": "2024-02-20T03:03:02.467300Z",
     "shell.execute_reply": "2024-02-20T03:03:02.466254Z"
    },
    "papermill": {
     "duration": 0.023336,
     "end_time": "2024-02-20T03:03:02.469533",
     "exception": false,
     "start_time": "2024-02-20T03:03:02.446197",
     "status": "completed"
    },
    "tags": []
   },
   "outputs": [],
   "source": [
    "adf = pd.read_csv(annot_path).set_index('Session').loc[[sess_name]].set_index('Bank')"
   ]
  },
  {
   "cell_type": "code",
   "execution_count": 9,
   "id": "82087092-03fc-4da0-90a8-399b99911e0b",
   "metadata": {
    "execution": {
     "iopub.execute_input": "2024-02-20T03:03:02.481502Z",
     "iopub.status.busy": "2024-02-20T03:03:02.481212Z",
     "iopub.status.idle": "2024-02-20T03:03:02.580911Z",
     "shell.execute_reply": "2024-02-20T03:03:02.580056Z"
    },
    "papermill": {
     "duration": 0.108902,
     "end_time": "2024-02-20T03:03:02.583920",
     "exception": false,
     "start_time": "2024-02-20T03:03:02.475018",
     "status": "completed"
    },
    "tags": []
   },
   "outputs": [],
   "source": [
    "rising_ds = xr.load_dataset(rsc_path, group=rising_cond)\n",
    "falling_ds = xr.load_dataset(rsc_path, group=falling_cond)"
   ]
  },
  {
   "cell_type": "code",
   "execution_count": 10,
   "id": "475fe161-f381-4aac-9a16-8a53ff7183e6",
   "metadata": {
    "execution": {
     "iopub.execute_input": "2024-02-20T03:03:02.602629Z",
     "iopub.status.busy": "2024-02-20T03:03:02.602225Z",
     "iopub.status.idle": "2024-02-20T03:03:02.610054Z",
     "shell.execute_reply": "2024-02-20T03:03:02.609140Z"
    },
    "papermill": {
     "duration": 0.018969,
     "end_time": "2024-02-20T03:03:02.612244",
     "exception": false,
     "start_time": "2024-02-20T03:03:02.593275",
     "status": "completed"
    },
    "tags": []
   },
   "outputs": [],
   "source": [
    "names = rising_ds['unit'].values\n",
    "assert np.array_equal(names, falling_ds['unit'].values.astype(str))\n",
    "hier_names = unpack_hier_names(names)\n",
    "\n",
    "with h5.File(rsc_path, 'r') as f:\n",
    "    dset = f['self_consistency/unit_names']\n",
    "    all_groups_name = dset.attrs['all_groups_name'].astype(str)\n",
    "    all_groups_uid = dset.attrs['all_groups_uid']\n",
    "m_unit = hier_names[:,0] == 'Unit'\n",
    "n_unit = m_unit.sum()\n",
    "all_groups_idx = all_groups_uid + n_unit\n",
    "all_hier_names = np.concatenate([hier_names[m_unit], unpack_hier_names(all_groups_name)])"
   ]
  },
  {
   "cell_type": "code",
   "execution_count": 11,
   "id": "1167a6e5-b171-4060-ae2d-2153073e8f77",
   "metadata": {
    "execution": {
     "iopub.execute_input": "2024-02-20T03:03:02.625081Z",
     "iopub.status.busy": "2024-02-20T03:03:02.624642Z",
     "iopub.status.idle": "2024-02-20T03:03:02.673068Z",
     "shell.execute_reply": "2024-02-20T03:03:02.671716Z"
    },
    "papermill": {
     "duration": 0.056375,
     "end_time": "2024-02-20T03:03:02.674599",
     "exception": false,
     "start_time": "2024-02-20T03:03:02.618224",
     "status": "completed"
    },
    "tags": []
   },
   "outputs": [
    {
     "data": {
      "text/html": [
       "<div>\n",
       "<style scoped>\n",
       "    .dataframe tbody tr th:only-of-type {\n",
       "        vertical-align: middle;\n",
       "    }\n",
       "\n",
       "    .dataframe tbody tr th {\n",
       "        vertical-align: top;\n",
       "    }\n",
       "\n",
       "    .dataframe thead th {\n",
       "        text-align: right;\n",
       "    }\n",
       "</style>\n",
       "<table border=\"1\" class=\"dataframe\">\n",
       "  <thead>\n",
       "    <tr style=\"text-align: right;\">\n",
       "      <th></th>\n",
       "      <th>Unit</th>\n",
       "      <th>Channel</th>\n",
       "      <th>Bank</th>\n",
       "      <th>Array ID</th>\n",
       "      <th>Level</th>\n",
       "      <th>Index</th>\n",
       "      <th>Name</th>\n",
       "    </tr>\n",
       "  </thead>\n",
       "  <tbody>\n",
       "    <tr>\n",
       "      <th>0</th>\n",
       "      <td>Unit/1</td>\n",
       "      <td>1</td>\n",
       "      <td>0</td>\n",
       "      <td>1</td>\n",
       "      <td>Unit</td>\n",
       "      <td>0</td>\n",
       "      <td>1</td>\n",
       "    </tr>\n",
       "    <tr>\n",
       "      <th>1</th>\n",
       "      <td>Unit/2</td>\n",
       "      <td>2</td>\n",
       "      <td>0</td>\n",
       "      <td>1</td>\n",
       "      <td>Unit</td>\n",
       "      <td>1</td>\n",
       "      <td>2</td>\n",
       "    </tr>\n",
       "    <tr>\n",
       "      <th>2</th>\n",
       "      <td>Unit/3</td>\n",
       "      <td>3</td>\n",
       "      <td>0</td>\n",
       "      <td>1</td>\n",
       "      <td>Unit</td>\n",
       "      <td>2</td>\n",
       "      <td>3</td>\n",
       "    </tr>\n",
       "    <tr>\n",
       "      <th>3</th>\n",
       "      <td>Unit/4</td>\n",
       "      <td>4</td>\n",
       "      <td>0</td>\n",
       "      <td>1</td>\n",
       "      <td>Unit</td>\n",
       "      <td>3</td>\n",
       "      <td>4</td>\n",
       "    </tr>\n",
       "    <tr>\n",
       "      <th>4</th>\n",
       "      <td>Unit/4a</td>\n",
       "      <td>4</td>\n",
       "      <td>0</td>\n",
       "      <td>1</td>\n",
       "      <td>Unit</td>\n",
       "      <td>4</td>\n",
       "      <td>4a</td>\n",
       "    </tr>\n",
       "    <tr>\n",
       "      <th>...</th>\n",
       "      <td>...</td>\n",
       "      <td>...</td>\n",
       "      <td>...</td>\n",
       "      <td>...</td>\n",
       "      <td>...</td>\n",
       "      <td>...</td>\n",
       "      <td>...</td>\n",
       "    </tr>\n",
       "    <tr>\n",
       "      <th>103</th>\n",
       "      <td>Channel/55</td>\n",
       "      <td>55</td>\n",
       "      <td>1</td>\n",
       "      <td>2</td>\n",
       "      <td>Channel</td>\n",
       "      <td>103</td>\n",
       "      <td>55</td>\n",
       "    </tr>\n",
       "    <tr>\n",
       "      <th>104</th>\n",
       "      <td>Bank/0</td>\n",
       "      <td>-1</td>\n",
       "      <td>0</td>\n",
       "      <td>1</td>\n",
       "      <td>Bank</td>\n",
       "      <td>104</td>\n",
       "      <td>0</td>\n",
       "    </tr>\n",
       "    <tr>\n",
       "      <th>105</th>\n",
       "      <td>Bank/1</td>\n",
       "      <td>-1</td>\n",
       "      <td>1</td>\n",
       "      <td>2</td>\n",
       "      <td>Bank</td>\n",
       "      <td>105</td>\n",
       "      <td>1</td>\n",
       "    </tr>\n",
       "    <tr>\n",
       "      <th>106</th>\n",
       "      <td>Array/1</td>\n",
       "      <td>-1</td>\n",
       "      <td>-1</td>\n",
       "      <td>-1</td>\n",
       "      <td>Array</td>\n",
       "      <td>104</td>\n",
       "      <td>1</td>\n",
       "    </tr>\n",
       "    <tr>\n",
       "      <th>107</th>\n",
       "      <td>Array/2</td>\n",
       "      <td>-1</td>\n",
       "      <td>-1</td>\n",
       "      <td>-1</td>\n",
       "      <td>Array</td>\n",
       "      <td>105</td>\n",
       "      <td>2</td>\n",
       "    </tr>\n",
       "  </tbody>\n",
       "</table>\n",
       "<p>108 rows × 7 columns</p>\n",
       "</div>"
      ],
      "text/plain": [
       "           Unit  Channel  Bank  Array ID    Level  Index Name\n",
       "0        Unit/1        1     0         1     Unit      0    1\n",
       "1        Unit/2        2     0         1     Unit      1    2\n",
       "2        Unit/3        3     0         1     Unit      2    3\n",
       "3        Unit/4        4     0         1     Unit      3    4\n",
       "4       Unit/4a        4     0         1     Unit      4   4a\n",
       "..          ...      ...   ...       ...      ...    ...  ...\n",
       "103  Channel/55       55     1         2  Channel    103   55\n",
       "104      Bank/0       -1     0         1     Bank    104    0\n",
       "105      Bank/1       -1     1         2     Bank    105    1\n",
       "106     Array/1       -1    -1        -1    Array    104    1\n",
       "107     Array/2       -1    -1        -1    Array    105    2\n",
       "\n",
       "[108 rows x 7 columns]"
      ]
     },
     "execution_count": 11,
     "metadata": {},
     "output_type": "execute_result"
    }
   ],
   "source": [
    "unit_df = annot_names(\n",
    "    np.concatenate([names[(hier_names[:,0] == 'Unit')], all_groups_name]),\n",
    "    adf)\n",
    "\n",
    "m = unit_df['Level'] == 'Unit'\n",
    "unit_df['Index'] = -1\n",
    "unit_df.loc[m,'Index'] = unit_df.index[m].astype(int)\n",
    "unit_df.loc[~m,'Index'] = all_groups_idx\n",
    "\n",
    "assert unit_df['Index'].min() == 0 and unit_df['Index'].max() == len(names)-1\n",
    "unit_df['Name'] = all_hier_names[:,1]\n",
    "unit_df"
   ]
  },
  {
   "cell_type": "markdown",
   "id": "d5eda2a4-9881-4fc2-9ffd-1d0b5cbc671c",
   "metadata": {
    "papermill": {
     "duration": 0.002926,
     "end_time": "2024-02-20T03:03:02.680597",
     "exception": false,
     "start_time": "2024-02-20T03:03:02.677671",
     "status": "completed"
    },
    "tags": []
   },
   "source": [
    "# Main"
   ]
  },
  {
   "cell_type": "code",
   "execution_count": 12,
   "id": "61a2719a-bbeb-4359-98f7-b112b5bd1400",
   "metadata": {
    "execution": {
     "iopub.execute_input": "2024-02-20T03:03:02.689486Z",
     "iopub.status.busy": "2024-02-20T03:03:02.688450Z",
     "iopub.status.idle": "2024-02-20T03:04:23.124937Z",
     "shell.execute_reply": "2024-02-20T03:04:23.124372Z"
    },
    "papermill": {
     "duration": 80.444521,
     "end_time": "2024-02-20T03:04:23.128011",
     "exception": false,
     "start_time": "2024-02-20T03:03:02.683490",
     "status": "completed"
    },
    "tags": []
   },
   "outputs": [
    {
     "name": "stderr",
     "output_type": "stream",
     "text": [
      "\r",
      "Array: 100%|██████████████████████████████████████| 2/2 [00:01<00:00,  1.77it/s]"
     ]
    },
    {
     "name": "stderr",
     "output_type": "stream",
     "text": [
      "\n"
     ]
    },
    {
     "name": "stderr",
     "output_type": "stream",
     "text": [
      "\r",
      "Bank: 100%|█████████████████████████████████████| 2/2 [00:00<00:00, 6996.34it/s]"
     ]
    },
    {
     "name": "stderr",
     "output_type": "stream",
     "text": [
      "\r",
      "Channel: 100%|██████████████████████████████████| 12/12 [00:12<00:00,  1.01s/it]"
     ]
    },
    {
     "name": "stderr",
     "output_type": "stream",
     "text": [
      "\n"
     ]
    },
    {
     "name": "stderr",
     "output_type": "stream",
     "text": [
      "\r",
      "Unit: 100%|█████████████████████████████████████| 92/92 [01:07<00:00,  1.37it/s]"
     ]
    },
    {
     "name": "stderr",
     "output_type": "stream",
     "text": [
      "\n"
     ]
    }
   ],
   "source": [
    "hiers = ['Unit', 'Channel', 'Bank', 'Array']\n",
    "ts = rising_ds['time'].values\n",
    "y0s_all = np.concatenate([\n",
    "    falling_ds['sample'].values[None,...],  # shape (1n_t, n_neur)\n",
    "    falling_ds['bootstraps'].values])       # shape (n_boot, n_t, n_neur)\n",
    "y1s_all = np.concatenate([\n",
    "    rising_ds['sample'].values[None,...],   # shape (1n_t, n_neur)\n",
    "    rising_ds['bootstraps'].values])        # shape (n_boot, n_t, n_neur)\n",
    "y0s_all = np.ma.masked_invalid(y0s_all)\n",
    "y1s_all = np.ma.masked_invalid(y1s_all)\n",
    "\n",
    "n_boot = y1s_all.shape[0] - 1\n",
    "n_neur = y1s_all.shape[-1]\n",
    "cps, cls = (np.empty((n_boot+1, n_neur), dtype=np.float32) for i in range(2))\n",
    "pks, tps = (np.empty((2, n_boot+1, n_neur), dtype=np.float32) for i in range(2))\n",
    "\n",
    "last_cp_df = None\n",
    "done_idc = set()\n",
    "for level in hiers[::-1]:\n",
    "    unit_df_ = unit_df[unit_df['Level'] == level]\n",
    "    if not len(unit_df_): continue\n",
    "\n",
    "    ih = hiers.index(level)\n",
    "    cp_df = {\n",
    "        k: np.zeros(len(unit_df_)) for k in\n",
    "        [f'Latency_{j}' for j in range(n_boot+1)]\n",
    "        + [f'Clearance_{j}' for j in range(n_boot+1)]}\n",
    "\n",
    "    for ii, (_, row) in enumerate(tqdm(unit_df_.iterrows(), total=len(unit_df_), desc=level)):\n",
    "        name = row['Unit']\n",
    "        i = row['Index']\n",
    "        if i in done_idc:\n",
    "            continue\n",
    "        for j in range(n_boot+1):\n",
    "            hcp = 0\n",
    "            if last_cp_df is not None:\n",
    "                hcp_ = hier_lookup(np.array([name]), adf, last_cp_df, hiers=hiers[ih+1:])\n",
    "                if len(hcp_):\n",
    "                    assert len(hcp_) < 2\n",
    "                    if hcp_[f'Clearance_{j}'] >= clearance_thres:\n",
    "                        hcp = hcp_[f'Latency_{j}']\n",
    "\n",
    "            cps[j,i], cls[j,i] = cp, cl = \\\n",
    "                crossing_point.get_central_crossing_point_and_clearance(\n",
    "                    ts, y0s_all[j,:,i], y1s_all[j,:,i], x_cent=hcp, direction='up')[:2]\n",
    "            cp_df[f'Latency_{j}'][ii] = cp\n",
    "            cp_df[f'Clearance_{j}'][ii] = cl\n",
    "\n",
    "            for k, ys in enumerate((y0s_all[j,:,i], y1s_all[j,:,i])):\n",
    "                ys = np.array(ys)  # convert possibly masked array to array\n",
    "                if ~np.isfinite(ys).any():\n",
    "                    pks[k,j,i] = tps[k,j,i] = np.nan\n",
    "                    continue\n",
    "                l = np.nanargmax(ys)\n",
    "                if np.isnan(ys[l]):\n",
    "                    pks[k,j,i] = tps[k,j,i] = np.nan\n",
    "                else:\n",
    "                    pks[k,j,i] = ys[l]\n",
    "                    tps[k,j,i] = ts[l]\n",
    "        done_idc.add(i)\n",
    "\n",
    "    df_ = unit_df_.copy()\n",
    "    df_ = pd.concat([df_, pd.DataFrame(cp_df, index=df_.index)], axis=1)\n",
    "    if last_cp_df is None:\n",
    "        last_cp_df = df_\n",
    "    else:\n",
    "        last_cp_df = pd.concat([df_, last_cp_df])"
   ]
  },
  {
   "cell_type": "code",
   "execution_count": 13,
   "id": "3212dade-53c5-4c46-a638-caee8344887c",
   "metadata": {
    "execution": {
     "iopub.execute_input": "2024-02-20T03:04:23.162043Z",
     "iopub.status.busy": "2024-02-20T03:04:23.161426Z",
     "iopub.status.idle": "2024-02-20T03:04:23.172005Z",
     "shell.execute_reply": "2024-02-20T03:04:23.170909Z"
    },
    "papermill": {
     "duration": 0.028188,
     "end_time": "2024-02-20T03:04:23.173739",
     "exception": false,
     "start_time": "2024-02-20T03:04:23.145551",
     "status": "completed"
    },
    "tags": []
   },
   "outputs": [
    {
     "data": {
      "text/plain": [
       "('-mwa_50-hg', 10)"
      ]
     },
     "execution_count": 13,
     "metadata": {},
     "output_type": "execute_result"
    }
   ],
   "source": [
    "with h5.File(rsc_path, 'r') as f:\n",
    "    sdf_suffix = f['self_consistency/config/sdf_suffix'][()].decode()\n",
    "    t_step = f['self_consistency/config/time_windows/t_step'][()]\n",
    "sdf_suffix, t_step"
   ]
  },
  {
   "cell_type": "code",
   "execution_count": 14,
   "id": "ea38eb78-d31c-48cc-9e72-d51afeddb07e",
   "metadata": {
    "execution": {
     "iopub.execute_input": "2024-02-20T03:04:23.196112Z",
     "iopub.status.busy": "2024-02-20T03:04:23.195647Z",
     "iopub.status.idle": "2024-02-20T03:04:23.239072Z",
     "shell.execute_reply": "2024-02-20T03:04:23.238212Z"
    },
    "papermill": {
     "duration": 0.054443,
     "end_time": "2024-02-20T03:04:23.240603",
     "exception": false,
     "start_time": "2024-02-20T03:04:23.186160",
     "status": "completed"
    },
    "tags": []
   },
   "outputs": [
    {
     "data": {
      "text/html": [
       "<div>\n",
       "<style scoped>\n",
       "    .dataframe tbody tr th:only-of-type {\n",
       "        vertical-align: middle;\n",
       "    }\n",
       "\n",
       "    .dataframe tbody tr th {\n",
       "        vertical-align: top;\n",
       "    }\n",
       "\n",
       "    .dataframe thead th {\n",
       "        text-align: right;\n",
       "    }\n",
       "</style>\n",
       "<table border=\"1\" class=\"dataframe\">\n",
       "  <thead>\n",
       "    <tr style=\"text-align: right;\">\n",
       "      <th></th>\n",
       "      <th>Latency</th>\n",
       "      <th>Clearance</th>\n",
       "      <th>Boots. bias, train</th>\n",
       "      <th>Boots. stdev., train</th>\n",
       "      <th>Boots. mean clearance, train</th>\n",
       "      <th>Boots. frac., train</th>\n",
       "      <th>Boots. bias</th>\n",
       "      <th>Boots. stdev.</th>\n",
       "      <th>Boots. mean clearance</th>\n",
       "      <th>Boots. frac.</th>\n",
       "      <th>...</th>\n",
       "      <th>Boots. stdev. peak 1 time, train</th>\n",
       "      <th>Boots. mean peak 1 SC</th>\n",
       "      <th>Boots. stdev. peak 1 SC</th>\n",
       "      <th>Boots. mean peak 1 time</th>\n",
       "      <th>Boots. stdev. peak 1 time</th>\n",
       "      <th>Level</th>\n",
       "      <th>Name</th>\n",
       "      <th>Session</th>\n",
       "      <th>SDF suffix</th>\n",
       "      <th>T step</th>\n",
       "    </tr>\n",
       "  </thead>\n",
       "  <tbody>\n",
       "    <tr>\n",
       "      <th>0</th>\n",
       "      <td>67.886597</td>\n",
       "      <td>85.876289</td>\n",
       "      <td>53.623008</td>\n",
       "      <td>38.720665</td>\n",
       "      <td>58.639502</td>\n",
       "      <td>1.0</td>\n",
       "      <td>60.930965</td>\n",
       "      <td>42.985992</td>\n",
       "      <td>58.175859</td>\n",
       "      <td>1.0</td>\n",
       "      <td>...</td>\n",
       "      <td>210.226996</td>\n",
       "      <td>0.166094</td>\n",
       "      <td>0.039931</td>\n",
       "      <td>-7.8</td>\n",
       "      <td>214.625628</td>\n",
       "      <td>Unit</td>\n",
       "      <td>1</td>\n",
       "      <td>Pa210201</td>\n",
       "      <td>-mwa_50-hg</td>\n",
       "      <td>10</td>\n",
       "    </tr>\n",
       "    <tr>\n",
       "      <th>1</th>\n",
       "      <td>3.992806</td>\n",
       "      <td>71.207191</td>\n",
       "      <td>-18.090190</td>\n",
       "      <td>33.605727</td>\n",
       "      <td>103.278164</td>\n",
       "      <td>1.0</td>\n",
       "      <td>-15.815748</td>\n",
       "      <td>31.320628</td>\n",
       "      <td>98.318770</td>\n",
       "      <td>1.0</td>\n",
       "      <td>...</td>\n",
       "      <td>24.151812</td>\n",
       "      <td>0.321543</td>\n",
       "      <td>0.048817</td>\n",
       "      <td>147.1</td>\n",
       "      <td>22.684576</td>\n",
       "      <td>Unit</td>\n",
       "      <td>2</td>\n",
       "      <td>Pa210201</td>\n",
       "      <td>-mwa_50-hg</td>\n",
       "      <td>10</td>\n",
       "    </tr>\n",
       "    <tr>\n",
       "      <th>2</th>\n",
       "      <td>1.534653</td>\n",
       "      <td>24.308720</td>\n",
       "      <td>-3.871206</td>\n",
       "      <td>21.253003</td>\n",
       "      <td>49.296064</td>\n",
       "      <td>1.0</td>\n",
       "      <td>-3.515214</td>\n",
       "      <td>21.184511</td>\n",
       "      <td>52.725977</td>\n",
       "      <td>1.0</td>\n",
       "      <td>...</td>\n",
       "      <td>241.867236</td>\n",
       "      <td>0.156934</td>\n",
       "      <td>0.031051</td>\n",
       "      <td>21.2</td>\n",
       "      <td>240.747918</td>\n",
       "      <td>Unit</td>\n",
       "      <td>3</td>\n",
       "      <td>Pa210201</td>\n",
       "      <td>-mwa_50-hg</td>\n",
       "      <td>10</td>\n",
       "    </tr>\n",
       "    <tr>\n",
       "      <th>3</th>\n",
       "      <td>-22.297297</td>\n",
       "      <td>74.271332</td>\n",
       "      <td>-12.371245</td>\n",
       "      <td>23.119840</td>\n",
       "      <td>71.866768</td>\n",
       "      <td>1.0</td>\n",
       "      <td>-10.437323</td>\n",
       "      <td>28.374904</td>\n",
       "      <td>71.102207</td>\n",
       "      <td>1.0</td>\n",
       "      <td>...</td>\n",
       "      <td>142.883554</td>\n",
       "      <td>0.360127</td>\n",
       "      <td>0.098525</td>\n",
       "      <td>89.9</td>\n",
       "      <td>146.884274</td>\n",
       "      <td>Unit</td>\n",
       "      <td>4</td>\n",
       "      <td>Pa210201</td>\n",
       "      <td>-mwa_50-hg</td>\n",
       "      <td>10</td>\n",
       "    </tr>\n",
       "    <tr>\n",
       "      <th>4</th>\n",
       "      <td>89.431816</td>\n",
       "      <td>235.080383</td>\n",
       "      <td>45.506372</td>\n",
       "      <td>60.809461</td>\n",
       "      <td>115.407686</td>\n",
       "      <td>1.0</td>\n",
       "      <td>48.280771</td>\n",
       "      <td>56.520708</td>\n",
       "      <td>113.334951</td>\n",
       "      <td>1.0</td>\n",
       "      <td>...</td>\n",
       "      <td>67.751310</td>\n",
       "      <td>0.275820</td>\n",
       "      <td>0.028857</td>\n",
       "      <td>242.2</td>\n",
       "      <td>23.327237</td>\n",
       "      <td>Unit</td>\n",
       "      <td>4a</td>\n",
       "      <td>Pa210201</td>\n",
       "      <td>-mwa_50-hg</td>\n",
       "      <td>10</td>\n",
       "    </tr>\n",
       "  </tbody>\n",
       "</table>\n",
       "<p>5 rows × 35 columns</p>\n",
       "</div>"
      ],
      "text/plain": [
       "     Latency   Clearance  Boots. bias, train  Boots. stdev., train   \n",
       "0  67.886597   85.876289           53.623008             38.720665  \\\n",
       "1   3.992806   71.207191          -18.090190             33.605727   \n",
       "2   1.534653   24.308720           -3.871206             21.253003   \n",
       "3 -22.297297   74.271332          -12.371245             23.119840   \n",
       "4  89.431816  235.080383           45.506372             60.809461   \n",
       "\n",
       "   Boots. mean clearance, train  Boots. frac., train  Boots. bias   \n",
       "0                     58.639502                  1.0    60.930965  \\\n",
       "1                    103.278164                  1.0   -15.815748   \n",
       "2                     49.296064                  1.0    -3.515214   \n",
       "3                     71.866768                  1.0   -10.437323   \n",
       "4                    115.407686                  1.0    48.280771   \n",
       "\n",
       "   Boots. stdev.  Boots. mean clearance  Boots. frac.  ...   \n",
       "0      42.985992              58.175859           1.0  ...  \\\n",
       "1      31.320628              98.318770           1.0  ...   \n",
       "2      21.184511              52.725977           1.0  ...   \n",
       "3      28.374904              71.102207           1.0  ...   \n",
       "4      56.520708             113.334951           1.0  ...   \n",
       "\n",
       "   Boots. stdev. peak 1 time, train  Boots. mean peak 1 SC   \n",
       "0                        210.226996               0.166094  \\\n",
       "1                         24.151812               0.321543   \n",
       "2                        241.867236               0.156934   \n",
       "3                        142.883554               0.360127   \n",
       "4                         67.751310               0.275820   \n",
       "\n",
       "   Boots. stdev. peak 1 SC  Boots. mean peak 1 time   \n",
       "0                 0.039931                     -7.8  \\\n",
       "1                 0.048817                    147.1   \n",
       "2                 0.031051                     21.2   \n",
       "3                 0.098525                     89.9   \n",
       "4                 0.028857                    242.2   \n",
       "\n",
       "   Boots. stdev. peak 1 time  Level  Name   Session  SDF suffix  T step  \n",
       "0                 214.625628   Unit     1  Pa210201  -mwa_50-hg      10  \n",
       "1                  22.684576   Unit     2  Pa210201  -mwa_50-hg      10  \n",
       "2                 240.747918   Unit     3  Pa210201  -mwa_50-hg      10  \n",
       "3                 146.884274   Unit     4  Pa210201  -mwa_50-hg      10  \n",
       "4                  23.327237   Unit    4a  Pa210201  -mwa_50-hg      10  \n",
       "\n",
       "[5 rows x 35 columns]"
      ]
     },
     "execution_count": 14,
     "metadata": {},
     "output_type": "execute_result"
    }
   ],
   "source": [
    "cps, cls, pks, tps = map(np.ma.masked_invalid, (cps, cls, pks, tps))\n",
    "df = {}\n",
    "\n",
    "df['Latency'] = cps[0].filled(np.nan)\n",
    "df['Clearance'] = cls[0].filled(np.nan)\n",
    "\n",
    "df['Boots. bias, train'] = (cps[0] - cps[1::2].mean(0)).filled(np.nan)\n",
    "df['Boots. stdev., train'] = cps[1::2].std(0).filled(np.nan)\n",
    "df['Boots. mean clearance, train'] = cls[1::2].mean(0).filled(0)\n",
    "df['Boots. frac., train'] = 1 - cls[1::2].mask.mean(0)\n",
    "df['Boots. bias'] = (cps[0] - cps[2::2].mean(0)).filled(np.nan)\n",
    "df['Boots. stdev.'] = cps[2::2].std(0).filled(np.nan)\n",
    "df['Boots. mean clearance'] = cls[2::2].mean(0).filled(0)\n",
    "df['Boots. frac.'] = 1 - cls[2::2].mask.mean(0)\n",
    "\n",
    "for i, (pks_, tps_) in enumerate(zip(pks, tps)):\n",
    "    df[f'Peak {i} SC'] = pks_[0].filled(np.nan)\n",
    "    df[f'Peak {i} time'] = tps_[0].filled(np.nan)\n",
    "    df[f'Boots. mean peak {i} SC, train'] = pks_[1::2].mean(0).filled(np.nan)\n",
    "    df[f'Boots. stdev. peak {i} SC, train'] = pks_[1::2].std(0).filled(np.nan)\n",
    "    df[f'Boots. mean peak {i} time, train'] = tps_[1::2].mean(0).filled(np.nan)\n",
    "    df[f'Boots. stdev. peak {i} time, train'] = tps_[1::2].std(0).filled(np.nan)\n",
    "    df[f'Boots. mean peak {i} SC'] = pks_[2::2].mean(0).filled(np.nan)\n",
    "    df[f'Boots. stdev. peak {i} SC'] = pks_[2::2].std(0).filled(np.nan)\n",
    "    df[f'Boots. mean peak {i} time'] = tps_[2::2].mean(0).filled(np.nan)\n",
    "    df[f'Boots. stdev. peak {i} time'] = tps_[2::2].std(0).filled(np.nan)\n",
    "\n",
    "df = pd.DataFrame(df)\n",
    "df = df.iloc[unit_df['Index'].values].reset_index().drop(columns='index')\n",
    "df[['Level','Name']] = unit_df[['Level', 'Name']].values\n",
    "df['Session'] = sess_name\n",
    "df['SDF suffix'] = sdf_suffix\n",
    "df['T step'] = t_step\n",
    "df.head()"
   ]
  },
  {
   "cell_type": "code",
   "execution_count": 15,
   "id": "66638a3d-779a-4c2a-b4e8-4b50d661dc80",
   "metadata": {
    "execution": {
     "iopub.execute_input": "2024-02-20T03:04:23.258650Z",
     "iopub.status.busy": "2024-02-20T03:04:23.257566Z",
     "iopub.status.idle": "2024-02-20T03:04:23.320856Z",
     "shell.execute_reply": "2024-02-20T03:04:23.320196Z"
    },
    "papermill": {
     "duration": 0.074825,
     "end_time": "2024-02-20T03:04:23.323935",
     "exception": false,
     "start_time": "2024-02-20T03:04:23.249110",
     "status": "completed"
    },
    "tags": []
   },
   "outputs": [],
   "source": [
    "df.to_hdf(\n",
    "    output_path, analysis_name+'/latency_dataframe',\n",
    "    mode='a', format='table', complevel=9, complib='zlib')"
   ]
  },
  {
   "cell_type": "markdown",
   "id": "06ab242a-dbca-4040-9abf-88774b41eb5f",
   "metadata": {
    "papermill": {
     "duration": 0.010698,
     "end_time": "2024-02-20T03:04:23.353741",
     "exception": false,
     "start_time": "2024-02-20T03:04:23.343043",
     "status": "completed"
    },
    "tags": []
   },
   "source": [
    "# Wrap up"
   ]
  },
  {
   "cell_type": "code",
   "execution_count": 16,
   "id": "8e50b16a-744e-4328-9cbc-5813d8baed9e",
   "metadata": {
    "execution": {
     "iopub.execute_input": "2024-02-20T03:04:23.369091Z",
     "iopub.status.busy": "2024-02-20T03:04:23.368706Z",
     "iopub.status.idle": "2024-02-20T03:04:23.373251Z",
     "shell.execute_reply": "2024-02-20T03:04:23.372674Z"
    },
    "papermill": {
     "duration": 0.013171,
     "end_time": "2024-02-20T03:04:23.374350",
     "exception": false,
     "start_time": "2024-02-20T03:04:23.361179",
     "status": "completed"
    },
    "tags": []
   },
   "outputs": [],
   "source": [
    "save_results(f'progress_report/{analysis_name}/all_done', True)"
   ]
  },
  {
   "cell_type": "code",
   "execution_count": 17,
   "id": "553e15c0-cf86-4e73-860d-b55bafb4bd47",
   "metadata": {
    "execution": {
     "iopub.execute_input": "2024-02-20T03:04:23.390036Z",
     "iopub.status.busy": "2024-02-20T03:04:23.389401Z",
     "iopub.status.idle": "2024-02-20T03:04:23.426520Z",
     "shell.execute_reply": "2024-02-20T03:04:23.425058Z"
    },
    "papermill": {
     "duration": 0.049433,
     "end_time": "2024-02-20T03:04:23.430873",
     "exception": false,
     "start_time": "2024-02-20T03:04:23.381440",
     "status": "completed"
    },
    "tags": []
   },
   "outputs": [
    {
     "name": "stdout",
     "output_type": "stream",
     "text": [
      "Last updated: 2024-02-19T22:04:23.396254-05:00\n",
      "\n",
      "Python implementation: CPython\n",
      "Python version       : 3.10.12\n",
      "IPython version      : 8.12.0\n",
      "\n",
      "Compiler    : GCC 11.4.0\n",
      "OS          : Linux\n",
      "Release     : 5.15.0-92-generic\n",
      "Machine     : x86_64\n",
      "Processor   : x86_64\n",
      "CPU cores   : 20\n",
      "Architecture: 64bit\n",
      "\n",
      "Python implementation: CPython\n",
      "Python version       : 3.10.12\n",
      "IPython version      : 8.12.0\n",
      "\n",
      "Compiler    : GCC 11.4.0\n",
      "OS          : Linux\n",
      "Release     : 5.15.0-92-generic\n",
      "Machine     : x86_64\n",
      "Processor   : x86_64\n",
      "CPU cores   : 20\n",
      "Architecture: 64bit\n",
      "\n",
      "Git hash: b0bb10f45dee065cc3af96fe224326b883d27431\n",
      "\n",
      "Git repo: https://github.com/willwx/free_viewing_staging.git\n",
      "\n",
      "Git branch: master\n",
      "\n",
      "xarray: 2023.4.2\n",
      "pandas: 2.0.1\n",
      "h5py  : 3.8.0\n",
      "sys   : 3.10.12 (main, Nov 20 2023, 15:14:05) [GCC 11.4.0]\n",
      "numpy : 1.24.3\n",
      "\n"
     ]
    }
   ],
   "source": [
    "%load_ext watermark\n",
    "%watermark\n",
    "%watermark -vm --iversions -rbg"
   ]
  },
  {
   "cell_type": "markdown",
   "id": "7fce1fd2-1333-4e25-8c27-b9d5e9f93779",
   "metadata": {
    "papermill": {
     "duration": 0.011229,
     "end_time": "2024-02-20T03:04:23.461364",
     "exception": false,
     "start_time": "2024-02-20T03:04:23.450135",
     "status": "completed"
    },
    "tags": []
   },
   "source": [
    "# Basic visualization of results"
   ]
  },
  {
   "cell_type": "code",
   "execution_count": 18,
   "id": "30996df3-7df9-477b-8e01-ef6f6c2573f7",
   "metadata": {
    "execution": {
     "iopub.execute_input": "2024-02-20T03:04:23.478567Z",
     "iopub.status.busy": "2024-02-20T03:04:23.477920Z",
     "iopub.status.idle": "2024-02-20T03:04:24.098279Z",
     "shell.execute_reply": "2024-02-20T03:04:24.097175Z"
    },
    "papermill": {
     "duration": 0.631881,
     "end_time": "2024-02-20T03:04:24.101414",
     "exception": false,
     "start_time": "2024-02-20T03:04:23.469533",
     "status": "completed"
    },
    "tags": []
   },
   "outputs": [],
   "source": [
    "import matplotlib.pyplot as plt\n",
    "import seaborn as sns"
   ]
  },
  {
   "cell_type": "code",
   "execution_count": 19,
   "id": "38a923ce-6585-491e-abb0-99742b0709af",
   "metadata": {
    "execution": {
     "iopub.execute_input": "2024-02-20T03:04:24.126688Z",
     "iopub.status.busy": "2024-02-20T03:04:24.125226Z",
     "iopub.status.idle": "2024-02-20T03:04:24.352325Z",
     "shell.execute_reply": "2024-02-20T03:04:24.351366Z"
    },
    "papermill": {
     "duration": 0.245425,
     "end_time": "2024-02-20T03:04:24.354119",
     "exception": false,
     "start_time": "2024-02-20T03:04:24.108694",
     "status": "completed"
    },
    "tags": []
   },
   "outputs": [
    {
     "data": {
      "image/png": "[encoded data removed]",
      "text/plain": [
       "<Figure size 640x480 with 1 Axes>"
      ]
     },
     "metadata": {},
     "output_type": "display_data"
    }
   ],
   "source": [
    "sns.histplot(data=df[df['Clearance']>=clearance_thres], x='Latency', hue='Level', element='poly', fill=False, stat='density', common_norm=False);"
   ]
  },
  {
   "cell_type": "code",
   "execution_count": 20,
   "id": "377093e9-0f45-4ea8-a703-bdbd7f038c9f",
   "metadata": {
    "execution": {
     "iopub.execute_input": "2024-02-20T03:04:24.381749Z",
     "iopub.status.busy": "2024-02-20T03:04:24.380966Z",
     "iopub.status.idle": "2024-02-20T03:04:24.585801Z",
     "shell.execute_reply": "2024-02-20T03:04:24.584804Z"
    },
    "papermill": {
     "duration": 0.21732,
     "end_time": "2024-02-20T03:04:24.587089",
     "exception": false,
     "start_time": "2024-02-20T03:04:24.369769",
     "status": "completed"
    },
    "tags": []
   },
   "outputs": [
    {
     "data": {
      "image/png": "[encoded data removed]",
      "text/plain": [
       "<Figure size 640x480 with 1 Axes>"
      ]
     },
     "metadata": {},
     "output_type": "display_data"
    }
   ],
   "source": [
    "sns.histplot(data=df, x='Clearance', hue='Level', element='poly', fill=False, stat='density', common_norm=False);"
   ]
  },
  {
   "cell_type": "code",
   "execution_count": 21,
   "id": "84cf73b9-70f8-48be-bd56-bc621e579da9",
   "metadata": {
    "execution": {
     "iopub.execute_input": "2024-02-20T03:04:24.606107Z",
     "iopub.status.busy": "2024-02-20T03:04:24.605575Z",
     "iopub.status.idle": "2024-02-20T03:04:24.812726Z",
     "shell.execute_reply": "2024-02-20T03:04:24.812257Z"
    },
    "papermill": {
     "duration": 0.218389,
     "end_time": "2024-02-20T03:04:24.814123",
     "exception": false,
     "start_time": "2024-02-20T03:04:24.595734",
     "status": "completed"
    },
    "tags": []
   },
   "outputs": [
    {
     "data": {
      "image/png": "[encoded data removed]",
      "text/plain": [
       "<Figure size 640x480 with 1 Axes>"
      ]
     },
     "metadata": {},
     "output_type": "display_data"
    }
   ],
   "source": [
    "sns.histplot(data=df, x='Boots. stdev.', hue='Level', element='poly', fill=False, stat='density', common_norm=False);"
   ]
  }
 ],
 "metadata": {
  "kernelspec": {
   "display_name": "Python 3 (ipykernel)",
   "language": "python",
   "name": "python3"
  },
  "language_info": {
   "codemirror_mode": {
    "name": "ipython",
    "version": 3
   },
   "file_extension": ".py",
   "mimetype": "text/x-python",
   "name": "python",
   "nbconvert_exporter": "python",
   "pygments_lexer": "ipython3",
   "version": "3.10.12"
  },
  "papermill": {
   "default_parameters": {},
   "duration": 84.637476,
   "end_time": "2024-02-20T03:04:25.445978",
   "environment_variables": {},
   "exception": null,
   "input_path": "script_2u1_crossing_point.ipynb",
   "output_path": "../test_results/hier_group/log_2u1_crossing_point-Pa210201.ipynb",
   "parameters": {
    "output_dir": "../test_results/hier_group",
    "rsc_dir": "../test_results/hier_group",
    "sess_name": "Pa210201"
   },
   "start_time": "2024-02-20T03:03:00.808502",
   "version": "2.5.0"
  }
 },
 "nbformat": 4,
 "nbformat_minor": 5
}