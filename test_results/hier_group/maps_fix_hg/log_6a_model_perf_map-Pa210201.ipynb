{
 "cells": [
  {
   "cell_type": "code",
   "execution_count": 1,
   "id": "42243ee0",
   "metadata": {
    "execution": {
     "iopub.execute_input": "2024-02-20T03:08:38.885837Z",
     "iopub.status.busy": "2024-02-20T03:08:38.885325Z",
     "iopub.status.idle": "2024-02-20T03:08:39.571416Z",
     "shell.execute_reply": "2024-02-20T03:08:39.570798Z"
    },
    "papermill": {
     "duration": 0.705204,
     "end_time": "2024-02-20T03:08:39.573847",
     "exception": false,
     "start_time": "2024-02-20T03:08:38.868643",
     "status": "completed"
    },
    "tags": []
   },
   "outputs": [],
   "source": [
    "import itertools\n",
    "import sys\n",
    "from pathlib import Path\n",
    "\n",
    "import h5py as h5\n",
    "import numpy as np\n",
    "import pandas as pd\n",
    "import xarray as xr\n",
    "from tqdm import tqdm\n",
    "\n",
    "sys.path.append('../lib')\n",
    "from local_paths import preproc_dir, analysis_dir, database_dir, cache_dir\n",
    "from storage import get_storage_functions, quantize\n",
    "from im_patches import get_patches_from_grid\n",
    "from cross_val_pred import standardize, cv_split_by_image, cv_ridge_predict_eval"
   ]
  },
  {
   "cell_type": "markdown",
   "id": "d82b6710",
   "metadata": {
    "papermill": {
     "duration": 0.014378,
     "end_time": "2024-02-20T03:08:39.592809",
     "exception": false,
     "start_time": "2024-02-20T03:08:39.578431",
     "status": "completed"
    },
    "tags": []
   },
   "source": [
    "# Parameters"
   ]
  },
  {
   "cell_type": "code",
   "execution_count": 2,
   "id": "7409d4b0",
   "metadata": {
    "execution": {
     "iopub.execute_input": "2024-02-20T03:08:39.605312Z",
     "iopub.status.busy": "2024-02-20T03:08:39.604847Z",
     "iopub.status.idle": "2024-02-20T03:08:39.610735Z",
     "shell.execute_reply": "2024-02-20T03:08:39.610086Z"
    },
    "papermill": {
     "duration": 0.013514,
     "end_time": "2024-02-20T03:08:39.611934",
     "exception": false,
     "start_time": "2024-02-20T03:08:39.598420",
     "status": "completed"
    },
    "tags": [
     "parameters"
    ]
   },
   "outputs": [],
   "source": [
    "#============================================================================\n",
    "# session\n",
    "#============================================================================\n",
    "sess_name = 'sess_name'\n",
    "\n",
    "\n",
    "#============================================================================\n",
    "# spatiotemporal resolution of RF\n",
    "#============================================================================\n",
    "# temporal\n",
    "t_aln  = 'sacc_on'  # 'sacc_on' or 'fix_on'\n",
    "# response windows\n",
    "# - one (long) window, if > 0\n",
    "t_win  =   0\n",
    "# - OTHERWISE, sliding window\n",
    "t_pre  = 375\n",
    "t_post = 375  # inclusive, but window must fit fully in range\n",
    "t_step =  25\n",
    "\n",
    "# spatial\n",
    "xy_min  = -7  # dva\n",
    "xy_max  =  7\n",
    "xy_step =  1  # only meaningful if at least patch step size in cached reprs;\n",
    "              # note that patch size is set in cached reprs\n",
    "\n",
    "\n",
    "#============================================================================\n",
    "# fixation/saccade selection\n",
    "#============================================================================\n",
    "# fixation criteria\n",
    "ifix_sel        =    1    # 0: zeroth-fix only; 1: non-zeroth-fix only; otherwise: both\n",
    "select_saccades = True    # must be False if ifix_sel is None or 0\n",
    "\n",
    "\n",
    "#============================================================================\n",
    "# modelling\n",
    "#============================================================================\n",
    "# ridge regularization\n",
    "ridge_alpha = 100000\n",
    "\n",
    "# cross-validation\n",
    "n_splits    =      5\n",
    "group_kfold =   True\n",
    "\n",
    "\n",
    "#============================================================================\n",
    "# paths\n",
    "#============================================================================\n",
    "proc_dir = preproc_dir\n",
    "\n",
    "sdf_dir = preproc_dir\n",
    "sdf_suffix = '-mwa_1' if t_win > 0 else '-mwa_50'  # default to no smoothing if using a response window\n",
    "\n",
    "feat_dir = cache_dir + 'feats/vit_large_patch16_384/blocks.13.attn.qkv'\n",
    "feat_suffix = '_as_2x2_in_0.50_steps'\n",
    "\n",
    "unit_sel_path = None\n",
    "latency_path = database_dir + 'per_unit_latency-fix_on.csv.gz'  # only used # if t_win > 0\n",
    "\n",
    "output_dir = analysis_dir + 'model_perf_map'"
   ]
  },
  {
   "cell_type": "code",
   "execution_count": 3,
   "id": "235f80b4",
   "metadata": {
    "execution": {
     "iopub.execute_input": "2024-02-20T03:08:39.621544Z",
     "iopub.status.busy": "2024-02-20T03:08:39.620954Z",
     "iopub.status.idle": "2024-02-20T03:08:39.627639Z",
     "shell.execute_reply": "2024-02-20T03:08:39.626361Z"
    },
    "papermill": {
     "duration": 0.013096,
     "end_time": "2024-02-20T03:08:39.629162",
     "exception": false,
     "start_time": "2024-02-20T03:08:39.616066",
     "status": "completed"
    },
    "tags": [
     "injected-parameters"
    ]
   },
   "outputs": [],
   "source": [
    "# Parameters\n",
    "sess_name = \"Pa210201\"\n",
    "sdf_suffix = \"-mwa_1-hg\"\n",
    "latency_path = \"../db/per_hier_unit_latency-fix_on.csv.gz\"\n",
    "t_aln = \"fix_on\"\n",
    "t_win = 200\n",
    "ifix_sel = 2\n",
    "select_saccades = False\n",
    "output_dir = \"../test_results/hier_group/maps_fix_hg\"\n"
   ]
  },
  {
   "cell_type": "markdown",
   "id": "b78d2d3d",
   "metadata": {
    "papermill": {
     "duration": 0.004111,
     "end_time": "2024-02-20T03:08:39.637416",
     "exception": false,
     "start_time": "2024-02-20T03:08:39.633305",
     "status": "completed"
    },
    "tags": []
   },
   "source": [
    "# Check prereqs and params"
   ]
  },
  {
   "cell_type": "code",
   "execution_count": 4,
   "id": "e02cec79",
   "metadata": {
    "execution": {
     "iopub.execute_input": "2024-02-20T03:08:39.648351Z",
     "iopub.status.busy": "2024-02-20T03:08:39.647382Z",
     "iopub.status.idle": "2024-02-20T03:08:39.658442Z",
     "shell.execute_reply": "2024-02-20T03:08:39.657466Z"
    },
    "papermill": {
     "duration": 0.01822,
     "end_time": "2024-02-20T03:08:39.659821",
     "exception": false,
     "start_time": "2024-02-20T03:08:39.641601",
     "status": "completed"
    },
    "tags": []
   },
   "outputs": [
    {
     "name": "stdout",
     "output_type": "stream",
     "text": [
      "Loading shared processing from ../test_data/Pa210201-proc.h5\n",
      "Loading spike density function from ../test_data/Pa210201-sdf-mwa_1-hg.h5\n",
      "Loading cached model features from ~/Data/free_viewing/Cache/feats/vit_large_patch16_384/blocks.13.attn.qkv/16.0x16.0_as_2x2_in_0.50_steps.h5\n",
      "Using per-unit latency from ../db/per_hier_unit_latency-fix_on.csv.gz\n",
      "Saving results to ../test_results/hier_group/maps_fix_hg/Pa210201.h5\n"
     ]
    }
   ],
   "source": [
    "proc_path = Path(proc_dir) / (sess_name + '-proc.h5')\n",
    "print('Loading shared processing from', proc_path)\n",
    "proc_path = proc_path.expanduser()\n",
    "assert proc_path.is_file()\n",
    "\n",
    "sdf_path = Path(sdf_dir) / (sess_name + f'-sdf{sdf_suffix}.h5')\n",
    "print('Loading spike density function from', sdf_path)\n",
    "sdf_path = sdf_path.expanduser()\n",
    "assert sdf_path.is_file()\n",
    "\n",
    "with h5.File(proc_path, 'r') as f:\n",
    "    im_w, im_h = im_size = f['stimulus/size_dva'][()]\n",
    "feats_path = Path(feat_dir) / f'{im_w:.1f}x{im_h:.1f}{feat_suffix}.h5'\n",
    "print('Loading cached model features from', feats_path)\n",
    "feats_path = feats_path.expanduser()\n",
    "assert feats_path.is_file()\n",
    "\n",
    "if t_win > 0:\n",
    "    print('Using per-unit latency from', latency_path)\n",
    "    latency_path = Path(latency_path).expanduser()\n",
    "    assert latency_path.is_file()\n",
    "\n",
    "if unit_sel_path is not None:\n",
    "    print('Loading unit selection from', unit_sel_path)\n",
    "    unit_sel_path = Path(unit_sel_path).expanduser()\n",
    "    assert unit_sel_path.is_file()\n",
    "    unit_names = pd.read_csv(unit_sel_path).set_index('Session').loc[[sess_name]]['Unit'].values\n",
    "else:\n",
    "    unit_names = None\n",
    "\n",
    "output_dir = Path(output_dir)\n",
    "assert output_dir.expanduser().is_dir()\n",
    "output_path = output_dir / (sess_name + '.h5')\n",
    "print('Saving results to', output_path)\n",
    "output_path = output_path.expanduser()"
   ]
  },
  {
   "cell_type": "code",
   "execution_count": 5,
   "id": "507769ba",
   "metadata": {
    "execution": {
     "iopub.execute_input": "2024-02-20T03:08:39.670452Z",
     "iopub.status.busy": "2024-02-20T03:08:39.669598Z",
     "iopub.status.idle": "2024-02-20T03:08:39.676992Z",
     "shell.execute_reply": "2024-02-20T03:08:39.675638Z"
    },
    "papermill": {
     "duration": 0.016059,
     "end_time": "2024-02-20T03:08:39.680123",
     "exception": false,
     "start_time": "2024-02-20T03:08:39.664064",
     "status": "completed"
    },
    "tags": []
   },
   "outputs": [],
   "source": [
    "analysis_name = 'model_perf_map'\n",
    "\n",
    "if output_path.is_file():\n",
    "    with h5.File(output_path, 'r') as f:\n",
    "        try:\n",
    "            if f[f'progress_report/{analysis_name}/all_done'][()].item():\n",
    "                raise RuntimeError(f'{sess_name} has already been processed')\n",
    "        except KeyError:\n",
    "            pass"
   ]
  },
  {
   "cell_type": "code",
   "execution_count": 6,
   "id": "4ea0ecd0",
   "metadata": {
    "execution": {
     "iopub.execute_input": "2024-02-20T03:08:39.701144Z",
     "iopub.status.busy": "2024-02-20T03:08:39.700760Z",
     "iopub.status.idle": "2024-02-20T03:08:39.763935Z",
     "shell.execute_reply": "2024-02-20T03:08:39.763391Z"
    },
    "papermill": {
     "duration": 0.074442,
     "end_time": "2024-02-20T03:08:39.765956",
     "exception": false,
     "start_time": "2024-02-20T03:08:39.691514",
     "status": "completed"
    },
    "tags": []
   },
   "outputs": [],
   "source": [
    "fix_df = pd.read_hdf(proc_path, 'fixation_dataframe', 'r')\n",
    "with h5.File(proc_path, 'r') as f:\n",
    "    stim_folder_ = f['stimulus/folder'][()].decode()\n",
    "\n",
    "imids = fix_df.groupby(['Image subdir', 'Image filename']).first().index\n",
    "md5s = [Path(fn).stem for _, fn in imids]\n",
    "md5_catalog = pd.DataFrame(index=imids, data=md5s, columns=['MD5'])"
   ]
  },
  {
   "cell_type": "markdown",
   "id": "39fcaa96",
   "metadata": {
    "papermill": {
     "duration": 0.004262,
     "end_time": "2024-02-20T03:08:39.774909",
     "exception": false,
     "start_time": "2024-02-20T03:08:39.770647",
     "status": "completed"
    },
    "tags": []
   },
   "source": [
    "# Prepare parameters; save config"
   ]
  },
  {
   "cell_type": "code",
   "execution_count": 7,
   "id": "2149d231",
   "metadata": {
    "execution": {
     "iopub.execute_input": "2024-02-20T03:08:39.784625Z",
     "iopub.status.busy": "2024-02-20T03:08:39.784286Z",
     "iopub.status.idle": "2024-02-20T03:08:39.789484Z",
     "shell.execute_reply": "2024-02-20T03:08:39.788790Z"
    },
    "papermill": {
     "duration": 0.011311,
     "end_time": "2024-02-20T03:08:39.790475",
     "exception": false,
     "start_time": "2024-02-20T03:08:39.779164",
     "status": "completed"
    },
    "tags": []
   },
   "outputs": [
    {
     "name": "stdout",
     "output_type": "stream",
     "text": [
      "random_seed: 775418045\n"
     ]
    }
   ],
   "source": [
    "with h5.File(proc_path, 'r') as f:\n",
    "    random_seed = f['config/default_random_seed'][()]\n",
    "print('random_seed:', random_seed)"
   ]
  },
  {
   "cell_type": "code",
   "execution_count": 8,
   "id": "5abe21ee",
   "metadata": {
    "execution": {
     "iopub.execute_input": "2024-02-20T03:08:39.800055Z",
     "iopub.status.busy": "2024-02-20T03:08:39.799827Z",
     "iopub.status.idle": "2024-02-20T03:08:39.805233Z",
     "shell.execute_reply": "2024-02-20T03:08:39.804597Z"
    },
    "papermill": {
     "duration": 0.013074,
     "end_time": "2024-02-20T03:08:39.807807",
     "exception": false,
     "start_time": "2024-02-20T03:08:39.794733",
     "status": "completed"
    },
    "tags": []
   },
   "outputs": [],
   "source": [
    "with h5.File(proc_path, 'r') as f:\n",
    "    if select_saccades:\n",
    "        assert ifix_sel == 1, 'if selecting saccades, must only include non-zeroth fixations'\n",
    "        fix1_sel, fix2_sel = f['saccade_selection/fixation_indices'][()]\n",
    "    else:\n",
    "        assert t_aln == 'fix_on'\n",
    "        fix2_sel = f['fixation_selection/fixation_indices'][()]\n",
    "        if ifix_sel in (0, 1):\n",
    "            m = 0 == fix_df.index.get_level_values(fix_df.index.names.index('Fixation'))[fix2_sel]\n",
    "            if ifix_sel == 1:\n",
    "                m = ~m\n",
    "            fix2_sel = fix2_sel[m]"
   ]
  },
  {
   "cell_type": "code",
   "execution_count": 9,
   "id": "c86183c6",
   "metadata": {
    "execution": {
     "iopub.execute_input": "2024-02-20T03:08:39.824005Z",
     "iopub.status.busy": "2024-02-20T03:08:39.823496Z",
     "iopub.status.idle": "2024-02-20T03:08:39.829713Z",
     "shell.execute_reply": "2024-02-20T03:08:39.829132Z"
    },
    "papermill": {
     "duration": 0.014661,
     "end_time": "2024-02-20T03:08:39.831035",
     "exception": false,
     "start_time": "2024-02-20T03:08:39.816374",
     "status": "completed"
    },
    "tags": []
   },
   "outputs": [
    {
     "name": "stdout",
     "output_type": "stream",
     "text": [
      "Response windows (1): [100.]\n",
      "RF locations (15): [-7. -6. -5. -4. -3. -2. -1.  0.  1.  2.  3.  4.  5.  6.  7.]\n"
     ]
    }
   ],
   "source": [
    "assert t_aln in ('sacc_on', 'fix_on')\n",
    "if t_win > 0:\n",
    "    ts = np.array([t_win/2])  # placeholder; actual window varies with latency per unit\n",
    "else:\n",
    "    ts = np.arange(-t_pre, t_post+.1, t_step)\n",
    "print(f'Response windows ({len(ts)}): {ts}')\n",
    "\n",
    "rf_locs = np.arange(xy_min, xy_max+xy_step/10, xy_step)\n",
    "print(f'RF locations ({len(rf_locs)}): {rf_locs}')\n",
    "tb = (rf_locs[0]-xy_step/2, rf_locs[-1]+xy_step/2)\n",
    "rf_extent = tb + tb"
   ]
  },
  {
   "cell_type": "code",
   "execution_count": 10,
   "id": "df579c10",
   "metadata": {
    "execution": {
     "iopub.execute_input": "2024-02-20T03:08:39.842881Z",
     "iopub.status.busy": "2024-02-20T03:08:39.842567Z",
     "iopub.status.idle": "2024-02-20T03:08:39.846302Z",
     "shell.execute_reply": "2024-02-20T03:08:39.845482Z"
    },
    "papermill": {
     "duration": 0.010977,
     "end_time": "2024-02-20T03:08:39.847634",
     "exception": false,
     "start_time": "2024-02-20T03:08:39.836657",
     "status": "completed"
    },
    "tags": []
   },
   "outputs": [],
   "source": [
    "save_results, add_attr_to_dset, check_equals_saved, link_dsets, copy_group = \\\n",
    "    get_storage_functions(output_path)"
   ]
  },
  {
   "cell_type": "code",
   "execution_count": 11,
   "id": "7a1ae9ea",
   "metadata": {
    "execution": {
     "iopub.execute_input": "2024-02-20T03:08:39.858114Z",
     "iopub.status.busy": "2024-02-20T03:08:39.857416Z",
     "iopub.status.idle": "2024-02-20T03:08:39.881101Z",
     "shell.execute_reply": "2024-02-20T03:08:39.880508Z"
    },
    "papermill": {
     "duration": 0.030977,
     "end_time": "2024-02-20T03:08:39.882977",
     "exception": false,
     "start_time": "2024-02-20T03:08:39.852000",
     "status": "completed"
    },
    "tags": []
   },
   "outputs": [],
   "source": [
    "group = analysis_name + '/'\n",
    "save_results(group+'ts', ts, attrs=dict(unit='ms'))\n",
    "save_results(group+'rf_locs', rf_locs, attrs=dict(unit='dva'))\n",
    "save_results(group+'sdf_suffix', sdf_suffix)\n",
    "\n",
    "group = analysis_name + '/config/'\n",
    "save_results(group+'random_seed', random_seed)\n",
    "\n",
    "group = analysis_name + '/config/time_windows/'\n",
    "save_results(group+'t_aln', t_aln)\n",
    "save_results(group+'t_win', t_win)\n",
    "save_results(group+'t_pre', t_pre)\n",
    "save_results(group+'t_post', t_post)\n",
    "save_results(group+'t_step', t_step)\n",
    "add_attr_to_dset(group, attrs=dict(unit='ms'))\n",
    "\n",
    "group = analysis_name + '/config/retinotopic_locations/'\n",
    "save_results(group+'xy_min', xy_min)\n",
    "save_results(group+'xy_max', xy_max)\n",
    "save_results(group+'xy_step', xy_step)\n",
    "add_attr_to_dset(group, attrs=dict(unit='dva'))\n",
    "\n",
    "group = analysis_name + '/config/fixation_selection/'\n",
    "save_results(group+'ifix_sel', ifix_sel)\n",
    "save_results(group+'select_saccades', select_saccades)\n",
    "\n",
    "group = analysis_name + '/config/modelling/'\n",
    "save_results(group+'n_splits', n_splits)\n",
    "save_results(group+'ridge_alpha', ridge_alpha)\n",
    "save_results(group+'group_kfold', group_kfold)"
   ]
  },
  {
   "cell_type": "markdown",
   "id": "770f7de8",
   "metadata": {
    "papermill": {
     "duration": 0.005154,
     "end_time": "2024-02-20T03:08:39.894606",
     "exception": false,
     "start_time": "2024-02-20T03:08:39.889452",
     "status": "completed"
    },
    "tags": []
   },
   "source": [
    "# For saccades, construct two types of control points\n",
    "- Control 1: the 3rd vertex of two equilateral triangles anchored by fix 1 & 2 (previous and current), i.e., the L4/5 Langange points. One of the points is chosen:\n",
    "  - If both points are within image bounds, choose randomly\n",
    "  - If one and only one point is within image bounds, choose that\n",
    "  - If both points are outside image bounds, choose the one closest to the image.\n",
    "- Control 2: the midpoint between the previous and current fixation, i.e., the L1 point."
   ]
  },
  {
   "cell_type": "code",
   "execution_count": 12,
   "id": "9388d00b",
   "metadata": {
    "execution": {
     "iopub.execute_input": "2024-02-20T03:08:39.904444Z",
     "iopub.status.busy": "2024-02-20T03:08:39.904194Z",
     "iopub.status.idle": "2024-02-20T03:08:39.908807Z",
     "shell.execute_reply": "2024-02-20T03:08:39.908258Z"
    },
    "papermill": {
     "duration": 0.010817,
     "end_time": "2024-02-20T03:08:39.910037",
     "exception": false,
     "start_time": "2024-02-20T03:08:39.899220",
     "status": "completed"
    },
    "tags": []
   },
   "outputs": [],
   "source": [
    "xys_fix2 = fix_df.iloc[fix2_sel][['Relative X', 'Relative Y']].values.astype(float)\n",
    "if select_saccades:\n",
    "    xys_fix1 = fix_df.iloc[fix1_sel][['Relative X', 'Relative Y']].values.astype(float)"
   ]
  },
  {
   "cell_type": "code",
   "execution_count": 13,
   "id": "a4ea1130",
   "metadata": {
    "execution": {
     "iopub.execute_input": "2024-02-20T03:08:39.919733Z",
     "iopub.status.busy": "2024-02-20T03:08:39.919543Z",
     "iopub.status.idle": "2024-02-20T03:08:39.928856Z",
     "shell.execute_reply": "2024-02-20T03:08:39.928341Z"
    },
    "papermill": {
     "duration": 0.01578,
     "end_time": "2024-02-20T03:08:39.930115",
     "exception": false,
     "start_time": "2024-02-20T03:08:39.914335",
     "status": "completed"
    },
    "tags": []
   },
   "outputs": [],
   "source": [
    "if not select_saccades:\n",
    "    n_cond = 1\n",
    "\n",
    "else:\n",
    "    n_cond = 4\n",
    "    rg = np.random.default_rng(random_seed)\n",
    "\n",
    "    # control point type 2: midpoint between fixs 1, 2\n",
    "    xys_control2 = (xys_fix1 + xys_fix2) / 2\n",
    "\n",
    "    # control point type 1\n",
    "    # - get 3rd vertex of the equilateral triangle\n",
    "    #   by rotating the saccade vector +/-60 degs\n",
    "    vs = xys_fix2 - xys_fix1\n",
    "    rmats = [\n",
    "        np.array([[np.cos(a), -np.sin(a)], [np.sin(a), np.cos(a)]])\n",
    "        for a in (np.pi/3, -np.pi/3)\n",
    "    ]\n",
    "    xys_l45 = xys_fix1 + np.array([(m @ vs.T).T for m in rmats])  # shape (n_fix, 2)\n",
    "\n",
    "    # - check whether/how far points are out of image bounds\n",
    "    d2b = np.array([\n",
    "        [\n",
    "            np.max([xys[:,j]-im_size[j]/2, -im_size[j]/2-xys[:,j]], axis=0)\n",
    "            for j in range(2)\n",
    "        ]\n",
    "        for xys in xys_l45\n",
    "    ])  # shape (2, 2, n_fix)\n",
    "    oob = np.any(d2b >= 0, axis=1)  # shape (2, n_fix)\n",
    "\n",
    "    # - choose one of the two candidate control points according to 1 of 3 conditions\n",
    "    m0 = np.all(oob, axis=0)\n",
    "    m2 = np.all(~oob, axis=0)\n",
    "    m1 = ~(m0 | m2)\n",
    "    xys_control1 = np.empty_like(xys_fix1)\n",
    "    if np.any(m0):\n",
    "        xys_control1[m0] = [xys_l45[np.argmin(d2b[...,i].max(1)), i] for i in np.nonzero(m0)[0]]\n",
    "    if np.any(m1):\n",
    "        xys_control1[m1] = [xys_l45[np.argmin(oob[:,i]), i] for i in np.nonzero(m1)[0]]\n",
    "    if np.any(m2):\n",
    "        rand_par = (rg.random(size=m2.sum()) < 0.5).astype(int)\n",
    "        xys_control1[m2] = [xys_l45[p, i] for p, i in zip(rand_par, np.nonzero(m2)[0])]\n",
    "\n",
    "    # - quality control\n",
    "    for i, xys in enumerate((xys_fix1, xys_fix2, xys_control1, xys_control2)):\n",
    "        if i < 2:\n",
    "            # sanity check: control point must be equidistant to both fixations\n",
    "            assert np.allclose(np.linalg.norm(xys_control1 - xys, axis=1), np.linalg.norm(vs, axis=1))\n",
    "\n",
    "        d2b_ = np.array([\n",
    "            np.max([xys[:,j]-im_size[j]/2, -im_size[j]/2-xys[:,j]], axis=0)\n",
    "            for j in range(2)\n",
    "        ])\n",
    "        m = np.any(d2b_ >= 0, 0)\n",
    "        d2b__ = d2b_[:,m].max(0)\n",
    "        cond = ('Fixation 1', 'Fixation 2', 'Control 1 (equidist)', 'Control 2 (midpoint)')[i]\n",
    "        print(f'{cond +\":\":<18}\\t{m.mean()*100:4.1f}% out of image boundary', end='')\n",
    "        if np.any(m):\n",
    "            print(f'; d = {d2b__.mean():.1f} +/- {d2b__.std():.1f}')\n",
    "        else:\n",
    "            print()\n",
    "        d2b__ = -(d2b_.max(0))\n",
    "        print(f'\\tmean min dist to bound: {d2b__.mean():.1f} +/- {d2b__.std():.1f} dva')"
   ]
  },
  {
   "cell_type": "code",
   "execution_count": 14,
   "id": "d24876be",
   "metadata": {
    "execution": {
     "iopub.execute_input": "2024-02-20T03:08:39.942585Z",
     "iopub.status.busy": "2024-02-20T03:08:39.942173Z",
     "iopub.status.idle": "2024-02-20T03:08:39.945960Z",
     "shell.execute_reply": "2024-02-20T03:08:39.945374Z"
    },
    "papermill": {
     "duration": 0.0112,
     "end_time": "2024-02-20T03:08:39.947357",
     "exception": false,
     "start_time": "2024-02-20T03:08:39.936157",
     "status": "completed"
    },
    "tags": []
   },
   "outputs": [],
   "source": [
    "ref_frames = np.array(('fix1', 'fix2', 'equidistant', 'midpoint')[:n_cond])\n",
    "if select_saccades:\n",
    "    xy_degs_conds = (xys_fix1, xys_fix2, xys_control1, xys_control2)\n",
    "else:\n",
    "    xy_degs_conds = (xys_fix2,)\n",
    "    ref_frames = ref_frames[:1]"
   ]
  },
  {
   "cell_type": "code",
   "execution_count": 15,
   "id": "dbe15edd",
   "metadata": {
    "execution": {
     "iopub.execute_input": "2024-02-20T03:08:39.958602Z",
     "iopub.status.busy": "2024-02-20T03:08:39.958322Z",
     "iopub.status.idle": "2024-02-20T03:08:40.013695Z",
     "shell.execute_reply": "2024-02-20T03:08:40.013063Z"
    },
    "papermill": {
     "duration": 0.06451,
     "end_time": "2024-02-20T03:08:40.016916",
     "exception": false,
     "start_time": "2024-02-20T03:08:39.952406",
     "status": "completed"
    },
    "tags": []
   },
   "outputs": [],
   "source": [
    "group = analysis_name + '/fix_sel'\n",
    "if select_saccades:\n",
    "    save_results(\n",
    "        group, np.array([fix1_sel, fix2_sel]),\n",
    "        attrs=dict(dims=np.array(['fix_1_or_2', 'index'], dtype=np.bytes_)))\n",
    "else:\n",
    "    save_results(\n",
    "        group, fix2_sel,\n",
    "        attrs=dict(dims=np.array(['index'], dtype=np.bytes_)))\n",
    "\n",
    "if select_saccades:\n",
    "    group = analysis_name + '/control_points/'\n",
    "    attrs = dict(dims=np.array(['index', 'xy'], dtype=np.bytes_), unit='dva', comment='Relative to image center')\n",
    "    save_results(group+'equidistant', xys_control1, attrs=attrs)\n",
    "    save_results(group+'midpoint', xys_control2, attrs=attrs)"
   ]
  },
  {
   "cell_type": "markdown",
   "id": "5d640274",
   "metadata": {
    "papermill": {
     "duration": 0.004562,
     "end_time": "2024-02-20T03:08:40.026459",
     "exception": false,
     "start_time": "2024-02-20T03:08:40.021897",
     "status": "completed"
    },
    "tags": []
   },
   "source": [
    "# Get aligned responses"
   ]
  },
  {
   "cell_type": "code",
   "execution_count": 16,
   "id": "ba8901de",
   "metadata": {
    "execution": {
     "iopub.execute_input": "2024-02-20T03:08:40.036083Z",
     "iopub.status.busy": "2024-02-20T03:08:40.035874Z",
     "iopub.status.idle": "2024-02-20T03:08:47.526179Z",
     "shell.execute_reply": "2024-02-20T03:08:47.525139Z"
    },
    "papermill": {
     "duration": 7.498569,
     "end_time": "2024-02-20T03:08:47.529343",
     "exception": false,
     "start_time": "2024-02-20T03:08:40.030774",
     "status": "completed"
    },
    "tags": []
   },
   "outputs": [],
   "source": [
    "with h5.File(sdf_path, 'r') as f:\n",
    "    dset = f['sdf']\n",
    "    all_unit_names = dset.attrs['unit_names'].astype(str)\n",
    "    if unit_names is None:\n",
    "        unit_names = all_unit_names\n",
    "        unit_sel = slice(None)\n",
    "        if 'unit_names' in f:\n",
    "            copy_group(f, 'unit_names', analysis_name+'/unit_names')\n",
    "    else:\n",
    "        all_unit_names = list(all_unit_names)\n",
    "        unit_sel = np.array([v in unit_names for v in all_unit_names])\n",
    "\n",
    "    sdf = dset[()][:,unit_sel]\n",
    "\n",
    "n_neur = sdf.shape[1]"
   ]
  },
  {
   "cell_type": "code",
   "execution_count": 17,
   "id": "b8e1ae67",
   "metadata": {
    "execution": {
     "iopub.execute_input": "2024-02-20T03:08:47.559334Z",
     "iopub.status.busy": "2024-02-20T03:08:47.558936Z",
     "iopub.status.idle": "2024-02-20T03:08:47.627234Z",
     "shell.execute_reply": "2024-02-20T03:08:47.626378Z"
    },
    "papermill": {
     "duration": 0.085342,
     "end_time": "2024-02-20T03:08:47.628887",
     "exception": false,
     "start_time": "2024-02-20T03:08:47.543545",
     "status": "completed"
    },
    "tags": []
   },
   "outputs": [
    {
     "name": "stdout",
     "output_type": "stream",
     "text": [
      "Num units using RF fit from each source:\n",
      "\tSource\n",
      "\tArray                 33\n",
      "\tArray, across sess    45\n",
      "\tChannel               16\n",
      "\tUnit                  12\n"
     ]
    }
   ],
   "source": [
    "if t_win > 0:\n",
    "    lat_df = pd.read_csv(latency_path).set_index('Session').loc[[sess_name]].set_index('Name')\n",
    "    m = pd.Series(unit_names).isin(lat_df.index)\n",
    "    assert m.all(), f'missing latency values for {(~m).sum()} of {m.size} units'\n",
    "    assert not lat_df.index.has_duplicates\n",
    "    lat_df = lat_df.loc[unit_names].reset_index()\n",
    "    assert len(lat_df) == len(unit_names)\n",
    "    lat_df['Index'] = np.arange(len(lat_df))\n",
    "    lat_df['Latency'] = np.clip(lat_df['Latency'], 40, None)\n",
    "    print('Num units using RF fit from each source:')\n",
    "    print('\\t' + '\\n\\t'.join(str(lat_df.groupby('Source').count()['Latency']).split('\\n')[:-1]))\n",
    "    lat_df.to_hdf(output_path, analysis_name+'/latency_per_unit', mode='a', format='table', complevel=9, complib='zlib')"
   ]
  },
  {
   "cell_type": "code",
   "execution_count": 18,
   "id": "a6b59da0",
   "metadata": {
    "execution": {
     "iopub.execute_input": "2024-02-20T03:08:47.640769Z",
     "iopub.status.busy": "2024-02-20T03:08:47.640123Z",
     "iopub.status.idle": "2024-02-20T03:08:48.805609Z",
     "shell.execute_reply": "2024-02-20T03:08:48.804969Z"
    },
    "papermill": {
     "duration": 1.174565,
     "end_time": "2024-02-20T03:08:48.808750",
     "exception": false,
     "start_time": "2024-02-20T03:08:47.634185",
     "status": "completed"
    },
    "tags": []
   },
   "outputs": [],
   "source": [
    "if t_aln == 'sacc_on':\n",
    "    t0s = fix_df.iloc[fix1_sel][['Time', 'Duration']].values.sum(1)\n",
    "else:\n",
    "    t0s = fix_df.iloc[fix2_sel]['Time'].values\n",
    "\n",
    "resps = np.empty_like(sdf, shape=(fix2_sel.size, ts.size, n_neur))\n",
    "\n",
    "if t_win > 0:\n",
    "    t_win_ = np.array([0, t_win])\n",
    "    lat_groups = [(dt, df_['Index'].values) for dt, df_ in lat_df.groupby('Latency')]\n",
    "    for i, t in enumerate(t0s):\n",
    "        for dt, usel in lat_groups:\n",
    "            s = slice(*np.round(t+dt+t_win_).astype(int))\n",
    "            resps[i,0,usel] = sdf[s,usel].mean(0)\n",
    "else:\n",
    "    for i, t in enumerate(t0s):\n",
    "        ts_ = np.round(t+ts).astype(int)\n",
    "        resps[i] = sdf[ts_,:]\n",
    "\n",
    "del sdf"
   ]
  },
  {
   "cell_type": "code",
   "execution_count": 19,
   "id": "df1971a8",
   "metadata": {
    "execution": {
     "iopub.execute_input": "2024-02-20T03:08:48.830443Z",
     "iopub.status.busy": "2024-02-20T03:08:48.829846Z",
     "iopub.status.idle": "2024-02-20T03:08:48.846516Z",
     "shell.execute_reply": "2024-02-20T03:08:48.845365Z"
    },
    "papermill": {
     "duration": 0.034933,
     "end_time": "2024-02-20T03:08:48.848605",
     "exception": false,
     "start_time": "2024-02-20T03:08:48.813672",
     "status": "completed"
    },
    "tags": []
   },
   "outputs": [
    {
     "data": {
      "text/plain": [
       "((5979, 1, 106), dtype('float32'))"
      ]
     },
     "execution_count": 19,
     "metadata": {},
     "output_type": "execute_result"
    }
   ],
   "source": [
    "Y = standardize(resps)\n",
    "Y.shape, Y.dtype"
   ]
  },
  {
   "cell_type": "code",
   "execution_count": 20,
   "id": "122be58e",
   "metadata": {
    "execution": {
     "iopub.execute_input": "2024-02-20T03:08:48.868347Z",
     "iopub.status.busy": "2024-02-20T03:08:48.867858Z",
     "iopub.status.idle": "2024-02-20T03:08:48.878875Z",
     "shell.execute_reply": "2024-02-20T03:08:48.877538Z"
    },
    "papermill": {
     "duration": 0.022482,
     "end_time": "2024-02-20T03:08:48.880765",
     "exception": false,
     "start_time": "2024-02-20T03:08:48.858283",
     "status": "completed"
    },
    "tags": []
   },
   "outputs": [],
   "source": [
    "save_results(analysis_name+'/unit_names', unit_names.astype(bytes))\n",
    "save_results(analysis_name+'/mean_responses', resps.mean(0), attrs=dict(\n",
    "    dims=np.array(['time', 'unit'], dtype=bytes),\n",
    "    n_fix=resps.shape[0]))"
   ]
  },
  {
   "cell_type": "markdown",
   "id": "25c65b35",
   "metadata": {
    "papermill": {
     "duration": 0.007129,
     "end_time": "2024-02-20T03:08:48.895114",
     "exception": false,
     "start_time": "2024-02-20T03:08:48.887985",
     "status": "completed"
    },
    "tags": []
   },
   "source": [
    "# Define splits (group k-fold)"
   ]
  },
  {
   "cell_type": "code",
   "execution_count": 21,
   "id": "ee416679",
   "metadata": {
    "execution": {
     "iopub.execute_input": "2024-02-20T03:08:48.907317Z",
     "iopub.status.busy": "2024-02-20T03:08:48.906664Z",
     "iopub.status.idle": "2024-02-20T03:08:48.930155Z",
     "shell.execute_reply": "2024-02-20T03:08:48.929353Z"
    },
    "papermill": {
     "duration": 0.031294,
     "end_time": "2024-02-20T03:08:48.931564",
     "exception": false,
     "start_time": "2024-02-20T03:08:48.900270",
     "status": "completed"
    },
    "tags": []
   },
   "outputs": [
    {
     "name": "stdout",
     "output_type": "stream",
     "text": [
      "For group k-fold, loading catalog of similar images\n",
      "accounting for 0 pairs of similar images\n",
      "num training and testing points per split:\n",
      "split 0\t\ttrain:  4783 test: 1196\n",
      "split 1\t\ttrain:  4783 test: 1196\n",
      "split 2\t\ttrain:  4783 test: 1196\n",
      "split 3\t\ttrain:  4783 test: 1196\n",
      "split 4\t\ttrain:  4784 test: 1195\n"
     ]
    }
   ],
   "source": [
    "imfns = fix_df.iloc[fix2_sel]['Image filename']\n",
    "\n",
    "splits, train_mask = cv_split_by_image(\n",
    "    imfns, n_splits,\n",
    "    group_kfold=group_kfold, random_seed=random_seed)"
   ]
  },
  {
   "cell_type": "code",
   "execution_count": 22,
   "id": "14d73f52",
   "metadata": {
    "execution": {
     "iopub.execute_input": "2024-02-20T03:08:48.947429Z",
     "iopub.status.busy": "2024-02-20T03:08:48.947043Z",
     "iopub.status.idle": "2024-02-20T03:08:48.967933Z",
     "shell.execute_reply": "2024-02-20T03:08:48.967097Z"
    },
    "papermill": {
     "duration": 0.030956,
     "end_time": "2024-02-20T03:08:48.970019",
     "exception": false,
     "start_time": "2024-02-20T03:08:48.939063",
     "status": "completed"
    },
    "tags": []
   },
   "outputs": [],
   "source": [
    "save_results(analysis_name+'/fix_is_train', train_mask, attrs=dict(\n",
    "    dims=np.array(['split', 'fixation'], dtype=np.bytes_),\n",
    "    random_seed=random_seed,\n",
    "    group_kfold=group_kfold))"
   ]
  },
  {
   "cell_type": "markdown",
   "id": "8657b31f",
   "metadata": {
    "papermill": {
     "duration": 0.009381,
     "end_time": "2024-02-20T03:08:48.990950",
     "exception": false,
     "start_time": "2024-02-20T03:08:48.981569",
     "status": "completed"
    },
    "tags": []
   },
   "source": [
    "# Load pre-computed model reprs"
   ]
  },
  {
   "cell_type": "code",
   "execution_count": 23,
   "id": "7c57078c",
   "metadata": {
    "execution": {
     "iopub.execute_input": "2024-02-20T03:08:49.004990Z",
     "iopub.status.busy": "2024-02-20T03:08:49.004579Z",
     "iopub.status.idle": "2024-02-20T03:09:38.099257Z",
     "shell.execute_reply": "2024-02-20T03:09:38.097874Z"
    },
    "papermill": {
     "duration": 49.103504,
     "end_time": "2024-02-20T03:09:38.101343",
     "exception": false,
     "start_time": "2024-02-20T03:08:48.997839",
     "status": "completed"
    },
    "tags": []
   },
   "outputs": [
    {
     "name": "stdout",
     "output_type": "stream",
     "text": [
      "Features shape: (3072,)\n",
      "Patch-grid features shape: (793, 35, 35, 3072)\n"
     ]
    }
   ],
   "source": [
    "with h5.File(feats_path, 'r') as f:\n",
    "    patch_locs_x = f['config/patch_grid/x_locs'][()]\n",
    "    patch_locs_y = f['config/patch_grid/y_locs'][()]\n",
    "    patch_step = float(f['config/patch_grid/step'][()])\n",
    "\n",
    "    bg_feats = f['feats/bg'][()]\n",
    "\n",
    "    all_md5s = f['md5'][()].astype(str)\n",
    "    all_md5s = pd.Series(index=all_md5s, data=np.arange(len(all_md5s)), name='Index in file')\n",
    "    idc = all_md5s.loc[md5_catalog['MD5'].values]\n",
    "    md5_catalog['Index'] = np.arange(len(md5_catalog))\n",
    "\n",
    "    patch_grid_feats = np.empty(shape=(idc.size,patch_locs_x.size,patch_locs_y.size)+bg_feats.shape, dtype=bg_feats.dtype)\n",
    "    for ii, i in enumerate(idc.values):\n",
    "        patch_grid_feats[ii] = f['feats/patch_grid'][i]  # shape (n_patches_x, n_patches_y,) + feats_shape\n",
    "\n",
    "    copy_group(f, 'config', analysis_name+'/config/feats')\n",
    "\n",
    "feats_shape = bg_feats.shape\n",
    "print('Features shape:', feats_shape)\n",
    "print('Patch-grid features shape:', patch_grid_feats.shape)\n",
    "\n",
    "iims = np.array([\n",
    "    md5_catalog.loc[(row['Image subdir'], row['Image filename']), 'Index']\n",
    "    for i, (_, row) in enumerate(fix_df.iloc[fix2_sel].iterrows())])\n",
    "patch_bins_x = np.concatenate([\n",
    "    patch_locs_x-patch_step/2, [patch_locs_x[-1]+patch_step/2]])\n",
    "patch_bins_y = np.concatenate([\n",
    "    patch_locs_y-patch_step/2, [patch_locs_y[-1]+patch_step/2]])"
   ]
  },
  {
   "cell_type": "code",
   "execution_count": 24,
   "id": "cae59f71",
   "metadata": {
    "execution": {
     "iopub.execute_input": "2024-02-20T03:09:38.123605Z",
     "iopub.status.busy": "2024-02-20T03:09:38.123238Z",
     "iopub.status.idle": "2024-02-20T03:09:38.127923Z",
     "shell.execute_reply": "2024-02-20T03:09:38.126798Z"
    },
    "papermill": {
     "duration": 0.021963,
     "end_time": "2024-02-20T03:09:38.129942",
     "exception": false,
     "start_time": "2024-02-20T03:09:38.107979",
     "status": "completed"
    },
    "tags": []
   },
   "outputs": [],
   "source": [
    "def recon_stim(*args, **kwargs):\n",
    "    return get_patches_from_grid(\n",
    "        *args, patch_bins_x=patch_bins_x, patch_bins_y=patch_bins_y, **kwargs)"
   ]
  },
  {
   "cell_type": "markdown",
   "id": "7da25204",
   "metadata": {
    "papermill": {
     "duration": 0.006648,
     "end_time": "2024-02-20T03:09:38.144715",
     "exception": false,
     "start_time": "2024-02-20T03:09:38.138067",
     "status": "completed"
    },
    "tags": []
   },
   "source": [
    "# Main"
   ]
  },
  {
   "cell_type": "code",
   "execution_count": 25,
   "id": "e2a2ed47",
   "metadata": {
    "execution": {
     "iopub.execute_input": "2024-02-20T03:09:38.156663Z",
     "iopub.status.busy": "2024-02-20T03:09:38.156316Z",
     "iopub.status.idle": "2024-02-20T03:09:38.160626Z",
     "shell.execute_reply": "2024-02-20T03:09:38.160096Z"
    },
    "papermill": {
     "duration": 0.013032,
     "end_time": "2024-02-20T03:09:38.163513",
     "exception": false,
     "start_time": "2024-02-20T03:09:38.150481",
     "status": "completed"
    },
    "tags": []
   },
   "outputs": [],
   "source": [
    "n_win = len(ts)\n",
    "n_split = n_splits\n",
    "n_loc = len(rf_locs)\n",
    "n_unit = len(unit_names)\n",
    "\n",
    "cv_corrs = np.full((n_cond, n_win, n_loc, n_loc, n_unit), np.nan, dtype=np.float32)\n",
    "cv_r2s = np.full_like(cv_corrs, np.nan)\n",
    "cv_corrs_per_split = np.full((n_cond, n_win, n_split, n_loc, n_loc, n_unit), np.nan, dtype=np.float32)\n",
    "cv_r2s_per_split = np.full_like(cv_corrs_per_split, np.nan)"
   ]
  },
  {
   "cell_type": "code",
   "execution_count": 26,
   "id": "e106919f",
   "metadata": {
    "execution": {
     "iopub.execute_input": "2024-02-20T03:09:38.188481Z",
     "iopub.status.busy": "2024-02-20T03:09:38.187854Z",
     "iopub.status.idle": "2024-02-20T03:20:03.426792Z",
     "shell.execute_reply": "2024-02-20T03:20:03.426246Z"
    },
    "papermill": {
     "duration": 625.254059,
     "end_time": "2024-02-20T03:20:03.431444",
     "exception": false,
     "start_time": "2024-02-20T03:09:38.177385",
     "status": "completed"
    },
    "tags": []
   },
   "outputs": [    {
     "name": "stderr",
     "output_type": "stream",
     "text": [
      "\r",
      "100%|█████████████████████████████████████████| 225/225 [10:25<00:00,  2.78s/it]"
     ]
    },
    {
     "name": "stderr",
     "output_type": "stream",
     "text": [
      "\n"
     ]
    }
   ],
   "source": [
    "for (ic, xy_degs), (iy, dy), (ix, dx) in tqdm(\n",
    "        itertools.product(enumerate(xy_degs_conds), enumerate(rf_locs), enumerate(rf_locs)),\n",
    "        total=n_cond*n_loc**2):\n",
    "\n",
    "    X = standardize(recon_stim(iims, xy_degs+[dx,dy], patch_grid_feats, bg_feats))\n",
    "\n",
    "    corr, r2, corr_pers, r2_pers = cv_ridge_predict_eval(X, Y, splits, ridge_alpha)\n",
    "\n",
    "    cv_corrs[ic,:,iy,ix,:] = corr\n",
    "    cv_r2s[ic,:,iy,ix,:] = r2\n",
    "    cv_corrs_per_split[ic,:,:,iy,ix,:] = corr_pers\n",
    "    cv_r2s_per_split[ic,:,:,iy,ix,:] = r2_pers"
   ]
  },
  {
   "cell_type": "code",
   "execution_count": 27,
   "id": "0f3b331d",
   "metadata": {
    "execution": {
     "iopub.execute_input": "2024-02-20T03:20:03.474531Z",
     "iopub.status.busy": "2024-02-20T03:20:03.473902Z",
     "iopub.status.idle": "2024-02-20T03:20:04.562119Z",
     "shell.execute_reply": "2024-02-20T03:20:04.561536Z"
    },
    "papermill": {
     "duration": 1.107991,
     "end_time": "2024-02-20T03:20:04.565587",
     "exception": false,
     "start_time": "2024-02-20T03:20:03.457596",
     "status": "completed"
    },
    "tags": []
   },
   "outputs": [],
   "source": [
    "dims = np.array(('ref_frame', 'time', 'split', 'rf_y', 'rf_x', 'unit'))\n",
    "coords = dict((\n",
    "    ('ref_frame', ref_frames),\n",
    "    ('time', ts),\n",
    "    ('rf_y', rf_locs),\n",
    "    ('rf_x', rf_locs),\n",
    "    ('unit', unit_names)))\n",
    "attrs = dict(\n",
    "    ifix_sel=ifix_sel,\n",
    "    n_fix=fix2_sel.size,\n",
    "    group_kfold=int(group_kfold),\n",
    "    feat_shape=feats_shape,\n",
    "    ridge_alpha=ridge_alpha,\n",
    "    t_aln=t_aln)\n",
    "\n",
    "q = lambda x: quantize(x, 3)\n",
    "data_vars = {\n",
    "    'corr': (dims[[0,1,3,4,5]], q(cv_corrs)),\n",
    "    'r2': (dims[[0,1,3,4,5]], q(cv_r2s)),\n",
    "    'corr_per_split': (dims, q(cv_corrs_per_split)),\n",
    "    'r2_per_split': (dims, q(cv_r2s_per_split))}\n",
    "dataset = xr.Dataset(data_vars, coords=coords, attrs=attrs)\n",
    "\n",
    "compr = dict(zlib=True, complevel=9)\n",
    "encoding = {\n",
    "    k: dict(chunksizes=v.shape, **compr)\n",
    "    for k, v in dataset.data_vars.items()}\n",
    "dataset.to_netcdf(\n",
    "    output_path, group=analysis_name+'/data',\n",
    "    mode='a', engine='h5netcdf', encoding=encoding)"
   ]
  },
  {
   "cell_type": "markdown",
   "id": "cbee7679",
   "metadata": {
    "papermill": {
     "duration": 0.014754,
     "end_time": "2024-02-20T03:20:04.608818",
     "exception": false,
     "start_time": "2024-02-20T03:20:04.594064",
     "status": "completed"
    },
    "tags": []
   },
   "source": [
    "# Wrap up"
   ]
  },
  {
   "cell_type": "code",
   "execution_count": 28,
   "id": "3bc5dbb0",
   "metadata": {
    "execution": {
     "iopub.execute_input": "2024-02-20T03:20:04.632282Z",
     "iopub.status.busy": "2024-02-20T03:20:04.631883Z",
     "iopub.status.idle": "2024-02-20T03:20:04.637780Z",
     "shell.execute_reply": "2024-02-20T03:20:04.636847Z"
    },
    "papermill": {
     "duration": 0.019172,
     "end_time": "2024-02-20T03:20:04.639154",
     "exception": false,
     "start_time": "2024-02-20T03:20:04.619982",
     "status": "completed"
    },
    "tags": []
   },
   "outputs": [],
   "source": [
    "save_results(f'progress_report/{analysis_name}/all_done', True)"
   ]
  },
  {
   "cell_type": "code",
   "execution_count": 29,
   "id": "368b2e28",
   "metadata": {
    "execution": {
     "iopub.execute_input": "2024-02-20T03:20:04.679292Z",
     "iopub.status.busy": "2024-02-20T03:20:04.678766Z",
     "iopub.status.idle": "2024-02-20T03:20:04.720923Z",
     "shell.execute_reply": "2024-02-20T03:20:04.719604Z"
    },
    "papermill": {
     "duration": 0.059795,
     "end_time": "2024-02-20T03:20:04.723448",
     "exception": false,
     "start_time": "2024-02-20T03:20:04.663653",
     "status": "completed"
    },
    "tags": []
   },
   "outputs": [
    {
     "name": "stdout",
     "output_type": "stream",
     "text": [
      "Last updated: 2024-02-19T22:20:04.687319-05:00\n",
      "\n",
      "Python implementation: CPython\n",
      "Python version       : 3.10.12\n",
      "IPython version      : 8.12.0\n",
      "\n",
      "Compiler    : GCC 11.4.0\n",
      "OS          : Linux\n",
      "Release     : 5.15.0-92-generic\n",
      "Machine     : x86_64\n",
      "Processor   : x86_64\n",
      "CPU cores   : 20\n",
      "Architecture: 64bit\n",
      "\n",
      "Python implementation: CPython\n",
      "Python version       : 3.10.12\n",
      "IPython version      : 8.12.0\n",
      "\n",
      "Compiler    : GCC 11.4.0\n",
      "OS          : Linux\n",
      "Release     : 5.15.0-92-generic\n",
      "Machine     : x86_64\n",
      "Processor   : x86_64\n",
      "CPU cores   : 20\n",
      "Architecture: 64bit\n",
      "\n",
      "Git hash: b0bb10f45dee065cc3af96fe224326b883d27431\n",
      "\n",
      "Git repo: https://github.com/willwx/free_viewing_staging.git\n",
      "\n",
      "Git branch: master\n",
      "\n",
      "sys   : 3.10.12 (main, Nov 20 2023, 15:14:05) [GCC 11.4.0]\n",
      "xarray: 2023.4.2\n",
      "pandas: 2.0.1\n",
      "numpy : 1.24.3\n",
      "h5py  : 3.8.0\n",
      "\n"
     ]
    }
   ],
   "source": [
    "%load_ext watermark\n",
    "%watermark\n",
    "%watermark -vm --iversions -rbg"
   ]
  },
  {
   "cell_type": "markdown",
   "id": "329bd25d",
   "metadata": {
    "papermill": {
     "duration": 0.012866,
     "end_time": "2024-02-20T03:20:04.762743",
     "exception": false,
     "start_time": "2024-02-20T03:20:04.749877",
     "status": "completed"
    },
    "tags": []
   },
   "source": [
    "# Basic visualization of results"
   ]
  },
  {
   "cell_type": "code",
   "execution_count": 30,
   "id": "896916a3",
   "metadata": {
    "execution": {
     "iopub.execute_input": "2024-02-20T03:20:04.788466Z",
     "iopub.status.busy": "2024-02-20T03:20:04.787807Z",
     "iopub.status.idle": "2024-02-20T03:20:05.130048Z",
     "shell.execute_reply": "2024-02-20T03:20:05.129442Z"
    },
    "papermill": {
     "duration": 0.358734,
     "end_time": "2024-02-20T03:20:05.133209",
     "exception": false,
     "start_time": "2024-02-20T03:20:04.774475",
     "status": "completed"
    },
    "tags": []
   },
   "outputs": [],
   "source": [
    "import matplotlib.pyplot as plt\n",
    "import seaborn as sns"
   ]
  },
  {
   "cell_type": "code",
   "execution_count": 31,
   "id": "69fa8628",
   "metadata": {
    "execution": {
     "iopub.execute_input": "2024-02-20T03:20:05.176168Z",
     "iopub.status.busy": "2024-02-20T03:20:05.175092Z",
     "iopub.status.idle": "2024-02-20T03:20:07.502245Z",
     "shell.execute_reply": "2024-02-20T03:20:07.501573Z"
    },
    "papermill": {
     "duration": 2.344991,
     "end_time": "2024-02-20T03:20:07.503818",
     "exception": false,
     "start_time": "2024-02-20T03:20:05.158827",
     "status": "completed"
    },
    "tags": []
   },
   "outputs": [
    {
     "data": {
      "image/png": "[encoded data removed]",
      "text/plain": [
       "<Figure size 640x480 with 1 Axes>"
      ]
     },
     "metadata": {},
     "output_type": "display_data"
    }
   ],
   "source": [
    "df = {'Condition': [], 'X': [], 'Y': []}\n",
    "for i, xys in enumerate(xy_degs_conds):\n",
    "    if select_saccades:\n",
    "        cond = ('Fixation 1', 'Fixation 2', 'Equidistant control', 'Midpoint control')[i]\n",
    "    else:\n",
    "        cond = 'Default'\n",
    "    df['Condition'].append(np.full(len(xys), cond))\n",
    "    df['X'].append(xys[:,0])\n",
    "    df['Y'].append(xys[:,1])\n",
    "for k in df.keys():\n",
    "    df[k] = np.concatenate(df[k])\n",
    "df = pd.DataFrame(df)\n",
    "ax = sns.kdeplot(data=df, x='X', y='Y', hue='Condition', levels=3)\n",
    "ax.set_title('Distribution of selected fixations')\n",
    "ax.set_xlabel('X, dva')\n",
    "ax.set_ylabel('Y, dva')\n",
    "ax.set_aspect('equal')"
   ]
  },
  {
   "cell_type": "code",
   "execution_count": 32,
   "id": "f34e843c",
   "metadata": {
    "execution": {
     "iopub.execute_input": "2024-02-20T03:20:07.545689Z",
     "iopub.status.busy": "2024-02-20T03:20:07.545448Z",
     "iopub.status.idle": "2024-02-20T03:20:07.549964Z",
     "shell.execute_reply": "2024-02-20T03:20:07.549401Z"
    },
    "papermill": {
     "duration": 0.02718,
     "end_time": "2024-02-20T03:20:07.551107",
     "exception": false,
     "start_time": "2024-02-20T03:20:07.523927",
     "status": "completed"
    },
    "tags": []
   },
   "outputs": [],
   "source": [
    "if select_saccades:\n",
    "    sacc_vecs = (\n",
    "        fix_df.iloc[fix2_sel][['Relative X', 'Relative Y']].values\n",
    "        - fix_df.iloc[fix1_sel][['Relative X', 'Relative Y']].values)\n",
    "    plt.hist2d(x=sacc_vecs[:,0], y=sacc_vecs[:,1], cmap='gist_gray_r')\n",
    "    plt.xlabel('X, dva')\n",
    "    plt.ylabel('Y, dva')\n",
    "    plt.title('Distribution of selected saccade vectors')\n",
    "    plt.gca().set_aspect('equal')"
   ]
  },
  {
   "cell_type": "code",
   "execution_count": 33,
   "id": "d877e352",
   "metadata": {
    "execution": {
     "iopub.execute_input": "2024-02-20T03:20:07.577997Z",
     "iopub.status.busy": "2024-02-20T03:20:07.577417Z",
     "iopub.status.idle": "2024-02-20T03:20:07.716671Z",
     "shell.execute_reply": "2024-02-20T03:20:07.715996Z"
    },
    "papermill": {
     "duration": 0.156079,
     "end_time": "2024-02-20T03:20:07.719550",
     "exception": false,
     "start_time": "2024-02-20T03:20:07.563471",
     "status": "completed"
    },
    "tags": []
   },
   "outputs": [
    {
     "data": {
      "image/png": "[encoded data removed]",
      "text/plain": [
       "<Figure size 640x480 with 1 Axes>"
      ]
     },
     "metadata": {},
     "output_type": "display_data"
    }
   ],
   "source": [
    "plt.plot(ts, resps.mean((0,2)), '.-')\n",
    "plt.xlabel(f'Time aligned to {t_aln}, ms')\n",
    "plt.ylabel('Grand mean FR, spks/s');"
   ]
  },
  {
   "cell_type": "code",
   "execution_count": 34,
   "id": "1b55d8b2",
   "metadata": {
    "execution": {
     "iopub.execute_input": "2024-02-20T03:20:07.763452Z",
     "iopub.status.busy": "2024-02-20T03:20:07.762893Z",
     "iopub.status.idle": "2024-02-20T03:20:08.089970Z",
     "shell.execute_reply": "2024-02-20T03:20:08.088709Z"
    },
    "papermill": {
     "duration": 0.345611,
     "end_time": "2024-02-20T03:20:08.092976",
     "exception": false,
     "start_time": "2024-02-20T03:20:07.747365",
     "status": "completed"
    },
    "tags": []
   },
   "outputs": [
    {
     "data": {
      "image/png": "[encoded data removed]",
      "text/plain": [
       "<Figure size 640x480 with 2 Axes>"
      ]
     },
     "metadata": {},
     "output_type": "display_data"
    }
   ],
   "source": [
    "vr = abs(np.nanpercentile(np.nanmean(cv_corrs,-1), 99.5))\n",
    "\n",
    "i = np.argmin(np.abs(ts - 200))\n",
    "map_ = np.ma.masked_invalid(cv_corrs[0,i,:,:,:]).mean(-1).filled(np.nan)\n",
    "cm = plt.imshow(map_, cmap='RdGy', origin='lower', extent=rf_extent, vmin=-vr, vmax=vr)\n",
    "cb = plt.colorbar(cm)\n",
    "cb.ax.set_ylabel('Model fit, Pearson\\'s r')\n",
    "plt.xlabel('X, dva')\n",
    "plt.ylabel('Y, dva')\n",
    "if select_saccades:\n",
    "    plt.title(f'Fix 1-aligned model performance, {ts[i]} ms')\n",
    "else:\n",
    "    plt.title(f'Fixation-aligned model performance, {ts[i]} ms')"
   ]
  },
  {
   "cell_type": "code",
   "execution_count": 35,
   "id": "46045aeb",
   "metadata": {
    "execution": {
     "iopub.execute_input": "2024-02-20T03:20:08.133882Z",
     "iopub.status.busy": "2024-02-20T03:20:08.133556Z",
     "iopub.status.idle": "2024-02-20T03:20:08.140181Z",
     "shell.execute_reply": "2024-02-20T03:20:08.138803Z"
    },
    "papermill": {
     "duration": 0.023695,
     "end_time": "2024-02-20T03:20:08.141983",
     "exception": false,
     "start_time": "2024-02-20T03:20:08.118288",
     "status": "completed"
    },
    "tags": []
   },
   "outputs": [],
   "source": [
    "if select_saccades:\n",
    "    i = np.argmin(np.abs(ts - 200))\n",
    "    map_ = np.ma.masked_invalid(cv_corrs[1,i,:,:,:]).mean(-1).filled(np.nan)\n",
    "    cm = plt.imshow(map_, cmap='RdGy', origin='lower', extent=rf_extent, vmin=-vr, vmax=vr)\n",
    "    cb = plt.colorbar(cm)\n",
    "    cb.ax.set_ylabel('Model fit, Pearson\\'s r')\n",
    "    plt.xlabel('X, dva')\n",
    "    plt.ylabel('Y, dva')\n",
    "    plt.title(f'Fix 2-aligned model performance, {ts[i]} ms');"
   ]
  },
  {
   "cell_type": "code",
   "execution_count": 36,
   "id": "0746a1a1",
   "metadata": {
    "execution": {
     "iopub.execute_input": "2024-02-20T03:20:08.171822Z",
     "iopub.status.busy": "2024-02-20T03:20:08.171176Z",
     "iopub.status.idle": "2024-02-20T03:20:08.178591Z",
     "shell.execute_reply": "2024-02-20T03:20:08.177224Z"
    },
    "papermill": {
     "duration": 0.023872,
     "end_time": "2024-02-20T03:20:08.180360",
     "exception": false,
     "start_time": "2024-02-20T03:20:08.156488",
     "status": "completed"
    },
    "tags": []
   },
   "outputs": [],
   "source": [
    "if select_saccades:\n",
    "    i = np.argmin(np.abs(ts))\n",
    "    map_ = np.ma.masked_invalid(cv_corrs[1,i,:,:,:]).mean(-1).filled(np.nan)\n",
    "    cm = plt.imshow(map_, cmap='RdGy', origin='lower', extent=rf_extent, vmin=-vr, vmax=vr)\n",
    "    cb = plt.colorbar(cm)\n",
    "    cb.ax.set_ylabel('Model fit, Pearson\\'s r')\n",
    "    plt.xlabel('X, dva')\n",
    "    plt.ylabel('Y, dva')\n",
    "    plt.title(f'Fix 2-aligned model performance, {ts[i]} ms');"
   ]
  },
  {
   "cell_type": "code",
   "execution_count": 37,
   "id": "e83e2cde",
   "metadata": {
    "execution": {
     "iopub.execute_input": "2024-02-20T03:20:08.241440Z",
     "iopub.status.busy": "2024-02-20T03:20:08.240829Z",
     "iopub.status.idle": "2024-02-20T03:20:08.308483Z",
     "shell.execute_reply": "2024-02-20T03:20:08.307632Z"
    },
    "papermill": {
     "duration": 0.115795,
     "end_time": "2024-02-20T03:20:08.309833",
     "exception": false,
     "start_time": "2024-02-20T03:20:08.194038",
     "status": "completed"
    },
    "tags": []
   },
   "outputs": [
    {
     "data": {
      "image/png": "[encoded data removed]",
      "text/plain": [
       "<Figure size 300x300 with 1 Axes>"
      ]
     },
     "metadata": {},
     "output_type": "display_data"
    }
   ],
   "source": [
    "h = 3 * cv_corrs.shape[0]\n",
    "w = min(h / cv_corrs.shape[0] * cv_corrs.shape[1], 20)\n",
    "h = min(h, w / cv_corrs.shape[1] * cv_corrs.shape[0])\n",
    "plt.figure(figsize=(w,h))\n",
    "a = np.ma.masked_invalid(cv_corrs).mean(-1)\n",
    "a = a.filled(np.nan)\n",
    "a = a[:,:,::-1,:]  # flip y such that the first rows now correspond to larger y\n",
    "a = np.hstack(np.hstack(a))\n",
    "plt.imshow(a, cmap='RdGy', vmin=-vr, vmax=vr);\n",
    "ax = plt.gca()\n",
    "ax.set_xticks([])\n",
    "ax.set_yticks([])\n",
    "[v.set_visible(False) for v in ax.spines.values()]\n",
    "plt.xlabel('Response window')\n",
    "plt.ylabel('Reference frame')\n",
    "plt.title('Mean 3D map per condition');"
   ]
  }
 ],
 "metadata": {
  "kernelspec": {
   "display_name": "Python 3 (ipykernel)",
   "language": "python",
   "name": "python3"
  },
  "language_info": {
   "codemirror_mode": {
    "name": "ipython",
    "version": 3
   },
   "file_extension": ".py",
   "mimetype": "text/x-python",
   "name": "python",
   "nbconvert_exporter": "python",
   "pygments_lexer": "ipython3",
   "version": "3.10.12"
  },
  "papermill": {
   "default_parameters": {},
   "duration": 690.913803,
   "end_time": "2024-02-20T03:20:08.845818",
   "environment_variables": {},
   "exception": null,
   "input_path": "script_6a_model_perf_map.ipynb",
   "output_path": "../test_results/hier_group/maps_fix_hg/log_6a_model_perf_map-Pa210201.ipynb",
   "parameters": {
    "ifix_sel": 2,
    "latency_path": "../db/per_hier_unit_latency-fix_on.csv.gz",
    "output_dir": "../test_results/hier_group/maps_fix_hg",
    "sdf_suffix": "-mwa_1-hg",
    "select_saccades": false,
    "sess_name": "Pa210201",
    "t_aln": "fix_on",
    "t_win": 200
   },
   "start_time": "2024-02-20T03:08:37.932015",
   "version": "2.5.0"
  }
 },
 "nbformat": 4,
 "nbformat_minor": 5
}