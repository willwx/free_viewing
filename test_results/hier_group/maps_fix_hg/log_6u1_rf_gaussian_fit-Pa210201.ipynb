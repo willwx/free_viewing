{
 "cells": [
  {
   "cell_type": "code",
   "execution_count": 1,
   "id": "f4865065-50f4-475c-9f0c-40e66ba68ef3",
   "metadata": {
    "execution": {
     "iopub.execute_input": "2024-02-20T03:32:42.813355Z",
     "iopub.status.busy": "2024-02-20T03:32:42.812754Z",
     "iopub.status.idle": "2024-02-20T03:32:43.321845Z",
     "shell.execute_reply": "2024-02-20T03:32:43.321135Z"
    },
    "papermill": {
     "duration": 0.525107,
     "end_time": "2024-02-20T03:32:43.325153",
     "exception": false,
     "start_time": "2024-02-20T03:32:42.800046",
     "status": "completed"
    },
    "tags": []
   },
   "outputs": [],
   "source": [
    "import sys\n",
    "from pathlib import Path\n",
    "\n",
    "import h5py as h5\n",
    "import numpy as np\n",
    "import scipy.optimize\n",
    "import xarray as xr\n",
    "from tqdm import tqdm\n",
    "\n",
    "sys.path.append('../lib')\n",
    "from local_paths import analysis_dir\n",
    "from storage import get_storage_functions"
   ]
  },
  {
   "cell_type": "markdown",
   "id": "751b3ebb-e020-4455-b7af-0af85eb67e2d",
   "metadata": {
    "papermill": {
     "duration": 0.014239,
     "end_time": "2024-02-20T03:32:43.349621",
     "exception": false,
     "start_time": "2024-02-20T03:32:43.335382",
     "status": "completed"
    },
    "tags": []
   },
   "source": [
    "# Set parameters"
   ]
  },
  {
   "cell_type": "code",
   "execution_count": 2,
   "id": "c53ace00-254a-4d61-a24e-28d075a707c6",
   "metadata": {
    "execution": {
     "iopub.execute_input": "2024-02-20T03:32:43.365654Z",
     "iopub.status.busy": "2024-02-20T03:32:43.364400Z",
     "iopub.status.idle": "2024-02-20T03:32:43.372846Z",
     "shell.execute_reply": "2024-02-20T03:32:43.371722Z"
    },
    "papermill": {
     "duration": 0.018956,
     "end_time": "2024-02-20T03:32:43.374526",
     "exception": false,
     "start_time": "2024-02-20T03:32:43.355570",
     "status": "completed"
    },
    "tags": [
     "parameters"
    ]
   },
   "outputs": [],
   "source": [
    "#============================================================================\n",
    "# session\n",
    "#============================================================================\n",
    "sess_name = 'sess_name'\n",
    "\n",
    "\n",
    "#============================================================================\n",
    "# input fields\n",
    "#============================================================================\n",
    "rfmap_analysis = 'feat_corr_map'  # 'model_perf_map' or 'feat_corr_map'\n",
    "rfmap_dset     = 'corr'\n",
    "\n",
    "\n",
    "#============================================================================\n",
    "# preprocessing\n",
    "#============================================================================\n",
    "z_thres          = 1     # if not None, clip all values below this z-score\n",
    "square_transform = True  # square map values (positive values) before fitting\n",
    "\n",
    "\n",
    "#============================================================================\n",
    "# paths\n",
    "#============================================================================\n",
    "rfmap_dir  = None  # defaults to analysis_dir + rfmap_analysis\n",
    "output_dir = None"
   ]
  },
  {
   "cell_type": "code",
   "execution_count": 3,
   "id": "c4a94230",
   "metadata": {
    "execution": {
     "iopub.execute_input": "2024-02-20T03:32:43.382526Z",
     "iopub.status.busy": "2024-02-20T03:32:43.381918Z",
     "iopub.status.idle": "2024-02-20T03:32:43.388129Z",
     "shell.execute_reply": "2024-02-20T03:32:43.386936Z"
    },
    "papermill": {
     "duration": 0.012049,
     "end_time": "2024-02-20T03:32:43.389717",
     "exception": false,
     "start_time": "2024-02-20T03:32:43.377668",
     "status": "completed"
    },
    "tags": [
     "injected-parameters"
    ]
   },
   "outputs": [],
   "source": [
    "# Parameters\n",
    "sess_name = \"Pa210201\"\n",
    "rf_map_analysis = \"feat_corr_map\"\n",
    "rfmap_dir = \"../test_results/hier_group/maps_fix_hg\"\n",
    "output_dir = \"../test_results/hier_group/maps_fix_hg\"\n"
   ]
  },
  {
   "cell_type": "markdown",
   "id": "541296a0-a224-4cd1-9b45-814c55936d44",
   "metadata": {
    "papermill": {
     "duration": 0.003155,
     "end_time": "2024-02-20T03:32:43.396029",
     "exception": false,
     "start_time": "2024-02-20T03:32:43.392874",
     "status": "completed"
    },
    "tags": []
   },
   "source": [
    "# Check prereqs and params"
   ]
  },
  {
   "cell_type": "code",
   "execution_count": 4,
   "id": "66ee851e-03ba-4b46-ae3e-d9c23cfd86d0",
   "metadata": {
    "execution": {
     "iopub.execute_input": "2024-02-20T03:32:43.404166Z",
     "iopub.status.busy": "2024-02-20T03:32:43.403223Z",
     "iopub.status.idle": "2024-02-20T03:32:43.409384Z",
     "shell.execute_reply": "2024-02-20T03:32:43.408801Z"
    },
    "papermill": {
     "duration": 0.013114,
     "end_time": "2024-02-20T03:32:43.412099",
     "exception": false,
     "start_time": "2024-02-20T03:32:43.398985",
     "status": "completed"
    },
    "tags": []
   },
   "outputs": [
    {
     "name": "stdout",
     "output_type": "stream",
     "text": [
      "Loading RF maps from ../test_results/hier_group/maps_fix_hg/Pa210201.h5\n",
      "Saving results to ../test_results/hier_group/maps_fix_hg/Pa210201.h5\n"
     ]
    }
   ],
   "source": [
    "if rfmap_dir is None:\n",
    "    rfmap_dir  = analysis_dir + rfmap_analysis\n",
    "if output_dir is None:\n",
    "    output_dir = rfmap_dir + '-rf_fit'\n",
    "\n",
    "rfmap_path = Path(rfmap_dir) / (sess_name + '.h5')\n",
    "print('Loading RF maps from', rfmap_path)\n",
    "rfmap_path = rfmap_path.expanduser()\n",
    "assert rfmap_path.is_file()\n",
    "\n",
    "output_dir = Path(output_dir)\n",
    "output_path = output_dir / (sess_name + '.h5')\n",
    "print('Saving results to', output_path)\n",
    "output_path = output_path.expanduser()\n",
    "assert output_path.parent.is_dir()"
   ]
  },
  {
   "cell_type": "code",
   "execution_count": 5,
   "id": "c52b629d-3f0d-4084-95ce-62d6c55c8139",
   "metadata": {
    "execution": {
     "iopub.execute_input": "2024-02-20T03:32:43.429044Z",
     "iopub.status.busy": "2024-02-20T03:32:43.428689Z",
     "iopub.status.idle": "2024-02-20T03:32:43.435066Z",
     "shell.execute_reply": "2024-02-20T03:32:43.434371Z"
    },
    "papermill": {
     "duration": 0.017122,
     "end_time": "2024-02-20T03:32:43.437815",
     "exception": false,
     "start_time": "2024-02-20T03:32:43.420693",
     "status": "completed"
    },
    "tags": []
   },
   "outputs": [],
   "source": [
    "with h5.File(rfmap_path, 'r') as f:\n",
    "    assert f[f'progress_report/{rfmap_analysis}/all_done'][()].item()"
   ]
  },
  {
   "cell_type": "code",
   "execution_count": 6,
   "id": "adcd1ac8-b19b-4401-a2ce-26c97213ff7c",
   "metadata": {
    "execution": {
     "iopub.execute_input": "2024-02-20T03:32:43.454660Z",
     "iopub.status.busy": "2024-02-20T03:32:43.454146Z",
     "iopub.status.idle": "2024-02-20T03:32:43.462965Z",
     "shell.execute_reply": "2024-02-20T03:32:43.461832Z"
    },
    "papermill": {
     "duration": 0.019256,
     "end_time": "2024-02-20T03:32:43.465964",
     "exception": false,
     "start_time": "2024-02-20T03:32:43.446708",
     "status": "completed"
    },
    "tags": []
   },
   "outputs": [],
   "source": [
    "analysis_name = 'rf_fit'\n",
    "\n",
    "if output_path.is_file():\n",
    "    with h5.File(output_path, 'r') as f:\n",
    "        try:\n",
    "            if f[f'progress_report/{analysis_name}/all_done'][()].item():\n",
    "                raise RuntimeError(f'{sess_name} has already been processed')\n",
    "        except KeyError:\n",
    "            pass"
   ]
  },
  {
   "cell_type": "code",
   "execution_count": 7,
   "id": "72161c58-8462-4617-8f0b-211de560620f",
   "metadata": {
    "execution": {
     "iopub.execute_input": "2024-02-20T03:32:43.482702Z",
     "iopub.status.busy": "2024-02-20T03:32:43.482071Z",
     "iopub.status.idle": "2024-02-20T03:32:43.487279Z",
     "shell.execute_reply": "2024-02-20T03:32:43.486441Z"
    },
    "papermill": {
     "duration": 0.015446,
     "end_time": "2024-02-20T03:32:43.489208",
     "exception": false,
     "start_time": "2024-02-20T03:32:43.473762",
     "status": "completed"
    },
    "tags": []
   },
   "outputs": [],
   "source": [
    "save_results, add_attr_to_dset, check_equals_saved, link_dsets, copy_group = \\\n",
    "    get_storage_functions(output_path)"
   ]
  },
  {
   "cell_type": "code",
   "execution_count": 8,
   "id": "9d08773a-9f2b-451f-ad83-080dcda8ef72",
   "metadata": {
    "execution": {
     "iopub.execute_input": "2024-02-20T03:32:43.501684Z",
     "iopub.status.busy": "2024-02-20T03:32:43.501314Z",
     "iopub.status.idle": "2024-02-20T03:32:43.521413Z",
     "shell.execute_reply": "2024-02-20T03:32:43.520449Z"
    },
    "papermill": {
     "duration": 0.029275,
     "end_time": "2024-02-20T03:32:43.524502",
     "exception": false,
     "start_time": "2024-02-20T03:32:43.495227",
     "status": "completed"
    },
    "tags": []
   },
   "outputs": [],
   "source": [
    "group = analysis_name + '/config/'\n",
    "\n",
    "save_results(group+'rfmap_analysis', rfmap_analysis)\n",
    "save_results(group+'rfmap_dset', rfmap_dset)\n",
    "save_results(group+'z_thres', np.nan if z_thres is None else z_thres)\n",
    "save_results(group+'square_transform', square_transform)\n",
    "with h5.File(rfmap_path, 'r') as f:\n",
    "    loc = rfmap_analysis + '/unit_names'\n",
    "    unit_names = f[loc][()].astype(str)\n",
    "    if rfmap_path != output_path:  # else is using same file for I/O\n",
    "        copy_group(f, loc, analysis_name+'/unit_names')"
   ]
  },
  {
   "cell_type": "markdown",
   "id": "796cf03b-1e3b-4ac0-b602-2800a2d475f8",
   "metadata": {
    "papermill": {
     "duration": 0.007727,
     "end_time": "2024-02-20T03:32:43.542470",
     "exception": false,
     "start_time": "2024-02-20T03:32:43.534743",
     "status": "completed"
    },
    "tags": []
   },
   "source": [
    "# Load and preprocess RF maps"
   ]
  },
  {
   "cell_type": "code",
   "execution_count": 9,
   "id": "574733ab-0393-4580-b98d-92427a81df1d",
   "metadata": {
    "execution": {
     "iopub.execute_input": "2024-02-20T03:32:43.555236Z",
     "iopub.status.busy": "2024-02-20T03:32:43.554636Z",
     "iopub.status.idle": "2024-02-20T03:32:43.617288Z",
     "shell.execute_reply": "2024-02-20T03:32:43.616654Z"
    },
    "papermill": {
     "duration": 0.069855,
     "end_time": "2024-02-20T03:32:43.618567",
     "exception": false,
     "start_time": "2024-02-20T03:32:43.548712",
     "status": "completed"
    },
    "tags": []
   },
   "outputs": [
    {
     "name": "stdout",
     "output_type": "stream",
     "text": [
      "('ref_frame', 'time', 'split', 'unit', 'rf_x', 'rf_y')\n"
     ]
    }
   ],
   "source": [
    "rf_ds = xr.load_dataset(rfmap_path, group=rfmap_analysis+'/data', engine='h5netcdf')\n",
    "rf_xlocs = rf_ds['rf_x'].values\n",
    "rf_ylocs = rf_ds['rf_y'].values\n",
    "\n",
    "rfs_xs = rf_ds[rfmap_dset]\n",
    "rfs_pers = rf_ds[rfmap_dset+'_per_split']\n",
    "\n",
    "# join per-split and across-split RFs along split dimension\n",
    "assert 'split' in rfs_pers.coords\n",
    "splits = rfs_pers.coords['split']  # for later indexting to recon per-split data\n",
    "assert -1 not in splits\n",
    "rfs_xs = rfs_xs.expand_dims(dim=dict(split=[-1]))\n",
    "rf_ds = xr.concat([rfs_pers, rfs_xs], 'split')\n",
    "\n",
    "# temporarily reshape values for analysis\n",
    "dims_ = ('unit', 'rf_x', 'rf_y')\n",
    "rfs = rf_ds\n",
    "rfs = rfs.transpose(*(tuple(d for d in rfs.dims if d not in dims_)+dims_))\n",
    "dims = rfs.dims\n",
    "rfs = rfs.values\n",
    "print(dims)"
   ]
  },
  {
   "cell_type": "code",
   "execution_count": 10,
   "id": "d05b62b4-35e9-4047-98b7-2749b27b04da",
   "metadata": {
    "execution": {
     "iopub.execute_input": "2024-02-20T03:32:43.626851Z",
     "iopub.status.busy": "2024-02-20T03:32:43.626550Z",
     "iopub.status.idle": "2024-02-20T03:32:43.636754Z",
     "shell.execute_reply": "2024-02-20T03:32:43.636322Z"
    },
    "papermill": {
     "duration": 0.017552,
     "end_time": "2024-02-20T03:32:43.639560",
     "exception": false,
     "start_time": "2024-02-20T03:32:43.622008",
     "status": "completed"
    },
    "tags": []
   },
   "outputs": [],
   "source": [
    "rfs_orig = rfs.copy()  # for plotting only\n",
    "\n",
    "# process only positive points\n",
    "m = rfs > 0\n",
    "npos = m.sum((-1,-2))\n",
    "\n",
    "# optionally apply square transform\n",
    "if square_transform:\n",
    "    rfs[~m] = 0\n",
    "    rfs[m] = np.square(rfs[m])\n",
    "\n",
    "if z_thres is not None:\n",
    "    vals = np.moveaxis(rfs, -3, 0)\n",
    "    vals = vals.reshape(len(vals), -1)\n",
    "    m = np.median(vals, -1)\n",
    "    s = np.median(np.abs(vals - m[:,None]), -1)\n",
    "    m_ = (rfs - m[:,None,None]) < z_thres * s[:,None,None]\n",
    "    rfs[m_] = 0"
   ]
  },
  {
   "cell_type": "code",
   "execution_count": 11,
   "id": "4c559237-e8d4-4fd7-a45f-e9b78a3ecbcd",
   "metadata": {
    "execution": {
     "iopub.execute_input": "2024-02-20T03:32:43.657673Z",
     "iopub.status.busy": "2024-02-20T03:32:43.657352Z",
     "iopub.status.idle": "2024-02-20T03:32:43.660708Z",
     "shell.execute_reply": "2024-02-20T03:32:43.660129Z"
    },
    "papermill": {
     "duration": 0.012449,
     "end_time": "2024-02-20T03:32:43.662229",
     "exception": false,
     "start_time": "2024-02-20T03:32:43.649780",
     "status": "completed"
    },
    "tags": []
   },
   "outputs": [],
   "source": [
    "nu, nx, ny = rfs.shape[-3:]\n",
    "sb = rfs.shape[:-3]\n",
    "rfs = rfs.reshape(-1, nu, nx, ny)\n",
    "nb = rfs.shape[0]"
   ]
  },
  {
   "cell_type": "markdown",
   "id": "67ab2863-09dc-4eaf-9de8-76a2c5c85887",
   "metadata": {
    "papermill": {
     "duration": 0.004498,
     "end_time": "2024-02-20T03:32:43.672002",
     "exception": false,
     "start_time": "2024-02-20T03:32:43.667504",
     "status": "completed"
    },
    "tags": []
   },
   "source": [
    "# Main"
   ]
  },
  {
   "cell_type": "markdown",
   "id": "c3b3870e-ed22-4545-af4d-a0683ff7abf8",
   "metadata": {
    "papermill": {
     "duration": 0.00386,
     "end_time": "2024-02-20T03:32:43.680009",
     "exception": false,
     "start_time": "2024-02-20T03:32:43.676149",
     "status": "completed"
    },
    "tags": []
   },
   "source": [
    "### Maximum likelihood estimate using data moments"
   ]
  },
  {
   "cell_type": "code",
   "execution_count": 12,
   "id": "2ede0b37-dcb7-44e8-88ca-ec5ca05472b5",
   "metadata": {
    "execution": {
     "iopub.execute_input": "2024-02-20T03:32:43.687458Z",
     "iopub.status.busy": "2024-02-20T03:32:43.687242Z",
     "iopub.status.idle": "2024-02-20T03:32:43.692531Z",
     "shell.execute_reply": "2024-02-20T03:32:43.691974Z"
    },
    "papermill": {
     "duration": 0.010544,
     "end_time": "2024-02-20T03:32:43.693703",
     "exception": false,
     "start_time": "2024-02-20T03:32:43.683159",
     "status": "completed"
    },
    "tags": []
   },
   "outputs": [],
   "source": [
    "from functools import lru_cache\n",
    "\n",
    "_nx = rf_xlocs.size\n",
    "_ny = rf_ylocs.size\n",
    "_ys = np.broadcast_to(rf_ylocs[:, None], (_ny, _nx)).ravel()\n",
    "_xs = np.broadcast_to(rf_xlocs[None, :], (_ny, _nx)).ravel()\n",
    "_xys = np.array([_xs, _ys])  # shape (2, n_yloc*n_xloc)\n",
    "\n",
    "def gaussian_mle(weights):\n",
    "    # weights shape: (n_yloc, n_xloc)\n",
    "    weights = weights.ravel()\n",
    "\n",
    "    valid_mask = np.isfinite(weights) & (weights > 0)\n",
    "    valid_sel = np.nonzero(valid_mask)[0]\n",
    "    weights = weights[valid_sel]\n",
    "    xys_ = _xys[:,valid_sel]\n",
    "\n",
    "    weights = weights / weights.sum()\n",
    "    mu = (xys_ * weights).sum(1)  # shape (2,)\n",
    "    dxys = xys_ - mu[:,None]\n",
    "    sig = (dxys[...,None] * dxys.T * weights[:,None]).sum(1)\n",
    "    try:\n",
    "        sig_inv = np.linalg.inv(sig)\n",
    "    except np.linalg.LinAlgError:\n",
    "        sig_inv = np.full_like(sig, np.nan)\n",
    "    return mu, sig, sig_inv"
   ]
  },
  {
   "cell_type": "code",
   "execution_count": 13,
   "id": "17147d21-0084-4c27-9b66-e1cdbf972266",
   "metadata": {
    "execution": {
     "iopub.execute_input": "2024-02-20T03:32:43.701183Z",
     "iopub.status.busy": "2024-02-20T03:32:43.700840Z",
     "iopub.status.idle": "2024-02-20T03:32:43.735602Z",
     "shell.execute_reply": "2024-02-20T03:32:43.735018Z"
    },
    "papermill": {
     "duration": 0.040183,
     "end_time": "2024-02-20T03:32:43.737082",
     "exception": false,
     "start_time": "2024-02-20T03:32:43.696899",
     "status": "completed"
    },
    "tags": []
   },
   "outputs": [],
   "source": [
    "mus = np.full((nb, nu, 2), np.nan, dtype=np.float32)\n",
    "sigs = np.full((nb, nu, 2, 2), np.nan, dtype=np.float32)\n",
    "sig_invs = sigs.copy()\n",
    "\n",
    "for ib in range(nb):\n",
    "    for iu in range(nu):\n",
    "        mus[ib,iu], sigs[ib,iu], sig_invs[ib,iu] = gaussian_mle(rfs[ib,iu,...].T)"
   ]
  },
  {
   "cell_type": "markdown",
   "id": "c9393d55-b62b-49d1-99ae-94011f95d117",
   "metadata": {
    "papermill": {
     "duration": 0.003377,
     "end_time": "2024-02-20T03:32:43.743744",
     "exception": false,
     "start_time": "2024-02-20T03:32:43.740367",
     "status": "completed"
    },
    "tags": []
   },
   "source": [
    "### Optimize fit using least squares"
   ]
  },
  {
   "cell_type": "code",
   "execution_count": 14,
   "id": "2f1168ec-9387-4919-b0e5-cab067fcce0a",
   "metadata": {
    "execution": {
     "iopub.execute_input": "2024-02-20T03:32:43.752325Z",
     "iopub.status.busy": "2024-02-20T03:32:43.751698Z",
     "iopub.status.idle": "2024-02-20T03:32:43.764104Z",
     "shell.execute_reply": "2024-02-20T03:32:43.763358Z"
    },
    "papermill": {
     "duration": 0.01859,
     "end_time": "2024-02-20T03:32:43.765559",
     "exception": false,
     "start_time": "2024-02-20T03:32:43.746969",
     "status": "completed"
    },
    "tags": []
   },
   "outputs": [],
   "source": [
    "def get_gauss2d(mux, muy, xvar_inv, yvar_inv, t):\n",
    "    e1x = np.cos(t)\n",
    "    e1y = np.sin(t)\n",
    "    U = np.array([[e1x, -e1y], [e1y, e1x]])\n",
    "    Lam_inv = np.diag([xvar_inv, yvar_inv])\n",
    "    Sig_inv = U @ Lam_inv @ U.T\n",
    "    mu = np.array([[mux, muy]])\n",
    "    def gauss2d(xys):\n",
    "        # xys: shape (n, 2)\n",
    "        dxys = (xys - mu)\n",
    "        return np.exp(-0.5 * dxys[:,None,:] @ Sig_inv @ dxys[:,:,None]).ravel()\n",
    "    return gauss2d\n",
    "\n",
    "def get_gauss2d_norm(xvar, yvar, t):\n",
    "    e1x = np.cos(t)\n",
    "    e1y = np.sin(t)\n",
    "    U = np.array([[e1x, -e1y], [e1y, e1x]])\n",
    "    Lam = np.diag([xvar, yvar])\n",
    "    Sig = U @ Lam @ U.T\n",
    "    return 1 / np.sqrt(np.linalg.det(Sig)) / 2 / np.pi\n",
    "\n",
    "xys_ = np.array(np.meshgrid(rf_xlocs, rf_ylocs)).reshape(2,-1).T  # shape (n=nx*ny, 2)\n",
    "\n",
    "def get_erf(nrf):\n",
    "    def erf(params):\n",
    "        return get_gauss2d(*params)(xys_) - nrf.ravel()\n",
    "    return erf"
   ]
  },
  {
   "cell_type": "code",
   "execution_count": 15,
   "id": "a75c8639-5910-4265-8f15-69c83eb5c8fe",
   "metadata": {
    "execution": {
     "iopub.execute_input": "2024-02-20T03:32:43.775560Z",
     "iopub.status.busy": "2024-02-20T03:32:43.774945Z",
     "iopub.status.idle": "2024-02-20T03:32:43.781470Z",
     "shell.execute_reply": "2024-02-20T03:32:43.780858Z"
    },
    "papermill": {
     "duration": 0.014636,
     "end_time": "2024-02-20T03:32:43.784438",
     "exception": false,
     "start_time": "2024-02-20T03:32:43.769802",
     "status": "completed"
    },
    "tags": []
   },
   "outputs": [],
   "source": [
    "def pearsonr(a, b):\n",
    "    try:\n",
    "        if (not a.size) or np.isclose(a.var(), 0) or np.isclose(b.var(), 0):\n",
    "            return np.nan\n",
    "        return np.clip(np.corrcoef(a, b)[0, 1], -1, 1)\n",
    "    except:\n",
    "        return np.nan"
   ]
  },
  {
   "cell_type": "code",
   "execution_count": 16,
   "id": "6ca432f0-e4ce-413c-98b7-23af77b3217f",
   "metadata": {
    "execution": {
     "iopub.execute_input": "2024-02-20T03:32:43.803249Z",
     "iopub.status.busy": "2024-02-20T03:32:43.802318Z",
     "iopub.status.idle": "2024-02-20T03:32:46.883368Z",
     "shell.execute_reply": "2024-02-20T03:32:46.882824Z"
    },
    "papermill": {
     "duration": 3.09343,
     "end_time": "2024-02-20T03:32:46.887111",
     "exception": false,
     "start_time": "2024-02-20T03:32:43.793681",
     "status": "completed"
    },
    "tags": []
   },
   "outputs": [    {
     "name": "stderr",
     "output_type": "stream",
     "text": [
      "\r",
      "100%|████████████████████████████████████████| 636/636 [00:03<00:00, 208.36it/s]"
     ]
    },
    {
     "name": "stderr",
     "output_type": "stream",
     "text": [
      "\n"
     ]
    }
   ],
   "source": [
    "rf_step = np.zeros(2)\n",
    "for i, (n, locs) in enumerate(zip('xy', (rf_xlocs, rf_ylocs))):\n",
    "    step = np.unique(np.diff(locs))\n",
    "    assert step.size == 1, f'{n}-location spacing is not uniform; got {step}'\n",
    "    rf_step[i] = step\n",
    "a_elem = np.prod(rf_step)\n",
    "\n",
    "rfs = rfs.reshape(-1, nx, ny)\n",
    "mus = mus.reshape(-1, 2)\n",
    "sig_invs = sig_invs.reshape(-1, 2, 2)\n",
    "\n",
    "mu2s = np.full_like(mus, np.nan)\n",
    "ell1s = np.full_like(mus, np.nan, shape=(len(mus),3))\n",
    "ell2s = np.full_like(ell1s, np.nan)\n",
    "\n",
    "# stats: rf max, rf at fit peak, gof, rf x fit weighted mean, \"coverage\" (fit integral)\n",
    "fit_stats1 = np.full((len(mus),5), np.nan)\n",
    "fit_stats2 = np.full_like(fit_stats1, np.nan)\n",
    "\n",
    "for i, (rf, mu, sig_inv) in enumerate(zip(tqdm(rfs), mus, sig_invs)):\n",
    "    m = rf > 0\n",
    "    if np.sum(m) <= 1:\n",
    "        continue\n",
    "\n",
    "    fit_stats1[i,0] = fit_stats2[i,0] = rf[m].max()\n",
    "\n",
    "    nrf = rf.copy()\n",
    "    nrf[~m] = 0\n",
    "    nrf /= np.max(nrf)\n",
    "\n",
    "    # convert MLE to ellipse\n",
    "    if not (np.isfinite(mu).all() and np.isfinite(sig_inv).all()): continue\n",
    "    (xvar_inv, yvar_inv), ((e1x, _), _) = np.linalg.eigh(sig_inv)\n",
    "    if xvar_inv <= 0 or yvar_inv <= 0: continue\n",
    "    xvar = 1 / xvar_inv\n",
    "    yvar = 1 / yvar_inv\n",
    "\n",
    "    ang = np.arccos(np.clip(e1x, -1, 1))\n",
    "    ell1s[i,:2] = np.sqrt((xvar, yvar))\n",
    "    ell1s[i,2] = ang % (2 * np.pi)\n",
    "\n",
    "    # evaluate and init with MLE\n",
    "    ix = np.digitize(mu[0], rf_xlocs) - 1\n",
    "    iy = np.digitize(mu[1], rf_ylocs) - 1\n",
    "    if (0 <= ix < len(rf_xlocs)) & (0 <= iy < len(rf_ylocs)):\n",
    "        fit_stats1[i,1] = rf[ix, iy]\n",
    "    params1 = (*mu, xvar_inv, yvar_inv, ang)\n",
    "    rf_fit = get_gauss2d(*params1)(xys_).reshape(ny, nx).T  # shape (nx, ny)\n",
    "    fit_stats1[i,2] = pearsonr(nrf.ravel(), rf_fit.ravel())\n",
    "    if rf_fit[m].sum() == 0:\n",
    "        fit_stats1[i,3] = 0\n",
    "    else:\n",
    "        fit_stats1[i,3] = (rf[m] * rf_fit[m]).sum() / rf_fit[m].sum()\n",
    "    fit_stats1[i,4] = rf_fit.sum() * a_elem * get_gauss2d_norm(xvar, yvar, ang)\n",
    "\n",
    "    # optimize fit\n",
    "    # - nrf is ordered first by x, then by y; transpose it to match get_erf()\n",
    "    params2, rtn_code = scipy.optimize.leastsq(get_erf(nrf.T), params1)\n",
    "\n",
    "    # evaluate fit\n",
    "    if rtn_code not in (1,2,3,4): continue  # failed optimization\n",
    "    if not np.isfinite(params2).all() or (params2[2:4] <= 0).any(): continue\n",
    "    mu2s[i] = params2[:2]\n",
    "    xvar, yvar = 1 / params2[2:4]\n",
    "    ell2s[i,:2] = np.sqrt((xvar, yvar))\n",
    "    ell2s[i,2] = params2[4] % (2 * np.pi)\n",
    "    ix = np.digitize(params2[0], rf_xlocs) - 1\n",
    "    iy = np.digitize(params2[1], rf_ylocs) - 1\n",
    "    if (0 <= ix < len(rf_xlocs)) & (0 <= iy < len(rf_ylocs)):\n",
    "        fit_stats2[i,1] = rf[ix, iy]\n",
    "    rf_fit = get_gauss2d(*params2)(xys_).reshape(ny, nx).T  # shape (nx, ny)\n",
    "    fit_stats2[i,2] = pearsonr(nrf.ravel(), rf_fit.ravel())\n",
    "    if rf_fit[m].sum() == 0:\n",
    "        fit_stats2[i,3] = 0\n",
    "    else:\n",
    "        fit_stats2[i,3] = (rf[m] * rf_fit[m]).sum() / rf_fit[m].sum()\n",
    "    fit_stats2[i,4] = rf_fit.sum() * a_elem * get_gauss2d_norm(xvar, yvar, ang)"
   ]
  },
  {
   "cell_type": "code",
   "execution_count": 17,
   "id": "86f7bb68-a8d5-40a9-b9e9-bdc7275f135f",
   "metadata": {
    "execution": {
     "iopub.execute_input": "2024-02-20T03:32:46.917044Z",
     "iopub.status.busy": "2024-02-20T03:32:46.916767Z",
     "iopub.status.idle": "2024-02-20T03:32:46.921978Z",
     "shell.execute_reply": "2024-02-20T03:32:46.921357Z"
    },
    "papermill": {
     "duration": 0.024741,
     "end_time": "2024-02-20T03:32:46.924918",
     "exception": false,
     "start_time": "2024-02-20T03:32:46.900177",
     "status": "completed"
    },
    "tags": []
   },
   "outputs": [],
   "source": [
    "sig_invs = sig_invs.reshape(sb+(nu,2,2))\n",
    "\n",
    "mu1s = mus.reshape(sb+(nu,2,))\n",
    "mu2s = mu2s.reshape(sb+(nu,2,))\n",
    "\n",
    "ell1s = ell1s.reshape(sb+(nu,3,))\n",
    "ell2s = ell2s.reshape(sb+(nu,3,))\n",
    "\n",
    "fit_stats1 = fit_stats1.reshape(sb+(nu,5,))\n",
    "fit_stats2 = fit_stats2.reshape(sb+(nu,5,))\n",
    "\n",
    "npos = npos.reshape(sb+(nu,1))"
   ]
  },
  {
   "cell_type": "markdown",
   "id": "05c7fd17-82a2-4505-98e1-d4a60ed5b3e1",
   "metadata": {
    "papermill": {
     "duration": 0.009724,
     "end_time": "2024-02-20T03:32:46.948227",
     "exception": false,
     "start_time": "2024-02-20T03:32:46.938503",
     "status": "completed"
    },
    "tags": []
   },
   "source": [
    "### Save results"
   ]
  },
  {
   "cell_type": "code",
   "execution_count": 18,
   "id": "8e687d8e-7f4a-45b3-bd48-c491e57f152d",
   "metadata": {
    "execution": {
     "iopub.execute_input": "2024-02-20T03:32:46.962731Z",
     "iopub.status.busy": "2024-02-20T03:32:46.961968Z",
     "iopub.status.idle": "2024-02-20T03:32:47.133760Z",
     "shell.execute_reply": "2024-02-20T03:32:47.133146Z"
    },
    "papermill": {
     "duration": 0.181256,
     "end_time": "2024-02-20T03:32:47.136727",
     "exception": false,
     "start_time": "2024-02-20T03:32:46.955471",
     "status": "completed"
    },
    "tags": []
   },
   "outputs": [],
   "source": [
    "compr = dict(zlib=True, complevel=9)\n",
    "\n",
    "for est, data in (\n",
    "        ('mle', (mu1s, ell1s, fit_stats1, npos)),\n",
    "        ('opt', (mu2s, ell2s, fit_stats2, npos)),\n",
    "):\n",
    "    dims_ = dims[:-2] + ('feature',)\n",
    "    coords = {d: rf_ds.coords[d].values for d in dims_[:-1]}\n",
    "    coords['feature'] = np.array([\n",
    "        'x','y',\n",
    "        'a', 'b', 'ang_rad',\n",
    "        'rf_max', 'rf_at_fit_peak', 'goodness_of_fit',\n",
    "        'rf_fit_weighted_mean', 'fit_coverage', 'n'])\n",
    "    data = np.concatenate(data, axis=-1, dtype=np.float32)\n",
    "    da = xr.DataArray(data, dims=dims_, coords=coords, name='data')\n",
    "\n",
    "    da_pers = da.loc[dict(split=splits)]\n",
    "    da_xs = da.loc[dict(split=-1)]\n",
    "    del da_xs.coords['split']\n",
    "    for da_, name in ((da_pers, 'per_split'), (da_xs, 'across_splits')):\n",
    "        da_.to_netcdf(\n",
    "            output_path, group=f'{analysis_name}/{est}/{name}',\n",
    "            mode='a', engine='h5netcdf', encoding={'data': dict(chunksizes=da_.shape, **compr)})"
   ]
  },
  {
   "cell_type": "markdown",
   "id": "2872c802-7b77-4a4c-bb5d-15eb4a9df5c8",
   "metadata": {
    "papermill": {
     "duration": 0.004204,
     "end_time": "2024-02-20T03:32:47.145917",
     "exception": false,
     "start_time": "2024-02-20T03:32:47.141713",
     "status": "completed"
    },
    "tags": []
   },
   "source": [
    "# Wrap up"
   ]
  },
  {
   "cell_type": "code",
   "execution_count": 19,
   "id": "272e5bc8-66ee-440d-8d7b-bfd26079993d",
   "metadata": {
    "execution": {
     "iopub.execute_input": "2024-02-20T03:32:47.155413Z",
     "iopub.status.busy": "2024-02-20T03:32:47.155087Z",
     "iopub.status.idle": "2024-02-20T03:32:47.160952Z",
     "shell.execute_reply": "2024-02-20T03:32:47.159655Z"
    },
    "papermill": {
     "duration": 0.013181,
     "end_time": "2024-02-20T03:32:47.163187",
     "exception": false,
     "start_time": "2024-02-20T03:32:47.150006",
     "status": "completed"
    },
    "tags": []
   },
   "outputs": [],
   "source": [
    "save_results(f'progress_report/{analysis_name}/all_done', True, overwrite=True)"
   ]
  },
  {
   "cell_type": "code",
   "execution_count": 20,
   "id": "d5d0fa48-52cb-406e-af5e-834e5967b3f1",
   "metadata": {
    "execution": {
     "iopub.execute_input": "2024-02-20T03:32:47.174040Z",
     "iopub.status.busy": "2024-02-20T03:32:47.173199Z",
     "iopub.status.idle": "2024-02-20T03:32:47.222084Z",
     "shell.execute_reply": "2024-02-20T03:32:47.220871Z"
    },
    "papermill": {
     "duration": 0.057498,
     "end_time": "2024-02-20T03:32:47.225054",
     "exception": false,
     "start_time": "2024-02-20T03:32:47.167556",
     "status": "completed"
    },
    "tags": []
   },
   "outputs": [
    {
     "name": "stdout",
     "output_type": "stream",
     "text": [
      "Last updated: 2024-02-19T22:32:47.186132-05:00\n",
      "\n",
      "Python implementation: CPython\n",
      "Python version       : 3.10.12\n",
      "IPython version      : 8.12.0\n",
      "\n",
      "Compiler    : GCC 11.4.0\n",
      "OS          : Linux\n",
      "Release     : 5.15.0-92-generic\n",
      "Machine     : x86_64\n",
      "Processor   : x86_64\n",
      "CPU cores   : 20\n",
      "Architecture: 64bit\n",
      "\n",
      "Python implementation: CPython\n",
      "Python version       : 3.10.12\n",
      "IPython version      : 8.12.0\n",
      "\n",
      "Compiler    : GCC 11.4.0\n",
      "OS          : Linux\n",
      "Release     : 5.15.0-92-generic\n",
      "Machine     : x86_64\n",
      "Processor   : x86_64\n",
      "CPU cores   : 20\n",
      "Architecture: 64bit\n",
      "\n",
      "Git hash: b0bb10f45dee065cc3af96fe224326b883d27431\n",
      "\n",
      "Git repo: https://github.com/willwx/free_viewing_staging.git\n",
      "\n",
      "Git branch: master\n",
      "\n",
      "xarray: 2023.4.2\n",
      "scipy : 1.10.1\n",
      "numpy : 1.24.3\n",
      "sys   : 3.10.12 (main, Nov 20 2023, 15:14:05) [GCC 11.4.0]\n",
      "h5py  : 3.8.0\n",
      "\n"
     ]
    }
   ],
   "source": [
    "%load_ext watermark\n",
    "%watermark\n",
    "%watermark -vm --iversions -rbg"
   ]
  },
  {
   "cell_type": "markdown",
   "id": "2503426d-13c2-48a4-aa27-c806794fff9e",
   "metadata": {
    "papermill": {
     "duration": 0.007813,
     "end_time": "2024-02-20T03:32:47.245700",
     "exception": false,
     "start_time": "2024-02-20T03:32:47.237887",
     "status": "completed"
    },
    "tags": []
   },
   "source": [
    "# Basic visualization of results"
   ]
  },
  {
   "cell_type": "code",
   "execution_count": 21,
   "id": "f405878e-b092-4f9b-aa22-b99e90164bf3",
   "metadata": {
    "execution": {
     "iopub.execute_input": "2024-02-20T03:32:47.259687Z",
     "iopub.status.busy": "2024-02-20T03:32:47.259018Z",
     "iopub.status.idle": "2024-02-20T03:32:47.509685Z",
     "shell.execute_reply": "2024-02-20T03:32:47.508848Z"
    },
    "papermill": {
     "duration": 0.260674,
     "end_time": "2024-02-20T03:32:47.512762",
     "exception": false,
     "start_time": "2024-02-20T03:32:47.252088",
     "status": "completed"
    },
    "tags": []
   },
   "outputs": [],
   "source": [
    "import matplotlib as mpl\n",
    "import matplotlib.pyplot as plt"
   ]
  },
  {
   "cell_type": "code",
   "execution_count": 22,
   "id": "701eada0-8b5c-4e66-a2c8-e98a9b5c8d22",
   "metadata": {
    "execution": {
     "iopub.execute_input": "2024-02-20T03:32:47.523092Z",
     "iopub.status.busy": "2024-02-20T03:32:47.522672Z",
     "iopub.status.idle": "2024-02-20T03:32:48.569379Z",
     "shell.execute_reply": "2024-02-20T03:32:48.568660Z"
    },
    "papermill": {
     "duration": 1.056679,
     "end_time": "2024-02-20T03:32:48.574069",
     "exception": false,
     "start_time": "2024-02-20T03:32:47.517390",
     "status": "completed"
    },
    "tags": []
   },
   "outputs": [
    {
     "data": {
      "image/png": "[encoded data removed]",
      "text/plain": [
       "<Figure size 2000x200 with 10 Axes>"
      ]
     },
     "metadata": {},
     "output_type": "display_data"
    }
   ],
   "source": [
    "max_nu = 10\n",
    "fit_stats = fit_stats2\n",
    "\n",
    "fit_rfmax = fit_stats[...,0].reshape(-1, nu)  # shape: (nb, nu)\n",
    "ius = np.arange(fit_rfmax.shape[-1])\n",
    "ius = ius[np.isfinite(fit_rfmax).any(0)]\n",
    "fit_rfmax = fit_rfmax[:,ius]  # shape: (nb, nu_)\n",
    "so = np.argsort(np.nanmax(fit_rfmax, axis=0))[::-1]\n",
    "ius = ius[so[:max_nu]]\n",
    "fit_rfmax = fit_rfmax[...,so[:max_nu]]\n",
    "nu_ = ius.size\n",
    "\n",
    "if nu_:\n",
    "    rfs_ = rfs_orig.reshape(sb+(nu,nx,ny))[...,ius,:,:].reshape(-1,nu_,nx,ny)\n",
    "    mus_ = mu1s[...,ius,:].reshape(-1, nu_, 2)\n",
    "    ells_ = ell1s[...,ius,:].reshape(-1, nu_, 3)\n",
    "    fit_mus_ = mu2s[...,ius,:].reshape(-1, nu_, 2)\n",
    "    fit_ells_ = ell2s[...,ius,:].reshape(-1, nu_, 3)\n",
    "    sig_invs_ = sig_invs[...,ius,:,:].reshape(-1, nu_, 2, 2)\n",
    "    fit_gof_ = fit_stats[...,2][...,ius].reshape(-1, nu_)\n",
    "\n",
    "    fig, axs = plt.subplots(1, nu_, figsize=(2*nu_, 2), squeeze=False, sharex=True, sharey=True)\n",
    "    plt.subplots_adjust(wspace=0)\n",
    "    axs = axs.ravel()\n",
    "    im_ext = np.array([rf_xlocs.min(), rf_xlocs.max(), rf_ylocs.min(), rf_ylocs.max(),]) \\\n",
    "        + (np.array([-.5,.5]) * rf_step[:,None]).ravel()\n",
    "\n",
    "    for i, ax in enumerate(axs):\n",
    "        v = fit_rfmax[...,i]\n",
    "        imax = np.nanargmax(v)\n",
    "        it, = np.unravel_index(imax, v.shape)\n",
    "\n",
    "        rf = rfs_[imax,i,:,:].T\n",
    "        mu = mus_[imax,i,:]\n",
    "        ell = ells_[imax,i,:]\n",
    "        fit_mu = fit_mus_[imax,i,:]\n",
    "        fit_ell = fit_ells_[imax,i,:]\n",
    "        sig_inv = sig_invs_[imax,i,:,:]\n",
    "\n",
    "        vm = np.nanmax(np.abs(rf))\n",
    "\n",
    "        c = mpl.colors.to_rgb('tab:blue')\n",
    "\n",
    "        ax.imshow(rf, extent=im_ext, origin='lower', vmin=-vm, vmax=vm, cmap='RdGy')\n",
    "        ax.scatter(*mu, ec=[c], fc='none', s=50)\n",
    "        if np.all(np.isfinite(mu)) and np.all(np.isfinite(ell)):\n",
    "            e = mpl.patches.Ellipse(mu, *2*ell[:2], angle=ell[2]/np.pi*180, ec=c, fc=(*c,0.1), ls='--', label='mle')\n",
    "            ax.add_artist(e)\n",
    "\n",
    "        c = mpl.colors.to_rgb('tab:purple')\n",
    "        ax.scatter(*fit_mu, c=[c], s=50)\n",
    "        if np.all(np.isfinite(fit_mu)) and np.all(np.isfinite(fit_ell)):\n",
    "            e = mpl.patches.Ellipse(fit_mu, *2*fit_ell[:2], angle=fit_ell[2]/np.pi*180, ec=c, fc=[*c,0.1], label='opt')\n",
    "            ax.add_artist(e)\n",
    "\n",
    "        ax.set_title(f'{unit_names[ius[i]]}\\nc{it}, {rf.max():.2f}, {fit_gof_[it,i]:.2f}')\n",
    "        ax.set_xlim(im_ext[:2])\n",
    "        ax.set_ylim(im_ext[2:])\n",
    "\n",
    "    ax.legend(bbox_to_anchor=(1,1.05), loc='upper left')"
   ]
  }
 ],
 "metadata": {
  "kernelspec": {
   "display_name": "Python 3 (ipykernel)",
   "language": "python",
   "name": "python3"
  },
  "language_info": {
   "codemirror_mode": {
    "name": "ipython",
    "version": 3
   },
   "file_extension": ".py",
   "mimetype": "text/x-python",
   "name": "python",
   "nbconvert_exporter": "python",
   "pygments_lexer": "ipython3",
   "version": "3.10.12"
  },
  "papermill": {
   "default_parameters": {},
   "duration": 7.315873,
   "end_time": "2024-02-20T03:32:49.006981",
   "environment_variables": {},
   "exception": null,
   "input_path": "script_6u1_rf_gaussian_fit.ipynb",
   "output_path": "../test_results/hier_group/maps_fix_hg/log_6u1_rf_gaussian_fit-Pa210201.ipynb",
   "parameters": {
    "output_dir": "../test_results/hier_group/maps_fix_hg",
    "rf_map_analysis": "feat_corr_map",
    "rfmap_dir": "../test_results/hier_group/maps_fix_hg",
    "sess_name": "Pa210201"
   },
   "start_time": "2024-02-20T03:32:41.691108",
   "version": "2.5.0"
  }
 },
 "nbformat": 4,
 "nbformat_minor": 5
}