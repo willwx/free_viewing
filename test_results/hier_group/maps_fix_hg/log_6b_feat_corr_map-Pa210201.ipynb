{
 "cells": [
  {
   "cell_type": "code",
   "execution_count": 1,
   "id": "a22fb89d",
   "metadata": {
    "execution": {
     "iopub.execute_input": "2024-02-20T03:20:10.380617Z",
     "iopub.status.busy": "2024-02-20T03:20:10.380102Z",
     "iopub.status.idle": "2024-02-20T03:20:11.128194Z",
     "shell.execute_reply": "2024-02-20T03:20:11.127587Z"
    },
    "papermill": {
     "duration": 0.76602,
     "end_time": "2024-02-20T03:20:11.129696",
     "exception": false,
     "start_time": "2024-02-20T03:20:10.363676",
     "status": "completed"
    },
    "tags": []
   },
   "outputs": [],
   "source": [
    "import itertools\n",
    "import sys\n",
    "from pathlib import Path\n",
    "\n",
    "import h5py as h5\n",
    "import numpy as np\n",
    "import pandas as pd\n",
    "import xarray as xr\n",
    "from tqdm import tqdm\n",
    "\n",
    "sys.path.append('../lib')\n",
    "from local_paths import preproc_dir, analysis_dir, database_dir, cache_dir\n",
    "from storage import get_storage_functions, quantize\n",
    "from im_patches import get_patches_from_grid\n",
    "from cross_val_pred import standardize, cv_split_by_image, cv_ridge_predict, pearsonr"
   ]
  },
  {
   "cell_type": "markdown",
   "id": "53714b9b",
   "metadata": {
    "papermill": {
     "duration": 0.01427,
     "end_time": "2024-02-20T03:20:11.148986",
     "exception": false,
     "start_time": "2024-02-20T03:20:11.134716",
     "status": "completed"
    },
    "tags": []
   },
   "source": [
    "# Parameters"
   ]
  },
  {
   "cell_type": "code",
   "execution_count": 2,
   "id": "7aa4c150",
   "metadata": {
    "execution": {
     "iopub.execute_input": "2024-02-20T03:20:11.161643Z",
     "iopub.status.busy": "2024-02-20T03:20:11.160870Z",
     "iopub.status.idle": "2024-02-20T03:20:11.174562Z",
     "shell.execute_reply": "2024-02-20T03:20:11.173593Z"
    },
    "papermill": {
     "duration": 0.024546,
     "end_time": "2024-02-20T03:20:11.178446",
     "exception": false,
     "start_time": "2024-02-20T03:20:11.153900",
     "status": "completed"
    },
    "tags": [
     "parameters"
    ]
   },
   "outputs": [],
   "source": [
    "#============================================================================\n",
    "# session\n",
    "#============================================================================\n",
    "sess_name = 'sess_name'\n",
    "\n",
    "\n",
    "#============================================================================\n",
    "# coefs for weighting stimulus features\n",
    "#============================================================================\n",
    "# the values to calculate are analogous to the coefficient of multiple correlations,\n",
    "# with the key differences that the linear model here is\n",
    "# 1. cross-validated\n",
    "# 2. regularized via ridge regression (as implemented)\n",
    "# 3. regularized via weight sharing, for all RF locations other than\n",
    "#    that (if any) used to fit the model\n",
    "\n",
    "# how to fit coefs\n",
    "# - *peak* of model performance map (prerequisite)\n",
    "#   this will also inherit CV splits to keep them uncontaminated\n",
    "# - *full_image* regardless of fixation position\n",
    "# - *fovea* regardless of fixation position\n",
    "fit_coefs_at = 'peak'\n",
    "\n",
    "# required only if fit_coefs_at == 'peak'\n",
    "rfmap_analysis = 'model_perf_map'\n",
    "rfmap_dset = 'corr_per_split'  # must have the same splits as here\n",
    "\n",
    "\n",
    "#============================================================================\n",
    "# spatiotemporal resolution of RF\n",
    "#============================================================================\n",
    "# temporal\n",
    "t_aln  = 'sacc_on'  # 'sacc_on' or 'fix_on'\n",
    "# response windows\n",
    "# - one (long) window, if > 0\n",
    "t_win  =   0\n",
    "# - OTHERWISE, sliding window\n",
    "t_pre  = 375\n",
    "t_post = 375  # inclusive, but window must fit fully in range\n",
    "t_step =  25\n",
    "\n",
    "# spatial\n",
    "xy_min  = -7  # dva\n",
    "xy_max  =  7\n",
    "xy_step =  1  # only meaningful if at least patch step size in cached reprs;\n",
    "              # note that patch size is set in cached reprs\n",
    "\n",
    "\n",
    "#============================================================================\n",
    "# fixation/saccade selection\n",
    "#============================================================================\n",
    "# fixation criteria\n",
    "ifix_sel        =    1    # 0: zeroth-fix only; 1: non-zeroth-fix only; otherwise: both\n",
    "select_saccades = True    # must be False if ifix_sel is None or 0\n",
    "\n",
    "\n",
    "#============================================================================\n",
    "# modelling\n",
    "#============================================================================\n",
    "# ridge regularization\n",
    "ridge_alpha = 100000\n",
    "\n",
    "# cross-validation\n",
    "n_splits    =      5\n",
    "group_kfold =   True\n",
    "\n",
    "\n",
    "#============================================================================\n",
    "# paths\n",
    "#============================================================================\n",
    "proc_dir = preproc_dir\n",
    "\n",
    "sdf_dir = preproc_dir\n",
    "sdf_suffix = '-mwa_1' if t_win > 0 else '-mwa_50'  # default to no smoothing if using a response window\n",
    "\n",
    "feat_dir = cache_dir + 'feats/vit_large_patch16_384/blocks.13.attn.qkv'\n",
    "feat_suffix = '_as_2x2_in_0.50_steps'\n",
    "\n",
    "unit_sel_path = None\n",
    "latency_path = database_dir + 'per_unit_latency-fix_on.csv.gz'  # only used # if t_win > 0\n",
    "\n",
    "rfmap_dir = analysis_dir + rfmap_analysis  # required only if fit_coefs_at is set to 'peak'\n",
    "\n",
    "output_dir = analysis_dir + 'feat_corr_map'"
   ]
  },
  {
   "cell_type": "code",
   "execution_count": 3,
   "id": "c1504d1a",
   "metadata": {
    "execution": {
     "iopub.execute_input": "2024-02-20T03:20:11.202009Z",
     "iopub.status.busy": "2024-02-20T03:20:11.201354Z",
     "iopub.status.idle": "2024-02-20T03:20:11.208273Z",
     "shell.execute_reply": "2024-02-20T03:20:11.207143Z"
    },
    "papermill": {
     "duration": 0.019968,
     "end_time": "2024-02-20T03:20:11.211356",
     "exception": false,
     "start_time": "2024-02-20T03:20:11.191388",
     "status": "completed"
    },
    "tags": [
     "injected-parameters"
    ]
   },
   "outputs": [],
   "source": [
    "# Parameters\n",
    "sess_name = \"Pa210201\"\n",
    "sdf_suffix = \"-mwa_1-hg\"\n",
    "latency_path = \"../db/per_hier_unit_latency-fix_on.csv.gz\"\n",
    "t_aln = \"fix_on\"\n",
    "t_win = 200\n",
    "ifix_sel = 2\n",
    "select_saccades = False\n",
    "output_dir = \"../test_results/hier_group/maps_fix_hg\"\n",
    "rfmap_dir = \"../test_results/hier_group/maps_fix_hg\"\n"
   ]
  },
  {
   "cell_type": "markdown",
   "id": "3ee37d32",
   "metadata": {
    "papermill": {
     "duration": 0.009159,
     "end_time": "2024-02-20T03:20:11.234528",
     "exception": false,
     "start_time": "2024-02-20T03:20:11.225369",
     "status": "completed"
    },
    "tags": []
   },
   "source": [
    "# Check prereqs and params"
   ]
  },
  {
   "cell_type": "code",
   "execution_count": 4,
   "id": "77bef9ac",
   "metadata": {
    "execution": {
     "iopub.execute_input": "2024-02-20T03:20:11.248327Z",
     "iopub.status.busy": "2024-02-20T03:20:11.247611Z",
     "iopub.status.idle": "2024-02-20T03:20:11.268059Z",
     "shell.execute_reply": "2024-02-20T03:20:11.267087Z"
    },
    "papermill": {
     "duration": 0.028924,
     "end_time": "2024-02-20T03:20:11.270206",
     "exception": false,
     "start_time": "2024-02-20T03:20:11.241282",
     "status": "completed"
    },
    "tags": []
   },
   "outputs": [
    {
     "name": "stdout",
     "output_type": "stream",
     "text": [
      "Loading shared processing from ../test_data/Pa210201-proc.h5\n",
      "Loading spike density function from ../test_data/Pa210201-sdf-mwa_1-hg.h5\n",
      "Loading cached model features from ~/Data/free_viewing/Cache/feats/vit_large_patch16_384/blocks.13.attn.qkv/16.0x16.0_as_2x2_in_0.50_steps.h5\n",
      "Using per-unit latency from ../db/per_hier_unit_latency-fix_on.csv.gz\n",
      "Loading maps (to determine loc for coef fit) from ../test_results/hier_group/maps_fix_hg/Pa210201.h5\n",
      "Saving results to ../test_results/hier_group/maps_fix_hg/Pa210201.h5\n"
     ]
    }
   ],
   "source": [
    "proc_path = Path(proc_dir) / (sess_name + '-proc.h5')\n",
    "print('Loading shared processing from', proc_path)\n",
    "proc_path = proc_path.expanduser()\n",
    "assert proc_path.is_file()\n",
    "\n",
    "sdf_path = Path(sdf_dir) / (sess_name + f'-sdf{sdf_suffix}.h5')\n",
    "print('Loading spike density function from', sdf_path)\n",
    "sdf_path = sdf_path.expanduser()\n",
    "assert sdf_path.is_file()\n",
    "\n",
    "with h5.File(proc_path, 'r') as f:\n",
    "    im_w, im_h = im_size = f['stimulus/size_dva'][()]\n",
    "feats_path = Path(feat_dir) / f'{im_w:.1f}x{im_h:.1f}{feat_suffix}.h5'\n",
    "print('Loading cached model features from', feats_path)\n",
    "feats_path = feats_path.expanduser()\n",
    "assert feats_path.is_file()\n",
    "\n",
    "if t_win > 0:\n",
    "    print('Using per-unit latency from', latency_path)\n",
    "    latency_path = Path(latency_path).expanduser()\n",
    "    assert latency_path.is_file()\n",
    "\n",
    "if unit_sel_path is not None:\n",
    "    print('Loading unit selection from', unit_sel_path)\n",
    "    unit_sel_path = Path(unit_sel_path).expanduser()\n",
    "    assert unit_sel_path.is_file()\n",
    "    unit_names = pd.read_csv(unit_sel_path).set_index('Session').loc[[sess_name]]['Unit'].values\n",
    "else:\n",
    "    unit_names = None\n",
    "\n",
    "if fit_coefs_at == 'peak':\n",
    "    rfmap_path = Path(rfmap_dir) / (sess_name + '.h5')\n",
    "    print('Loading maps (to determine loc for coef fit) from', rfmap_path)\n",
    "    rfmap_path = rfmap_path.expanduser()\n",
    "    assert rfmap_path.is_file()\n",
    "\n",
    "output_dir = Path(output_dir)\n",
    "assert output_dir.expanduser().is_dir()\n",
    "output_path = output_dir / (sess_name + '.h5')\n",
    "print('Saving results to', output_path)\n",
    "output_path = output_path.expanduser()"
   ]
  },
  {
   "cell_type": "code",
   "execution_count": 5,
   "id": "28d07fae",
   "metadata": {
    "execution": {
     "iopub.execute_input": "2024-02-20T03:20:11.301750Z",
     "iopub.status.busy": "2024-02-20T03:20:11.300826Z",
     "iopub.status.idle": "2024-02-20T03:20:11.306333Z",
     "shell.execute_reply": "2024-02-20T03:20:11.305328Z"
    },
    "papermill": {
     "duration": 0.025033,
     "end_time": "2024-02-20T03:20:11.309084",
     "exception": false,
     "start_time": "2024-02-20T03:20:11.284051",
     "status": "completed"
    },
    "tags": []
   },
   "outputs": [],
   "source": [
    "assert fit_coefs_at in ('peak', 'full_image', 'fovea')"
   ]
  },
  {
   "cell_type": "code",
   "execution_count": 6,
   "id": "d033472b",
   "metadata": {
    "execution": {
     "iopub.execute_input": "2024-02-20T03:20:11.335485Z",
     "iopub.status.busy": "2024-02-20T03:20:11.334999Z",
     "iopub.status.idle": "2024-02-20T03:20:11.343303Z",
     "shell.execute_reply": "2024-02-20T03:20:11.342213Z"
    },
    "papermill": {
     "duration": 0.023244,
     "end_time": "2024-02-20T03:20:11.346480",
     "exception": false,
     "start_time": "2024-02-20T03:20:11.323236",
     "status": "completed"
    },
    "tags": []
   },
   "outputs": [],
   "source": [
    "analysis_name = 'feat_corr_map'\n",
    "\n",
    "if output_path.is_file():\n",
    "    with h5.File(output_path, 'r') as f:\n",
    "        try:\n",
    "            if f[f'progress_report/{analysis_name}/all_done'][()].item():\n",
    "                raise RuntimeError(f'{sess_name} has already been processed')\n",
    "        except KeyError:\n",
    "            pass"
   ]
  },
  {
   "cell_type": "code",
   "execution_count": 7,
   "id": "f516a337",
   "metadata": {
    "execution": {
     "iopub.execute_input": "2024-02-20T03:20:11.378495Z",
     "iopub.status.busy": "2024-02-20T03:20:11.377638Z",
     "iopub.status.idle": "2024-02-20T03:20:11.455341Z",
     "shell.execute_reply": "2024-02-20T03:20:11.454773Z"
    },
    "papermill": {
     "duration": 0.094927,
     "end_time": "2024-02-20T03:20:11.456841",
     "exception": false,
     "start_time": "2024-02-20T03:20:11.361914",
     "status": "completed"
    },
    "tags": []
   },
   "outputs": [],
   "source": [
    "fix_df = pd.read_hdf(proc_path, 'fixation_dataframe', 'r')\n",
    "with h5.File(proc_path, 'r') as f:\n",
    "    stim_folder_ = f['stimulus/folder'][()].decode()\n",
    "\n",
    "imids = fix_df.groupby(['Image subdir', 'Image filename']).first().index\n",
    "md5s = [Path(fn).stem for _, fn in imids]\n",
    "md5_catalog = pd.DataFrame(index=imids, data=md5s, columns=['MD5'])"
   ]
  },
  {
   "cell_type": "markdown",
   "id": "7785af8e",
   "metadata": {
    "papermill": {
     "duration": 0.004722,
     "end_time": "2024-02-20T03:20:11.466429",
     "exception": false,
     "start_time": "2024-02-20T03:20:11.461707",
     "status": "completed"
    },
    "tags": []
   },
   "source": [
    "# Prepare parameters; save config"
   ]
  },
  {
   "cell_type": "code",
   "execution_count": 8,
   "id": "d5b5a5de",
   "metadata": {
    "execution": {
     "iopub.execute_input": "2024-02-20T03:20:11.477348Z",
     "iopub.status.busy": "2024-02-20T03:20:11.476931Z",
     "iopub.status.idle": "2024-02-20T03:20:11.484693Z",
     "shell.execute_reply": "2024-02-20T03:20:11.482986Z"
    },
    "papermill": {
     "duration": 0.015171,
     "end_time": "2024-02-20T03:20:11.486205",
     "exception": false,
     "start_time": "2024-02-20T03:20:11.471034",
     "status": "completed"
    },
    "tags": []
   },
   "outputs": [
    {
     "name": "stdout",
     "output_type": "stream",
     "text": [
      "random_seed: 775418045\n"
     ]
    }
   ],
   "source": [
    "with h5.File(proc_path, 'r') as f:\n",
    "    random_seed = f['config/default_random_seed'][()]\n",
    "print('random_seed:', random_seed)"
   ]
  },
  {
   "cell_type": "code",
   "execution_count": 9,
   "id": "ba5d5e2f",
   "metadata": {
    "execution": {
     "iopub.execute_input": "2024-02-20T03:20:11.497377Z",
     "iopub.status.busy": "2024-02-20T03:20:11.497069Z",
     "iopub.status.idle": "2024-02-20T03:20:11.501841Z",
     "shell.execute_reply": "2024-02-20T03:20:11.501242Z"
    },
    "papermill": {
     "duration": 0.012059,
     "end_time": "2024-02-20T03:20:11.503043",
     "exception": false,
     "start_time": "2024-02-20T03:20:11.490984",
     "status": "completed"
    },
    "tags": []
   },
   "outputs": [],
   "source": [
    "with h5.File(proc_path, 'r') as f:\n",
    "    if select_saccades:\n",
    "        assert ifix_sel == 1, 'if selecting saccades, must only include non-zeroth fixations'\n",
    "        fix1_sel, fix2_sel = f['saccade_selection/fixation_indices'][()]\n",
    "    else:\n",
    "        assert t_aln == 'fix_on'\n",
    "        fix2_sel = f['fixation_selection/fixation_indices'][()]\n",
    "        if ifix_sel in (0, 1):\n",
    "            m = 0 == fix_df.index.get_level_values(fix_df.index.names.index('Fixation'))[fix2_sel]\n",
    "            if ifix_sel == 1:\n",
    "                m = ~m\n",
    "            fix2_sel = fix2_sel[m]"
   ]
  },
  {
   "cell_type": "code",
   "execution_count": 10,
   "id": "59485c17",
   "metadata": {
    "execution": {
     "iopub.execute_input": "2024-02-20T03:20:11.513719Z",
     "iopub.status.busy": "2024-02-20T03:20:11.513346Z",
     "iopub.status.idle": "2024-02-20T03:20:11.520438Z",
     "shell.execute_reply": "2024-02-20T03:20:11.519569Z"
    },
    "papermill": {
     "duration": 0.014039,
     "end_time": "2024-02-20T03:20:11.521762",
     "exception": false,
     "start_time": "2024-02-20T03:20:11.507723",
     "status": "completed"
    },
    "tags": []
   },
   "outputs": [
    {
     "name": "stdout",
     "output_type": "stream",
     "text": [
      "Response windows (1): [100.]\n",
      "RF locations (15): [-7. -6. -5. -4. -3. -2. -1.  0.  1.  2.  3.  4.  5.  6.  7.]\n"
     ]
    }
   ],
   "source": [
    "assert t_aln in ('sacc_on', 'fix_on')\n",
    "if t_win > 0:\n",
    "    ts = np.array([t_win/2])  # placeholder; actual window varies with latency per unit\n",
    "else:\n",
    "    ts = np.arange(-t_pre, t_post+.1, t_step)\n",
    "print(f'Response windows ({len(ts)}): {ts}')\n",
    "\n",
    "rf_locs = np.arange(xy_min, xy_max+xy_step/10, xy_step)\n",
    "print(f'RF locations ({len(rf_locs)}): {rf_locs}')\n",
    "tb = (rf_locs[0]-xy_step/2, rf_locs[-1]+xy_step/2)\n",
    "rf_extent = tb + tb"
   ]
  },
  {
   "cell_type": "code",
   "execution_count": 11,
   "id": "31d92bde",
   "metadata": {
    "execution": {
     "iopub.execute_input": "2024-02-20T03:20:11.535190Z",
     "iopub.status.busy": "2024-02-20T03:20:11.534267Z",
     "iopub.status.idle": "2024-02-20T03:20:11.540306Z",
     "shell.execute_reply": "2024-02-20T03:20:11.539388Z"
    },
    "papermill": {
     "duration": 0.015559,
     "end_time": "2024-02-20T03:20:11.542427",
     "exception": false,
     "start_time": "2024-02-20T03:20:11.526868",
     "status": "completed"
    },
    "tags": []
   },
   "outputs": [],
   "source": [
    "save_results, add_attr_to_dset, check_equals_saved, link_dsets, copy_group = \\\n",
    "    get_storage_functions(output_path)"
   ]
  },
  {
   "cell_type": "code",
   "execution_count": 12,
   "id": "c864484d",
   "metadata": {
    "execution": {
     "iopub.execute_input": "2024-02-20T03:20:11.560496Z",
     "iopub.status.busy": "2024-02-20T03:20:11.559860Z",
     "iopub.status.idle": "2024-02-20T03:20:11.580198Z",
     "shell.execute_reply": "2024-02-20T03:20:11.579692Z"
    },
    "papermill": {
     "duration": 0.030495,
     "end_time": "2024-02-20T03:20:11.582003",
     "exception": false,
     "start_time": "2024-02-20T03:20:11.551508",
     "status": "completed"
    },
    "tags": []
   },
   "outputs": [],
   "source": [
    "group = analysis_name + '/'\n",
    "save_results(group+'ts', ts, attrs=dict(unit='ms'))\n",
    "save_results(group+'rf_locs', rf_locs, attrs=dict(unit='dva'))\n",
    "save_results(group+'sdf_suffix', sdf_suffix)\n",
    "\n",
    "group = analysis_name + '/config/'\n",
    "save_results(group+'random_seed', random_seed)\n",
    "save_results(group+'fit_coefs_at', fit_coefs_at)\n",
    "save_results(group+'rfmap_analysis', rfmap_analysis)\n",
    "save_results(group+'rfmap_dset', rfmap_dset)\n",
    "\n",
    "group = analysis_name + '/config/time_windows/'\n",
    "save_results(group+'t_aln', t_aln)\n",
    "save_results(group+'t_win', t_win)\n",
    "save_results(group+'t_pre', t_pre)\n",
    "save_results(group+'t_post', t_post)\n",
    "save_results(group+'t_step', t_step)\n",
    "add_attr_to_dset(group, attrs=dict(unit='ms'))\n",
    "\n",
    "group = analysis_name + '/config/retinotopic_locations/'\n",
    "save_results(group+'xy_min', xy_min)\n",
    "save_results(group+'xy_max', xy_max)\n",
    "save_results(group+'xy_step', xy_step)\n",
    "add_attr_to_dset(group, attrs=dict(unit='dva'))\n",
    "\n",
    "group = analysis_name + '/config/fixation_selection/'\n",
    "save_results(group+'ifix_sel', ifix_sel)\n",
    "save_results(group+'select_saccades', select_saccades)\n",
    "\n",
    "group = analysis_name + '/config/modelling/'\n",
    "save_results(group+'n_splits', n_splits)\n",
    "save_results(group+'ridge_alpha', ridge_alpha)\n",
    "save_results(group+'group_kfold', group_kfold)"
   ]
  },
  {
   "cell_type": "markdown",
   "id": "c6a69dae",
   "metadata": {
    "papermill": {
     "duration": 0.004806,
     "end_time": "2024-02-20T03:20:11.592055",
     "exception": false,
     "start_time": "2024-02-20T03:20:11.587249",
     "status": "completed"
    },
    "tags": []
   },
   "source": [
    "# For saccades, construct two types of control points\n",
    "- Control 1: the 3rd vertex of two equilateral triangles anchored by fix 1 & 2 (previous and current), i.e., the L4/5 Langange points. One of the points is chosen:\n",
    "  - If both points are within image bounds, choose randomly\n",
    "  - If one and only one point is within image bounds, choose that\n",
    "  - If both points are outside image bounds, choose the one closest to the image.\n",
    "- Control 2: the midpoint between the previous and current fixation, i.e., the L1 point."
   ]
  },
  {
   "cell_type": "code",
   "execution_count": 13,
   "id": "d1a7f238",
   "metadata": {
    "execution": {
     "iopub.execute_input": "2024-02-20T03:20:11.603338Z",
     "iopub.status.busy": "2024-02-20T03:20:11.602674Z",
     "iopub.status.idle": "2024-02-20T03:20:11.611723Z",
     "shell.execute_reply": "2024-02-20T03:20:11.610661Z"
    },
    "papermill": {
     "duration": 0.016471,
     "end_time": "2024-02-20T03:20:11.613224",
     "exception": false,
     "start_time": "2024-02-20T03:20:11.596753",
     "status": "completed"
    },
    "tags": []
   },
   "outputs": [],
   "source": [
    "xys_fix2 = fix_df.iloc[fix2_sel][['Relative X', 'Relative Y']].values.astype(float)\n",
    "if select_saccades:\n",
    "    xys_fix1 = fix_df.iloc[fix1_sel][['Relative X', 'Relative Y']].values.astype(float)"
   ]
  },
  {
   "cell_type": "code",
   "execution_count": 14,
   "id": "279f3ca2",
   "metadata": {
    "execution": {
     "iopub.execute_input": "2024-02-20T03:20:11.627009Z",
     "iopub.status.busy": "2024-02-20T03:20:11.626483Z",
     "iopub.status.idle": "2024-02-20T03:20:11.646125Z",
     "shell.execute_reply": "2024-02-20T03:20:11.645167Z"
    },
    "papermill": {
     "duration": 0.028738,
     "end_time": "2024-02-20T03:20:11.647404",
     "exception": false,
     "start_time": "2024-02-20T03:20:11.618666",
     "status": "completed"
    },
    "tags": []
   },
   "outputs": [],
   "source": [
    "if not select_saccades:\n",
    "    n_cond = 1\n",
    "\n",
    "else:\n",
    "    n_cond = 4\n",
    "    rg = np.random.default_rng(random_seed)\n",
    "\n",
    "    # control point type 2: midpoint between fixs 1, 2\n",
    "    xys_control2 = (xys_fix1 + xys_fix2) / 2\n",
    "\n",
    "    # control point type 1\n",
    "    # - get 3rd vertex of the equilateral triangle\n",
    "    #   by rotating the saccade vector +/-60 degs\n",
    "    vs = xys_fix2 - xys_fix1\n",
    "    rmats = [\n",
    "        np.array([[np.cos(a), -np.sin(a)], [np.sin(a), np.cos(a)]])\n",
    "        for a in (np.pi/3, -np.pi/3)\n",
    "    ]\n",
    "    xys_l45 = xys_fix1 + np.array([(m @ vs.T).T for m in rmats])  # shape (n_fix, 2)\n",
    "\n",
    "    # - check whether/how far points are out of image bounds\n",
    "    d2b = np.array([\n",
    "        [\n",
    "            np.max([xys[:,j]-im_size[j]/2, -im_size[j]/2-xys[:,j]], axis=0)\n",
    "            for j in range(2)\n",
    "        ]\n",
    "        for xys in xys_l45\n",
    "    ])  # shape (2, 2, n_fix)\n",
    "    oob = np.any(d2b >= 0, axis=1)  # shape (2, n_fix)\n",
    "\n",
    "    # - choose one of the two candidate control points according to 1 of 3 conditions\n",
    "    m0 = np.all(oob, axis=0)\n",
    "    m2 = np.all(~oob, axis=0)\n",
    "    m1 = ~(m0 | m2)\n",
    "    xys_control1 = np.empty_like(xys_fix1)\n",
    "    if np.any(m0):\n",
    "        xys_control1[m0] = [xys_l45[np.argmin(d2b[...,i].max(1)), i] for i in np.nonzero(m0)[0]]\n",
    "    if np.any(m1):\n",
    "        xys_control1[m1] = [xys_l45[np.argmin(oob[:,i]), i] for i in np.nonzero(m1)[0]]\n",
    "    if np.any(m2):\n",
    "        rand_par = (rg.random(size=m2.sum()) < 0.5).astype(int)\n",
    "        xys_control1[m2] = [xys_l45[p, i] for p, i in zip(rand_par, np.nonzero(m2)[0])]\n",
    "\n",
    "    # - quality control\n",
    "    for i, xys in enumerate((xys_fix1, xys_fix2, xys_control1, xys_control2)):\n",
    "        if i < 2:\n",
    "            # sanity check: control point must be equidistant to both fixations\n",
    "            assert np.allclose(np.linalg.norm(xys_control1 - xys, axis=1), np.linalg.norm(vs, axis=1))\n",
    "\n",
    "        d2b_ = np.array([\n",
    "            np.max([xys[:,j]-im_size[j]/2, -im_size[j]/2-xys[:,j]], axis=0)\n",
    "            for j in range(2)\n",
    "        ])\n",
    "        m = np.any(d2b_ >= 0, 0)\n",
    "        d2b__ = d2b_[:,m].max(0)\n",
    "        cond = ('Fixation 1', 'Fixation 2', 'Control 1 (equidist)', 'Control 2 (midpoint)')[i]\n",
    "        print(f'{cond +\":\":<18}\\t{m.mean()*100:4.1f}% out of image boundary', end='')\n",
    "        if np.any(m):\n",
    "            print(f'; d = {d2b__.mean():.1f} +/- {d2b__.std():.1f}')\n",
    "        else:\n",
    "            print()\n",
    "        d2b__ = -(d2b_.max(0))\n",
    "        print(f'\\tmean min dist to bound: {d2b__.mean():.1f} +/- {d2b__.std():.1f} dva')"
   ]
  },
  {
   "cell_type": "code",
   "execution_count": 15,
   "id": "3f42c159",
   "metadata": {
    "execution": {
     "iopub.execute_input": "2024-02-20T03:20:11.658459Z",
     "iopub.status.busy": "2024-02-20T03:20:11.657957Z",
     "iopub.status.idle": "2024-02-20T03:20:11.666824Z",
     "shell.execute_reply": "2024-02-20T03:20:11.666102Z"
    },
    "papermill": {
     "duration": 0.017391,
     "end_time": "2024-02-20T03:20:11.669659",
     "exception": false,
     "start_time": "2024-02-20T03:20:11.652268",
     "status": "completed"
    },
    "tags": []
   },
   "outputs": [],
   "source": [
    "ref_frames = np.array(('fix1', 'fix2', 'equidistant', 'midpoint')[:n_cond])\n",
    "if select_saccades:\n",
    "    xy_degs_conds = (xys_fix1, xys_fix2, xys_control1, xys_control2)\n",
    "else:\n",
    "    xy_degs_conds = (xys_fix2,)\n",
    "    ref_frames = ref_frames[:1]"
   ]
  },
  {
   "cell_type": "code",
   "execution_count": 16,
   "id": "02b470fe",
   "metadata": {
    "execution": {
     "iopub.execute_input": "2024-02-20T03:20:11.696968Z",
     "iopub.status.busy": "2024-02-20T03:20:11.696400Z",
     "iopub.status.idle": "2024-02-20T03:20:11.747144Z",
     "shell.execute_reply": "2024-02-20T03:20:11.746524Z"
    },
    "papermill": {
     "duration": 0.065125,
     "end_time": "2024-02-20T03:20:11.750336",
     "exception": false,
     "start_time": "2024-02-20T03:20:11.685211",
     "status": "completed"
    },
    "tags": []
   },
   "outputs": [],
   "source": [
    "group = analysis_name + '/fix_sel'\n",
    "if select_saccades:\n",
    "    save_results(\n",
    "        group, np.array([fix1_sel, fix2_sel]),\n",
    "        attrs=dict(dims=np.array(['fix_1_or_2', 'index'], dtype=np.bytes_)))\n",
    "else:\n",
    "    save_results(\n",
    "        group, fix2_sel,\n",
    "        attrs=dict(dims=np.array(['index'], dtype=np.bytes_)))\n",
    "\n",
    "if select_saccades:\n",
    "    group = analysis_name + '/control_points/'\n",
    "    attrs = dict(dims=np.array(['index', 'xy'], dtype=np.bytes_), unit='dva', comment='Relative to image center')\n",
    "    save_results(group+'equidistant', xys_control1, attrs=attrs)\n",
    "    save_results(group+'midpoint', xys_control2, attrs=attrs)"
   ]
  },
  {
   "cell_type": "markdown",
   "id": "d6d344b1",
   "metadata": {
    "papermill": {
     "duration": 0.00916,
     "end_time": "2024-02-20T03:20:11.774027",
     "exception": false,
     "start_time": "2024-02-20T03:20:11.764867",
     "status": "completed"
    },
    "tags": []
   },
   "source": [
    "# Get aligned responses"
   ]
  },
  {
   "cell_type": "code",
   "execution_count": 17,
   "id": "6f237bc7",
   "metadata": {
    "execution": {
     "iopub.execute_input": "2024-02-20T03:20:11.787512Z",
     "iopub.status.busy": "2024-02-20T03:20:11.787277Z",
     "iopub.status.idle": "2024-02-20T03:20:19.324778Z",
     "shell.execute_reply": "2024-02-20T03:20:19.324148Z"
    },
    "papermill": {
     "duration": 7.547037,
     "end_time": "2024-02-20T03:20:19.327846",
     "exception": false,
     "start_time": "2024-02-20T03:20:11.780809",
     "status": "completed"
    },
    "tags": []
   },
   "outputs": [],
   "source": [
    "with h5.File(sdf_path, 'r') as f:\n",
    "    dset = f['sdf']\n",
    "    all_unit_names = dset.attrs['unit_names'].astype(str)\n",
    "    if unit_names is None:\n",
    "        unit_names = all_unit_names\n",
    "        unit_sel = slice(None)\n",
    "        if 'unit_names' in f:\n",
    "            copy_group(f, 'unit_names', analysis_name+'/unit_names')\n",
    "    else:\n",
    "        all_unit_names = list(all_unit_names)\n",
    "        unit_sel = np.array([v in unit_names for v in all_unit_names])\n",
    "\n",
    "    sdf = dset[()][:,unit_sel]\n",
    "\n",
    "n_neur = sdf.shape[1]"
   ]
  },
  {
   "cell_type": "code",
   "execution_count": 18,
   "id": "94105367",
   "metadata": {
    "execution": {
     "iopub.execute_input": "2024-02-20T03:20:19.350111Z",
     "iopub.status.busy": "2024-02-20T03:20:19.349906Z",
     "iopub.status.idle": "2024-02-20T03:20:19.409796Z",
     "shell.execute_reply": "2024-02-20T03:20:19.409201Z"
    },
    "papermill": {
     "duration": 0.07853,
     "end_time": "2024-02-20T03:20:19.412810",
     "exception": false,
     "start_time": "2024-02-20T03:20:19.334280",
     "status": "completed"
    },
    "tags": []
   },
   "outputs": [
    {
     "name": "stdout",
     "output_type": "stream",
     "text": [
      "Num units using RF fit from each source:\n",
      "\tSource\n",
      "\tArray                 33\n",
      "\tArray, across sess    45\n",
      "\tChannel               16\n",
      "\tUnit                  12\n"
     ]
    }
   ],
   "source": [
    "if t_win > 0:\n",
    "    lat_df = pd.read_csv(latency_path).set_index('Session').loc[[sess_name]].set_index('Name')\n",
    "    m = pd.Series(unit_names).isin(lat_df.index)\n",
    "    assert m.all(), f'missing latency values for {(~m).sum()} of {m.size} units'\n",
    "    assert not lat_df.index.has_duplicates\n",
    "    lat_df = lat_df.loc[unit_names].reset_index()\n",
    "    assert len(lat_df) == len(unit_names)\n",
    "    lat_df['Index'] = np.arange(len(lat_df))\n",
    "    lat_df['Latency'] = np.clip(lat_df['Latency'], 40, None)\n",
    "    print('Num units using RF fit from each source:')\n",
    "    print('\\t' + '\\n\\t'.join(str(lat_df.groupby('Source').count()['Latency']).split('\\n')[:-1]))\n",
    "    lat_df.to_hdf(output_path, analysis_name+'/latency_per_unit', mode='a', format='table', complevel=9, complib='zlib')"
   ]
  },
  {
   "cell_type": "code",
   "execution_count": 19,
   "id": "6932b5fb",
   "metadata": {
    "execution": {
     "iopub.execute_input": "2024-02-20T03:20:19.441948Z",
     "iopub.status.busy": "2024-02-20T03:20:19.441618Z",
     "iopub.status.idle": "2024-02-20T03:20:20.647626Z",
     "shell.execute_reply": "2024-02-20T03:20:20.647021Z"
    },
    "papermill": {
     "duration": 1.223229,
     "end_time": "2024-02-20T03:20:20.650781",
     "exception": false,
     "start_time": "2024-02-20T03:20:19.427552",
     "status": "completed"
    },
    "tags": []
   },
   "outputs": [],
   "source": [
    "if t_aln == 'sacc_on':\n",
    "    t0s = fix_df.iloc[fix1_sel][['Time', 'Duration']].values.sum(1)\n",
    "else:\n",
    "    t0s = fix_df.iloc[fix2_sel]['Time'].values\n",
    "\n",
    "resps = np.empty_like(sdf, shape=(fix2_sel.size, ts.size, n_neur))\n",
    "\n",
    "if t_win > 0:\n",
    "    t_win_ = np.array([0, t_win])\n",
    "    lat_groups = [(dt, df_['Index'].values) for dt, df_ in lat_df.groupby('Latency')]\n",
    "    for i, t in enumerate(t0s):\n",
    "        for dt, usel in lat_groups:\n",
    "            s = slice(*np.round(t+dt+t_win_).astype(int))\n",
    "            resps[i,0,usel] = sdf[s,usel].mean(0)\n",
    "else:\n",
    "    for i, t in enumerate(t0s):\n",
    "        ts_ = np.round(t+ts).astype(int)\n",
    "        resps[i] = sdf[ts_,:]\n",
    "\n",
    "del sdf"
   ]
  },
  {
   "cell_type": "code",
   "execution_count": 20,
   "id": "66cfabff",
   "metadata": {
    "execution": {
     "iopub.execute_input": "2024-02-20T03:20:20.681612Z",
     "iopub.status.busy": "2024-02-20T03:20:20.681284Z",
     "iopub.status.idle": "2024-02-20T03:20:20.694711Z",
     "shell.execute_reply": "2024-02-20T03:20:20.693688Z"
    },
    "papermill": {
     "duration": 0.031363,
     "end_time": "2024-02-20T03:20:20.696985",
     "exception": false,
     "start_time": "2024-02-20T03:20:20.665622",
     "status": "completed"
    },
    "tags": []
   },
   "outputs": [
    {
     "data": {
      "text/plain": [
       "((5979, 1, 106), dtype('float32'))"
      ]
     },
     "execution_count": 20,
     "metadata": {},
     "output_type": "execute_result"
    }
   ],
   "source": [
    "Y = standardize(resps)\n",
    "Y.shape, Y.dtype"
   ]
  },
  {
   "cell_type": "code",
   "execution_count": 21,
   "id": "ab2845c4",
   "metadata": {
    "execution": {
     "iopub.execute_input": "2024-02-20T03:20:20.720050Z",
     "iopub.status.busy": "2024-02-20T03:20:20.719553Z",
     "iopub.status.idle": "2024-02-20T03:20:20.732494Z",
     "shell.execute_reply": "2024-02-20T03:20:20.731270Z"
    },
    "papermill": {
     "duration": 0.026381,
     "end_time": "2024-02-20T03:20:20.735969",
     "exception": false,
     "start_time": "2024-02-20T03:20:20.709588",
     "status": "completed"
    },
    "tags": []
   },
   "outputs": [],
   "source": [
    "save_results(analysis_name+'/unit_names', unit_names.astype(bytes))\n",
    "save_results(analysis_name+'/mean_responses', resps.mean(0), attrs=dict(\n",
    "    dims=np.array(['time', 'unit'], dtype=bytes),\n",
    "    n_fix=resps.shape[0]))"
   ]
  },
  {
   "cell_type": "markdown",
   "id": "7fd5e0e7",
   "metadata": {
    "papermill": {
     "duration": 0.008509,
     "end_time": "2024-02-20T03:20:20.758092",
     "exception": false,
     "start_time": "2024-02-20T03:20:20.749583",
     "status": "completed"
    },
    "tags": []
   },
   "source": [
    "# Define splits (group k-fold)"
   ]
  },
  {
   "cell_type": "code",
   "execution_count": 22,
   "id": "c8700894",
   "metadata": {
    "execution": {
     "iopub.execute_input": "2024-02-20T03:20:20.772265Z",
     "iopub.status.busy": "2024-02-20T03:20:20.771615Z",
     "iopub.status.idle": "2024-02-20T03:20:20.795861Z",
     "shell.execute_reply": "2024-02-20T03:20:20.795154Z"
    },
    "papermill": {
     "duration": 0.032865,
     "end_time": "2024-02-20T03:20:20.797634",
     "exception": false,
     "start_time": "2024-02-20T03:20:20.764769",
     "status": "completed"
    },
    "tags": []
   },
   "outputs": [
    {
     "name": "stdout",
     "output_type": "stream",
     "text": [
      "For group k-fold, loading catalog of similar images\n",
      "accounting for 0 pairs of similar images\n",
      "num training and testing points per split:\n",
      "split 0\t\ttrain:  4783 test: 1196\n",
      "split 1\t\ttrain:  4783 test: 1196\n",
      "split 2\t\ttrain:  4783 test: 1196\n",
      "split 3\t\ttrain:  4783 test: 1196\n",
      "split 4\t\ttrain:  4784 test: 1195\n"
     ]
    }
   ],
   "source": [
    "imfns = fix_df.iloc[fix2_sel]['Image filename']\n",
    "\n",
    "splits, train_mask = cv_split_by_image(\n",
    "    imfns, n_splits,\n",
    "    group_kfold=group_kfold, random_seed=random_seed)"
   ]
  },
  {
   "cell_type": "code",
   "execution_count": 23,
   "id": "584c57f3",
   "metadata": {
    "execution": {
     "iopub.execute_input": "2024-02-20T03:20:20.815809Z",
     "iopub.status.busy": "2024-02-20T03:20:20.815163Z",
     "iopub.status.idle": "2024-02-20T03:20:20.827373Z",
     "shell.execute_reply": "2024-02-20T03:20:20.826765Z"
    },
    "papermill": {
     "duration": 0.024139,
     "end_time": "2024-02-20T03:20:20.830244",
     "exception": false,
     "start_time": "2024-02-20T03:20:20.806105",
     "status": "completed"
    },
    "tags": []
   },
   "outputs": [],
   "source": [
    "save_results(analysis_name+'/fix_is_train', train_mask, attrs=dict(\n",
    "    dims=np.array(['split', 'fixation'], dtype=np.bytes_),\n",
    "    random_seed=random_seed,\n",
    "    group_kfold=group_kfold))"
   ]
  },
  {
   "cell_type": "markdown",
   "id": "ec4efda4",
   "metadata": {
    "papermill": {
     "duration": 0.007601,
     "end_time": "2024-02-20T03:20:20.849511",
     "exception": false,
     "start_time": "2024-02-20T03:20:20.841910",
     "status": "completed"
    },
    "tags": []
   },
   "source": [
    "# Load pre-computed model reprs"
   ]
  },
  {
   "cell_type": "code",
   "execution_count": 24,
   "id": "17beca44",
   "metadata": {
    "execution": {
     "iopub.execute_input": "2024-02-20T03:20:20.864130Z",
     "iopub.status.busy": "2024-02-20T03:20:20.863050Z",
     "iopub.status.idle": "2024-02-20T03:21:09.938231Z",
     "shell.execute_reply": "2024-02-20T03:21:09.937677Z"
    },
    "papermill": {
     "duration": 49.083353,
     "end_time": "2024-02-20T03:21:09.939721",
     "exception": false,
     "start_time": "2024-02-20T03:20:20.856368",
     "status": "completed"
    },
    "tags": []
   },
   "outputs": [
    {
     "name": "stdout",
     "output_type": "stream",
     "text": [
      "Features shape: (3072,)\n",
      "Patch-grid features shape: (793, 35, 35, 3072)\n"
     ]
    }
   ],
   "source": [
    "with h5.File(feats_path, 'r') as f:\n",
    "    patch_locs_x = f['config/patch_grid/x_locs'][()]\n",
    "    patch_locs_y = f['config/patch_grid/y_locs'][()]\n",
    "    patch_step = float(f['config/patch_grid/step'][()])\n",
    "\n",
    "    bg_feats = f['feats/bg'][()]\n",
    "\n",
    "    all_md5s = f['md5'][()].astype(str)\n",
    "    all_md5s = pd.Series(index=all_md5s, data=np.arange(len(all_md5s)), name='Index in file')\n",
    "    idc = all_md5s.loc[md5_catalog['MD5'].values]\n",
    "    md5_catalog['Index'] = np.arange(len(md5_catalog))\n",
    "\n",
    "    patch_grid_feats = np.empty(shape=(idc.size,patch_locs_x.size,patch_locs_y.size)+bg_feats.shape, dtype=bg_feats.dtype)\n",
    "    if fit_coefs_at == 'image':\n",
    "        full_image_feats = np.empty(shape=(idc.size,)+bg_feats.shape, dtype=bg_feats.dtype)\n",
    "    else:\n",
    "        full_image_feats = None\n",
    "    for ii, i in enumerate(idc.values):\n",
    "        patch_grid_feats[ii] = f['feats/patch_grid'][i]  # shape (n_patches_x, n_patches_y,) + feats_shape\n",
    "        if full_image_feats is not None:\n",
    "            full_image_feats[ii] = f['feats/full_image'][i]\n",
    "\n",
    "    copy_group(f, 'config', analysis_name+'/config/feats')\n",
    "\n",
    "feats_shape = bg_feats.shape\n",
    "print('Features shape:', feats_shape)\n",
    "print('Patch-grid features shape:', patch_grid_feats.shape)\n",
    "if full_image_feats is not None:\n",
    "    print(f'Full-image features shape: {full_image_feats.shape}')\n",
    "\n",
    "iims = np.array([\n",
    "    md5_catalog.loc[(row['Image subdir'], row['Image filename']), 'Index']\n",
    "    for i, (_, row) in enumerate(fix_df.iloc[fix2_sel].iterrows())])\n",
    "patch_bins_x = np.concatenate([\n",
    "    patch_locs_x-patch_step/2, [patch_locs_x[-1]+patch_step/2]])\n",
    "patch_bins_y = np.concatenate([\n",
    "    patch_locs_y-patch_step/2, [patch_locs_y[-1]+patch_step/2]])"
   ]
  },
  {
   "cell_type": "code",
   "execution_count": 25,
   "id": "6af2aca8",
   "metadata": {
    "execution": {
     "iopub.execute_input": "2024-02-20T03:21:09.951682Z",
     "iopub.status.busy": "2024-02-20T03:21:09.951463Z",
     "iopub.status.idle": "2024-02-20T03:21:09.956392Z",
     "shell.execute_reply": "2024-02-20T03:21:09.955485Z"
    },
    "papermill": {
     "duration": 0.012466,
     "end_time": "2024-02-20T03:21:09.957696",
     "exception": false,
     "start_time": "2024-02-20T03:21:09.945230",
     "status": "completed"
    },
    "tags": []
   },
   "outputs": [],
   "source": [
    "def recon_stim(*args, **kwargs):\n",
    "    return get_patches_from_grid(\n",
    "        *args, patch_bins_x=patch_bins_x, patch_bins_y=patch_bins_y, **kwargs)"
   ]
  },
  {
   "cell_type": "markdown",
   "id": "caa37877",
   "metadata": {
    "papermill": {
     "duration": 0.00525,
     "end_time": "2024-02-20T03:21:09.968248",
     "exception": false,
     "start_time": "2024-02-20T03:21:09.962998",
     "status": "completed"
    },
    "tags": []
   },
   "source": [
    "# Load preliminary rf map if fitting coefs at peak"
   ]
  },
  {
   "cell_type": "code",
   "execution_count": 26,
   "id": "ff066b7e",
   "metadata": {
    "execution": {
     "iopub.execute_input": "2024-02-20T03:21:09.981405Z",
     "iopub.status.busy": "2024-02-20T03:21:09.980574Z",
     "iopub.status.idle": "2024-02-20T03:21:10.067162Z",
     "shell.execute_reply": "2024-02-20T03:21:10.066549Z"
    },
    "papermill": {
     "duration": 0.095166,
     "end_time": "2024-02-20T03:21:10.068710",
     "exception": false,
     "start_time": "2024-02-20T03:21:09.973544",
     "status": "completed"
    },
    "tags": []
   },
   "outputs": [],
   "source": [
    "# if fitting at peak, load coefs\n",
    "if fit_coefs_at == 'peak':\n",
    "    rf_ds = xr.load_dataset(\n",
    "        rfmap_path, group=rfmap_analysis+'/data',\n",
    "        engine='h5netcdf')\n",
    "    # As of xarray 2023.4.2, load_dataset(.) without specifying the engine \n",
    "    # does not close file properly as claimed in the docs.\n",
    "    # Such behavior prevents later opening the same file (if using) to write.\n",
    "    # Thankfully, using the h5netcdf engine seems to avoid the bug.\n",
    "\n",
    "    if rf_ds.dims['ref_frame'] == len(ref_frames):\n",
    "        assert not len(set(ref_frames) - set(rf_ds.coords['ref_frame'].values))\n",
    "        indices = list(rf_ds.coords['ref_frame'].values)\n",
    "        idc_ref = [indices.index(v) for v in ref_frames]\n",
    "    else:\n",
    "        assert rf_ds.dims['ref_frame'] == 1\n",
    "        idc_ref = slice(None)\n",
    "\n",
    "    if rf_ds.dims['time'] == 1:\n",
    "        idc_t = slice(None)\n",
    "    else:\n",
    "        assert rf_ds.dims['time'] == len(ts)\n",
    "        assert not len(set(ts) - set(rf_ds.coords['time'].values))\n",
    "        indices = list(rf_ds.coords['time'].values)\n",
    "        idc_t = [indices.index(v) for v in ts]\n",
    "\n",
    "    assert rf_ds.dims['split'] == n_splits\n",
    "\n",
    "    assert (not len(set(unit_names) - set(rf_ds.coords['unit'].values))\n",
    "            or not len({'Unit/' + n for n in unit_names} - set(rf_ds.coords['unit'].values)))\n",
    "    indices = list(rf_ds.coords['unit'].values)\n",
    "    idc_u = np.empty(len(unit_names), dtype=np.uint)\n",
    "    for i, n in enumerate(unit_names):\n",
    "        # both will fail if n is not found in the unit names in rf_ds\n",
    "        try:\n",
    "            idc_u[i] = indices.index(n)\n",
    "        except ValueError:\n",
    "            idc_u[i] = indices.index('Unit/'+n)\n",
    "\n",
    "    rfs = rf_ds[rfmap_dset].transpose('ref_frame', 'time', 'split', 'unit', 'rf_x', 'rf_y').values\n",
    "    rfs = rfs[idc_ref][:,idc_t][:,:,:,idc_u]\n",
    "    rfs = np.broadcast_to(rfs, (ref_frames.size, ts.size, n_splits, unit_names.size) + rfs.shape[-2:])\n",
    "    rf_x = rf_ds.coords['rf_x'].values\n",
    "    rf_y = rf_ds.coords['rf_y'].values\n",
    "\n",
    "else:\n",
    "    rfs = None"
   ]
  },
  {
   "cell_type": "markdown",
   "id": "16cf0725",
   "metadata": {
    "papermill": {
     "duration": 0.005388,
     "end_time": "2024-02-20T03:21:10.080083",
     "exception": false,
     "start_time": "2024-02-20T03:21:10.074695",
     "status": "completed"
    },
    "tags": []
   },
   "source": [
    "# Main"
   ]
  },
  {
   "cell_type": "code",
   "execution_count": 27,
   "id": "3c38495f",
   "metadata": {
    "execution": {
     "iopub.execute_input": "2024-02-20T03:21:10.092802Z",
     "iopub.status.busy": "2024-02-20T03:21:10.092266Z",
     "iopub.status.idle": "2024-02-20T03:21:10.098698Z",
     "shell.execute_reply": "2024-02-20T03:21:10.097777Z"
    },
    "papermill": {
     "duration": 0.014727,
     "end_time": "2024-02-20T03:21:10.100134",
     "exception": false,
     "start_time": "2024-02-20T03:21:10.085407",
     "status": "completed"
    },
    "tags": []
   },
   "outputs": [],
   "source": [
    "def eval_cv_corr(X, Y, splits):\n",
    "    assert X.ndim == 3  # (n_split, n_fix, n_unit)\n",
    "    assert Y.ndim == 2  # (n_fix, n_unit)\n",
    "\n",
    "    n_split = len(splits)\n",
    "    n_unit = Y.shape[1]\n",
    "\n",
    "    corr_pers = np.full((n_split, n_unit), np.nan)\n",
    "    corr = np.full(n_unit, np.nan)\n",
    "\n",
    "    for iu in range(n_unit):\n",
    "        cv_X_ = np.empty_like(X[0,:,0])  # shape (n_fix,)\n",
    "\n",
    "        for isp, (i0, i1) in enumerate(splits):\n",
    "            cv_X_[i1] = X_ = X[isp,i1,iu]\n",
    "            if np.any(~np.isfinite(X_)):\n",
    "                continue\n",
    "            corr_pers[isp,iu] = pearsonr(X_, Y_[i1,iu])\n",
    "\n",
    "        if np.all(np.isfinite(cv_X_)):\n",
    "            corr[iu] = pearsonr(cv_X_, Y_[:,iu])\n",
    "\n",
    "    return corr, corr_pers"
   ]
  },
  {
   "cell_type": "code",
   "execution_count": 28,
   "id": "f12043ae",
   "metadata": {
    "execution": {
     "iopub.execute_input": "2024-02-20T03:21:10.112750Z",
     "iopub.status.busy": "2024-02-20T03:21:10.112156Z",
     "iopub.status.idle": "2024-02-20T03:21:10.120389Z",
     "shell.execute_reply": "2024-02-20T03:21:10.119578Z"
    },
    "papermill": {
     "duration": 0.017624,
     "end_time": "2024-02-20T03:21:10.123132",
     "exception": false,
     "start_time": "2024-02-20T03:21:10.105508",
     "status": "completed"
    },
    "tags": []
   },
   "outputs": [],
   "source": [
    "n_win = len(ts)\n",
    "n_split = n_splits\n",
    "n_loc = len(rf_locs)\n",
    "n_unit = len(unit_names)\n",
    "\n",
    "coef_locs = np.full((n_cond, n_win, n_split, n_unit, 2), np.nan, dtype=np.float32)\n",
    "cv_corrs = np.full((n_cond, n_win, n_loc, n_loc, n_unit), np.nan, dtype=np.float32)\n",
    "cv_corrs_per_split = np.full((n_cond, n_win, n_split, n_loc, n_loc, n_unit), np.nan, dtype=np.float32)"
   ]
  },
  {
   "cell_type": "code",
   "execution_count": 29,
   "id": "dcf532b2",
   "metadata": {
    "execution": {
     "iopub.execute_input": "2024-02-20T03:21:10.149567Z",
     "iopub.status.busy": "2024-02-20T03:21:10.148448Z",
     "iopub.status.idle": "2024-02-20T03:32:36.093644Z",
     "shell.execute_reply": "2024-02-20T03:32:36.092783Z"
    },
    "papermill": {
     "duration": 685.961046,
     "end_time": "2024-02-20T03:32:36.098498",
     "exception": false,
     "start_time": "2024-02-20T03:21:10.137452",
     "status": "completed"
    },
    "tags": []
   },
   "outputs": [    {
     "name": "stderr",
     "output_type": "stream",
     "text": [
      "\r",
      "100%|█████████████████████████████████████████| 225/225 [11:25<00:00,  3.05s/it]"
     ]
    },
    {
     "name": "stderr",
     "output_type": "stream",
     "text": [
      "\n"
     ]
    }
   ],
   "source": [
    "coefs = None\n",
    "coefs_ic = -1\n",
    "coefs_ic_iw = (-1, -1)\n",
    "\n",
    "for (ic, xy_degs), (iw, _), (iy, dy), (ix, dx) in tqdm(\n",
    "        itertools.product(enumerate(xy_degs_conds), enumerate(ts), enumerate(rf_locs), enumerate(rf_locs)),\n",
    "        total=n_cond*n_win*n_loc**2):\n",
    "    Y_ = Y[:,iw]  # shape (n_fix, n_unit)\n",
    "\n",
    "\n",
    "    # ================================\n",
    "    # Fit coefs (i.e., feature weights)\n",
    "    # ================================\n",
    "    # this step is slow; refresh only only if needed\n",
    "    # coefs shape: (n_split, n_unit, n_feat)\n",
    "    new_coefs = True\n",
    "\n",
    "    if fit_coefs_at == 'peak' and coefs_ic_iw != (ic, iw):\n",
    "        coefs = np.empty((n_split, n_unit, bg_feats.size), dtype=np.float32)\n",
    "        incl = np.isfinite(rfs[ic,iw]).any((-1,-2))\n",
    "        incl_idc = np.nonzero(incl.ravel())[0]\n",
    "        coefs[~incl] = np.nan\n",
    "        rfs_ = rfs[ic,iw,incl]  # shape (nsp x nu, nx, ny)\n",
    "        ixys = np.nanargmax(rfs_.reshape(len(rfs_),-1), axis=-1)  # find peak dxy per neuron\n",
    "\n",
    "        s = pd.Series(ixys)\n",
    "        for ixy, idc in s.groupby(s):  # recon stim per offset\n",
    "            idc = incl_idc[idc.index.values]\n",
    "            isps, ius = np.unravel_index(idc, (n_split, n_unit))\n",
    "\n",
    "            ix_, iy_ = np.unravel_index(ixy, (rf_x.size, rf_y.size))\n",
    "            dxy = rf_x[ix_], rf_y[iy_]\n",
    "            X = standardize(recon_stim(iims, xy_degs+dxy, patch_grid_feats, bg_feats))\n",
    "            coef_locs[ic,iw,isps,ius] = dxy\n",
    "\n",
    "            # fit coef per split; vectorize over units as much as possible\n",
    "            s2 = pd.Series(isps)\n",
    "            for isp, ius2 in s2.groupby(s2):\n",
    "                ius2 = ius[ius2.index.values]\n",
    "                coefs[isp,ius2] = cv_ridge_predict(\n",
    "                    X, Y_[:,ius2], [splits[isp]], ridge_alpha,\n",
    "                    return_pred=False, return_coefs=True)\n",
    "        coefs_ic_iw = (ic, iw)\n",
    "\n",
    "    elif fit_coefs_at == 'fovea' and coefs_ic != ic:\n",
    "        X = reconstruct_stimuli(iims, patch_feats, bg_feats, xy_degs)\n",
    "        coef_locs[ic,iw] = 0\n",
    "        coefs = cross_val_predict(\n",
    "            X, Y_, splits, ridge_alpha,\n",
    "            return_pred=False, return_coefs=True)\n",
    "        coefs_ic = ic\n",
    "\n",
    "    elif fit_coefs_at == 'full_image' and coefs is None:\n",
    "        X = reconstruct_stimuli(iims, full_image_feats, bg_feats, None)\n",
    "        coefs = cross_val_predict(\n",
    "            X, Y_, splits, ridge_alpha,\n",
    "            return_pred=False, return_coefs=True)\n",
    "\n",
    "    else:\n",
    "        new_coefs = False\n",
    "\n",
    "    if new_coefs:\n",
    "        coefs_g = np.linalg.norm(coefs, axis=-1, keepdims=True)\n",
    "        coefs_g[coefs_g==0] = 1\n",
    "        coefs /= coefs_g\n",
    "\n",
    "\n",
    "    # ================================\n",
    "    # Reverse correlation\n",
    "    # ================================\n",
    "    X = standardize(recon_stim(iims, xy_degs+[dx,dy], patch_grid_feats, bg_feats))\n",
    "    X = np.einsum('xf,suf->sxu', X, coefs)  # shape (n_split, n_fix, n_unit)\n",
    "\n",
    "    corr, corr_pers = eval_cv_corr(X, Y_, splits)\n",
    "\n",
    "    cv_corrs[ic,iw,iy,ix,:] = corr\n",
    "    cv_corrs_per_split[ic,iw,:,iy,ix,:] = corr_pers"
   ]
  },
  {
   "cell_type": "code",
   "execution_count": 30,
   "id": "b7a76cc2",
   "metadata": {
    "execution": {
     "iopub.execute_input": "2024-02-20T03:32:36.144278Z",
     "iopub.status.busy": "2024-02-20T03:32:36.143795Z",
     "iopub.status.idle": "2024-02-20T03:32:36.698424Z",
     "shell.execute_reply": "2024-02-20T03:32:36.697690Z"
    },
    "papermill": {
     "duration": 0.574597,
     "end_time": "2024-02-20T03:32:36.701552",
     "exception": false,
     "start_time": "2024-02-20T03:32:36.126955",
     "status": "completed"
    },
    "tags": []
   },
   "outputs": [],
   "source": [
    "dims = np.array(('ref_frame', 'time', 'split', 'rf_y', 'rf_x', 'unit', 'axis'))\n",
    "coords = dict((\n",
    "    ('ref_frame', ref_frames),\n",
    "    ('time', ts),\n",
    "    ('split', np.arange(n_split)),\n",
    "    ('rf_y', rf_locs),\n",
    "    ('rf_x', rf_locs),\n",
    "    ('unit', unit_names),\n",
    "    ('axis', np.array(list('xy')))))\n",
    "attrs = dict(\n",
    "    ifix_sel=ifix_sel,\n",
    "    n_fix=fix2_sel.size,\n",
    "    group_kfold=int(group_kfold),\n",
    "    feat_shape=feats_shape,\n",
    "    ridge_alpha=ridge_alpha,\n",
    "    t_aln=t_aln)\n",
    "\n",
    "q = lambda x: quantize(x, 3)\n",
    "data_vars = {\n",
    "    'corr': (dims[[0,1,3,4,5]], q(cv_corrs)),\n",
    "    'corr_per_split': (dims[:-1], q(cv_corrs_per_split)),\n",
    "    'coef_loc': (dims[[0,1,2,5,-1]], coef_locs)}\n",
    "dataset = xr.Dataset(data_vars, coords=coords, attrs=attrs)\n",
    "\n",
    "compr = dict(zlib=True, complevel=9)\n",
    "encoding = {\n",
    "    k: dict(chunksizes=v.shape, **compr)\n",
    "    for k, v in dataset.data_vars.items()}\n",
    "dataset.to_netcdf(\n",
    "    output_path, group=analysis_name+'/data',\n",
    "    mode='a', engine='h5netcdf', encoding=encoding)"
   ]
  },
  {
   "cell_type": "markdown",
   "id": "c3d8dfb2",
   "metadata": {
    "papermill": {
     "duration": 0.014277,
     "end_time": "2024-02-20T03:32:36.745470",
     "exception": false,
     "start_time": "2024-02-20T03:32:36.731193",
     "status": "completed"
    },
    "tags": []
   },
   "source": [
    "# Wrap up"
   ]
  },
  {
   "cell_type": "code",
   "execution_count": 31,
   "id": "6819d0ed",
   "metadata": {
    "execution": {
     "iopub.execute_input": "2024-02-20T03:32:36.805232Z",
     "iopub.status.busy": "2024-02-20T03:32:36.804902Z",
     "iopub.status.idle": "2024-02-20T03:32:36.809270Z",
     "shell.execute_reply": "2024-02-20T03:32:36.808707Z"
    },
    "papermill": {
     "duration": 0.018607,
     "end_time": "2024-02-20T03:32:36.810213",
     "exception": false,
     "start_time": "2024-02-20T03:32:36.791606",
     "status": "completed"
    },
    "tags": []
   },
   "outputs": [],
   "source": [
    "save_results(f'progress_report/{analysis_name}/all_done', True)"
   ]
  },
  {
   "cell_type": "code",
   "execution_count": 32,
   "id": "76cac67c",
   "metadata": {
    "execution": {
     "iopub.execute_input": "2024-02-20T03:32:36.836076Z",
     "iopub.status.busy": "2024-02-20T03:32:36.835636Z",
     "iopub.status.idle": "2024-02-20T03:32:36.876208Z",
     "shell.execute_reply": "2024-02-20T03:32:36.874966Z"
    },
    "papermill": {
     "duration": 0.056556,
     "end_time": "2024-02-20T03:32:36.878967",
     "exception": false,
     "start_time": "2024-02-20T03:32:36.822411",
     "status": "completed"
    },
    "tags": []
   },
   "outputs": [
    {
     "name": "stdout",
     "output_type": "stream",
     "text": [
      "Last updated: 2024-02-19T22:32:36.845841-05:00\n",
      "\n",
      "Python implementation: CPython\n",
      "Python version       : 3.10.12\n",
      "IPython version      : 8.12.0\n",
      "\n",
      "Compiler    : GCC 11.4.0\n",
      "OS          : Linux\n",
      "Release     : 5.15.0-92-generic\n",
      "Machine     : x86_64\n",
      "Processor   : x86_64\n",
      "CPU cores   : 20\n",
      "Architecture: 64bit\n",
      "\n",
      "Python implementation: CPython\n",
      "Python version       : 3.10.12\n",
      "IPython version      : 8.12.0\n",
      "\n",
      "Compiler    : GCC 11.4.0\n",
      "OS          : Linux\n",
      "Release     : 5.15.0-92-generic\n",
      "Machine     : x86_64\n",
      "Processor   : x86_64\n",
      "CPU cores   : 20\n",
      "Architecture: 64bit\n",
      "\n",
      "Git hash: b0bb10f45dee065cc3af96fe224326b883d27431\n",
      "\n",
      "Git repo: https://github.com/willwx/free_viewing_staging.git\n",
      "\n",
      "Git branch: master\n",
      "\n",
      "h5py  : 3.8.0\n",
      "pandas: 2.0.1\n",
      "numpy : 1.24.3\n",
      "xarray: 2023.4.2\n",
      "sys   : 3.10.12 (main, Nov 20 2023, 15:14:05) [GCC 11.4.0]\n",
      "\n"
     ]
    }
   ],
   "source": [
    "%load_ext watermark\n",
    "%watermark\n",
    "%watermark -vm --iversions -rbg"
   ]
  },
  {
   "cell_type": "markdown",
   "id": "6c3ed3b5",
   "metadata": {
    "papermill": {
     "duration": 0.01313,
     "end_time": "2024-02-20T03:32:36.918203",
     "exception": false,
     "start_time": "2024-02-20T03:32:36.905073",
     "status": "completed"
    },
    "tags": []
   },
   "source": [
    "# Basic visualization of results"
   ]
  },
  {
   "cell_type": "code",
   "execution_count": 33,
   "id": "e2e5bbc8",
   "metadata": {
    "execution": {
     "iopub.execute_input": "2024-02-20T03:32:36.945053Z",
     "iopub.status.busy": "2024-02-20T03:32:36.944186Z",
     "iopub.status.idle": "2024-02-20T03:32:37.289460Z",
     "shell.execute_reply": "2024-02-20T03:32:37.288787Z"
    },
    "papermill": {
     "duration": 0.362076,
     "end_time": "2024-02-20T03:32:37.292479",
     "exception": false,
     "start_time": "2024-02-20T03:32:36.930403",
     "status": "completed"
    },
    "tags": []
   },
   "outputs": [],
   "source": [
    "import matplotlib.pyplot as plt\n",
    "import seaborn as sns"
   ]
  },
  {
   "cell_type": "code",
   "execution_count": 34,
   "id": "0142d0b0",
   "metadata": {
    "execution": {
     "iopub.execute_input": "2024-02-20T03:32:37.328783Z",
     "iopub.status.busy": "2024-02-20T03:32:37.328423Z",
     "iopub.status.idle": "2024-02-20T03:32:37.463340Z",
     "shell.execute_reply": "2024-02-20T03:32:37.462851Z"
    },
    "papermill": {
     "duration": 0.151706,
     "end_time": "2024-02-20T03:32:37.464703",
     "exception": false,
     "start_time": "2024-02-20T03:32:37.312997",
     "status": "completed"
    },
    "tags": []
   },
   "outputs": [
    {
     "data": {
      "image/png": "[encoded data removed]",
      "text/plain": [
       "<Figure size 640x480 with 1 Axes>"
      ]
     },
     "metadata": {},
     "output_type": "display_data"
    }
   ],
   "source": [
    "if fit_coefs_at == 'peak':\n",
    "    vals = coef_locs.reshape(-1, coef_locs.shape[-1])\n",
    "    vals = vals[np.isfinite(vals).all(1)]\n",
    "    plt.hist2d(*vals.T, bins=len(rf_locs))\n",
    "    plt.gca().set_aspect('equal')"
   ]
  },
  {
   "cell_type": "code",
   "execution_count": 35,
   "id": "dafdf145",
   "metadata": {
    "execution": {
     "iopub.execute_input": "2024-02-20T03:32:37.493340Z",
     "iopub.status.busy": "2024-02-20T03:32:37.492778Z",
     "iopub.status.idle": "2024-02-20T03:32:39.829148Z",
     "shell.execute_reply": "2024-02-20T03:32:39.827746Z"
    },
    "papermill": {
     "duration": 2.351956,
     "end_time": "2024-02-20T03:32:39.830730",
     "exception": false,
     "start_time": "2024-02-20T03:32:37.478774",
     "status": "completed"
    },
    "tags": []
   },
   "outputs": [
    {
     "data": {
      "image/png": "[encoded data removed]",
      "text/plain": [
       "<Figure size 640x480 with 1 Axes>"
      ]
     },
     "metadata": {},
     "output_type": "display_data"
    }
   ],
   "source": [
    "df = {'Condition': [], 'X': [], 'Y': []}\n",
    "for i, xys in enumerate(xy_degs_conds):\n",
    "    if select_saccades:\n",
    "        cond = ('Fixation 1', 'Fixation 2', 'Equidistant control', 'Midpoint control')[i]\n",
    "    else:\n",
    "        cond = 'Default'\n",
    "    df['Condition'].append(np.full(len(xys), cond))\n",
    "    df['X'].append(xys[:,0])\n",
    "    df['Y'].append(xys[:,1])\n",
    "for k in df.keys():\n",
    "    df[k] = np.concatenate(df[k])\n",
    "df = pd.DataFrame(df)\n",
    "ax = sns.kdeplot(data=df, x='X', y='Y', hue='Condition', levels=3)\n",
    "ax.set_title('Distribution of selected fixations')\n",
    "ax.set_xlabel('X, dva')\n",
    "ax.set_ylabel('Y, dva')\n",
    "ax.set_aspect('equal')"
   ]
  },
  {
   "cell_type": "code",
   "execution_count": 36,
   "id": "c3888f43",
   "metadata": {
    "execution": {
     "iopub.execute_input": "2024-02-20T03:32:39.860748Z",
     "iopub.status.busy": "2024-02-20T03:32:39.860127Z",
     "iopub.status.idle": "2024-02-20T03:32:39.868452Z",
     "shell.execute_reply": "2024-02-20T03:32:39.867332Z"
    },
    "papermill": {
     "duration": 0.027642,
     "end_time": "2024-02-20T03:32:39.871551",
     "exception": false,
     "start_time": "2024-02-20T03:32:39.843909",
     "status": "completed"
    },
    "tags": []
   },
   "outputs": [],
   "source": [
    "if select_saccades:\n",
    "    sacc_vecs = (\n",
    "        fix_df.iloc[fix2_sel][['Relative X', 'Relative Y']].values\n",
    "        - fix_df.iloc[fix1_sel][['Relative X', 'Relative Y']].values)\n",
    "    plt.hist2d(x=sacc_vecs[:,0], y=sacc_vecs[:,1], cmap='gist_gray_r')\n",
    "    plt.xlabel('X, dva')\n",
    "    plt.ylabel('Y, dva')\n",
    "    plt.title('Distribution of selected saccade vectors')\n",
    "    plt.gca().set_aspect('equal')"
   ]
  },
  {
   "cell_type": "code",
   "execution_count": 37,
   "id": "b7f5ba79",
   "metadata": {
    "execution": {
     "iopub.execute_input": "2024-02-20T03:32:39.916952Z",
     "iopub.status.busy": "2024-02-20T03:32:39.916266Z",
     "iopub.status.idle": "2024-02-20T03:32:40.122553Z",
     "shell.execute_reply": "2024-02-20T03:32:40.121334Z"
    },
    "papermill": {
     "duration": 0.223536,
     "end_time": "2024-02-20T03:32:40.124168",
     "exception": false,
     "start_time": "2024-02-20T03:32:39.900632",
     "status": "completed"
    },
    "tags": []
   },
   "outputs": [
    {
     "data": {
      "image/png": "[encoded data removed]",
      "text/plain": [
       "<Figure size 640x480 with 1 Axes>"
      ]
     },
     "metadata": {},
     "output_type": "display_data"
    }
   ],
   "source": [
    "plt.plot(ts, resps.mean((0,2)), '.-')\n",
    "plt.xlabel(f'Time aligned to {t_aln}, ms')\n",
    "plt.ylabel('Grand mean FR, spks/s');"
   ]
  },
  {
   "cell_type": "code",
   "execution_count": 38,
   "id": "5fdcdcc1",
   "metadata": {
    "execution": {
     "iopub.execute_input": "2024-02-20T03:32:40.152900Z",
     "iopub.status.busy": "2024-02-20T03:32:40.152453Z",
     "iopub.status.idle": "2024-02-20T03:32:40.372146Z",
     "shell.execute_reply": "2024-02-20T03:32:40.371573Z"
    },
    "papermill": {
     "duration": 0.238261,
     "end_time": "2024-02-20T03:32:40.375986",
     "exception": false,
     "start_time": "2024-02-20T03:32:40.137725",
     "status": "completed"
    },
    "tags": []
   },
   "outputs": [
    {
     "data": {
      "image/png": "[encoded data removed]",
      "text/plain": [
       "<Figure size 640x480 with 2 Axes>"
      ]
     },
     "metadata": {},
     "output_type": "display_data"
    }
   ],
   "source": [
    "vr = abs(np.nanpercentile(np.nanmean(cv_corrs,-1), 99.5))\n",
    "\n",
    "i = np.argmin(np.abs(ts - 200))\n",
    "map_ = np.ma.masked_invalid(cv_corrs[0,i,:,:,:]).mean(-1).filled(np.nan)\n",
    "cm = plt.imshow(map_, cmap='RdGy', origin='lower', extent=rf_extent, vmin=-vr, vmax=vr)\n",
    "cb = plt.colorbar(cm)\n",
    "cb.ax.set_ylabel('Model-based rev. corr., r')\n",
    "plt.xlabel('X, dva')\n",
    "plt.ylabel('Y, dva')\n",
    "if select_saccades:\n",
    "    plt.title(f'Fix 1-aligned model performance, {ts[i]} ms')\n",
    "else:\n",
    "    plt.title(f'Fixation-aligned model performance, {ts[i]} ms')"
   ]
  },
  {
   "cell_type": "code",
   "execution_count": 39,
   "id": "bed7c83b",
   "metadata": {
    "execution": {
     "iopub.execute_input": "2024-02-20T03:32:40.423413Z",
     "iopub.status.busy": "2024-02-20T03:32:40.422523Z",
     "iopub.status.idle": "2024-02-20T03:32:40.430000Z",
     "shell.execute_reply": "2024-02-20T03:32:40.429428Z"
    },
    "papermill": {
     "duration": 0.025731,
     "end_time": "2024-02-20T03:32:40.432576",
     "exception": false,
     "start_time": "2024-02-20T03:32:40.406845",
     "status": "completed"
    },
    "tags": []
   },
   "outputs": [],
   "source": [
    "if select_saccades:\n",
    "    i = np.argmin(np.abs(ts - 200))\n",
    "    map_ = np.ma.masked_invalid(cv_corrs[1,i,:,:,:]).mean(-1).filled(np.nan)\n",
    "    cm = plt.imshow(map_, cmap='RdGy', origin='lower', extent=rf_extent, vmin=-vr, vmax=vr)\n",
    "    cb = plt.colorbar(cm)\n",
    "    cb.ax.set_ylabel('Model-based rev. corr., r')\n",
    "    plt.xlabel('X, dva')\n",
    "    plt.ylabel('Y, dva')\n",
    "    plt.title(f'Fix 2-aligned model performance, {ts[i]} ms');"
   ]
  },
  {
   "cell_type": "code",
   "execution_count": 40,
   "id": "4bf1c659",
   "metadata": {
    "execution": {
     "iopub.execute_input": "2024-02-20T03:32:40.473667Z",
     "iopub.status.busy": "2024-02-20T03:32:40.473435Z",
     "iopub.status.idle": "2024-02-20T03:32:40.477779Z",
     "shell.execute_reply": "2024-02-20T03:32:40.477204Z"
    },
    "papermill": {
     "duration": 0.020636,
     "end_time": "2024-02-20T03:32:40.478901",
     "exception": false,
     "start_time": "2024-02-20T03:32:40.458265",
     "status": "completed"
    },
    "tags": []
   },
   "outputs": [],
   "source": [
    "if select_saccades:\n",
    "    i = np.argmin(np.abs(ts))\n",
    "    map_ = np.ma.masked_invalid(cv_corrs[1,i,:,:,:]).mean(-1).filled(np.nan)\n",
    "    cm = plt.imshow(map_, cmap='RdGy', origin='lower', extent=rf_extent, vmin=-vr, vmax=vr)\n",
    "    cb = plt.colorbar(cm)\n",
    "    cb.ax.set_ylabel('Model-based rev. corr., r')\n",
    "    plt.xlabel('X, dva')\n",
    "    plt.ylabel('Y, dva')\n",
    "    plt.title(f'Fix 2-aligned model performance, {ts[i]} ms');"
   ]
  },
  {
   "cell_type": "code",
   "execution_count": 41,
   "id": "d1a0cb7f",
   "metadata": {
    "execution": {
     "iopub.execute_input": "2024-02-20T03:32:40.508020Z",
     "iopub.status.busy": "2024-02-20T03:32:40.507601Z",
     "iopub.status.idle": "2024-02-20T03:32:40.570203Z",
     "shell.execute_reply": "2024-02-20T03:32:40.568844Z"
    },
    "papermill": {
     "duration": 0.082754,
     "end_time": "2024-02-20T03:32:40.575592",
     "exception": false,
     "start_time": "2024-02-20T03:32:40.492838",
     "status": "completed"
    },
    "tags": []
   },
   "outputs": [
    {
     "data": {
      "image/png": "[encoded data removed]",
      "text/plain": [
       "<Figure size 300x300 with 1 Axes>"
      ]
     },
     "metadata": {},
     "output_type": "display_data"
    }
   ],
   "source": [
    "h = 3 * cv_corrs.shape[0]\n",
    "w = min(h / cv_corrs.shape[0] * cv_corrs.shape[1], 20)\n",
    "h = min(h, w / cv_corrs.shape[1] * cv_corrs.shape[0])\n",
    "plt.figure(figsize=(w,h))\n",
    "a = np.ma.masked_invalid(cv_corrs).mean(-1)\n",
    "a = a.filled(np.nan)\n",
    "a = a[:,:,::-1,:]  # flip y such that the first rows now correspond to larger y\n",
    "a = np.hstack(np.hstack(a))\n",
    "plt.imshow(a, cmap='RdGy', vmin=-vr, vmax=vr);\n",
    "ax = plt.gca()\n",
    "ax.set_xticks([])\n",
    "ax.set_yticks([])\n",
    "[v.set_visible(False) for v in ax.spines.values()]\n",
    "plt.xlabel('Response window')\n",
    "plt.ylabel('Condition')\n",
    "plt.title('Mean 3D map per condition');"
   ]
  }
 ],
 "metadata": {
  "kernelspec": {
   "display_name": "Python 3 (ipykernel)",
   "language": "python",
   "name": "python3"
  },
  "language_info": {
   "codemirror_mode": {
    "name": "ipython",
    "version": 3
   },
   "file_extension": ".py",
   "mimetype": "text/x-python",
   "name": "python",
   "nbconvert_exporter": "python",
   "pygments_lexer": "ipython3",
   "version": "3.10.12"
  },
  "papermill": {
   "default_parameters": {},
   "duration": 751.707359,
   "end_time": "2024-02-20T03:32:41.130416",
   "environment_variables": {},
   "exception": null,
   "input_path": "script_6b_feat_corr_map.ipynb",
   "output_path": "../test_results/hier_group/maps_fix_hg/log_6b_feat_corr_map-Pa210201.ipynb",
   "parameters": {
    "ifix_sel": 2,
    "latency_path": "../db/per_hier_unit_latency-fix_on.csv.gz",
    "output_dir": "../test_results/hier_group/maps_fix_hg",
    "rfmap_dir": "../test_results/hier_group/maps_fix_hg",
    "sdf_suffix": "-mwa_1-hg",
    "select_saccades": false,
    "sess_name": "Pa210201",
    "t_aln": "fix_on",
    "t_win": 200
   },
   "start_time": "2024-02-20T03:20:09.423057",
   "version": "2.5.0"
  }
 },
 "nbformat": 4,
 "nbformat_minor": 5
}