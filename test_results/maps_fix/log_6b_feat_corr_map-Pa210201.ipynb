{
 "cells": [
  {
   "cell_type": "code",
   "execution_count": 1,
   "id": "5071fe56",
   "metadata": {
    "execution": {
     "iopub.execute_input": "2024-02-18T19:36:55.305614Z",
     "iopub.status.busy": "2024-02-18T19:36:55.304418Z",
     "iopub.status.idle": "2024-02-18T19:36:56.025002Z",
     "shell.execute_reply": "2024-02-18T19:36:56.024379Z"
    },
    "papermill": {
     "duration": 0.737613,
     "end_time": "2024-02-18T19:36:56.027717",
     "exception": false,
     "start_time": "2024-02-18T19:36:55.290104",
     "status": "completed"
    },
    "tags": []
   },
   "outputs": [],
   "source": [
    "import itertools\n",
    "import sys\n",
    "from pathlib import Path\n",
    "\n",
    "import h5py as h5\n",
    "import numpy as np\n",
    "import pandas as pd\n",
    "import xarray as xr\n",
    "from tqdm import tqdm\n",
    "\n",
    "sys.path.append('../lib')\n",
    "from local_paths import preproc_dir, analysis_dir, database_dir, cache_dir\n",
    "from storage import get_storage_functions, quantize\n",
    "from im_patches import get_patches_from_grid\n",
    "from cross_val_pred import standardize, cv_split_by_image, cv_ridge_predict, pearsonr"
   ]
  },
  {
   "cell_type": "markdown",
   "id": "b8b8612b",
   "metadata": {
    "papermill": {
     "duration": 0.014203,
     "end_time": "2024-02-18T19:36:56.050565",
     "exception": false,
     "start_time": "2024-02-18T19:36:56.036362",
     "status": "completed"
    },
    "tags": []
   },
   "source": [
    "# Parameters"
   ]
  },
  {
   "cell_type": "code",
   "execution_count": 2,
   "id": "e291ef83",
   "metadata": {
    "execution": {
     "iopub.execute_input": "2024-02-18T19:36:56.063994Z",
     "iopub.status.busy": "2024-02-18T19:36:56.063581Z",
     "iopub.status.idle": "2024-02-18T19:36:56.069134Z",
     "shell.execute_reply": "2024-02-18T19:36:56.068590Z"
    },
    "papermill": {
     "duration": 0.0135,
     "end_time": "2024-02-18T19:36:56.070258",
     "exception": false,
     "start_time": "2024-02-18T19:36:56.056758",
     "status": "completed"
    },
    "tags": [
     "parameters"
    ]
   },
   "outputs": [],
   "source": [
    "#============================================================================\n",
    "# session\n",
    "#============================================================================\n",
    "sess_name = 'sess_name'\n",
    "\n",
    "\n",
    "#============================================================================\n",
    "# coefs for weighting stimulus features\n",
    "#============================================================================\n",
    "# the values to calculate are analogous to the coefficient of multiple correlations,\n",
    "# with the key differences that the linear model here is\n",
    "# 1. cross-validated\n",
    "# 2. regularized via ridge regression (as implemented)\n",
    "# 3. regularized via weight sharing, for all RF locations other than\n",
    "#    that (if any) used to fit the model\n",
    "\n",
    "# how to fit coefs\n",
    "# - *peak* of model performance map (prerequisite)\n",
    "#   this will also inherit CV splits to keep them uncontaminated\n",
    "# - *full_image* regardless of fixation position\n",
    "# - *fovea* regardless of fixation position\n",
    "fit_coefs_at = 'peak'\n",
    "\n",
    "# required only if fit_coefs_at == 'peak'\n",
    "rfmap_analysis = 'model_perf_map'\n",
    "rfmap_dset = 'corr_per_split'  # must have the same splits as here\n",
    "\n",
    "\n",
    "#============================================================================\n",
    "# spatiotemporal resolution of RF\n",
    "#============================================================================\n",
    "# temporal\n",
    "t_aln  = 'sacc_on'  # 'sacc_on' or 'fix_on'\n",
    "# response windows\n",
    "# - one (long) window, if > 0\n",
    "t_win  =   0\n",
    "# - OTHERWISE, sliding window\n",
    "t_pre  = 375\n",
    "t_post = 375  # inclusive, but window must fit fully in range\n",
    "t_step =  25\n",
    "\n",
    "# spatial\n",
    "xy_min  = -7  # dva\n",
    "xy_max  =  7\n",
    "xy_step =  1  # only meaningful if at least patch step size in cached reprs;\n",
    "              # note that patch size is set in cached reprs\n",
    "\n",
    "\n",
    "#============================================================================\n",
    "# fixation/saccade selection\n",
    "#============================================================================\n",
    "# fixation criteria\n",
    "ifix_sel        =    1    # 0: zeroth-fix only; 1: non-zeroth-fix only; otherwise: both\n",
    "select_saccades = True    # must be False if ifix_sel is None or 0\n",
    "\n",
    "\n",
    "#============================================================================\n",
    "# modelling\n",
    "#============================================================================\n",
    "# ridge regularization\n",
    "ridge_alpha = 100000\n",
    "\n",
    "# cross-validation\n",
    "n_splits    =      5\n",
    "group_kfold =   True\n",
    "\n",
    "\n",
    "#============================================================================\n",
    "# paths\n",
    "#============================================================================\n",
    "proc_dir = preproc_dir\n",
    "\n",
    "sdf_dir = preproc_dir\n",
    "sdf_suffix = '-mwa_1' if t_win > 0 else '-mwa_50'  # default to no smoothing if using a response window\n",
    "\n",
    "feat_dir = cache_dir + 'feats/vit_large_patch16_384/blocks.13.attn.qkv'\n",
    "feat_suffix = '_as_2x2_in_0.50_steps'\n",
    "\n",
    "unit_sel_path = None\n",
    "latency_path = database_dir + 'per_unit_latency-fix_on.csv.gz'  # only used # if t_win > 0\n",
    "\n",
    "rfmap_dir = analysis_dir + rfmap_analysis  # required only if fit_coefs_at is set to 'peak'\n",
    "\n",
    "output_dir = analysis_dir + 'feat_corr_map'"
   ]
  },
  {
   "cell_type": "code",
   "execution_count": 3,
   "id": "cc7d8b02",
   "metadata": {
    "execution": {
     "iopub.execute_input": "2024-02-18T19:36:56.082991Z",
     "iopub.status.busy": "2024-02-18T19:36:56.082735Z",
     "iopub.status.idle": "2024-02-18T19:36:56.086087Z",
     "shell.execute_reply": "2024-02-18T19:36:56.085547Z"
    },
    "papermill": {
     "duration": 0.010731,
     "end_time": "2024-02-18T19:36:56.087125",
     "exception": false,
     "start_time": "2024-02-18T19:36:56.076394",
     "status": "completed"
    },
    "tags": [
     "injected-parameters"
    ]
   },
   "outputs": [],
   "source": [
    "# Parameters\n",
    "sess_name = \"Pa210201\"\n",
    "t_aln = \"fix_on\"\n",
    "t_win = 200\n",
    "ifix_sel = 2\n",
    "select_saccades = False\n",
    "sdf_suffix = \"-mwa_1\"\n",
    "output_dir = \"../test_results/maps_fix\"\n",
    "rfmap_dir = \"../test_results/maps_fix\"\n"
   ]
  },
  {
   "cell_type": "markdown",
   "id": "2e34ea7d",
   "metadata": {
    "papermill": {
     "duration": 0.004804,
     "end_time": "2024-02-18T19:36:56.096466",
     "exception": false,
     "start_time": "2024-02-18T19:36:56.091662",
     "status": "completed"
    },
    "tags": []
   },
   "source": [
    "# Check prereqs and params"
   ]
  },
  {
   "cell_type": "code",
   "execution_count": 4,
   "id": "de55cb73",
   "metadata": {
    "execution": {
     "iopub.execute_input": "2024-02-18T19:36:56.107062Z",
     "iopub.status.busy": "2024-02-18T19:36:56.106673Z",
     "iopub.status.idle": "2024-02-18T19:36:56.120898Z",
     "shell.execute_reply": "2024-02-18T19:36:56.119812Z"
    },
    "papermill": {
     "duration": 0.023339,
     "end_time": "2024-02-18T19:36:56.124305",
     "exception": false,
     "start_time": "2024-02-18T19:36:56.100966",
     "status": "completed"
    },
    "tags": []
   },
   "outputs": [
    {
     "name": "stdout",
     "output_type": "stream",
     "text": [
      "Loading shared processing from ../test_data/Pa210201-proc.h5\n",
      "Loading spike density function from ../test_data/Pa210201-sdf-mwa_1.h5\n",
      "Loading cached model features from ~/Data/FreeViewing/Cache/feats/vit_large_patch16_384/blocks.13.attn.qkv/16.0x16.0_as_2x2_in_0.50_steps.h5\n",
      "Using per-unit latency from ../db/per_unit_latency-fix_on.csv.gz\n",
      "Loading maps (to determine loc for coef fit) from ../test_results/maps_fix/Pa210201.h5\n",
      "Saving results to ../test_results/maps_fix/Pa210201.h5\n"
     ]
    }
   ],
   "source": [
    "proc_path = Path(proc_dir) / (sess_name + '-proc.h5')\n",
    "print('Loading shared processing from', proc_path)\n",
    "proc_path = proc_path.expanduser()\n",
    "assert proc_path.is_file()\n",
    "\n",
    "sdf_path = Path(sdf_dir) / (sess_name + f'-sdf{sdf_suffix}.h5')\n",
    "print('Loading spike density function from', sdf_path)\n",
    "sdf_path = sdf_path.expanduser()\n",
    "assert sdf_path.is_file()\n",
    "\n",
    "with h5.File(proc_path, 'r') as f:\n",
    "    im_w, im_h = im_size = f['stimulus/size_dva'][()]\n",
    "feats_path = Path(feat_dir) / f'{im_w:.1f}x{im_h:.1f}{feat_suffix}.h5'\n",
    "print('Loading cached model features from', feats_path)\n",
    "feats_path = feats_path.expanduser()\n",
    "assert feats_path.is_file()\n",
    "\n",
    "if t_win > 0:\n",
    "    print('Using per-unit latency from', latency_path)\n",
    "    latency_path = Path(latency_path).expanduser()\n",
    "    assert latency_path.is_file()\n",
    "\n",
    "if unit_sel_path is not None:\n",
    "    print('Loading unit selection from', unit_sel_path)\n",
    "    unit_sel_path = Path(unit_sel_path).expanduser()\n",
    "    assert unit_sel_path.is_file()\n",
    "    unit_names = pd.read_csv(unit_sel_path).set_index('Session').loc[[sess_name]]['Unit'].values\n",
    "else:\n",
    "    unit_names = None\n",
    "\n",
    "if fit_coefs_at == 'peak':\n",
    "    rfmap_path = Path(rfmap_dir) / (sess_name + '.h5')\n",
    "    print('Loading maps (to determine loc for coef fit) from', rfmap_path)\n",
    "    rfmap_path = rfmap_path.expanduser()\n",
    "    assert rfmap_path.is_file()\n",
    "\n",
    "output_dir = Path(output_dir)\n",
    "assert output_dir.expanduser().is_dir()\n",
    "output_path = output_dir / (sess_name + '.h5')\n",
    "print('Saving results to', output_path)\n",
    "output_path = output_path.expanduser()"
   ]
  },
  {
   "cell_type": "code",
   "execution_count": 5,
   "id": "ee9ca5d5",
   "metadata": {
    "execution": {
     "iopub.execute_input": "2024-02-18T19:36:56.147410Z",
     "iopub.status.busy": "2024-02-18T19:36:56.147129Z",
     "iopub.status.idle": "2024-02-18T19:36:56.150266Z",
     "shell.execute_reply": "2024-02-18T19:36:56.149728Z"
    },
    "papermill": {
     "duration": 0.014142,
     "end_time": "2024-02-18T19:36:56.151657",
     "exception": false,
     "start_time": "2024-02-18T19:36:56.137515",
     "status": "completed"
    },
    "tags": []
   },
   "outputs": [],
   "source": [
    "assert fit_coefs_at in ('peak', 'full_image', 'fovea')"
   ]
  },
  {
   "cell_type": "code",
   "execution_count": 6,
   "id": "4da1eaa8",
   "metadata": {
    "execution": {
     "iopub.execute_input": "2024-02-18T19:36:56.173106Z",
     "iopub.status.busy": "2024-02-18T19:36:56.172764Z",
     "iopub.status.idle": "2024-02-18T19:36:56.178621Z",
     "shell.execute_reply": "2024-02-18T19:36:56.177468Z"
    },
    "papermill": {
     "duration": 0.021859,
     "end_time": "2024-02-18T19:36:56.179984",
     "exception": false,
     "start_time": "2024-02-18T19:36:56.158125",
     "status": "completed"
    },
    "tags": []
   },
   "outputs": [],
   "source": [
    "analysis_name = 'feat_corr_map'\n",
    "\n",
    "if output_path.is_file():\n",
    "    with h5.File(output_path, 'r') as f:\n",
    "        try:\n",
    "            if f[f'progress_report/{analysis_name}/all_done'][()].item():\n",
    "                raise RuntimeError(f'{sess_name} has already been processed')\n",
    "        except KeyError:\n",
    "            pass"
   ]
  },
  {
   "cell_type": "code",
   "execution_count": 7,
   "id": "a0d78573",
   "metadata": {
    "execution": {
     "iopub.execute_input": "2024-02-18T19:36:56.194854Z",
     "iopub.status.busy": "2024-02-18T19:36:56.194211Z",
     "iopub.status.idle": "2024-02-18T19:36:56.261833Z",
     "shell.execute_reply": "2024-02-18T19:36:56.261233Z"
    },
    "papermill": {
     "duration": 0.076975,
     "end_time": "2024-02-18T19:36:56.263500",
     "exception": false,
     "start_time": "2024-02-18T19:36:56.186525",
     "status": "completed"
    },
    "tags": []
   },
   "outputs": [],
   "source": [
    "fix_df = pd.read_hdf(proc_path, 'fixation_dataframe', 'r')\n",
    "with h5.File(proc_path, 'r') as f:\n",
    "    stim_folder_ = f['stimulus/folder'][()].decode()\n",
    "\n",
    "imids = fix_df.groupby(['Image subdir', 'Image filename']).first().index\n",
    "md5s = [Path(fn).stem for _, fn in imids]\n",
    "md5_catalog = pd.DataFrame(index=imids, data=md5s, columns=['MD5'])"
   ]
  },
  {
   "cell_type": "markdown",
   "id": "0b7b2e47",
   "metadata": {
    "papermill": {
     "duration": 0.004933,
     "end_time": "2024-02-18T19:36:56.273412",
     "exception": false,
     "start_time": "2024-02-18T19:36:56.268479",
     "status": "completed"
    },
    "tags": []
   },
   "source": [
    "# Prepare parameters; save config"
   ]
  },
  {
   "cell_type": "code",
   "execution_count": 8,
   "id": "e6e71f6a",
   "metadata": {
    "execution": {
     "iopub.execute_input": "2024-02-18T19:36:56.285134Z",
     "iopub.status.busy": "2024-02-18T19:36:56.284482Z",
     "iopub.status.idle": "2024-02-18T19:36:56.294031Z",
     "shell.execute_reply": "2024-02-18T19:36:56.292729Z"
    },
    "papermill": {
     "duration": 0.017777,
     "end_time": "2024-02-18T19:36:56.295892",
     "exception": false,
     "start_time": "2024-02-18T19:36:56.278115",
     "status": "completed"
    },
    "tags": []
   },
   "outputs": [
    {
     "name": "stdout",
     "output_type": "stream",
     "text": [
      "random_seed: 775418045\n"
     ]
    }
   ],
   "source": [
    "with h5.File(proc_path, 'r') as f:\n",
    "    random_seed = f['config/default_random_seed'][()]\n",
    "print('random_seed:', random_seed)"
   ]
  },
  {
   "cell_type": "code",
   "execution_count": 9,
   "id": "54e3693f",
   "metadata": {
    "execution": {
     "iopub.execute_input": "2024-02-18T19:36:56.310377Z",
     "iopub.status.busy": "2024-02-18T19:36:56.309743Z",
     "iopub.status.idle": "2024-02-18T19:36:56.320755Z",
     "shell.execute_reply": "2024-02-18T19:36:56.319392Z"
    },
    "papermill": {
     "duration": 0.019904,
     "end_time": "2024-02-18T19:36:56.322156",
     "exception": false,
     "start_time": "2024-02-18T19:36:56.302252",
     "status": "completed"
    },
    "tags": []
   },
   "outputs": [],
   "source": [
    "with h5.File(proc_path, 'r') as f:\n",
    "    if select_saccades:\n",
    "        assert ifix_sel == 1, 'if selecting saccades, must only include non-zeroth fixations'\n",
    "        fix1_sel, fix2_sel = f['saccade_selection/fixation_indices'][()]\n",
    "    else:\n",
    "        assert t_aln == 'fix_on'\n",
    "        fix2_sel = f['fixation_selection/fixation_indices'][()]\n",
    "        if ifix_sel in (0, 1):\n",
    "            m = 0 == fix_df.index.get_level_values(fix_df.index.names.index('Fixation'))[fix2_sel]\n",
    "            if ifix_sel == 1:\n",
    "                m = ~m\n",
    "            fix2_sel = fix2_sel[m]"
   ]
  },
  {
   "cell_type": "code",
   "execution_count": 10,
   "id": "c1b9e797",
   "metadata": {
    "execution": {
     "iopub.execute_input": "2024-02-18T19:36:56.337686Z",
     "iopub.status.busy": "2024-02-18T19:36:56.337263Z",
     "iopub.status.idle": "2024-02-18T19:36:56.343172Z",
     "shell.execute_reply": "2024-02-18T19:36:56.342614Z"
    },
    "papermill": {
     "duration": 0.017163,
     "end_time": "2024-02-18T19:36:56.346566",
     "exception": false,
     "start_time": "2024-02-18T19:36:56.329403",
     "status": "completed"
    },
    "tags": []
   },
   "outputs": [
    {
     "name": "stdout",
     "output_type": "stream",
     "text": [
      "Response windows (1): [100.]\n",
      "RF locations (15): [-7. -6. -5. -4. -3. -2. -1.  0.  1.  2.  3.  4.  5.  6.  7.]\n"
     ]
    }
   ],
   "source": [
    "assert t_aln in ('sacc_on', 'fix_on')\n",
    "if t_win > 0:\n",
    "    ts = np.array([t_win/2])  # placeholder; actual window varies with latency per unit\n",
    "else:\n",
    "    ts = np.arange(-t_pre, t_post+.1, t_step)\n",
    "print(f'Response windows ({len(ts)}): {ts}')\n",
    "\n",
    "rf_locs = np.arange(xy_min, xy_max+xy_step/10, xy_step)\n",
    "print(f'RF locations ({len(rf_locs)}): {rf_locs}')\n",
    "tb = (rf_locs[0]-xy_step/2, rf_locs[-1]+xy_step/2)\n",
    "rf_extent = tb + tb"
   ]
  },
  {
   "cell_type": "code",
   "execution_count": 11,
   "id": "85c32ae0",
   "metadata": {
    "execution": {
     "iopub.execute_input": "2024-02-18T19:36:56.362300Z",
     "iopub.status.busy": "2024-02-18T19:36:56.361891Z",
     "iopub.status.idle": "2024-02-18T19:36:56.365705Z",
     "shell.execute_reply": "2024-02-18T19:36:56.365151Z"
    },
    "papermill": {
     "duration": 0.012455,
     "end_time": "2024-02-18T19:36:56.367027",
     "exception": false,
     "start_time": "2024-02-18T19:36:56.354572",
     "status": "completed"
    },
    "tags": []
   },
   "outputs": [],
   "source": [
    "save_results, add_attr_to_dset, check_equals_saved, link_dsets, copy_group = \\\n",
    "    get_storage_functions(output_path)"
   ]
  },
  {
   "cell_type": "code",
   "execution_count": 12,
   "id": "d24ddaa5",
   "metadata": {
    "execution": {
     "iopub.execute_input": "2024-02-18T19:36:56.380006Z",
     "iopub.status.busy": "2024-02-18T19:36:56.379693Z",
     "iopub.status.idle": "2024-02-18T19:36:56.404751Z",
     "shell.execute_reply": "2024-02-18T19:36:56.403967Z"
    },
    "papermill": {
     "duration": 0.034081,
     "end_time": "2024-02-18T19:36:56.408006",
     "exception": false,
     "start_time": "2024-02-18T19:36:56.373925",
     "status": "completed"
    },
    "tags": []
   },
   "outputs": [],
   "source": [
    "group = analysis_name + '/'\n",
    "save_results(group+'ts', ts, attrs=dict(unit='ms'))\n",
    "save_results(group+'rf_locs', rf_locs, attrs=dict(unit='dva'))\n",
    "save_results(group+'sdf_suffix', sdf_suffix)\n",
    "\n",
    "group = analysis_name + '/config/'\n",
    "save_results(group+'random_seed', random_seed)\n",
    "save_results(group+'fit_coefs_at', fit_coefs_at)\n",
    "save_results(group+'rfmap_analysis', rfmap_analysis)\n",
    "save_results(group+'rfmap_dset', rfmap_dset)\n",
    "\n",
    "group = analysis_name + '/config/time_windows/'\n",
    "save_results(group+'t_aln', t_aln)\n",
    "save_results(group+'t_win', t_win)\n",
    "save_results(group+'t_pre', t_pre)\n",
    "save_results(group+'t_post', t_post)\n",
    "save_results(group+'t_step', t_step)\n",
    "add_attr_to_dset(group, attrs=dict(unit='ms'))\n",
    "\n",
    "group = analysis_name + '/config/retinotopic_locations/'\n",
    "save_results(group+'xy_min', xy_min)\n",
    "save_results(group+'xy_max', xy_max)\n",
    "save_results(group+'xy_step', xy_step)\n",
    "add_attr_to_dset(group, attrs=dict(unit='dva'))\n",
    "\n",
    "group = analysis_name + '/config/fixation_selection/'\n",
    "save_results(group+'ifix_sel', ifix_sel)\n",
    "save_results(group+'select_saccades', select_saccades)\n",
    "\n",
    "group = analysis_name + '/config/modelling/'\n",
    "save_results(group+'n_splits', n_splits)\n",
    "save_results(group+'ridge_alpha', ridge_alpha)\n",
    "save_results(group+'group_kfold', group_kfold)"
   ]
  },
  {
   "cell_type": "markdown",
   "id": "16bf8d2a",
   "metadata": {
    "papermill": {
     "duration": 0.005008,
     "end_time": "2024-02-18T19:36:56.419065",
     "exception": false,
     "start_time": "2024-02-18T19:36:56.414057",
     "status": "completed"
    },
    "tags": []
   },
   "source": [
    "# For saccades, construct two types of control points\n",
    "- Control 1: the 3rd vertex of two equilateral triangles anchored by fix 1 & 2 (previous and current), i.e., the L4/5 Langange points. One of the points is chosen:\n",
    "  - If both points are within image bounds, choose randomly\n",
    "  - If one and only one point is within image bounds, choose that\n",
    "  - If both points are outside image bounds, choose the one closest to the image.\n",
    "- Control 2: the midpoint between the previous and current fixation, i.e., the L1 point."
   ]
  },
  {
   "cell_type": "code",
   "execution_count": 13,
   "id": "66ea0197",
   "metadata": {
    "execution": {
     "iopub.execute_input": "2024-02-18T19:36:56.430396Z",
     "iopub.status.busy": "2024-02-18T19:36:56.429961Z",
     "iopub.status.idle": "2024-02-18T19:36:56.437611Z",
     "shell.execute_reply": "2024-02-18T19:36:56.436255Z"
    },
    "papermill": {
     "duration": 0.015176,
     "end_time": "2024-02-18T19:36:56.439229",
     "exception": false,
     "start_time": "2024-02-18T19:36:56.424053",
     "status": "completed"
    },
    "tags": []
   },
   "outputs": [],
   "source": [
    "xys_fix2 = fix_df.iloc[fix2_sel][['Relative X', 'Relative Y']].values.astype(float)\n",
    "if select_saccades:\n",
    "    xys_fix1 = fix_df.iloc[fix1_sel][['Relative X', 'Relative Y']].values.astype(float)"
   ]
  },
  {
   "cell_type": "code",
   "execution_count": 14,
   "id": "6ec98f2f",
   "metadata": {
    "execution": {
     "iopub.execute_input": "2024-02-18T19:36:56.451753Z",
     "iopub.status.busy": "2024-02-18T19:36:56.451214Z",
     "iopub.status.idle": "2024-02-18T19:36:56.472300Z",
     "shell.execute_reply": "2024-02-18T19:36:56.471244Z"
    },
    "papermill": {
     "duration": 0.029744,
     "end_time": "2024-02-18T19:36:56.474049",
     "exception": false,
     "start_time": "2024-02-18T19:36:56.444305",
     "status": "completed"
    },
    "tags": []
   },
   "outputs": [],
   "source": [
    "if not select_saccades:\n",
    "    n_cond = 1\n",
    "\n",
    "else:\n",
    "    n_cond = 4\n",
    "    rg = np.random.default_rng(random_seed)\n",
    "\n",
    "    # control point type 2: midpoint between fixs 1, 2\n",
    "    xys_control2 = (xys_fix1 + xys_fix2) / 2\n",
    "\n",
    "    # control point type 1\n",
    "    # - get 3rd vertex of the equilateral triangle\n",
    "    #   by rotating the saccade vector +/-60 degs\n",
    "    vs = xys_fix2 - xys_fix1\n",
    "    rmats = [\n",
    "        np.array([[np.cos(a), -np.sin(a)], [np.sin(a), np.cos(a)]])\n",
    "        for a in (np.pi/3, -np.pi/3)\n",
    "    ]\n",
    "    xys_l45 = xys_fix1 + np.array([(m @ vs.T).T for m in rmats])  # shape (n_fix, 2)\n",
    "\n",
    "    # - check whether/how far points are out of image bounds\n",
    "    d2b = np.array([\n",
    "        [\n",
    "            np.max([xys[:,j]-im_size[j]/2, -im_size[j]/2-xys[:,j]], axis=0)\n",
    "            for j in range(2)\n",
    "        ]\n",
    "        for xys in xys_l45\n",
    "    ])  # shape (2, 2, n_fix)\n",
    "    oob = np.any(d2b >= 0, axis=1)  # shape (2, n_fix)\n",
    "\n",
    "    # - choose one of the two candidate control points according to 1 of 3 conditions\n",
    "    m0 = np.all(oob, axis=0)\n",
    "    m2 = np.all(~oob, axis=0)\n",
    "    m1 = ~(m0 | m2)\n",
    "    xys_control1 = np.empty_like(xys_fix1)\n",
    "    if np.any(m0):\n",
    "        xys_control1[m0] = [xys_l45[np.argmin(d2b[...,i].max(1)), i] for i in np.nonzero(m0)[0]]\n",
    "    if np.any(m1):\n",
    "        xys_control1[m1] = [xys_l45[np.argmin(oob[:,i]), i] for i in np.nonzero(m1)[0]]\n",
    "    if np.any(m2):\n",
    "        rand_par = (rg.random(size=m2.sum()) < 0.5).astype(int)\n",
    "        xys_control1[m2] = [xys_l45[p, i] for p, i in zip(rand_par, np.nonzero(m2)[0])]\n",
    "\n",
    "    # - quality control\n",
    "    for i, xys in enumerate((xys_fix1, xys_fix2, xys_control1, xys_control2)):\n",
    "        if i < 2:\n",
    "            # sanity check: control point must be equidistant to both fixations\n",
    "            assert np.allclose(np.linalg.norm(xys_control1 - xys, axis=1), np.linalg.norm(vs, axis=1))\n",
    "\n",
    "        d2b_ = np.array([\n",
    "            np.max([xys[:,j]-im_size[j]/2, -im_size[j]/2-xys[:,j]], axis=0)\n",
    "            for j in range(2)\n",
    "        ])\n",
    "        m = np.any(d2b_ >= 0, 0)\n",
    "        d2b__ = d2b_[:,m].max(0)\n",
    "        cond = ('Fixation 1', 'Fixation 2', 'Control 1 (equidist)', 'Control 2 (midpoint)')[i]\n",
    "        print(f'{cond +\":\":<18}\\t{m.mean()*100:4.1f}% out of image boundary', end='')\n",
    "        if np.any(m):\n",
    "            print(f'; d = {d2b__.mean():.1f} +/- {d2b__.std():.1f}')\n",
    "        else:\n",
    "            print()\n",
    "        d2b__ = -(d2b_.max(0))\n",
    "        print(f'\\tmean min dist to bound: {d2b__.mean():.1f} +/- {d2b__.std():.1f} dva')"
   ]
  },
  {
   "cell_type": "code",
   "execution_count": 15,
   "id": "dd60156e",
   "metadata": {
    "execution": {
     "iopub.execute_input": "2024-02-18T19:36:56.493769Z",
     "iopub.status.busy": "2024-02-18T19:36:56.493014Z",
     "iopub.status.idle": "2024-02-18T19:36:56.499303Z",
     "shell.execute_reply": "2024-02-18T19:36:56.498171Z"
    },
    "papermill": {
     "duration": 0.016266,
     "end_time": "2024-02-18T19:36:56.500804",
     "exception": false,
     "start_time": "2024-02-18T19:36:56.484538",
     "status": "completed"
    },
    "tags": []
   },
   "outputs": [],
   "source": [
    "ref_frames = np.array(('fix1', 'fix2', 'equidistant', 'midpoint')[:n_cond])\n",
    "if select_saccades:\n",
    "    xy_degs_conds = (xys_fix1, xys_fix2, xys_control1, xys_control2)\n",
    "else:\n",
    "    xy_degs_conds = (xys_fix2,)\n",
    "    ref_frames = ref_frames[:1]"
   ]
  },
  {
   "cell_type": "code",
   "execution_count": 16,
   "id": "6657ff74",
   "metadata": {
    "execution": {
     "iopub.execute_input": "2024-02-18T19:36:56.513727Z",
     "iopub.status.busy": "2024-02-18T19:36:56.512837Z",
     "iopub.status.idle": "2024-02-18T19:36:56.548449Z",
     "shell.execute_reply": "2024-02-18T19:36:56.547854Z"
    },
    "papermill": {
     "duration": 0.04437,
     "end_time": "2024-02-18T19:36:56.550153",
     "exception": false,
     "start_time": "2024-02-18T19:36:56.505783",
     "status": "completed"
    },
    "tags": []
   },
   "outputs": [],
   "source": [
    "group = analysis_name + '/fix_sel'\n",
    "if select_saccades:\n",
    "    save_results(\n",
    "        group, np.array([fix1_sel, fix2_sel]),\n",
    "        attrs=dict(dims=np.array(['fix_1_or_2', 'index'], dtype=np.bytes_)))\n",
    "else:\n",
    "    save_results(\n",
    "        group, fix2_sel,\n",
    "        attrs=dict(dims=np.array(['index'], dtype=np.bytes_)))\n",
    "\n",
    "if select_saccades:\n",
    "    group = analysis_name + '/control_points/'\n",
    "    attrs = dict(dims=np.array(['index', 'xy'], dtype=np.bytes_), unit='dva', comment='Relative to image center')\n",
    "    save_results(group+'equidistant', xys_control1, attrs=attrs)\n",
    "    save_results(group+'midpoint', xys_control2, attrs=attrs)"
   ]
  },
  {
   "cell_type": "markdown",
   "id": "828b1259",
   "metadata": {
    "papermill": {
     "duration": 0.007434,
     "end_time": "2024-02-18T19:36:56.564524",
     "exception": false,
     "start_time": "2024-02-18T19:36:56.557090",
     "status": "completed"
    },
    "tags": []
   },
   "source": [
    "# Get aligned responses"
   ]
  },
  {
   "cell_type": "code",
   "execution_count": 17,
   "id": "d95e5dce",
   "metadata": {
    "execution": {
     "iopub.execute_input": "2024-02-18T19:36:56.577292Z",
     "iopub.status.busy": "2024-02-18T19:36:56.576612Z",
     "iopub.status.idle": "2024-02-18T19:37:03.555403Z",
     "shell.execute_reply": "2024-02-18T19:37:03.554774Z"
    },
    "papermill": {
     "duration": 6.987793,
     "end_time": "2024-02-18T19:37:03.557790",
     "exception": false,
     "start_time": "2024-02-18T19:36:56.569997",
     "status": "completed"
    },
    "tags": []
   },
   "outputs": [],
   "source": [
    "with h5.File(sdf_path, 'r') as f:\n",
    "    dset = f['sdf']\n",
    "    all_unit_names = dset.attrs['unit_names'].astype(str)\n",
    "    if unit_names is None:\n",
    "        unit_names = all_unit_names\n",
    "        unit_sel = slice(None)\n",
    "        if 'unit_names' in f:\n",
    "            copy_group(f, 'unit_names', analysis_name+'/unit_names')\n",
    "    else:\n",
    "        all_unit_names = list(all_unit_names)\n",
    "        unit_sel = np.array([v in unit_names for v in all_unit_names])\n",
    "\n",
    "    sdf = dset[()][:,unit_sel]\n",
    "\n",
    "n_neur = sdf.shape[1]"
   ]
  },
  {
   "cell_type": "code",
   "execution_count": 18,
   "id": "57d2ff2a",
   "metadata": {
    "execution": {
     "iopub.execute_input": "2024-02-18T19:37:03.570200Z",
     "iopub.status.busy": "2024-02-18T19:37:03.569603Z",
     "iopub.status.idle": "2024-02-18T19:37:03.639239Z",
     "shell.execute_reply": "2024-02-18T19:37:03.638617Z"
    },
    "papermill": {
     "duration": 0.079061,
     "end_time": "2024-02-18T19:37:03.642211",
     "exception": false,
     "start_time": "2024-02-18T19:37:03.563150",
     "status": "completed"
    },
    "tags": []
   },
   "outputs": [
    {
     "name": "stdout",
     "output_type": "stream",
     "text": [
      "Num units using RF fit from each source:\n",
      "\tSource\n",
      "\tArray                 29\n",
      "\tArray, across sess    40\n",
      "\tChannel               11\n",
      "\tUnit                  12\n"
     ]
    }
   ],
   "source": [
    "if t_win > 0:\n",
    "    lat_df = pd.read_csv(latency_path).set_index('Session').loc[[sess_name]].set_index('Name')\n",
    "    m = pd.Series(unit_names).isin(lat_df.index)\n",
    "    assert m.all(), f'missing latency values for {(~m).sum()} of {m.size} units'\n",
    "    assert not lat_df.index.has_duplicates\n",
    "    lat_df = lat_df.loc[unit_names].reset_index()\n",
    "    assert len(lat_df) == len(unit_names)\n",
    "    lat_df['Index'] = np.arange(len(lat_df))\n",
    "    lat_df['Latency'] = np.clip(lat_df['Latency'], 40, None)\n",
    "    print('Num units using RF fit from each source:')\n",
    "    print('\\t' + '\\n\\t'.join(str(lat_df.groupby('Source').count()['Latency']).split('\\n')[:-1]))\n",
    "    lat_df.to_hdf(output_path, analysis_name+'/latency_per_unit', mode='a', format='table', complevel=9, complib='zlib')"
   ]
  },
  {
   "cell_type": "code",
   "execution_count": 19,
   "id": "d0b7800f",
   "metadata": {
    "execution": {
     "iopub.execute_input": "2024-02-18T19:37:03.673022Z",
     "iopub.status.busy": "2024-02-18T19:37:03.672501Z",
     "iopub.status.idle": "2024-02-18T19:37:04.815942Z",
     "shell.execute_reply": "2024-02-18T19:37:04.814728Z"
    },
    "papermill": {
     "duration": 1.160554,
     "end_time": "2024-02-18T19:37:04.819212",
     "exception": false,
     "start_time": "2024-02-18T19:37:03.658658",
     "status": "completed"
    },
    "tags": []
   },
   "outputs": [],
   "source": [
    "if t_aln == 'sacc_on':\n",
    "    t0s = fix_df.iloc[fix1_sel][['Time', 'Duration']].values.sum(1)\n",
    "else:\n",
    "    t0s = fix_df.iloc[fix2_sel]['Time'].values\n",
    "\n",
    "resps = np.empty_like(sdf, shape=(fix2_sel.size, ts.size, n_neur))\n",
    "\n",
    "if t_win > 0:\n",
    "    t_win_ = np.array([0, t_win])\n",
    "    lat_groups = [(dt, df_['Index'].values) for dt, df_ in lat_df.groupby('Latency')]\n",
    "    for i, t in enumerate(t0s):\n",
    "        for dt, usel in lat_groups:\n",
    "            s = slice(*np.round(t+dt+t_win_).astype(int))\n",
    "            resps[i,0,usel] = sdf[s,usel].mean(0)\n",
    "else:\n",
    "    for i, t in enumerate(t0s):\n",
    "        ts_ = np.round(t+ts).astype(int)\n",
    "        resps[i] = sdf[ts_,:]\n",
    "\n",
    "del sdf"
   ]
  },
  {
   "cell_type": "code",
   "execution_count": 20,
   "id": "38fb5a37",
   "metadata": {
    "execution": {
     "iopub.execute_input": "2024-02-18T19:37:04.850503Z",
     "iopub.status.busy": "2024-02-18T19:37:04.849993Z",
     "iopub.status.idle": "2024-02-18T19:37:04.866410Z",
     "shell.execute_reply": "2024-02-18T19:37:04.865110Z"
    },
    "papermill": {
     "duration": 0.035753,
     "end_time": "2024-02-18T19:37:04.869452",
     "exception": false,
     "start_time": "2024-02-18T19:37:04.833699",
     "status": "completed"
    },
    "tags": []
   },
   "outputs": [
    {
     "data": {
      "text/plain": [
       "((5979, 1, 92), dtype('float32'))"
      ]
     },
     "execution_count": 20,
     "metadata": {},
     "output_type": "execute_result"
    }
   ],
   "source": [
    "Y = standardize(resps)\n",
    "Y.shape, Y.dtype"
   ]
  },
  {
   "cell_type": "code",
   "execution_count": 21,
   "id": "e4a78ae4",
   "metadata": {
    "execution": {
     "iopub.execute_input": "2024-02-18T19:37:04.895033Z",
     "iopub.status.busy": "2024-02-18T19:37:04.894676Z",
     "iopub.status.idle": "2024-02-18T19:37:04.903094Z",
     "shell.execute_reply": "2024-02-18T19:37:04.902449Z"
    },
    "papermill": {
     "duration": 0.022546,
     "end_time": "2024-02-18T19:37:04.906793",
     "exception": false,
     "start_time": "2024-02-18T19:37:04.884247",
     "status": "completed"
    },
    "tags": []
   },
   "outputs": [],
   "source": [
    "save_results(analysis_name+'/unit_names', unit_names.astype(bytes))\n",
    "save_results(analysis_name+'/mean_responses', resps.mean(0), attrs=dict(\n",
    "    dims=np.array(['time', 'unit'], dtype=bytes),\n",
    "    n_fix=resps.shape[0]))"
   ]
  },
  {
   "cell_type": "markdown",
   "id": "af7f9c27",
   "metadata": {
    "papermill": {
     "duration": 0.007225,
     "end_time": "2024-02-18T19:37:04.924867",
     "exception": false,
     "start_time": "2024-02-18T19:37:04.917642",
     "status": "completed"
    },
    "tags": []
   },
   "source": [
    "# Define splits (group k-fold)"
   ]
  },
  {
   "cell_type": "code",
   "execution_count": 22,
   "id": "45215110",
   "metadata": {
    "execution": {
     "iopub.execute_input": "2024-02-18T19:37:04.937637Z",
     "iopub.status.busy": "2024-02-18T19:37:04.937275Z",
     "iopub.status.idle": "2024-02-18T19:37:04.949016Z",
     "shell.execute_reply": "2024-02-18T19:37:04.948412Z"
    },
    "papermill": {
     "duration": 0.020878,
     "end_time": "2024-02-18T19:37:04.951948",
     "exception": false,
     "start_time": "2024-02-18T19:37:04.931070",
     "status": "completed"
    },
    "tags": []
   },
   "outputs": [
    {
     "name": "stdout",
     "output_type": "stream",
     "text": [
      "For group k-fold, loading catalog of similar images\n",
      "accounting for 0 pairs of similar images\n",
      "num training and testing points per split:\n",
      "split 0\t\ttrain:  4783 test: 1196\n",
      "split 1\t\ttrain:  4783 test: 1196\n",
      "split 2\t\ttrain:  4783 test: 1196\n",
      "split 3\t\ttrain:  4783 test: 1196\n",
      "split 4\t\ttrain:  4784 test: 1195\n"
     ]
    }
   ],
   "source": [
    "imfns = fix_df.iloc[fix2_sel]['Image filename']\n",
    "\n",
    "splits, train_mask = cv_split_by_image(\n",
    "    imfns, n_splits,\n",
    "    group_kfold=group_kfold, random_seed=random_seed)"
   ]
  },
  {
   "cell_type": "code",
   "execution_count": 23,
   "id": "bf8083e6",
   "metadata": {
    "execution": {
     "iopub.execute_input": "2024-02-18T19:37:04.977375Z",
     "iopub.status.busy": "2024-02-18T19:37:04.977055Z",
     "iopub.status.idle": "2024-02-18T19:37:04.987990Z",
     "shell.execute_reply": "2024-02-18T19:37:04.987439Z"
    },
    "papermill": {
     "duration": 0.024134,
     "end_time": "2024-02-18T19:37:04.990856",
     "exception": false,
     "start_time": "2024-02-18T19:37:04.966722",
     "status": "completed"
    },
    "tags": []
   },
   "outputs": [],
   "source": [
    "save_results(analysis_name+'/fix_is_train', train_mask, attrs=dict(\n",
    "    dims=np.array(['split', 'fixation'], dtype=np.bytes_),\n",
    "    random_seed=random_seed,\n",
    "    group_kfold=group_kfold))"
   ]
  },
  {
   "cell_type": "markdown",
   "id": "214c9e13",
   "metadata": {
    "papermill": {
     "duration": 0.009269,
     "end_time": "2024-02-18T19:37:05.016811",
     "exception": false,
     "start_time": "2024-02-18T19:37:05.007542",
     "status": "completed"
    },
    "tags": []
   },
   "source": [
    "# Load pre-computed model reprs"
   ]
  },
  {
   "cell_type": "code",
   "execution_count": 24,
   "id": "844ba7c5",
   "metadata": {
    "execution": {
     "iopub.execute_input": "2024-02-18T19:37:05.031204Z",
     "iopub.status.busy": "2024-02-18T19:37:05.030671Z",
     "iopub.status.idle": "2024-02-18T19:38:03.923446Z",
     "shell.execute_reply": "2024-02-18T19:38:03.922818Z"
    },
    "papermill": {
     "duration": 58.90168,
     "end_time": "2024-02-18T19:38:03.925006",
     "exception": false,
     "start_time": "2024-02-18T19:37:05.023326",
     "status": "completed"
    },
    "tags": []
   },
   "outputs": [
    {
     "name": "stdout",
     "output_type": "stream",
     "text": [
      "Features shape: (3072,)\n",
      "Patch-grid features shape: (793, 35, 35, 3072)\n"
     ]
    }
   ],
   "source": [
    "with h5.File(feats_path, 'r') as f:\n",
    "    patch_locs_x = f['config/patch_grid/x_locs'][()]\n",
    "    patch_locs_y = f['config/patch_grid/y_locs'][()]\n",
    "    patch_step = float(f['config/patch_grid/step'][()])\n",
    "\n",
    "    bg_feats = f['feats/bg'][()]\n",
    "\n",
    "    all_md5s = f['md5'][()].astype(str)\n",
    "    all_md5s = pd.Series(index=all_md5s, data=np.arange(len(all_md5s)), name='Index in file')\n",
    "    idc = all_md5s.loc[md5_catalog['MD5'].values]\n",
    "    md5_catalog['Index'] = np.arange(len(md5_catalog))\n",
    "\n",
    "    patch_grid_feats = np.empty(shape=(idc.size,patch_locs_x.size,patch_locs_y.size)+bg_feats.shape, dtype=bg_feats.dtype)\n",
    "    if fit_coefs_at == 'image':\n",
    "        full_image_feats = np.empty(shape=(idc.size,)+bg_feats.shape, dtype=bg_feats.dtype)\n",
    "    else:\n",
    "        full_image_feats = None\n",
    "    for ii, i in enumerate(idc.values):\n",
    "        patch_grid_feats[ii] = f['feats/patch_grid'][i]  # shape (n_patches_x, n_patches_y,) + feats_shape\n",
    "        if full_image_feats is not None:\n",
    "            full_image_feats[ii] = f['feats/full_image'][i]\n",
    "\n",
    "    copy_group(f, 'config', analysis_name+'/config/feats')\n",
    "\n",
    "feats_shape = bg_feats.shape\n",
    "print('Features shape:', feats_shape)\n",
    "print('Patch-grid features shape:', patch_grid_feats.shape)\n",
    "if full_image_feats is not None:\n",
    "    print(f'Full-image features shape: {full_image_feats.shape}')\n",
    "\n",
    "iims = np.array([\n",
    "    md5_catalog.loc[(row['Image subdir'], row['Image filename']), 'Index']\n",
    "    for i, (_, row) in enumerate(fix_df.iloc[fix2_sel].iterrows())])\n",
    "patch_bins_x = np.concatenate([\n",
    "    patch_locs_x-patch_step/2, [patch_locs_x[-1]+patch_step/2]])\n",
    "patch_bins_y = np.concatenate([\n",
    "    patch_locs_y-patch_step/2, [patch_locs_y[-1]+patch_step/2]])"
   ]
  },
  {
   "cell_type": "code",
   "execution_count": 25,
   "id": "9f757607",
   "metadata": {
    "execution": {
     "iopub.execute_input": "2024-02-18T19:38:03.938244Z",
     "iopub.status.busy": "2024-02-18T19:38:03.937599Z",
     "iopub.status.idle": "2024-02-18T19:38:03.943908Z",
     "shell.execute_reply": "2024-02-18T19:38:03.942793Z"
    },
    "papermill": {
     "duration": 0.014965,
     "end_time": "2024-02-18T19:38:03.945508",
     "exception": false,
     "start_time": "2024-02-18T19:38:03.930543",
     "status": "completed"
    },
    "tags": []
   },
   "outputs": [],
   "source": [
    "def recon_stim(*args, **kwargs):\n",
    "    return get_patches_from_grid(\n",
    "        *args, patch_bins_x=patch_bins_x, patch_bins_y=patch_bins_y, **kwargs)"
   ]
  },
  {
   "cell_type": "markdown",
   "id": "dbb51614",
   "metadata": {
    "papermill": {
     "duration": 0.005447,
     "end_time": "2024-02-18T19:38:03.956589",
     "exception": false,
     "start_time": "2024-02-18T19:38:03.951142",
     "status": "completed"
    },
    "tags": []
   },
   "source": [
    "# Load preliminary rf map if fitting coefs at peak"
   ]
  },
  {
   "cell_type": "code",
   "execution_count": 26,
   "id": "b1d0263d",
   "metadata": {
    "execution": {
     "iopub.execute_input": "2024-02-18T19:38:03.969778Z",
     "iopub.status.busy": "2024-02-18T19:38:03.969111Z",
     "iopub.status.idle": "2024-02-18T19:38:04.072761Z",
     "shell.execute_reply": "2024-02-18T19:38:04.072140Z"
    },
    "papermill": {
     "duration": 0.113931,
     "end_time": "2024-02-18T19:38:04.075836",
     "exception": false,
     "start_time": "2024-02-18T19:38:03.961905",
     "status": "completed"
    },
    "tags": []
   },
   "outputs": [],
   "source": [
    "# if fitting at peak, load coefs\n",
    "if fit_coefs_at == 'peak':\n",
    "    rf_ds = xr.load_dataset(\n",
    "        rfmap_path, group=rfmap_analysis+'/data',\n",
    "        engine='h5netcdf')\n",
    "    # As of xarray 2023.4.2, load_dataset(.) without specifying the engine \n",
    "    # does not close file properly as claimed in the docs.\n",
    "    # Such behavior prevents later opening the same file (if using) to write.\n",
    "    # Thankfully, using the h5netcdf engine seems to avoid the bug.\n",
    "\n",
    "    if rf_ds.dims['ref_frame'] == len(ref_frames):\n",
    "        assert not len(set(ref_frames) - set(rf_ds.coords['ref_frame'].values))\n",
    "        indices = list(rf_ds.coords['ref_frame'].values)\n",
    "        idc_ref = [indices.index(v) for v in ref_frames]\n",
    "    else:\n",
    "        assert rf_ds.dims['ref_frame'] == 1\n",
    "        idc_ref = slice(None)\n",
    "\n",
    "    if rf_ds.dims['time'] == 1:\n",
    "        idc_t = slice(None)\n",
    "    else:\n",
    "        assert rf_ds.dims['time'] == len(ts)\n",
    "        assert not len(set(ts) - set(rf_ds.coords['time'].values))\n",
    "        indices = list(rf_ds.coords['time'].values)\n",
    "        idc_t = [indices.index(v) for v in ts]\n",
    "\n",
    "    assert rf_ds.dims['split'] == n_splits\n",
    "\n",
    "    assert (not len(set(unit_names) - set(rf_ds.coords['unit'].values))\n",
    "            or not len({'Unit/' + n for n in unit_names} - set(rf_ds.coords['unit'].values)))\n",
    "    indices = list(rf_ds.coords['unit'].values)\n",
    "    idc_u = np.empty(len(unit_names), dtype=np.uint)\n",
    "    for i, n in enumerate(unit_names):\n",
    "        # both will fail if n is not found in the unit names in rf_ds\n",
    "        try:\n",
    "            idc_u[i] = indices.index(n)\n",
    "        except ValueError:\n",
    "            idc_u[i] = indices.index('Unit/'+n)\n",
    "\n",
    "    rfs = rf_ds[rfmap_dset].transpose('ref_frame', 'time', 'split', 'unit', 'rf_x', 'rf_y').values\n",
    "    rfs = rfs[idc_ref][:,idc_t][:,:,:,idc_u]\n",
    "    rfs = np.broadcast_to(rfs, (ref_frames.size, ts.size, n_splits, unit_names.size) + rfs.shape[-2:])\n",
    "    rf_x = rf_ds.coords['rf_x'].values\n",
    "    rf_y = rf_ds.coords['rf_y'].values\n",
    "\n",
    "else:\n",
    "    rfs = None"
   ]
  },
  {
   "cell_type": "markdown",
   "id": "27fca802",
   "metadata": {
    "papermill": {
     "duration": 0.010021,
     "end_time": "2024-02-18T19:38:04.100909",
     "exception": false,
     "start_time": "2024-02-18T19:38:04.090888",
     "status": "completed"
    },
    "tags": []
   },
   "source": [
    "# Main"
   ]
  },
  {
   "cell_type": "code",
   "execution_count": 27,
   "id": "64b04aa2",
   "metadata": {
    "execution": {
     "iopub.execute_input": "2024-02-18T19:38:04.116694Z",
     "iopub.status.busy": "2024-02-18T19:38:04.115561Z",
     "iopub.status.idle": "2024-02-18T19:38:04.127285Z",
     "shell.execute_reply": "2024-02-18T19:38:04.125917Z"
    },
    "papermill": {
     "duration": 0.021081,
     "end_time": "2024-02-18T19:38:04.129144",
     "exception": false,
     "start_time": "2024-02-18T19:38:04.108063",
     "status": "completed"
    },
    "tags": []
   },
   "outputs": [],
   "source": [
    "def eval_cv_corr(X, Y, splits):\n",
    "    assert X.ndim == 3  # (n_split, n_fix, n_unit)\n",
    "    assert Y.ndim == 2  # (n_fix, n_unit)\n",
    "\n",
    "    n_split = len(splits)\n",
    "    n_unit = Y.shape[1]\n",
    "\n",
    "    corr_pers = np.full((n_split, n_unit), np.nan)\n",
    "    corr = np.full(n_unit, np.nan)\n",
    "\n",
    "    for iu in range(n_unit):\n",
    "        cv_X_ = np.empty_like(X[0,:,0])  # shape (n_fix,)\n",
    "\n",
    "        for isp, (i0, i1) in enumerate(splits):\n",
    "            cv_X_[i1] = X_ = X[isp,i1,iu]\n",
    "            if np.any(~np.isfinite(X_)):\n",
    "                continue\n",
    "            corr_pers[isp,iu] = pearsonr(X_, Y_[i1,iu])\n",
    "\n",
    "        if np.all(np.isfinite(cv_X_)):\n",
    "            corr[iu] = pearsonr(cv_X_, Y_[:,iu])\n",
    "\n",
    "    return corr, corr_pers"
   ]
  },
  {
   "cell_type": "code",
   "execution_count": 28,
   "id": "fd8cfd06",
   "metadata": {
    "execution": {
     "iopub.execute_input": "2024-02-18T19:38:04.151567Z",
     "iopub.status.busy": "2024-02-18T19:38:04.150939Z",
     "iopub.status.idle": "2024-02-18T19:38:04.159901Z",
     "shell.execute_reply": "2024-02-18T19:38:04.158785Z"
    },
    "papermill": {
     "duration": 0.026438,
     "end_time": "2024-02-18T19:38:04.162823",
     "exception": false,
     "start_time": "2024-02-18T19:38:04.136385",
     "status": "completed"
    },
    "tags": []
   },
   "outputs": [],
   "source": [
    "n_win = len(ts)\n",
    "n_split = n_splits\n",
    "n_loc = len(rf_locs)\n",
    "n_unit = len(unit_names)\n",
    "\n",
    "coef_locs = np.full((n_cond, n_win, n_split, n_unit, 2), np.nan, dtype=np.float32)\n",
    "cv_corrs = np.full((n_cond, n_win, n_loc, n_loc, n_unit), np.nan, dtype=np.float32)\n",
    "cv_corrs_per_split = np.full((n_cond, n_win, n_split, n_loc, n_loc, n_unit), np.nan, dtype=np.float32)"
   ]
  },
  {
   "cell_type": "code",
   "execution_count": 29,
   "id": "98aad4c9",
   "metadata": {
    "execution": {
     "iopub.execute_input": "2024-02-18T19:38:04.191172Z",
     "iopub.status.busy": "2024-02-18T19:38:04.190587Z",
     "iopub.status.idle": "2024-02-18T19:48:32.615692Z",
     "shell.execute_reply": "2024-02-18T19:48:32.615134Z"
    },
    "papermill": {
     "duration": 628.441627,
     "end_time": "2024-02-18T19:48:32.620320",
     "exception": false,
     "start_time": "2024-02-18T19:38:04.178693",
     "status": "completed"
    },
    "tags": []
   },
   "outputs": [
    {
     "name": "stderr",
     "output_type": "stream",
     "text": [
      "\r",
      "100%|████████████████████████████████████████████████████████████████████████████████████████████▌| 224/225 [10:25<00:02,  2.41s/it]"
     ]
    },
    {
     "name": "stderr",
     "output_type": "stream",
     "text": [
      "\r",
      "100%|█████████████████████████████████████████████████████████████████████████████████████████████| 225/225 [10:28<00:00,  2.41s/it]"
     ]
    },
    {
     "name": "stderr",
     "output_type": "stream",
     "text": [
      "\r",
      "100%|█████████████████████████████████████████████████████████████████████████████████████████████| 225/225 [10:28<00:00,  2.79s/it]"
     ]
    },
    {
     "name": "stderr",
     "output_type": "stream",
     "text": [
      "\n"
     ]
    }
   ],
   "source": [
    "coefs = None\n",
    "coefs_ic = -1\n",
    "coefs_ic_iw = (-1, -1)\n",
    "\n",
    "for (ic, xy_degs), (iw, _), (iy, dy), (ix, dx) in tqdm(\n",
    "        itertools.product(enumerate(xy_degs_conds), enumerate(ts), enumerate(rf_locs), enumerate(rf_locs)),\n",
    "        total=n_cond*n_win*n_loc**2):\n",
    "    Y_ = Y[:,iw]  # shape (n_fix, n_unit)\n",
    "\n",
    "\n",
    "    # ================================\n",
    "    # Fit coefs (i.e., feature weights)\n",
    "    # ================================\n",
    "    # this step is slow; refresh only only if needed\n",
    "    # coefs shape: (n_split, n_unit, n_feat)\n",
    "    new_coefs = True\n",
    "\n",
    "    if fit_coefs_at == 'peak' and coefs_ic_iw != (ic, iw):\n",
    "        coefs = np.empty((n_split, n_unit, bg_feats.size), dtype=np.float32)\n",
    "        incl = np.isfinite(rfs[ic,iw]).any((-1,-2))\n",
    "        incl_idc = np.nonzero(incl.ravel())[0]\n",
    "        coefs[~incl] = np.nan\n",
    "        rfs_ = rfs[ic,iw,incl]  # shape (nsp x nu, nx, ny)\n",
    "        ixys = np.nanargmax(rfs_.reshape(len(rfs_),-1), axis=-1)  # find peak dxy per neuron\n",
    "\n",
    "        s = pd.Series(ixys)\n",
    "        for ixy, idc in s.groupby(s):  # recon stim per offset\n",
    "            idc = incl_idc[idc.index.values]\n",
    "            isps, ius = np.unravel_index(idc, (n_split, n_unit))\n",
    "\n",
    "            ix_, iy_ = np.unravel_index(ixy, (rf_x.size, rf_y.size))\n",
    "            dxy = rf_x[ix_], rf_y[iy_]\n",
    "            X = standardize(recon_stim(iims, xy_degs+dxy, patch_grid_feats, bg_feats))\n",
    "            coef_locs[ic,iw,isps,ius] = dxy\n",
    "\n",
    "            # fit coef per split; vectorize over units as much as possible\n",
    "            s2 = pd.Series(isps)\n",
    "            for isp, ius2 in s2.groupby(s2):\n",
    "                ius2 = ius[ius2.index.values]\n",
    "                coefs[isp,ius2] = cv_ridge_predict(\n",
    "                    X, Y_[:,ius2], [splits[isp]], ridge_alpha,\n",
    "                    return_pred=False, return_coefs=True)\n",
    "        coefs_ic_iw = (ic, iw)\n",
    "\n",
    "    elif fit_coefs_at == 'fovea' and coefs_ic != ic:\n",
    "        X = reconstruct_stimuli(iims, patch_feats, bg_feats, xy_degs)\n",
    "        coef_locs[ic,iw] = 0\n",
    "        coefs = cross_val_predict(\n",
    "            X, Y_, splits, ridge_alpha,\n",
    "            return_pred=False, return_coefs=True)\n",
    "        coefs_ic = ic\n",
    "\n",
    "    elif fit_coefs_at == 'full_image' and coefs is None:\n",
    "        X = reconstruct_stimuli(iims, full_image_feats, bg_feats, None)\n",
    "        coefs = cross_val_predict(\n",
    "            X, Y_, splits, ridge_alpha,\n",
    "            return_pred=False, return_coefs=True)\n",
    "\n",
    "    else:\n",
    "        new_coefs = False\n",
    "\n",
    "    if new_coefs:\n",
    "        coefs_g = np.linalg.norm(coefs, axis=-1, keepdims=True)\n",
    "        coefs_g[coefs_g==0] = 1\n",
    "        coefs /= coefs_g\n",
    "\n",
    "\n",
    "    # ================================\n",
    "    # Reverse correlation\n",
    "    # ================================\n",
    "    X = standardize(recon_stim(iims, xy_degs+[dx,dy], patch_grid_feats, bg_feats))\n",
    "    X = np.einsum('xf,suf->sxu', X, coefs)  # shape (n_split, n_fix, n_unit)\n",
    "\n",
    "    corr, corr_pers = eval_cv_corr(X, Y_, splits)\n",
    "\n",
    "    cv_corrs[ic,iw,iy,ix,:] = corr\n",
    "    cv_corrs_per_split[ic,iw,:,iy,ix,:] = corr_pers"
   ]
  },
  {
   "cell_type": "code",
   "execution_count": 30,
   "id": "acedcbff",
   "metadata": {
    "execution": {
     "iopub.execute_input": "2024-02-18T19:48:32.667521Z",
     "iopub.status.busy": "2024-02-18T19:48:32.666590Z",
     "iopub.status.idle": "2024-02-18T19:48:33.181807Z",
     "shell.execute_reply": "2024-02-18T19:48:33.180417Z"
    },
    "papermill": {
     "duration": 0.540559,
     "end_time": "2024-02-18T19:48:33.185384",
     "exception": false,
     "start_time": "2024-02-18T19:48:32.644825",
     "status": "completed"
    },
    "tags": []
   },
   "outputs": [],
   "source": [
    "dims = np.array(('ref_frame', 'time', 'split', 'rf_y', 'rf_x', 'unit', 'axis'))\n",
    "coords = dict((\n",
    "    ('ref_frame', ref_frames),\n",
    "    ('time', ts),\n",
    "    ('split', np.arange(n_split)),\n",
    "    ('rf_y', rf_locs),\n",
    "    ('rf_x', rf_locs),\n",
    "    ('unit', unit_names),\n",
    "    ('axis', np.array(list('xy')))))\n",
    "attrs = dict(\n",
    "    ifix_sel=ifix_sel,\n",
    "    n_fix=fix2_sel.size,\n",
    "    group_kfold=int(group_kfold),\n",
    "    feat_shape=feats_shape,\n",
    "    ridge_alpha=ridge_alpha,\n",
    "    t_aln=t_aln)\n",
    "\n",
    "q = lambda x: quantize(x, 3)\n",
    "data_vars = {\n",
    "    'corr': (dims[[0,1,3,4,5]], q(cv_corrs)),\n",
    "    'corr_per_split': (dims[:-1], q(cv_corrs_per_split)),\n",
    "    'coef_loc': (dims[[0,1,2,5,-1]], coef_locs)}\n",
    "dataset = xr.Dataset(data_vars, coords=coords, attrs=attrs)\n",
    "\n",
    "compr = dict(zlib=True, complevel=9)\n",
    "encoding = {\n",
    "    k: dict(chunksizes=v.shape, **compr)\n",
    "    for k, v in dataset.data_vars.items()}\n",
    "dataset.to_netcdf(\n",
    "    output_path, group=analysis_name+'/data',\n",
    "    mode='a', engine='h5netcdf', encoding=encoding)"
   ]
  },
  {
   "cell_type": "markdown",
   "id": "cf62015e",
   "metadata": {
    "papermill": {
     "duration": 0.014327,
     "end_time": "2024-02-18T19:48:33.230493",
     "exception": false,
     "start_time": "2024-02-18T19:48:33.216166",
     "status": "completed"
    },
    "tags": []
   },
   "source": [
    "# Wrap up"
   ]
  },
  {
   "cell_type": "code",
   "execution_count": 31,
   "id": "c6b12bea",
   "metadata": {
    "execution": {
     "iopub.execute_input": "2024-02-18T19:48:33.296635Z",
     "iopub.status.busy": "2024-02-18T19:48:33.295645Z",
     "iopub.status.idle": "2024-02-18T19:48:33.304066Z",
     "shell.execute_reply": "2024-02-18T19:48:33.303096Z"
    },
    "papermill": {
     "duration": 0.063081,
     "end_time": "2024-02-18T19:48:33.305961",
     "exception": false,
     "start_time": "2024-02-18T19:48:33.242880",
     "status": "completed"
    },
    "tags": []
   },
   "outputs": [],
   "source": [
    "save_results(f'progress_report/{analysis_name}/all_done', True)"
   ]
  },
  {
   "cell_type": "code",
   "execution_count": 32,
   "id": "5e24b115",
   "metadata": {
    "execution": {
     "iopub.execute_input": "2024-02-18T19:48:33.341088Z",
     "iopub.status.busy": "2024-02-18T19:48:33.339987Z",
     "iopub.status.idle": "2024-02-18T19:48:33.387036Z",
     "shell.execute_reply": "2024-02-18T19:48:33.385688Z"
    },
    "papermill": {
     "duration": 0.064934,
     "end_time": "2024-02-18T19:48:33.390260",
     "exception": false,
     "start_time": "2024-02-18T19:48:33.325326",
     "status": "completed"
    },
    "tags": []
   },
   "outputs": [
    {
     "name": "stdout",
     "output_type": "stream",
     "text": [
      "Last updated: 2024-02-18T14:48:33.353274-05:00\n",
      "\n",
      "Python implementation: CPython\n",
      "Python version       : 3.10.12\n",
      "IPython version      : 8.12.0\n",
      "\n",
      "Compiler    : GCC 11.4.0\n",
      "OS          : Linux\n",
      "Release     : 5.15.0-92-generic\n",
      "Machine     : x86_64\n",
      "Processor   : x86_64\n",
      "CPU cores   : 20\n",
      "Architecture: 64bit\n",
      "\n",
      "Python implementation: CPython\n",
      "Python version       : 3.10.12\n",
      "IPython version      : 8.12.0\n",
      "\n",
      "Compiler    : GCC 11.4.0\n",
      "OS          : Linux\n",
      "Release     : 5.15.0-92-generic\n",
      "Machine     : x86_64\n",
      "Processor   : x86_64\n",
      "CPU cores   : 20\n",
      "Architecture: 64bit\n",
      "\n",
      "Git hash: b0bb10f45dee065cc3af96fe224326b883d27431\n",
      "\n",
      "Git repo: https://github.com/willwx/free_viewing_staging.git\n",
      "\n",
      "Git branch: master\n",
      "\n",
      "pandas: 2.0.1\n",
      "sys   : 3.10.12 (main, Nov 20 2023, 15:14:05) [GCC 11.4.0]\n",
      "numpy : 1.24.3\n",
      "xarray: 2023.4.2\n",
      "h5py  : 3.8.0\n",
      "\n"
     ]
    }
   ],
   "source": [
    "%load_ext watermark\n",
    "%watermark\n",
    "%watermark -vm --iversions -rbg"
   ]
  },
  {
   "cell_type": "markdown",
   "id": "8a1a0400",
   "metadata": {
    "papermill": {
     "duration": 0.028592,
     "end_time": "2024-02-18T19:48:33.447504",
     "exception": false,
     "start_time": "2024-02-18T19:48:33.418912",
     "status": "completed"
    },
    "tags": []
   },
   "source": [
    "# Basic visualization of results"
   ]
  },
  {
   "cell_type": "code",
   "execution_count": 33,
   "id": "4ce74143",
   "metadata": {
    "execution": {
     "iopub.execute_input": "2024-02-18T19:48:33.480966Z",
     "iopub.status.busy": "2024-02-18T19:48:33.480184Z",
     "iopub.status.idle": "2024-02-18T19:48:33.853614Z",
     "shell.execute_reply": "2024-02-18T19:48:33.852981Z"
    },
    "papermill": {
     "duration": 0.390329,
     "end_time": "2024-02-18T19:48:33.856696",
     "exception": false,
     "start_time": "2024-02-18T19:48:33.466367",
     "status": "completed"
    },
    "tags": []
   },
   "outputs": [],
   "source": [
    "import matplotlib.pyplot as plt\n",
    "import seaborn as sns"
   ]
  },
  {
   "cell_type": "code",
   "execution_count": 34,
   "id": "bffedea6",
   "metadata": {
    "execution": {
     "iopub.execute_input": "2024-02-18T19:48:33.902975Z",
     "iopub.status.busy": "2024-02-18T19:48:33.901998Z",
     "iopub.status.idle": "2024-02-18T19:48:34.057318Z",
     "shell.execute_reply": "2024-02-18T19:48:34.056723Z"
    },
    "papermill": {
     "duration": 0.173642,
     "end_time": "2024-02-18T19:48:34.059396",
     "exception": false,
     "start_time": "2024-02-18T19:48:33.885754",
     "status": "completed"
    },
    "tags": []
   },
   "outputs": [
    {
     "data": {
      "image/png": "[encoded data removed]",
      "text/plain": [
       "<Figure size 640x480 with 1 Axes>"
      ]
     },
     "metadata": {},
     "output_type": "display_data"
    }
   ],
   "source": [
    "if fit_coefs_at == 'peak':\n",
    "    vals = coef_locs.reshape(-1, coef_locs.shape[-1])\n",
    "    vals = vals[np.isfinite(vals).all(1)]\n",
    "    plt.hist2d(*vals.T, bins=len(rf_locs))\n",
    "    plt.gca().set_aspect('equal')"
   ]
  },
  {
   "cell_type": "code",
   "execution_count": 35,
   "id": "32de0c2b",
   "metadata": {
    "execution": {
     "iopub.execute_input": "2024-02-18T19:48:34.088223Z",
     "iopub.status.busy": "2024-02-18T19:48:34.087691Z",
     "iopub.status.idle": "2024-02-18T19:48:36.466763Z",
     "shell.execute_reply": "2024-02-18T19:48:36.466203Z"
    },
    "papermill": {
     "duration": 2.397078,
     "end_time": "2024-02-18T19:48:36.470693",
     "exception": false,
     "start_time": "2024-02-18T19:48:34.073615",
     "status": "completed"
    },
    "tags": []
   },
   "outputs": [
    {
     "data": {
      "image/png": "[encoded data removed]",
      "text/plain": [
       "<Figure size 640x480 with 1 Axes>"
      ]
     },
     "metadata": {},
     "output_type": "display_data"
    }
   ],
   "source": [
    "df = {'Condition': [], 'X': [], 'Y': []}\n",
    "for i, xys in enumerate(xy_degs_conds):\n",
    "    if select_saccades:\n",
    "        cond = ('Fixation 1', 'Fixation 2', 'Equidistant control', 'Midpoint control')[i]\n",
    "    else:\n",
    "        cond = 'Default'\n",
    "    df['Condition'].append(np.full(len(xys), cond))\n",
    "    df['X'].append(xys[:,0])\n",
    "    df['Y'].append(xys[:,1])\n",
    "for k in df.keys():\n",
    "    df[k] = np.concatenate(df[k])\n",
    "df = pd.DataFrame(df)\n",
    "ax = sns.kdeplot(data=df, x='X', y='Y', hue='Condition', levels=3)\n",
    "ax.set_title('Distribution of selected fixations')\n",
    "ax.set_xlabel('X, dva')\n",
    "ax.set_ylabel('Y, dva')\n",
    "ax.set_aspect('equal')"
   ]
  },
  {
   "cell_type": "code",
   "execution_count": 36,
   "id": "a40956e9",
   "metadata": {
    "execution": {
     "iopub.execute_input": "2024-02-18T19:48:36.517415Z",
     "iopub.status.busy": "2024-02-18T19:48:36.516766Z",
     "iopub.status.idle": "2024-02-18T19:48:36.525528Z",
     "shell.execute_reply": "2024-02-18T19:48:36.524211Z"
    },
    "papermill": {
     "duration": 0.026741,
     "end_time": "2024-02-18T19:48:36.527387",
     "exception": false,
     "start_time": "2024-02-18T19:48:36.500646",
     "status": "completed"
    },
    "tags": []
   },
   "outputs": [],
   "source": [
    "if select_saccades:\n",
    "    sacc_vecs = (\n",
    "        fix_df.iloc[fix2_sel][['Relative X', 'Relative Y']].values\n",
    "        - fix_df.iloc[fix1_sel][['Relative X', 'Relative Y']].values)\n",
    "    plt.hist2d(x=sacc_vecs[:,0], y=sacc_vecs[:,1], cmap='gist_gray_r')\n",
    "    plt.xlabel('X, dva')\n",
    "    plt.ylabel('Y, dva')\n",
    "    plt.title('Distribution of selected saccade vectors')\n",
    "    plt.gca().set_aspect('equal')"
   ]
  },
  {
   "cell_type": "code",
   "execution_count": 37,
   "id": "4d6770bd",
   "metadata": {
    "execution": {
     "iopub.execute_input": "2024-02-18T19:48:36.559204Z",
     "iopub.status.busy": "2024-02-18T19:48:36.558197Z",
     "iopub.status.idle": "2024-02-18T19:48:36.766340Z",
     "shell.execute_reply": "2024-02-18T19:48:36.765782Z"
    },
    "papermill": {
     "duration": 0.226839,
     "end_time": "2024-02-18T19:48:36.770260",
     "exception": false,
     "start_time": "2024-02-18T19:48:36.543421",
     "status": "completed"
    },
    "tags": []
   },
   "outputs": [
    {
     "data": {
      "image/png": "[encoded data removed]",
      "text/plain": [
       "<Figure size 640x480 with 1 Axes>"
      ]
     },
     "metadata": {},
     "output_type": "display_data"
    }
   ],
   "source": [
    "plt.plot(ts, resps.mean((0,2)), '.-')\n",
    "plt.xlabel(f'Time aligned to {t_aln}, ms')\n",
    "plt.ylabel('Grand mean FR, spks/s');"
   ]
  },
  {
   "cell_type": "code",
   "execution_count": 38,
   "id": "0400289d",
   "metadata": {
    "execution": {
     "iopub.execute_input": "2024-02-18T19:48:36.818531Z",
     "iopub.status.busy": "2024-02-18T19:48:36.818057Z",
     "iopub.status.idle": "2024-02-18T19:48:37.044539Z",
     "shell.execute_reply": "2024-02-18T19:48:37.043907Z"
    },
    "papermill": {
     "duration": 0.24655,
     "end_time": "2024-02-18T19:48:37.048294",
     "exception": false,
     "start_time": "2024-02-18T19:48:36.801744",
     "status": "completed"
    },
    "tags": []
   },
   "outputs": [
    {
     "data": {
      "image/png": "[encoded data removed]",
      "text/plain": [
       "<Figure size 640x480 with 2 Axes>"
      ]
     },
     "metadata": {},
     "output_type": "display_data"
    }
   ],
   "source": [
    "vr = abs(np.nanpercentile(np.nanmean(cv_corrs,-1), 99.5))\n",
    "\n",
    "i = np.argmin(np.abs(ts - 200))\n",
    "map_ = np.ma.masked_invalid(cv_corrs[0,i,:,:,:]).mean(-1).filled(np.nan)\n",
    "cm = plt.imshow(map_, cmap='RdGy', origin='lower', extent=rf_extent, vmin=-vr, vmax=vr)\n",
    "cb = plt.colorbar(cm)\n",
    "cb.ax.set_ylabel('Model-based rev. corr., r')\n",
    "plt.xlabel('X, dva')\n",
    "plt.ylabel('Y, dva')\n",
    "if select_saccades:\n",
    "    plt.title(f'Fix 1-aligned model performance, {ts[i]} ms')\n",
    "else:\n",
    "    plt.title(f'Fixation-aligned model performance, {ts[i]} ms')"
   ]
  },
  {
   "cell_type": "code",
   "execution_count": 39,
   "id": "17292313",
   "metadata": {
    "execution": {
     "iopub.execute_input": "2024-02-18T19:48:37.097140Z",
     "iopub.status.busy": "2024-02-18T19:48:37.095957Z",
     "iopub.status.idle": "2024-02-18T19:48:37.102229Z",
     "shell.execute_reply": "2024-02-18T19:48:37.100863Z"
    },
    "papermill": {
     "duration": 0.026296,
     "end_time": "2024-02-18T19:48:37.105256",
     "exception": false,
     "start_time": "2024-02-18T19:48:37.078960",
     "status": "completed"
    },
    "tags": []
   },
   "outputs": [],
   "source": [
    "if select_saccades:\n",
    "    i = np.argmin(np.abs(ts - 200))\n",
    "    map_ = np.ma.masked_invalid(cv_corrs[1,i,:,:,:]).mean(-1).filled(np.nan)\n",
    "    cm = plt.imshow(map_, cmap='RdGy', origin='lower', extent=rf_extent, vmin=-vr, vmax=vr)\n",
    "    cb = plt.colorbar(cm)\n",
    "    cb.ax.set_ylabel('Model-based rev. corr., r')\n",
    "    plt.xlabel('X, dva')\n",
    "    plt.ylabel('Y, dva')\n",
    "    plt.title(f'Fix 2-aligned model performance, {ts[i]} ms');"
   ]
  },
  {
   "cell_type": "code",
   "execution_count": 40,
   "id": "cf9e0082",
   "metadata": {
    "execution": {
     "iopub.execute_input": "2024-02-18T19:48:37.150920Z",
     "iopub.status.busy": "2024-02-18T19:48:37.150229Z",
     "iopub.status.idle": "2024-02-18T19:48:37.159059Z",
     "shell.execute_reply": "2024-02-18T19:48:37.157910Z"
    },
    "papermill": {
     "duration": 0.026444,
     "end_time": "2024-02-18T19:48:37.160567",
     "exception": false,
     "start_time": "2024-02-18T19:48:37.134123",
     "status": "completed"
    },
    "tags": []
   },
   "outputs": [],
   "source": [
    "if select_saccades:\n",
    "    i = np.argmin(np.abs(ts))\n",
    "    map_ = np.ma.masked_invalid(cv_corrs[1,i,:,:,:]).mean(-1).filled(np.nan)\n",
    "    cm = plt.imshow(map_, cmap='RdGy', origin='lower', extent=rf_extent, vmin=-vr, vmax=vr)\n",
    "    cb = plt.colorbar(cm)\n",
    "    cb.ax.set_ylabel('Model-based rev. corr., r')\n",
    "    plt.xlabel('X, dva')\n",
    "    plt.ylabel('Y, dva')\n",
    "    plt.title(f'Fix 2-aligned model performance, {ts[i]} ms');"
   ]
  },
  {
   "cell_type": "code",
   "execution_count": 41,
   "id": "abf9eefe",
   "metadata": {
    "execution": {
     "iopub.execute_input": "2024-02-18T19:48:37.193799Z",
     "iopub.status.busy": "2024-02-18T19:48:37.193156Z",
     "iopub.status.idle": "2024-02-18T19:48:37.258386Z",
     "shell.execute_reply": "2024-02-18T19:48:37.257842Z"
    },
    "papermill": {
     "duration": 0.084414,
     "end_time": "2024-02-18T19:48:37.261753",
     "exception": false,
     "start_time": "2024-02-18T19:48:37.177339",
     "status": "completed"
    },
    "tags": []
   },
   "outputs": [
    {
     "data": {
      "image/png": "[encoded data removed]",
      "text/plain": [
       "<Figure size 300x300 with 1 Axes>"
      ]
     },
     "metadata": {},
     "output_type": "display_data"
    }
   ],
   "source": [
    "h = 3 * cv_corrs.shape[0]\n",
    "w = min(h / cv_corrs.shape[0] * cv_corrs.shape[1], 20)\n",
    "h = min(h, w / cv_corrs.shape[1] * cv_corrs.shape[0])\n",
    "plt.figure(figsize=(w,h))\n",
    "a = np.ma.masked_invalid(cv_corrs).mean(-1)\n",
    "a = a.filled(np.nan)\n",
    "a = a[:,:,::-1,:]  # flip y such that the first rows now correspond to larger y\n",
    "a = np.hstack(np.hstack(a))\n",
    "plt.imshow(a, cmap='RdGy', vmin=-vr, vmax=vr);\n",
    "ax = plt.gca()\n",
    "ax.set_xticks([])\n",
    "ax.set_yticks([])\n",
    "[v.set_visible(False) for v in ax.spines.values()]\n",
    "plt.xlabel('Response window')\n",
    "plt.ylabel('Condition')\n",
    "plt.title('Mean 3D map per condition');"
   ]
  }
 ],
 "metadata": {
  "kernelspec": {
   "display_name": "Python 3 (ipykernel)",
   "language": "python",
   "name": "python3"
  },
  "language_info": {
   "codemirror_mode": {
    "name": "ipython",
    "version": 3
   },
   "file_extension": ".py",
   "mimetype": "text/x-python",
   "name": "python",
   "nbconvert_exporter": "python",
   "pygments_lexer": "ipython3",
   "version": "3.10.12"
  },
  "papermill": {
   "default_parameters": {},
   "duration": 703.516276,
   "end_time": "2024-02-18T19:48:37.819371",
   "environment_variables": {},
   "exception": null,
   "input_path": "script_6b_feat_corr_map.ipynb",
   "output_path": "../test_results/maps_fix/log_6b_feat_corr_map-Pa210201.ipynb",
   "parameters": {
    "ifix_sel": 2,
    "output_dir": "../test_results/maps_fix",
    "rfmap_dir": "../test_results/maps_fix",
    "sdf_suffix": "-mwa_1",
    "select_saccades": false,
    "sess_name": "Pa210201",
    "t_aln": "fix_on",
    "t_win": 200
   },
   "start_time": "2024-02-18T19:36:54.303095",
   "version": "2.5.0"
  }
 },
 "nbformat": 4,
 "nbformat_minor": 5
}