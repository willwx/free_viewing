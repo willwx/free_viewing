{
 "cells": [
  {
   "cell_type": "code",
   "execution_count": 1,
   "id": "0be604cb-50ae-432a-8dd3-c836bc2285d4",
   "metadata": {},
   "outputs": [],
   "source": [
    "import sys\n",
    "\n",
    "import matplotlib as mpl\n",
    "import matplotlib.pyplot as plt\n",
    "import numpy as np\n",
    "import pandas as pd\n",
    "\n",
    "sys.path.append('../lib')\n",
    "from local_paths import database_dir, mplstyle_path\n",
    "from stats_utils import get_bootstrap_spread\n",
    "from summary_utils import annotate_unit_df, select_units, region_palette"
   ]
  },
  {
   "cell_type": "code",
   "execution_count": 2,
   "id": "c77d6951-9351-4d63-a6de-77a98d0a9edf",
   "metadata": {},
   "outputs": [],
   "source": [
    "plt.style.use(mplstyle_path)"
   ]
  },
  {
   "cell_type": "markdown",
   "id": "cc66e0e1-59d2-4397-97b3-95008706333d",
   "metadata": {},
   "source": [
    "# Parameters"
   ]
  },
  {
   "cell_type": "code",
   "execution_count": 3,
   "id": "2f877139-aca8-4dfd-bf8b-852870684971",
   "metadata": {},
   "outputs": [],
   "source": [
    "lat_df_path = (\n",
    "    '../Postprocessing/Latency/summary/'\n",
    "    'fix_on_latency-more.csv.gz')\n",
    "\n",
    "# analysis-specific conditions\n",
    "binwidth = 12.5\n",
    "\n",
    "# unit selection\n",
    "unit_sel_path = database_dir + 'unit_sel/fixation_selective.csv.gz'\n",
    "\n",
    "# statistics\n",
    "n_bootstraps = 1000\n",
    "spread_type = 'ci_of_mean'\n",
    "point_spread_type = 'ci_of_mean'"
   ]
  },
  {
   "cell_type": "markdown",
   "id": "66ef5255-8ea1-4bec-9279-fea48bb3a98a",
   "metadata": {},
   "source": [
    "# Load data"
   ]
  },
  {
   "cell_type": "code",
   "execution_count": 4,
   "id": "bf689a8e-3c76-48a3-9e1d-d4c17f8a9c16",
   "metadata": {},
   "outputs": [],
   "source": [
    "df = pd.read_csv(lat_df_path)\n",
    "df = df[df['Level']=='Unit'].rename(columns={'Name':'Unit'})\n",
    "df = annotate_unit_df(df).reset_index()"
   ]
  },
  {
   "cell_type": "markdown",
   "id": "b1258287-6bc7-42d6-8b91-96e25d49d417",
   "metadata": {},
   "source": [
    "# Select units"
   ]
  },
  {
   "cell_type": "code",
   "execution_count": 5,
   "id": "4f8db3d0-0211-464b-a941-f1e257b187ba",
   "metadata": {},
   "outputs": [
    {
     "name": "stdout",
     "output_type": "stream",
     "text": [
      "> Selected units: n = 4568 of 4736 (96.5% of data, 27.9% of selection) based on fixation_selective.csv.gz\n",
      "> Excluded 4 rare subjects per region:\n",
      "\t                Units  Norm. units\n",
      "\tRegion Subject                    \n",
      "\tAIT    Bf           2     0.033058\n",
      "\t       Na           2     0.033058\n",
      "\tCIT    Bf           3     0.017857\n",
      "\t       Re           3     0.017857\n",
      "  Selected units: n = 4558 of 4568 (99.8%)\n"
     ]
    }
   ],
   "source": [
    "df, unit_sel, regions = select_units(\n",
    "    df,\n",
    "    selection_path=unit_sel_path)\n",
    "lat_df = df.set_index(['Session', 'Unit'])"
   ]
  },
  {
   "cell_type": "code",
   "execution_count": 6,
   "id": "fe640737-025f-4528-ade1-d97a5c234153",
   "metadata": {},
   "outputs": [],
   "source": [
    "lat_df.reset_index()[['Session','Unit']].to_csv('unit_sel/fig5ab.csv.gz', index=False)"
   ]
  },
  {
   "cell_type": "markdown",
   "id": "81be3d75-714e-46ef-812b-d34a8ccb7232",
   "metadata": {},
   "source": [
    "# Summarize results per region"
   ]
  },
  {
   "cell_type": "code",
   "execution_count": 7,
   "id": "b321c933-cd18-4dbf-88d3-7ca9e944bac7",
   "metadata": {},
   "outputs": [],
   "source": [
    "unit_df = lat_df[['Region','Subject']].copy()\n",
    "unit_df['Index'] = np.arange(len(unit_df))\n",
    "rg = np.random.default_rng(0)\n",
    "result_vals = lat_df['Latency'].values\n",
    "result_dvals = lat_df['Boots. stdev.'].values"
   ]
  },
  {
   "cell_type": "code",
   "execution_count": 8,
   "id": "7da3375c-3549-42c0-8930-774b36260122",
   "metadata": {},
   "outputs": [],
   "source": [
    "byregion_bysubj_vals = {}\n",
    "byregion_bysubj_dvals = {}\n",
    "byregion_bysubj_nunit = {}\n",
    "\n",
    "for region, region_unit_df in unit_df.groupby('Region'):\n",
    "    byregion_bysubj_vals[region] = bysubj_vals = {}\n",
    "    byregion_bysubj_dvals[region] = bysubj_dvals = {}\n",
    "    byregion_bysubj_nunit[region] = bysubj_nunit = {}\n",
    "\n",
    "    for subj, subj_region_unit_df, in region_unit_df.groupby('Subject'):\n",
    "        idc = subj_region_unit_df['Index'].values\n",
    "        bysubj_vals[subj] = result_vals[..., idc]   # shape (ncond, nt, nu)\n",
    "        bysubj_dvals[subj] = result_dvals[..., idc]   # shape (ncond, nt, nu)\n",
    "        bysubj_nunit[subj] = idc.size"
   ]
  },
  {
   "cell_type": "code",
   "execution_count": 9,
   "id": "d3904bf1-665d-4141-9d20-a48dec751483",
   "metadata": {},
   "outputs": [],
   "source": [
    "# define per-region bins for latency\n",
    "byregion_bins = {}\n",
    "\n",
    "u = np.ceil(result_vals.max() / binwidth) * binwidth\n",
    "\n",
    "for region, df_ in unit_df.groupby('Region'):\n",
    "    idc = df_['Index'].values\n",
    "    vals_ = result_vals[idc]\n",
    "    l = min(0, np.floor(vals_.min() / binwidth) * binwidth)\n",
    "    byregion_bins[region] = np.arange(l, u+binwidth/2, binwidth)"
   ]
  },
  {
   "cell_type": "code",
   "execution_count": 10,
   "id": "5d47035c-7ef7-44e2-b13c-0d60e655653a",
   "metadata": {},
   "outputs": [],
   "source": [
    "def get_cdf(vals, bins):\n",
    "    return np.cumsum(np.histogram(vals, bins=bins)[0]) / vals.size"
   ]
  },
  {
   "cell_type": "code",
   "execution_count": 11,
   "id": "15bcd9bd-e72e-4a77-8046-ac4405474fbe",
   "metadata": {},
   "outputs": [
    {
     "name": "stderr",
     "output_type": "stream",
     "text": [
      "/tmp/ipykernel_242073/8960185.py:57: RuntimeWarning: Mean of empty slice\n",
      "  center = {k: dict(CDF=stat).get(k, point_stat)(v, 0) for k, v in center.items()}\n",
      "/tmp/ipykernel_242073/8960185.py:82: RuntimeWarning: Mean of empty slice\n",
      "  boots[k][ib] = stat_(v, 0)\n"
     ]
    }
   ],
   "source": [
    "byregion_byresult_center_boots = {}\n",
    "byregion_bysubj_named_nunits = {}\n",
    "byregion_bysubj_byresult_center_boots = {}\n",
    "result_names = (\n",
    "    'CDF', 'Latency', 'Stdev. latency',\n",
    "    'Frac. < 0', 'Latency, < 0', 'Stdev. latency, < 0')\n",
    "count_names = ('Neuron count', 'Lat. < 0 neuron count')\n",
    "\n",
    "stat = np.nanmedian if 'of_median' in spread_type else np.nanmean\n",
    "point_stat = np.nanmedian if 'of_median' in point_spread_type else np.nanmean\n",
    "\n",
    "\n",
    "for region, bysubj_vals in byregion_bysubj_vals.items():\n",
    "    subjs = np.array(list(bysubj_vals))\n",
    "    bins = byregion_bins[region]\n",
    "    bysubj_dvals = byregion_bysubj_dvals[region]\n",
    "\n",
    "\n",
    "    # obtain per-region, per-subject estimates\n",
    "    center = {k: np.full(subjs.size, np.nan) for k in result_names+count_names if k != 'CDF'}\n",
    "    center['CDF'] = np.empty((subjs.size, bins.size-1))\n",
    "    boots = {k: np.full((subjs.size, n_bootstraps), np.nan) for k in result_names if k != 'CDF'}\n",
    "    boots['CDF'] = np.empty((subjs.size, n_bootstraps, bins.size-1))\n",
    "    for i, (s, v) in enumerate(bysubj_vals.items()):\n",
    "        dv = bysubj_dvals[s]\n",
    "        assert v.shape[-1] == dv.shape[-1]\n",
    "        center['Neuron count'][i] = v.shape[-1]\n",
    "        center['CDF'][i] = get_cdf(v, bins)\n",
    "        center['Latency'][i] = point_stat(v)\n",
    "        center['Stdev. latency'][i] = point_stat(dv)\n",
    "        m = v < 0\n",
    "        center['Lat. < 0 neuron count'][i] = m.sum()\n",
    "        center['Frac. < 0'][i] = m.mean()\n",
    "        if m.any():\n",
    "            center['Latency, < 0'][i] = point_stat(v[m])\n",
    "            center['Stdev. latency, < 0'][i] = point_stat(dv[m])\n",
    "\n",
    "        for ib in range(n_bootstraps):\n",
    "            idc = rg.choice(v.size, v.size)\n",
    "            v_ = v[idc]\n",
    "            dv_ = dv[idc]\n",
    "            boots['CDF'][i,ib] = get_cdf(v_, bins)\n",
    "            boots['Latency'][i,ib] = point_stat(v_)\n",
    "            boots['Stdev. latency'][i,ib] = point_stat(dv_)\n",
    "            m = v_ < 0\n",
    "            boots['Frac. < 0'][i,ib] = m.mean()\n",
    "            if m.any():\n",
    "                boots['Latency, < 0'][i,ib] = point_stat(v_[m])\n",
    "                boots['Stdev. latency, < 0'][i,ib] = point_stat(dv_[m])\n",
    "\n",
    "    byregion_bysubj_named_nunits[region] = {\n",
    "        s: {k: int(center[k][i]) for k in count_names}\n",
    "        for i, s in enumerate(subjs)}\n",
    "    byregion_bysubj_byresult_center_boots[region] = {\n",
    "        s: {k: (center[k][i], boots[k][i]) for k in result_names}\n",
    "        for i, s in enumerate(subjs)}\n",
    "    center = {k: dict(CDF=stat).get(k, point_stat)(v, 0) for k, v in center.items()}\n",
    "\n",
    "\n",
    "    # obtain per-region estimates summarized across subjects\n",
    "    boots = {k: np.empty(n_bootstraps) for k in result_names if k != 'CDF'}\n",
    "    boots['CDF'] = np.empty((n_bootstraps, bins.size-1))\n",
    "    for ib in range(n_bootstraps):\n",
    "        boots_ = {k: np.full(subjs.size, np.nan) for k in result_names if k != 'CDF'}\n",
    "        boots_['CDF'] = np.empty((subjs.size, bins.size-1))\n",
    "        subjs_ = rg.choice(subjs, subjs.size)  # bootstrap-sample subjects\n",
    "        for i, s in enumerate(subjs_):\n",
    "            v = bysubj_vals[s]\n",
    "            idc = rg.choice(v.size, v.size)  # bootstrap-sample units per subject\n",
    "            v = v[idc]\n",
    "            dv = bysubj_dvals[s][idc]\n",
    "            boots_['CDF'][i] = get_cdf(v, bins)\n",
    "            boots_['Latency'][i] = point_stat(v)\n",
    "            boots_['Stdev. latency'][i] = point_stat(dv)\n",
    "            m = v < 0\n",
    "            boots_['Frac. < 0'][i] = m.mean()\n",
    "            if m.any():\n",
    "                boots_['Latency, < 0'][i] = point_stat(v[m])\n",
    "                boots_['Stdev. latency, < 0'][i] = point_stat(dv[m])\n",
    "        for k, v in boots_.items():\n",
    "            stat_ = stat if k == 'CDF' else point_stat\n",
    "            boots[k][ib] = stat_(v, 0)\n",
    "\n",
    "    byregion_byresult_center_boots[region] = byresult_center_boots = {}\n",
    "    for k in result_names:\n",
    "        byresult_center_boots[k] = center[k], boots[k]"
   ]
  },
  {
   "cell_type": "markdown",
   "id": "64ba627d-1ce4-4438-b3bd-2d786ef3b079",
   "metadata": {},
   "source": [
    "# Make plots"
   ]
  },
  {
   "cell_type": "code",
   "execution_count": 12,
   "id": "f21dbba5-46ed-4871-a938-b8342495ef5e",
   "metadata": {},
   "outputs": [
    {
     "name": "stdout",
     "output_type": "stream",
     "text": [
      "Neuron count\n",
      "V1:\t 14/2\n",
      "V2:\t 28/1\n",
      "V4:\t 449/3\n",
      "PIT:\t 9/1\n",
      "CIT:\t 3512/5\n",
      "AIT:\t 546/4\n",
      "\n",
      "Lat. < 0 neuron count\n",
      "V1:\t 3/2\n",
      "V2:\t 2/1\n",
      "V4:\t 2/3\n",
      "PIT:\t 0/1\n",
      "CIT:\t 35/5\n",
      "AIT:\t 71/4\n",
      "\n"
     ]
    }
   ],
   "source": [
    "# Sanity check\n",
    "for k0, d0 in byregion_bysubj_nunit.items():\n",
    "    for k1, v1 in d0.items():\n",
    "        assert v1 == byregion_bysubj_named_nunits[k0][k1]['Neuron count']\n",
    "\n",
    "for n in count_names:\n",
    "    print(n)\n",
    "    for k0 in regions:\n",
    "        d0 = byregion_bysubj_named_nunits[k0]\n",
    "        print(k0+\":\\t\", f'{sum(v[n] for v in d0.values())}/{len(d0)}')\n",
    "    print()"
   ]
  },
  {
   "cell_type": "code",
   "execution_count": 13,
   "id": "035df0ae-13d6-4e33-8baf-1886a5192032",
   "metadata": {},
   "outputs": [
    {
     "name": "stdout",
     "output_type": "stream",
     "text": [
      "center/spread estimate: ci_of_mean\n"
     ]
    },
    {
     "data": {
      "image/png": "[encoded data removed]",
      "text/plain": [
       "<Figure size 400x300 with 1 Axes>"
      ]
     },
     "metadata": {},
     "output_type": "display_data"
    }
   ],
   "source": [
    "fig = plt.figure(figsize=(2,1.5))\n",
    "ax = plt.gca()\n",
    "\n",
    "for i, region in enumerate(regions):\n",
    "    x = byregion_bins[region]\n",
    "    c = region_palette[region]\n",
    "    m, bs = byregion_byresult_center_boots[region]['CDF']\n",
    "\n",
    "    plt.plot(x, np.insert(m,0,0), c=c, zorder=2+i/10)\n",
    "    spread = np.insert(get_bootstrap_spread(m, bs, spread_type), 0, 0, axis=1)\n",
    "    plt.fill_between(x, *spread, fc=c, ec='none', alpha=0.1, zorder=1.95+i/10)\n",
    "\n",
    "xlim = (-50, 150)\n",
    "xbound = (0, 125)\n",
    "xtks = (0, 125)\n",
    "xmtks = np.arange(xbound[0], xbound[1]+1, 25)\n",
    "ax.set_xlim(xlim)\n",
    "ax.set_xticks(xtks)\n",
    "ax.set_xticks(xmtks, minor=True)\n",
    "ax.spines['bottom'].set_bounds(xbound)\n",
    "ax.set_xlabel('Fixation-onset latency, ms')\n",
    "\n",
    "ylim = (0, 1)\n",
    "ybound = (0, 1)\n",
    "ytks = ybound\n",
    "ymtks = np.arange(ybound[0], ybound[1]+.1, .25)\n",
    "ax.set_ylim(ylim)\n",
    "ax.set_yticks(ytks)\n",
    "ax.set_yticks(ymtks, minor=True)\n",
    "ax.spines['left'].set_bounds(ybound)\n",
    "ax.set_ylabel('Cumulative distribution')\n",
    "\n",
    "tform = mpl.transforms.blended_transform_factory(ax.transData, ax.transAxes)\n",
    "ax.xaxis.set_label_coords(np.mean(xbound), -.125, transform=tform)\n",
    "\n",
    "h = .6\n",
    "for region in regions:\n",
    "    c = region_palette[region]\n",
    "    ns = np.array(list(byregion_bysubj_nunit[region].values()))\n",
    "    l = f'{region}, n = {ns.sum()}/{len(ns)}'\n",
    "    ax.text(.825, h, l, ha='left', va='top',\n",
    "            transform=ax.transAxes, color=c, fontsize=6)\n",
    "    h -= .1\n",
    "\n",
    "print('center/spread estimate:', spread_type)\n",
    "\n",
    "plt.savefig('plots/fig5a.png')"
   ]
  },
  {
   "cell_type": "code",
   "execution_count": 14,
   "id": "11659227-facd-4f44-aea9-1bed2ec16cdf",
   "metadata": {},
   "outputs": [
    {
     "name": "stdout",
     "output_type": "stream",
     "text": [
      "113 of 4558 units (2.5%) have fix-on latency < 0 ms\n"
     ]
    }
   ],
   "source": [
    "t = 0\n",
    "m = lat_df['Latency'] < t\n",
    "print(f'{m.sum()} of {m.size} units ({m.mean()*100:.1f}%) have fix-on latency < {t} ms')\n",
    "lat_df[m].index.to_frame(index=False).to_csv(f'unit_sel/lat_fix_lt_{t}.csv.gz', index=False)"
   ]
  },
  {
   "cell_type": "markdown",
   "id": "59a1d65c-c503-4bdb-9bbb-bb55b032c015",
   "metadata": {},
   "source": [
    "# Get and plot point estimates"
   ]
  },
  {
   "cell_type": "code",
   "execution_count": 15,
   "id": "9d66da4a-fa03-4154-9da0-db864430da7b",
   "metadata": {},
   "outputs": [
    {
     "name": "stdout",
     "output_type": "stream",
     "text": [
      "center/spread estimate: ci_of_mean\n"
     ]
    },
    {
     "data": {
      "image/png": "[encoded data removed]",
      "text/plain": [
       "<Figure size 600x300 with 3 Axes>"
      ]
     },
     "metadata": {},
     "output_type": "display_data"
    }
   ],
   "source": [
    "fig, axs = plt.subplots(1, 3, figsize=(3, 1.5), sharey=True)\n",
    "plt.subplots_adjust(wspace=0.4)\n",
    "\n",
    "for res, ax in zip(('Latency', 'Frac. < 0', 'Latency, < 0'), axs):\n",
    "    for i, region in enumerate(regions):\n",
    "        y = len(regions) - 1 - i\n",
    "        c = region_palette[region]\n",
    "        m, bs = byregion_byresult_center_boots[region][res]\n",
    "        ax.scatter(m, y, color=c, s=20)\n",
    "\n",
    "        if np.isfinite(bs).any():\n",
    "            spread = get_bootstrap_spread(m, bs, point_spread_type)\n",
    "            ax.hlines(y, *spread, color=c)\n",
    "\n",
    "        bysubj_center_boots = {\n",
    "            s: v[res] for s, v in byregion_bysubj_byresult_center_boots[region].items()}\n",
    "        subjs = np.array(list(bysubj_center_boots.keys()))\n",
    "        js = (np.linspace(0, 1, subjs.size+2)[1:-1] - .5) * .4\n",
    "        c = (2 + c) / 3\n",
    "        for j, subj in zip(js, subjs):\n",
    "            m, bs = bysubj_center_boots[subj]\n",
    "            ax.scatter(m, y+j, fc=c, ec='w', s=5, lw=0.5, zorder=3)\n",
    "\n",
    "for ax in axs:\n",
    "    ax.set_ylim(-.5, len(regions)-.5)\n",
    "    ax.tick_params(axis='y', length=0)\n",
    "\n",
    "ax = axs[0]\n",
    "xbound = (0, 100)\n",
    "ax.set_xlim(xbound)\n",
    "ax.set_xticks(xbound, tuple(map(str, xbound)))\n",
    "ax.set_xticks(np.arange(*xbound, 25), minor=True)\n",
    "ax.spines['bottom'].set_bounds(xbound)\n",
    "ax.set_xlabel('Latency, ms')\n",
    "ax.set_yticks(range(len(regions)), regions[::-1])\n",
    "\n",
    "ax = axs[1]\n",
    "xbound = (0, .5)\n",
    "ax.set_xlim(0, .51)\n",
    "ax.set_xticks(xbound, tuple(map(str, xbound)))\n",
    "ax.set_xticks(np.arange(*xbound, .1), minor=True)\n",
    "ax.spines['bottom'].set_bounds(xbound)\n",
    "ax.set_xlabel('Fraction latency < 0')\n",
    "\n",
    "ax = axs[2]\n",
    "xbound = (-50, 0)\n",
    "ax.set_xlim((-50, 2))\n",
    "ax.set_xticks(xbound, tuple(map(str, xbound)))\n",
    "ax.set_xticks(np.arange(*xbound, 25), minor=True)\n",
    "ax.spines['bottom'].set_bounds(xbound)\n",
    "ax.set_xlabel('Latency, ms')\n",
    "\n",
    "t = mpl.transforms.blended_transform_factory(ax.transAxes, ax.transData)\n",
    "n = 'Lat. < 0 neuron count'\n",
    "for i, region in enumerate(regions):\n",
    "    y = len(regions) - 1 - i\n",
    "    c = region_palette[region]\n",
    "    d = byregion_bysubj_named_nunits[region]\n",
    "    d = {k: v[n] for k, v in d.items()}\n",
    "    ns = list(v for v in d.values() if v)\n",
    "    ns = f'{sum(ns)}/{len(ns)}' if ns else '0'\n",
    "    ax.text(1, y, f'n = {ns}', color=c, fontsize=6, transform=t)\n",
    "\n",
    "print('center/spread estimate:', point_spread_type)\n",
    "\n",
    "plt.savefig('plots/fig5b.png')"
   ]
  },
  {
   "cell_type": "code",
   "execution_count": 16,
   "id": "75028b6c-bc91-4943-91c3-98e81d7c1913",
   "metadata": {},
   "outputs": [
    {
     "name": "stdout",
     "output_type": "stream",
     "text": [
      "center/spread estimate: ci_of_mean\n",
      "Latency\n",
      "V1:\t 25,  11 --  43\n",
      "V2:\t 39,  28 --  49\n",
      "V4:\t 54,  49 --  61\n",
      "PIT:\t 73,  64 --  83\n",
      "CIT:\t 60,  44 --  71\n",
      "AIT:\t 67,  56 --  79\n",
      "\n",
      "Frac. < 0\n",
      "V1:\t15%,  0% -- 45%\n",
      "V2:\t 7%,  0% -- 18%\n",
      "V4:\t 0%,  0% --  1%\n",
      "PIT:\t 0%,  0% --  0%\n",
      "CIT:\t 4%,  1% -- 10%\n",
      "AIT:\t11%,  6% -- 15%\n",
      "\n",
      "Latency, < 0\n",
      "V1:\t -4,  -9 --  -1\n",
      "V2:\t-32, -41 -- -23\n",
      "V4:\t-27, -46 --  -9\n",
      "PIT:\tnan, nan -- nan\n",
      "CIT:\t-22, -31 -- -14\n",
      "AIT:\t-22, -31 -- -11\n",
      "\n",
      "Stdev. latency\n",
      "V1:\t 11,   7 --  15\n",
      "V2:\t 21,  17 --  26\n",
      "V4:\t 20,  17 --  24\n",
      "PIT:\t 35,  30 --  41\n",
      "CIT:\t 23,  18 --  26\n",
      "AIT:\t 30,  26 --  35\n",
      "\n"
     ]
    }
   ],
   "source": [
    "print('center/spread estimate:', point_spread_type)\n",
    "for res in ('Latency', 'Frac. < 0', 'Latency, < 0', 'Stdev. latency'):\n",
    "    print(res)\n",
    "    for i, region in enumerate(regions):\n",
    "        m, bs = byregion_byresult_center_boots[region][res]\n",
    "        if spread_type == 'ci_of_mean':\n",
    "            if np.isfinite(bs).any():\n",
    "                spread = get_bootstrap_spread(m, bs, spread_type)\n",
    "            else:\n",
    "                spread = [np.nan, np.nan]\n",
    "            if 'Frac.' in res:\n",
    "                print(f'{region}:\\t{m*100:2.0f}%, {spread[0]*100:2.0f}% -- {spread[1]*100:2.0f}%')\n",
    "            else:\n",
    "                print(f'{region}:\\t{m:3.0f}, {spread[0]:3.0f} -- {spread[1]:3.0f}')\n",
    "        else:\n",
    "            d = get_bootstrap_spread(m, bs, point_spread_type, return_dev=True)\n",
    "            if 'Frac.' in res:\n",
    "                print(f'{region}:\\t{m*100:2.0f}% +/- {d*100:2.0f}%')\n",
    "            else:\n",
    "                print(f'{region}:\\t{m:3.0f} +/- {d:3.0f}')\n",
    "    print()"
   ]
  }
 ],
 "metadata": {
  "kernelspec": {
   "display_name": "Python 3 (ipykernel)",
   "language": "python",
   "name": "python3"
  },
  "language_info": {
   "codemirror_mode": {
    "name": "ipython",
    "version": 3
   },
   "file_extension": ".py",
   "mimetype": "text/x-python",
   "name": "python",
   "nbconvert_exporter": "python",
   "pygments_lexer": "ipython3",
   "version": "3.10.12"
  }
 },
 "nbformat": 4,
 "nbformat_minor": 5
}
