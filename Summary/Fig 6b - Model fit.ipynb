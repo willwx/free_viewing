{
 "cells": [
  {
   "cell_type": "code",
   "execution_count": 1,
   "id": "68ac7077-18cf-4dcc-9f0e-3e5974bb9cce",
   "metadata": {},
   "outputs": [],
   "source": [
    "import sys\n",
    "from pathlib import Path\n",
    "\n",
    "import h5py as h5\n",
    "import matplotlib as mpl\n",
    "import matplotlib.pyplot as plt\n",
    "import numpy as np\n",
    "import pandas as pd\n",
    "\n",
    "sys.path.append('../lib')\n",
    "from local_paths import analysis_dir, database_dir, mplstyle_path\n",
    "from stats_utils import get_bootstrap_spread\n",
    "from summary_utils import annotate_unit_df, select_units, summarize_results_per_region, region_palette"
   ]
  },
  {
   "cell_type": "code",
   "execution_count": 2,
   "id": "d5c7461b-f11c-4312-b666-f3e4bc975f28",
   "metadata": {},
   "outputs": [],
   "source": [
    "plt.style.use(mplstyle_path)"
   ]
  },
  {
   "cell_type": "markdown",
   "id": "5b34fe64-c0d1-4bd7-b49c-8753393041e7",
   "metadata": {},
   "source": [
    "# Parameters"
   ]
  },
  {
   "cell_type": "code",
   "execution_count": 3,
   "id": "f69d6dcc-7297-4d99-bbaf-c5ae8878d0e2",
   "metadata": {},
   "outputs": [],
   "source": [
    "# analysis-specific conditions\n",
    "# - model fit\n",
    "analysis_name1 = 'vision_model'\n",
    "suffix1s = ('-1pt-ifix0', '-1pt-ifix1')\n",
    "results_dir1s = tuple(analysis_dir + analysis_name1 + suffix1 for suffix1 in suffix1s)\n",
    "# - self-consistency ceiling\n",
    "analysis_name2 = 'rsc_1pt'\n",
    "results_dir2 = analysis_dir + analysis_name2\n",
    "# - tally conditions\n",
    "conds = ('self_cons',) + tuple(f'model_fit{i}' for i in range(len(results_dir1s)))\n",
    "\n",
    "# unit selection\n",
    "unit_sel_path = database_dir + 'unit_sel/visually_selective.csv.gz'\n",
    "\n",
    "# statistics\n",
    "spread_type = 'ci_of_mean'"
   ]
  },
  {
   "cell_type": "markdown",
   "id": "050c28ab-2266-4333-8d2b-89aa1103476d",
   "metadata": {},
   "source": [
    "# Load data"
   ]
  },
  {
   "cell_type": "code",
   "execution_count": 4,
   "id": "602ee17e-b77f-44d1-9c1d-65efeb0107fb",
   "metadata": {},
   "outputs": [
    {
     "name": "stdout",
     "output_type": "stream",
     "text": [
      "results:\n",
      "\tself_cons      \t(66074,)\tfloat32\n",
      "\tmodel_fit0     \t(66074,)\tfloat32\n",
      "\tmodel_fit1     \t(66074,)\tfloat32\n",
      "\tSession        \t(66074,)\t<U10\n",
      "\tUnit           \t(66074,)\t<U4\n",
      "671 sessions\n"
     ]
    }
   ],
   "source": [
    "unit_df = {'Session': [], 'Unit': []}\n",
    "results = {k: [] for k in conds}\n",
    "\n",
    "results_dir1s = tuple(Path(d).expanduser() for d in results_dir1s)\n",
    "results_dir2 = Path(results_dir2).expanduser()\n",
    "fns = {v.name for v in results_dir2.glob('*.h5')}\n",
    "for d in results_dir1s:\n",
    "    fns &= {v.name for v in d.glob('*.h5')}\n",
    "\n",
    "for fn in fns:\n",
    "    fp1s = tuple(d / fn for d in results_dir1s)\n",
    "    fp2 = results_dir2 / fn\n",
    "\n",
    "    f1s = tuple(h5.File(fp, 'r') for fp in fp1s)\n",
    "    with h5.File(fp2, 'r') as f2:\n",
    "        try:\n",
    "            for f1 in f1s:\n",
    "                assert f1[f'progress_report/{analysis_name1}/all_done'][()]\n",
    "            dset1s = tuple(f1['vision_model/data'] for f1 in f1s)\n",
    "            assert f2[f'progress_report/{analysis_name2}/all_done'][()]\n",
    "            dset2 = f2['rsc_1pt/current']\n",
    "            assert isinstance(dset2, h5.Group)\n",
    "        except (KeyError, AssertionError):\n",
    "            continue\n",
    "\n",
    "        # find units shared across all analyses ...\n",
    "        unit_names1s = []\n",
    "        unit_names2 = dset2['unit'][()].astype(str)\n",
    "        unit_names = unit_names2\n",
    "        for dset1 in dset1s:\n",
    "            unit_names1 = dset1['unit'][()].astype(str)\n",
    "            unit_names1s.append(unit_names1)\n",
    "            unit_names = np.intersect1d(unit_names, unit_names1)\n",
    "        # .. and determine the units' indices\n",
    "        sel1s = []\n",
    "        for unit_names1 in unit_names1s:\n",
    "            sel1s.append(np.intersect1d(unit_names1, unit_names, assume_unique=True, return_indices=True)[1])\n",
    "        sel2 = np.intersect1d(unit_names2, unit_names, assume_unique=True, return_indices=True)[1]\n",
    "\n",
    "        # load data, aligning units\n",
    "        for i, (dset1, sel1) in enumerate(zip(dset1s, sel1s)):\n",
    "            results[f'model_fit{i}'].append(dset1['corr'][()][:,sel1].ravel())  # shape (nu,)\n",
    "        results['self_cons'].append(dset2['sample'][()][sel2])  # shape (nu,)\n",
    "    for f in f1s: f.close()\n",
    "\n",
    "    unit_df['Session'].append(np.full(unit_names.size, fp2.stem))\n",
    "    unit_df['Unit'].append(unit_names)\n",
    "\n",
    "print('results:')\n",
    "for d in (results, unit_df):\n",
    "    for k, v in d.items():\n",
    "        d[k] = v = np.concatenate(v, axis=-1)\n",
    "        print('', f'{k:<15s}', v.shape, v.dtype, sep='\\t')\n",
    "print(np.unique(unit_df['Session']).size, 'sessions')\n",
    "unit_df = annotate_unit_df(pd.DataFrame(unit_df))"
   ]
  },
  {
   "cell_type": "markdown",
   "id": "e38b395e-7812-4df8-a793-73a465dfeefb",
   "metadata": {},
   "source": [
    "# Normalize model fit"
   ]
  },
  {
   "cell_type": "code",
   "execution_count": 5,
   "id": "4f6ec045-088f-4397-a5da-1e3180102152",
   "metadata": {},
   "outputs": [],
   "source": [
    "b = results['self_cons']\n",
    "b = np.ma.masked_array(b, mask=b<=0)  # norm by non-positive self-cons is undefined\n",
    "conds2 = conds\n",
    "for i in range(len(results_dir1s)):\n",
    "    a = results[f'model_fit{i}']\n",
    "    results[f'norm_fit{i}'] = np.square(np.clip(a/b, 0, 1))\n",
    "    conds2 = conds2 + (f'norm_fit{i}',)"
   ]
  },
  {
   "cell_type": "markdown",
   "id": "13f1183a-cf18-4925-aeef-31b7393e61cc",
   "metadata": {},
   "source": [
    "# Select units"
   ]
  },
  {
   "cell_type": "code",
   "execution_count": 6,
   "id": "cc79de17-3a73-4256-a24d-254016076301",
   "metadata": {},
   "outputs": [
    {
     "name": "stdout",
     "output_type": "stream",
     "text": [
      "> Selected units: n = 26889 of 66074 (40.7% of data, 99.7% of selection) based on visually_selective.csv.gz\n",
      "> Selected units: n = 26887 of 26889 (100.0%) with valid values\n",
      "> Excluded 2 rare subjects per region:\n",
      "\t                Units  Norm. units\n",
      "\tRegion Subject                    \n",
      "\tAIT    Ot           7     0.010946\n",
      "\tCIT    Re          28     0.023870\n",
      "  Selected units: n = 26852 of 26887 (99.9%)\n"
     ]
    }
   ],
   "source": [
    "result_vals = np.array(list(results.values()))\n",
    "unit_df, unit_sel, regions = select_units(\n",
    "    unit_df,\n",
    "    selection_path=unit_sel_path,\n",
    "    select_valid_values=result_vals)\n",
    "\n",
    "result_vals = result_vals[...,unit_sel]\n",
    "for k, v in results.items():\n",
    "    results[k] = v[unit_sel]\n",
    "unit_df.reset_index()[['Session','Unit']].to_csv('unit_sel/fig6b.csv.gz', index=False)"
   ]
  },
  {
   "cell_type": "markdown",
   "id": "d782ec84-3f4c-4ec8-a6a3-9e10a473a2db",
   "metadata": {},
   "source": [
    "Save well-fit units only for downstream analyses"
   ]
  },
  {
   "cell_type": "code",
   "execution_count": 7,
   "id": "1578ce8f-875d-43eb-9e65-870d6aa4e36d",
   "metadata": {},
   "outputs": [],
   "source": [
    "m = results['norm_fit1'] >= .5\n",
    "unit_df[m].reset_index()[['Session', 'Unit']].to_csv('unit_sel/well_fit.csv.gz', index=False)"
   ]
  },
  {
   "cell_type": "markdown",
   "id": "ffe0f289-76ea-4533-bbbb-4cf8b642594e",
   "metadata": {},
   "source": [
    "# Summarize results per region"
   ]
  },
  {
   "cell_type": "code",
   "execution_count": 8,
   "id": "78351cf4-c58a-450a-a525-3e1d143bd9b8",
   "metadata": {},
   "outputs": [],
   "source": [
    "plot_conds = sorted(n for n in conds2 if n.startswith('norm_fit'))\n",
    "result_vals = np.array([results[c] for c in plot_conds])"
   ]
  },
  {
   "cell_type": "code",
   "execution_count": 9,
   "id": "77dfb4be-b2e4-4097-8552-e016ef9f3029",
   "metadata": {},
   "outputs": [],
   "source": [
    "summary = summarize_results_per_region(\n",
    "    unit_df=unit_df,\n",
    "    result_vals=result_vals[:,None,:],\n",
    "    spread_type=spread_type)"
   ]
  },
  {
   "cell_type": "code",
   "execution_count": 10,
   "id": "389c4cc3-7b89-433d-8c43-6c87e15eae14",
   "metadata": {},
   "outputs": [],
   "source": [
    "bysubj_summary = {}\n",
    "for subj in unit_df['Subject'].unique():\n",
    "    sel = np.nonzero(unit_df['Subject'].values==subj)[0]\n",
    "    bysubj_summary[subj] = summarize_results_per_region(\n",
    "        unit_df=unit_df.iloc[sel],\n",
    "        result_vals=result_vals[:,None,sel],\n",
    "        spread_type=spread_type)"
   ]
  },
  {
   "cell_type": "code",
   "execution_count": 11,
   "id": "ec3ed957-c1f1-4e3f-946c-dd0db4aaac64",
   "metadata": {},
   "outputs": [
    {
     "name": "stdout",
     "output_type": "stream",
     "text": [
      "center/spread estimate: ci_of_mean\n"
     ]
    },
    {
     "data": {
      "image/png": "[encoded data removed]",
      "text/plain": [
       "<Figure size 450x250 with 1 Axes>"
      ]
     },
     "metadata": {},
     "output_type": "display_data"
    }
   ],
   "source": [
    "fig = plt.figure(figsize=(2.25,1.25))\n",
    "ax = plt.gca()\n",
    "\n",
    "width = .25\n",
    "width2 = .8\n",
    "xs = np.zeros(1) if len(plot_conds) == 1 else np.arange(len(plot_conds))/(len(plot_conds)-1) - .5\n",
    "\n",
    "for icond in range(len(plot_conds)):\n",
    "    for ireg, region in enumerate(regions):\n",
    "        c = region_palette[region]\n",
    "        if icond == 0:\n",
    "            c = (2 + c) / 3\n",
    "\n",
    "        # plot region-level\n",
    "        m, bs = summary['one-level_center_boots'][region]\n",
    "        m = m[icond,0]\n",
    "        bs = bs[:,icond,0]\n",
    "        x = ireg + width * xs[icond]\n",
    "        ax.scatter(x, m, color=c, s=20)\n",
    "        spread = get_bootstrap_spread(m, bs, spread_type)\n",
    "        ax.vlines(x, *spread, color=c)\n",
    "\n",
    "        # plot subject-level\n",
    "        subjs = np.array([\n",
    "            k for k, v in bysubj_summary.items()\n",
    "            if region in v['one-level_center_boots']])\n",
    "        js = np.zeros(1) if subjs.size == 1 else np.arange(subjs.size)/(subjs.size-1) - .5\n",
    "        js = x + width * width2 * js\n",
    "        for j, subj in zip(js, subjs):\n",
    "            m = bysubj_summary[subj]['one-level_center_boots'][region][0][icond,0]\n",
    "            ax.scatter(j, m, fc=c, ec='w', s=5, lw=0.5, zorder=3)\n",
    "\n",
    "xtkls = []\n",
    "for i, region in enumerate(regions):\n",
    "    ns = np.array(list(summary['two-level_nunit'][region].values()))\n",
    "    xtkls.append(f'{region}\\n{ns.sum()}/{ns.size}')\n",
    "ax.set_xlim(-width*1.5, len(regions)-1+width*1.5)\n",
    "ax.set_xticks(range(len(xtkls)), xtkls)\n",
    "ax.tick_params(axis='x', length=0)\n",
    "ax.spines['bottom'].set_visible(False)\n",
    "\n",
    "ylim = (-.05, 1.05)\n",
    "ybound = (0, 1)\n",
    "ax.set_ylim(ylim)\n",
    "ax.set_yticks(ybound, tuple(map(str, ybound)))\n",
    "ax.set_yticks(np.arange(*ybound,.25), minor=True)\n",
    "ax.spines['left'].set_bounds(ybound)\n",
    "ax.set_ylabel('Norm. model fit')\n",
    "\n",
    "h = 1\n",
    "for l, c in zip(\n",
    "        ('Zeroth fixation','Non-zeroth fixation'),\n",
    "        ('gray','k')):\n",
    "    ax.text(\n",
    "        1, h, l, ha='right', va='top',\n",
    "        transform=ax.transAxes, color=c, fontsize=6)\n",
    "    h -= .1\n",
    "\n",
    "t = mpl.transforms.blended_transform_factory(ax.transData, ax.transAxes)\n",
    "ax.text(\n",
    "    -.6, -.115, f'n =', ha='center', va='top',\n",
    "    fontsize=6, transform=t)\n",
    "\n",
    "print('center/spread estimate:', spread_type)\n",
    "\n",
    "plt.savefig('plots/fig6b.png')"
   ]
  },
  {
   "cell_type": "code",
   "execution_count": 12,
   "id": "75028b6c-bc91-4943-91c3-98e81d7c1913",
   "metadata": {},
   "outputs": [
    {
     "name": "stdout",
     "output_type": "stream",
     "text": [
      "center/spread estimate: ci_of_mean\n",
      "norm_fit0\n",
      "V1:\t0.48, 0.38 -- 0.59\n",
      "V2:\t0.50, 0.45 -- 0.54\n",
      "V4:\t0.55, 0.42 -- 0.70\n",
      "PIT:\t0.09, 0.06 -- 0.11\n",
      "CIT:\t0.34, 0.19 -- 0.50\n",
      "AIT:\t0.33, 0.22 -- 0.41\n",
      "\n",
      "norm_fit1\n",
      "V1:\t0.36, 0.18 -- 0.55\n",
      "V2:\t0.45, 0.41 -- 0.49\n",
      "V4:\t0.53, 0.29 -- 0.71\n",
      "PIT:\t0.20, 0.17 -- 0.23\n",
      "CIT:\t0.40, 0.23 -- 0.55\n",
      "AIT:\t0.43, 0.28 -- 0.55\n",
      "\n"
     ]
    }
   ],
   "source": [
    "print('center/spread estimate:', spread_type)\n",
    "for ires, res in enumerate(plot_conds):\n",
    "    print(res)\n",
    "    for i, region in enumerate(regions):\n",
    "        m, bs = summary['one-level_center_boots'][region]\n",
    "        m = m[ires,0]\n",
    "        bs = bs[:,ires,0]\n",
    "        if spread_type == 'ci_of_mean':\n",
    "            spread = get_bootstrap_spread(m, bs, spread_type)\n",
    "            print(f'{region}:\\t{m:3.2f}, {spread[0]:3.2f} -- {spread[1]:3.2f}')\n",
    "        else:\n",
    "            d = get_bootstrap_spread(m, bs, spread_type, return_dev=True)\n",
    "            print(f'{region}:\\t{m:3.2f} +/- {d:3.2f}')\n",
    "    print()"
   ]
  }
 ],
 "metadata": {
  "kernelspec": {
   "display_name": "Python 3 (ipykernel)",
   "language": "python",
   "name": "python3"
  },
  "language_info": {
   "codemirror_mode": {
    "name": "ipython",
    "version": 3
   },
   "file_extension": ".py",
   "mimetype": "text/x-python",
   "name": "python",
   "nbconvert_exporter": "python",
   "pygments_lexer": "ipython3",
   "version": "3.10.12"
  }
 },
 "nbformat": 4,
 "nbformat_minor": 5
}
