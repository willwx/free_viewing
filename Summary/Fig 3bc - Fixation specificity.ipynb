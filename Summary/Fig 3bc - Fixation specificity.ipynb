{
 "cells": [
  {
   "cell_type": "code",
   "execution_count": 1,
   "id": "1cce64a4-6b13-4c38-82ce-d2fa067961b7",
   "metadata": {},
   "outputs": [],
   "source": [
    "import sys\n",
    "from pathlib import Path\n",
    "\n",
    "import h5py as h5\n",
    "import matplotlib.pyplot as plt\n",
    "import numpy as np\n",
    "import pandas as pd\n",
    "import seaborn as sns\n",
    "import xarray as xr\n",
    "from natsort import natsorted\n",
    "\n",
    "sys.path.append('../lib')\n",
    "from local_paths import mplstyle_path, analysis_dir, database_dir\n",
    "from stats_utils import fdr_correction\n",
    "from summary_utils import verified_update, annotate_unit_df"
   ]
  },
  {
   "cell_type": "code",
   "execution_count": 2,
   "id": "5134917e-67c9-43bb-a83a-8ccec0f00d6f",
   "metadata": {},
   "outputs": [],
   "source": [
    "plt.style.use(mplstyle_path)"
   ]
  },
  {
   "cell_type": "markdown",
   "id": "a96b6574-6098-40a3-a866-e5c1d6d581b8",
   "metadata": {},
   "source": [
    "# Parameters"
   ]
  },
  {
   "cell_type": "code",
   "execution_count": 3,
   "id": "60677ccd-412b-4a2c-8a5d-8b8ff3d01ca3",
   "metadata": {},
   "outputs": [],
   "source": [
    "analysis_name = 'rsc_1pt'\n",
    "results_dir = analysis_dir + analysis_name\n",
    "\n",
    "# selection criteria\n",
    "min_sc = 0.1\n",
    "fdr_level = 0.01\n",
    "\n",
    "# plotting\n",
    "max_scatter = 5000\n",
    "\n",
    "# saved unit selection (to check against)\n",
    "vsel_path = database_dir + 'unit_sel/visually_selective.csv.gz'\n",
    "fsel_path = database_dir + 'unit_sel/fixation_selective.csv.gz'"
   ]
  },
  {
   "cell_type": "markdown",
   "id": "7e5fdf91-4b99-4ec5-8506-8980a2cc1ca7",
   "metadata": {},
   "source": [
    "# Load data"
   ]
  },
  {
   "cell_type": "code",
   "execution_count": 4,
   "id": "4928f18e-d13b-4087-b035-9597e8b18d3a",
   "metadata": {},
   "outputs": [],
   "source": [
    "results_dir = Path(results_dir).expanduser()\n",
    "vsel_path = Path(vsel_path)\n",
    "fsel_path = Path(fsel_path)"
   ]
  },
  {
   "cell_type": "code",
   "execution_count": 5,
   "id": "98ba0f45-98df-4833-a030-7384118f36b0",
   "metadata": {},
   "outputs": [],
   "source": [
    "def set_coords(coords, k, v):\n",
    "    try:\n",
    "        assert np.array_equal(coords[k], v)\n",
    "    except KeyError:\n",
    "        coords[k] = v"
   ]
  },
  {
   "cell_type": "code",
   "execution_count": 6,
   "id": "161de30f-45e9-411b-9d61-8bf53ee9793e",
   "metadata": {},
   "outputs": [
    {
     "name": "stdout",
     "output_type": "stream",
     "text": [
      "results:\n",
      "\t rsc                  (66681,) \t float32\n",
      "\t pvals_1              (66681,) \t float64\n",
      "\t pvals_2              (66681,) \t float64\n",
      "\t diff_2               (66681,) \t float32\n",
      "\t sc_0                 (66681,) \t float32\n",
      "\t sc_1                 (66681,) \t float32\n",
      "\t Session              (66681,) \t <U10\n",
      "\t Unit                 (66681,) \t <U4\n",
      "678 sessions\n"
     ]
    }
   ],
   "source": [
    "unit_df = {'Session': [], 'Unit': []}\n",
    "results = {k: [] for k in ('rsc', 'pvals_1', 'pvals_2', 'diff_2', 'sc_0', 'sc_1')}\n",
    "\n",
    "for fp in natsorted(results_dir.glob('*.h5')):\n",
    "    # natsorted, together with random subsampling for scatter plot below,\n",
    "    # makes sure the plotted dots are reproducible\n",
    "    with h5.File(fp, 'r') as f:\n",
    "        try:\n",
    "            assert f[f'progress_report/{analysis_name}/all_done'][()]\n",
    "        except (KeyError, AssertionError):\n",
    "            continue\n",
    "\n",
    "    dset1 = xr.load_dataset(fp, group='rsc_1pt/current', engine='h5netcdf')\n",
    "    dset2 = xr.load_dataset(fp, group='rsc_1pt/permutation_test/current_v_same_image', engine='h5netcdf')\n",
    "\n",
    "    coords_ = {}\n",
    "    for dset in (dset1, dset2):\n",
    "        verified_update(coords_, dict(unit=dset.coords['unit'].astype(str)))\n",
    "\n",
    "    pvals_1 = dset1['p-value'].values[0]\n",
    "    rsc = dset1['sample'].values\n",
    "    pvals_2 = dset2['p-value'].values[0]\n",
    "    diff_2 = dset2['diff'].values\n",
    "    sc_0 = dset2['cond0'].values\n",
    "    sc_1 = dset2['cond1'].values\n",
    "\n",
    "    results['rsc'].append(rsc)\n",
    "    results['pvals_1'].append(pvals_1)\n",
    "    results['pvals_2'].append(pvals_2)\n",
    "    results['diff_2'].append(diff_2)\n",
    "    results['sc_0'].append(sc_0)\n",
    "    results['sc_1'].append(sc_1)\n",
    "\n",
    "    unit_names = coords_['unit']\n",
    "    unit_df['Session'].append(np.full(unit_names.size, fp.stem))\n",
    "    unit_df['Unit'].append(unit_names)\n",
    "\n",
    "print('results:')\n",
    "for d in (results, unit_df):\n",
    "    for k, v in d.items():\n",
    "        d[k] = v = np.concatenate(v, axis=-1)\n",
    "        print('\\t', f'{k:<20s}', v.shape, '\\t', v.dtype)\n",
    "print(np.unique(unit_df['Session']).size, 'sessions')\n",
    "unit_df = annotate_unit_df(pd.DataFrame(unit_df))"
   ]
  },
  {
   "cell_type": "markdown",
   "id": "edbdc987-6158-4086-bd30-bc091e5a11dc",
   "metadata": {},
   "source": [
    "# Select units"
   ]
  },
  {
   "cell_type": "code",
   "execution_count": 7,
   "id": "0e403a1d-bd00-4db8-8f57-1be0b6b4b0df",
   "metadata": {},
   "outputs": [],
   "source": [
    "for i in range(1,3):\n",
    "    results[f'arej_{i}'], results[f'apvals_{i}'] = (v[None] for v in fdr_correction({None: results[f'pvals_{i}']}, q=fdr_level))"
   ]
  },
  {
   "cell_type": "code",
   "execution_count": 8,
   "id": "486d2a28-1a62-43de-87c0-a1e4ced90be1",
   "metadata": {},
   "outputs": [],
   "source": [
    "n_tot = len(unit_df)\n",
    "mval = np.isfinite(results['apvals_1']) & np.isfinite(results['apvals_2']) & np.isfinite(results['rsc'])\n",
    "\n",
    "# visually selective\n",
    "mvs = mval & results['arej_1'] & (results['rsc'] >= min_sc)\n",
    "\n",
    "# fixation-selective\n",
    "mfs = mvs & results['arej_2']"
   ]
  },
  {
   "cell_type": "code",
   "execution_count": 9,
   "id": "69544e02-c325-4ab9-8af3-3881f417ee65",
   "metadata": {},
   "outputs": [
    {
     "name": "stdout",
     "output_type": "stream",
     "text": [
      "Total:\t\t\t 66681\n",
      "With valid results:\t 66260\n",
      "Visually selective:\t 26975 (40.7%; RSC >= 0.1, q < 0.01 for RSC > 0)\n",
      "\n",
      "all vis. selective\n",
      "\t100.0% (n = 26975) | curr > ctrl:  95.7% (25810|95.7%) | curr <= ctrl:  4.3% (1165| 4.3%)\n",
      "sig. fix. selective\n",
      "\t 60.7% (n = 16372) | curr > ctrl: 100.0% (16372|60.7%) | curr <= ctrl:  0.0% (   0| 0.0%)\n",
      "not sig. fix. selective\n",
      "\t 39.3% (n = 10603) | curr > ctrl:  89.0% ( 9438|35.0%) | curr <= ctrl: 11.0% (1165| 4.3%)\n"
     ]
    }
   ],
   "source": [
    "print('Total:\\t\\t\\t', n_tot)\n",
    "print('With valid results:\\t', mval.sum())\n",
    "print('Visually selective:\\t', mvs.sum(), f'({mvs.sum()/mval.sum()*100:.1f}%; RSC >= {min_sc}, q < {fdr_level} for RSC > 0)')\n",
    "print()\n",
    "\n",
    "for case, m in (\n",
    "        ('all vis. selective', mvs),\n",
    "        ('sig. fix. selective', mfs),\n",
    "        ('not sig. fix. selective', mvs&~results['arej_2'])):\n",
    "\n",
    "    ma = results['diff_2'][m] < 0\n",
    "    fa = ma.mean() * 100\n",
    "    na = ma.sum()\n",
    "    mb = results['diff_2'][m] >= 0\n",
    "    fb = mb.mean() * 100\n",
    "    nb = mb.sum()\n",
    "\n",
    "    print(case)\n",
    "    print(f'\\t{m.sum()/mvs.sum()*100:5.1f}% (n = {m.sum():5d}) | '\n",
    "          f'curr > ctrl: {fa:5.1f}% ({na:>5d}|{na/mvs.sum()*100:4.1f}%) | '\n",
    "          f'curr <= ctrl: {fb:4.1f}% ({nb:>4d}|{nb/mvs.sum()*100:4.1f}%)')"
   ]
  },
  {
   "cell_type": "markdown",
   "id": "c3323c57-d410-4c33-8c58-5873997af2e9",
   "metadata": {},
   "source": [
    "Check unit selection"
   ]
  },
  {
   "cell_type": "code",
   "execution_count": 10,
   "id": "189576b5-1197-4c10-969f-6ae26bc6ad5b",
   "metadata": {},
   "outputs": [],
   "source": [
    "for sel_path, msel in ((fsel_path, mfs), (vsel_path, mvs)):\n",
    "    sel_idc0 = pd.MultiIndex.from_frame(pd.read_csv(sel_path)[['Session', 'Unit']])\n",
    "    sel_idc = pd.MultiIndex.from_frame(unit_df.loc[msel].reset_index()[['Session','Unit']])\n",
    "    assert sel_idc0.isin(sel_idc).all()\n",
    "    assert sel_idc.isin(sel_idc0).all()"
   ]
  },
  {
   "cell_type": "markdown",
   "id": "cebe6daa-b88f-4070-98f3-64eee9bcfb52",
   "metadata": {},
   "source": [
    "Save units for which ctrl > curr"
   ]
  },
  {
   "cell_type": "code",
   "execution_count": 11,
   "id": "e17f5e11-cfe6-43fc-b34b-d75d1aad8c00",
   "metadata": {},
   "outputs": [
    {
     "name": "stdout",
     "output_type": "stream",
     "text": [
      "1165\n"
     ]
    }
   ],
   "source": [
    "mb = mvs & (results['diff_2'] >= 0)\n",
    "print(mb.sum())\n",
    "unit_df[mb].to_csv('unit_sel/curr_lt_ctrl.csv.gz', index=False)"
   ]
  },
  {
   "cell_type": "markdown",
   "id": "54a06320-0116-4ccc-bacb-6830acb4f894",
   "metadata": {},
   "source": [
    "# Make plots"
   ]
  },
  {
   "cell_type": "code",
   "execution_count": 12,
   "id": "a5a86ada-a3d3-4100-aa5f-a64361efd598",
   "metadata": {},
   "outputs": [
    {
     "data": {
      "image/png": "[encoded data removed]",
      "text/plain": [
       "<Figure size 400x300 with 1 Axes>"
      ]
     },
     "metadata": {},
     "output_type": "display_data"
    }
   ],
   "source": [
    "xlim = (-.2, .8)\n",
    "data = pd.DataFrame({'rsc': results['rsc'], 'Significant': mvs})\n",
    "m = (data['rsc'] >= xlim[0]) & (data['rsc'] < xlim[1])\n",
    "data = data.loc[m]\n",
    "\n",
    "plt.figure(figsize=(2,1.5))\n",
    "ax = plt.gca()\n",
    "\n",
    "sns.histplot(\n",
    "    data=data, x='rsc', hue='Significant',\n",
    "    multiple='stack', element='poly', stat='density',\n",
    "    hue_order=(False,True), palette={False:'whitesmoke',True:'firebrick'},\n",
    "    legend=False, lw=0.5)\n",
    "\n",
    "xbound = xlim\n",
    "xtks = (0,.8)\n",
    "ax.set_xlim(xbound)\n",
    "ax.set_xticks(xtks, list(map(str, xtks)))\n",
    "ax.set_xticks(np.arange(*xbound,.2), minor=True)\n",
    "ax.spines['bottom'].set_bounds(xbound)\n",
    "ax.set_xlabel('Return-fixation self-consistency, r')\n",
    "\n",
    "ax.set_yticks([])\n",
    "ax.spines['left'].set_visible(False)\n",
    "ax.set_ylabel('')\n",
    "\n",
    "plt.savefig('plots/fig3b.png')"
   ]
  },
  {
   "cell_type": "code",
   "execution_count": 13,
   "id": "c4668686-95cf-47bd-882e-2b54fa944fbc",
   "metadata": {},
   "outputs": [
    {
     "name": "stdout",
     "output_type": "stream",
     "text": [
      "(26975, 3)\n"
     ]
    },
    {
     "data": {
      "text/html": [
       "<div>\n",
       "<style scoped>\n",
       "    .dataframe tbody tr th:only-of-type {\n",
       "        vertical-align: middle;\n",
       "    }\n",
       "\n",
       "    .dataframe tbody tr th {\n",
       "        vertical-align: top;\n",
       "    }\n",
       "\n",
       "    .dataframe thead th {\n",
       "        text-align: right;\n",
       "    }\n",
       "</style>\n",
       "<table border=\"1\" class=\"dataframe\">\n",
       "  <thead>\n",
       "    <tr style=\"text-align: right;\">\n",
       "      <th></th>\n",
       "      <th>sc_0</th>\n",
       "      <th>sc_1</th>\n",
       "    </tr>\n",
       "  </thead>\n",
       "  <tbody>\n",
       "    <tr>\n",
       "      <th>count</th>\n",
       "      <td>26975.000000</td>\n",
       "      <td>26975.000000</td>\n",
       "    </tr>\n",
       "    <tr>\n",
       "      <th>mean</th>\n",
       "      <td>0.259770</td>\n",
       "      <td>0.130910</td>\n",
       "    </tr>\n",
       "    <tr>\n",
       "      <th>std</th>\n",
       "      <td>0.136956</td>\n",
       "      <td>0.097277</td>\n",
       "    </tr>\n",
       "    <tr>\n",
       "      <th>min</th>\n",
       "      <td>-0.002769</td>\n",
       "      <td>-0.048964</td>\n",
       "    </tr>\n",
       "    <tr>\n",
       "      <th>25%</th>\n",
       "      <td>0.153317</td>\n",
       "      <td>0.066115</td>\n",
       "    </tr>\n",
       "    <tr>\n",
       "      <th>50%</th>\n",
       "      <td>0.223011</td>\n",
       "      <td>0.106575</td>\n",
       "    </tr>\n",
       "    <tr>\n",
       "      <th>75%</th>\n",
       "      <td>0.333023</td>\n",
       "      <td>0.168112</td>\n",
       "    </tr>\n",
       "    <tr>\n",
       "      <th>max</th>\n",
       "      <td>1.000000</td>\n",
       "      <td>0.951821</td>\n",
       "    </tr>\n",
       "  </tbody>\n",
       "</table>\n",
       "</div>"
      ],
      "text/plain": [
       "               sc_0          sc_1\n",
       "count  26975.000000  26975.000000\n",
       "mean       0.259770      0.130910\n",
       "std        0.136956      0.097277\n",
       "min       -0.002769     -0.048964\n",
       "25%        0.153317      0.066115\n",
       "50%        0.223011      0.106575\n",
       "75%        0.333023      0.168112\n",
       "max        1.000000      0.951821"
      ]
     },
     "execution_count": 13,
     "metadata": {},
     "output_type": "execute_result"
    }
   ],
   "source": [
    "data = pd.DataFrame({'sc_0': results['sc_0'][mvs], 'sc_1': results['sc_1'][mvs], 'Significant': mfs[mvs]})\n",
    "print(data.shape)\n",
    "data[['sc_0', 'sc_1']].describe()"
   ]
  },
  {
   "cell_type": "code",
   "execution_count": 14,
   "id": "f0f2474a-4517-4f0e-a612-a5692396819e",
   "metadata": {},
   "outputs": [
    {
     "data": {
      "image/png": "[encoded data removed]",
      "text/plain": [
       "<Figure size 300x300 with 1 Axes>"
      ]
     },
     "metadata": {},
     "output_type": "display_data"
    }
   ],
   "source": [
    "sel = np.unique(np.round(np.linspace(0, 1, max_scatter) * (len(data)-1)).astype(int))\n",
    "\n",
    "plt.figure(figsize=(1.5,1.5))\n",
    "ax = plt.gca()\n",
    "\n",
    "sns.scatterplot(\n",
    "    data=data.iloc[sel], x='sc_0', y='sc_1', hue='Significant',\n",
    "    hue_order=(False,True), palette={False:'lightcoral',True:'maroon'},\n",
    "    s=.5, legend=False)\n",
    "ax.plot([0,1], [0,1], c='gray', ls='--', lw=0.5, zorder=-1)\n",
    "\n",
    "ax.set_xlim(-.05, 1.05)\n",
    "ax.set_xticks([0, 1])\n",
    "ax.set_xticks(np.arange(0,1,.2), minor=True)\n",
    "ax.spines['bottom'].set_bounds([0, 1])\n",
    "ax.set_xlabel('Return-fixation self-consistency, r')\n",
    "\n",
    "ax.set_ylim(-.05, 1.05)\n",
    "ax.set_yticks([0, 1])\n",
    "ax.set_yticks(np.arange(0,1,.2), minor=True)\n",
    "ax.spines['left'].set_bounds([0, 1])\n",
    "ax.set_ylabel('Same-image self-consistency, r')\n",
    "\n",
    "ax.set_aspect('equal')\n",
    "\n",
    "plt.savefig('plots/fig3c.png')"
   ]
  }
 ],
 "metadata": {
  "kernelspec": {
   "display_name": "Python 3 (ipykernel)",
   "language": "python",
   "name": "python3"
  },
  "language_info": {
   "codemirror_mode": {
    "name": "ipython",
    "version": 3
   },
   "file_extension": ".py",
   "mimetype": "text/x-python",
   "name": "python",
   "nbconvert_exporter": "python",
   "pygments_lexer": "ipython3",
   "version": "3.10.12"
  }
 },
 "nbformat": 4,
 "nbformat_minor": 5
}
