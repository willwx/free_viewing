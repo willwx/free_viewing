{
 "cells": [
  {
   "cell_type": "code",
   "execution_count": null,
   "id": "c59898f1-e75d-42a9-8996-a4339d5f5c6d",
   "metadata": {},
   "outputs": [],
   "source": [
    "import sys\n",
    "from pathlib import Path\n",
    "\n",
    "import h5py as h5\n",
    "import numpy as np\n",
    "import pandas as pd\n",
    "import xarray as xr\n",
    "from tqdm import tqdm\n",
    "\n",
    "sys.path.append('../lib')\n",
    "from local_paths import analysis_dir, annot_path\n",
    "from storage import get_storage_functions\n",
    "from hier_group import unpack_hier_names, annot_names, hier_lookup\n",
    "import crossing_point"
   ]
  },
  {
   "cell_type": "markdown",
   "id": "f9ee39f1-8a78-44d2-a718-f1834450ebc5",
   "metadata": {},
   "source": [
    "# Set parameters"
   ]
  },
  {
   "cell_type": "code",
   "execution_count": null,
   "id": "19f5243e-a7db-451e-90c2-f5608a9fc83b",
   "metadata": {
    "tags": [
     "parameters"
    ]
   },
   "outputs": [],
   "source": [
    "#============================================================================\n",
    "# session\n",
    "#============================================================================\n",
    "sess_name = 'sess_name'\n",
    "\n",
    "#============================================================================\n",
    "# config\n",
    "#============================================================================\n",
    "rising_cond = 'self_consistency/current'\n",
    "falling_cond = 'self_consistency/previous'\n",
    "clearance_thres = 100\n",
    "\n",
    "#============================================================================\n",
    "# paths\n",
    "#============================================================================\n",
    "rsc_dir = analysis_dir + 'self_consistency'\n",
    "output_dir = rsc_dir + '-cp'"
   ]
  },
  {
   "cell_type": "markdown",
   "id": "55e6ac86-dc81-4db2-a2a9-77656e53d52b",
   "metadata": {},
   "source": [
    "# Check prereqs and params"
   ]
  },
  {
   "cell_type": "code",
   "execution_count": null,
   "id": "3c700cb3-ae5b-4a23-baaa-70eeee9e8726",
   "metadata": {},
   "outputs": [],
   "source": [
    "rsc_path = Path(rsc_dir) / (sess_name + '.h5')\n",
    "print('Loading return-fixation self-consistency results from', rsc_path)\n",
    "rsc_path = rsc_path.expanduser()\n",
    "assert rsc_path.is_file()\n",
    "\n",
    "print('Using recording location annotations at', annot_path)\n",
    "annot_path = Path(annot_path).expanduser()\n",
    "assert annot_path.is_file()\n",
    "\n",
    "output_dir = Path(output_dir)\n",
    "assert output_dir.expanduser().is_dir()\n",
    "output_path = output_dir / (sess_name + '.h5')\n",
    "print('Saving results to', output_path)\n",
    "output_path = output_path.expanduser()"
   ]
  },
  {
   "cell_type": "code",
   "execution_count": null,
   "id": "90613d2f-e9cb-4823-a7a2-5641960dd636",
   "metadata": {},
   "outputs": [],
   "source": [
    "analysis_name = 'crossing_point'\n",
    "\n",
    "if output_path.is_file():\n",
    "    with h5.File(output_path, 'r') as f:\n",
    "        try:\n",
    "            if f[f'progress_report/{analysis_name}/all_done'][()].item():\n",
    "                raise RuntimeError(f'{sess_name} has already been processed')\n",
    "        except KeyError:\n",
    "            pass"
   ]
  },
  {
   "cell_type": "code",
   "execution_count": null,
   "id": "3e6d9e29-f2c5-46bb-abec-41d6b05876a0",
   "metadata": {},
   "outputs": [],
   "source": [
    "save_results, add_attr_to_dset, check_equals_saved, link_dsets, copy_group = \\\n",
    "    get_storage_functions(output_path)"
   ]
  },
  {
   "cell_type": "code",
   "execution_count": null,
   "id": "aa9c6feb-7e5a-40be-9da5-bb6526f36722",
   "metadata": {},
   "outputs": [],
   "source": [
    "group = analysis_name + '/config/'\n",
    "save_results(group+'rising_cond', rising_cond)\n",
    "save_results(group+'falling_cond', falling_cond)\n",
    "save_results(group+'clearance_thres', clearance_thres, attrs=dict(unit='ms'))"
   ]
  },
  {
   "cell_type": "markdown",
   "id": "8bce15a1-3eca-46d5-a482-c82470823ce1",
   "metadata": {},
   "source": [
    "# Tally units and levels"
   ]
  },
  {
   "cell_type": "code",
   "execution_count": null,
   "id": "bbde0027-76bd-413d-8e92-a1824024f2f7",
   "metadata": {},
   "outputs": [],
   "source": [
    "adf = pd.read_csv(annot_path).set_index('Session').loc[[sess_name]].set_index('Bank')"
   ]
  },
  {
   "cell_type": "code",
   "execution_count": null,
   "id": "82087092-03fc-4da0-90a8-399b99911e0b",
   "metadata": {},
   "outputs": [],
   "source": [
    "rising_ds = xr.load_dataset(rsc_path, group=rising_cond)\n",
    "falling_ds = xr.load_dataset(rsc_path, group=falling_cond)"
   ]
  },
  {
   "cell_type": "code",
   "execution_count": null,
   "id": "475fe161-f381-4aac-9a16-8a53ff7183e6",
   "metadata": {},
   "outputs": [],
   "source": [
    "names = rising_ds['unit'].values\n",
    "assert np.array_equal(names, falling_ds['unit'].values.astype(str))\n",
    "hier_names = unpack_hier_names(names)\n",
    "\n",
    "with h5.File(rsc_path, 'r') as f:\n",
    "    dset = f['self_consistency/unit_names']\n",
    "    all_groups_name = dset.attrs['all_groups_name'].astype(str)\n",
    "    all_groups_uid = dset.attrs['all_groups_uid']\n",
    "m_unit = hier_names[:,0] == 'Unit'\n",
    "n_unit = m_unit.sum()\n",
    "all_groups_idx = all_groups_uid + n_unit\n",
    "all_hier_names = np.concatenate([hier_names[m_unit], unpack_hier_names(all_groups_name)])"
   ]
  },
  {
   "cell_type": "code",
   "execution_count": null,
   "id": "1167a6e5-b171-4060-ae2d-2153073e8f77",
   "metadata": {},
   "outputs": [],
   "source": [
    "unit_df = annot_names(\n",
    "    np.concatenate([names[(hier_names[:,0] == 'Unit')], all_groups_name]),\n",
    "    adf)\n",
    "\n",
    "m = unit_df['Level'] == 'Unit'\n",
    "unit_df['Index'] = -1\n",
    "unit_df.loc[m,'Index'] = unit_df.index[m].astype(int)\n",
    "unit_df.loc[~m,'Index'] = all_groups_idx\n",
    "\n",
    "assert unit_df['Index'].min() == 0 and unit_df['Index'].max() == len(names)-1\n",
    "unit_df['Name'] = all_hier_names[:,1]\n",
    "unit_df"
   ]
  },
  {
   "cell_type": "markdown",
   "id": "d5eda2a4-9881-4fc2-9ffd-1d0b5cbc671c",
   "metadata": {},
   "source": [
    "# Main"
   ]
  },
  {
   "cell_type": "code",
   "execution_count": null,
   "id": "61a2719a-bbeb-4359-98f7-b112b5bd1400",
   "metadata": {},
   "outputs": [],
   "source": [
    "hiers = ['Unit', 'Channel', 'Bank', 'Array']\n",
    "ts = rising_ds['time'].values\n",
    "y0s_all = np.concatenate([\n",
    "    falling_ds['sample'].values[None,...],  # shape (1n_t, n_neur)\n",
    "    falling_ds['bootstraps'].values])       # shape (n_boot, n_t, n_neur)\n",
    "y1s_all = np.concatenate([\n",
    "    rising_ds['sample'].values[None,...],   # shape (1n_t, n_neur)\n",
    "    rising_ds['bootstraps'].values])        # shape (n_boot, n_t, n_neur)\n",
    "y0s_all = np.ma.masked_invalid(y0s_all)\n",
    "y1s_all = np.ma.masked_invalid(y1s_all)\n",
    "\n",
    "n_boot = y1s_all.shape[0] - 1\n",
    "n_neur = y1s_all.shape[-1]\n",
    "cps, cls = (np.empty((n_boot+1, n_neur), dtype=np.float32) for i in range(2))\n",
    "pks, tps = (np.empty((2, n_boot+1, n_neur), dtype=np.float32) for i in range(2))\n",
    "\n",
    "last_cp_df = None\n",
    "done_idc = set()\n",
    "for level in hiers[::-1]:\n",
    "    unit_df_ = unit_df[unit_df['Level'] == level]\n",
    "    if not len(unit_df_): continue\n",
    "\n",
    "    ih = hiers.index(level)\n",
    "    cp_df = {\n",
    "        k: np.zeros(len(unit_df_)) for k in\n",
    "        [f'Latency_{j}' for j in range(n_boot+1)]\n",
    "        + [f'Clearance_{j}' for j in range(n_boot+1)]}\n",
    "\n",
    "    for ii, (_, row) in enumerate(tqdm(unit_df_.iterrows(), total=len(unit_df_), desc=level)):\n",
    "        name = row['Unit']\n",
    "        i = row['Index']\n",
    "        if i in done_idc:\n",
    "            continue\n",
    "        for j in range(n_boot+1):\n",
    "            hcp = 0\n",
    "            if last_cp_df is not None:\n",
    "                hcp_ = hier_lookup(np.array([name]), adf, last_cp_df, hiers=hiers[ih+1:])\n",
    "                if len(hcp_):\n",
    "                    assert len(hcp_) < 2\n",
    "                    if hcp_[f'Clearance_{j}'] >= clearance_thres:\n",
    "                        hcp = hcp_[f'Latency_{j}']\n",
    "\n",
    "            cps[j,i], cls[j,i] = cp, cl = \\\n",
    "                crossing_point.get_central_crossing_point_and_clearance(\n",
    "                    ts, y0s_all[j,:,i], y1s_all[j,:,i], x_cent=hcp, direction='up')[:2]\n",
    "            cp_df[f'Latency_{j}'][ii] = cp\n",
    "            cp_df[f'Clearance_{j}'][ii] = cl\n",
    "\n",
    "            for k, ys in enumerate((y0s_all[j,:,i], y1s_all[j,:,i])):\n",
    "                ys = np.array(ys)  # convert possibly masked array to array\n",
    "                if ~np.isfinite(ys).any():\n",
    "                    pks[k,j,i] = tps[k,j,i] = np.nan\n",
    "                    continue\n",
    "                l = np.nanargmax(ys)\n",
    "                if np.isnan(ys[l]):\n",
    "                    pks[k,j,i] = tps[k,j,i] = np.nan\n",
    "                else:\n",
    "                    pks[k,j,i] = ys[l]\n",
    "                    tps[k,j,i] = ts[l]\n",
    "        done_idc.add(i)\n",
    "\n",
    "    df_ = unit_df_.copy()\n",
    "    df_ = pd.concat([df_, pd.DataFrame(cp_df, index=df_.index)], axis=1)\n",
    "    if last_cp_df is None:\n",
    "        last_cp_df = df_\n",
    "    else:\n",
    "        last_cp_df = pd.concat([df_, last_cp_df])"
   ]
  },
  {
   "cell_type": "code",
   "execution_count": null,
   "id": "3212dade-53c5-4c46-a638-caee8344887c",
   "metadata": {},
   "outputs": [],
   "source": [
    "with h5.File(rsc_path, 'r') as f:\n",
    "    sdf_suffix = f['self_consistency/config/sdf_suffix'][()].decode()\n",
    "    t_step = f['self_consistency/config/time_windows/t_step'][()]\n",
    "sdf_suffix, t_step"
   ]
  },
  {
   "cell_type": "code",
   "execution_count": null,
   "id": "ea38eb78-d31c-48cc-9e72-d51afeddb07e",
   "metadata": {},
   "outputs": [],
   "source": [
    "cps, cls, pks, tps = map(np.ma.masked_invalid, (cps, cls, pks, tps))\n",
    "df = {}\n",
    "\n",
    "df['Latency'] = cps[0].filled(np.nan)\n",
    "df['Clearance'] = cls[0].filled(np.nan)\n",
    "\n",
    "df['Boots. bias, train'] = (cps[0] - cps[1::2].mean(0)).filled(np.nan)\n",
    "df['Boots. stdev., train'] = cps[1::2].std(0).filled(np.nan)\n",
    "df['Boots. mean clearance, train'] = cls[1::2].mean(0).filled(0)\n",
    "df['Boots. frac., train'] = 1 - cls[1::2].mask.mean(0)\n",
    "df['Boots. bias'] = (cps[0] - cps[2::2].mean(0)).filled(np.nan)\n",
    "df['Boots. stdev.'] = cps[2::2].std(0).filled(np.nan)\n",
    "df['Boots. mean clearance'] = cls[2::2].mean(0).filled(0)\n",
    "df['Boots. frac.'] = 1 - cls[2::2].mask.mean(0)\n",
    "\n",
    "for i, (pks_, tps_) in enumerate(zip(pks, tps)):\n",
    "    df[f'Peak {i} SC'] = pks_[0].filled(np.nan)\n",
    "    df[f'Peak {i} time'] = tps_[0].filled(np.nan)\n",
    "    df[f'Boots. mean peak {i} SC, train'] = pks_[1::2].mean(0).filled(np.nan)\n",
    "    df[f'Boots. stdev. peak {i} SC, train'] = pks_[1::2].std(0).filled(np.nan)\n",
    "    df[f'Boots. mean peak {i} time, train'] = tps_[1::2].mean(0).filled(np.nan)\n",
    "    df[f'Boots. stdev. peak {i} time, train'] = tps_[1::2].std(0).filled(np.nan)\n",
    "    df[f'Boots. mean peak {i} SC'] = pks_[2::2].mean(0).filled(np.nan)\n",
    "    df[f'Boots. stdev. peak {i} SC'] = pks_[2::2].std(0).filled(np.nan)\n",
    "    df[f'Boots. mean peak {i} time'] = tps_[2::2].mean(0).filled(np.nan)\n",
    "    df[f'Boots. stdev. peak {i} time'] = tps_[2::2].std(0).filled(np.nan)\n",
    "\n",
    "df = pd.DataFrame(df)\n",
    "df = df.iloc[unit_df['Index'].values].reset_index().drop(columns='index')\n",
    "df[['Level','Name']] = unit_df[['Level', 'Name']].values\n",
    "df['Session'] = sess_name\n",
    "df['SDF suffix'] = sdf_suffix\n",
    "df['T step'] = t_step\n",
    "df.head()"
   ]
  },
  {
   "cell_type": "code",
   "execution_count": null,
   "id": "66638a3d-779a-4c2a-b4e8-4b50d661dc80",
   "metadata": {},
   "outputs": [],
   "source": [
    "df.to_hdf(\n",
    "    output_path, analysis_name+'/latency_dataframe',\n",
    "    mode='a', format='table', complevel=9, complib='zlib')"
   ]
  },
  {
   "cell_type": "markdown",
   "id": "06ab242a-dbca-4040-9abf-88774b41eb5f",
   "metadata": {},
   "source": [
    "# Wrap up"
   ]
  },
  {
   "cell_type": "code",
   "execution_count": null,
   "id": "8e50b16a-744e-4328-9cbc-5813d8baed9e",
   "metadata": {},
   "outputs": [],
   "source": [
    "save_results(f'progress_report/{analysis_name}/all_done', True)"
   ]
  },
  {
   "cell_type": "code",
   "execution_count": null,
   "id": "553e15c0-cf86-4e73-860d-b55bafb4bd47",
   "metadata": {},
   "outputs": [],
   "source": [
    "%load_ext watermark\n",
    "%watermark\n",
    "%watermark -vm --iversions -rbg"
   ]
  },
  {
   "cell_type": "markdown",
   "id": "7fce1fd2-1333-4e25-8c27-b9d5e9f93779",
   "metadata": {},
   "source": [
    "# Basic visualization of results"
   ]
  },
  {
   "cell_type": "code",
   "execution_count": null,
   "id": "30996df3-7df9-477b-8e01-ef6f6c2573f7",
   "metadata": {},
   "outputs": [],
   "source": [
    "import matplotlib.pyplot as plt\n",
    "import seaborn as sns"
   ]
  },
  {
   "cell_type": "code",
   "execution_count": null,
   "id": "38a923ce-6585-491e-abb0-99742b0709af",
   "metadata": {},
   "outputs": [],
   "source": [
    "sns.histplot(data=df[df['Clearance']>=clearance_thres], x='Latency', hue='Level', element='poly', fill=False, stat='density', common_norm=False);"
   ]
  },
  {
   "cell_type": "code",
   "execution_count": null,
   "id": "377093e9-0f45-4ea8-a703-bdbd7f038c9f",
   "metadata": {},
   "outputs": [],
   "source": [
    "sns.histplot(data=df, x='Clearance', hue='Level', element='poly', fill=False, stat='density', common_norm=False);"
   ]
  },
  {
   "cell_type": "code",
   "execution_count": null,
   "id": "84cf73b9-70f8-48be-bd56-bc621e579da9",
   "metadata": {},
   "outputs": [],
   "source": [
    "sns.histplot(data=df, x='Boots. stdev.', hue='Level', element='poly', fill=False, stat='density', common_norm=False);"
   ]
  }
 ],
 "metadata": {
  "kernelspec": {
   "display_name": "Python 3 (ipykernel)",
   "language": "python",
   "name": "python3"
  },
  "language_info": {
   "codemirror_mode": {
    "name": "ipython",
    "version": 3
   },
   "file_extension": ".py",
   "mimetype": "text/x-python",
   "name": "python",
   "nbconvert_exporter": "python",
   "pygments_lexer": "ipython3",
   "version": "3.10.12"
  }
 },
 "nbformat": 4,
 "nbformat_minor": 5
}
