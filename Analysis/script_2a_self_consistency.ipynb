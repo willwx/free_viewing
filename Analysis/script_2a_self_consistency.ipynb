{
 "cells": [
  {
   "cell_type": "code",
   "execution_count": null,
   "id": "c190cce5-9e51-4577-856d-31611e79acd6",
   "metadata": {},
   "outputs": [],
   "source": [
    "import sys\n",
    "from pathlib import Path\n",
    "\n",
    "import h5py as h5\n",
    "import numpy as np\n",
    "import pandas as pd\n",
    "from tqdm import tqdm\n",
    "\n",
    "sys.path.append('../lib')\n",
    "from storage import get_storage_functions, quantize\n",
    "from local_paths import preproc_dir, analysis_dir\n",
    "from self_consistency import \\\n",
    "    find_return_fixations, pairwise_self_consistency, \\\n",
    "    pairwise_self_consistency_perm_test"
   ]
  },
  {
   "cell_type": "markdown",
   "id": "bcf0248c-ad1d-43d2-8620-18005f04756b",
   "metadata": {},
   "source": [
    "# Set parameters"
   ]
  },
  {
   "cell_type": "code",
   "execution_count": null,
   "id": "13d49c84-3790-4c27-95f8-1c6c13585d9b",
   "metadata": {
    "tags": [
     "parameters"
    ]
   },
   "outputs": [],
   "source": [
    "#============================================================================\n",
    "# session\n",
    "#============================================================================\n",
    "sess_name = 'sess_name'\n",
    "\n",
    "\n",
    "#============================================================================\n",
    "# response windows\n",
    "#============================================================================\n",
    "t_pre  = 375\n",
    "t_post = 375\n",
    "t_step =  10\n",
    "\n",
    "\n",
    "#============================================================================\n",
    "# return fixation selection\n",
    "#============================================================================\n",
    "return_thres =   1  # for defining \"return fixation\"; can set to typical radius of rf\n",
    "\n",
    "# \"decorrelate\" return fixations:\n",
    "#   sub-select only return pairs where the non-return fixations\n",
    "#   (e.g., \"prev\" for \"curr return\") are this far apart\n",
    "min_sep      =   4  # dva; only consider saccades at least this large\n",
    "min_sep_win  = 100\n",
    "\n",
    "\n",
    "#============================================================================\n",
    "# rsc options\n",
    "#============================================================================\n",
    "n_boots = 200\n",
    "\n",
    "\n",
    "#============================================================================\n",
    "# statistical tests\n",
    "#============================================================================\n",
    "stat_tests = (\n",
    "    ('previous', 'current', 'greater'),\n",
    "    ('previous', 'current', 'less'))\n",
    "n_perm = 10000\n",
    "save_perm_diffs = False  # whether to save permuted delta effect sizes\n",
    "\n",
    "\n",
    "#============================================================================\n",
    "# paths\n",
    "#============================================================================\n",
    "proc_dir = preproc_dir\n",
    "sdf_dir = preproc_dir\n",
    "sdf_suffix = '-mwa_50'\n",
    "\n",
    "output_dir = analysis_dir + 'self_consistency'"
   ]
  },
  {
   "cell_type": "markdown",
   "id": "07e824d1-6964-404f-83aa-3d87ed2ea3fd",
   "metadata": {},
   "source": [
    "# Check prereqs and params"
   ]
  },
  {
   "cell_type": "code",
   "execution_count": null,
   "id": "a779bf63-3446-4291-85b2-68018aeadda4",
   "metadata": {},
   "outputs": [],
   "source": [
    "proc_path = Path(proc_dir) / (sess_name + '-proc.h5')\n",
    "print('Loading shared processing from', proc_path)\n",
    "proc_path = proc_path.expanduser()\n",
    "assert proc_path.is_file()\n",
    "\n",
    "sdf_path = Path(sdf_dir) / (sess_name + f'-sdf{sdf_suffix}.h5')\n",
    "print('Loading spike density function from', sdf_path)\n",
    "sdf_path = sdf_path.expanduser()\n",
    "assert sdf_path.is_file()\n",
    "\n",
    "output_dir = Path(output_dir)\n",
    "assert output_dir.expanduser().is_dir()\n",
    "output_path = output_dir / (sess_name + '.h5')\n",
    "print('Saving results to', output_path)\n",
    "output_path = output_path.expanduser()"
   ]
  },
  {
   "cell_type": "code",
   "execution_count": null,
   "id": "be467d62-5fd3-4bd2-b0a2-654def2f8381",
   "metadata": {},
   "outputs": [],
   "source": [
    "analysis_name = 'self_consistency'\n",
    "\n",
    "if output_path.is_file():\n",
    "    with h5.File(output_path, 'r') as f:\n",
    "        try:\n",
    "            if f[f'progress_report/{analysis_name}/all_done'][()].item():\n",
    "                raise RuntimeError(f'{sess_name} has already been processed')\n",
    "        except KeyError:\n",
    "            pass"
   ]
  },
  {
   "cell_type": "code",
   "execution_count": null,
   "id": "f365bfc9-020e-4557-8e4c-c366d66f7d83",
   "metadata": {},
   "outputs": [],
   "source": [
    "do_tests = len(stat_tests) and n_perm\n",
    "\n",
    "if do_tests:\n",
    "    stat_tests_ = []\n",
    "    stat_tests_ordered = []\n",
    "    for test in stat_tests:\n",
    "        c0, c1 = test[:2]\n",
    "        alt = test[2] if len(test) > 2 else 'two-sided'\n",
    "        assert alt in ('less', 'greater', 'two-sided')\n",
    "        stat_tests_.append((c0, c1, alt))\n",
    "        if c0 > c1:\n",
    "            c0, c1 = c1, c0\n",
    "            if alt != 'two-sided':\n",
    "                alt = dict(less='greater', greater='less')[alt]\n",
    "        stat_tests_ordered.append((c0, c1, alt))\n",
    "\n",
    "    stat_tests = tuple(stat_tests_)\n",
    "    stat_tests_ordered = pd.DataFrame(stat_tests_ordered, columns=['Condition 1', 'Condition 2', 'Alternative'])\n",
    "    stat_tests_ordered = stat_tests_ordered.reset_index().set_index(['Condition 1', 'Condition 2'])\n",
    "\n",
    "    print(stat_tests)\n",
    "    stat_tests_ordered\n",
    "\n",
    "else:\n",
    "    stat_tests = stat_tests_ordered = None"
   ]
  },
  {
   "cell_type": "markdown",
   "id": "02c3e806-4e71-4faf-aa81-b0684d245635",
   "metadata": {},
   "source": [
    "# Save config"
   ]
  },
  {
   "cell_type": "code",
   "execution_count": null,
   "id": "2d127cb4-2cab-47d4-900a-f6c54f0e64e5",
   "metadata": {},
   "outputs": [],
   "source": [
    "with h5.File(proc_path, 'r') as f:\n",
    "    random_seed = f['config/default_random_seed'][()]\n",
    "    sacc_sel = f['saccade_selection/fixation_indices'][()]\n",
    "fix_df = pd.read_hdf(proc_path, 'fixation_dataframe', 'r')\n",
    "\n",
    "print('random_seed:', random_seed)"
   ]
  },
  {
   "cell_type": "code",
   "execution_count": null,
   "id": "8fefe126-a643-49d0-9595-b3b640ffb64a",
   "metadata": {},
   "outputs": [],
   "source": [
    "save_results, add_attr_to_dset, check_equals_saved, link_dsets, copy_group = \\\n",
    "    get_storage_functions(output_path)"
   ]
  },
  {
   "cell_type": "code",
   "execution_count": null,
   "id": "d7e1030c-ec90-4217-9d5a-c157e1ad7946",
   "metadata": {},
   "outputs": [],
   "source": [
    "group = analysis_name + '/config/'\n",
    "save_results(group+'random_seed', random_seed)\n",
    "save_results(group+'sdf_suffix', sdf_suffix)\n",
    "\n",
    "group = analysis_name + '/config/time_windows/'\n",
    "save_results(group+'t_pre', t_pre)\n",
    "save_results(group+'t_post', t_post)\n",
    "save_results(group+'t_step', t_step)\n",
    "add_attr_to_dset(group, attrs=dict(unit='ms'))\n",
    "\n",
    "group = analysis_name + '/config/return_criterion/'\n",
    "save_results(group+'return_thres', return_thres, attrs=dict(unit='dva'))\n",
    "save_results(group+'min_sep', min_sep, attrs=dict(unit='dva'))\n",
    "save_results(group+'min_sep_win', min_sep_win, attrs=dict(unit='ms'))\n",
    "\n",
    "group = analysis_name + '/config/statistics/'\n",
    "save_results(group+'tests', str(stat_tests))\n",
    "save_results(group+'test_kind', 'permutation')\n",
    "save_results(group+'n_perm', n_perm)\n",
    "\n",
    "save_results(analysis_name+'/saccade_selection', sacc_sel)"
   ]
  },
  {
   "cell_type": "markdown",
   "id": "db9732ce-68ac-4cef-be25-b0c0b5d49f88",
   "metadata": {},
   "source": [
    "# Find return pairs"
   ]
  },
  {
   "cell_type": "code",
   "execution_count": null,
   "id": "d754f273-e25e-43b8-b02d-86abe185d145",
   "metadata": {},
   "outputs": [],
   "source": [
    "df_ = fix_df.iloc[sacc_sel[1]]\n",
    "imids = np.array([f'{v0}/{v1}' for v0, v1 in df_[['Image subdir', 'Image filename']].values])\n",
    "pos0 = fix_df.iloc[sacc_sel[0]][['Relative X', 'Relative Y']].values\n",
    "pos1 = df_[['Relative X', 'Relative Y']].values\n",
    "\n",
    "curr_return_pairs = find_return_fixations(imids, pos1, thres_deg=return_thres)\n",
    "prev_return_pairs = find_return_fixations(imids, pos0, thres_deg=return_thres)\n",
    "print('\"current\" return pairs shape:', curr_return_pairs.shape)\n",
    "print('\"previous\" return pairs shape:', prev_return_pairs.shape)\n",
    "\n",
    "bycond_return_pairs = dict(\n",
    "    current=curr_return_pairs,\n",
    "    previous=prev_return_pairs)"
   ]
  },
  {
   "cell_type": "code",
   "execution_count": null,
   "id": "705ab737-8e14-47ea-9fba-415c92b634b1",
   "metadata": {},
   "outputs": [],
   "source": [
    "if min_sep > 0:\n",
    "    iind_tr = fix_df.index.names.index('Trial')\n",
    "    iind_fix = fix_df.index.names.index('Fixation')\n",
    "\n",
    "    for cond, return_pairs in bycond_return_pairs.items():\n",
    "        decorr_win = 'current' if cond == 'previous' else 'previous'\n",
    "        min_seps = np.full(len(return_pairs), np.inf)\n",
    "\n",
    "        for i, (i0_, i1_) in enumerate(tqdm(return_pairs)):\n",
    "            i0, i1 = sacc_sel[1,[i0_,i1_]]\n",
    "            itr0, itr1 = fix_df.index.get_level_values(iind_tr)[[i0,i1]]\n",
    "            tr0_fixs = fix_df.loc[(itr0, slice(None))]\n",
    "            tr1_fixs = fix_df.loc[(itr1, slice(None))]\n",
    "\n",
    "            # find any relevant fixations within min_sep window\n",
    "            if decorr_win == 'current':\n",
    "                ifix0, ifix1 = fix_df.index.get_level_values(iind_fix)[[i0,i1]]\n",
    "                t0, t1 = fix_df.iloc[[i0,i1]]['Time'].values\n",
    "\n",
    "                m0 = tr0_fixs.index >= ifix0\n",
    "                if not m0.any(): continue\n",
    "                m0[m0] = tr0_fixs.loc[m0, 'Time'] <= (t0 + min_sep_win)\n",
    "                if not m0.any(): continue\n",
    "\n",
    "                m1 = tr1_fixs.index >= ifix1\n",
    "                if not m1.any(): continue\n",
    "                m1[m1] = tr1_fixs.loc[m1, 'Time'] <= (t1 + min_sep_win)\n",
    "                if not m1.any(): continue\n",
    "\n",
    "            else:\n",
    "                i0, i1 = sacc_sel[0,[i0_,i1_]]\n",
    "                ifix0, ifix1 = fix_df.index.get_level_values(iind_fix)[[i0,i1]]\n",
    "                t0, t1 = fix_df.iloc[[i0,i1]]['End time'].values\n",
    "\n",
    "                m0 = tr0_fixs.index <= ifix0\n",
    "                if not m0.any(): continue\n",
    "                m0[m0] = tr0_fixs.loc[m0, 'End time'].values > (t0 - min_sep_win)\n",
    "                if not m0.any(): continue\n",
    "\n",
    "                m1 = tr1_fixs.index <= ifix1\n",
    "                if not m1.any(): continue\n",
    "                m1[m1] = tr1_fixs.loc[m1, 'End time'].values > (t1 - min_sep_win)\n",
    "                if not m1.any(): continue\n",
    "\n",
    "            pwd = np.linalg.norm(\n",
    "                tr0_fixs.loc[m0, ['Relative X', 'Relative Y']].values[:,None,:]\n",
    "                - tr1_fixs.loc[m1, ['Relative X', 'Relative Y']].values[None,:,:],\n",
    "                axis=-1)\n",
    "            min_seps[i] = pwd.min()\n",
    "\n",
    "        bycond_return_pairs[cond] = return_pairs[min_seps >= min_sep]\n",
    "\n",
    "    for k, v in bycond_return_pairs.items():\n",
    "        print(f'decorrelated \"{k}\" return pairs shape:', v.shape)"
   ]
  },
  {
   "cell_type": "code",
   "execution_count": null,
   "id": "cac2a8e5-5329-41df-8e9d-d7d7dbde0e6c",
   "metadata": {},
   "outputs": [],
   "source": [
    "group = analysis_name + '/return_pairs/'\n",
    "for cond, pairs in bycond_return_pairs.items():\n",
    "    if not pairs.size:\n",
    "        pairs = h5.Empty('i')\n",
    "    save_results(group+cond, pairs)"
   ]
  },
  {
   "cell_type": "markdown",
   "id": "6a58a1f7-e4af-42ce-99d9-df5a4b835f26",
   "metadata": {},
   "source": [
    "# Get fixation onset-aligned responses"
   ]
  },
  {
   "cell_type": "code",
   "execution_count": null,
   "id": "436138cb-0844-4db3-bf35-3fe5dc55ec0f",
   "metadata": {},
   "outputs": [],
   "source": [
    "with h5.File(sdf_path, 'r') as f:\n",
    "    dset = f['sdf']\n",
    "    unit_names = dset.attrs['unit_names'].astype(str)\n",
    "    sdf = dset[()]\n",
    "    if 'unit_names' in f:\n",
    "        copy_group(f, 'unit_names', analysis_name+'/unit_names')\n",
    "\n",
    "n_neur = sdf.shape[1]\n",
    "unit_names.shape, unit_names.dtype, sdf.shape, sdf.dtype"
   ]
  },
  {
   "cell_type": "code",
   "execution_count": null,
   "id": "56352f3a-2b45-4874-a342-a900d2614294",
   "metadata": {},
   "outputs": [],
   "source": [
    "ts = np.arange(-t_pre, t_post, t_step)\n",
    "\n",
    "resps = np.empty_like(sdf, shape=(sacc_sel.shape[1], ts.size, sdf.shape[-1]))\n",
    "for i, t in enumerate(fix_df.iloc[sacc_sel[1]]['Time'].values):\n",
    "    ts_ = np.round(t+ts).astype(int)\n",
    "    resps[i] = sdf[ts_,:]\n",
    "\n",
    "resps.shape, resps.dtype"
   ]
  },
  {
   "cell_type": "markdown",
   "id": "0ad90c1e-2687-4c34-8020-ffbb5c760853",
   "metadata": {},
   "source": [
    "# Calculate self-consistency"
   ]
  },
  {
   "cell_type": "code",
   "execution_count": null,
   "id": "b8abf977-2db0-4a90-bfa5-8ee1d5d6e650",
   "metadata": {},
   "outputs": [],
   "source": [
    "coords = (('time', ts), ('unit', unit_names))\n",
    "attrs = dict(\n",
    "    return_thres=return_thres,\n",
    "    min_sep=min_sep,\n",
    "    min_sep_win=min_sep_win,\n",
    "    random_seed=random_seed,\n",
    "    unit=\"Pearson's r\")\n",
    "\n",
    "bycond_rsc_ds = {}\n",
    "for cond, pairs in bycond_return_pairs.items():\n",
    "    if len(pairs) > 1:\n",
    "        attrs['n_pairs'] = len(pairs)\n",
    "        ds = pairwise_self_consistency(\n",
    "            pairs=pairs, resps=resps,\n",
    "            n_bootstraps=n_boots, n_permutations=0,\n",
    "            random_seed=random_seed,\n",
    "            coords=coords, attrs=attrs)\n",
    "    else:\n",
    "        ds = None\n",
    "    bycond_rsc_ds[cond] = ds"
   ]
  },
  {
   "cell_type": "code",
   "execution_count": null,
   "id": "d65a935c-c099-42e7-aa4b-f8c338d8206b",
   "metadata": {},
   "outputs": [],
   "source": [
    "group = analysis_name + '/'\n",
    "q = lambda x: quantize(x, 3)\n",
    "compr = dict(zlib=True, complevel=9)\n",
    "for cond, dataset in bycond_rsc_ds.items():\n",
    "    loc = group + cond\n",
    "    if dataset is not None:\n",
    "        dataset = dataset.assign({\n",
    "            k: q(v)\n",
    "            for k, v in dataset.data_vars.items()})\n",
    "        encoding = {\n",
    "            k: dict(chunksizes=v.shape, **compr)\n",
    "            for k, v in dataset.data_vars.items()\n",
    "            if v.size}\n",
    "        dataset.to_netcdf(\n",
    "            output_path, group=loc, mode='a',\n",
    "            engine='h5netcdf', encoding=encoding)\n",
    "    else:\n",
    "        save_results(loc, h5.Empty('f'))"
   ]
  },
  {
   "cell_type": "markdown",
   "id": "51d4d912-b7bd-4473-83c6-c265ccf5e80b",
   "metadata": {},
   "source": [
    "# Permutation test"
   ]
  },
  {
   "cell_type": "code",
   "execution_count": null,
   "id": "0849522c-2dd1-4fe1-b8ec-d11cbf4dbad9",
   "metadata": {},
   "outputs": [],
   "source": [
    "test_results = {}\n",
    "\n",
    "if do_tests:\n",
    "    coords = (('time', ts), ('unit', unit_names))\n",
    "    attrs = dict(random_seed=random_seed)\n",
    "\n",
    "    for (c0, c1), rows in stat_tests_ordered.groupby(['Condition 1', 'Condition 2'], axis=0):\n",
    "        alts = rows['Alternative'].values\n",
    "        print('test:', (c0, c1), '\\talternatives:', alts)\n",
    "\n",
    "        try:\n",
    "            ds = pairwise_self_consistency_perm_test(\n",
    "                resps=resps,\n",
    "                pairs0=bycond_return_pairs[c0],\n",
    "                pairs1=bycond_return_pairs[c1],\n",
    "                alternatives=alts,\n",
    "                n_permutations=n_perm,\n",
    "                random_seed=random_seed,\n",
    "                coords=coords,\n",
    "                attrs=attrs,\n",
    "                verbose=True)\n",
    "        except ValueError as e:\n",
    "            if 'Less than 2 pairs' in str(e):\n",
    "                continue\n",
    "            raise\n",
    "\n",
    "        test_results[(c0,c1)] = ds\n",
    "        print()"
   ]
  },
  {
   "cell_type": "code",
   "execution_count": null,
   "id": "87cd141f-4168-47e4-a587-8175325bf406",
   "metadata": {},
   "outputs": [],
   "source": [
    "group = analysis_name + '/permutation_test/'\n",
    "compr = dict(zlib=True, complevel=9)\n",
    "for (c0, c1), dataset in test_results.items():\n",
    "    if not save_perm_diffs:\n",
    "        dataset = dataset.drop_vars('permuted_diffs')\n",
    "    encoding = {\n",
    "        k: dict(chunksizes=v.shape, **compr)\n",
    "        for k, v in dataset.data_vars.items()\n",
    "        if v.size}\n",
    "    dataset.to_netcdf(\n",
    "        output_path, group=group+f'{c0}_v_{c1}',\n",
    "        mode='a', engine='h5netcdf', encoding=encoding)"
   ]
  },
  {
   "cell_type": "markdown",
   "id": "4aec2596-63f4-4186-b7d0-5f91c2868498",
   "metadata": {},
   "source": [
    "# Wrap up"
   ]
  },
  {
   "cell_type": "code",
   "execution_count": null,
   "id": "8e50b16a-744e-4328-9cbc-5813d8baed9e",
   "metadata": {},
   "outputs": [],
   "source": [
    "save_results(f'progress_report/{analysis_name}/all_done', True)"
   ]
  },
  {
   "cell_type": "code",
   "execution_count": null,
   "id": "553e15c0-cf86-4e73-860d-b55bafb4bd47",
   "metadata": {},
   "outputs": [],
   "source": [
    "%load_ext watermark\n",
    "%watermark\n",
    "%watermark -vm --iversions -rbg"
   ]
  },
  {
   "cell_type": "markdown",
   "id": "f6c0cb07-0804-4655-94b3-c81bee86f49f",
   "metadata": {},
   "source": [
    "# Plots"
   ]
  },
  {
   "cell_type": "code",
   "execution_count": null,
   "id": "d4edad97-3dfe-4d04-a342-cae13c230afb",
   "metadata": {},
   "outputs": [],
   "source": [
    "import matplotlib.pyplot as plt"
   ]
  },
  {
   "cell_type": "code",
   "execution_count": null,
   "id": "ff1d1a9a-0bf7-472a-96d4-9b7e8946273c",
   "metadata": {},
   "outputs": [],
   "source": [
    "if any(v is not None for v in bycond_rsc_ds.values()):\n",
    "    for k, color in (\n",
    "            ('previous', 'tab:green'),\n",
    "            ('current', 'tab:purple')):\n",
    "        value = bycond_rsc_ds[k]\n",
    "        if value is None: continue\n",
    "        val = value['sample'].values\n",
    "        m = np.nanmean(val, -1)\n",
    "        s = np.nanmedian(val, -1)\n",
    "        l, = plt.plot(ts, m, label=k.capitalize(), color=color)\n",
    "        plt.fill_between(ts, m-s, m+s, ec='none', fc=l.get_color(), alpha=0.2)\n",
    "    plt.xlabel('Time to fixation onset, ms')\n",
    "    plt.ylabel('Self-consistency, Pearson\\'s r')\n",
    "    plt.legend(title='Return fixation type', loc='upper left', bbox_to_anchor=(1,1))"
   ]
  },
  {
   "cell_type": "code",
   "execution_count": null,
   "id": "68e6fbe4-a239-4d2a-b607-8ab9830d2fe5",
   "metadata": {},
   "outputs": [],
   "source": [
    "for test, results in test_results.items():\n",
    "    alts = results.coords['alternative'].values\n",
    "    n = len(alts)\n",
    "    fig, axs = plt.subplots(1, n, figsize=(4*n,3), squeeze=False, sharex=True)\n",
    "    plt.subplots_adjust(wspace=0.5)\n",
    "    f = lambda x: x if isinstance(x, str) else ', '.join(map(str, x))\n",
    "    pvals_ = results['p-value'].values\n",
    "    for i, ax in enumerate(axs.ravel()):\n",
    "        vs = pvals_[i]\n",
    "        ax.plot(ts, vs, c='k', lw=0.5);\n",
    "        ax.set_yscale('log')\n",
    "        ax.hlines(1e-2, ts.min(), ts.max(), ls='--', lw=0.5, color='r')\n",
    "        ax.text(.05, 1.05, f'alternative: {alts[i]}',\n",
    "                ha='left', va='bottom', transform=ax.transAxes)\n",
    "    ax = axs[0,0]\n",
    "    ax.text(.05, 1.1, 'test: '+', '.join(map(f, test)),\n",
    "            ha='left', va='bottom', transform=ax.transAxes)\n",
    "    axs[-1,0].set_xlabel('Time rel. fix. on, ms')\n",
    "    axs[0,0].set_ylabel('P-value');"
   ]
  },
  {
   "cell_type": "code",
   "execution_count": null,
   "id": "af237394-373d-4356-93d2-abc2cb3890c4",
   "metadata": {},
   "outputs": [],
   "source": [
    "for test, results in test_results.items():\n",
    "    alts = results.coords['alternative'].values\n",
    "    n = len(alts)\n",
    "    fig, axs = plt.subplots(1, n, figsize=(4*n,3), squeeze=False, sharex=True)\n",
    "    plt.subplots_adjust(wspace=0.5)\n",
    "    f = lambda x: x if isinstance(x, str) else ', '.join(map(str, x))\n",
    "    pvals_ = results['p-value'].values\n",
    "    for i, ax in enumerate(axs.ravel()):\n",
    "            vs = pvals_[i]\n",
    "            ax.plot(ts, np.nanmedian(vs, axis=-1))\n",
    "            ax.set_yscale('log')\n",
    "            ax.hlines(1e-2, ts.min(), ts.max(), ls='--', lw=0.5, color='r')\n",
    "            ax.text(.05, 1.025, f'alternative: {alts[i]}',\n",
    "                    ha='left', va='bottom', transform=ax.transAxes)\n",
    "    ax = axs[0,0]\n",
    "    ax.text(.05, 1.1, 'test: '+', '.join(map(f, test)),\n",
    "            ha='left', va='bottom', transform=ax.transAxes)\n",
    "    axs[-1,0].set_xlabel('Time rel. fix. on, ms')\n",
    "    axs[0,0].set_ylabel('P-value');"
   ]
  }
 ],
 "metadata": {
  "kernelspec": {
   "display_name": "Python 3 (ipykernel)",
   "language": "python",
   "name": "python3"
  },
  "language_info": {
   "codemirror_mode": {
    "name": "ipython",
    "version": 3
   },
   "file_extension": ".py",
   "mimetype": "text/x-python",
   "name": "python",
   "nbconvert_exporter": "python",
   "pygments_lexer": "ipython3",
   "version": "3.10.6"
  }
 },
 "nbformat": 4,
 "nbformat_minor": 5
}
