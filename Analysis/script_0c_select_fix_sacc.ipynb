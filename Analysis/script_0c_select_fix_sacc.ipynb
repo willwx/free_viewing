{
 "cells": [
  {
   "cell_type": "code",
   "execution_count": null,
   "id": "18c00723-a503-4eed-98da-d6d5c4a7df03",
   "metadata": {},
   "outputs": [],
   "source": [
    "import sys\n",
    "from pathlib import Path\n",
    "\n",
    "import h5py as h5\n",
    "import numpy as np\n",
    "import pandas as pd\n",
    "\n",
    "sys.path.append('../lib')\n",
    "from storage import get_storage_functions\n",
    "from local_paths import preproc_dir"
   ]
  },
  {
   "cell_type": "markdown",
   "id": "17729b73-3665-4f1e-8458-1f0fea2ab33c",
   "metadata": {},
   "source": [
    "# Parameters"
   ]
  },
  {
   "cell_type": "code",
   "execution_count": null,
   "id": "f5889c0a-88ef-429b-a2b5-cfd13280c100",
   "metadata": {
    "tags": [
     "parameters"
    ]
   },
   "outputs": [],
   "source": [
    "#============================================================================\n",
    "# session\n",
    "#============================================================================\n",
    "sess_name = 'sess_name'\n",
    "\n",
    "\n",
    "#============================================================================\n",
    "# main\n",
    "#============================================================================\n",
    "# fixation selection\n",
    "min_fix_dur  = 100   # ms\n",
    "within_image = True  # whther fixation must land within image bounds\n",
    "t_margin     = 500   # ms; make sure neural data covers fixation periods\n",
    "\n",
    "# saccade selection\n",
    "min_sacc_size =    4  # dva; only consider saccades at least this large\n",
    "# - make sure any other fixation(s) closer than `min_sep_win` from the saccade\n",
    "#   are also at least `min_sacc_size` apart across the saccade\n",
    "min_sep_win   =  100  # ms\n",
    "\n",
    "\n",
    "#============================================================================\n",
    "# paths\n",
    "#============================================================================\n",
    "# this script will write to preproc file\n",
    "proc_dir = preproc_dir\n",
    "overwrite = False  # overwrite any existing results; use with caution"
   ]
  },
  {
   "cell_type": "markdown",
   "id": "1cd19601-6967-4489-b144-40f0c3f35761",
   "metadata": {},
   "source": [
    "# Check parameters and whether already done"
   ]
  },
  {
   "cell_type": "code",
   "execution_count": null,
   "id": "f4dc0b40-d2ed-4c77-bad2-ef6b5a166f3a",
   "metadata": {},
   "outputs": [],
   "source": [
    "proc_path = Path(proc_dir) / (sess_name + '-proc.h5')\n",
    "print('Loading shared processing from', proc_path)\n",
    "proc_path = proc_path.expanduser()\n",
    "assert proc_path.is_file()\n",
    "\n",
    "output_path = proc_path"
   ]
  },
  {
   "cell_type": "code",
   "execution_count": null,
   "id": "ba89c110-d7af-415c-8ef3-80acf05661d8",
   "metadata": {},
   "outputs": [],
   "source": [
    "if output_path.is_file():\n",
    "    if overwrite:\n",
    "        with h5.File(output_path, 'a') as f:\n",
    "            for g in ('fixation_selection', 'saccade_selection', 'progress_report/select_fix_sacc/all_done'):\n",
    "                if g in f:\n",
    "                    del f[g]\n",
    "    else:\n",
    "        with h5.File(output_path, 'r') as f:\n",
    "            try:\n",
    "                if f['progress_report/select_fix_sacc/all_done'][()].item():\n",
    "                    raise RuntimeError(f'{sess_name} has already been processed')\n",
    "            except KeyError:\n",
    "                pass"
   ]
  },
  {
   "cell_type": "code",
   "execution_count": null,
   "id": "a7d88875-1c9c-4737-be9d-7439c5634055",
   "metadata": {},
   "outputs": [],
   "source": [
    "save_results, add_attr_to_dset, check_equals_saved, link_dsets, copy_group = \\\n",
    "    get_storage_functions(output_path, overwrite=overwrite)"
   ]
  },
  {
   "cell_type": "code",
   "execution_count": null,
   "id": "03ecf94a-6f1f-4ad6-8f35-3fa6a271629a",
   "metadata": {},
   "outputs": [],
   "source": [
    "fix_df = pd.read_hdf(proc_path, 'fixation_dataframe', 'r')\n",
    "with h5.File(proc_path, 'r') as f:\n",
    "    duration = f['recording_duration'][()]\n",
    "    im_size_dva = f['stimulus/size_dva'][()]"
   ]
  },
  {
   "cell_type": "markdown",
   "id": "74485762-8d07-4dc2-83bc-3ce3ae9d00b4",
   "metadata": {},
   "source": [
    "# Select fixations"
   ]
  },
  {
   "cell_type": "code",
   "execution_count": null,
   "id": "03001ffa-088f-4ec3-9397-380dd2872c2c",
   "metadata": {},
   "outputs": [],
   "source": [
    "fix_sel_mask = (\n",
    "    (fix_df['Duration'] >= min_fix_dur)\n",
    "    & (fix_df['Time'] >= t_margin)\n",
    "    & (fix_df['End time'] <= (duration-t_margin))\n",
    ").values\n",
    "print(f'from {len(fix_df)} fixations, selecting {fix_sel_mask.sum()} '\n",
    "      f'with duration >= {min_fix_dur} ms and within recording bounds')\n",
    "\n",
    "# fixation must land within image bounds\n",
    "if within_image:\n",
    "    xys = fix_df[['Relative X', 'Relative Y']].values.astype(float)\n",
    "    d2b = np.array([\n",
    "        np.max([xys[:,j]-im_size_dva[j]/2, -im_size_dva[j]/2-xys[:,j]], axis=0)\n",
    "        for j in range(2)\n",
    "    ])  # shape (2, n_fix)\n",
    "    m = fix_sel_mask & np.all(d2b<0, axis=0)  # shape (n_fix,)\n",
    "    print(f'from {fix_sel_mask.sum()} fixations, selecting {m.sum()} '\n",
    "          f'that are fully within image bounds (size: {im_size_dva})')\n",
    "    fix_sel_mask = m\n",
    "\n",
    "fix_sel = np.nonzero(fix_sel_mask)[0]\n",
    "print(f'selected {len(fix_sel)} fixations')"
   ]
  },
  {
   "cell_type": "code",
   "execution_count": null,
   "id": "977ee010-a050-49d6-91bc-50304a2235c8",
   "metadata": {},
   "outputs": [],
   "source": [
    "save_results('fixation_selection/min_fix_dur', min_fix_dur, attrs=dict(unit='ms'))\n",
    "save_results('fixation_selection/within_image', within_image)\n",
    "save_results('fixation_selection/t_margin', t_margin, attrs=dict(unit='ms'))\n",
    "save_results('fixation_selection/fixation_indices', fix_sel)  # shape (nfix,) indexing into fix_df"
   ]
  },
  {
   "cell_type": "markdown",
   "id": "fabda188-8352-47b2-9ead-457225adfffc",
   "metadata": {},
   "source": [
    "# Select saccades"
   ]
  },
  {
   "cell_type": "code",
   "execution_count": null,
   "id": "dc060ad7-3a00-4bee-972d-77d6ef4e3ec7",
   "metadata": {},
   "outputs": [],
   "source": [
    "# start with selected fixations\n",
    "fix2_sel = fix_sel.copy()\n",
    "\n",
    "# 1. have a previous fixation\n",
    "m = fix_df.iloc[fix2_sel]['Preceding fixation index'].values >= 0\n",
    "fix2_sel = fix2_sel[m]\n",
    "fix1_sel = fix_df.iloc[fix2_sel]['Preceding fixation index'].values.astype(fix2_sel.dtype)\n",
    "print(f'from {m.size} fixations, selecting {fix2_sel.size} with a previous fixation')\n",
    "\n",
    "# 2. previous fixation must also be selected\n",
    "m = pd.Series(fix1_sel).isin(fix_sel).values\n",
    "fix2_sel = fix2_sel[m]\n",
    "fix1_sel = fix1_sel[m]\n",
    "print(f'from {len(m)} saccades, selecting {len(fix2_sel)} '\n",
    "      f'with starting fixations that also match selection criteria')\n",
    "\n",
    "sacc_vecs_sel = (\n",
    "    fix_df.iloc[fix2_sel][['Relative X', 'Relative Y']].values\n",
    "    - fix_df.iloc[fix1_sel][['Relative X', 'Relative Y']].values)\n",
    "sacc_sizes = np.linalg.norm(sacc_vecs_sel, axis=-1)\n",
    "\n",
    "sacc_sel = np.array([fix1_sel, fix2_sel])\n",
    "print(f'selected {sacc_sel.shape[1]} saccades')"
   ]
  },
  {
   "cell_type": "markdown",
   "id": "c66e1949-6ffe-4be3-af00-5b7c6967b629",
   "metadata": {},
   "source": [
    "### Further select large saccades"
   ]
  },
  {
   "cell_type": "code",
   "execution_count": null,
   "id": "79d513e9-7d5f-474d-b87d-3d586c94cc9b",
   "metadata": {},
   "outputs": [],
   "source": [
    "# 3. saccade size must be large\n",
    "m = sacc_sizes >= min_sacc_size\n",
    "sel = np.nonzero(m)[0]\n",
    "print(f'from {len(m)} saccades, selecting {len(sel)} >= {min_sacc_size} dva')\n",
    "\n",
    "# 4. nearby fixations must also be at least `min_sacc_size` apart across the saccade\n",
    "#    this check is redundant if min_sep_win <= min_fix_dur, but check just in case\n",
    "min_seps = sacc_sizes[m].copy()\n",
    "for i, ((itr, ifix), row) in enumerate(fix_df.iloc[fix2_sel[sel]].iterrows()):\n",
    "    t0 = fix_df.iloc[fix1_sel[sel[i]]]['End time']  # saccade start time\n",
    "    t1 = row['Time']  # saccade stop time\n",
    "    tr_fixs = fix_df.loc[(itr, slice(None))]\n",
    "\n",
    "    m0 = tr_fixs.index < ifix - 1\n",
    "    if not m0.any(): continue\n",
    "    m0[m0] = tr_fixs.loc[m0, 'End time'].values > (t0 - min_sep_win)\n",
    "    if not m0.any(): continue\n",
    "\n",
    "    m1 = tr_fixs.index > ifix\n",
    "    if not m1.any(): continue\n",
    "    m1[m1] = tr_fixs.loc[m1, 'Time'] <= (t1 + min_sep_win)\n",
    "    if not m1.any(): continue\n",
    "\n",
    "    pwd = np.linalg.norm(\n",
    "        tr_fixs.loc[m0, ['Relative X', 'Relative Y']].values[:,None,:]\n",
    "        - tr_fixs.loc[m1, ['Relative X', 'Relative Y']].values[None,:,:],\n",
    "        axis=-1)\n",
    "    min_seps[i] = pwd.min()\n",
    "\n",
    "submask = m.copy()\n",
    "submask[submask] = m = min_seps >= min_sacc_size\n",
    "print(f'from {len(sel)} saccades, selecting {submask.sum()} whose pre-/post-fixations '\n",
    "      f'(within {min_sep_win} ms of saccade) are also at least {min_sacc_size} dva apart')"
   ]
  },
  {
   "cell_type": "code",
   "execution_count": null,
   "id": "f458dca8-be10-462c-8b19-26eddbd2ebdc",
   "metadata": {},
   "outputs": [],
   "source": [
    "link_dsets('saccade_selection/fixation_selection', 'fixation_selection')\n",
    "save_results('saccade_selection/fixation_indices', sacc_sel)  # shape (2, nsacc) indexing into fix_df\n",
    "save_results('saccade_selection/saccade_sizes', sacc_sizes, attrs=dict(unit='dva'))  # shape (nsacc,)\n",
    "\n",
    "save_results('saccade_selection/large/min_sacc_size', min_sacc_size, attrs=dict(unit='dva'))\n",
    "save_results('saccade_selection/large/min_sep_win', min_sep_win, attrs=dict(unit='ms'))\n",
    "save_results('saccade_selection/large/saccade_subset', submask)  # shape (nsacc,) binary selection into sacc_sel\n",
    "save_results('saccade_selection/large/saccade_sizes', sacc_sizes[submask], attrs=dict(unit='dva'))  # shape (nsacc_lg,)\n",
    "save_results('saccade_selection/large/min_seperations', min_seps[m], attrs=dict(unit='dva'))  # shape (nsacc_lg,)"
   ]
  },
  {
   "cell_type": "markdown",
   "id": "92707de3-b60c-40aa-9358-856a3e04ddfe",
   "metadata": {},
   "source": [
    "# Wrap up"
   ]
  },
  {
   "cell_type": "code",
   "execution_count": null,
   "id": "48d486b4-4917-4ac1-838b-2a644c06ce58",
   "metadata": {},
   "outputs": [],
   "source": [
    "save_results('progress_report/select_fix_sacc/all_done', True)"
   ]
  },
  {
   "cell_type": "code",
   "execution_count": null,
   "id": "fe37c086-5c32-47a9-814c-f8c3a2a093af",
   "metadata": {},
   "outputs": [],
   "source": [
    "%load_ext watermark\n",
    "%watermark -vm --iversions -rbg"
   ]
  }
 ],
 "metadata": {
  "kernelspec": {
   "display_name": "Python 3 (ipykernel)",
   "language": "python",
   "name": "python3"
  },
  "language_info": {
   "codemirror_mode": {
    "name": "ipython",
    "version": 3
   },
   "file_extension": ".py",
   "mimetype": "text/x-python",
   "name": "python",
   "nbconvert_exporter": "python",
   "pygments_lexer": "ipython3",
   "version": "3.10.6"
  }
 },
 "nbformat": 4,
 "nbformat_minor": 5
}
