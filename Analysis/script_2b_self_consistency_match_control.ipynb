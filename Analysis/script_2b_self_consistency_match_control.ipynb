{
 "cells": [
  {
   "cell_type": "code",
   "execution_count": null,
   "id": "7a9a6a78-eb4f-4c31-84ef-7679728baf57",
   "metadata": {},
   "outputs": [],
   "source": [
    "import itertools\n",
    "import sys\n",
    "from pathlib import Path\n",
    "\n",
    "import h5py as h5\n",
    "import numpy as np\n",
    "import pandas as pd\n",
    "\n",
    "sys.path.append('../lib')\n",
    "from storage import get_storage_functions\n",
    "from local_paths import preproc_dir, analysis_dir\n",
    "from self_consistency import pairwise_self_consistency_perm_test"
   ]
  },
  {
   "cell_type": "markdown",
   "id": "9dfb9de5-a538-456d-bc49-15668b54db8f",
   "metadata": {},
   "source": [
    "# Set parameters"
   ]
  },
  {
   "cell_type": "code",
   "execution_count": null,
   "id": "2b1414c6-c824-4771-8474-5f4387891d69",
   "metadata": {
    "tags": [
     "parameters"
    ]
   },
   "outputs": [],
   "source": [
    "#============================================================================\n",
    "# session\n",
    "#============================================================================\n",
    "sess_name = 'sess_name'\n",
    "\n",
    "\n",
    "#============================================================================\n",
    "# response windows\n",
    "#============================================================================\n",
    "t_pre  = 375\n",
    "t_post = 375\n",
    "t_step =  10\n",
    "\n",
    "\n",
    "#============================================================================\n",
    "# statistical tests\n",
    "#============================================================================\n",
    "match_tests = (('current', 'previous', 'greater'),)\n",
    "n_perm = 10000\n",
    "save_perm_diffs = False  # whether to save permuted delta effect sizes\n",
    "\n",
    "\n",
    "#============================================================================\n",
    "# paths\n",
    "#============================================================================\n",
    "proc_dir = preproc_dir\n",
    "sdf_dir = preproc_dir\n",
    "sdf_suffix = '-mwa_50'\n",
    "\n",
    "rsc_dir = analysis_dir + 'self_consistency_no_decorr'\n",
    "\n",
    "output_dir = analysis_dir + 'self_consistency_match_control'"
   ]
  },
  {
   "cell_type": "markdown",
   "id": "b7a34f9e-682e-4601-a78d-6da9c5645262",
   "metadata": {},
   "source": [
    "# Check prereqs and params"
   ]
  },
  {
   "cell_type": "code",
   "execution_count": null,
   "id": "290a4e92-01d3-4a59-bfee-38e1df52e7a0",
   "metadata": {},
   "outputs": [],
   "source": [
    "proc_path = Path(proc_dir) / (sess_name + '-proc.h5')\n",
    "print('Loading shared processing from', proc_path)\n",
    "proc_path = proc_path.expanduser()\n",
    "assert proc_path.is_file()\n",
    "\n",
    "rsc_path = Path(rsc_dir) / (sess_name + '.h5')\n",
    "print('Loading return fixation self-consistency results from', rsc_path)\n",
    "rsc_path = rsc_path.expanduser()\n",
    "assert rsc_path.is_file()\n",
    "\n",
    "sdf_path = Path(sdf_dir) / (sess_name + f'-sdf{sdf_suffix}.h5')\n",
    "print('Loading spike density function from', sdf_path)\n",
    "sdf_path = sdf_path.expanduser()\n",
    "assert sdf_path.is_file()\n",
    "\n",
    "output_dir = Path(output_dir)\n",
    "assert output_dir.expanduser().is_dir()\n",
    "output_path = output_dir / (sess_name + '.h5')\n",
    "print('Saving results to', output_path)\n",
    "output_path = output_path.expanduser()"
   ]
  },
  {
   "cell_type": "code",
   "execution_count": null,
   "id": "ec550f0d-ac1e-4b10-b63f-9b914884a53b",
   "metadata": {},
   "outputs": [],
   "source": [
    "analysis_name = 'self_consistency_match_control'\n",
    "\n",
    "if output_path.is_file():\n",
    "    with h5.File(output_path, 'r') as f:\n",
    "        try:\n",
    "            if f[f'progress_report/{analysis_name}/all_done'][()].item():\n",
    "                raise RuntimeError(f'{sess_name} has already been processed')\n",
    "        except KeyError:\n",
    "            pass"
   ]
  },
  {
   "cell_type": "code",
   "execution_count": null,
   "id": "419fb2c8-6fee-4ff2-bd4d-025253071394",
   "metadata": {},
   "outputs": [],
   "source": [
    "assert len(match_tests) and n_perm"
   ]
  },
  {
   "cell_type": "markdown",
   "id": "83c6ea9c-61c9-4661-81f9-b69d99478d7e",
   "metadata": {},
   "source": [
    "# Save config"
   ]
  },
  {
   "cell_type": "code",
   "execution_count": null,
   "id": "2d127cb4-2cab-47d4-900a-f6c54f0e64e5",
   "metadata": {},
   "outputs": [],
   "source": [
    "with h5.File(proc_path, 'r') as f:\n",
    "    random_seed = f['config/default_random_seed'][()]\n",
    "print('random_seed:', random_seed)"
   ]
  },
  {
   "cell_type": "code",
   "execution_count": null,
   "id": "f78e5661-cc68-4f7e-99e7-0962ca8e21e6",
   "metadata": {},
   "outputs": [],
   "source": [
    "with h5.File(rsc_path, 'r') as f:\n",
    "    return_thres = f['self_consistency/config/return_criterion/return_thres'][()]\n",
    "    sacc_sel = f['self_consistency/saccade_selection'][()]  # shape (2, nsacc)"
   ]
  },
  {
   "cell_type": "code",
   "execution_count": null,
   "id": "8fefe126-a643-49d0-9595-b3b640ffb64a",
   "metadata": {},
   "outputs": [],
   "source": [
    "save_results, add_attr_to_dset, check_equals_saved, link_dsets, copy_group = \\\n",
    "    get_storage_functions(output_path)"
   ]
  },
  {
   "cell_type": "code",
   "execution_count": null,
   "id": "d7e1030c-ec90-4217-9d5a-c157e1ad7946",
   "metadata": {},
   "outputs": [],
   "source": [
    "group = analysis_name + '/config/'\n",
    "save_results(group+'random_seed', random_seed)\n",
    "\n",
    "group = analysis_name + '/config/time_windows/'\n",
    "save_results(group+'t_pre', t_pre)\n",
    "save_results(group+'t_post', t_post)\n",
    "save_results(group+'t_step', t_step)\n",
    "add_attr_to_dset(group, attrs=dict(unit='ms'))\n",
    "\n",
    "group = analysis_name + '/config/return_criterion/'\n",
    "save_results(group+'return_thres', return_thres, attrs=dict(unit='dva'))\n",
    "\n",
    "group = analysis_name + '/config/statistics/'\n",
    "save_results(group+'tests', str(match_tests))\n",
    "save_results(group+'test_kind', 'permutation')\n",
    "save_results(group+'n_perm', n_perm)\n",
    "\n",
    "save_results(analysis_name + '/saccade_selection', sacc_sel)"
   ]
  },
  {
   "cell_type": "markdown",
   "id": "9f8561a6-6c11-4653-80f8-8979d22f2752",
   "metadata": {},
   "source": [
    "# Find matches for return pairs"
   ]
  },
  {
   "cell_type": "code",
   "execution_count": null,
   "id": "64e0c440-c3e9-42e7-acbc-b5c17d00997a",
   "metadata": {},
   "outputs": [],
   "source": [
    "fix_df = pd.read_hdf(proc_path, 'fixation_dataframe', 'r')"
   ]
  },
  {
   "cell_type": "code",
   "execution_count": null,
   "id": "67a752dd-0168-4d01-af67-6e154a9870ce",
   "metadata": {},
   "outputs": [],
   "source": [
    "bycond_return_pairs = {}\n",
    "with h5.File(rsc_path, 'r') as f:\n",
    "    group = f['self_consistency/return_pairs']\n",
    "    for k, v in group.items():\n",
    "        v = v[()]\n",
    "        if not v.size: continue\n",
    "        v = np.sort(v, axis=1)\n",
    "        v = v[np.lexsort(tuple(v.T))]\n",
    "        bycond_return_pairs[k] = v"
   ]
  },
  {
   "cell_type": "code",
   "execution_count": null,
   "id": "957f5447-c516-44f3-8d97-560c3985e583",
   "metadata": {},
   "outputs": [],
   "source": [
    "sacc_vecs = np.array([  # shape (n_sacc, 2, 2)\n",
    "    fix_df.iloc[sacc_sel[i]][['Relative X', 'Relative Y']].values\n",
    "    for i in range(2)]).transpose(1,0,2)"
   ]
  },
  {
   "cell_type": "code",
   "execution_count": null,
   "id": "2f279864-a521-47d8-8dc0-75c5f8ee735b",
   "metadata": {},
   "outputs": [],
   "source": [
    "matched_return_pairs = {}\n",
    "\n",
    "for match_test in match_tests:\n",
    "    src_cond, dst_cond, alternative = match_test\n",
    "    src_pairs = bycond_return_pairs[src_cond]\n",
    "    dst_pairs = bycond_return_pairs[dst_cond]\n",
    "\n",
    "    # do both fixations in src match something in dst?\n",
    "    src_pairs_df = pd.DataFrame(src_pairs)\n",
    "    matched = src_pairs_df.isin(np.unique(dst_pairs)).values.all(1)\n",
    "\n",
    "    # chose a match for each fixation in a matched src pair\n",
    "    rg = np.random.default_rng(random_seed)\n",
    "    match_pairs = np.empty_like(src_pairs, shape=(matched.sum(), 2))\n",
    "    match_pairs_mask = np.ones(matched.sum(), dtype=bool)\n",
    "    src_pairs_set = set(map(tuple,src_pairs))\n",
    "    for im, (i, pair) in enumerate(zip(np.nonzero(matched)[0], src_pairs[matched])):\n",
    "\n",
    "        # find all match options\n",
    "        i0s = np.nonzero((dst_pairs == pair[0]).any(1))[0]\n",
    "        i1s = np.nonzero((dst_pairs == pair[1]).any(1))[0]\n",
    "\n",
    "        # choose one randomly\n",
    "        rg.shuffle(i0s)\n",
    "        rg.shuffle(i1s)\n",
    "        found = False\n",
    "        for i0, i1 in itertools.product(i0s, i1s):\n",
    "            m0 = (set(dst_pairs[i0]) - {pair[0]}).pop()\n",
    "            m1 = (set(dst_pairs[i1]) - {pair[1]}).pop()\n",
    "            if m0 == m1 or tuple(sorted((m0, m1))) in src_pairs_set:\n",
    "                continue\n",
    "            if dst_cond in ('previous', 'current'):\n",
    "                ic = int(dst_cond == 'current')\n",
    "                sep_src = np.linalg.norm(sacc_vecs[pair[0],ic]-sacc_vecs[pair[1],ic], axis=-1)\n",
    "                sep_match = np.linalg.norm(sacc_vecs[m0,ic]-sacc_vecs[m1,ic], axis=-1)\n",
    "                if sep_src < sep_match: continue\n",
    "            if src_cond in ('previous', 'current'):\n",
    "                ic = int(src_cond == 'current')\n",
    "                sep = np.linalg.norm(sacc_vecs[m0,ic]-sacc_vecs[m1,ic], axis=-1)\n",
    "                if sep <= return_thres: continue\n",
    "            match_pairs[im] = m0, m1\n",
    "            found = True\n",
    "            break\n",
    "\n",
    "        if not found:\n",
    "            match_pairs_mask[im] = False\n",
    "            matched[i] = False\n",
    "\n",
    "    assert matched.sum() == match_pairs_mask.sum()\n",
    "    match_pairs = match_pairs[match_pairs_mask]\n",
    "\n",
    "    matched_return_pairs[f'{src_cond}_matched_{dst_cond}'] = src_pairs[matched]\n",
    "    matched_return_pairs[f'{src_cond}_match_{dst_cond}'] = match_pairs"
   ]
  },
  {
   "cell_type": "code",
   "execution_count": null,
   "id": "bf279f7f-d486-4699-85dc-ac62ebdef282",
   "metadata": {},
   "outputs": [],
   "source": [
    "for k, v in matched_return_pairs.items():\n",
    "    print(k, v.shape)"
   ]
  },
  {
   "cell_type": "code",
   "execution_count": null,
   "id": "da3d054e-c461-49a4-9dff-df06e966f51c",
   "metadata": {},
   "outputs": [],
   "source": [
    "group = analysis_name + '/matched_return_pairs/'\n",
    "for cond, pairs in matched_return_pairs.items():\n",
    "    if not pairs.size:\n",
    "        pairs = h5.Empty('i')\n",
    "    save_results(group+cond, pairs)"
   ]
  },
  {
   "cell_type": "markdown",
   "id": "403ad660-88ee-4852-9b04-e293947c47f7",
   "metadata": {},
   "source": [
    "# Get fixation onset-aligned responses"
   ]
  },
  {
   "cell_type": "code",
   "execution_count": null,
   "id": "492e7fef-cb89-4c8d-8eb5-d2839d09ad95",
   "metadata": {},
   "outputs": [],
   "source": [
    "with h5.File(sdf_path, 'r') as f:\n",
    "    dset = f['sdf']\n",
    "    unit_names = dset.attrs['unit_names'].astype(str)\n",
    "    sdf = dset[()]\n",
    "    if 'unit_names' in f:\n",
    "        copy_group(f, 'unit_names', analysis_name+'/unit_names')\n",
    "\n",
    "n_neur = sdf.shape[1]\n",
    "unit_names.shape, unit_names.dtype, sdf.shape, sdf.dtype"
   ]
  },
  {
   "cell_type": "code",
   "execution_count": null,
   "id": "6eaae64c-565b-4bfe-be83-3835b56af23e",
   "metadata": {},
   "outputs": [],
   "source": [
    "ts = np.arange(-t_pre, t_post, t_step)\n",
    "\n",
    "resps = np.empty_like(sdf, shape=(sacc_sel.shape[1], ts.size, sdf.shape[-1]))\n",
    "for i, t in enumerate(fix_df.iloc[sacc_sel[1]]['Time'].values):\n",
    "    ts_ = np.round(t+ts).astype(int)\n",
    "    resps[i] = sdf[ts_,:]\n",
    "\n",
    "resps.shape, resps.dtype"
   ]
  },
  {
   "cell_type": "markdown",
   "id": "a9542c2a-90b5-483b-bf2e-4164d5da2928",
   "metadata": {},
   "source": [
    "# Permutation test"
   ]
  },
  {
   "cell_type": "code",
   "execution_count": null,
   "id": "56352f3a-2b45-4874-a342-a900d2614294",
   "metadata": {},
   "outputs": [],
   "source": [
    "test_results = {}\n",
    "coords = (('time', ts), ('unit', unit_names))\n",
    "attrs = dict(random_seed=random_seed, sdf_suffix=sdf_suffix)\n",
    "\n",
    "for match_test in match_tests:\n",
    "    print('test:', match_test)\n",
    "\n",
    "    src_cond, dst_cond, alternative = match_test\n",
    "    cond0 = f'{src_cond}_matched_{dst_cond}'\n",
    "    cond1 = f'{src_cond}_match_{dst_cond}'\n",
    "    pairs0 = matched_return_pairs[cond0]\n",
    "    pairs1 = matched_return_pairs[cond1]\n",
    "\n",
    "    try:\n",
    "        ds = pairwise_self_consistency_perm_test(\n",
    "            resps=resps,\n",
    "            pairs0=pairs0,\n",
    "            pairs1=pairs1,\n",
    "            paired=True,\n",
    "            alternatives=alternative,\n",
    "            n_permutations=n_perm,\n",
    "            random_seed=random_seed,\n",
    "            coords=coords,\n",
    "            attrs=attrs,\n",
    "            verbose=True)\n",
    "    except ValueError as e:\n",
    "        if 'Less than 2 pairs' in str(e):\n",
    "            continue\n",
    "        raise\n",
    "\n",
    "    test_results[(src_cond, cond1)] = ds\n",
    "    print()"
   ]
  },
  {
   "cell_type": "code",
   "execution_count": null,
   "id": "87cd141f-4168-47e4-a587-8175325bf406",
   "metadata": {},
   "outputs": [],
   "source": [
    "group = analysis_name + '/permutation_test/'\n",
    "compr = dict(zlib=True, complevel=9)\n",
    "for (c0, c1), dataset in test_results.items():\n",
    "    if not save_perm_diffs:\n",
    "        dataset = dataset.drop_vars('permuted_diffs')\n",
    "    encoding = {\n",
    "        k: dict(chunksizes=v.shape, **compr)\n",
    "        for k, v in dataset.data_vars.items()\n",
    "        if v.size}\n",
    "    dataset.to_netcdf(\n",
    "        output_path, group=group+f'{c0}_v_{c1}',\n",
    "        mode='a', engine='h5netcdf', encoding=encoding)"
   ]
  },
  {
   "cell_type": "markdown",
   "id": "19072201-ed21-4bc0-a827-99305b20d9d8",
   "metadata": {},
   "source": [
    "# Wrap up"
   ]
  },
  {
   "cell_type": "code",
   "execution_count": null,
   "id": "8e50b16a-744e-4328-9cbc-5813d8baed9e",
   "metadata": {},
   "outputs": [],
   "source": [
    "save_results(f'progress_report/{analysis_name}/all_done', True)"
   ]
  },
  {
   "cell_type": "code",
   "execution_count": null,
   "id": "553e15c0-cf86-4e73-860d-b55bafb4bd47",
   "metadata": {},
   "outputs": [],
   "source": [
    "%load_ext watermark\n",
    "%watermark\n",
    "%watermark -vm --iversions -rbg"
   ]
  },
  {
   "cell_type": "markdown",
   "id": "48bbc2b1-a7f2-421e-bbb6-6fd8ad38d019",
   "metadata": {},
   "source": [
    "# Plots"
   ]
  },
  {
   "cell_type": "code",
   "execution_count": null,
   "id": "d4edad97-3dfe-4d04-a342-cae13c230afb",
   "metadata": {},
   "outputs": [],
   "source": [
    "import matplotlib.pyplot as plt"
   ]
  },
  {
   "cell_type": "code",
   "execution_count": null,
   "id": "35aeffbe-a33a-432c-9673-991de49d1f4a",
   "metadata": {},
   "outputs": [],
   "source": [
    "for match_test in match_tests:\n",
    "    src_cond, dst_cond, alternative = match_test\n",
    "    cond1 = f'{src_cond}_match_{dst_cond}'\n",
    "    pairs0 = matched_return_pairs[cond0]\n",
    "    pairs1 = matched_return_pairs[cond1]\n",
    "    fig, axs = plt.subplots(1, 2, figsize=(8,3))\n",
    "    for i, ax in enumerate(axs):\n",
    "        ds = np.linalg.norm(sacc_vecs[pairs0[:,0],i] - sacc_vecs[pairs0[:,1],i], axis=-1)\n",
    "        mds = np.linalg.norm(sacc_vecs[pairs1[:,0],i] - sacc_vecs[pairs1[:,1],i], axis=-1)\n",
    "        ax.scatter(ds, mds)\n",
    "        lims = np.array([ax.get_xlim(), ax.get_ylim()])\n",
    "        lim = lims[:,0].min(), lims[:,1].max()\n",
    "        ax.plot(lim, lim, color='gray', zorder=-1, ls='--')\n",
    "        ax.set_aspect('equal')\n",
    "        ax.set_title(f'Fixation {i+1} dist. b/t each pair, dva')\n",
    "        ax.set_xlabel(src_cond)\n",
    "        ax.set_ylabel(cond1)\n",
    "        print(f'Fixation {i+1}, x - y:')\n",
    "        print(pd.Series(ds-mds).describe())\n",
    "        print()"
   ]
  },
  {
   "cell_type": "code",
   "execution_count": null,
   "id": "b49fb852-fd0c-4262-884f-4d437c628c4f",
   "metadata": {},
   "outputs": [],
   "source": [
    "for test, results in test_results.items():\n",
    "    src_cond, cond1 = test\n",
    "    ds = results\n",
    "    plt.figure()\n",
    "    for k, n in zip(('cond0', 'cond1'), (src_cond, cond1)):\n",
    "        m = np.nanmean(ds[k], -1)\n",
    "        s = np.nanmedian(ds[k], -1)\n",
    "        l, = plt.plot(ts, m, label=n)\n",
    "        plt.fill_between(ts, m-s, m+s, ec='none', fc=l.get_color(), alpha=0.2)\n",
    "    plt.xlabel('Time rel. fix. on, ms')\n",
    "    plt.ylabel('Self-consistency, Pearson\\'s r')\n",
    "    plt.legend(loc='upper left', bbox_to_anchor=(1,1.05))"
   ]
  },
  {
   "cell_type": "code",
   "execution_count": null,
   "id": "68e6fbe4-a239-4d2a-b607-8ab9830d2fe5",
   "metadata": {},
   "outputs": [],
   "source": [
    "for test, results in test_results.items():\n",
    "    alts = results.coords['alternative'].values\n",
    "    n = len(alts)\n",
    "    fig, axs = plt.subplots(1, n, figsize=(4*n,3), squeeze=False, sharex=True)\n",
    "    plt.subplots_adjust(wspace=0.5)\n",
    "    f = lambda x: x if isinstance(x, str) else ', '.join(map(str, x))\n",
    "    pvals_ = results['p-value'].values\n",
    "    for i, ax in enumerate(axs.ravel()):\n",
    "        vs = pvals_[i]\n",
    "        ax.plot(ts, vs, c='k', lw=0.5);\n",
    "        ax.set_yscale('log')\n",
    "        ax.hlines(1e-2, ts.min(), ts.max(), ls='--', lw=0.5, color='r')\n",
    "        ax.text(.05, 1.05, f'alternative: {alts[i]}',\n",
    "                ha='left', va='bottom', transform=ax.transAxes)\n",
    "    ax = axs[0,0]\n",
    "    ax.text(.05, 1.1, 'test: '+', '.join(map(f, test)),\n",
    "            ha='left', va='bottom', transform=ax.transAxes)\n",
    "    axs[-1,0].set_xlabel('Time rel. fix. on, ms')\n",
    "    axs[0,0].set_ylabel('P-value');"
   ]
  },
  {
   "cell_type": "code",
   "execution_count": null,
   "id": "af237394-373d-4356-93d2-abc2cb3890c4",
   "metadata": {},
   "outputs": [],
   "source": [
    "for test, results in test_results.items():\n",
    "    alts = results.coords['alternative'].values\n",
    "    n = len(alts)\n",
    "    fig, axs = plt.subplots(1, n, figsize=(4*n,3), squeeze=False, sharex=True)\n",
    "    plt.subplots_adjust(wspace=0.5)\n",
    "    f = lambda x: x if isinstance(x, str) else ', '.join(map(str, x))\n",
    "    pvals_ = results['p-value'].values\n",
    "    for i, ax in enumerate(axs.ravel()):\n",
    "            vs = pvals_[i]\n",
    "            ax.plot(ts, np.nanmedian(vs, axis=-1))\n",
    "            ax.set_yscale('log')\n",
    "            ax.hlines(1e-2, ts.min(), ts.max(), ls='--', lw=0.5, color='r')\n",
    "            ax.text(.05, 1.025, f'alternative: {alts[i]}',\n",
    "                    ha='left', va='bottom', transform=ax.transAxes)\n",
    "    ax = axs[0,0]\n",
    "    ax.text(.05, 1.1, 'test: '+', '.join(map(f, test)),\n",
    "            ha='left', va='bottom', transform=ax.transAxes)\n",
    "    axs[-1,0].set_xlabel('Time rel. fix. on, ms')\n",
    "    axs[0,0].set_ylabel('P-value');"
   ]
  }
 ],
 "metadata": {
  "kernelspec": {
   "display_name": "Python 3 (ipykernel)",
   "language": "python",
   "name": "python3"
  },
  "language_info": {
   "codemirror_mode": {
    "name": "ipython",
    "version": 3
   },
   "file_extension": ".py",
   "mimetype": "text/x-python",
   "name": "python",
   "nbconvert_exporter": "python",
   "pygments_lexer": "ipython3",
   "version": "3.10.12"
  }
 },
 "nbformat": 4,
 "nbformat_minor": 5
}
