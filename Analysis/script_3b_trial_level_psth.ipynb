{
 "cells": [
  {
   "cell_type": "code",
   "execution_count": null,
   "id": "f5a72016-6038-47bd-8059-e36d8631fed6",
   "metadata": {},
   "outputs": [],
   "source": [
    "import sys\n",
    "from pathlib import Path\n",
    "\n",
    "import h5py as h5\n",
    "import numpy as np\n",
    "import pandas as pd\n",
    "\n",
    "sys.path.append('../lib')\n",
    "from storage import get_storage_functions\n",
    "from local_paths import preproc_dir, analysis_dir"
   ]
  },
  {
   "cell_type": "markdown",
   "id": "41b49208-1f53-45af-b49a-2f24618bf89c",
   "metadata": {},
   "source": [
    "# Set parameters"
   ]
  },
  {
   "cell_type": "code",
   "execution_count": null,
   "id": "6208c81a-7d05-42af-8b38-6b0a6db8bd75",
   "metadata": {
    "tags": [
     "parameters"
    ]
   },
   "outputs": [],
   "source": [
    "#============================================================================\n",
    "# session\n",
    "#============================================================================\n",
    "sess_name = 'sess_name'\n",
    "\n",
    "\n",
    "#============================================================================\n",
    "# response windows\n",
    "#============================================================================\n",
    "t_pre  = 500\n",
    "t_post = 500\n",
    "t_win  = 200\n",
    "t_step =  50\n",
    "\n",
    "\n",
    "#============================================================================\n",
    "# temporal resolution\n",
    "#============================================================================\n",
    "# for summarizing trial duration and iti\n",
    "dur_res = 100\n",
    "iti_res =  50\n",
    "min_dur = 200  # exclude these before finding most-common (mode) trial dur\n",
    "\n",
    "\n",
    "#============================================================================\n",
    "# paths\n",
    "#============================================================================\n",
    "proc_dir = preproc_dir\n",
    "\n",
    "output_dir = analysis_dir + 'trial_level_psth'"
   ]
  },
  {
   "cell_type": "markdown",
   "id": "57254560-a1f7-4df6-b384-1a01efc2aaca",
   "metadata": {},
   "source": [
    "# Check prereqs and params"
   ]
  },
  {
   "cell_type": "code",
   "execution_count": null,
   "id": "a779bf63-3446-4291-85b2-68018aeadda4",
   "metadata": {},
   "outputs": [],
   "source": [
    "preproc_main_path = Path(proc_dir) / (sess_name + '-main.nwb')\n",
    "print('Loading session from', preproc_main_path)\n",
    "preproc_main_path = preproc_main_path.expanduser()\n",
    "assert preproc_main_path.is_file()\n",
    "\n",
    "proc_path = Path(proc_dir) / (sess_name + '-proc.h5')\n",
    "print('Loading shared processing from', proc_path)\n",
    "proc_path = proc_path.expanduser()\n",
    "assert proc_path.is_file()\n",
    "\n",
    "rasters_path = Path(proc_dir) / (sess_name + '-rasters.nwb')\n",
    "print('Loading rasters from', rasters_path)\n",
    "rasters_path = rasters_path.expanduser()\n",
    "assert rasters_path.is_file()\n",
    "\n",
    "output_dir = Path(output_dir)\n",
    "assert output_dir.expanduser().is_dir()\n",
    "output_path = output_dir / (sess_name + '.h5')\n",
    "print('Saving results to', output_path)\n",
    "output_path = output_path.expanduser()"
   ]
  },
  {
   "cell_type": "code",
   "execution_count": null,
   "id": "683e5f44-24d6-41d4-b182-431a136f242e",
   "metadata": {},
   "outputs": [],
   "source": [
    "with h5.File(proc_path, 'r') as f:\n",
    "    unit_names = f['unit_selection/simple'][()].astype(str)"
   ]
  },
  {
   "cell_type": "code",
   "execution_count": null,
   "id": "be467d62-5fd3-4bd2-b0a2-654def2f8381",
   "metadata": {},
   "outputs": [],
   "source": [
    "analysis_name = 'trial_level_psth'\n",
    "\n",
    "if output_path.is_file():\n",
    "    with h5.File(output_path, 'r') as f:\n",
    "        try:\n",
    "            if f[f'progress_report/{analysis_name}/all_done'][()].item():\n",
    "                raise RuntimeError(f'{sess_name} has already been processed')\n",
    "        except KeyError:\n",
    "            pass"
   ]
  },
  {
   "cell_type": "markdown",
   "id": "003f7ee4-3c41-4a74-915b-795e84d657c7",
   "metadata": {},
   "source": [
    "# Save config"
   ]
  },
  {
   "cell_type": "code",
   "execution_count": null,
   "id": "c891ecb0-c33b-46ba-8516-dc4dd0785ea3",
   "metadata": {},
   "outputs": [],
   "source": [
    "save_results, add_attr_to_dset, check_equals_saved, link_dsets, copy_group = \\\n",
    "    get_storage_functions(output_path)"
   ]
  },
  {
   "cell_type": "code",
   "execution_count": null,
   "id": "c9348ce1-fe2e-491d-a0a8-17ee4be1c82c",
   "metadata": {},
   "outputs": [],
   "source": [
    "group = analysis_name + '/config/time_windows/'\n",
    "save_results(group+'t_pre', t_pre)\n",
    "save_results(group+'t_post', t_post)\n",
    "save_results(group+'t_win', t_win)\n",
    "save_results(group+'t_step', t_step)\n",
    "add_attr_to_dset(group, attrs=dict(unit='ms'))"
   ]
  },
  {
   "cell_type": "markdown",
   "id": "f6556806-6924-4fe3-91c7-b1affd635aeb",
   "metadata": {},
   "source": [
    "# Select trials and fixations"
   ]
  },
  {
   "cell_type": "code",
   "execution_count": null,
   "id": "36246fda-f59f-481f-b870-a910ebd781c1",
   "metadata": {},
   "outputs": [],
   "source": [
    "with h5.File(preproc_main_path, 'r') as f:\n",
    "    pres_iim = f['stimulus/presentation/presentations/data'][()]\n",
    "    pres_tid = f['intervals/presentations/trial_id'][()]\n",
    "    pres_t0s = f['intervals/presentations/start_time'][()]\n",
    "    pres_t1s = f['intervals/presentations/stop_time'][()]\n",
    "\n",
    "durs = (pres_t1s - pres_t0s) * 1e3\n",
    "durs = np.round(durs / dur_res) * dur_res\n",
    "dur = pd.Series(durs[durs > min_dur]).mode().values.mean().item()\n",
    "dur = round(dur / dur_res) * dur_res\n",
    "print('Mode trial duration:\\t', dur, 'ms')\n",
    "\n",
    "itis = (pres_t0s[1:] - pres_t1s[:-1]) * 1e3\n",
    "itis = np.round(itis / iti_res) * iti_res\n",
    "iti = pd.Series(itis).mode().values.mean().item()\n",
    "iti = np.round(iti / iti_res) * iti_res\n",
    "print('Mode ITI:\\t\\t', iti, 'ms')  # for the record only\n",
    "\n",
    "# these are trial ID's\n",
    "itr_sel = pres_tid[np.nonzero(durs == dur)[0]]\n",
    "print('Selected', len(itr_sel), 'complete trials')\n",
    "\n",
    "# these are trial indices, relative to pres_*\n",
    "tr_sel = pd.DataFrame(data={'Trial': pres_tid, 'Index': np.arange(pres_tid.size)})\\\n",
    "    .set_index('Trial').loc[itr_sel, 'Index'].values"
   ]
  },
  {
   "cell_type": "code",
   "execution_count": null,
   "id": "8af4b688-a89f-43bb-bb24-19fd87af79ca",
   "metadata": {},
   "outputs": [],
   "source": [
    "save_results(analysis_name+'/mode_dur', dur)\n",
    "save_results(analysis_name+'/mode_iti', iti)\n",
    "save_results(analysis_name+'/trial_selection', itr_sel)"
   ]
  },
  {
   "cell_type": "markdown",
   "id": "aa57e67f-b3e6-4daf-b419-767e448d490c",
   "metadata": {},
   "source": [
    "# Get image onset-aligned responses"
   ]
  },
  {
   "cell_type": "code",
   "execution_count": null,
   "id": "3c2ef07e-b6a1-4cae-8576-79f5d1a7b961",
   "metadata": {},
   "outputs": [],
   "source": [
    "with h5.File(rasters_path, 'r') as f:\n",
    "    all_unit_names = list(f['processing/ecephys/unit_names/unit_name'][()].astype(str))\n",
    "    sel_ = np.array([all_unit_names.index(n) for n in unit_names])\n",
    "    rasters = f['processing/ecephys/rasters/data'][()][:,sel_]\n",
    "rasters.shape, rasters.dtype"
   ]
  },
  {
   "cell_type": "code",
   "execution_count": null,
   "id": "7f3d4a83-330c-4daf-ae66-20fce2e3881c",
   "metadata": {},
   "outputs": [],
   "source": [
    "ts = np.arange(-t_pre, dur+t_post, t_step)\n",
    "hwin = t_win//2\n",
    "\n",
    "resps = np.empty((itr_sel.size, ts.size, unit_names.size), dtype=np.float32)\n",
    "\n",
    "for i, t0 in enumerate(pres_t0s[tr_sel]*1e3):\n",
    "    for j, t in enumerate(np.round(t0 - hwin + ts).astype(int)):\n",
    "        resps[i,j] = rasters[t:t+t_win,:].mean(0)"
   ]
  },
  {
   "cell_type": "code",
   "execution_count": null,
   "id": "a4780b2d-2355-41b7-8239-7645209bc598",
   "metadata": {},
   "outputs": [],
   "source": [
    "save_results(analysis_name+'/mean_responses', resps.mean(0)*1e3, attrs=dict(\n",
    "    dims=np.array(['time', 'unit'], dtype=bytes),\n",
    "    time=ts, unit=unit_names.astype(bytes), n_trial=len(resps)))"
   ]
  },
  {
   "cell_type": "markdown",
   "id": "f156ef6b-f355-473a-ac03-d5eab8c9e26d",
   "metadata": {},
   "source": [
    "# Wrap up"
   ]
  },
  {
   "cell_type": "code",
   "execution_count": null,
   "id": "13ac6764-f5b2-43e9-be6f-02a2b6efe988",
   "metadata": {},
   "outputs": [],
   "source": [
    "save_results(f'progress_report/{analysis_name}/all_done', True)"
   ]
  },
  {
   "cell_type": "code",
   "execution_count": null,
   "id": "11e713f4-968e-4cb7-9747-006fd884a5dc",
   "metadata": {},
   "outputs": [],
   "source": [
    "%load_ext watermark\n",
    "%watermark\n",
    "%watermark -vm --iversions -rbg"
   ]
  },
  {
   "cell_type": "markdown",
   "id": "7a2fe54b-00ba-4f17-9fae-50aefd489d43",
   "metadata": {},
   "source": [
    "# Plots"
   ]
  },
  {
   "cell_type": "code",
   "execution_count": null,
   "id": "4d1e7adf-0da2-45e4-a60e-2bd3eefbb613",
   "metadata": {},
   "outputs": [],
   "source": [
    "import matplotlib.pyplot as plt"
   ]
  },
  {
   "cell_type": "code",
   "execution_count": null,
   "id": "2b143f12-e21d-44cf-810f-afa250c3dd84",
   "metadata": {},
   "outputs": [],
   "source": [
    "plt.plot(ts, resps.mean((0,-1)) * 1e3)\n",
    "\n",
    "yl = plt.gca().get_ylim()\n",
    "plt.fill_betweenx(yl, 0, dur, ec='none', fc='whitesmoke', zorder=-1)\n",
    "plt.fill_betweenx(yl, dur, dur+iti, ec='none', fc=(1, .9, .9), zorder=-1)\n",
    "plt.fill_betweenx(yl, -iti, 0, ec='none', fc=(1, .9, .9), zorder=-1)\n",
    "\n",
    "plt.xlabel('Time rel. image onset, ms')\n",
    "plt.ylabel('Grand mean firing rate, spikes/s');"
   ]
  }
 ],
 "metadata": {
  "kernelspec": {
   "display_name": "Python 3 (ipykernel)",
   "language": "python",
   "name": "python3"
  },
  "language_info": {
   "codemirror_mode": {
    "name": "ipython",
    "version": 3
   },
   "file_extension": ".py",
   "mimetype": "text/x-python",
   "name": "python",
   "nbconvert_exporter": "python",
   "pygments_lexer": "ipython3",
   "version": "3.10.12"
  }
 },
 "nbformat": 4,
 "nbformat_minor": 5
}
