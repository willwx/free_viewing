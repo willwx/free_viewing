{
 "cells": [
  {
   "cell_type": "code",
   "execution_count": null,
   "id": "a3a3b49b-69c8-4eda-81e2-1682530f1acf",
   "metadata": {},
   "outputs": [],
   "source": [
    "import sys\n",
    "import time\n",
    "from pathlib import Path\n",
    "\n",
    "import h5py as h5\n",
    "import numpy as np\n",
    "from scipy.ndimage import uniform_filter1d\n",
    "\n",
    "sys.path.append('../lib')\n",
    "from storage import get_storage_functions\n",
    "from local_paths import preproc_dir"
   ]
  },
  {
   "cell_type": "code",
   "execution_count": null,
   "id": "fe57f59c-1904-4bcc-82eb-d4750f2bacba",
   "metadata": {
    "tags": [
     "parameters"
    ]
   },
   "outputs": [],
   "source": [
    "#============================================================================\n",
    "# session\n",
    "#============================================================================\n",
    "sess_name = 'sess_name'\n",
    "\n",
    "#============================================================================\n",
    "# main\n",
    "#============================================================================\n",
    "sdf_method = 'mwa'  # moving window average\n",
    "sdf_window = 50     # ms\n",
    "\n",
    "#============================================================================\n",
    "# paths\n",
    "#============================================================================\n",
    "proc_dir   = preproc_dir\n",
    "output_dir = preproc_dir"
   ]
  },
  {
   "cell_type": "markdown",
   "id": "351f2f38-6923-4868-ae55-8bc03725610c",
   "metadata": {},
   "source": [
    "# Check parameters and whether already done"
   ]
  },
  {
   "cell_type": "code",
   "execution_count": null,
   "id": "043b4ab5-77d5-43b1-9e85-e44dae16e05d",
   "metadata": {},
   "outputs": [],
   "source": [
    "rasters_path = Path(proc_dir) / (sess_name + '-rasters.nwb')\n",
    "print('Loading rasters from', rasters_path)\n",
    "rasters_path = rasters_path.expanduser()\n",
    "assert rasters_path.is_file()\n",
    "\n",
    "proc_path = Path(proc_dir) / (sess_name + '-proc.h5')\n",
    "print('Loading shared processing from', proc_path)\n",
    "proc_path = proc_path.expanduser()\n",
    "assert proc_path.is_file()\n",
    "\n",
    "assert sdf_method == 'mwa'  # only using mwa, but can implement others like gaussian filtering\n",
    "\n",
    "output_dir = Path(output_dir)\n",
    "assert output_dir.expanduser().is_dir()\n",
    "output_path = output_dir / (sess_name + f'-sdf-{sdf_method}_{sdf_window}.h5')\n",
    "print('Saving results to', output_path)\n",
    "output_path = output_path.expanduser()"
   ]
  },
  {
   "cell_type": "code",
   "execution_count": null,
   "id": "4cb64951-a33c-41d8-b242-d5c75bd58a90",
   "metadata": {},
   "outputs": [],
   "source": [
    "if output_path.is_file():\n",
    "    with h5.File(output_path, 'r') as f:\n",
    "        try:\n",
    "            if f['progress_report/sdf/all_done'][()].item():\n",
    "                raise RuntimeError(f'{sess_name} has already been processed')\n",
    "        except KeyError:\n",
    "            pass"
   ]
  },
  {
   "cell_type": "code",
   "execution_count": null,
   "id": "a779bf63-3446-4291-85b2-68018aeadda4",
   "metadata": {},
   "outputs": [],
   "source": [
    "save_results, add_attr_to_dset, check_equals_saved, link_dsets, copy_group = \\\n",
    "    get_storage_functions(output_path)"
   ]
  },
  {
   "cell_type": "code",
   "execution_count": null,
   "id": "32d75c24-76ed-4d1c-9cff-603836f9d0c8",
   "metadata": {},
   "outputs": [],
   "source": [
    "save_results('config/sdf/method', sdf_method)\n",
    "save_results('config/sdf/window', sdf_window, attrs=dict(unit='ms'))"
   ]
  },
  {
   "cell_type": "markdown",
   "id": "02444a3c-a584-426f-bc34-6d2ecb4fe0ad",
   "metadata": {},
   "source": [
    "# Main"
   ]
  },
  {
   "cell_type": "code",
   "execution_count": null,
   "id": "01375fa0-8711-45d8-9010-d09289cc5f8e",
   "metadata": {},
   "outputs": [],
   "source": [
    "with h5.File(rasters_path, 'r') as f:\n",
    "    all_unit_names = f['processing/ecephys/unit_names/unit_name'][()].astype(str)\n",
    "with h5.File(proc_path, 'r') as f:\n",
    "    unit_names = f['unit_selection/simple'][()].astype(str)\n",
    "unexpected_units = set(unit_names) - set(all_unit_names)\n",
    "assert not len(unexpected_units), f'got {len(unexpected_units)} units in shared processing file absent from rasters data'\n",
    "unit_sel = np.array([v in unit_names for v in all_unit_names])\n",
    "unit_sel = np.nonzero(unit_sel)[0]\n",
    "\n",
    "with h5.File(rasters_path, 'r') as f:\n",
    "    rasters = f['processing/ecephys/rasters/data'][()]\n",
    "rasters = rasters[:,unit_sel]"
   ]
  },
  {
   "cell_type": "code",
   "execution_count": null,
   "id": "30ff3dfd-6a70-4a45-a260-cf3ab9c52866",
   "metadata": {},
   "outputs": [],
   "source": [
    "sdf = rasters.astype(np.float32) * 1e3\n",
    "if sdf_window == 1:\n",
    "    pass\n",
    "else:\n",
    "    print(f'calculating sdf with a {sdf_window} ms moving average window...', end=' ')\n",
    "    t0 = time.time()\n",
    "    sdf = uniform_filter1d(sdf, sdf_window, axis=0)\n",
    "    print(f'done ({time.time()-t0:.1f} s)')\n",
    "    print()\n",
    "\n",
    "print('spike density function:', sdf.shape, sdf.dtype)"
   ]
  },
  {
   "cell_type": "code",
   "execution_count": null,
   "id": "042f3388-a402-427d-8d02-83ddbcf7419f",
   "metadata": {},
   "outputs": [],
   "source": [
    "save_results('sdf', sdf, attrs=dict(\n",
    "    unit_names=unit_names.astype(bytes),\n",
    "    unit='spikes/s',\n",
    "    smoothing_method=sdf_method,\n",
    "    smoothing_window=sdf_window))"
   ]
  },
  {
   "cell_type": "markdown",
   "id": "ca012873-d3b3-4c3c-a9c7-87813a28fed7",
   "metadata": {},
   "source": [
    "# Wrap up"
   ]
  },
  {
   "cell_type": "code",
   "execution_count": null,
   "id": "1bf40eea-339a-45be-9dd9-13ac8741ad4b",
   "metadata": {},
   "outputs": [],
   "source": [
    "save_results(f'progress_report/sdf/all_done', True)"
   ]
  },
  {
   "cell_type": "code",
   "execution_count": null,
   "id": "ebcc6a9e-8226-438e-9337-d46eae7ce37c",
   "metadata": {},
   "outputs": [],
   "source": [
    "%load_ext watermark\n",
    "%watermark -vm --iversions -rbg"
   ]
  }
 ],
 "metadata": {
  "kernelspec": {
   "display_name": "Python 3 (ipykernel)",
   "language": "python",
   "name": "python3"
  },
  "language_info": {
   "codemirror_mode": {
    "name": "ipython",
    "version": 3
   },
   "file_extension": ".py",
   "mimetype": "text/x-python",
   "name": "python",
   "nbconvert_exporter": "python",
   "pygments_lexer": "ipython3",
   "version": "3.10.12"
  }
 },
 "nbformat": 4,
 "nbformat_minor": 5
}
