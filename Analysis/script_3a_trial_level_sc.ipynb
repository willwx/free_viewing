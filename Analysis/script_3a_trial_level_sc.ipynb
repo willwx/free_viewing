{
 "cells": [
  {
   "cell_type": "code",
   "execution_count": null,
   "id": "f5a72016-6038-47bd-8059-e36d8631fed6",
   "metadata": {},
   "outputs": [],
   "source": [
    "import sys\n",
    "from pathlib import Path\n",
    "\n",
    "import h5py as h5\n",
    "import numpy as np\n",
    "import pandas as pd\n",
    "import xarray as xr\n",
    "from tqdm import tqdm\n",
    "\n",
    "sys.path.append('../lib')\n",
    "from storage import get_storage_functions\n",
    "from local_paths import preproc_dir, analysis_dir\n",
    "from self_consistency import find_return_fixations, pairwise_self_consistency"
   ]
  },
  {
   "cell_type": "markdown",
   "id": "41b49208-1f53-45af-b49a-2f24618bf89c",
   "metadata": {},
   "source": [
    "# Set parameters"
   ]
  },
  {
   "cell_type": "code",
   "execution_count": null,
   "id": "6208c81a-7d05-42af-8b38-6b0a6db8bd75",
   "metadata": {
    "tags": [
     "parameters"
    ]
   },
   "outputs": [],
   "source": [
    "#============================================================================\n",
    "# session\n",
    "#============================================================================\n",
    "sess_name = 'sess_name'\n",
    "\n",
    "\n",
    "#============================================================================\n",
    "# response windows\n",
    "#============================================================================\n",
    "t_pre  = 100\n",
    "t_post = 100\n",
    "t_win  = 200\n",
    "t_step =  50\n",
    "\n",
    "\n",
    "#============================================================================\n",
    "# return fixation selection\n",
    "#============================================================================\n",
    "return_thres  = 1  # dva\n",
    "distant_thres = 8\n",
    "\n",
    "\n",
    "#============================================================================\n",
    "# temporal resolution\n",
    "#============================================================================\n",
    "# for summarizing trial duration and iti\n",
    "dur_res = 100\n",
    "iti_res =  50\n",
    "min_dur = 200  # exclude these before finding most-common (mode) trial dur\n",
    "\n",
    "\n",
    "#============================================================================\n",
    "# paths\n",
    "#============================================================================\n",
    "proc_dir = preproc_dir\n",
    "\n",
    "output_dir = analysis_dir + 'trial_level_sc'"
   ]
  },
  {
   "cell_type": "markdown",
   "id": "57254560-a1f7-4df6-b384-1a01efc2aaca",
   "metadata": {},
   "source": [
    "# Check prereqs and params"
   ]
  },
  {
   "cell_type": "code",
   "execution_count": null,
   "id": "a779bf63-3446-4291-85b2-68018aeadda4",
   "metadata": {},
   "outputs": [],
   "source": [
    "preproc_main_path = Path(proc_dir) / (sess_name + '-main.nwb')\n",
    "print('Loading session from', preproc_main_path)\n",
    "preproc_main_path = preproc_main_path.expanduser()\n",
    "assert preproc_main_path.is_file()\n",
    "\n",
    "proc_path = Path(proc_dir) / (sess_name + '-proc.h5')\n",
    "print('Loading shared processing from', proc_path)\n",
    "proc_path = proc_path.expanduser()\n",
    "assert proc_path.is_file()\n",
    "\n",
    "rasters_path = Path(proc_dir) / (sess_name + '-rasters.nwb')\n",
    "print('Loading rasters from', rasters_path)\n",
    "rasters_path = rasters_path.expanduser()\n",
    "assert rasters_path.is_file()\n",
    "\n",
    "output_dir = Path(output_dir)\n",
    "assert output_dir.expanduser().is_dir()\n",
    "output_path = output_dir / (sess_name + '.h5')\n",
    "print('Saving results to', output_path)\n",
    "output_path = output_path.expanduser()"
   ]
  },
  {
   "cell_type": "code",
   "execution_count": null,
   "id": "683e5f44-24d6-41d4-b182-431a136f242e",
   "metadata": {},
   "outputs": [],
   "source": [
    "with h5.File(proc_path, 'r') as f:\n",
    "    random_seed = f['config/default_random_seed'][()]\n",
    "    unit_names = f['unit_selection/simple'][()].astype(str)\n",
    "    fix_sel = f['fixation_selection/fixation_indices'][()]\n",
    "fix_df = pd.read_hdf(proc_path, 'fixation_dataframe', 'r')\n",
    "\n",
    "print('random_seed:', random_seed)"
   ]
  },
  {
   "cell_type": "code",
   "execution_count": null,
   "id": "be467d62-5fd3-4bd2-b0a2-654def2f8381",
   "metadata": {},
   "outputs": [],
   "source": [
    "analysis_name = 'trial_level_sc'\n",
    "\n",
    "if output_path.is_file():\n",
    "    with h5.File(output_path, 'r') as f:\n",
    "        try:\n",
    "            if f[f'progress_report/{analysis_name}/all_done'][()].item():\n",
    "                raise RuntimeError(f'{sess_name} has already been processed')\n",
    "        except KeyError:\n",
    "            pass"
   ]
  },
  {
   "cell_type": "markdown",
   "id": "003f7ee4-3c41-4a74-915b-795e84d657c7",
   "metadata": {},
   "source": [
    "# Save config"
   ]
  },
  {
   "cell_type": "code",
   "execution_count": null,
   "id": "c891ecb0-c33b-46ba-8516-dc4dd0785ea3",
   "metadata": {},
   "outputs": [],
   "source": [
    "save_results, add_attr_to_dset, check_equals_saved, link_dsets, copy_group = \\\n",
    "    get_storage_functions(output_path)"
   ]
  },
  {
   "cell_type": "code",
   "execution_count": null,
   "id": "c9348ce1-fe2e-491d-a0a8-17ee4be1c82c",
   "metadata": {},
   "outputs": [],
   "source": [
    "group = analysis_name + '/config/'\n",
    "save_results(group+'random_seed', random_seed)\n",
    "\n",
    "group = analysis_name + '/config/timing_resolution/'\n",
    "save_results(group+'dur_res', dur_res)\n",
    "save_results(group+'iti_res', iti_res)\n",
    "save_results(group+'min_dur', min_dur)\n",
    "\n",
    "group = analysis_name + '/config/time_windows/'\n",
    "save_results(group+'t_pre', t_pre)\n",
    "save_results(group+'t_post', t_post)\n",
    "save_results(group+'t_win', t_win)\n",
    "save_results(group+'t_step', t_step)\n",
    "add_attr_to_dset(group, attrs=dict(unit='ms'))\n",
    "\n",
    "group = analysis_name + '/config/return_criterion/'\n",
    "save_results(group+'return_thres', return_thres)\n",
    "save_results(group+'distant_thres', distant_thres)\n",
    "add_attr_to_dset(group, attrs=dict(unit='dva'))"
   ]
  },
  {
   "cell_type": "markdown",
   "id": "f6556806-6924-4fe3-91c7-b1affd635aeb",
   "metadata": {},
   "source": [
    "# Select trials and fixations"
   ]
  },
  {
   "cell_type": "code",
   "execution_count": null,
   "id": "36246fda-f59f-481f-b870-a910ebd781c1",
   "metadata": {},
   "outputs": [],
   "source": [
    "with h5.File(preproc_main_path, 'r') as f:\n",
    "    pres_iim = f['stimulus/presentation/presentations/data'][()]\n",
    "    pres_tid = f['intervals/presentations/trial_id'][()]\n",
    "    pres_t0s = f['intervals/presentations/start_time'][()]\n",
    "    pres_t1s = f['intervals/presentations/stop_time'][()]\n",
    "\n",
    "durs = (pres_t1s - pres_t0s) * 1e3\n",
    "durs = np.round(durs / dur_res) * dur_res\n",
    "dur = pd.Series(durs[durs > min_dur]).mode().values.mean().item()\n",
    "dur = round(dur / dur_res) * dur_res\n",
    "print('Mode trial duration:\\t', dur, 'ms')\n",
    "\n",
    "itis = (pres_t0s[1:] - pres_t1s[:-1]) * 1e3\n",
    "itis = np.round(itis / iti_res) * iti_res\n",
    "iti = pd.Series(itis).mode().values.mean().item()\n",
    "iti = np.round(iti / iti_res) * iti_res\n",
    "print('Mode ITI:\\t\\t', iti, 'ms')  # for the record only\n",
    "\n",
    "fix_itrs = fix_df.iloc[fix_sel].index.get_level_values(fix_df.index.names.index('Trial')).values\n",
    "\n",
    "# these are trial ID's\n",
    "itr_sel = pres_tid[np.nonzero(durs == dur)[0]]\n",
    "itr_sel = np.sort(list(set(itr_sel) & set(fix_itrs)))\n",
    "print('Selected', len(itr_sel), 'complete trials')\n",
    "\n",
    "# these are trial indices, relative to pres_*\n",
    "tr_sel = pd.DataFrame(data={'Trial': pres_tid, 'Index': np.arange(pres_tid.size)})\\\n",
    "    .set_index('Trial').loc[itr_sel, 'Index'].values\n",
    "\n",
    "m = pd.Series(fix_itrs).isin(itr_sel).values\n",
    "print(f'Selected {m.sum()} of {m.size} ({m.mean()*100:.1f}%) fixations to be within those trials')\n",
    "fix_sel = fix_sel[m]\n",
    "fix_itrs = fix_itrs[m]\n",
    "\n",
    "# get fixation trial index relative to selected trials\n",
    "fix_ritrs = pd.DataFrame(data={'Trial': itr_sel, 'Index': np.arange(itr_sel.size)})\\\n",
    "    .set_index('Trial').loc[fix_itrs, 'Index'].values"
   ]
  },
  {
   "cell_type": "code",
   "execution_count": null,
   "id": "8af4b688-a89f-43bb-bb24-19fd87af79ca",
   "metadata": {},
   "outputs": [],
   "source": [
    "save_results(analysis_name+'/mode_dur', dur)\n",
    "save_results(analysis_name+'/mode_iti', iti)\n",
    "save_results(analysis_name+'/trial_selection', itr_sel)\n",
    "save_results(analysis_name+'/fixation_selection', fix_sel)"
   ]
  },
  {
   "cell_type": "markdown",
   "id": "3d556201-5e44-4783-bb75-86ded13752d9",
   "metadata": {},
   "source": [
    "# Find return and distant fixation pairs"
   ]
  },
  {
   "cell_type": "code",
   "execution_count": null,
   "id": "074652ea-7efc-4b72-a8ac-1c86449fa99b",
   "metadata": {},
   "outputs": [],
   "source": [
    "fix_posns = fix_df.iloc[fix_sel][['Relative X', 'Relative Y']].values\n",
    "fix_imids = fix_df.iloc[fix_sel]['Image filename'].values\n",
    "\n",
    "return_pairs = find_return_fixations(fix_imids, fix_posns, thres_deg=return_thres)\n",
    "print('Num. return fixation pairs:', len(return_pairs))\n",
    "\n",
    "distant_pairs = find_return_fixations(fix_imids, fix_posns, thres_deg=distant_thres, distant=True)\n",
    "print('Num. distant fixation pairs:', len(distant_pairs))\n",
    "\n",
    "tr_imids = pres_iim[tr_sel]\n",
    "same_im_tr_pairs = find_return_fixations(tr_imids, np.zeros((len(tr_sel),2)), thres_deg=return_thres)\n",
    "print('Num. same-image trial pairs:', len(same_im_tr_pairs))"
   ]
  },
  {
   "cell_type": "markdown",
   "id": "aa57e67f-b3e6-4daf-b419-767e448d490c",
   "metadata": {},
   "source": [
    "# Get image onset-aligned responses"
   ]
  },
  {
   "cell_type": "code",
   "execution_count": null,
   "id": "3c2ef07e-b6a1-4cae-8576-79f5d1a7b961",
   "metadata": {},
   "outputs": [],
   "source": [
    "with h5.File(rasters_path, 'r') as f:\n",
    "    all_unit_names = list(f['processing/ecephys/unit_names/unit_name'][()].astype(str))\n",
    "    sel_ = np.array([all_unit_names.index(n) for n in unit_names])\n",
    "    rasters = f['processing/ecephys/rasters/data'][()][:,sel_]\n",
    "rasters.shape, rasters.dtype"
   ]
  },
  {
   "cell_type": "code",
   "execution_count": null,
   "id": "7f3d4a83-330c-4daf-ae66-20fce2e3881c",
   "metadata": {},
   "outputs": [],
   "source": [
    "ts = np.arange(-t_pre, dur+t_post, t_step)\n",
    "hwin = t_win//2\n",
    "\n",
    "resps = np.empty((itr_sel.size, ts.size, unit_names.size), dtype=np.float32)\n",
    "\n",
    "for i, t0 in enumerate(pres_t0s[tr_sel]*1e3):\n",
    "    for j, t in enumerate(t0 - hwin + ts):\n",
    "        t = int(round(t))\n",
    "        resps[i,j] = rasters[t:t+t_win,:].mean(0)"
   ]
  },
  {
   "cell_type": "code",
   "execution_count": null,
   "id": "a4780b2d-2355-41b7-8239-7645209bc598",
   "metadata": {},
   "outputs": [],
   "source": [
    "save_results(analysis_name+'/mean_responses', resps.mean(0)*1e3, attrs=dict(\n",
    "    dims=np.array(['time', 'unit'], dtype=bytes),\n",
    "    time=ts, unit=unit_names.astype(bytes), n_trial=len(resps)))"
   ]
  },
  {
   "cell_type": "markdown",
   "id": "f9144de2-ec29-438b-b432-84523f8141b5",
   "metadata": {},
   "source": [
    "# Main"
   ]
  },
  {
   "cell_type": "code",
   "execution_count": null,
   "id": "c1cc3a54-f37e-445b-aede-e8ce6e055309",
   "metadata": {},
   "outputs": [],
   "source": [
    "bycond_pairs = {\n",
    "    'return': return_pairs,\n",
    "    'distant': distant_pairs}\n",
    "bycond_results = {\n",
    "    cond: {\n",
    "        'n_pairs': np.zeros(ts.size, dtype=int),\n",
    "        'sc': np.full(resps.shape[1:], np.nan, dtype=np.float32)}\n",
    "    for cond in bycond_pairs}\n",
    "\n",
    "fix_t0s = fix_df.iloc[fix_sel]['Trial time'].values\n",
    "fix_t1s = fix_t0s + fix_df.iloc[fix_sel]['Duration'].values\n",
    "\n",
    "for cond, pairs in bycond_pairs.items():\n",
    "    pairs_df = pd.DataFrame(pairs)\n",
    "\n",
    "    for it, t in enumerate(tqdm(ts, desc=cond)):\n",
    "        # find fixations within this time range in the trial\n",
    "        bounds = (t - hwin, t - hwin + t_win)\n",
    "        sel = np.nonzero((fix_t0s < bounds[1]) & (fix_t1s >= bounds[0]))[0]\n",
    "\n",
    "        # find pairs among these fixations\n",
    "        pairs_ = pairs[pairs_df.isin(sel).values.all(1)]\n",
    "\n",
    "        # convert fixation pairs to (unique) trial pairs\n",
    "        pairs_ = fix_ritrs[pairs_]\n",
    "\n",
    "        # only keep across-trial pairs\n",
    "        pairs_ = pairs_[pairs_[:,0]!=pairs_[:,1]]\n",
    "\n",
    "        # only keep unique pairs\n",
    "        pairs_ = np.unique(pairs_, axis=0)\n",
    "\n",
    "        bycond_results[cond]['n_pairs'][it] = n = len(pairs_)\n",
    "        if n < 2:\n",
    "            continue\n",
    "\n",
    "        ds = pairwise_self_consistency(\n",
    "            pairs=pairs_, resps=resps[:,it,:],\n",
    "            n_bootstraps=0, n_permutations=0,\n",
    "            random_seed=random_seed)\n",
    "        bycond_results[cond]['sc'][it] = ds['sample'].values"
   ]
  },
  {
   "cell_type": "code",
   "execution_count": null,
   "id": "cd563341-2f40-409c-9f59-c42ab93e0bb7",
   "metadata": {},
   "outputs": [],
   "source": [
    "if len(same_im_tr_pairs) > 1:\n",
    "    ds = pairwise_self_consistency(\n",
    "        pairs=same_im_tr_pairs, resps=resps,\n",
    "        n_bootstraps=0, n_permutations=0,\n",
    "        random_seed=random_seed)\n",
    "    same_im_sc = ds['sample'].values\n",
    "    bycond_results['same_im'] = {\n",
    "        'n_pairs': len(same_im_tr_pairs),\n",
    "        'sc': same_im_sc}\n",
    "else:\n",
    "    same_im_sc = None"
   ]
  },
  {
   "cell_type": "code",
   "execution_count": null,
   "id": "4e0bd789-efdb-4d6c-94ed-eddcb7d0b9a0",
   "metadata": {},
   "outputs": [],
   "source": [
    "dims = np.array(('time', 'unit'))\n",
    "coords = dict((\n",
    "    ('time', ts),\n",
    "    ('unit', unit_names)))\n",
    "\n",
    "data_vars = {}\n",
    "if same_im_sc is not None:\n",
    "    data_vars['same_im'] = dims, same_im_sc\n",
    "    data_vars['same_im_npairs'] = tuple(), len(same_im_tr_pairs)\n",
    "for cond, res in bycond_results.items():\n",
    "    if cond == 'same_im': continue\n",
    "    data_vars[cond] = dims, res['sc']\n",
    "    data_vars[cond+'_n_pairs'] = dims[[0]], res['n_pairs']\n",
    "\n",
    "dataset = xr.Dataset(data_vars, coords=coords)\n",
    "\n",
    "compr = dict(zlib=True, complevel=9)\n",
    "encoding = {\n",
    "    k: dict(chunksizes=v.shape, **compr)\n",
    "    for k, v in dataset.data_vars.items()}\n",
    "dataset.to_netcdf(\n",
    "    output_path, group=analysis_name+'/self_consistency',\n",
    "    mode='a', engine='h5netcdf', encoding=encoding)"
   ]
  },
  {
   "cell_type": "markdown",
   "id": "f156ef6b-f355-473a-ac03-d5eab8c9e26d",
   "metadata": {},
   "source": [
    "# Wrap up"
   ]
  },
  {
   "cell_type": "code",
   "execution_count": null,
   "id": "13ac6764-f5b2-43e9-be6f-02a2b6efe988",
   "metadata": {},
   "outputs": [],
   "source": [
    "save_results(f'progress_report/{analysis_name}/all_done', True)"
   ]
  },
  {
   "cell_type": "code",
   "execution_count": null,
   "id": "11e713f4-968e-4cb7-9747-006fd884a5dc",
   "metadata": {},
   "outputs": [],
   "source": [
    "%load_ext watermark\n",
    "%watermark\n",
    "%watermark -vm --iversions -rbg"
   ]
  },
  {
   "cell_type": "markdown",
   "id": "7a2fe54b-00ba-4f17-9fae-50aefd489d43",
   "metadata": {},
   "source": [
    "# Plots"
   ]
  },
  {
   "cell_type": "code",
   "execution_count": null,
   "id": "4d1e7adf-0da2-45e4-a60e-2bd3eefbb613",
   "metadata": {},
   "outputs": [],
   "source": [
    "import matplotlib.pyplot as plt"
   ]
  },
  {
   "cell_type": "code",
   "execution_count": null,
   "id": "2b143f12-e21d-44cf-810f-afa250c3dd84",
   "metadata": {},
   "outputs": [],
   "source": [
    "plt.plot(ts, resps.mean((0,-1)) * 1e3)\n",
    "\n",
    "yl = plt.gca().get_ylim()\n",
    "plt.fill_betweenx(yl, 0, dur, ec='none', fc='whitesmoke', zorder=-1)\n",
    "plt.fill_betweenx(yl, dur, dur+iti, ec='none', fc=(1, .9, .9), zorder=-1)\n",
    "plt.fill_betweenx(yl, -iti, 0, ec='none', fc=(1, .9, .9), zorder=-1)\n",
    "\n",
    "plt.xlabel('Time rel. image onset, ms')\n",
    "plt.ylabel('Grand mean firing rate, spikes/s');"
   ]
  },
  {
   "cell_type": "code",
   "execution_count": null,
   "id": "3c21371e-a692-4c98-b558-58a38268760f",
   "metadata": {},
   "outputs": [],
   "source": [
    "for cond, results in bycond_results.items():\n",
    "    v = results['n_pairs']\n",
    "    if hasattr(v, '__len__') and len(v) > 1:\n",
    "        plt.plot(ts, v, label=cond.capitalize())\n",
    "    else:\n",
    "        plt.hlines(v, ts[0], ts[-1], label=cond.capitalize())\n",
    "plt.legend(loc='upper left', bbox_to_anchor=(1,1), title='Pairing rule')\n",
    "plt.xlabel('Time rel. image onset, ms')\n",
    "plt.ylabel('Number of fixation pairs');"
   ]
  },
  {
   "cell_type": "code",
   "execution_count": null,
   "id": "b0a5b3ce-8c67-43f2-b6eb-0c5c17503891",
   "metadata": {},
   "outputs": [],
   "source": [
    "for cond, results in bycond_results.items():\n",
    "    plt.plot(ts, np.ma.masked_invalid(results['sc']).mean(-1), label=cond.capitalize())\n",
    "plt.legend(loc='upper left', bbox_to_anchor=(1,1), title='Pairing rule')\n",
    "plt.xlabel('Time rel. image onset, ms')\n",
    "plt.ylabel('Self-consistency, Pearson\\'s r');"
   ]
  }
 ],
 "metadata": {
  "kernelspec": {
   "display_name": "Python 3 (ipykernel)",
   "language": "python",
   "name": "python3"
  },
  "language_info": {
   "codemirror_mode": {
    "name": "ipython",
    "version": 3
   },
   "file_extension": ".py",
   "mimetype": "text/x-python",
   "name": "python",
   "nbconvert_exporter": "python",
   "pygments_lexer": "ipython3",
   "version": "3.10.12"
  }
 },
 "nbformat": 4,
 "nbformat_minor": 5
}
