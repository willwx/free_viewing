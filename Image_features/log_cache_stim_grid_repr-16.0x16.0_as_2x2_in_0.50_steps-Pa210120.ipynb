{
 "cells": [
  {
   "cell_type": "code",
   "execution_count": 1,
   "id": "94f063dc-f125-4ee5-8a9f-dabf4ad6ab3d",
   "metadata": {
    "execution": {
     "iopub.execute_input": "2024-02-28T19:59:04.202937Z",
     "iopub.status.busy": "2024-02-28T19:59:04.202361Z",
     "iopub.status.idle": "2024-02-28T19:59:05.622752Z",
     "shell.execute_reply": "2024-02-28T19:59:05.622160Z"
    },
    "papermill": {
     "duration": 1.436531,
     "end_time": "2024-02-28T19:59:05.625355",
     "exception": false,
     "start_time": "2024-02-28T19:59:04.188824",
     "status": "completed"
    },
    "tags": []
   },
   "outputs": [],
   "source": [
    "import sys\n",
    "from pathlib import Path\n",
    "from warnings import warn\n",
    "\n",
    "import cv2\n",
    "import h5py as h5\n",
    "import numpy as np\n",
    "import torch\n",
    "from PIL import Image\n",
    "from tqdm import tqdm\n",
    "\n",
    "sys.path.append('../lib')\n",
    "from modeling import models, registry\n",
    "from modeling.utils import make_layer_hook, recur_collapse_feats\n",
    "from storage import get_storage_functions\n",
    "from local_paths import stim_dir, cache_dir"
   ]
  },
  {
   "cell_type": "markdown",
   "id": "d548d2ed-0e57-4175-bb1c-0883a0303266",
   "metadata": {
    "papermill": {
     "duration": 0.008766,
     "end_time": "2024-02-28T19:59:05.637062",
     "exception": false,
     "start_time": "2024-02-28T19:59:05.628296",
     "status": "completed"
    },
    "tags": []
   },
   "source": [
    "# Parameters"
   ]
  },
  {
   "cell_type": "code",
   "execution_count": 2,
   "id": "dcf321ad-26b1-4d81-8696-8ef82d773ac7",
   "metadata": {
    "execution": {
     "iopub.execute_input": "2024-02-28T19:59:05.654918Z",
     "iopub.status.busy": "2024-02-28T19:59:05.654312Z",
     "iopub.status.idle": "2024-02-28T19:59:05.663193Z",
     "shell.execute_reply": "2024-02-28T19:59:05.661916Z"
    },
    "papermill": {
     "duration": 0.019194,
     "end_time": "2024-02-28T19:59:05.665379",
     "exception": false,
     "start_time": "2024-02-28T19:59:05.646185",
     "status": "completed"
    },
    "tags": [
     "parameters"
    ]
   },
   "outputs": [],
   "source": [
    "#============================================================================\n",
    "# image to process\n",
    "#============================================================================\n",
    "im_md5s    = 'md5_im1,md5_im2'\n",
    "sep        = ','\n",
    "im_w       = 16    # size of full image; ...\n",
    "im_h       = 16    # unit: dva, but only ratio (im_size/patch_size) really matters\n",
    "ar_tol     = 3/4   # aspect ratio tolerance (between image file and provided size)\n",
    "\n",
    "\n",
    "#============================================================================\n",
    "# patch size and resolution\n",
    "#============================================================================\n",
    "patch_size =  2    # size of each crop patch\n",
    "patch_step =  0.5  # step size of patch location\n",
    "\n",
    "\n",
    "#============================================================================\n",
    "# model params\n",
    "#============================================================================\n",
    "model_name    = 'vit_large_patch16_384'\n",
    "layer_name    = 'blocks.13.attn.qkv'\n",
    "spatial_averaging = True  # over W, H for conv; over S for attention\n",
    "\n",
    "\n",
    "#============================================================================\n",
    "# paths\n",
    "#============================================================================\n",
    "# unlike other scripts, this one is intentionally unaware of subfolders\n",
    "# (thereby requiring image IDs, e.g., MD5s, to truly be unique)\n",
    "# all images are in [stim_dir]/Stimuli), so specify it explicitly\n",
    "stim_dir = stim_dir + 'Stimuli/'\n",
    "\n",
    "output_root = cache_dir + 'feats/'\n",
    "\n",
    "\n",
    "#============================================================================\n",
    "# misc\n",
    "#============================================================================\n",
    "device = 'cuda:0'\n",
    "bgc = (128,128,128)   # background color; used to pad images"
   ]
  },
  {
   "cell_type": "code",
   "execution_count": 3,
   "id": "d0413c8b",
   "metadata": {
    "execution": {
     "iopub.execute_input": "2024-02-28T19:59:05.678290Z",
     "iopub.status.busy": "2024-02-28T19:59:05.677818Z",
     "iopub.status.idle": "2024-02-28T19:59:05.689900Z",
     "shell.execute_reply": "2024-02-28T19:59:05.688559Z"
    },
    "papermill": {
     "duration": 0.021131,
     "end_time": "2024-02-28T19:59:05.691905",
     "exception": false,
     "start_time": "2024-02-28T19:59:05.670774",
     "status": "completed"
    },
    "tags": [
     "injected-parameters"
    ]
   },
   "outputs": [],
   "source": [
    "# Parameters\n",
    "patch_size = 2\n",
    "patch_step = 0.5\n",
    "model_name = \"vit_large_patch16_384\"\n",
    "layer_name = \"blocks.13.attn.qkv\"\n",
    "spatial_averaging = True\n",
    "sep = \",\"\n",
    "device = \"cuda:0\"\n",
    "im_md5s = \"d832ddba1a68ed403d909f671c9096c3,9aede2ee5dd71134c6ce85a4ccb1de00,ed3690df12e821a98c60cb3f1366eb76,c554811739d11e14e8964e80a41c1876,67f61cf36b10ede882a1fd839ef6a631,f8dcd0868cd4c5aa30078a0d3832bdad,819e4e1407d427e68143f59411e9e055,27cf8fbabe43ea4ec749625cc7daf740,579c7e77160cf6203e8487c66e5f1a34,4b342e870cfb72b5e9f8492394512afb,713ef1e1d00b25d91f4c941d955bafde,3de18c3692e42ec95a2facb20e62fa7f,4aedcacb369fad7a860e14df968fb829,80a9dc8a38fb405a4f2b51aa61de0638,b21a53538ef350ce20ac8af512f6bfc6,8faee146dfb8774847f87d3efb55964c,871338f95474804fe20b2c7d55fc98a2,bcabddd3487228d0b045cfb9a8a048bd,672777e7e0b7e8f3a6803be56d58c887,aa5a88070e1e6da00f2d6a08faa57160,9deaaec1a87bc37a3ddcae03662060ff,c5d1d1603734cb398cd4a12307ff95b9,d3ff2f85446ca5822fb190c0fb2a407f,070a8131161279a5c873adc632fe76ea,013a5a63a2697ee7a4c5b54b21326a75,972c0100ad8f4ba4e41649541ce5849b,35f4d47a009bceaf16bbde1dd62d0444,366fb89beb7ad40885a071c62c715850,1b55e043880c89a9b48168c19da562a5,7d2b0b12c27fa9dd436f6bd23381458d,150a8f24120700b2dce7c4ffeb1f3135,f7593bf9adc31e34c2e10681d1108590,78d28d99674b95dc610bd26c15d13976,6a9282a1cb283cf446eba6b22bea1c7f,301b16b0815c4095e70180b4fccee749,c32a5eec2e8b948aaff59037aed9b827,90990756b041549dac801f3aae2cbfc7,6508762d46ea20481e2c141ae1f5ec13,437264ee010db6260990a332fe9245c6,2295cb3803e575eec763cb4a5cff3bc1,46fa493c48388613701546571e8fe768,69d26d03a7af769999988a82eb08f5ac,cce51db01919f2add04b9b742303bab1,4a7763bd757e47df7a5f3a4ba372a288,f7021463509712221b729695b33dd437,725a825f362893169ec8a4df5bfefb3f,ed322f2d287d92dfef2a5e0c66b1371b,b0ca0c2dd42e43c1c5196ffc6aaf8cc7,fd01a223b2089b8d82654f21c63f2835,b1416beddbab3a4a369a579a4f9398a0,57d64742615f4e297cdd506032fecd90,5e106b513ba775f9c104b5a6ac937bfb,d3c89c954d09e653ce8e5d483aafd3a2,546e584a3df212645aad1037f827c0b4,9b1191bf2ab7967f6a064dc4e7d113be,71bf8d48aeb8bf379368164dd137051e,3678df9e3126fd5d6930e1ad21fdc118,4d987592ec68e97580b078955a352365,391fea5e4fbaf90fb3a9f66663790fd6,0458f647680026908491d97f65103689,a80e4aaa9bc840d1c96607e2e29e3cd5,39021618861746763d07246daaae53bb,e533692c90bb7e4fc499ed14273102b4,00aaec16b3bbec32345ac519f7997b5f,f2e58c1695aa1418c96f1b63e31f0b2d,8b45cbbf8743b6af3adf6ff114368120,d843c46ae7adb11fbec3fd03d576d1b2,2891e4cc65acfd881975519a2f44ebb2,f97c52951bc252cf49fd252c36d4a24a,7b088317e80665c38ba04ebd1a3d341e,a4155bd41a4be35045dea65ba66a4a10,96afa87271eb7e650b9db7d478f1c4d5,1b3beeb96c18384fe9b5252bae5faa32,850e9b1b71cf4eac24ac1b6b82f674b9,4a5bd3dd051ddee71684210675ce8cd4,6d9aa3eaac8fe79859c14654dc9bcaaf,6c5aa4af7fe9efef8768686222a20d6a,7fb07e84978df3176d48ad708e03f272,e70747d0b957db51774f32461903f778,bd2405aeb469d25def3f9516aca8fe82,effb5358523e8f69152fdc07ec04e0ad,d817531aeede14c4995113e5d9d5bd09,a342e6ce79480260712c2df6883cf8ce,54cc63ceaddece4bb4c5ba7d5508177f,1538372f799a5baa48771d5800b36533,4518750062c949110fa1c705de6a2fc5,030c1e8b0a0a6d11ec6181c886831e18,3bb4125546ff6817fc3350972559a2a3,9329b0722674e16c2d251a563d1d7db2,2debf1a5f97191af218dc02308bfff24,252be332b55165b88f5018e0f16551a1,b042d14f2b5192dc7dfb8ff09968682f,4ce117a206b5c1bb9dde77bac3eec37f,8c11c5bf6da7bb99a419e28c55918b67,28d3fdffaa4e10289c00ffff3d7af6df,0f57e5a716cd8e420093c0ffeb4e5edd,bc1302ffba50e0bf354f27d52b86f163,ffbeef2b507d2c9bc102262721650489,bb9c78a8b4e8667cacce3b4161dc814d,d033ee475b3d839d7b2b626407d21047,bc46578612b260853194eec10933a06f,f0e31045d10beed78d179bac09536608,ca2cd6a98eee9855ec667c2b7778f9b1,7033f7f39d3c9a195fbb0f8eead59fc3,a2710e0c72b61388811552d81293c451,fc1997228fe2e50bfd6c58e53d0ecee7,1c7f44b5c1df984dddcde5b04c908f15,4958ca9258b213f709e7130330979b49,7987577c8850e7ad15b88ce80fddd600,afd44d8a854b54de501d007e3fc0bbe5,68a309d97b6ddb61eeeeed3043e0f019,3d6fcb3ba0b641b98ba371fc977efc5d,b5bf8c9bd58028fe29e77926aa2978df,1907ff5860356cbedf475b971b6c2f3c,b89836ead826c1756950b7f672e7765d,cb93f1eb3f20fc2329353a64f45ab4e7,bd590b6cf3d816083abec58d7cc5fd94,b2da629dc01ed9d58f53b2912cefe9d7,338b87a9501b76524a764ee8b695e4bb,1802ef3a875a45a6db82dd9d53f04ad4,9925f5d1990c68c709c441921107d892,f2f90d39178f7da54e9be08b13cc12e2,3059ac398c66aba21d325ec70c916b20,8847df2b3aba1250b20bbe3fbcbf8de3,55ee791b7db2fadff8a1ed824ecc1bea,55a118680cb597f6b1de98902d4bb6e7,604dddeccb0f5d6d779c3b5c6965d419,d43d17a8f9a71d6eb3f2c13465c43a88,236d0ef8a2c476b9186cb4cebc157ff9,f08b3ac353d562dd772c8804174a9d77,397c2377811fd8fb95169ab56d1bb7da,ffe891e25df7ece31fe88948775066d3,a8aed751afe9b65ddaf3c5c998ba41cf,1b82574d59f72fe1baa8aed9e732b36a,b73046a711fe40012f7660207e1794c1,0dcaa79e72c5e482c786b2639f3bc1b6,54db4ac69ceabf02a8331e1baefbcb59,65d8f218b774e5c7b16a683340a1644e,55633e1fc1432eadd443a55d5f5f4714,7c5ea0550dd55306d0d5d767fae609f0,fb0549a9b76943801f04429302417b61,235d5cbf28c7b702210e9e3a6e92b44f,1efb4d116f8e1bc0b9211f7380e65e78,52d57238fec2509d237381cb02f04020\"\n",
    "im_w = 16.0\n",
    "im_h = 16.0\n"
   ]
  },
  {
   "cell_type": "markdown",
   "id": "e5f250a1-7a71-4412-a41b-bed7c78ecf61",
   "metadata": {
    "papermill": {
     "duration": 0.005383,
     "end_time": "2024-02-28T19:59:05.701950",
     "exception": false,
     "start_time": "2024-02-28T19:59:05.696567",
     "status": "completed"
    },
    "tags": []
   },
   "source": [
    "# Check prereqs and params"
   ]
  },
  {
   "cell_type": "code",
   "execution_count": 4,
   "id": "2651528e-f12c-4741-a403-ef0dd37e47b8",
   "metadata": {
    "execution": {
     "iopub.execute_input": "2024-02-28T19:59:05.711679Z",
     "iopub.status.busy": "2024-02-28T19:59:05.710863Z",
     "iopub.status.idle": "2024-02-28T19:59:05.720539Z",
     "shell.execute_reply": "2024-02-28T19:59:05.719235Z"
    },
    "papermill": {
     "duration": 0.016147,
     "end_time": "2024-02-28T19:59:05.722420",
     "exception": false,
     "start_time": "2024-02-28T19:59:05.706273",
     "status": "completed"
    },
    "tags": []
   },
   "outputs": [
    {
     "name": "stdout",
     "output_type": "stream",
     "text": [
      "Loading images from folder ~/Data/free_viewing/Stimuli/\n",
      "Saving results to ~/Data/free_viewing/Cache/feats/vit_large_patch16_384/blocks.13.attn.qkv/16.0x16.0_as_2x2_in_0.50_steps.h5\n"
     ]
    }
   ],
   "source": [
    "print('Loading images from folder', stim_dir)\n",
    "stim_dir = Path(stim_dir).expanduser()\n",
    "assert stim_dir.is_dir()\n",
    "\n",
    "output_root = Path(output_root)\n",
    "output_path = output_root / model_name / layer_name / \\\n",
    "    f'{im_w:.1f}x{im_h:.1f}_as_{patch_size}x{patch_size}_in_{patch_step:.2f}_steps.h5'\n",
    "print('Saving results to', output_path)\n",
    "output_path = output_path.expanduser()\n",
    "output_path.parent.mkdir(exist_ok=True, parents=True)"
   ]
  },
  {
   "cell_type": "markdown",
   "id": "11a637be-a896-479d-94e6-e27e3cb4b28a",
   "metadata": {
    "papermill": {
     "duration": 0.003749,
     "end_time": "2024-02-28T19:59:05.730248",
     "exception": false,
     "start_time": "2024-02-28T19:59:05.726499",
     "status": "completed"
    },
    "tags": []
   },
   "source": [
    "# Prepare parameters; save config"
   ]
  },
  {
   "cell_type": "code",
   "execution_count": 5,
   "id": "bb4b699a-c203-4b6a-b3aa-80a1dbabef1f",
   "metadata": {
    "execution": {
     "iopub.execute_input": "2024-02-28T19:59:05.739610Z",
     "iopub.status.busy": "2024-02-28T19:59:05.739043Z",
     "iopub.status.idle": "2024-02-28T19:59:05.745747Z",
     "shell.execute_reply": "2024-02-28T19:59:05.744510Z"
    },
    "papermill": {
     "duration": 0.013423,
     "end_time": "2024-02-28T19:59:05.747349",
     "exception": false,
     "start_time": "2024-02-28T19:59:05.733926",
     "status": "completed"
    },
    "tags": []
   },
   "outputs": [
    {
     "name": "stdout",
     "output_type": "stream",
     "text": [
      "Processing 144 images\n"
     ]
    }
   ],
   "source": [
    "im_md5s = im_md5s.split(sep)\n",
    "print('Processing', len(im_md5s), 'images')"
   ]
  },
  {
   "cell_type": "code",
   "execution_count": 6,
   "id": "07d92c28-cad7-45ad-8c39-2a4afad63f33",
   "metadata": {
    "execution": {
     "iopub.execute_input": "2024-02-28T19:59:05.756732Z",
     "iopub.status.busy": "2024-02-28T19:59:05.756259Z",
     "iopub.status.idle": "2024-02-28T19:59:05.771959Z",
     "shell.execute_reply": "2024-02-28T19:59:05.770956Z"
    },
    "papermill": {
     "duration": 0.022961,
     "end_time": "2024-02-28T19:59:05.773872",
     "exception": false,
     "start_time": "2024-02-28T19:59:05.750911",
     "status": "completed"
    },
    "tags": []
   },
   "outputs": [
    {
     "name": "stdout",
     "output_type": "stream",
     "text": [
      "Patches step size: 0.5\n",
      "Number of patches: 35 x 35 (x-by-y)\n",
      "Patches (bin lower edge):\n",
      "(The coordinates in degrees are with origin at image center)\n",
      "x:\n",
      "\t[-9.5 -9.  -8.5 -8.  -7.5 -7.  -6.5 -6.  -5.5 -5.  -4.5 -4.  -3.5 -3.\n",
      "\t -2.5 -2.  -1.5 -1.  -0.5  0.   0.5  1.   1.5  2.   2.5  3.   3.5  4.\n",
      "\t  4.5  5.   5.5  6.   6.5  7.   7.5]\n",
      "y:\n",
      "\t[-9.5 -9.  -8.5 -8.  -7.5 -7.  -6.5 -6.  -5.5 -5.  -4.5 -4.  -3.5 -3.\n",
      "\t -2.5 -2.  -1.5 -1.  -0.5  0.   0.5  1.   1.5  2.   2.5  3.   3.5  4.\n",
      "\t  4.5  5.   5.5  6.   6.5  7.   7.5]\n"
     ]
    }
   ],
   "source": [
    "im_size = (im_w, im_h)\n",
    "ar_tol = min(ar_tol, 1/ar_tol)\n",
    "patch_step = float(patch_step)\n",
    "\n",
    "# interpret this as origin == lower left\n",
    "patches_ledge_x = np.arange(int(np.ceil(im_size[0]/patch_step))) * patch_step  # full and right partial patches\n",
    "patches_ledge_x = np.concatenate([\n",
    "    np.arange(-1, -int(np.ceil(patch_size/patch_step)), -1)[::-1] * patch_step,  # left partial patches\n",
    "    patches_ledge_x])\n",
    "patches_ledge_x -= im_size[0] / 2  # align to image center\n",
    "n_patches_x = len(patches_ledge_x)\n",
    "\n",
    "patches_ledge_y = np.arange(int(np.ceil(im_size[1]/patch_step))) * patch_step  # full and right partial patches\n",
    "patches_ledge_y = np.concatenate([\n",
    "    np.arange(-1, -int(np.ceil(patch_size/patch_step)), -1)[::-1] * patch_step,  # left partial patches\n",
    "    patches_ledge_y])\n",
    "patches_ledge_y -= im_size[1] / 2  # align to image center\n",
    "n_patches_y = len(patches_ledge_y)\n",
    "\n",
    "print('Patches step size:', patch_step)\n",
    "print(f'Number of patches: {n_patches_x} x {n_patches_y} (x-by-y)')\n",
    "print('Patches (bin lower edge):')\n",
    "print('(The coordinates in degrees are with origin at image center)')\n",
    "print('x:')\n",
    "print('\\t' + str(patches_ledge_x).replace('\\n', '\\n\\t'))\n",
    "print('y:')\n",
    "print('\\t' + str(patches_ledge_y).replace('\\n', '\\n\\t'))"
   ]
  },
  {
   "cell_type": "code",
   "execution_count": 7,
   "id": "213ad700-641e-43c5-aec2-89b23956a6c5",
   "metadata": {
    "execution": {
     "iopub.execute_input": "2024-02-28T19:59:05.785880Z",
     "iopub.status.busy": "2024-02-28T19:59:05.785441Z",
     "iopub.status.idle": "2024-02-28T19:59:05.791843Z",
     "shell.execute_reply": "2024-02-28T19:59:05.790646Z"
    },
    "papermill": {
     "duration": 0.014944,
     "end_time": "2024-02-28T19:59:05.793877",
     "exception": false,
     "start_time": "2024-02-28T19:59:05.778933",
     "status": "completed"
    },
    "tags": []
   },
   "outputs": [
    {
     "name": "stdout",
     "output_type": "stream",
     "text": [
      "Model input image size: 384\n"
     ]
    }
   ],
   "source": [
    "model_imsize = registry.get_default_preproc(model_name)['imsize']\n",
    "print('Model input image size:', model_imsize)"
   ]
  },
  {
   "cell_type": "code",
   "execution_count": 8,
   "id": "e3420d1f-cda1-4493-9202-0b59d9f0f3b8",
   "metadata": {
    "execution": {
     "iopub.execute_input": "2024-02-28T19:59:05.805296Z",
     "iopub.status.busy": "2024-02-28T19:59:05.804690Z",
     "iopub.status.idle": "2024-02-28T19:59:05.811267Z",
     "shell.execute_reply": "2024-02-28T19:59:05.810089Z"
    },
    "papermill": {
     "duration": 0.014587,
     "end_time": "2024-02-28T19:59:05.813366",
     "exception": false,
     "start_time": "2024-02-28T19:59:05.798779",
     "status": "completed"
    },
    "tags": []
   },
   "outputs": [],
   "source": [
    "tqdm_ = lambda x: tqdm(x, mininterval=300, miniters=10)  # to avoid bloated log file"
   ]
  },
  {
   "cell_type": "code",
   "execution_count": 9,
   "id": "da33ca34-2bb7-4c3b-ae05-e47f6ddbaeea",
   "metadata": {
    "execution": {
     "iopub.execute_input": "2024-02-28T19:59:05.824813Z",
     "iopub.status.busy": "2024-02-28T19:59:05.824334Z",
     "iopub.status.idle": "2024-02-28T19:59:05.830524Z",
     "shell.execute_reply": "2024-02-28T19:59:05.829208Z"
    },
    "papermill": {
     "duration": 0.014265,
     "end_time": "2024-02-28T19:59:05.832548",
     "exception": false,
     "start_time": "2024-02-28T19:59:05.818283",
     "status": "completed"
    },
    "tags": []
   },
   "outputs": [],
   "source": [
    "save_results, add_attr_to_dset, check_equals_saved, link_dsets, copy_group = \\\n",
    "    get_storage_functions(output_path)"
   ]
  },
  {
   "cell_type": "code",
   "execution_count": 10,
   "id": "45aeccaa-b760-4690-baf0-f6d3bc24af4f",
   "metadata": {
    "execution": {
     "iopub.execute_input": "2024-02-28T19:59:05.843855Z",
     "iopub.status.busy": "2024-02-28T19:59:05.843398Z",
     "iopub.status.idle": "2024-02-28T19:59:05.873493Z",
     "shell.execute_reply": "2024-02-28T19:59:05.872247Z"
    },
    "papermill": {
     "duration": 0.039512,
     "end_time": "2024-02-28T19:59:05.876847",
     "exception": false,
     "start_time": "2024-02-28T19:59:05.837335",
     "status": "completed"
    },
    "tags": []
   },
   "outputs": [],
   "source": [
    "save_results('config/stimuli/size_dva', im_size)\n",
    "\n",
    "group = 'config/patch_grid/'\n",
    "save_results(group+'size', patch_size)\n",
    "save_results(group+'step', patch_step)\n",
    "save_results(group+'eft_edges', patches_ledge_x)\n",
    "save_results(group+'right_edges', patches_ledge_x+patch_size)\n",
    "save_results(group+'lower_edges', patches_ledge_y)\n",
    "save_results(group+'upper_edges', patches_ledge_y+patch_size)\n",
    "save_results(group+'x_locs', patches_ledge_x+patch_size/2)\n",
    "save_results(group+'y_locs', patches_ledge_y+patch_size/2)\n",
    "\n",
    "group = 'config/modelling/'\n",
    "save_results(group+'model_name', model_name)\n",
    "save_results(group+'layer_name', layer_name)\n",
    "save_results(group+'input_image_size', model_imsize)\n",
    "save_results(group+'spatial_averaging', spatial_averaging)"
   ]
  },
  {
   "cell_type": "markdown",
   "id": "6a3d16a1-fff2-4f9f-8569-06f1fe82d2d3",
   "metadata": {
    "papermill": {
     "duration": 0.010366,
     "end_time": "2024-02-28T19:59:05.897822",
     "exception": false,
     "start_time": "2024-02-28T19:59:05.887456",
     "status": "completed"
    },
    "tags": []
   },
   "source": [
    "# Locate & load images"
   ]
  },
  {
   "cell_type": "code",
   "execution_count": 11,
   "id": "6c8893e1-0605-44f5-a160-e1b20593131e",
   "metadata": {
    "execution": {
     "iopub.execute_input": "2024-02-28T19:59:05.914022Z",
     "iopub.status.busy": "2024-02-28T19:59:05.913526Z",
     "iopub.status.idle": "2024-02-28T19:59:05.924169Z",
     "shell.execute_reply": "2024-02-28T19:59:05.922785Z"
    },
    "papermill": {
     "duration": 0.021139,
     "end_time": "2024-02-28T19:59:05.926602",
     "exception": false,
     "start_time": "2024-02-28T19:59:05.905463",
     "status": "completed"
    },
    "tags": []
   },
   "outputs": [],
   "source": [
    "done_md5s = None\n",
    "offset = 0\n",
    "if output_path.is_file():\n",
    "    with h5.File(output_path, 'r') as f:\n",
    "        try:\n",
    "            done_md5s = f['md5'][()].astype(str)\n",
    "            offset = len(done_md5s)\n",
    "        except KeyError:\n",
    "            pass\n",
    "\n",
    "if done_md5s is not None:\n",
    "    done_md5s = set(done_md5s)\n",
    "    print(len(done_md5s), 'images already done')\n",
    "    im_md5s = [v for v in im_md5s if v not in done_md5s]\n",
    "    print('Processing', len(im_md5s), 'remaining images')"
   ]
  },
  {
   "cell_type": "code",
   "execution_count": 12,
   "id": "a6466728-85a7-41c5-9c7f-294ce254083b",
   "metadata": {
    "execution": {
     "iopub.execute_input": "2024-02-28T19:59:05.942259Z",
     "iopub.status.busy": "2024-02-28T19:59:05.941779Z",
     "iopub.status.idle": "2024-02-28T19:59:07.831539Z",
     "shell.execute_reply": "2024-02-28T19:59:07.830337Z"
    },
    "papermill": {
     "duration": 1.900307,
     "end_time": "2024-02-28T19:59:07.833578",
     "exception": false,
     "start_time": "2024-02-28T19:59:05.933271",
     "status": "completed"
    },
    "tags": []
   },
   "outputs": [],
   "source": [
    "im_paths = [next(stim_dir.glob(md5+'.*')) for md5 in im_md5s]\n",
    "assert all(p.is_file() for p in im_paths)"
   ]
  },
  {
   "cell_type": "code",
   "execution_count": 13,
   "id": "3471d324-5fa4-464d-af17-4ad3bde5f89d",
   "metadata": {
    "execution": {
     "iopub.execute_input": "2024-02-28T19:59:07.846652Z",
     "iopub.status.busy": "2024-02-28T19:59:07.846445Z",
     "iopub.status.idle": "2024-02-28T19:59:08.881488Z",
     "shell.execute_reply": "2024-02-28T19:59:08.880326Z"
    },
    "papermill": {
     "duration": 1.046304,
     "end_time": "2024-02-28T19:59:08.882992",
     "exception": false,
     "start_time": "2024-02-28T19:59:07.836688",
     "status": "completed"
    },
    "tags": []
   },
   "outputs": [
    {
     "name": "stdout",
     "output_type": "stream",
     "text": [
      "Defined image aspect ratio: 1.00\n"
     ]
    },
    {
     "name": "stdout",
     "output_type": "stream",
     "text": [
      "Resizing effb5358523e8f69152fdc07ec04e0ad.jpg (size: (398, 405); AR = 0.98) to size (398, 398) (AR = 1.00)\n",
      "Resizing d817531aeede14c4995113e5d9d5bd09.jpg (size: (401, 412); AR = 0.97) to size (401, 401) (AR = 1.00)\n"
     ]
    },
    {
     "name": "stdout",
     "output_type": "stream",
     "text": [
      "Resizing 54db4ac69ceabf02a8331e1baefbcb59.jpg (size: (323, 400); AR = 0.81) to size (323, 323) (AR = 1.00)\n",
      "144 images\n"
     ]
    },
    {
     "data": {
      "text/plain": [
       "((144,), dtype('O'))"
      ]
     },
     "execution_count": 13,
     "metadata": {},
     "output_type": "execute_result"
    }
   ],
   "source": [
    "ar = im_size[0] / im_size[1]\n",
    "print(f'Defined image aspect ratio: {ar:.2f}')\n",
    "\n",
    "n_ims = len(im_paths)\n",
    "images = np.empty(n_ims, dtype=object)\n",
    "\n",
    "for iim, fp in enumerate(im_paths):\n",
    "    image = Image.open(fp)\n",
    "\n",
    "    # check image aspect ratio\n",
    "    ar_ = image.size[0] / image.size[1]\n",
    "    if not (0.99 < ar_/ar < 1.01):\n",
    "        if not (ar_tol < ar_/ar < 1/ar_tol):\n",
    "            warn(\n",
    "                f'image {fp.name} (size: {image.size}; AR = {ar_:.2f}) '\n",
    "                f'is very far from expected aspect ratio (size: {im_size}; AR = {ar:.2f} '\n",
    "                '(resizing it regardless, beceause it would have been presented at the '\n",
    "                'specified size)')\n",
    "\n",
    "        i = np.argmin(image.size[:2] / np.array(im_size))\n",
    "        if i == 0:\n",
    "            w = image.size[0]\n",
    "            h = int(round(w / ar))\n",
    "        else:\n",
    "            h = image.size[1]\n",
    "            w = int(round(h * ar))\n",
    "        print(f'Resizing {fp.name} (size: {image.size}; AR = {ar_:.2f}) to size {(h,w)} (AR = {w/h:.2f})')\n",
    "        image = np.array(image.resize((w, h)))\n",
    "    else:\n",
    "        image = np.array(image)\n",
    "\n",
    "    # make ims 8-bit RGB\n",
    "    assert image.dtype == np.uint8\n",
    "    if image.ndim == 3:\n",
    "        assert image.shape[-1] in (3,4)\n",
    "        if image.shape[-1] == 4:\n",
    "            image = image[:,:,:3]\n",
    "    else:\n",
    "        assert image.ndim == 2\n",
    "        image = np.repeat(image[:,:,None], 3, axis=-1)\n",
    "\n",
    "    images[iim] = image\n",
    "\n",
    "print(len(images), 'images')\n",
    "images.shape, images.dtype"
   ]
  },
  {
   "cell_type": "markdown",
   "id": "8b0e3f48-b7a4-4f5e-a786-a158af96a85b",
   "metadata": {
    "papermill": {
     "duration": 0.008568,
     "end_time": "2024-02-28T19:59:08.895049",
     "exception": false,
     "start_time": "2024-02-28T19:59:08.886481",
     "status": "completed"
    },
    "tags": []
   },
   "source": [
    "# Prepare model"
   ]
  },
  {
   "cell_type": "code",
   "execution_count": 14,
   "id": "8ab177d7-f3f9-44aa-b02c-3103367b1bcd",
   "metadata": {
    "execution": {
     "iopub.execute_input": "2024-02-28T19:59:08.904346Z",
     "iopub.status.busy": "2024-02-28T19:59:08.903316Z",
     "iopub.status.idle": "2024-02-28T19:59:14.642670Z",
     "shell.execute_reply": "2024-02-28T19:59:14.641755Z"
    },
    "papermill": {
     "duration": 5.747612,
     "end_time": "2024-02-28T19:59:14.645968",
     "exception": false,
     "start_time": "2024-02-28T19:59:08.898356",
     "status": "completed"
    },
    "tags": []
   },
   "outputs": [],
   "source": [
    "# when no images to process, save time by not loading model\n",
    "# (unfortunately, I do not know how to early-stop an ipynb from within itself)\n",
    "if len(im_md5s):\n",
    "\n",
    "    model = models.get_model_by_name(model_name, dev=device)\n",
    "    preprocessing_func = models.get_preprocessor_by_model_name(model_name, preproc_imsize=False, preproc_from='numpy')\n",
    "\n",
    "    class Embedder:\n",
    "        def __init__(\n",
    "                self, model=model, preproc_fun=preprocessing_func,\n",
    "                model_name=model_name, layer_names=layer_name,\n",
    "                spatial_averaging=spatial_averaging,\n",
    "                fwd_fun=None, device=device, pbar=tqdm_):\n",
    "\n",
    "            self.model = model\n",
    "            self.preproc_fun = preproc_fun\n",
    "            self.spatial_averaging = spatial_averaging\n",
    "            self.device = device\n",
    "            self.pbar = pbar\n",
    "\n",
    "            if isinstance(layer_names, str):\n",
    "                layer_names = (layer_names,)\n",
    "            else:\n",
    "                assert all(isinstance(n, str) for n in layer_names)\n",
    "            self.layer_names = layer_names\n",
    "\n",
    "            if fwd_fun is None:\n",
    "                if model_name is not None and 'CLIP' in model_name:\n",
    "                    fwd_fun = model.encode_image\n",
    "                else:\n",
    "                    fwd_fun = model.__call__\n",
    "            self.fwd_fun = fwd_fun\n",
    "\n",
    "            hooks = {}\n",
    "            hdls = {}\n",
    "            for n in layer_names:\n",
    "                hooks[n], hdls[n] = make_layer_hook(model, n, return_handle=True)\n",
    "            self.hooks = hooks\n",
    "            self.hdls = hdls\n",
    "\n",
    "        def extract_pooled_features(self, ims):\n",
    "            feats = {n: [] for n in self.layer_names}\n",
    "            with torch.no_grad():\n",
    "                for im in self.pbar(ims):\n",
    "                    tim = self.preproc_fun(im).unsqueeze(0).to(self.device)\n",
    "                    self.fwd_fun(tim)\n",
    "\n",
    "                    for n, hook in self.hooks.items():\n",
    "                        feats_ = recur_collapse_feats(hook.o, spatial_averaging=self.spatial_averaging)\n",
    "                        if not isinstance(feats_, torch.Tensor):\n",
    "                            raise ValueError(f'unexpected feature type {type(feats_)} at layer {n}: {feats_}')\n",
    "                        feats_ = feats_.cpu().numpy()\n",
    "                        feats[n].append(feats_)\n",
    "\n",
    "            return {n: np.array(v) for n, v in feats.items()}"
   ]
  },
  {
   "cell_type": "code",
   "execution_count": 15,
   "id": "06eecd0e-3a6a-46ef-92a6-11a233ab8d31",
   "metadata": {
    "execution": {
     "iopub.execute_input": "2024-02-28T19:59:14.667917Z",
     "iopub.status.busy": "2024-02-28T19:59:14.667437Z",
     "iopub.status.idle": "2024-02-28T19:59:15.485174Z",
     "shell.execute_reply": "2024-02-28T19:59:15.484632Z"
    },
    "papermill": {
     "duration": 0.832542,
     "end_time": "2024-02-28T19:59:15.489652",
     "exception": false,
     "start_time": "2024-02-28T19:59:14.657110",
     "status": "completed"
    },
    "tags": []
   },
   "outputs": [
    {
     "name": "stderr",
     "output_type": "stream",
     "text": [
      "\r",
      "100%|█████████████████████████████████████████████| 1/1 [00:00<00:00,  1.25it/s]"
     ]
    },
    {
     "name": "stdout",
     "output_type": "stream",
     "text": [
      "feats: (3072,) float32\n"
     ]
    },
    {
     "name": "stderr",
     "output_type": "stream",
     "text": [
      "\n"
     ]
    }
   ],
   "source": [
    "if len(im_md5s):\n",
    "    embedder = Embedder()\n",
    "    test_im = np.full((model_imsize, model_imsize, 3), bgc, dtype=np.uint8)\n",
    "\n",
    "    feats = embedder.extract_pooled_features([test_im])\n",
    "    feats = feats[layer_name][0]\n",
    "    print('feats:', feats.shape, feats.dtype)\n",
    "    sample_feats = feats\n",
    "    feats_shape = sample_feats.shape\n",
    "    save_results('config/modelling/pooled_feat_shape', sample_feats.shape)\n",
    "\n",
    "    with h5.File(output_path, 'a') as f:\n",
    "        if 'feats/bg' not in f:\n",
    "            save_results('feats/bg', sample_feats)"
   ]
  },
  {
   "cell_type": "markdown",
   "id": "f4521dd6-7ab0-4cdb-baea-5a8c31159c26",
   "metadata": {
    "papermill": {
     "duration": 0.008896,
     "end_time": "2024-02-28T19:59:15.502687",
     "exception": false,
     "start_time": "2024-02-28T19:59:15.493791",
     "status": "completed"
    },
    "tags": []
   },
   "source": [
    "# Initialize result storage"
   ]
  },
  {
   "cell_type": "code",
   "execution_count": 16,
   "id": "328aa2fb-3ab5-4598-a4a6-bda0a712de8d",
   "metadata": {
    "execution": {
     "iopub.execute_input": "2024-02-28T19:59:15.510350Z",
     "iopub.status.busy": "2024-02-28T19:59:15.510172Z",
     "iopub.status.idle": "2024-02-28T19:59:15.515567Z",
     "shell.execute_reply": "2024-02-28T19:59:15.514440Z"
    },
    "papermill": {
     "duration": 0.011031,
     "end_time": "2024-02-28T19:59:15.517025",
     "exception": false,
     "start_time": "2024-02-28T19:59:15.505994",
     "status": "completed"
    },
    "tags": []
   },
   "outputs": [],
   "source": [
    "def create_ignoring_existing(f, *args, attrs=None, **kwargs):\n",
    "    assert isinstance(args[0], str)\n",
    "    try:\n",
    "        dset = f.create_dataset(*args, **kwargs)\n",
    "        if attrs is not None:\n",
    "            assert isinstance(attrs, dict)\n",
    "            for k, v in attrs.items():\n",
    "                dset.attrs[k] = v\n",
    "    except ValueError as e:\n",
    "        if 'name already exists' not in str(e):\n",
    "            raise\n",
    "        dset = f[args[0]]\n",
    "        if attrs is not None:\n",
    "            assert isinstance(attrs, dict)\n",
    "            for k, v in attrs.items():\n",
    "                check_equals_saved(v, dset.attrs[k], k)"
   ]
  },
  {
   "cell_type": "code",
   "execution_count": 17,
   "id": "e7102240-51d1-4667-80a2-25666335b5bc",
   "metadata": {
    "execution": {
     "iopub.execute_input": "2024-02-28T19:59:15.526199Z",
     "iopub.status.busy": "2024-02-28T19:59:15.525411Z",
     "iopub.status.idle": "2024-02-28T19:59:15.539419Z",
     "shell.execute_reply": "2024-02-28T19:59:15.538146Z"
    },
    "papermill": {
     "duration": 0.020639,
     "end_time": "2024-02-28T19:59:15.541125",
     "exception": false,
     "start_time": "2024-02-28T19:59:15.520486",
     "status": "completed"
    },
    "tags": []
   },
   "outputs": [],
   "source": [
    "cache_opts = dict(compression='gzip', compression_opts=9)\n",
    "if len(im_md5s):\n",
    "    with h5.File(output_path, 'a') as f:\n",
    "        create_ignoring_existing(\n",
    "            f, 'md5',\n",
    "            shape=(0,),\n",
    "            maxshape=(None,),\n",
    "            chunks=(1,),\n",
    "            dtype='S32',\n",
    "            **cache_opts)\n",
    "\n",
    "        dims = np.array(['image', 'feat_chan'], dtype=bytes)\n",
    "        coords = np.array(['md5', 'feat_chans'], dtype=bytes)\n",
    "        create_ignoring_existing(\n",
    "            f, 'feats/full_image',\n",
    "            shape=(0,)+feats_shape,\n",
    "            maxshape=(None,)+feats_shape,\n",
    "            attrs=dict(dims=dims, coords=coords),\n",
    "            chunks=(1,)+feats_shape,\n",
    "            dtype=sample_feats.dtype,\n",
    "            **cache_opts)\n",
    "\n",
    "        dims = np.array(['image', 'rf_x', 'rf_y', 'feat_chan'], dtype=bytes)\n",
    "        coords = np.array(['md5', 'patch_locs', 'patch_locs', 'feat_chans'], dtype=bytes)\n",
    "        shape_ = (n_patches_x, n_patches_y,) + feats_shape\n",
    "        create_ignoring_existing(\n",
    "            f, 'feats/patch_grid',\n",
    "            shape=(0,)+shape_,\n",
    "            maxshape=(None,)+shape_,\n",
    "            attrs=dict(dims=dims, coords=coords),\n",
    "            chunks=(1,)+shape_,\n",
    "            dtype=sample_feats.dtype,\n",
    "            **cache_opts)"
   ]
  },
  {
   "cell_type": "markdown",
   "id": "0b6371e5-cbe9-40b7-90c4-27885b453cbd",
   "metadata": {
    "papermill": {
     "duration": 0.00467,
     "end_time": "2024-02-28T19:59:15.550517",
     "exception": false,
     "start_time": "2024-02-28T19:59:15.545847",
     "status": "completed"
    },
    "tags": []
   },
   "source": [
    "# Main loop"
   ]
  },
  {
   "cell_type": "code",
   "execution_count": 18,
   "id": "2a28e420-6029-4384-b629-30d9efc196f1",
   "metadata": {
    "execution": {
     "iopub.execute_input": "2024-02-28T19:59:15.560896Z",
     "iopub.status.busy": "2024-02-28T19:59:15.560544Z",
     "iopub.status.idle": "2024-02-28T19:59:15.565494Z",
     "shell.execute_reply": "2024-02-28T19:59:15.564969Z"
    },
    "papermill": {
     "duration": 0.014001,
     "end_time": "2024-02-28T19:59:15.568830",
     "exception": false,
     "start_time": "2024-02-28T19:59:15.554829",
     "status": "completed"
    },
    "tags": []
   },
   "outputs": [],
   "source": [
    "def get_image_patch(im, im_size_dva, patch_min_x_dva, patch_min_y_dva, wsize_dva, wsize_px, bgc=bgc):\n",
    "    assert isinstance(im, np.ndarray)# and im.shape[0] == im.shape[1]\n",
    "    assert isinstance(wsize_px, int)\n",
    "    map1 = np.arange(wsize_px)\n",
    "    map2 = map1.copy()\n",
    "    ppd = im.shape[0] / im_size_dva[0]\n",
    "    map1 = (\n",
    "        ppd * (map1+0.5) / wsize_px * wsize_dva\n",
    "        + ppd * (patch_min_x_dva + im_size_dva[0] / 2)\n",
    "    ).astype(np.float32)\n",
    "    ppd = im.shape[1] / im_size_dva[1]\n",
    "    map2 = (\n",
    "        ppd * (map2+0.5) / wsize_px * wsize_dva\n",
    "        + ppd * (-patch_min_y_dva -wsize_dva + im_size_dva[1] / 2)\n",
    "    ).astype(np.float32)\n",
    "    map1 = np.repeat(map1[None,:], wsize_px, 0)\n",
    "    map2 = np.repeat(map2[:,None], wsize_px, 1)\n",
    "    wim = cv2.remap(\n",
    "        im.astype(np.float32), map1, map2, interpolation=cv2.INTER_LINEAR,\n",
    "        borderMode=cv2.BORDER_CONSTANT, borderValue=bgc)\n",
    "    wim = np.round(wim).astype(np.uint8)\n",
    "    return wim"
   ]
  },
  {
   "cell_type": "code",
   "execution_count": 19,
   "id": "09056d21-0d4d-4b7c-b412-fc522ba09c62",
   "metadata": {
    "execution": {
     "iopub.execute_input": "2024-02-28T19:59:15.588809Z",
     "iopub.status.busy": "2024-02-28T19:59:15.588575Z",
     "iopub.status.idle": "2024-02-28T21:34:10.240950Z",
     "shell.execute_reply": "2024-02-28T21:34:10.240373Z"
    },
    "papermill": {
     "duration": 5694.680275,
     "end_time": "2024-02-28T21:34:10.260278",
     "exception": false,
     "start_time": "2024-02-28T19:59:15.580003",
     "status": "completed"
    },
    "tags": []
   },
   "outputs": [
    {
     "name": "stderr",
     "output_type": "stream",
     "text": [
      "\r",
      "100%|███████████████████████████████████████| 144/144 [1:34:54<00:00, 39.55s/it]"
     ]
    },
    {
     "name": "stderr",
     "output_type": "stream",
     "text": [
      "\n"
     ]
    }
   ],
   "source": [
    "embedder.pbar = iter  # to avoid bilayer tqdm\n",
    "for iim, (im, md5) in enumerate(zip(tqdm_(images), im_md5s)):\n",
    "    i_ = offset + iim\n",
    "\n",
    "    # full image feats\n",
    "    im_ = np.array(Image.fromarray(im).resize((model_imsize, model_imsize)))\n",
    "    feats_ = embedder.extract_pooled_features([im_])\n",
    "    feats = feats_[layer_name][0]\n",
    "\n",
    "    with h5.File(output_path, 'a') as f:\n",
    "        dset = f['feats/full_image']\n",
    "        if dset.shape[0] < i_ + 1:\n",
    "            dset.resize(i_+1, axis=0)\n",
    "        dset[i_] = feats\n",
    "\n",
    "    # patch grid feats\n",
    "    featss = []\n",
    "\n",
    "    for ix, x0 in enumerate(patches_ledge_x):\n",
    "        featss.append([])\n",
    "\n",
    "        for iy, y0 in enumerate(patches_ledge_y):\n",
    "            wim = get_image_patch(im, im_size, x0, y0, patch_size, model_imsize)\n",
    "            feats_ = embedder.extract_pooled_features([wim])\n",
    "            feats = feats_[layer_name][0]\n",
    "            featss[-1].append(feats)\n",
    "\n",
    "    featss = np.array(featss)\n",
    "\n",
    "    with h5.File(output_path, 'a') as f:\n",
    "        dset = f['feats/patch_grid']\n",
    "        if dset.shape[0] < i_ + 1:\n",
    "            dset.resize(i_+1, axis=0)\n",
    "        dset[i_] = featss\n",
    "\n",
    "        dset = f['md5']\n",
    "        if dset.shape[0] < i_ + 1:\n",
    "            dset.resize(i_+1, axis=0)\n",
    "        dset[i_] = md5"
   ]
  },
  {
   "cell_type": "markdown",
   "id": "0471dc41-c4b7-4066-bd3f-5f49f5677356",
   "metadata": {
    "papermill": {
     "duration": 0.009125,
     "end_time": "2024-02-28T21:34:10.283328",
     "exception": false,
     "start_time": "2024-02-28T21:34:10.274203",
     "status": "completed"
    },
    "tags": []
   },
   "source": [
    "# Wrap up"
   ]
  },
  {
   "cell_type": "code",
   "execution_count": 20,
   "id": "31c09cf0-a0e4-45ae-9b50-00864abe86b1",
   "metadata": {
    "execution": {
     "iopub.execute_input": "2024-02-28T21:34:10.298000Z",
     "iopub.status.busy": "2024-02-28T21:34:10.296869Z",
     "iopub.status.idle": "2024-02-28T21:34:10.346470Z",
     "shell.execute_reply": "2024-02-28T21:34:10.344840Z"
    },
    "papermill": {
     "duration": 0.06002,
     "end_time": "2024-02-28T21:34:10.349671",
     "exception": false,
     "start_time": "2024-02-28T21:34:10.289651",
     "status": "completed"
    },
    "tags": []
   },
   "outputs": [
    {
     "name": "stdout",
     "output_type": "stream",
     "text": [
      "Last updated: 2024-02-28T16:34:10.309801-05:00\n",
      "\n",
      "Python implementation: CPython\n",
      "Python version       : 3.10.12\n",
      "IPython version      : 8.12.0\n",
      "\n",
      "Compiler    : GCC 11.4.0\n",
      "OS          : Linux\n",
      "Release     : 5.15.0-97-generic\n",
      "Machine     : x86_64\n",
      "Processor   : x86_64\n",
      "CPU cores   : 20\n",
      "Architecture: 64bit\n",
      "\n",
      "Python implementation: CPython\n",
      "Python version       : 3.10.12\n",
      "IPython version      : 8.12.0\n",
      "\n",
      "Compiler    : GCC 11.4.0\n",
      "OS          : Linux\n",
      "Release     : 5.15.0-97-generic\n",
      "Machine     : x86_64\n",
      "Processor   : x86_64\n",
      "CPU cores   : 20\n",
      "Architecture: 64bit\n",
      "\n",
      "Git hash: 06b6b5e005b560a11dd64bd4e535c8a2dc44f773\n",
      "\n",
      "Git repo: https://github.com/willwx/free_viewing_staging.git\n",
      "\n",
      "Git branch: master\n",
      "\n",
      "numpy: 1.24.3\n",
      "cv2  : 4.7.0\n",
      "torch: 2.0.1\n",
      "h5py : 3.8.0\n",
      "PIL  : 9.5.0\n",
      "sys  : 3.10.12 (main, Nov 20 2023, 15:14:05) [GCC 11.4.0]\n",
      "\n"
     ]
    }
   ],
   "source": [
    "%load_ext watermark\n",
    "%watermark\n",
    "%watermark -vm --iversions -rbg"
   ]
  }
 ],
 "metadata": {
  "kernelspec": {
   "display_name": "Python 3 (ipykernel)",
   "language": "python",
   "name": "python3"
  },
  "language_info": {
   "codemirror_mode": {
    "name": "ipython",
    "version": 3
   },
   "file_extension": ".py",
   "mimetype": "text/x-python",
   "name": "python",
   "nbconvert_exporter": "python",
   "pygments_lexer": "ipython3",
   "version": "3.10.12"
  },
  "papermill": {
   "default_parameters": {},
   "duration": 5707.978381,
   "end_time": "2024-02-28T21:34:11.199277",
   "environment_variables": {},
   "exception": null,
   "input_path": "script_cache_stim_grid_repr.ipynb",
   "output_path": "/home/will/Data/free_viewing/Cache/feats/vit_large_patch16_384/blocks.13.attn.qkv/log/script_cache_stim_grid_repr-16.0x16.0_as_2x2_in_0.50_steps-Pa210120.ipynb",
   "parameters": {
    "device": "cuda:0",
    "im_h": 16.0,
    "im_md5s": "d832ddba1a68ed403d909f671c9096c3,9aede2ee5dd71134c6ce85a4ccb1de00,ed3690df12e821a98c60cb3f1366eb76,c554811739d11e14e8964e80a41c1876,67f61cf36b10ede882a1fd839ef6a631,f8dcd0868cd4c5aa30078a0d3832bdad,819e4e1407d427e68143f59411e9e055,27cf8fbabe43ea4ec749625cc7daf740,579c7e77160cf6203e8487c66e5f1a34,4b342e870cfb72b5e9f8492394512afb,713ef1e1d00b25d91f4c941d955bafde,3de18c3692e42ec95a2facb20e62fa7f,4aedcacb369fad7a860e14df968fb829,80a9dc8a38fb405a4f2b51aa61de0638,b21a53538ef350ce20ac8af512f6bfc6,8faee146dfb8774847f87d3efb55964c,871338f95474804fe20b2c7d55fc98a2,bcabddd3487228d0b045cfb9a8a048bd,672777e7e0b7e8f3a6803be56d58c887,aa5a88070e1e6da00f2d6a08faa57160,9deaaec1a87bc37a3ddcae03662060ff,c5d1d1603734cb398cd4a12307ff95b9,d3ff2f85446ca5822fb190c0fb2a407f,070a8131161279a5c873adc632fe76ea,013a5a63a2697ee7a4c5b54b21326a75,972c0100ad8f4ba4e41649541ce5849b,35f4d47a009bceaf16bbde1dd62d0444,366fb89beb7ad40885a071c62c715850,1b55e043880c89a9b48168c19da562a5,7d2b0b12c27fa9dd436f6bd23381458d,150a8f24120700b2dce7c4ffeb1f3135,f7593bf9adc31e34c2e10681d1108590,78d28d99674b95dc610bd26c15d13976,6a9282a1cb283cf446eba6b22bea1c7f,301b16b0815c4095e70180b4fccee749,c32a5eec2e8b948aaff59037aed9b827,90990756b041549dac801f3aae2cbfc7,6508762d46ea20481e2c141ae1f5ec13,437264ee010db6260990a332fe9245c6,2295cb3803e575eec763cb4a5cff3bc1,46fa493c48388613701546571e8fe768,69d26d03a7af769999988a82eb08f5ac,cce51db01919f2add04b9b742303bab1,4a7763bd757e47df7a5f3a4ba372a288,f7021463509712221b729695b33dd437,725a825f362893169ec8a4df5bfefb3f,ed322f2d287d92dfef2a5e0c66b1371b,b0ca0c2dd42e43c1c5196ffc6aaf8cc7,fd01a223b2089b8d82654f21c63f2835,b1416beddbab3a4a369a579a4f9398a0,57d64742615f4e297cdd506032fecd90,5e106b513ba775f9c104b5a6ac937bfb,d3c89c954d09e653ce8e5d483aafd3a2,546e584a3df212645aad1037f827c0b4,9b1191bf2ab7967f6a064dc4e7d113be,71bf8d48aeb8bf379368164dd137051e,3678df9e3126fd5d6930e1ad21fdc118,4d987592ec68e97580b078955a352365,391fea5e4fbaf90fb3a9f66663790fd6,0458f647680026908491d97f65103689,a80e4aaa9bc840d1c96607e2e29e3cd5,39021618861746763d07246daaae53bb,e533692c90bb7e4fc499ed14273102b4,00aaec16b3bbec32345ac519f7997b5f,f2e58c1695aa1418c96f1b63e31f0b2d,8b45cbbf8743b6af3adf6ff114368120,d843c46ae7adb11fbec3fd03d576d1b2,2891e4cc65acfd881975519a2f44ebb2,f97c52951bc252cf49fd252c36d4a24a,7b088317e80665c38ba04ebd1a3d341e,a4155bd41a4be35045dea65ba66a4a10,96afa87271eb7e650b9db7d478f1c4d5,1b3beeb96c18384fe9b5252bae5faa32,850e9b1b71cf4eac24ac1b6b82f674b9,4a5bd3dd051ddee71684210675ce8cd4,6d9aa3eaac8fe79859c14654dc9bcaaf,6c5aa4af7fe9efef8768686222a20d6a,7fb07e84978df3176d48ad708e03f272,e70747d0b957db51774f32461903f778,bd2405aeb469d25def3f9516aca8fe82,effb5358523e8f69152fdc07ec04e0ad,d817531aeede14c4995113e5d9d5bd09,a342e6ce79480260712c2df6883cf8ce,54cc63ceaddece4bb4c5ba7d5508177f,1538372f799a5baa48771d5800b36533,4518750062c949110fa1c705de6a2fc5,030c1e8b0a0a6d11ec6181c886831e18,3bb4125546ff6817fc3350972559a2a3,9329b0722674e16c2d251a563d1d7db2,2debf1a5f97191af218dc02308bfff24,252be332b55165b88f5018e0f16551a1,b042d14f2b5192dc7dfb8ff09968682f,4ce117a206b5c1bb9dde77bac3eec37f,8c11c5bf6da7bb99a419e28c55918b67,28d3fdffaa4e10289c00ffff3d7af6df,0f57e5a716cd8e420093c0ffeb4e5edd,bc1302ffba50e0bf354f27d52b86f163,ffbeef2b507d2c9bc102262721650489,bb9c78a8b4e8667cacce3b4161dc814d,d033ee475b3d839d7b2b626407d21047,bc46578612b260853194eec10933a06f,f0e31045d10beed78d179bac09536608,ca2cd6a98eee9855ec667c2b7778f9b1,7033f7f39d3c9a195fbb0f8eead59fc3,a2710e0c72b61388811552d81293c451,fc1997228fe2e50bfd6c58e53d0ecee7,1c7f44b5c1df984dddcde5b04c908f15,4958ca9258b213f709e7130330979b49,7987577c8850e7ad15b88ce80fddd600,afd44d8a854b54de501d007e3fc0bbe5,68a309d97b6ddb61eeeeed3043e0f019,3d6fcb3ba0b641b98ba371fc977efc5d,b5bf8c9bd58028fe29e77926aa2978df,1907ff5860356cbedf475b971b6c2f3c,b89836ead826c1756950b7f672e7765d,cb93f1eb3f20fc2329353a64f45ab4e7,bd590b6cf3d816083abec58d7cc5fd94,b2da629dc01ed9d58f53b2912cefe9d7,338b87a9501b76524a764ee8b695e4bb,1802ef3a875a45a6db82dd9d53f04ad4,9925f5d1990c68c709c441921107d892,f2f90d39178f7da54e9be08b13cc12e2,3059ac398c66aba21d325ec70c916b20,8847df2b3aba1250b20bbe3fbcbf8de3,55ee791b7db2fadff8a1ed824ecc1bea,55a118680cb597f6b1de98902d4bb6e7,604dddeccb0f5d6d779c3b5c6965d419,d43d17a8f9a71d6eb3f2c13465c43a88,236d0ef8a2c476b9186cb4cebc157ff9,f08b3ac353d562dd772c8804174a9d77,397c2377811fd8fb95169ab56d1bb7da,ffe891e25df7ece31fe88948775066d3,a8aed751afe9b65ddaf3c5c998ba41cf,1b82574d59f72fe1baa8aed9e732b36a,b73046a711fe40012f7660207e1794c1,0dcaa79e72c5e482c786b2639f3bc1b6,54db4ac69ceabf02a8331e1baefbcb59,65d8f218b774e5c7b16a683340a1644e,55633e1fc1432eadd443a55d5f5f4714,7c5ea0550dd55306d0d5d767fae609f0,fb0549a9b76943801f04429302417b61,235d5cbf28c7b702210e9e3a6e92b44f,1efb4d116f8e1bc0b9211f7380e65e78,52d57238fec2509d237381cb02f04020",
    "im_w": 16.0,
    "layer_name": "blocks.13.attn.qkv",
    "model_name": "vit_large_patch16_384",
    "patch_size": 2,
    "patch_step": 0.5,
    "sep": ",",
    "spatial_averaging": true
   },
   "start_time": "2024-02-28T19:59:03.220896",
   "version": "2.5.0"
  }
 },
 "nbformat": 4,
 "nbformat_minor": 5
}